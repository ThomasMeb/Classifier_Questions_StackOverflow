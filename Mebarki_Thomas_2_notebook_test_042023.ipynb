{
 "cells": [
  {
   "cell_type": "code",
   "execution_count": 1,
   "metadata": {},
   "outputs": [],
   "source": [
    "import pandas as pd\n",
    "pd.options.display.max_columns=200\n",
    "import numpy as np\n",
    "import matplotlib.pyplot as plt\n",
    "import seaborn as sns\n",
    "import warnings\n",
    "warnings.filterwarnings('ignore')\n",
    "%matplotlib inline\n",
    "from sklearn.pipeline import make_pipeline\n",
    "import bs4 as bs\n",
    "import nltk\n",
    "from nltk.corpus import stopwords, words\n",
    "from nltk.stem import WordNetLemmatizer, PorterStemmer\n",
    "from nltk.tokenize import word_tokenize, wordpunct_tokenize, RegexpTokenizer\n",
    "from wordcloud import WordCloud\n",
    "from PIL import Image\n",
    "from pandarallel import pandarallel\n",
    "import re"
   ]
  },
  {
   "cell_type": "code",
   "execution_count": 2,
   "metadata": {},
   "outputs": [
    {
     "name": "stderr",
     "output_type": "stream",
     "text": [
      "2023-05-02 12:23:59.401369: I tensorflow/core/util/port.cc:110] oneDNN custom operations are on. You may see slightly different numerical results due to floating-point round-off errors from different computation orders. To turn them off, set the environment variable `TF_ENABLE_ONEDNN_OPTS=0`.\n",
      "2023-05-02 12:23:59.530846: I tensorflow/core/platform/cpu_feature_guard.cc:182] This TensorFlow binary is optimized to use available CPU instructions in performance-critical operations.\n",
      "To enable the following instructions: AVX2 AVX_VNNI FMA, in other operations, rebuild TensorFlow with the appropriate compiler flags.\n",
      "2023-05-02 12:23:59.996748: W tensorflow/compiler/tf2tensorrt/utils/py_utils.cc:38] TF-TRT Warning: Could not find TensorRT\n",
      "2023-05-02 12:24:00.320597: I tensorflow/compiler/xla/stream_executor/cuda/cuda_gpu_executor.cc:996] successful NUMA node read from SysFS had negative value (-1), but there must be at least one NUMA node, so returning NUMA node zero. See more at https://github.com/torvalds/linux/blob/v6.0/Documentation/ABI/testing/sysfs-bus-pci#L344-L355\n",
      "2023-05-02 12:24:00.392881: I tensorflow/compiler/xla/stream_executor/cuda/cuda_gpu_executor.cc:996] successful NUMA node read from SysFS had negative value (-1), but there must be at least one NUMA node, so returning NUMA node zero. See more at https://github.com/torvalds/linux/blob/v6.0/Documentation/ABI/testing/sysfs-bus-pci#L344-L355\n",
      "2023-05-02 12:24:00.392972: I tensorflow/compiler/xla/stream_executor/cuda/cuda_gpu_executor.cc:996] successful NUMA node read from SysFS had negative value (-1), but there must be at least one NUMA node, so returning NUMA node zero. See more at https://github.com/torvalds/linux/blob/v6.0/Documentation/ABI/testing/sysfs-bus-pci#L344-L355\n"
     ]
    }
   ],
   "source": [
    "#Gensim\n",
    "import gensim\n",
    "import gensim.corpora as corpora\n",
    "from gensim.utils import simple_preprocess\n",
    "from gensim.models import CoherenceModel\n",
    "\n",
    "import glob\n",
    "\n",
    "\n",
    "#spacy\n",
    "import spacy\n",
    "from nltk.corpus import stopwords\n",
    "\n",
    "#vis\n",
    "import pyLDAvis\n",
    "import pyLDAvis.gensim"
   ]
  },
  {
   "cell_type": "code",
   "execution_count": 3,
   "metadata": {},
   "outputs": [],
   "source": [
    "data_bow = pd.read_csv('data/data_bow.csv')"
   ]
  },
  {
   "cell_type": "code",
   "execution_count": 4,
   "metadata": {},
   "outputs": [
    {
     "data": {
      "text/html": [
       "<div>\n",
       "<style scoped>\n",
       "    .dataframe tbody tr th:only-of-type {\n",
       "        vertical-align: middle;\n",
       "    }\n",
       "\n",
       "    .dataframe tbody tr th {\n",
       "        vertical-align: top;\n",
       "    }\n",
       "\n",
       "    .dataframe thead th {\n",
       "        text-align: right;\n",
       "    }\n",
       "</style>\n",
       "<table border=\"1\" class=\"dataframe\">\n",
       "  <thead>\n",
       "    <tr style=\"text-align: right;\">\n",
       "      <th></th>\n",
       "      <th>Id</th>\n",
       "      <th>Body</th>\n",
       "      <th>Title</th>\n",
       "      <th>Tags</th>\n",
       "      <th>text</th>\n",
       "    </tr>\n",
       "  </thead>\n",
       "  <tbody>\n",
       "    <tr>\n",
       "      <th>0</th>\n",
       "      <td>40101130</td>\n",
       "      <td>consider pd.series import panda import numpy n...</td>\n",
       "      <td>calculate rolling idxmax</td>\n",
       "      <td>['python', 'pandas', 'numpy', 'dataframe', 'se...</td>\n",
       "      <td>calculate rolling idxmax    consider pd.series...</td>\n",
       "    </tr>\n",
       "    <tr>\n",
       "      <th>1</th>\n",
       "      <td>662383</td>\n",
       "      <td>'ve using time substring str_col patindex str_...</td>\n",
       "      <td>better technique trimming leading zero sql server</td>\n",
       "      <td>['sql', 'sql-server', 'sql-server-2005', 'tsql...</td>\n",
       "      <td>better technique trimming leading zero sql ser...</td>\n",
       "    </tr>\n",
       "    <tr>\n",
       "      <th>2</th>\n",
       "      <td>662421</td>\n",
       "      <td>trying install java application linux machine ...</td>\n",
       "      <td>x11 display variable mean</td>\n",
       "      <td>['java', 'linux', 'variables', 'x11', 'headless']</td>\n",
       "      <td>x11 display variable mean    trying install ja...</td>\n",
       "    </tr>\n",
       "    <tr>\n",
       "      <th>3</th>\n",
       "      <td>3520133</td>\n",
       "      <td>library allows easily conveniently create obje...</td>\n",
       "      <td>object oriented callback</td>\n",
       "      <td>['c++', 'oop', 'callback', 'pointer-to-member'...</td>\n",
       "      <td>object oriented callback    library allows eas...</td>\n",
       "    </tr>\n",
       "    <tr>\n",
       "      <th>4</th>\n",
       "      <td>1396164</td>\n",
       "      <td>edit whole question unclear want use openssl.n...</td>\n",
       "      <td>why n't .net find openssl.net dll</td>\n",
       "      <td>['c#', '.net', 'dll', 'dllimport', 'dllnotfoun...</td>\n",
       "      <td>why n't .net find openssl.net dll    edit whol...</td>\n",
       "    </tr>\n",
       "  </tbody>\n",
       "</table>\n",
       "</div>"
      ],
      "text/plain": [
       "         Id                                               Body  \\\n",
       "0  40101130  consider pd.series import panda import numpy n...   \n",
       "1    662383  've using time substring str_col patindex str_...   \n",
       "2    662421  trying install java application linux machine ...   \n",
       "3   3520133  library allows easily conveniently create obje...   \n",
       "4   1396164  edit whole question unclear want use openssl.n...   \n",
       "\n",
       "                                               Title  \\\n",
       "0                           calculate rolling idxmax   \n",
       "1  better technique trimming leading zero sql server   \n",
       "2                          x11 display variable mean   \n",
       "3                           object oriented callback   \n",
       "4                  why n't .net find openssl.net dll   \n",
       "\n",
       "                                                Tags  \\\n",
       "0  ['python', 'pandas', 'numpy', 'dataframe', 'se...   \n",
       "1  ['sql', 'sql-server', 'sql-server-2005', 'tsql...   \n",
       "2  ['java', 'linux', 'variables', 'x11', 'headless']   \n",
       "3  ['c++', 'oop', 'callback', 'pointer-to-member'...   \n",
       "4  ['c#', '.net', 'dll', 'dllimport', 'dllnotfoun...   \n",
       "\n",
       "                                                text  \n",
       "0  calculate rolling idxmax    consider pd.series...  \n",
       "1  better technique trimming leading zero sql ser...  \n",
       "2  x11 display variable mean    trying install ja...  \n",
       "3  object oriented callback    library allows eas...  \n",
       "4  why n't .net find openssl.net dll    edit whol...  "
      ]
     },
     "execution_count": 4,
     "metadata": {},
     "output_type": "execute_result"
    }
   ],
   "source": [
    "data_bow.head()"
   ]
  },
  {
   "cell_type": "code",
   "execution_count": null,
   "metadata": {},
   "outputs": [],
   "source": []
  },
  {
   "cell_type": "code",
   "execution_count": 5,
   "metadata": {},
   "outputs": [
    {
     "data": {
      "text/plain": [
       "0          [python, pandas, numpy, dataframe, series]\n",
       "1    [sql, sql-server, sql-server-2005, tsql, string]\n",
       "2             [java, linux, variables, x11, headless]\n",
       "3     [c++, oop, callback, pointer-to-member, eiffel]\n",
       "4    [c#, .net, dll, dllimport, dllnotfoundexception]\n",
       "Name: Tags, dtype: object"
      ]
     },
     "execution_count": 5,
     "metadata": {},
     "output_type": "execute_result"
    }
   ],
   "source": [
    "import ast\n",
    "\n",
    "# Transformer les chaînes de caractères en listes de tags\n",
    "data_bow['Tags'] = data_bow['Tags'].apply(lambda x: ast.literal_eval(x))\n",
    "data_bow['Tags'].head()"
   ]
  },
  {
   "cell_type": "code",
   "execution_count": null,
   "metadata": {},
   "outputs": [],
   "source": []
  },
  {
   "cell_type": "code",
   "execution_count": null,
   "metadata": {},
   "outputs": [],
   "source": []
  },
  {
   "cell_type": "code",
   "execution_count": 6,
   "metadata": {},
   "outputs": [],
   "source": [
    "#Split the data into train and test\n",
    "from sklearn.model_selection import train_test_split\n",
    "\n",
    "X_train, X_test, y_train, y_test = train_test_split(data_bow[['Title','Body','text']], data_bow[['Tags']], test_size=0.2, random_state=42)"
   ]
  },
  {
   "cell_type": "code",
   "execution_count": null,
   "metadata": {},
   "outputs": [],
   "source": []
  },
  {
   "cell_type": "code",
   "execution_count": 7,
   "metadata": {},
   "outputs": [],
   "source": [
    "# création du bag of words (CountVectorizer et Tf-idf)\n",
    "\n",
    "from sklearn.feature_extraction.text import CountVectorizer, TfidfVectorizer\n",
    "\n",
    "cvect = CountVectorizer(stop_words='english', max_df=0.9, min_df=2)\n",
    "ctf = TfidfVectorizer(stop_words='english', max_df=0.9, min_df=2)\n",
    "\n",
    "cv_fit = cvect.fit(X_train['Title'])\n",
    "ctf_fit = ctf.fit(X_train['Title'])\n",
    "\n",
    "cv_transform_title = cv_fit.transform(X_train['Title'])\n",
    "ctf_transform_title = ctf.transform(X_train['Title'])\n",
    "\n",
    "cv_transform_text = cvect.transform(X_train['text'])\n",
    "ctf_transform_text = ctf.transform(X_train['text'])"
   ]
  },
  {
   "cell_type": "code",
   "execution_count": 8,
   "metadata": {},
   "outputs": [
    {
     "data": {
      "text/plain": [
       "((40000, 9073), (40000, 9073))"
      ]
     },
     "execution_count": 8,
     "metadata": {},
     "output_type": "execute_result"
    }
   ],
   "source": [
    "cv_transform_title.shape, ctf_transform_title.shape"
   ]
  },
  {
   "cell_type": "code",
   "execution_count": 9,
   "metadata": {},
   "outputs": [
    {
     "data": {
      "text/plain": [
       "((40000, 9073), (40000, 9073))"
      ]
     },
     "execution_count": 9,
     "metadata": {},
     "output_type": "execute_result"
    }
   ],
   "source": [
    "cv_transform_text.shape, ctf_transform_text.shape"
   ]
  },
  {
   "cell_type": "code",
   "execution_count": 10,
   "metadata": {},
   "outputs": [
    {
     "data": {
      "text/plain": [
       "scipy.sparse._csr.csr_matrix"
      ]
     },
     "execution_count": 10,
     "metadata": {},
     "output_type": "execute_result"
    }
   ],
   "source": [
    "#type of cv_transform_title\n",
    "type(cv_transform_title)"
   ]
  },
  {
   "cell_type": "code",
   "execution_count": 11,
   "metadata": {},
   "outputs": [
    {
     "data": {
      "text/plain": [
       "6209"
      ]
     },
     "execution_count": 11,
     "metadata": {},
     "output_type": "execute_result"
    }
   ],
   "source": [
    "cv_fit.vocabulary_.get('python')"
   ]
  },
  {
   "cell_type": "code",
   "execution_count": 12,
   "metadata": {},
   "outputs": [
    {
     "data": {
      "text/plain": [
       "[('using', 3088),\n",
       " ('file', 2062),\n",
       " ('use', 1531),\n",
       " ('error', 1483),\n",
       " ('net', 1477),\n",
       " ('android', 1367),\n",
       " ('java', 1296),\n",
       " ('python', 1279),\n",
       " ('data', 1051),\n",
       " ('window', 987)]"
      ]
     },
     "execution_count": 12,
     "metadata": {},
     "output_type": "execute_result"
    }
   ],
   "source": [
    "#Classement des mots les plus fréquents\n",
    "\n",
    "cv_sum = cv_transform_title.sum(axis=0)\n",
    "cv_words_freq = [(word, cv_sum[0, idx]) for word, idx in cv_fit.vocabulary_.items()]\n",
    "cv_words_freq =sorted(cv_words_freq, key = lambda x: x[1], reverse=True)\n",
    "cv_words_freq[:10]"
   ]
  },
  {
   "cell_type": "code",
   "execution_count": null,
   "metadata": {},
   "outputs": [],
   "source": []
  },
  {
   "cell_type": "code",
   "execution_count": 13,
   "metadata": {},
   "outputs": [
    {
     "data": {
      "text/plain": [
       "\"def gen_words(texts):\\n    final = []\\n    for text in texts:\\n        new = gensim.utils.simple_preprocess(text, deacc=True)\\n        final.append(new)\\n    return (final)\\n\\ndata_words_titles = gen_words(X_train['Title'])\\n\\nprint (data_words_titles[0:5])\""
      ]
     },
     "execution_count": 13,
     "metadata": {},
     "output_type": "execute_result"
    }
   ],
   "source": [
    "\"\"\"def gen_words(texts):\n",
    "    final = []\n",
    "    for text in texts:\n",
    "        new = gensim.utils.simple_preprocess(text, deacc=True)\n",
    "        final.append(new)\n",
    "    return (final)\n",
    "\n",
    "data_words_titles = gen_words(X_train['Title'])\n",
    "\n",
    "print (data_words_titles[0:5])\"\"\""
   ]
  },
  {
   "cell_type": "code",
   "execution_count": 14,
   "metadata": {},
   "outputs": [
    {
     "data": {
      "text/plain": [
       "\"data_words = gen_words(X_train['text'])\\nprint (data_words[0][0:20])\""
      ]
     },
     "execution_count": 14,
     "metadata": {},
     "output_type": "execute_result"
    }
   ],
   "source": [
    "\"\"\"data_words = gen_words(X_train['text'])\n",
    "print (data_words[0][0:20])\"\"\""
   ]
  },
  {
   "cell_type": "code",
   "execution_count": null,
   "metadata": {},
   "outputs": [],
   "source": []
  },
  {
   "cell_type": "code",
   "execution_count": null,
   "metadata": {},
   "outputs": [],
   "source": []
  },
  {
   "cell_type": "code",
   "execution_count": null,
   "metadata": {},
   "outputs": [],
   "source": []
  },
  {
   "cell_type": "code",
   "execution_count": 15,
   "metadata": {},
   "outputs": [],
   "source": [
    "from gensim.matutils import Sparse2Corpus\n",
    "\n",
    "gensim_corpus_title_cv = Sparse2Corpus(cv_transform_title, documents_columns=False)\n",
    "gensim_corpus_text_cv = Sparse2Corpus(cv_transform_text, documents_columns=False)\n",
    "gensim_corpus_title_ctf = Sparse2Corpus(ctf_transform_title, documents_columns=False)\n",
    "gensim_corpus_text_ctf = Sparse2Corpus(ctf_transform_text, documents_columns=False)"
   ]
  },
  {
   "cell_type": "code",
   "execution_count": 16,
   "metadata": {},
   "outputs": [],
   "source": [
    "id2word_title_cv = {v: k for k, v in cv_fit.vocabulary_.items()}\n",
    "id2word_title_cv = gensim.corpora.Dictionary.from_corpus(gensim_corpus_title_cv, id2word=id2word_title_cv)\n",
    "\n",
    "id2word_text_cv = {v: k for k, v in cv_fit.vocabulary_.items()}\n",
    "id2word_text_cv = gensim.corpora.Dictionary.from_corpus(gensim_corpus_text_cv, id2word=id2word_text_cv)\n",
    "\n",
    "id2word_title_ctf = {v: k for k, v in ctf_fit.vocabulary_.items()}\n",
    "id2word_title_ctf = gensim.corpora.Dictionary.from_corpus(gensim_corpus_title_ctf, id2word=id2word_title_ctf)\n",
    "\n",
    "id2word_text_ctf = {v: k for k, v in ctf_fit.vocabulary_.items()}\n",
    "id2word_text_ctf = gensim.corpora.Dictionary.from_corpus(gensim_corpus_text_ctf, id2word=id2word_text_ctf)"
   ]
  },
  {
   "cell_type": "code",
   "execution_count": null,
   "metadata": {},
   "outputs": [],
   "source": []
  },
  {
   "cell_type": "code",
   "execution_count": 17,
   "metadata": {},
   "outputs": [],
   "source": [
    "def convert_corpus_to_texts(corpus, id2word):\n",
    "    texts = []\n",
    "    for doc in corpus:\n",
    "        text = [id2word[word_id] for word_id, freq in doc]\n",
    "        texts.append(text)\n",
    "    return texts\n",
    "\n",
    "converted_title_cv = convert_corpus_to_texts(gensim_corpus_title_cv, id2word_title_cv)\n",
    "converted_title_ctf = convert_corpus_to_texts(gensim_corpus_title_ctf, id2word_title_ctf)\n",
    "converted_text_cv = convert_corpus_to_texts(gensim_corpus_text_cv, id2word_text_cv)\n",
    "converted_text_ctf = convert_corpus_to_texts(gensim_corpus_text_ctf, id2word_text_ctf)"
   ]
  },
  {
   "cell_type": "code",
   "execution_count": null,
   "metadata": {},
   "outputs": [],
   "source": []
  },
  {
   "cell_type": "code",
   "execution_count": 18,
   "metadata": {},
   "outputs": [],
   "source": [
    "lda_model_title_cv = gensim.models.ldamodel.LdaModel(corpus=gensim_corpus_title_cv,\n",
    "                                           id2word=id2word_title_cv,\n",
    "                                           num_topics=10,\n",
    "                                           random_state=100,\n",
    "                                           update_every=1,\n",
    "                                           chunksize=100,\n",
    "                                           passes=10,\n",
    "                                           alpha=\"auto\")"
   ]
  },
  {
   "cell_type": "code",
   "execution_count": 19,
   "metadata": {},
   "outputs": [
    {
     "data": {
      "text/html": [
       "\n",
       "<link rel=\"stylesheet\" type=\"text/css\" href=\"https://cdn.jsdelivr.net/gh/bmabey/pyLDAvis@3.4.0/pyLDAvis/js/ldavis.v1.0.0.css\">\n",
       "\n",
       "\n",
       "<div id=\"ldavis_el899251402301811188967389664111\" style=\"background-color:white;\"></div>\n",
       "<script type=\"text/javascript\">\n",
       "\n",
       "var ldavis_el899251402301811188967389664111_data = {\"mdsDat\": {\"x\": [0.013189447313916892, 0.05010129031265348, -0.36593532707221643, -0.22489585257837486, 0.33247359822769557, 0.39860380019738584, 0.09966190537561122, -0.24247143320373313, -0.4262318489330172, 0.36550442036007863], \"y\": [0.07367378137947456, -0.41152756830778225, -0.1356301519586441, 0.3824585263503496, -0.31214565937893135, -0.03989235740885638, 0.44169526366100076, -0.3825036178408202, 0.13635705642746274, 0.2475147270767468], \"topics\": [1, 2, 3, 4, 5, 6, 7, 8, 9, 10], \"cluster\": [1, 1, 1, 1, 1, 1, 1, 1, 1, 1], \"Freq\": [13.625223313058097, 12.317752424939913, 11.95418197713313, 10.323693174280578, 10.078504392803454, 9.949812133926054, 9.736799834318425, 8.430207619605572, 7.832143090958097, 5.751682038976678]}, \"tinfo\": {\"Term\": [\"using\", \"file\", \"net\", \"use\", \"android\", \"error\", \"python\", \"java\", \"function\", \"string\", \"object\", \"data\", \"class\", \"server\", \"app\", \"value\", \"application\", \"multiple\", \"io\", \"image\", \"array\", \"type\", \"asp\", \"window\", \"test\", \"method\", \"way\", \"spring\", \"web\", \"api\", \"server\", \"value\", \"window\", \"spring\", \"sql\", \"text\", \"line\", \"django\", \"change\", \"variable\", \"return\", \"service\", \"event\", \"html\", \"property\", \"setting\", \"map\", \"build\", \"xml\", \"based\", \"programmatically\", \"null\", \"client\", \"git\", \"message\", \"docker\", \"authentication\", \"bit\", \"post\", \"loop\", \"use\", \"java\", \"io\", \"type\", \"method\", \"code\", \"difference\", \"access\", \"element\", \"different\", \"getting\", \"field\", \"wpf\", \"like\", \"nested\", \"exception\", \"local\", \"vs\", \"input\", \"language\", \"dependency\", \"compiler\", \"oracle\", \"resource\", \"validation\", \"login\", \"height\", \"uiview\", \"gcc\", \"stream\", \"using\", \"data\", \"test\", \"list\", \"php\", \"json\", \"time\", \"custom\", \"running\", \"parameter\", \"framework\", \"install\", \"xcode\", \"component\", \"unit\", \"item\", \"device\", \"specific\", \"laravel\", \"static\", \"plugin\", \"open\", \"instead\", \"disable\", \"warning\", \"unable\", \"pas\", \"member\", \"debugging\", \"better\", \"file\", \"object\", \"image\", \"array\", \"create\", \"thread\", \"query\", \"size\", \"node\", \"js\", \"issue\", \"maven\", \"load\", \"dynamic\", \"path\", \"update\", \"task\", \"background\", \"index\", \"layout\", \"select\", \"cell\", \"binding\", \"schema\", \"prevent\", \"tree\", \"panda\", \"rest\", \"loading\", \"architecture\", \"application\", \"way\", \"set\", \"javascript\", \"user\", \"work\", \"add\", \"working\", \"page\", \"column\", \"possible\", \"number\", \"performance\", \"form\", \"content\", \"controller\", \"process\", \"check\", \"directory\", \"store\", \"pointer\", \"attribute\", \"result\", \"remove\", \"instance\", \"operator\", \"copy\", \"handle\", \"tool\", \"group\", \"python\", \"app\", \"web\", \"run\", \"model\", \"library\", \"connection\", \"react\", \"iphone\", \"script\", \"doe\", \"testing\", \"best\", \"header\", \"angular\", \"native\", \"debug\", \"control\", \"state\", \"reference\", \"need\", \"email\", \"statement\", \"mac\", \"network\", \"socket\", \"missing\", \"equivalent\", \"mobile\", \"firebase\", \"android\", \"error\", \"api\", \"request\", \"google\", \"project\", \"rail\", \"jquery\", \"browser\", \"version\", \"chrome\", \"color\", \"button\", \"new\", \"ruby\", \"write\", \"container\", \"response\", \"eclipse\", \"symbol\", \"gradle\", \"point\", \"azure\", \"compile\", \"detect\", \"folder\", \"annotation\", \"selenium\", \"facebook\", \"source\", \"net\", \"multiple\", \"asp\", \"database\", \"mvc\", \"date\", \"view\", \"linux\", \"command\", \"default\", \"non\", \"http\", \"module\", \"mysql\", \"failed\", \"std\", \"row\", \"problem\", \"record\", \"ajax\", \"implementation\", \"generic\", \"generate\", \"extension\", \"vector\", \"range\", \"com\", \"pattern\", \"large\", \"shared\", \"function\", \"class\", \"studio\", \"memory\", \"visual\", \"inside\", \"video\", \"hibernate\", \"package\", \"display\", \"context\", \"character\", \"read\", \"mode\", \"used\", \"calling\", \"constructor\", \"current\", \"option\", \"invalid\", \"screen\", \"flutter\", \"safe\", \"passing\", \"available\", \"log\", \"avoid\", \"npm\", \"exist\", \"cause\", \"string\", \"table\", \"convert\", \"core\", \"key\", \"swift\", \"url\", \"make\", \"template\", \"cs\", \"entity\", \"format\", \"creating\", \"address\", \"argument\", \"jpa\", \"insert\", \"single\", \"syntax\", \"setup\", \"faster\", \"hash\", \"width\", \"dictionary\", \"swagger\", \"expected\", \"datetime\", \"basic\", \"clang\", \"effect\"], \"Freq\": [3264.0, 1752.0, 1500.0, 1767.0, 1460.0, 1421.0, 1374.0, 1441.0, 1109.0, 914.0, 1067.0, 1123.0, 892.0, 1123.0, 955.0, 1073.0, 929.0, 846.0, 995.0, 914.0, 865.0, 912.0, 754.0, 923.0, 864.0, 874.0, 793.0, 881.0, 753.0, 702.0, 1122.3709296320562, 1072.7758444186445, 922.2266593563229, 880.2111517734143, 811.874581279484, 619.1737943261649, 602.1919454477728, 568.436765803341, 559.6622790327482, 496.2021331855528, 481.09432690355123, 469.69524383911124, 468.8687538665145, 456.10532675732185, 376.98349142300066, 364.3830318117775, 352.754411563232, 345.93224531142073, 337.0086736658465, 320.51221481048646, 320.1323104207621, 299.88720883756133, 294.5005002273759, 270.11372157595247, 253.97461481714927, 244.8079021320112, 244.47700507404025, 229.05902809991454, 219.75314072548247, 213.42812848646432, 1766.1605113353094, 1440.1522853144409, 994.905489810814, 911.8295612451763, 873.6617713854398, 717.9537553545291, 520.0618551850954, 499.5089021113058, 474.99761708058986, 466.85459139756284, 413.2300376775001, 411.47330200127817, 391.9859780799893, 349.47472371417035, 322.2029944589247, 296.6898406048118, 271.51965683717094, 269.4730510797821, 245.37651060877437, 236.14318329807173, 209.95282166391388, 199.9081000623704, 196.55614647641931, 196.46578574124072, 180.45535288872202, 174.61973287048747, 172.54137295710225, 171.60429773296468, 167.74575195117134, 163.88991535332215, 3263.738761131889, 1122.282961354145, 863.6748639600195, 699.6034319236753, 680.4735714761275, 615.200439821553, 593.6881883337592, 478.8763988657887, 468.5508781713187, 427.60191794845525, 410.9655361325711, 380.488917126256, 349.5608549754264, 335.7416026272315, 334.7563422721757, 268.80056734061867, 263.63039626238424, 262.7607237446334, 260.8186964391897, 249.70878777810773, 245.33721468203197, 242.4924233768498, 226.22034135712684, 221.84265379653007, 216.4345322169964, 196.44019654654068, 195.77343864838377, 178.18167175109346, 175.80511391000041, 170.10239742984496, 1751.1499590256499, 1066.6322354074841, 913.8547643671707, 864.8685254873584, 691.7713753686859, 454.74012160500945, 406.54160406881897, 388.9609326848745, 371.3091226329052, 370.35191890441666, 369.4737112027728, 356.45284256621574, 317.51420127728016, 280.43549398189055, 276.6395659165453, 272.1969265276893, 246.54032656834138, 234.1365140623299, 231.67627363056135, 221.12605853840233, 210.34977540471428, 204.89423375186456, 197.93318412965436, 195.94360371558102, 183.8052727767916, 180.4560313359681, 179.18848305602802, 170.48776772285308, 168.02646063350284, 161.12132076612096, 928.9152662106428, 792.9826408973929, 692.4345882897638, 589.3711084491537, 547.096927616265, 545.6723546597634, 512.7389563814544, 493.1432528316901, 463.4845206518109, 419.83430701150445, 411.35697823888563, 389.8943141546909, 358.58637164187877, 356.4522959454977, 351.3925730816099, 303.61822011362256, 298.646772686535, 279.12874574747536, 275.1683314766023, 264.02519173809327, 245.75920783736015, 238.728866270204, 233.22723009492478, 214.5405511552757, 201.87736654426752, 197.78426074435689, 197.0604681475042, 171.96418005695654, 168.3896537852146, 160.7419305979887, 1373.4318158668605, 954.2192196758136, 752.299759512435, 657.3731066838379, 421.6017325658338, 419.0453432092021, 409.8939831227405, 393.85569243965074, 345.00898680989036, 342.87484201867017, 336.17847315074783, 328.2852968271746, 326.35883398833744, 289.5259450584905, 287.0687756426463, 260.1672246472864, 248.4911913855117, 244.08484073650973, 231.0710889747403, 228.9616982762566, 226.99724930498007, 213.98290719067006, 211.21649482847704, 207.03492599855107, 200.76466952303042, 194.37432719795993, 186.1232343789153, 183.2243591208042, 176.8761150389731, 173.85866034813986, 1459.751162661597, 1420.6787397867365, 701.4845700468887, 590.3928215558407, 537.906559832525, 478.5067762507244, 477.68231878816846, 476.13456355461557, 340.1100388753389, 338.43964893102645, 338.33928608619107, 314.142397847192, 310.5874853227721, 310.0885795891364, 304.6644040993657, 304.53105180017394, 261.9887997098044, 243.03898777625955, 221.76196506532025, 186.541778148617, 184.71729796913158, 172.20373654898108, 170.9973106094753, 170.3397327720059, 162.51906068222522, 153.29225294284058, 150.26792080931895, 150.0283289207054, 141.4138182037225, 140.63339648322864, 1499.9055452103871, 845.6024456902893, 753.477351367723, 592.3738076665071, 482.2142840659404, 473.369479674705, 453.38282687694584, 450.29527601136164, 394.22537988903076, 389.31858699731197, 321.44024470379, 316.81607629385127, 289.473356412337, 285.3421509167007, 278.6320358326494, 266.22508670053, 246.15897271715144, 234.24308922770035, 230.48969950610243, 226.76630392424673, 199.98669426372342, 194.79368932204366, 194.66845214627133, 193.9349669325412, 181.43399936699186, 173.66589662808929, 170.11858510179889, 169.4511421888582, 157.9034673798076, 156.6560802721046, 1108.663767302229, 891.4439449431887, 523.8902572491435, 449.23187188844514, 447.87358779738275, 407.42318121423136, 328.75157305293135, 283.60415457553205, 258.25167080718387, 255.04435831982593, 254.20652759332415, 222.62496426447376, 216.01061236664188, 206.04333513241843, 191.41880230178495, 191.02248921910652, 190.12211563470024, 188.92660642208875, 166.08602842716533, 162.03433127303325, 153.20125426491282, 152.47450401266005, 150.82007476225024, 149.16982785514384, 144.88045822639236, 143.3171752162492, 139.50763734181294, 139.53899690443632, 138.47661760816368, 138.03340138813283, 913.2417807425065, 514.9524024841544, 508.3364323108809, 449.029467878209, 425.5352494638404, 392.6961902947076, 388.7824014462869, 369.5766570352575, 345.4255628247975, 323.7680077345198, 278.8615212075469, 237.09431730549872, 217.8468679890349, 208.06188985473995, 196.92976325421517, 163.79474517659622, 159.79168617788616, 152.74075643501172, 146.6858490386291, 138.7118216950238, 138.69240490778714, 121.28478444012134, 117.72447526140668, 114.2632152330987, 110.75428405018725, 110.72064005339352, 101.49812505822037, 100.19461140839879, 99.47198919394907, 91.66593471156571], \"Total\": [3264.0, 1752.0, 1500.0, 1767.0, 1460.0, 1421.0, 1374.0, 1441.0, 1109.0, 914.0, 1067.0, 1123.0, 892.0, 1123.0, 955.0, 1073.0, 929.0, 846.0, 995.0, 914.0, 865.0, 912.0, 754.0, 923.0, 864.0, 874.0, 793.0, 881.0, 753.0, 702.0, 1123.3225975627504, 1073.727524938929, 923.1782994252376, 881.1628498423725, 812.82623971421, 620.1254533822963, 603.1436508940914, 569.3884737030247, 560.6139319474629, 497.15380536979364, 482.04600156724337, 470.6468885149854, 469.8204015803466, 457.0570298366362, 377.9351445943913, 365.3347450150087, 353.7061331136105, 346.88390468931743, 337.9603172689984, 321.4638860263119, 321.08404210413664, 300.83888574072597, 295.45214376065655, 271.06536539718684, 254.92631091959066, 245.75963931874324, 245.42867206734766, 230.0107384917809, 220.7048051035552, 214.37978643197138, 1767.114048463896, 1441.1057962408615, 995.8590207178025, 912.7830815401194, 874.6152823155493, 718.9072478082259, 521.0153514331811, 500.4624374545251, 475.951156167734, 467.80814384171777, 414.1835847119314, 412.42683349159347, 392.9395113863491, 350.42828126577814, 323.1565806663421, 297.643332854672, 272.47322147666233, 270.4265638916098, 246.32998239771135, 237.09677595706785, 210.90629994147406, 200.8616090736989, 197.50974288867056, 197.41927469799083, 181.4088842614351, 175.57337461511065, 173.49493732460584, 172.55793022055053, 168.69928407331653, 164.84338815252372, 3264.691518690671, 1123.235721001215, 864.6275903096563, 700.5561809759442, 681.426381367519, 616.1532092767038, 594.6409152440344, 479.8291411222969, 469.5036741003719, 428.55466076984203, 411.91828496165505, 381.4417458755977, 350.5136116291256, 336.69439069505967, 335.7090451725424, 269.7533584740339, 264.5831473501846, 263.7135039980086, 261.77154942424005, 250.6615214682958, 246.28997590820865, 243.44517740262634, 227.1731038472661, 222.79543831770556, 217.38727107228462, 197.3929467138218, 196.7261989409639, 179.13445658022877, 176.7579561814167, 171.05526003483152, 1752.1035280313026, 1067.5858324993385, 914.8083805620806, 865.8221378624521, 692.7249749316572, 455.6937384948004, 407.4952094833398, 389.9145407088631, 372.26270112188837, 371.305475578584, 370.4273326120466, 357.4064773456418, 318.467769862074, 281.38912810868385, 277.5931845978706, 273.1505230045741, 247.4939477353072, 235.09012588054395, 232.62990479340735, 222.07968158124544, 211.30337384329522, 205.84787865414907, 198.88677128043406, 196.8972470834748, 184.75891272796915, 181.40969068580472, 180.14203679683163, 171.44136985479926, 168.9801934968698, 162.07498836387214, 929.8648223253392, 793.9321669081239, 693.3841162104814, 590.320617507018, 548.0464606308014, 546.6219020759827, 513.6884916842301, 494.0927804979324, 464.43405698436743, 420.7838618638621, 412.30654433028656, 390.8438360170334, 359.53589281110766, 357.4017884179048, 352.34214966572017, 304.56779695226965, 299.59630943950435, 280.0782681561012, 276.1179290278248, 264.9747645807139, 246.7087542256255, 239.6783789583284, 234.17676725991154, 215.4900921266591, 202.82691611726852, 198.73388194858063, 198.00999161087935, 172.91371485186298, 169.33924345688052, 161.69149219154684, 1374.3852992579732, 955.1726694491531, 753.2532404383504, 658.3266073313775, 422.555240298835, 419.9987916200121, 410.8475010165379, 394.8091326393741, 345.9624528922909, 343.82833629840064, 337.1319762334924, 329.2387792483554, 327.3122759350307, 290.4794114193601, 288.022223198968, 261.1206743549526, 249.44476035759422, 245.0383152822075, 232.02454634239677, 229.91517889941642, 227.9507438407002, 214.9364457636297, 212.17005551685023, 207.98843091371901, 201.71816619564132, 195.32786519785387, 187.07678537424852, 184.1778618675185, 177.829605031172, 174.81211687281063, 1460.7082960154069, 1421.6358790579952, 702.44170493715, 591.3499533591416, 538.8636879720837, 479.46388013064075, 478.63949015679714, 477.0916692202986, 341.06717180501226, 339.39680434398485, 339.29643648378396, 315.0995455296693, 311.54459811286955, 311.04574715069793, 305.6216057055067, 305.48827811249447, 262.9460310149553, 243.99615656537122, 222.71910589083686, 187.49901012858828, 185.67441450786015, 173.1608813267435, 171.95450471559275, 171.296838925015, 163.47616835804658, 154.2494471774614, 151.22518512186303, 150.98548128770926, 142.37098407505772, 141.5905225850545, 1500.8666822747582, 846.5636379917196, 754.4384476198442, 593.3349795924307, 483.1754106873814, 474.3306895373328, 454.3440139186555, 451.2564933194939, 395.18655430706815, 390.27980443076854, 322.4014705629365, 317.77723483308864, 290.4344946653288, 286.30330620353226, 279.5932470765463, 267.18621545810646, 247.1201314795489, 235.20430534450122, 231.45093520804176, 227.727462732725, 200.94794646168384, 195.7548595733684, 195.62965833200656, 194.89614463701292, 182.39513411105773, 174.62711879587812, 171.07978292115254, 170.4122920522345, 158.8646245050575, 157.6172066819967, 1109.6216132458253, 892.4017702859246, 524.8480416120241, 450.1897086801024, 448.8313635637591, 408.3810493919812, 329.7094345641206, 284.5620730491376, 259.20950495792454, 256.0022523187395, 255.16444285449987, 223.5828058593843, 216.96846369879523, 207.00124276624138, 192.37667358030194, 191.9803602622804, 191.07998809318653, 189.8844708794146, 167.04398078387058, 162.99226466695592, 154.15912965532863, 153.43252669117584, 151.77793866982847, 150.12772642987377, 145.838409968115, 144.27504208579853, 140.4655041752462, 140.49713785707465, 139.43472316310897, 138.99132478589067, 914.1971685702849, 515.9078094089059, 509.2918355523774, 449.9849167016903, 426.49063287764403, 393.65166806913584, 389.73787799068856, 370.5320409326773, 346.3809416732188, 324.7234745485648, 279.8169113960695, 238.04972028124794, 218.80226900634622, 209.01737006534944, 197.88517931422834, 164.75013834946327, 160.74714723454647, 153.69609913752583, 147.64130121500187, 139.66733331978884, 139.6478730105844, 122.24026424137755, 118.67994082213905, 115.2185950959193, 111.70988494717348, 111.67618937250421, 102.45354108820501, 101.15016251303106, 100.42740695091223, 92.62139282043755], \"Category\": [\"Default\", \"Default\", \"Default\", \"Default\", \"Default\", \"Default\", \"Default\", \"Default\", \"Default\", \"Default\", \"Default\", \"Default\", \"Default\", \"Default\", \"Default\", \"Default\", \"Default\", \"Default\", \"Default\", \"Default\", \"Default\", \"Default\", \"Default\", \"Default\", \"Default\", \"Default\", \"Default\", \"Default\", \"Default\", \"Default\", \"Topic1\", \"Topic1\", \"Topic1\", \"Topic1\", \"Topic1\", \"Topic1\", \"Topic1\", \"Topic1\", \"Topic1\", \"Topic1\", \"Topic1\", \"Topic1\", \"Topic1\", \"Topic1\", \"Topic1\", \"Topic1\", \"Topic1\", \"Topic1\", \"Topic1\", \"Topic1\", \"Topic1\", \"Topic1\", \"Topic1\", \"Topic1\", \"Topic1\", \"Topic1\", \"Topic1\", \"Topic1\", \"Topic1\", \"Topic1\", \"Topic2\", \"Topic2\", \"Topic2\", \"Topic2\", \"Topic2\", \"Topic2\", \"Topic2\", \"Topic2\", \"Topic2\", \"Topic2\", \"Topic2\", \"Topic2\", \"Topic2\", \"Topic2\", \"Topic2\", \"Topic2\", \"Topic2\", \"Topic2\", \"Topic2\", \"Topic2\", \"Topic2\", \"Topic2\", \"Topic2\", \"Topic2\", \"Topic2\", \"Topic2\", \"Topic2\", \"Topic2\", \"Topic2\", \"Topic2\", \"Topic3\", \"Topic3\", \"Topic3\", \"Topic3\", \"Topic3\", \"Topic3\", \"Topic3\", \"Topic3\", \"Topic3\", \"Topic3\", \"Topic3\", \"Topic3\", \"Topic3\", \"Topic3\", \"Topic3\", \"Topic3\", \"Topic3\", \"Topic3\", \"Topic3\", \"Topic3\", \"Topic3\", \"Topic3\", \"Topic3\", \"Topic3\", \"Topic3\", \"Topic3\", \"Topic3\", \"Topic3\", \"Topic3\", \"Topic3\", \"Topic4\", \"Topic4\", \"Topic4\", \"Topic4\", \"Topic4\", \"Topic4\", \"Topic4\", \"Topic4\", \"Topic4\", \"Topic4\", \"Topic4\", \"Topic4\", \"Topic4\", \"Topic4\", \"Topic4\", \"Topic4\", \"Topic4\", \"Topic4\", \"Topic4\", \"Topic4\", \"Topic4\", \"Topic4\", \"Topic4\", \"Topic4\", \"Topic4\", \"Topic4\", \"Topic4\", \"Topic4\", \"Topic4\", \"Topic4\", \"Topic5\", \"Topic5\", \"Topic5\", \"Topic5\", \"Topic5\", \"Topic5\", \"Topic5\", \"Topic5\", \"Topic5\", \"Topic5\", \"Topic5\", \"Topic5\", \"Topic5\", \"Topic5\", \"Topic5\", \"Topic5\", \"Topic5\", \"Topic5\", \"Topic5\", \"Topic5\", \"Topic5\", \"Topic5\", \"Topic5\", \"Topic5\", \"Topic5\", \"Topic5\", \"Topic5\", \"Topic5\", \"Topic5\", \"Topic5\", \"Topic6\", \"Topic6\", \"Topic6\", \"Topic6\", \"Topic6\", \"Topic6\", \"Topic6\", \"Topic6\", \"Topic6\", \"Topic6\", \"Topic6\", \"Topic6\", \"Topic6\", \"Topic6\", \"Topic6\", \"Topic6\", \"Topic6\", \"Topic6\", \"Topic6\", \"Topic6\", \"Topic6\", \"Topic6\", \"Topic6\", \"Topic6\", \"Topic6\", \"Topic6\", \"Topic6\", \"Topic6\", \"Topic6\", \"Topic6\", \"Topic7\", \"Topic7\", \"Topic7\", \"Topic7\", \"Topic7\", \"Topic7\", \"Topic7\", \"Topic7\", \"Topic7\", \"Topic7\", \"Topic7\", \"Topic7\", \"Topic7\", \"Topic7\", \"Topic7\", \"Topic7\", \"Topic7\", \"Topic7\", \"Topic7\", \"Topic7\", \"Topic7\", \"Topic7\", \"Topic7\", \"Topic7\", \"Topic7\", \"Topic7\", \"Topic7\", \"Topic7\", \"Topic7\", \"Topic7\", \"Topic8\", \"Topic8\", \"Topic8\", \"Topic8\", \"Topic8\", \"Topic8\", \"Topic8\", \"Topic8\", \"Topic8\", \"Topic8\", \"Topic8\", \"Topic8\", \"Topic8\", \"Topic8\", \"Topic8\", \"Topic8\", \"Topic8\", \"Topic8\", \"Topic8\", \"Topic8\", \"Topic8\", \"Topic8\", \"Topic8\", \"Topic8\", \"Topic8\", \"Topic8\", \"Topic8\", \"Topic8\", \"Topic8\", \"Topic8\", \"Topic9\", \"Topic9\", \"Topic9\", \"Topic9\", \"Topic9\", \"Topic9\", \"Topic9\", \"Topic9\", \"Topic9\", \"Topic9\", \"Topic9\", \"Topic9\", \"Topic9\", \"Topic9\", \"Topic9\", \"Topic9\", \"Topic9\", \"Topic9\", \"Topic9\", \"Topic9\", \"Topic9\", \"Topic9\", \"Topic9\", \"Topic9\", \"Topic9\", \"Topic9\", \"Topic9\", \"Topic9\", \"Topic9\", \"Topic9\", \"Topic10\", \"Topic10\", \"Topic10\", \"Topic10\", \"Topic10\", \"Topic10\", \"Topic10\", \"Topic10\", \"Topic10\", \"Topic10\", \"Topic10\", \"Topic10\", \"Topic10\", \"Topic10\", \"Topic10\", \"Topic10\", \"Topic10\", \"Topic10\", \"Topic10\", \"Topic10\", \"Topic10\", \"Topic10\", \"Topic10\", \"Topic10\", \"Topic10\", \"Topic10\", \"Topic10\", \"Topic10\", \"Topic10\", \"Topic10\"], \"logprob\": [30.0, 29.0, 28.0, 27.0, 26.0, 25.0, 24.0, 23.0, 22.0, 21.0, 20.0, 19.0, 18.0, 17.0, 16.0, 15.0, 14.0, 13.0, 12.0, 11.0, 10.0, 9.0, 8.0, 7.0, 6.0, 5.0, 4.0, 3.0, 2.0, 1.0, -3.2835, -3.3287, -3.4799, -3.5265, -3.6074, -3.8783, -3.9061, -3.9638, -3.9794, -4.0997, -4.1306, -4.1546, -4.1564, -4.184, -4.3745, -4.4085, -4.4409, -4.4605, -4.4866, -4.5368, -4.538, -4.6033, -4.6214, -4.7079, -4.7695, -4.8062, -4.8076, -4.8727, -4.9142, -4.9434, -2.7293, -2.9333, -3.3032, -3.3904, -3.4331, -3.6294, -3.9519, -3.9922, -4.0425, -4.0598, -4.1818, -4.1861, -4.2346, -4.3494, -4.4306, -4.5131, -4.6018, -4.6093, -4.703, -4.7414, -4.8589, -4.908, -4.9249, -4.9253, -5.0103, -5.0432, -5.0552, -5.0606, -5.0834, -5.1066, -2.0852, -3.1527, -3.4147, -3.6253, -3.6531, -3.7539, -3.7895, -4.0044, -4.0262, -4.1177, -4.1573, -4.2344, -4.3192, -4.3595, -4.3625, -4.5819, -4.6013, -4.6046, -4.612, -4.6556, -4.6732, -4.6849, -4.7543, -4.7739, -4.7986, -4.8955, -4.8989, -4.9931, -5.0065, -5.0395, -2.5612, -3.057, -3.2115, -3.2666, -3.49, -3.9095, -4.0215, -4.0657, -4.1122, -4.1148, -4.1171, -4.153, -4.2687, -4.3929, -4.4065, -4.4227, -4.5217, -4.5733, -4.5839, -4.6305, -4.6804, -4.7067, -4.7413, -4.7514, -4.8153, -4.8337, -4.8408, -4.8906, -4.9051, -4.9471, -3.1712, -3.3294, -3.465, -3.6261, -3.7006, -3.7032, -3.7654, -3.8044, -3.8664, -3.9653, -3.9857, -4.0393, -4.123, -4.129, -4.1433, -4.2894, -4.3059, -4.3735, -4.3878, -4.4291, -4.5008, -4.5299, -4.5532, -4.6367, -4.6975, -4.718, -4.7217, -4.8579, -4.8789, -4.9254, -2.7673, -3.1314, -3.3692, -3.5041, -3.9483, -3.9543, -3.9764, -4.0163, -4.1488, -4.155, -4.1747, -4.1984, -4.2043, -4.3241, -4.3326, -4.431, -4.4769, -4.4948, -4.5496, -4.5588, -4.5674, -4.6264, -4.6394, -4.6594, -4.6902, -4.7225, -4.7659, -4.7816, -4.8169, -4.8341, -2.6847, -2.7118, -3.4175, -3.5899, -3.683, -3.8, -3.8017, -3.805, -4.1414, -4.1463, -4.1466, -4.2208, -4.2322, -4.2338, -4.2515, -4.2519, -4.4024, -4.4775, -4.5691, -4.742, -4.7519, -4.822, -4.829, -4.8329, -4.8799, -4.9383, -4.9583, -4.9599, -5.019, -5.0245, -2.5134, -3.0865, -3.2019, -3.4425, -3.6482, -3.6667, -3.7099, -3.7167, -3.8497, -3.8622, -4.0538, -4.0683, -4.1585, -4.1729, -4.1967, -4.2423, -4.3206, -4.3702, -4.3864, -4.4027, -4.5283, -4.5547, -4.5553, -4.5591, -4.6257, -4.6695, -4.6901, -4.694, -4.7646, -4.7725, -2.7421, -2.9602, -3.4917, -3.6455, -3.6485, -3.7432, -3.9577, -4.1054, -4.1991, -4.2116, -4.2149, -4.3475, -4.3777, -4.4249, -4.4985, -4.5006, -4.5053, -4.5117, -4.6405, -4.6652, -4.7213, -4.726, -4.7369, -4.7479, -4.7771, -4.788, -4.8149, -4.8147, -4.8223, -4.8255, -2.6273, -3.2002, -3.2131, -3.3372, -3.3909, -3.4712, -3.4812, -3.5319, -3.5995, -3.6642, -3.8136, -3.9758, -4.0605, -4.1064, -4.1614, -4.3457, -4.3704, -4.4155, -4.456, -4.5119, -4.512, -4.6461, -4.6759, -4.7058, -4.737, -4.7373, -4.8242, -4.8372, -4.8444, -4.9261], \"loglift\": [30.0, 29.0, 28.0, 27.0, 26.0, 25.0, 24.0, 23.0, 22.0, 21.0, 20.0, 19.0, 18.0, 17.0, 16.0, 15.0, 14.0, 13.0, 12.0, 11.0, 10.0, 9.0, 8.0, 7.0, 6.0, 5.0, 4.0, 3.0, 2.0, 1.0, 1.9924, 1.9924, 1.9922, 1.9922, 1.9921, 1.9917, 1.9917, 1.9916, 1.9915, 1.9913, 1.9913, 1.9912, 1.9912, 1.9912, 1.9907, 1.9906, 1.9906, 1.9905, 1.9904, 1.9903, 1.9903, 1.9901, 1.99, 1.9897, 1.9895, 1.9894, 1.9894, 1.9891, 1.9889, 1.9888, 2.0936, 2.0935, 2.0932, 2.0931, 2.093, 2.0928, 2.0923, 2.0922, 2.0921, 2.0921, 2.0918, 2.0918, 2.0917, 2.0914, 2.0912, 2.0909, 2.0906, 2.0906, 2.0903, 2.0901, 2.0896, 2.0894, 2.0893, 2.0893, 2.0889, 2.0887, 2.0886, 2.0886, 2.0885, 2.0883, 2.1238, 2.1232, 2.123, 2.1227, 2.1227, 2.1225, 2.1225, 2.1221, 2.1221, 2.1219, 2.1218, 2.1216, 2.1214, 2.1213, 2.1212, 2.1206, 2.1205, 2.1205, 2.1204, 2.1203, 2.1202, 2.1202, 2.1199, 2.1198, 2.1197, 2.1193, 2.1192, 2.1188, 2.1187, 2.1185, 2.2702, 2.2698, 2.2697, 2.2696, 2.2694, 2.2686, 2.2684, 2.2683, 2.2682, 2.2682, 2.2682, 2.2681, 2.2677, 2.2673, 2.2673, 2.2672, 2.2669, 2.2667, 2.2666, 2.2664, 2.2662, 2.2661, 2.2659, 2.2659, 2.2656, 2.2655, 2.2654, 2.2652, 2.2651, 2.2648, 2.2937, 2.2936, 2.2934, 2.2932, 2.293, 2.293, 2.2929, 2.2928, 2.2927, 2.2925, 2.2925, 2.2923, 2.2921, 2.2921, 2.2921, 2.2916, 2.2916, 2.2914, 2.2913, 2.2912, 2.2909, 2.2908, 2.2907, 2.2903, 2.2901, 2.29, 2.29, 2.2893, 2.2891, 2.2889, 2.3069, 2.3066, 2.3063, 2.3062, 2.3054, 2.3053, 2.3053, 2.3052, 2.3049, 2.3048, 2.3048, 2.3047, 2.3047, 2.3043, 2.3043, 2.304, 2.3038, 2.3037, 2.3035, 2.3035, 2.3034, 2.3032, 2.3031, 2.303, 2.3029, 2.3027, 2.3025, 2.3024, 2.3022, 2.3021, 2.3286, 2.3286, 2.3279, 2.3276, 2.3275, 2.3273, 2.3273, 2.3272, 2.3264, 2.3264, 2.3264, 2.3262, 2.3262, 2.3262, 2.3261, 2.3261, 2.3256, 2.3253, 2.325, 2.3241, 2.3241, 2.3237, 2.3237, 2.3237, 2.3234, 2.323, 2.3229, 2.3229, 2.3225, 2.3225, 2.4727, 2.4722, 2.4721, 2.4717, 2.4714, 2.4713, 2.4712, 2.4712, 2.4709, 2.4709, 2.4704, 2.4703, 2.47, 2.47, 2.4699, 2.4697, 2.4695, 2.4693, 2.4692, 2.4691, 2.4686, 2.4684, 2.4684, 2.4684, 2.4681, 2.4678, 2.4677, 2.4677, 2.4673, 2.4672, 2.5461, 2.5459, 2.5451, 2.5448, 2.5448, 2.5446, 2.544, 2.5436, 2.5432, 2.5432, 2.5432, 2.5426, 2.5425, 2.5423, 2.5419, 2.5419, 2.5419, 2.5419, 2.5412, 2.541, 2.5407, 2.5407, 2.5406, 2.5405, 2.5403, 2.5403, 2.5401, 2.5401, 2.54, 2.54, 2.8546, 2.8538, 2.8538, 2.8536, 2.8534, 2.8532, 2.8532, 2.8531, 2.8529, 2.8527, 2.8523, 2.8517, 2.8513, 2.8511, 2.8508, 2.8499, 2.8497, 2.8494, 2.8492, 2.8488, 2.8488, 2.8478, 2.8476, 2.8474, 2.8471, 2.8471, 2.8463, 2.8462, 2.8461, 2.8453]}, \"token.table\": {\"Topic\": [2, 5, 10, 8, 7, 6, 7, 7, 6, 5, 4, 10, 4, 8, 5, 1, 9, 9, 7, 4, 1, 10, 6, 3, 4, 1, 7, 1, 7, 9, 9, 4, 1, 9, 5, 7, 10, 9, 1, 2, 7, 5, 8, 8, 7, 2, 3, 6, 9, 7, 5, 9, 6, 5, 10, 5, 10, 4, 10, 10, 9, 3, 3, 8, 8, 10, 6, 3, 8, 2, 7, 3, 10, 2, 2, 5, 3, 9, 1, 1, 6, 4, 7, 10, 2, 6, 10, 6, 7, 1, 2, 9, 10, 8, 7, 8, 10, 2, 4, 6, 9, 7, 5, 10, 3, 9, 2, 8, 8, 2, 1, 7, 7, 5, 5, 10, 6, 2, 9, 1, 8, 4, 8, 4, 2, 10, 9, 3, 5, 3, 9, 2, 6, 4, 3, 2, 5, 10, 7, 4, 3, 10, 2, 3, 8, 4, 6, 2, 1, 8, 3, 4, 4, 2, 9, 2, 1, 6, 10, 1, 4, 3, 9, 1, 2, 6, 6, 9, 6, 8, 8, 8, 8, 6, 6, 2, 8, 6, 7, 4, 8, 9, 1, 5, 4, 3, 5, 9, 2, 9, 5, 4, 3, 3, 9, 4, 8, 5, 3, 3, 7, 5, 5, 1, 4, 8, 5, 1, 7, 1, 6, 4, 7, 8, 6, 9, 8, 6, 5, 7, 2, 7, 4, 5, 1, 8, 7, 6, 3, 9, 4, 9, 6, 4, 7, 1, 1, 5, 1, 10, 8, 10, 4, 6, 7, 3, 1, 1, 6, 6, 3, 8, 5, 2, 10, 9, 10, 10, 7, 10, 10, 4, 10, 3, 6, 1, 4, 3, 5, 4, 2, 2, 3, 3, 4, 10, 2, 9, 5, 3, 2, 1, 1, 8, 7, 9, 8, 9, 2, 3, 5, 6, 10, 1, 5, 5, 2, 7, 3, 1], \"Freq\": [0.9990759796941461, 0.9986597097358113, 0.9951326051751997, 0.996805555535571, 0.9995151009839959, 0.9964508877557624, 0.9918982732877746, 0.9979475806646774, 0.9987722958511477, 0.9990699483359565, 0.9933673395585338, 0.9955268033851957, 0.9990504540984806, 0.9980933532425577, 0.997169628060417, 0.9941788705642525, 0.9942511032018362, 0.9966859893610218, 0.9944490857208337, 0.9953629448431285, 0.998556957572914, 0.9886291580314279, 0.9959907524663353, 0.9938308822855454, 0.9955413259779672, 0.9956056899847003, 0.9968710802644402, 0.9974518717145175, 0.9982519417246571, 0.9948934346151812, 0.9928677218710035, 0.9958810425461143, 0.9989048935239083, 0.9973933332791661, 0.9961501184536736, 0.9961790447986449, 0.9857866792118816, 0.9984292161528596, 0.9984696548317388, 0.9987380182756651, 0.9965104820198296, 0.9981371389568269, 0.9936884247646597, 0.9969974831022561, 0.9924292886363029, 0.9957104342752588, 0.9979376232148501, 0.9979371883376655, 0.9943479790638262, 0.9964021856070477, 0.9961907774389368, 0.9954365003153521, 0.9957626411158937, 0.9981357288657847, 0.9974634669904412, 0.9948992896638057, 0.9978112228540691, 0.9989534447899344, 0.9963333606639931, 0.9977720288021351, 0.995342057855925, 0.9982720075726172, 0.9988998560336796, 0.9977500406375034, 0.9971945953178135, 0.9858126808232658, 0.9942080949885536, 0.995711897796336, 0.9967208028285369, 0.9957028313439401, 0.997087230739323, 0.9977959769697168, 0.9894236247638255, 0.9980512063024859, 0.998272488727791, 0.9959512624487628, 0.9964297369653894, 0.9960849863246841, 0.9975614650328365, 0.996909015162746, 0.9966423350103449, 0.9950633199014451, 0.996771242916226, 0.9932910443093614, 0.998001567691541, 0.9956431504191731, 0.997080550307007, 0.9936047587067455, 0.9995527131332557, 0.9982537974562472, 0.9978385779768629, 0.9897104313003107, 0.9939450891340075, 0.9954019375874164, 0.9903703406704351, 0.9978781780935365, 0.9953606668213608, 0.9965403960757986, 0.999370169619747, 0.9953543444966031, 0.9906634745443567, 0.9918998271933906, 0.9960778360284372, 0.9955903318012399, 0.9977707108541187, 0.9994397970998357, 0.9958548486014166, 0.996781375904987, 0.9961438526991689, 0.997142366922256, 0.9960697103607251, 0.9983972050977604, 0.9963677574551791, 0.9957233854287914, 0.9947157757113381, 0.9898538812143886, 0.9983495855454348, 0.9971472520625785, 0.9980247787657895, 0.9976873130317807, 0.9975541519407554, 0.9991163389194315, 0.9952826267778527, 0.9972922449761275, 0.9946008099186073, 0.9953520342513058, 0.9966182334022664, 0.996220272450022, 0.9959230454562035, 0.9948360795032549, 0.9939121978028624, 0.9991374073037131, 0.9972180423504208, 0.9961467945629664, 0.9972072322721186, 0.9992326751833585, 0.9977628809364729, 0.9954468120210491, 0.9977118250207917, 0.9964840928441744, 0.9981283725227081, 0.9988496045638011, 0.9953741422562977, 0.9970525848743416, 0.9945574761672007, 0.9951383144394034, 0.9976219178722882, 0.9959241837998376, 0.9981038498997775, 0.9972155673367689, 0.9992060865480205, 0.9985311861785052, 0.9941993586550844, 0.9982632367536974, 0.9911624209747915, 0.9967342735402358, 0.9935638221544305, 0.9952476639716127, 0.9985641162601266, 0.9980036164275848, 0.9960647681707189, 0.9936670107924174, 0.9973573170217719, 0.9963663581203164, 0.9992965109025761, 0.9942441528910474, 0.9953348317282346, 0.9951631074632145, 0.9986859935793428, 0.9950608667645288, 0.9993342048176594, 0.9975673209741589, 0.9954478129476935, 0.9957082128494, 0.9958291698255453, 0.9964209898992085, 0.9994225454632355, 0.9964397544892175, 0.9966379635141217, 0.9966080375012513, 0.9956530267666291, 0.9964615801812249, 0.9972115116080806, 0.9978409893177984, 0.9994512548953868, 0.9940636433301112, 0.9963072127340092, 0.9937502639785547, 0.9974191506645934, 0.9953338711166442, 0.9969122484391456, 0.9936603537012316, 0.9987057408993157, 0.9963085804286707, 0.9924882201529872, 0.9978631154121096, 0.9917124989328727, 0.9985094873089926, 0.9979067711398898, 0.9947623694246922, 0.9932959377554046, 0.997127162236905, 0.9968311336595231, 0.9968065710974235, 0.9958924161396937, 0.9948797478739291, 0.9980096235477001, 0.9966238057268973, 0.9990325024472868, 0.9975256479642958, 0.9989920590254268, 0.9987847477177273, 0.9986639419229959, 0.9964088121008791, 0.9979505726375555, 0.9955363849552823, 0.9937311326621447, 0.9960194933462101, 0.9977256860312118, 0.9977171667107213, 0.9928108605395192, 0.9959173268161529, 0.9915926368529369, 0.9949748761430058, 0.9978300793620473, 0.9954672592927073, 0.9979660937122827, 0.9979848796682317, 0.9989272201089012, 0.9948744944314947, 0.9954430694346152, 0.9924809535580524, 0.9975908434211143, 0.9938317414455398, 0.9934730062830917, 0.9988226021931544, 0.9986255332165767, 0.9980038247515015, 0.9963465149887294, 0.9952219799438651, 0.996084141478018, 0.9954709381602264, 0.9976545098646475, 0.9932018649949979, 0.9958293636164824, 0.9972943971878891, 0.9986803235717661, 0.9989834977343983, 0.9955843191655901, 0.9944852938177353, 0.9973608974188746, 0.9955603418534424, 0.996321292775724, 0.9948837004506158, 0.9986904700523661, 0.9983842149635933, 0.9936452808316008, 0.998344556566133, 0.997338598597155, 0.9956563562517782, 0.9982403650567996, 0.9980042027700998, 0.9960132284803314, 0.9992741495683344, 0.9962374442913939, 0.9981851198396101, 0.9984776211823935, 0.9989221810548112, 0.9920913579773873, 0.9922292426580107, 0.999142094594043, 0.9967667077378743, 0.9929432802082777, 0.9978879175800045, 0.9957879524010472, 0.998106732672501, 0.9993695661777662, 0.9928438643070346, 0.9980905621950428, 0.9997881825321897, 0.9922336534554465, 0.9993224305775616, 0.9976791782395482, 0.9923510343745889, 0.9958844505130662, 0.9978483037191263, 0.9970418584211915, 0.9981477150857774, 0.9947247641981591, 0.9936184346698785, 0.9988258859547735, 0.9983362296090209, 0.9942708024841532, 0.9987236491304321, 0.9988622810874924, 0.9977883091171033, 0.9976090177772289, 0.99840164697804, 0.998534688491159, 0.9971584910419112], \"Term\": [\"access\", \"add\", \"address\", \"ajax\", \"android\", \"angular\", \"annotation\", \"api\", \"app\", \"application\", \"architecture\", \"argument\", \"array\", \"asp\", \"attribute\", \"authentication\", \"available\", \"avoid\", \"azure\", \"background\", \"based\", \"basic\", \"best\", \"better\", \"binding\", \"bit\", \"browser\", \"build\", \"button\", \"calling\", \"cause\", \"cell\", \"change\", \"character\", \"check\", \"chrome\", \"clang\", \"class\", \"client\", \"code\", \"color\", \"column\", \"com\", \"command\", \"compile\", \"compiler\", \"component\", \"connection\", \"constructor\", \"container\", \"content\", \"context\", \"control\", \"controller\", \"convert\", \"copy\", \"core\", \"create\", \"creating\", \"cs\", \"current\", \"custom\", \"data\", \"database\", \"date\", \"datetime\", \"debug\", \"debugging\", \"default\", \"dependency\", \"detect\", \"device\", \"dictionary\", \"difference\", \"different\", \"directory\", \"disable\", \"display\", \"django\", \"docker\", \"doe\", \"dynamic\", \"eclipse\", \"effect\", \"element\", \"email\", \"entity\", \"equivalent\", \"error\", \"event\", \"exception\", \"exist\", \"expected\", \"extension\", \"facebook\", \"failed\", \"faster\", \"field\", \"file\", \"firebase\", \"flutter\", \"folder\", \"form\", \"format\", \"framework\", \"function\", \"gcc\", \"generate\", \"generic\", \"getting\", \"git\", \"google\", \"gradle\", \"group\", \"handle\", \"hash\", \"header\", \"height\", \"hibernate\", \"html\", \"http\", \"image\", \"implementation\", \"index\", \"input\", \"insert\", \"inside\", \"install\", \"instance\", \"instead\", \"invalid\", \"io\", \"iphone\", \"issue\", \"item\", \"java\", \"javascript\", \"jpa\", \"jquery\", \"js\", \"json\", \"key\", \"language\", \"laravel\", \"large\", \"layout\", \"library\", \"like\", \"line\", \"linux\", \"list\", \"load\", \"loading\", \"local\", \"log\", \"login\", \"loop\", \"mac\", \"make\", \"map\", \"maven\", \"member\", \"memory\", \"message\", \"method\", \"missing\", \"mobile\", \"mode\", \"model\", \"module\", \"multiple\", \"mvc\", \"mysql\", \"native\", \"need\", \"nested\", \"net\", \"network\", \"new\", \"node\", \"non\", \"npm\", \"null\", \"number\", \"object\", \"open\", \"operator\", \"option\", \"oracle\", \"package\", \"page\", \"panda\", \"parameter\", \"pas\", \"passing\", \"path\", \"pattern\", \"performance\", \"php\", \"plugin\", \"point\", \"pointer\", \"possible\", \"post\", \"prevent\", \"problem\", \"process\", \"programmatically\", \"project\", \"property\", \"python\", \"query\", \"rail\", \"range\", \"react\", \"read\", \"record\", \"reference\", \"remove\", \"request\", \"resource\", \"response\", \"rest\", \"result\", \"return\", \"row\", \"ruby\", \"run\", \"running\", \"safe\", \"schema\", \"screen\", \"script\", \"select\", \"selenium\", \"server\", \"service\", \"set\", \"setting\", \"setup\", \"shared\", \"single\", \"size\", \"socket\", \"source\", \"specific\", \"spring\", \"sql\", \"state\", \"statement\", \"static\", \"std\", \"store\", \"stream\", \"string\", \"studio\", \"swagger\", \"swift\", \"symbol\", \"syntax\", \"table\", \"task\", \"template\", \"test\", \"testing\", \"text\", \"thread\", \"time\", \"tool\", \"tree\", \"type\", \"uiview\", \"unable\", \"unit\", \"update\", \"url\", \"use\", \"used\", \"user\", \"using\", \"validation\", \"value\", \"variable\", \"vector\", \"version\", \"video\", \"view\", \"visual\", \"vs\", \"warning\", \"way\", \"web\", \"width\", \"window\", \"work\", \"working\", \"wpf\", \"write\", \"xcode\", \"xml\"]}, \"R\": 30, \"lambda.step\": 0.01, \"plot.opts\": {\"xlab\": \"PC1\", \"ylab\": \"PC2\"}, \"topic.order\": [10, 1, 2, 3, 9, 7, 4, 8, 5, 6]};\n",
       "\n",
       "function LDAvis_load_lib(url, callback){\n",
       "  var s = document.createElement('script');\n",
       "  s.src = url;\n",
       "  s.async = true;\n",
       "  s.onreadystatechange = s.onload = callback;\n",
       "  s.onerror = function(){console.warn(\"failed to load library \" + url);};\n",
       "  document.getElementsByTagName(\"head\")[0].appendChild(s);\n",
       "}\n",
       "\n",
       "if(typeof(LDAvis) !== \"undefined\"){\n",
       "   // already loaded: just create the visualization\n",
       "   !function(LDAvis){\n",
       "       new LDAvis(\"#\" + \"ldavis_el899251402301811188967389664111\", ldavis_el899251402301811188967389664111_data);\n",
       "   }(LDAvis);\n",
       "}else if(typeof define === \"function\" && define.amd){\n",
       "   // require.js is available: use it to load d3/LDAvis\n",
       "   require.config({paths: {d3: \"https://d3js.org/d3.v5\"}});\n",
       "   require([\"d3\"], function(d3){\n",
       "      window.d3 = d3;\n",
       "      LDAvis_load_lib(\"https://cdn.jsdelivr.net/gh/bmabey/pyLDAvis@3.4.0/pyLDAvis/js/ldavis.v3.0.0.js\", function(){\n",
       "        new LDAvis(\"#\" + \"ldavis_el899251402301811188967389664111\", ldavis_el899251402301811188967389664111_data);\n",
       "      });\n",
       "    });\n",
       "}else{\n",
       "    // require.js not available: dynamically load d3 & LDAvis\n",
       "    LDAvis_load_lib(\"https://d3js.org/d3.v5.js\", function(){\n",
       "         LDAvis_load_lib(\"https://cdn.jsdelivr.net/gh/bmabey/pyLDAvis@3.4.0/pyLDAvis/js/ldavis.v3.0.0.js\", function(){\n",
       "                 new LDAvis(\"#\" + \"ldavis_el899251402301811188967389664111\", ldavis_el899251402301811188967389664111_data);\n",
       "            })\n",
       "         });\n",
       "}\n",
       "</script>"
      ],
      "text/plain": [
       "PreparedData(topic_coordinates=              x         y  topics  cluster       Freq\n",
       "topic                                                \n",
       "9      0.013189  0.073674       1        1  13.625223\n",
       "0      0.050101 -0.411528       2        1  12.317752\n",
       "1     -0.365935 -0.135630       3        1  11.954182\n",
       "2     -0.224896  0.382459       4        1  10.323693\n",
       "8      0.332474 -0.312146       5        1  10.078504\n",
       "6      0.398604 -0.039892       6        1   9.949812\n",
       "3      0.099662  0.441695       7        1   9.736800\n",
       "7     -0.242471 -0.382504       8        1   8.430208\n",
       "4     -0.426232  0.136357       9        1   7.832143\n",
       "5      0.365504  0.247515      10        1   5.751682, topic_info=          Term         Freq        Total Category  logprob  loglift\n",
       "3        using  3264.000000  3264.000000  Default  30.0000  30.0000\n",
       "30        file  1752.000000  1752.000000  Default  29.0000  29.0000\n",
       "21         net  1500.000000  1500.000000  Default  28.0000  28.0000\n",
       "306        use  1767.000000  1767.000000  Default  27.0000  27.0000\n",
       "75     android  1460.000000  1460.000000  Default  26.0000  26.0000\n",
       "...        ...          ...          ...      ...      ...      ...\n",
       "318   expected   110.720640   111.676189  Topic10  -4.7373   2.8471\n",
       "547   datetime   101.498125   102.453541  Topic10  -4.8242   2.8463\n",
       "2186     basic   100.194611   101.150163  Topic10  -4.8372   2.8462\n",
       "1363     clang    99.471989   100.427407  Topic10  -4.8444   2.8461\n",
       "984     effect    91.665935    92.621393  Topic10  -4.9261   2.8453\n",
       "\n",
       "[330 rows x 6 columns], token_table=      Topic      Freq     Term\n",
       "term                          \n",
       "80        2  0.999076   access\n",
       "155       5  0.998660      add\n",
       "750      10  0.995133  address\n",
       "1315      8  0.996806     ajax\n",
       "75        7  0.999515  android\n",
       "...     ...       ...      ...\n",
       "460       5  0.997788  working\n",
       "131       2  0.997609      wpf\n",
       "224       7  0.998402    write\n",
       "127       3  0.998535    xcode\n",
       "410       1  0.997158      xml\n",
       "\n",
       "[300 rows x 3 columns], R=30, lambda_step=0.01, plot_opts={'xlab': 'PC1', 'ylab': 'PC2'}, topic_order=[10, 1, 2, 3, 9, 7, 4, 8, 5, 6])"
      ]
     },
     "execution_count": 19,
     "metadata": {},
     "output_type": "execute_result"
    }
   ],
   "source": [
    "pyLDAvis.enable_notebook()\n",
    "vis = pyLDAvis.gensim.prepare(lda_model_title_cv, gensim_corpus_title_cv, id2word_title_cv, mds=\"mmds\", R=30)\n",
    "vis"
   ]
  },
  {
   "cell_type": "code",
   "execution_count": 20,
   "metadata": {},
   "outputs": [
    {
     "data": {
      "text/plain": [
       "0.29037707112940336"
      ]
     },
     "execution_count": 20,
     "metadata": {},
     "output_type": "execute_result"
    }
   ],
   "source": [
    "coherence_score_title_cv = CoherenceModel(model=lda_model_title_cv, texts=converted_title_cv, dictionary=id2word_title_cv, coherence='c_v')\n",
    "coherence_score_title_cv.get_coherence()"
   ]
  },
  {
   "cell_type": "code",
   "execution_count": null,
   "metadata": {},
   "outputs": [],
   "source": []
  },
  {
   "cell_type": "code",
   "execution_count": 21,
   "metadata": {},
   "outputs": [],
   "source": [
    "lda_model_title_ctf = gensim.models.ldamodel.LdaModel(corpus=gensim_corpus_title_ctf,\n",
    "                                                id2word=id2word_title_ctf,\n",
    "                                                num_topics=20,\n",
    "                                                random_state=100,\n",
    "                                                update_every=1,\n",
    "                                                chunksize=100,\n",
    "                                                passes=10,\n",
    "                                                alpha=\"auto\")"
   ]
  },
  {
   "cell_type": "code",
   "execution_count": 22,
   "metadata": {},
   "outputs": [
    {
     "data": {
      "text/html": [
       "\n",
       "<link rel=\"stylesheet\" type=\"text/css\" href=\"https://cdn.jsdelivr.net/gh/bmabey/pyLDAvis@3.4.0/pyLDAvis/js/ldavis.v1.0.0.css\">\n",
       "\n",
       "\n",
       "<div id=\"ldavis_el899251402301811212488947614405\" style=\"background-color:white;\"></div>\n",
       "<script type=\"text/javascript\">\n",
       "\n",
       "var ldavis_el899251402301811212488947614405_data = {\"mdsDat\": {\"x\": [0.2914161820310993, 0.14655300241271857, -0.2841691305712827, -0.13112621748049944, 0.28423082263804084, 0.3368591656807116, 0.06453501243647848, -0.16254511911015956, -0.3611831220598336, 0.2563368722631726, 0.3486022706251424, 0.02742831502120313, -0.33950398730618114, -0.24559999362919815, -0.006179323393483982, -0.10882439291863083, -0.004142454877497456, -0.20819847641142397, 0.10386976194335612, -0.008359187293731996], \"y\": [0.33923001019725035, -0.35248749866277307, -0.2402202748822605, 0.3439440096500895, -0.24817114568482423, -0.10441410500504165, 0.3598556111068467, -0.3422752074101109, 0.11266832869858506, 0.15569563655158267, 0.04047051842434475, 0.2217019656091834, -0.0917328375641247, 0.23453536390573945, -0.30388413476314385, 0.08312681486265629, -0.16477380647524464, -0.010152199499284047, -0.030337527957439978, -0.0027795211020307064], \"topics\": [1, 2, 3, 4, 5, 6, 7, 8, 9, 10, 11, 12, 13, 14, 15, 16, 17, 18, 19, 20], \"cluster\": [1, 1, 1, 1, 1, 1, 1, 1, 1, 1, 1, 1, 1, 1, 1, 1, 1, 1, 1, 1], \"Freq\": [10.763669340684709, 6.522852243033335, 6.413035975852576, 6.2553123217924265, 6.083145316436682, 6.017713707549767, 5.852930442520822, 5.475837261009252, 5.444363475650526, 5.364771645076812, 5.230649835809787, 4.828369850870683, 4.67622117207378, 4.255869782629045, 3.7845430931609636, 3.539987309449155, 3.362596568935268, 2.8971367366082794, 2.7732766268078946, 0.4577172940482428]}, \"tinfo\": {\"Term\": [\"using\", \"use\", \"file\", \"python\", \"android\", \"java\", \"net\", \"error\", \"function\", \"server\", \"data\", \"value\", \"object\", \"string\", \"array\", \"class\", \"window\", \"image\", \"method\", \"type\", \"io\", \"test\", \"sql\", \"way\", \"php\", \"app\", \"create\", \"asp\", \"set\", \"time\", \"using\", \"net\", \"io\", \"app\", \"asp\", \"difference\", \"access\", \"getting\", \"problem\", \"aws\", \"developer\", \"safari\", \"identity\", \"cooky\", \"multiple\", \"application\", \"spring\", \"web\", \"api\", \"list\", \"database\", \"run\", \"code\", \"json\", \"request\", \"mvc\", \"django\", \"convert\", \"core\", \"return\", \"table\", \"server\", \"window\", \"sql\", \"jquery\", \"service\", \"authentication\", \"detect\", \"logging\", \"connect\", \"keyboard\", \"define\", \"graph\", \"macro\", \"enter\", \"suppress\", \"multiple\", \"web\", \"application\", \"spring\", \"database\", \"api\", \"list\", \"json\", \"run\", \"code\", \"table\", \"request\", \"django\", \"view\", \"return\", \"convert\", \"android\", \"error\", \"line\", \"memory\", \"query\", \"cs\", \"pas\", \"expected\", \"leak\", \"declaration\", \"complex\", \"multiple\", \"application\", \"spring\", \"code\", \"list\", \"run\", \"web\", \"api\", \"database\", \"django\", \"json\", \"request\", \"studio\", \"convert\", \"table\", \"view\", \"return\", \"working\", \"custom\", \"swift\", \"file\", \"key\", \"write\", \"row\", \"eclipse\", \"gcc\", \"single\", \"duplicate\", \"import\", \"certificate\", \"signed\", \"servlet\", \"register\", \"constraint\", \"self\", \"simple\", \"foreign\", \"multiple\", \"spring\", \"application\", \"database\", \"list\", \"django\", \"api\", \"json\", \"web\", \"request\", \"run\", \"code\", \"table\", \"convert\", \"string\", \"thread\", \"inside\", \"context\", \"specific\", \"update\", \"item\", \"task\", \"device\", \"format\", \"control\", \"disable\", \"order\", \"engine\", \"apps\", \"learning\", \"spring\", \"application\", \"list\", \"convert\", \"multiple\", \"web\", \"code\", \"database\", \"json\", \"number\", \"run\", \"std\", \"django\", \"custom\", \"swift\", \"api\", \"request\", \"table\", \"data\", \"php\", \"mysql\", \"laravel\", \"index\", \"binding\", \"implement\", \"security\", \"better\", \"assembly\", \"support\", \"token\", \"save\", \"plot\", \"refresh\", \"coordinate\", \"right\", \"oauth2\", \"spring\", \"multiple\", \"application\", \"database\", \"list\", \"web\", \"api\", \"code\", \"json\", \"request\", \"run\", \"table\", \"django\", \"type\", \"google\", \"field\", \"chrome\", \"make\", \"new\", \"implementation\", \"local\", \"pattern\", \"password\", \"faster\", \"audio\", \"hide\", \"buffer\", \"play\", \"multiple\", \"application\", \"spring\", \"api\", \"list\", \"web\", \"code\", \"database\", \"json\", \"run\", \"request\", \"django\", \"convert\", \"return\", \"map\", \"table\", \"function\", \"image\", \"size\", \"native\", \"email\", \"height\", \"firefox\", \"excel\", \"caching\", \"generation\", \"csv\", \"ide\", \"finding\", \"box\", \"drawing\", \"matlab\", \"sending\", \"signature\", \"export\", \"oauth\", \"webkit\", \"react\", \"gmail\", \"width\", \"download\", \"imagecreatefromstring\", \"return\", \"application\", \"scaling\", \"calling\", \"html\", \"different\", \"list\", \"multiple\", \"table\", \"code\", \"django\", \"spring\", \"run\", \"web\", \"database\", \"api\", \"python\", \"set\", \"script\", \"range\", \"generate\", \"firebase\", \"int\", \"random\", \"scala\", \"implementing\", \"public\", \"storage\", \"integer\", \"title\", \"secure\", \"const\", \"credential\", \"advice\", \"database\", \"multiple\", \"list\", \"application\", \"api\", \"spring\", \"request\", \"convert\", \"run\", \"code\", \"number\", \"swift\", \"json\", \"web\", \"django\", \"array\", \"create\", \"javascript\", \"add\", \"page\", \"browser\", \"dynamic\", \"tree\", \"given\", \"multidimensional\", \"json\", \"list\", \"web\", \"multiple\", \"application\", \"convert\", \"element\", \"code\", \"spring\", \"run\", \"html\", \"table\", \"django\", \"api\", \"event\", \"form\", \"nested\", \"return\", \"node\", \"number\", \"request\", \"database\", \"custom\", \"view\", \"studio\", \"swift\", \"mvc\", \"object\", \"test\", \"install\", \"running\", \"user\", \"plugin\", \"resource\", \"send\", \"space\", \"true\", \"created\", \"mapped\", \"definition\", \"unit\", \"maven\", \"integration\", \"run\", \"module\", \"default\", \"multiple\", \"pip\", \"long\", \"mac\", \"react\", \"apache\", \"session\", \"docker\", \"push\", \"message\", \"npm\", \"different\", \"js\", \"build\", \"spring\", \"json\", \"api\", \"working\", \"event\", \"application\", \"web\", \"list\", \"code\", \"django\", \"database\", \"request\", \"convert\", \"studio\", \"table\", \"return\", \"custom\", \"use\", \"class\", \"parameter\", \"column\", \"copy\", \"dataframe\", \"assign\", \"derived\", \"base\", \"swap\", \"static\", \"phing\", \"directory\", \"uiimagepickercontroller\", \"clipboard\", \"casting\", \"injection\", \"loader\", \"cast\", \"spark\", \"filters\", \"battery\", \"feature\", \"annotation\", \"mapview\", \"converted\", \"conflict\", \"mock\", \"scope\", \"scipy\", \"specify\", \"explain\", \"multiple\", \"spring\", \"different\", \"custom\", \"possible\", \"list\", \"swift\", \"database\", \"view\", \"library\", \"application\", \"table\", \"default\", \"request\", \"web\", \"template\", \"ruby\", \"api\", \"django\", \"framework\", \"project\", \"code\", \"json\", \"convert\", \"run\", \"return\", \"event\", \"html\", \"mvc\", \"working\", \"studio\", \"java\", \"change\", \"performance\", \"issue\", \"debug\", \"exception\", \"panda\", \"efficient\", \"beta\", \"ec2\", \"freemarker\", \"color\", \"lang\", \"metadata\", \"improve\", \"boolean\", \"improvement\", \"slf4j\", \"volley\", \"hmac\", \"telling\", \"uuid\", \"eventqueue\", \"interoperability\", \"deadlock\", \"factor\", \"nan\", \"tracker\", \"mongoose\", \"uipickerview\", \"schema\", \"schedule\", \"concatenate\", \"loop\", \"timeout\", \"application\", \"database\", \"maven\", \"vs\", \"possible\", \"cell\", \"generic\", \"code\", \"convert\", \"list\", \"version\", \"library\", \"spring\", \"view\", \"multiple\", \"request\", \"studio\", \"build\", \"web\", \"custom\", \"table\", \"api\", \"element\", \"return\", \"run\", \"django\", \"json\", \"working\", \"swift\", \"linux\", \"command\", \"setting\", \"xcode\", \"load\", \"bit\", \"large\", \"replace\", \"azure\", \"bar\", \"program\", \"animation\", \"progress\", \"turn\", \"profiler\", \"tqdm\", \"aiohttp\", \"arm\", \"plugins\", \"osx\", \"easily\", \"bartintcolor\", \"locate\", \"quickly\", \"pycharm\", \"hack\", \"truncating\", \"caller\", \"ldd\", \"stylesheet\", \"lighttpd\", \"stdout\", \"shutdown\", \"free\", \"display\", \"particular\", \"kernel\", \"injection\", \"mac\", \"deployment\", \"color\", \"swift\", \"uiview\", \"execute\", \"application\", \"missing\", \"api\", \"run\", \"background\", \"library\", \"multiple\", \"code\", \"request\", \"project\", \"spring\", \"database\", \"list\", \"web\", \"table\", \"django\", \"json\", \"convert\", \"custom\", \"return\", \"value\", \"text\", \"rail\", \"wpf\", \"symbol\", \"algorithm\", \"target\", \"length\", \"hostlistener\", \"uilabel\", \"aborting\", \"glfw\", \"datatemplate\", \"qtablewidget\", \"circuit\", \"gsub\", \"xcode4\", \"psql\", \"iterated\", \"sanitize\", \"dyld\", \"selectionchanged\", \"glyphicons\", \"tabcontrol\", \"specifying\", \"treeview\", \"received\", \"popular\", \"obvious\", \"has_many\", \"actualwidth\", \"wrappanel\", \"qcombobox\", \"correlation\", \"listbox\", \"belongs_to\", \"unused\", \"enum\", \"xib\", \"association\", \"paste\", \"label\", \"gem\", \"resolve\", \"mvvm\", \"activerecord\", \"viewmodel\", \"ruby\", \"return\", \"maximum\", \"textview\", \"reference\", \"response\", \"default\", \"json\", \"based\", \"cell\", \"null\", \"application\", \"run\", \"content\", \"address\", \"color\", \"multiple\", \"list\", \"custom\", \"possible\", \"database\", \"web\", \"studio\", \"html\", \"spring\", \"code\", \"api\", \"table\", \"request\", \"django\", \"working\", \"convert\", \"swift\", \"view\", \"mvc\", \"visual\", \"store\", \"used\", \"extension\", \"option\", \"interface\", \"binary\", \"cache\", \"design\", \"html5\", \"amazon\", \"retrieve\", \"canvas\", \"abstract\", \"fastest\", \"sealed\", \"securely\", \"recompile\", \"offline\", \"truncating\", \"triangular\", \"reasoning\", \"filelist\", \"restricted\", \"unordered_map\", \"subset\", \"pane\", \"cllocationcoordinate2d\", \"ilist\", \"slick\", \"principle\", \"studio\", \"dealing\", \"perform\", \"debugger\", \"2015\", \"2013\", \"private\", \"iterating\", \"nested\", \"ambiguity\", \"api\", \"web\", \"byte\", \"tool\", \"application\", \"default\", \"content\", \"build\", \"code\", \"html\", \"spring\", \"swift\", \"return\", \"multiple\", \"list\", \"request\", \"database\", \"run\", \"django\", \"json\", \"convert\", \"table\", \"date\", \"variable\", \"xml\", \"post\", \"character\", \"debugging\", \"real\", \"configuration\", \"cause\", \"day\", \"functional\", \"e2e\", \"escaped\", \"kgdb\", \"absolutely\", \"reassignment\", \"sends\", \"operating\", \"evaluation\", \"okay\", \"eol\", \"alphanumeric\", \"meant\", \"bare\", \"openejb\", \"dtd\", \"minute\", \"stackoverflow\", \"numerical\", \"instrumented\", \"arrayof\", \"invoking\", \"vsts\", \"dump\", \"special\", \"rearrange\", \"8601\", \"deserializing\", \"older\", \"word\", \"clr\", \"localized\", \"axios\", \"serialization\", \"root\", \"parse\", \"json\", \"kernel\", \"bash\", \"schema\", \"datatable\", \"django\", \"validation\", \"stack\", \"request\", \"template\", \"mode\", \"instead\", \"view\", \"mvc\", \"convert\", \"form\", \"build\", \"list\", \"code\", \"spring\", \"multiple\", \"application\", \"run\", \"studio\", \"web\", \"api\", \"custom\", \"table\", \"database\", \"return\", \"method\", \"model\", \"like\", \"oracle\", \"stream\", \"scrolling\", \"zoom\", \"relationship\", \"specified\", \"smartphone\", \"touchscreen\", \"respond_to\", \"uitextfield\", \"to_json\", \"has_and_belongs_to_many\", \"associate\", \"coredata\", \"manytomany\", \"snackbar\", \"symmetric\", \"trade\", \"offs\", \"trimming\", \"authenticode\", \"incorrectly\", \"tainted\", \"pipelining\", \"stock\", \"killer\", \"centroid\", \"actionlink\", \"belongstomany\", \"discriminated\", \"10g\", \"verbatim\", \"pan\", \"provided\", \"aop\", \"jsonarray\", \"refactor\", \"firehose\", \"blob\", \"prior\", \"tslint\", \"disadvantage\", \"cleanly\", \"stata\", \"cad\", \"logit\", \"indexer\", \"primary\", \"activerecord\", \"panel\", \"helper\", \"invoked\", \"jdbc\", \"syntax\", \"mock\", \"calling\", \"callback\", \"static\", \"admin\", \"angularjs\", \"django\", \"equivalent\", \"convert\", \"hibernate\", \"connection\", \"spring\", \"ruby\", \"multiple\", \"testing\", \"property\", \"return\", \"gradle\", \"run\", \"database\", \"mvc\", \"custom\", \"application\", \"code\", \"api\", \"web\", \"list\", \"request\", \"working\", \"json\", \"swift\", \"view\", \"html\", \"table\", \"studio\", \"way\", \"time\", \"work\", \"inheritance\", \"complexity\", \"modulo\", \"tox\", \"packaging\", \"coin\", \"reduction\", \"develop\", \"values\", \"improving\", \"javamail\", \"determined\", \"snackbar\", \"symmetric\", \"trade\", \"offs\", \"trimming\", \"authenticode\", \"incorrectly\", \"tainted\", \"pipelining\", \"stock\", \"killer\", \"centroid\", \"sparksql\", \"prohibit\", \"scoping\", \"utc\", \"swashbuckle\", \"blittable\", \"gmt\", \"accordion\", \"dockerized\", \"leverage\", \"ing\", \"popped\", \"floor\", \"v21\", \"staying\", \"uppercase\", \"fxcop\", \"filestorage\", \"pausing\", \"expose\", \"requestmapping\", \"mpmovieplayerviewcontroller\", \"autofocus\", \"uefi\", \"appstore\", \"habtm\", \"viewstate\", \"inputbindings\", \"fxml\", \"involving\", \"headers\", \"indexer\", \"minute\", \"prop\", \"remember\", \"pythonic\", \"unpack\", \"popups\", \"spent\", \"gram\", \"rack\", \"stress\", \"apollo\", \"exchange\", \"robust\", \"profiler\", \"synchronized\", \"raspberry\", \"dirty\", \"thought\", \"proper\", \"javafx\", \"previous\", \"populate\", \"determining\", \"best\", \"py\", \"operator\", \"internet\", \"run\", \"explorer\", \"pre\", \"simulate\", \"property\", \"swift\", \"mvvm\", \"multiple\", \"event\", \"convert\", \"view\", \"process\", \"objective\", \"core\", \"application\", \"video\", \"spring\", \"default\", \"list\", \"web\", \"directory\", \"api\", \"json\", \"database\", \"request\", \"django\", \"return\", \"code\", \"html\", \"different\", \"table\", \"mvc\", \"custom\", \"working\", \"studio\", \"package\", \"remove\", \"exactly\", \"snackbar\", \"symmetric\", \"trade\", \"offs\", \"trimming\", \"authenticode\", \"incorrectly\", \"tainted\", \"pipelining\", \"stock\", \"killer\", \"centroid\", \"sparksql\", \"prohibit\", \"scoping\", \"spinbox\", \"webjob\", \"360\", \"qtreewidget\", \"upcast\", \"freeglut\", \"selects\", \"law\", \"retries\", \"masm\", \"hull\", \"convexity\", \"titlebar\", \"customise\", \"fakepath\", \"pls\", \"uiwindow\", \"meant\", \"lightweight\", \"sibling\", \"psql\", \"backslash\", \"json_encode\", \"cran\", \"nuget\", \"subscribe\", \"xsi\", \"devexpress\", \"family\", \"dtype\", \"carthage\", \"zendframework\", \"monorepo\", \"alphabet\", \"vsix\", \"snow\", \"aapt\", \"ticklabels\", \"accent\", \"subdomain\", \"beans\", \"jade\", \"unless\", \"divs\", \"importing\", \"raise\", \"punctuation\", \"pip\", \"seaborn\", \"software\", \"mp4\", \"protobuf\", \"unused\", \"ssis\", \"recognize\", \"playing\", \"special\", \"filename\", \"black\", \"manual\", \"global\", \"sublime\", \"primary\", \"entry\", \"module\", \"com\", \"dll\", \"batch\", \"working\", \"table\", \"library\", \"project\", \"integration\", \"html\", \"namespace\", \"unit\", \"multiple\", \"application\", \"spring\", \"json\", \"web\", \"list\", \"api\", \"database\", \"node\", \"run\", \"code\", \"custom\", \"video\"], \"Freq\": [2090.0, 1278.0, 1301.0, 1087.0, 1145.0, 1018.0, 1270.0, 974.0, 904.0, 930.0, 846.0, 687.0, 743.0, 777.0, 739.0, 710.0, 783.0, 714.0, 556.0, 697.0, 889.0, 661.0, 707.0, 490.0, 625.0, 786.0, 567.0, 734.0, 536.0, 423.0, 2087.8640555086713, 1267.8255393256816, 886.6186044083508, 784.5727056287233, 731.970059515653, 556.226781821792, 467.45767930687975, 420.61379394262354, 291.89067388525893, 169.726880036558, 140.76689906467536, 130.14762324551293, 92.86152333345525, 71.65369670931024, 0.1594394340928349, 0.15942679862514528, 0.15941190682393963, 0.15937649974415, 0.15936292703023064, 0.1593713448898865, 0.15936190300194258, 0.1593539884782249, 0.15935062133436256, 0.15934588303397895, 0.15933663206656332, 0.15930599799998063, 0.15933664942297499, 0.15932088980118628, 0.15928772169850097, 0.15931040652854267, 0.15931358275187674, 928.3522562646967, 781.1104027295225, 704.6962466008171, 481.6869857480598, 454.70163717207885, 247.98777957626757, 177.40795515706185, 157.09446550716868, 152.96405325239112, 111.6821287678271, 90.37191269109418, 61.26406953637961, 24.285249298838174, 23.0497240566208, 14.951930373517106, 0.1515772298254384, 0.1515282154975155, 0.1515646396643818, 0.15155534166741103, 0.15151757118424125, 0.15151478388876924, 0.1515225462437064, 0.15150402387643766, 0.15150770521007995, 0.1515054543375101, 0.15147909598863138, 0.1514932112736255, 0.15149435774610265, 0.15146789421626272, 0.15147426818251195, 0.1514823460803327, 1143.2866446085113, 972.5449136681552, 540.3368552835062, 443.01666850834425, 376.23485040773255, 362.2054710027625, 210.96089620517978, 131.8635821992261, 93.00421870219782, 52.44633134284107, 29.419450070691795, 0.1469828787005448, 0.1469713794891487, 0.14696009743911895, 0.14691532083359285, 0.1469298292810647, 0.14691587924853475, 0.14692740948298316, 0.14691967440193615, 0.14692135998777928, 0.1469033666174293, 0.1469089094027785, 0.14689958180504537, 0.14687449449672982, 0.14688922010556796, 0.1468834704998699, 0.14687321221056696, 0.14687946852611966, 0.14686916887274692, 0.14687165071693312, 0.14687287095699134, 1298.7963010705098, 448.8860541163753, 371.14058625536876, 285.1838299550528, 262.1433218027332, 211.54191990243552, 168.02063068620967, 156.4851210187674, 153.35082518840207, 150.18378716144537, 117.3878396580125, 107.01554558613167, 100.28651807693022, 94.53549068402289, 78.0536886460175, 74.79029353641049, 24.54319422241481, 0.15959415163202165, 0.15956965106656407, 0.1595770950424009, 0.15952752905695067, 0.1595348015590894, 0.15950755741446157, 0.1595238575024729, 0.1595136598607777, 0.15953106948448284, 0.15950334117882498, 0.15951641352663604, 0.15951380107441146, 0.1594864964096549, 0.15949032935114268, 774.5604925594583, 413.8039987513785, 356.9283792660144, 296.55506866865807, 255.0942405806894, 253.60199147850682, 250.81382280855962, 245.4401832075659, 243.0809944698769, 239.22184246432275, 239.1467699717289, 216.7848098858655, 143.2696546671475, 106.02108246547212, 91.88931351509063, 32.918318709448684, 0.1363764659911556, 0.13638384241097745, 0.13635094279384644, 0.136319092747089, 0.13639238610999987, 0.13634836300872258, 0.13633505210220892, 0.13634260508527118, 0.13633281563449698, 0.13628407437107298, 0.1363365038444079, 0.13625929666300113, 0.13632597871346527, 0.1363017601223214, 0.13630310396476236, 0.13633936809253022, 0.13632288885675797, 0.1363105490480666, 843.6747680873493, 622.937377024321, 319.9965637360737, 255.8208949719965, 255.4660644880002, 228.80208879657468, 203.07374872637732, 189.80288989599765, 166.54112348009375, 153.73254785994774, 153.04197480457788, 131.2854507725761, 130.78495199131333, 118.50662487153075, 100.96093808446021, 63.84207246502355, 45.200236709245814, 45.14836846151519, 0.14444765728375836, 0.14446489080716024, 0.14444937481396225, 0.14440770772528677, 0.1444145002176186, 0.14441106515721078, 0.1444031082376221, 0.1443966747770278, 0.1443942488869093, 0.144385011097338, 0.1443974219511843, 0.1443713872984325, 0.1443839340021254, 694.6535667727305, 468.3180632008437, 391.2191951945848, 326.85044869659373, 319.90917971624623, 277.3730056259405, 265.5362958325444, 254.8823678977471, 170.71887507270196, 158.01018910577352, 156.25618582859474, 152.45016919635444, 112.23744156032583, 87.55943150863064, 77.66859628185568, 0.14096794729707252, 0.14095631043105813, 0.14094709909186104, 0.14091235837507357, 0.1409197576475434, 0.14091732268287857, 0.14090386431228938, 0.14091121639552148, 0.14090130665560657, 0.1409045438373121, 0.140892104754257, 0.14089282203066988, 0.14088329924250403, 0.14087415396823968, 0.1408387054128869, 0.14087625860824066, 902.3617126113811, 711.7463333839133, 334.9740371015327, 239.95354804032172, 227.55421301632435, 188.85407418936322, 112.65180367585705, 105.24377627716855, 96.42700684076983, 87.16934603860733, 82.7629640569142, 75.20295020539754, 75.16954112462774, 74.9853074494544, 73.3804916306796, 71.77404378509048, 61.21992529421366, 49.38915043718971, 44.92851373583238, 24.509950489905055, 5.1302661189342595, 0.13362569201811894, 0.13356250607692183, 0.13357288990403862, 0.13357062064930306, 0.1335463828895789, 0.1336564196697911, 0.1337266076304641, 0.13356105799218784, 0.1335945758559084, 0.1336440668006275, 0.13363788595115322, 0.13369433476642337, 0.13373452794757615, 0.1336582915842033, 0.13367973030209412, 0.133671827644552, 0.13371577348431415, 0.13368112540811833, 0.13369084700136286, 0.13368539019425557, 0.1336836507266178, 1084.5774473929885, 534.4572302453673, 299.7267598614542, 238.41960398798804, 215.32252365240026, 195.852170213121, 161.20817685092427, 139.20829309886886, 111.5591909063022, 110.43442281992928, 90.30318935739415, 85.40112538186072, 85.18822159908483, 54.401218085188404, 51.15117886805377, 42.83670316664534, 29.877222580297197, 27.358906956074538, 0.14031148232090018, 0.14036137356827746, 0.14031786467825427, 0.1403487668761723, 0.140306943560581, 0.14034042679434783, 0.14029025461789857, 0.14028233592968206, 0.1403020887550558, 0.14029985010151344, 0.14024694764564585, 0.14026701651622556, 0.14029679499785563, 0.14031178080803916, 0.1402899122355921, 736.8690934077898, 565.3528625132636, 472.832757416208, 416.27887226075023, 383.63671479652885, 342.0834180697623, 272.22270618467434, 176.3620444401657, 101.72773193879587, 54.41237140446983, 0.13630364641174228, 0.13631974534901592, 0.13631815362174116, 0.13636082748395012, 0.13635014387968739, 0.13628644883662136, 0.1362598998637612, 0.13630272078772923, 0.1363412769206839, 0.13630429521362059, 0.13626431171653364, 0.13627942447495225, 0.13629362891074126, 0.1363075478737038, 0.1362643549699922, 0.13624043580741207, 0.1362334546992015, 0.13627564412267468, 0.13623959669031613, 0.136250306246654, 0.13629112886083686, 0.13630822262765724, 0.13626857650754703, 0.13626940697395126, 0.13626869761723098, 0.13626865436377242, 0.13626624947147684, 740.7114975349397, 658.6584852224989, 410.35440110184135, 382.47624995380994, 380.5095018285063, 224.08505388533612, 181.27896006629751, 137.86879656997732, 127.81366765850805, 95.21503081170731, 54.27458651189839, 46.44685279620422, 20.757995395851268, 0.12993058402569052, 0.12992872845321188, 0.12989216524096234, 0.12998462335692068, 0.1299161527324589, 0.1299427801975274, 0.13003604801784005, 0.12986823679040824, 0.12987739657091643, 0.12989626436925605, 0.1299258691847107, 0.12986617035742068, 0.12988610089272531, 0.1298981199417347, 0.1298797413397758, 0.129908722008124, 0.12988090528978513, 0.12993919556887545, 0.12991897826327867, 0.12991548641325068, 0.13001648859703113, 0.12997850840216155, 0.12998571983156715, 0.12994746973524612, 0.12994543703994, 0.13002321926447638, 0.1299919528682113, 0.12999317585916315, 0.12997946992608228, 0.12997192111986236, 0.12998595599533716, 0.12997001494086158, 0.12996314932269062, 0.12995013501207908, 0.12995777659692292, 0.12995541495922283, 0.12994868429177758, 1276.232686920788, 708.4743641678598, 373.96516233181325, 365.2385754898986, 193.137509583431, 112.23951777941298, 33.12759011636205, 0.13434340328787153, 0.13435698162553697, 0.1343368632628492, 0.1343866920249242, 0.13434292057173894, 0.13439992778985035, 0.1343532600398695, 0.13434505386561527, 0.134336738690944, 0.13436084335459778, 0.1343422665692367, 0.13435402304278876, 0.13435682591065548, 0.13433938584392924, 0.13433733040749363, 0.13436092121203852, 0.13437154096695575, 0.1343406315629811, 0.13433440296772173, 0.13434162813822262, 0.13436880038504162, 0.1343715565384439, 0.13434058484851666, 0.13436484522705194, 0.13435431890106359, 0.1345223508296734, 0.1345045370472316, 0.13442397016755156, 0.13443522835348287, 0.13441473627507952, 0.13448029224018446, 0.13443647407253476, 0.13447322278456508, 0.13443566435515103, 0.13441412898704175, 0.1345097846387376, 0.13444393281535785, 0.13442583874612937, 0.1344556114314692, 0.13447706894213773, 0.13440972225589573, 0.13440487952308158, 0.13447026420181687, 0.1344568727220092, 0.13441609099454846, 0.13442484217088788, 0.1344640667495338, 0.134461886741193, 0.1344475454006083, 0.13446511003923975, 0.13443958837016445, 0.13442912433012869, 0.13442831461274496, 0.134431148623588, 0.13443029219173983, 0.1344318337690665, 1015.9648155280286, 465.6174826739982, 315.95109244315, 314.36907554488545, 262.36444727783135, 251.6278456949937, 189.96200250263632, 97.28763050275924, 14.578158932544845, 6.673763646182204, 0.13362968954762414, 0.13369289321732558, 0.1336319516689449, 0.13362919188093358, 0.1336331581336493, 0.1336326604669587, 0.133628618810199, 0.1336298705173298, 0.13362386835542545, 0.13362533119387954, 0.13362079187042925, 0.13362637176968706, 0.13361869563800535, 0.13362021879969466, 0.1336276838000531, 0.13362303891094118, 0.13362502957770342, 0.13361955524410724, 0.13363311289122287, 0.13362331036549965, 0.13367039265058864, 0.13363554090144045, 0.13363103173960778, 0.13366493339780125, 0.13364474019481146, 0.13379473391918523, 0.13375801214974523, 0.13369434097497085, 0.13367452479220118, 0.13370025265202237, 0.13366972909500122, 0.13366868851919367, 0.13375003440188743, 0.13373353599705484, 0.13376318486716532, 0.13368648387358348, 0.13369957401562615, 0.13378533857529976, 0.13372038553177695, 0.13380118850535372, 0.133740171552929, 0.1337196918145719, 0.1336853075704967, 0.13376060604885967, 0.1337190131781757, 0.1337279259361794, 0.13375388000813268, 0.133708320884733, 0.13372524155221213, 0.13374971770490252, 0.13374051841153153, 0.1337459475027013, 0.13371629863259082, 0.13371949576405745, 400.96744732672386, 338.36525510980647, 304.8024959556189, 278.3403355915814, 247.13391113534757, 194.2488448497702, 155.9176617800231, 151.8908558978589, 145.58161430043074, 122.11115404143288, 116.87049623116488, 91.35777195064492, 81.98150472559705, 52.81125514401383, 0.1203652777286217, 0.12036408363831176, 0.1203637679592643, 0.12037058937172448, 0.12037020506679716, 0.1203726618732969, 0.1203630130745856, 0.12036493459922229, 0.12037031486820497, 0.12036632084199589, 0.12036474244675861, 0.12036184643462763, 0.1203666639713953, 0.12036622476576406, 0.12036120135135675, 0.12036148958005226, 0.12036647181893162, 0.12037296382716837, 0.12037540690849215, 0.12038795171933442, 0.1204159648035019, 0.120369134503071, 0.12038505570720344, 0.12038719683465572, 0.12040325529054792, 0.12038306555668689, 0.12042286856701795, 0.1204491660041884, 0.1204069610880615, 0.1204002083014812, 0.12050849993993362, 0.12039938479092262, 0.12047709673730002, 0.12047334976425851, 0.1204066042334861, 0.1204302252613412, 0.12051467626912293, 0.12047133216339, 0.12046386566765893, 0.12043922897678161, 0.12049977072801275, 0.12047624577638949, 0.12048091233622141, 0.12047981432214332, 0.1204530914045176, 0.12046341273685172, 0.12046784596869205, 0.12045650897333568, 0.12044572098501836, 0.12045030519379442, 685.2967507413417, 425.9233250774413, 384.34631589350005, 323.3261070213956, 186.06623781554993, 114.91133034530598, 107.63539060742691, 77.35364468300052, 0.11583736176429452, 0.11584784598630088, 0.11583825274008784, 0.1158389484335155, 0.11584164577119117, 0.11584001028137877, 0.11583719089222456, 0.11583911930558545, 0.11584119418072059, 0.11583795981653935, 0.11583645858335334, 0.11583682473778895, 0.11583959530635175, 0.11583542114578577, 0.11583837479156638, 0.11583528688915938, 0.11583490852957591, 0.1158408768468764, 0.11583677591719754, 0.1158367881223454, 0.11583857007393204, 0.1158372885334074, 0.11584333008159499, 0.115841243001312, 0.11584469705815462, 0.11584368403088276, 0.11584426987797973, 0.1158389240232198, 0.11584654003548053, 0.11585111696592568, 0.11584278084994158, 0.11584314700437719, 0.11584048628214508, 0.11586738642801471, 0.11585094609385573, 0.11585436353525477, 0.11586252877916893, 0.1158469672156554, 0.1158506897857508, 0.11589439642021504, 0.1159221631315823, 0.11585911133776988, 0.11584481910963315, 0.11587458746524842, 0.11588400983939151, 0.1159087862895346, 0.11593677269356323, 0.11588645086896225, 0.11587667454553141, 0.11589594647399247, 0.11597081285092731, 0.11593873772236768, 0.11589083251704176, 0.11587701628967131, 0.11589158923620868, 0.1159768299888192, 0.11594703722290822, 0.11591411993914669, 0.11589918083817372, 0.11594159372696546, 0.11594509660439947, 0.11591404670825957, 0.11590984813739788, 0.11596220822169043, 0.11593563761481283, 0.11593943341579534, 0.11592019810277784, 0.1159287050908319, 0.11592971811810376, 0.11591178875590662, 0.11592335923607197, 0.11591399788766815, 0.11591326557879693, 0.11591084895952189, 356.47957623176006, 225.16672990836227, 210.49951646389502, 208.87344492511335, 156.36081751600963, 141.97197708174747, 126.5583868173346, 115.57283529672439, 96.92003159313582, 96.7250231863144, 61.2744447933459, 58.52908859546072, 57.95033530175506, 36.14632387127133, 22.86569577806755, 0.1287562028593476, 0.1287586231479529, 0.12875687643023304, 0.1287651990264276, 0.1287567508492205, 0.128756043028968, 0.12875616860998054, 0.12875405656567876, 0.12875582611630998, 0.12875492421631085, 0.12875291492011023, 0.12875183035682014, 0.12875250392770557, 0.1287579838264345, 0.12875459313909599, 0.12875527812643708, 0.1288512106035607, 0.12876089502263427, 0.12875967346187595, 0.12875884006061092, 0.12877714063907444, 0.12876318973022702, 0.12878286028337277, 0.1287663863378189, 0.12881075068461198, 0.12876361213908735, 0.12886801562632946, 0.12887348410860272, 0.12878566873147138, 0.1287826776200818, 0.12889838339845236, 0.12883017007573266, 0.12881079635043471, 0.12880830756309533, 0.12886165666051275, 0.128832407701047, 0.1288908942035228, 0.1288375336896497, 0.128841803444076, 0.12890381763135855, 0.12887205705164206, 0.12885364230862165, 0.12886662281873584, 0.1288623758972209, 0.12885458987444354, 0.12885860846684477, 0.12884570787192037, 0.12884254551369553, 372.1574487898383, 345.3156123039399, 244.49578161113695, 188.8833444795254, 171.32558301734528, 154.98666636016975, 124.36025901062676, 119.89480741430314, 105.89796945449937, 78.03770462715973, 60.4318545404527, 0.11201903112817263, 0.11201582119444042, 0.11201829371096388, 0.11201460662492013, 0.112015875416294, 0.11201881424075828, 0.11201608145933763, 0.11202130844602318, 0.1120177406480573, 0.1120152898202753, 0.11201539826398246, 0.11201436804876436, 0.11201444395935937, 0.1120147150686273, 0.11201546333020676, 0.11201891184009474, 0.11201460662492013, 0.11201402102890141, 0.11201739362819438, 0.11201916126062123, 0.11201655861164916, 0.1120178599361352, 0.11201947574737202, 0.11202435571419463, 0.11201970347915707, 0.11201907450565549, 0.11202587392609499, 0.11202000712153715, 0.1120245942903504, 0.11202083129371163, 0.11203213112799865, 0.11202424727048746, 0.1120272294724346, 0.1120290296379736, 0.11203801962129792, 0.1121097334448488, 0.11203461448889282, 0.11204693369402721, 0.11205236672375639, 0.11202930074724153, 0.11210392086214455, 0.11204504677352248, 0.11204716142581227, 0.11210157847806969, 0.11207011895861996, 0.11205007856153512, 0.11205100033304606, 0.11208709039879192, 0.11208498659087283, 0.11209546225298536, 0.11206780910765726, 0.11206241945541096, 0.11211517731894868, 0.1121060680475465, 0.11213009917305515, 0.11214099776562564, 0.1121345019875662, 0.11210657773297018, 0.1120856047200037, 0.11211297591169316, 0.11210843212036278, 0.11208494321338996, 0.11209090761728426, 0.11210898518326934, 0.11208844594513152, 554.0352224476154, 284.45205741489184, 244.65226524703968, 161.82692123387037, 117.13235701840308, 82.11704274064401, 55.720239074577215, 49.39615883989297, 42.60488315473703, 0.10771550096736096, 0.10771609893620596, 0.10771382852324761, 0.10771987361454, 0.10771383786651081, 0.10771238966071434, 0.10771232425787192, 0.10771318383808659, 0.10771486562546315, 0.10771128715565637, 0.10771128715565637, 0.10771128715565637, 0.10771128715565637, 0.10771128715565637, 0.10771128715565637, 0.10771128715565637, 0.10771128715565637, 0.10771128715565637, 0.10771128715565637, 0.10771128715565637, 0.10771128715565637, 0.10771417422398612, 0.10771622039862759, 0.10771136190176199, 0.10771401538851166, 0.10771646332347087, 0.10771852818463876, 0.10771687442705181, 0.107715641116309, 0.10771315580829699, 0.10771343610619308, 0.10771188512450136, 0.107719275645695, 0.107712604555768, 0.10771521132620167, 0.1077171360384215, 0.10771690245684143, 0.10771569717588822, 0.1077168090242094, 0.10771557571346659, 0.10771725750084314, 0.1077211069252828, 0.10772191978918148, 0.10772004179327765, 0.1077226205339217, 0.10771856555769158, 0.10773667280177915, 0.1077341127476615, 0.10773694375641203, 0.1077435401002334, 0.10773173955880791, 0.10774547415571645, 0.10772797422373707, 0.10773312236176197, 0.10778644436486196, 0.10774284869875637, 0.10778080103388729, 0.10775037002563485, 0.10776373089201527, 0.10780984923918567, 0.10775582649134546, 0.1078190056371247, 0.10775825573977826, 0.10776068498821106, 0.10777518573270224, 0.10774129771706467, 0.10778926603034929, 0.10779200360646779, 0.1077701964301518, 0.10777117747278812, 0.1078114189074038, 0.1077877617649736, 0.10779078898225139, 0.10779432073574215, 0.10779490936132395, 0.10778254822410627, 0.10776984138615008, 0.10778591179885938, 0.10777158857636905, 0.107771401711105, 0.10776824368814235, 0.10777517638943904, 0.1077707943989968, 487.67329539988435, 420.98673105866783, 380.5829859510551, 51.94452503978801, 47.080060766862495, 0.11802556294723682, 0.11802158294979877, 0.11802161872505665, 0.11801601095338551, 0.11801575158276596, 0.11802201225289322, 0.11801525072915578, 0.11801519706626898, 0.11801519706626898, 0.1180154385492596, 0.11801517917864003, 0.11801517917864003, 0.11801517917864003, 0.11801517917864003, 0.11801517917864003, 0.11801517917864003, 0.11801517917864003, 0.11801517917864003, 0.11801517917864003, 0.11801517917864003, 0.11801517917864003, 0.11801517917864003, 0.11801517917864003, 0.11801517917864003, 0.11801517917864003, 0.11802526780135938, 0.11801518812245451, 0.11801518812245451, 0.11801518812245451, 0.11801518812245451, 0.11801518812245451, 0.11801518812245451, 0.11801518812245451, 0.11801518812245451, 0.11801518812245451, 0.11801518812245451, 0.11801518812245451, 0.11801518812245451, 0.11801518812245451, 0.11801518812245451, 0.11802114470288987, 0.11802194964619193, 0.11801519706626898, 0.11801519706626898, 0.1180228976905255, 0.11801679800905866, 0.11801528650441365, 0.11801520601008345, 0.11802186915186173, 0.11801521495389791, 0.11801528650441365, 0.1180161003915302, 0.1180201698271129, 0.1180222895111417, 0.11802109998381753, 0.1180212162534056, 0.11802134146680815, 0.11801989256886442, 0.11801997306319462, 0.11801980313071973, 0.11802150245546857, 0.11801854205287982, 0.1180196510858738, 0.11802048286061927, 0.11801974052401847, 0.11802338065650674, 0.11802007144515377, 0.11801977629927633, 0.11802095688278605, 0.11803477507613834, 0.11802090321989925, 0.11802202119670768, 0.11803890711842233, 0.11803557107562596, 0.11803172523540492, 0.11802429292558243, 0.11803213665087042, 0.11806732161698559, 0.11802812087817452, 0.11805157155970832, 0.11803270905499635, 0.11810704109703579, 0.11802995436014035, 0.11802825503539154, 0.11802789728281284, 0.11807179352421934, 0.11808534340313762, 0.11803911282615508, 0.11813727118993596, 0.11808136340569958, 0.1180929188139916, 0.11808449374076321, 0.11805772490406197, 0.11804324486843908, 0.11807571985877058, 0.11812954373423604, 0.11806469213553215, 0.11812497344504314, 0.11807772327321131, 0.11811052024086365, 0.11810935754498288, 0.11806048854273242, 0.11810474253671764, 0.11810013647226687, 0.11810537754754483, 0.11809532470008335, 0.11809601337379735, 0.11808634511035798, 0.11810005597793667, 0.11807903801393803, 0.11807543365670763, 0.11808713216603112, 0.1180804779680673, 0.11808081783301706, 0.1180789664634223, 0.11807990556394138, 61.5537743788446, 44.72152910617946, 7.37902645475566, 0.032205415800604244, 0.032205415800604244, 0.032205415800604244, 0.032205415800604244, 0.032205415800604244, 0.032205415800604244, 0.032205415800604244, 0.032205415800604244, 0.032205415800604244, 0.032205415800604244, 0.032205415800604244, 0.032205415800604244, 0.032205415800604244, 0.032205415800604244, 0.032205415800604244, 0.032205415800604244, 0.032205415800604244, 0.032205415800604244, 0.032205415800604244, 0.032205415800604244, 0.032205415800604244, 0.032205415800604244, 0.032205415800604244, 0.032205415800604244, 0.032205415800604244, 0.032205415800604244, 0.032205415800604244, 0.03220541875287991, 0.03220541875287991, 0.03220541875287991, 0.03220543056198259, 0.03220550141659869, 0.03220553389163106, 0.03220570217134429, 0.03220578483506306, 0.03220572578954965, 0.03220592949657092, 0.03220592063974391, 0.03220546894156631, 0.03220628967420273, 0.03220559293714448, 0.03220548370294467, 0.03220555455756076, 0.032205545700733744, 0.032205433514258267, 0.03220542465743125, 0.032205640173555206, 0.03220547484611765, 0.03220547484611765, 0.032205421705155585, 0.03220541875287991, 0.032205421705155585, 0.03220562245990118, 0.03220546894156631, 0.03220543941880961, 0.03220543056198259, 0.032205465989290645, 0.0322055397961824, 0.03220555455756076, 0.032205678553138925, 0.03220549846432302, 0.03220546894156631, 0.03220618929682993, 0.032205595889420145, 0.032205601793971486, 0.032205672648587584, 0.03220562245990118, 0.03220582321464678, 0.03220575236003068, 0.03220567560086325, 0.0322056608394849, 0.03220575531230636, 0.03220566379176057, 0.0322056608394849, 0.03220572578954965, 0.03220589406926287, 0.03220563722127953, 0.03220565788720923, 0.032205787787338735, 0.032205994446635675, 0.032205808453268425, 0.032205846832852145, 0.03220572283727398, 0.03220608596718146, 0.032206044635322076, 0.032205956067051955, 0.032205950162500614, 0.0322057907396144, 0.03220591473519257, 0.03220575531230636, 0.032205846832852145, 0.03220599149436, 0.03220597082843031, 0.03220596492387897, 0.0322059413056736, 0.03220590292608989, 0.03220587930788452, 0.03220586454650617, 0.03220585568967916, 0.032205840928300804, 0.03220583207147379, 0.03220582616692245, 0.03220581731009544, 0.032205814357819766], \"Total\": [2090.0, 1278.0, 1301.0, 1087.0, 1145.0, 1018.0, 1270.0, 974.0, 904.0, 930.0, 846.0, 687.0, 743.0, 777.0, 739.0, 710.0, 783.0, 714.0, 556.0, 697.0, 889.0, 661.0, 707.0, 490.0, 625.0, 786.0, 567.0, 734.0, 536.0, 423.0, 2090.2850759739536, 1270.246559790965, 889.0396248736341, 786.9937260940065, 734.3910799809363, 558.6478022870753, 469.87869977216286, 423.03481440790665, 294.31169435054204, 172.14790050184118, 143.1879195789655, 132.56864371079612, 95.2825437987384, 74.07471717459339, 2.58393382479409, 2.5837418283327476, 2.583595820717106, 2.5831113065019484, 2.582978457696317, 2.5831388132327535, 2.5830088628585055, 2.5829025968899133, 2.5828649994363375, 2.5828275614351717, 2.5826804833763553, 2.5822110131726816, 2.5827092518227133, 2.582535449024578, 2.5820075854201017, 2.5823840730124092, 2.5824375558393524, 930.7810754342113, 783.5392218990371, 707.1250657703316, 484.11580491757417, 457.13045634159323, 250.41659874578204, 179.83677432657632, 159.52328467668315, 155.3928724219056, 114.11094797512563, 92.8007318606086, 63.69288870589406, 26.714068468352615, 25.47854322613524, 17.380749543031545, 2.58393382479409, 2.5831113065019484, 2.5837418283327476, 2.583595820717106, 2.5830088628585055, 2.582978457696317, 2.5831388132327535, 2.5828275614351717, 2.5829025968899133, 2.5828649994363375, 2.5824375558393524, 2.5826804833763553, 2.5827092518227133, 2.582270937185947, 2.5823840730124092, 2.582535449024578, 1145.720062150378, 974.9783312100218, 542.7702728253728, 445.4500860502108, 378.6682679495991, 364.6388885446291, 213.39431374704637, 134.2969997584491, 95.43763624406436, 54.879748884707645, 31.852867612558356, 2.58393382479409, 2.5837418283327476, 2.583595820717106, 2.5828649994363375, 2.5831388132327535, 2.5829025968899133, 2.5831113065019484, 2.582978457696317, 2.5830088628585055, 2.5827092518227133, 2.5828275614351717, 2.5826804833763553, 2.582262866801168, 2.582535449024578, 2.5824375558393524, 2.582270937185947, 2.5823840730124092, 2.5822043998748776, 2.582251504349949, 2.582277302653681, 1301.2171266598195, 451.3068797056848, 373.5614118446783, 287.6046555443623, 264.56414739204274, 213.96274549174504, 170.4414562755192, 158.9059466080769, 155.77165077771159, 152.60461275075488, 119.80866524732198, 109.43637119279757, 102.70734368359612, 96.95631627333238, 80.47451423532699, 77.21111912571997, 26.964019811724327, 2.58393382479409, 2.583595820717106, 2.5837418283327476, 2.5830088628585055, 2.5831388132327535, 2.5827092518227133, 2.582978457696317, 2.5828275614351717, 2.5831113065019484, 2.5826804833763553, 2.5829025968899133, 2.5828649994363375, 2.5824375558393524, 2.582535449024578, 777.0044554472208, 416.247961639141, 359.3723421537769, 298.99903155642056, 257.5382034684519, 256.0459543662693, 253.2577856963221, 247.88414609532836, 245.52495735763938, 241.66580535208521, 241.59073285949137, 219.22877277362798, 145.71361755490997, 108.46504535323457, 94.33327640285309, 35.36228159721117, 2.583595820717106, 2.5837418283327476, 2.5831388132327535, 2.582535449024578, 2.58393382479409, 2.5831113065019484, 2.5828649994363375, 2.5830088628585055, 2.5828275614351717, 2.5819047440391234, 2.5829025968899133, 2.581443465913286, 2.5827092518227133, 2.582251504349949, 2.582277302653681, 2.582978457696317, 2.5826804833763553, 2.5824375558393524, 846.1106941443883, 625.37330308136, 322.4324897931126, 258.2568210290354, 257.9019905450391, 231.23801485361358, 205.50967478341622, 192.23881595303655, 168.97704953713264, 156.16847391698664, 155.47790086161677, 133.721376829615, 133.22087804835223, 120.94255092856963, 103.3968641414991, 66.27799852206243, 47.63616276628473, 47.584294892578335, 2.583595820717106, 2.58393382479409, 2.5837418283327476, 2.5830088628585055, 2.5831388132327535, 2.5831113065019484, 2.582978457696317, 2.5828649994363375, 2.5828275614351717, 2.5826804833763553, 2.5829025968899133, 2.5824375558393524, 2.5827092518227133, 697.0929739105064, 470.75747033861967, 393.6586023323608, 329.2898558343697, 322.3485868540222, 279.81241276371645, 267.97570298767675, 257.321775035523, 173.15828221047786, 160.44959624354942, 158.69559296637064, 154.88957633413034, 114.67684869810172, 89.99883864640653, 80.10800341963157, 2.58393382479409, 2.5837418283327476, 2.583595820717106, 2.582978457696317, 2.5831388132327535, 2.5831113065019484, 2.5828649994363375, 2.5830088628585055, 2.5828275614351717, 2.5829025968899133, 2.5826804833763553, 2.5827092518227133, 2.582535449024578, 2.5823840730124092, 2.581740688489438, 2.5824375558393524, 904.808320310959, 714.1929410834912, 337.42064480111065, 242.40015573989965, 230.00082071590228, 191.30068188894114, 115.09841137543495, 107.69038397674645, 98.87361454034773, 89.61595375554164, 85.2095717564921, 77.64955790497544, 77.61614882420564, 77.43191533576412, 75.8270993302575, 74.22065156154986, 63.666532993791584, 51.83575813676764, 47.37512143541031, 26.95655818948297, 7.576873818512176, 2.58175444260057, 2.580545518637151, 2.580756779599277, 2.5807184106343084, 2.5802548839052295, 2.5823840730124092, 2.5837418283327476, 2.5805433101976756, 2.581191878770558, 2.582148400020696, 2.582029645630109, 2.5831388132327535, 2.58393382479409, 2.5824375558393524, 2.5828649994363375, 2.5827092518227133, 2.583595820717106, 2.5829025968899133, 2.5831113065019484, 2.5830088628585055, 2.582978457696317, 1087.0174511403588, 536.8972339927374, 302.16676360882434, 240.8596077353582, 217.76252739977042, 198.29217396049117, 163.64818059829443, 141.64829684623902, 113.99919465367233, 112.87442656729941, 92.74319310476427, 87.84112912923085, 87.62822534645495, 56.84122183255855, 53.59118261542392, 45.27670691401549, 32.31722632766734, 29.798911693129053, 2.5830088628585055, 2.58393382479409, 2.5831388132327535, 2.5837418283327476, 2.582978457696317, 2.583595820717106, 2.5826804833763553, 2.582535449024578, 2.5829025968899133, 2.5828649994363375, 2.5819047440391234, 2.582277302653681, 2.5828275614351717, 2.5831113065019484, 2.5827092518227133, 739.3130881789261, 567.7968572844, 475.27675218734447, 418.7228670318867, 386.08070956766534, 344.52741284089876, 274.6667009558108, 178.80603921130214, 104.17172670993227, 56.856366353866484, 2.5828275614351717, 2.5831388132327535, 2.5831113065019484, 2.58393382479409, 2.5837418283327476, 2.582535449024578, 2.5820325862202433, 2.5828649994363375, 2.583595820717106, 2.5829025968899133, 2.582148400020696, 2.5824375558393524, 2.5827092518227133, 2.582978457696317, 2.5821634570357985, 2.5817150133424955, 2.5815843811877452, 2.5823840730124092, 2.581701379270691, 2.5819047440391234, 2.5826804833763553, 2.5830088628585055, 2.582251504349949, 2.582270937185947, 2.582262866801168, 2.582277302653681, 2.5822110131726816, 743.161800905628, 661.1087885931872, 412.8047044898861, 384.9265533244983, 382.95980519919465, 226.53535725602447, 183.72926343698586, 140.31909994066567, 130.26397104655283, 97.66533418239563, 56.72488988258674, 48.89715634507593, 23.2082987665396, 2.5816883820393906, 2.581729040277206, 2.581046708964227, 2.5829025968899133, 2.581547181713895, 2.5820795792784383, 2.58393382479409, 2.580600270647066, 2.580783687002189, 2.5811654492358573, 2.58175444260057, 2.5805701020433816, 2.580967266319776, 2.581207449142379, 2.5808425760695526, 2.581420370763423, 2.5808694701725434, 2.582029645630109, 2.5816268194467704, 2.5815580660535877, 2.583595820717106, 2.5828275614351717, 2.582978457696317, 2.5822043998748776, 2.5821634570357985, 2.5837418283327476, 2.5831113065019484, 2.5831388132327535, 2.5828649994363375, 2.5827092518227133, 2.5830088628585055, 2.5826804833763553, 2.582535449024578, 2.582262866801168, 2.5824375558393524, 2.5823840730124092, 2.582251504349949, 1278.678507387654, 710.9201846347255, 376.4109827986791, 367.68439595676443, 195.5833300502968, 114.68533824627875, 35.57341058322784, 2.5804300864899226, 2.580691133425356, 2.5803088698998002, 2.581272024367294, 2.580432402596093, 2.581529364854054, 2.580637154321826, 2.580480386008828, 2.5803212939357456, 2.580785388049666, 2.580429632548828, 2.580656174353321, 2.5807124654597375, 2.5803786273030354, 2.5803399127689444, 2.580793352448689, 2.5809984459420843, 2.5804055823724377, 2.580286059433385, 2.580425753688922, 2.5809477073143334, 2.581000984787998, 2.5804061206915514, 2.580872690920995, 2.580672404678009, 2.58393382479409, 2.583595820717106, 2.582029645630109, 2.582251504349949, 2.58185034673532, 2.5831388132327535, 2.582277302653681, 2.5830088628585055, 2.582270937185947, 2.5818469634166052, 2.5837418283327476, 2.5824375558393524, 2.5820795792784383, 2.5826804833763553, 2.5831113065019484, 2.5817638658612223, 2.5816674253849516, 2.582978457696317, 2.5827092518227133, 2.581893318678595, 2.5820705356674996, 2.5828649994363375, 2.5828275614351717, 2.582535449024578, 2.5829025968899133, 2.5823840730124092, 2.5821634570357985, 2.582148400020696, 2.5822110131726816, 2.5822043998748776, 2.582262866801168, 1018.4113481150631, 468.06401526103286, 318.39762503018466, 316.8156081319201, 264.8109798822224, 254.07437828202833, 192.40853508967095, 99.73416308979382, 17.024691519579445, 9.120296233216807, 2.580406442102898, 2.5816404714528387, 2.5804638372707966, 2.580412901056641, 2.5804901189860048, 2.5804828944388185, 2.580407247767136, 2.5804329423800225, 2.5803177626045266, 2.580346459381723, 2.5802594625814534, 2.5803678953339735, 2.5802197364998363, 2.580249263249468, 2.5803946880135795, 2.5803087931778887, 2.580347542274232, 2.580241928318703, 2.5805039443940463, 2.5803147111789158, 2.581231229376579, 2.5805520665808896, 2.580464826620295, 2.581136029012001, 2.5807371696394363, 2.5837418283327476, 2.5830088628585055, 2.581729040277206, 2.581331302633156, 2.58185034673532, 2.581238178781421, 2.581217318820639, 2.5828649994363375, 2.582535449024578, 2.5831388132327535, 2.5815806137920245, 2.5818469634166052, 2.583595820717106, 2.582270937185947, 2.58393382479409, 2.5826804833763553, 2.582262866801168, 2.5815580660535877, 2.5831113065019484, 2.582251504349949, 2.5824375558393524, 2.582978457696317, 2.5820325862202433, 2.5823840730124092, 2.5829025968899133, 2.5827092518227133, 2.5828275614351717, 2.5822043998748776, 2.582277302653681, 403.42723481082055, 340.82504257654676, 307.2622834223592, 280.8001230583217, 249.5936986020878, 196.70863231651043, 158.37744924676335, 154.35064339229658, 148.0414017845274, 124.57094150817312, 119.33028369790512, 93.81755941738516, 84.44129226921875, 55.27104261075409, 2.5802559674527825, 2.5802379992374767, 2.580231975571657, 2.5803783125526483, 2.5803720213242824, 2.5804268818536804, 2.580221740661322, 2.58026408644571, 2.5803802587882356, 2.580294745214184, 2.580261243437851, 2.5802001395560885, 2.580304282383702, 2.5802952865911073, 2.58018772691783, 2.5801954044871382, 2.5803029993143767, 2.5804439315852137, 2.580497688415879, 2.580780315223742, 2.5814287096642743, 2.580361251350561, 2.5807257277519065, 2.580785388049666, 2.5811654492358573, 2.580690688669886, 2.5816404714528387, 2.582277302653681, 2.581261889707076, 2.581101651327552, 2.5837418283327476, 2.5810844486651554, 2.582978457696317, 2.5829025968899133, 2.58126111976081, 2.5818469634166052, 2.58393382479409, 2.5828649994363375, 2.5826804833763553, 2.5820705356674996, 2.583595820717106, 2.5830088628585055, 2.5831388132327535, 2.5831113065019484, 2.5824375558393524, 2.5827092518227133, 2.5828275614351717, 2.582535449024578, 2.582251504349949, 2.5823840730124092, 687.7610632401569, 428.3876375762564, 386.8106284096716, 325.7904195202107, 188.53055045997166, 117.37564284412107, 110.09970320171156, 79.81795718181561, 2.5802098976929604, 2.5804462575246023, 2.580233717343369, 2.5802516151910613, 2.580312169166972, 2.580276655002114, 2.5802138551974134, 2.5802572913098687, 2.5803038210150793, 2.5802332912517767, 2.5801998914693822, 2.58020807907285, 2.580270018628191, 2.5801771144884253, 2.5802431196034226, 2.5801746060229984, 2.5801662577976576, 2.580299340582289, 2.5802082738164436, 2.5802092614051197, 2.580249004303654, 2.580220505975936, 2.5803552730252384, 2.5803089844915807, 2.5803874276097565, 2.5803647145378723, 2.5803800273121937, 2.5802573065637047, 2.580433400166011, 2.580540061891077, 2.580346917929999, 2.580356152511728, 2.5802942647675327, 2.5809511756656613, 2.580548936738185, 2.580632792743145, 2.5808387667572705, 2.5804534362075833, 2.580548433587732, 2.5816674253849516, 2.5823840730124092, 2.580768494035269, 2.5804010662189283, 2.58117847760902, 2.581427785588253, 2.5820795792784383, 2.5828275614351717, 2.5814954951680757, 2.581238178781421, 2.5817503169286327, 2.5837418283327476, 2.5829025968899133, 2.5816183288434775, 2.581249211139967, 2.5816404714528387, 2.58393382479409, 2.5831388132327535, 2.582251504349949, 2.58185034673532, 2.5830088628585055, 2.5831113065019484, 2.582262866801168, 2.582148400020696, 2.583595820717106, 2.5828649994363375, 2.582978457696317, 2.5824375558393524, 2.5826804833763553, 2.5827092518227133, 2.5822043998748776, 2.582535449024578, 2.582277302653681, 2.582270937185947, 2.5822110131726816, 358.930974410005, 227.61812808660716, 212.9509146421399, 211.32484310335823, 158.81221572195196, 144.42337525999235, 129.00978499557948, 118.02423347496926, 99.37142977138069, 99.17642136455927, 63.72584297159079, 60.98048679106202, 60.40173347999995, 38.597722049516214, 25.31709395631243, 2.580282013250692, 2.5803355378932813, 2.5803041350991367, 2.580472812767124, 2.580304282383702, 2.5802939211150453, 2.5802981919667936, 2.5802560071732925, 2.5802919976824876, 2.5802740021493182, 2.5802337977648167, 2.580212136839857, 2.5802258411987578, 2.580335748154934, 2.580268009790765, 2.580282466207676, 2.582262866801168, 2.5804031565755086, 2.5803775552050787, 2.580359668814282, 2.5807623552337042, 2.5804568313128273, 2.5809042048955244, 2.580535874346563, 2.5815843811877452, 2.5804734829244995, 2.582978457696317, 2.5831113065019484, 2.5809998493973674, 2.580929490879286, 2.5837418283327476, 2.5820795792784383, 2.5816183288434775, 2.5815580660535877, 2.5828649994363375, 2.582148400020696, 2.583595820717106, 2.582277302653681, 2.5823840730124092, 2.58393382479409, 2.5831388132327535, 2.5826804833763553, 2.5830088628585055, 2.5829025968899133, 2.5827092518227133, 2.5828275614351717, 2.582535449024578, 2.5824375558393524, 374.6255822323388, 347.7837456884346, 246.96391499563163, 191.35147786402007, 173.79371640183996, 157.4547998110278, 126.82839247200292, 122.36294079879782, 108.36610291587553, 80.505838207216, 62.899987942303795, 2.5802790177306814, 2.5802057333339516, 2.580262874678695, 2.5801783239957436, 2.5802099778679146, 2.5802777740500953, 2.5802149091418793, 2.5803355573533167, 2.5802538317368695, 2.5801982149860874, 2.580200715842624, 2.5801770628397884, 2.5801792178338285, 2.580185660647606, 2.5802030842140438, 2.580282732766182, 2.580183568825301, 2.5801701265190475, 2.5802478160177067, 2.5802886002653724, 2.5802288916801417, 2.580261927822616, 2.580301231037853, 2.580421642002116, 2.580308235707542, 2.580292551014316, 2.580463133367976, 2.580317382593686, 2.5804378396489427, 2.5803395526135757, 2.580635591426425, 2.580431813770012, 2.5805117273336045, 2.5805643193866796, 2.5808113354941065, 2.5828275614351717, 2.5807257277519065, 2.58107653073347, 2.581231229376579, 2.580578900511263, 2.5827092518227133, 2.5810296455262374, 2.5810931958909435, 2.5826804833763553, 2.5817638658612223, 2.581179916015253, 2.5812076750915054, 2.582270937185947, 2.5822110131726816, 2.582535449024578, 2.5817150133424955, 2.5815580660535877, 2.5831388132327535, 2.5828649994363375, 2.583595820717106, 2.58393382479409, 2.5837418283327476, 2.5829025968899133, 2.582262866801168, 2.5831113065019484, 2.582978457696317, 2.582251504349949, 2.5824375558393524, 2.5830088628585055, 2.5823840730124092, 556.5076574815463, 286.9244924661791, 247.12470030866794, 164.29935638057216, 119.60479205233395, 84.58947777457487, 58.19267431441069, 51.868593873823826, 45.07731837528567, 2.5802298157477512, 2.5802443447946195, 2.5802053672516276, 2.5803501831602276, 2.580205607172514, 2.5801714128961994, 2.580169886972833, 2.580190749626076, 2.5802316814286526, 2.5801463210865134, 2.5801463210865134, 2.5801463210865134, 2.5801463210865134, 2.5801463210865134, 2.5801463210865134, 2.5801463210865134, 2.5801463210865134, 2.5801463210865134, 2.5801463210865134, 2.5801463210865134, 2.5801463210865134, 2.580218039687, 2.580271782577396, 2.580148212723095, 2.5802161660272, 2.580279461899922, 2.5803331781024252, 2.580290447998934, 2.580259274630594, 2.580194647462566, 2.580202181767595, 2.58016188270047, 2.5803548179679763, 2.5801806564540217, 2.5802495241179115, 2.580302324677146, 2.580298011415775, 2.5802649305756447, 2.5802963548964826, 2.580261740887374, 2.5803100386209565, 2.580428585198168, 2.5804534362075833, 2.5803967653690276, 2.5804794067526413, 2.5803537298015233, 2.5809276078405006, 2.5808460685462458, 2.5809477073143334, 2.581191878770558, 2.5808002661520386, 2.581272024367294, 2.5806747507528804, 2.580852940828434, 2.5827092518227133, 2.581197383682908, 2.582535449024578, 2.581470031051323, 2.5819463352571144, 2.583595820717106, 2.5816674253849516, 2.58393382479409, 2.581763382685063, 2.5818531275127294, 2.5823840730124092, 2.5811549502087012, 2.5829025968899133, 2.5830088628585055, 2.5822110131726816, 2.582251504349949, 2.5837418283327476, 2.5828649994363375, 2.582978457696317, 2.5831113065019484, 2.5831388132327535, 2.5826804833763553, 2.5822043998748776, 2.5828275614351717, 2.582277302653681, 2.582270937185947, 2.582148400020696, 2.5824375558393524, 2.582262866801168, 490.13542654179224, 423.4488622005757, 383.045117092963, 54.40665618169589, 49.542191926126776, 2.5803149251332944, 2.5802737669792024, 2.5802811487011446, 2.5801616621146497, 2.5801574327102403, 2.580294944955154, 2.580147737341145, 2.580146650834429, 2.580146704176843, 2.5801519902650862, 2.5801463210865134, 2.5801463210865134, 2.5801463210865134, 2.5801463210865134, 2.5801463210865134, 2.5801463210865134, 2.5801463210865134, 2.5801463210865134, 2.5801463210865134, 2.5801463210865134, 2.5801463210865134, 2.5801463210865134, 2.5801463210865134, 2.5801463210865134, 2.5801463210865134, 2.5803671070741117, 2.580146516648109, 2.580146516648109, 2.580146516648109, 2.580146516648109, 2.580146516648109, 2.580146516648109, 2.580146516648109, 2.580146516648109, 2.580146516648109, 2.580146516648109, 2.580146516648109, 2.580146516648109, 2.580146516648109, 2.580146516648109, 2.580278327778752, 2.5802968466408758, 2.5801467145178605, 2.580146714694939, 2.5803193628201786, 2.580182460003534, 2.5801487272297887, 2.5801469175120606, 2.5802981124966986, 2.5801471233299367, 2.5801487534641923, 2.580167372029017, 2.580261061053256, 2.5803100386209565, 2.580282732766182, 2.580286014162194, 2.580289404942429, 2.58025602284216, 2.580257951957032, 2.5802541253977425, 2.5802949257334813, 2.5802257523780514, 2.5802521931307525, 2.580272250664671, 2.5802549472352, 2.5803436156849195, 2.580263097011867, 2.5802559674527825, 2.580286402096214, 2.5806506187862723, 2.5802855793731103, 2.5803168541966435, 2.580778854102007, 2.5806909123568027, 2.5805853815166127, 2.580379401609725, 2.5806000113536833, 2.581618736933427, 2.580491569190156, 2.5811784043777233, 2.5806286413736332, 2.5829025968899133, 2.5805524077932973, 2.580501065931788, 2.5804908244094302, 2.5818531275127294, 2.582277302653681, 2.5808387667572705, 2.58393382479409, 2.5821634570357985, 2.582535449024578, 2.582270937185947, 2.5814228434935176, 2.5809692498824703, 2.5820075854201017, 2.5837418283327476, 2.581656537186473, 2.583595820717106, 2.5820795792784383, 2.5831388132327535, 2.5831113065019484, 2.581529364854054, 2.582978457696317, 2.5828275614351717, 2.5830088628585055, 2.5826804833763553, 2.5827092518227133, 2.5823840730124092, 2.5828649994363375, 2.582148400020696, 2.582029645630109, 2.5824375558393524, 2.5822110131726816, 2.582251504349949, 2.5822043998748776, 2.582262866801168, 64.1017154796921, 47.26947023715823, 9.92696754665935, 2.5801463210865134, 2.5801463210865134, 2.5801463210865134, 2.5801463210865134, 2.5801463210865134, 2.5801463210865134, 2.5801463210865134, 2.5801463210865134, 2.5801463210865134, 2.5801463210865134, 2.5801463210865134, 2.5801463210865134, 2.5801463210865134, 2.5801463210865134, 2.5801463210865134, 2.5801463210865134, 2.5801463210865134, 2.5801463210865134, 2.5801463210865134, 2.5801463210865134, 2.5801463210865134, 2.5801463210865134, 2.5801463210865134, 2.5801463210865134, 2.5801463210865134, 2.5801463210865134, 2.5801463210865134, 2.580146837198036, 2.580146837198036, 2.5801468983163596, 2.5801493576564223, 2.5801673888670904, 2.5801770628397884, 2.580223657030704, 2.580247189778046, 2.5802332912517767, 2.5802948189611516, 2.580293462925533, 2.5801633613867123, 2.5804480753586265, 2.580209327857523, 2.5801699781378407, 2.5801974846566433, 2.58019423757363, 2.5801527986598787, 2.580149808186298, 2.580242479876953, 2.5801712996339146, 2.5801720599085955, 2.580148826605633, 2.580147572797772, 2.5801489327131177, 2.580238810740622, 2.580170111718935, 2.580156927775354, 2.5801532600501376, 2.5801714126943733, 2.580210976807176, 2.5802198089161603, 2.5802909935212557, 2.580189571185154, 2.5801739432060433, 2.580600270647066, 2.58024947639616, 2.5802554728408937, 2.580304752563917, 2.5802776443059865, 2.580433400166011, 2.5803788247729487, 2.580322549721336, 2.5803307087161182, 2.580421642002116, 2.58034507694671, 2.580343284533431, 2.5804896367347423, 2.5808190993454816, 2.5803831289945105, 2.580428585198168, 2.5807993002828, 2.581547181713895, 2.5809053277254885, 2.5810660284289466, 2.580630330022178, 2.5822043998748776, 2.5824375558393524, 2.5818469634166052, 2.5820705356674996, 2.581046708964227, 2.582148400020696, 2.5809101677993667, 2.5816883820393906, 2.58393382479409, 2.5837418283327476, 2.583595820717106, 2.5828275614351717, 2.5831113065019484, 2.5831388132327535, 2.582978457696317, 2.5830088628585055, 2.581701379270691, 2.5829025968899133, 2.5828649994363375, 2.582251504349949, 2.581656537186473], \"Category\": [\"Default\", \"Default\", \"Default\", \"Default\", \"Default\", \"Default\", \"Default\", \"Default\", \"Default\", \"Default\", \"Default\", \"Default\", \"Default\", \"Default\", \"Default\", \"Default\", \"Default\", \"Default\", \"Default\", \"Default\", \"Default\", \"Default\", \"Default\", \"Default\", \"Default\", \"Default\", \"Default\", \"Default\", \"Default\", \"Default\", \"Topic1\", \"Topic1\", \"Topic1\", \"Topic1\", \"Topic1\", \"Topic1\", \"Topic1\", \"Topic1\", \"Topic1\", \"Topic1\", \"Topic1\", \"Topic1\", \"Topic1\", \"Topic1\", \"Topic1\", \"Topic1\", \"Topic1\", \"Topic1\", \"Topic1\", \"Topic1\", \"Topic1\", \"Topic1\", \"Topic1\", \"Topic1\", \"Topic1\", \"Topic1\", \"Topic1\", \"Topic1\", \"Topic1\", \"Topic1\", \"Topic1\", \"Topic2\", \"Topic2\", \"Topic2\", \"Topic2\", \"Topic2\", \"Topic2\", \"Topic2\", \"Topic2\", \"Topic2\", \"Topic2\", \"Topic2\", \"Topic2\", \"Topic2\", \"Topic2\", \"Topic2\", \"Topic2\", \"Topic2\", \"Topic2\", \"Topic2\", \"Topic2\", \"Topic2\", \"Topic2\", \"Topic2\", \"Topic2\", \"Topic2\", \"Topic2\", \"Topic2\", \"Topic2\", \"Topic2\", \"Topic2\", \"Topic2\", \"Topic3\", \"Topic3\", \"Topic3\", \"Topic3\", \"Topic3\", \"Topic3\", \"Topic3\", \"Topic3\", \"Topic3\", \"Topic3\", \"Topic3\", \"Topic3\", \"Topic3\", \"Topic3\", \"Topic3\", \"Topic3\", \"Topic3\", \"Topic3\", \"Topic3\", \"Topic3\", \"Topic3\", \"Topic3\", \"Topic3\", \"Topic3\", \"Topic3\", \"Topic3\", \"Topic3\", \"Topic3\", \"Topic3\", \"Topic3\", \"Topic3\", \"Topic4\", \"Topic4\", \"Topic4\", \"Topic4\", \"Topic4\", \"Topic4\", \"Topic4\", \"Topic4\", \"Topic4\", \"Topic4\", \"Topic4\", \"Topic4\", \"Topic4\", \"Topic4\", \"Topic4\", \"Topic4\", \"Topic4\", \"Topic4\", \"Topic4\", \"Topic4\", \"Topic4\", \"Topic4\", \"Topic4\", \"Topic4\", \"Topic4\", \"Topic4\", \"Topic4\", \"Topic4\", \"Topic4\", \"Topic4\", \"Topic4\", \"Topic5\", \"Topic5\", \"Topic5\", \"Topic5\", \"Topic5\", \"Topic5\", \"Topic5\", \"Topic5\", \"Topic5\", \"Topic5\", \"Topic5\", \"Topic5\", \"Topic5\", \"Topic5\", \"Topic5\", \"Topic5\", \"Topic5\", \"Topic5\", \"Topic5\", \"Topic5\", \"Topic5\", \"Topic5\", \"Topic5\", \"Topic5\", \"Topic5\", \"Topic5\", \"Topic5\", \"Topic5\", \"Topic5\", \"Topic5\", \"Topic5\", \"Topic5\", \"Topic5\", \"Topic5\", \"Topic6\", \"Topic6\", \"Topic6\", \"Topic6\", \"Topic6\", \"Topic6\", \"Topic6\", \"Topic6\", \"Topic6\", \"Topic6\", \"Topic6\", \"Topic6\", \"Topic6\", \"Topic6\", \"Topic6\", \"Topic6\", \"Topic6\", \"Topic6\", \"Topic6\", \"Topic6\", \"Topic6\", \"Topic6\", \"Topic6\", \"Topic6\", \"Topic6\", \"Topic6\", \"Topic6\", \"Topic6\", \"Topic6\", \"Topic6\", \"Topic6\", \"Topic7\", \"Topic7\", \"Topic7\", \"Topic7\", \"Topic7\", \"Topic7\", \"Topic7\", \"Topic7\", \"Topic7\", \"Topic7\", \"Topic7\", \"Topic7\", \"Topic7\", \"Topic7\", \"Topic7\", \"Topic7\", \"Topic7\", \"Topic7\", \"Topic7\", \"Topic7\", \"Topic7\", \"Topic7\", \"Topic7\", \"Topic7\", \"Topic7\", \"Topic7\", \"Topic7\", \"Topic7\", \"Topic7\", \"Topic7\", \"Topic7\", \"Topic8\", \"Topic8\", \"Topic8\", \"Topic8\", \"Topic8\", \"Topic8\", \"Topic8\", \"Topic8\", \"Topic8\", \"Topic8\", \"Topic8\", \"Topic8\", \"Topic8\", \"Topic8\", \"Topic8\", \"Topic8\", \"Topic8\", \"Topic8\", \"Topic8\", \"Topic8\", \"Topic8\", \"Topic8\", \"Topic8\", \"Topic8\", \"Topic8\", \"Topic8\", \"Topic8\", \"Topic8\", \"Topic8\", \"Topic8\", \"Topic8\", \"Topic8\", \"Topic8\", \"Topic8\", \"Topic8\", \"Topic8\", \"Topic8\", \"Topic8\", \"Topic8\", \"Topic8\", \"Topic8\", \"Topic8\", \"Topic9\", \"Topic9\", \"Topic9\", \"Topic9\", \"Topic9\", \"Topic9\", \"Topic9\", \"Topic9\", \"Topic9\", \"Topic9\", \"Topic9\", \"Topic9\", \"Topic9\", \"Topic9\", \"Topic9\", \"Topic9\", \"Topic9\", \"Topic9\", \"Topic9\", \"Topic9\", \"Topic9\", \"Topic9\", \"Topic9\", \"Topic9\", \"Topic9\", \"Topic9\", \"Topic9\", \"Topic9\", \"Topic9\", \"Topic9\", \"Topic9\", \"Topic9\", \"Topic9\", \"Topic10\", \"Topic10\", \"Topic10\", \"Topic10\", \"Topic10\", \"Topic10\", \"Topic10\", \"Topic10\", \"Topic10\", \"Topic10\", \"Topic10\", \"Topic10\", \"Topic10\", \"Topic10\", \"Topic10\", \"Topic10\", \"Topic10\", \"Topic10\", \"Topic10\", \"Topic10\", \"Topic10\", \"Topic10\", \"Topic10\", \"Topic10\", \"Topic10\", \"Topic10\", \"Topic10\", \"Topic10\", \"Topic10\", \"Topic10\", \"Topic10\", \"Topic10\", \"Topic10\", \"Topic10\", \"Topic10\", \"Topic10\", \"Topic10\", \"Topic11\", \"Topic11\", \"Topic11\", \"Topic11\", \"Topic11\", \"Topic11\", \"Topic11\", \"Topic11\", \"Topic11\", \"Topic11\", \"Topic11\", \"Topic11\", \"Topic11\", \"Topic11\", \"Topic11\", \"Topic11\", \"Topic11\", \"Topic11\", \"Topic11\", \"Topic11\", \"Topic11\", \"Topic11\", \"Topic11\", \"Topic11\", \"Topic11\", \"Topic11\", \"Topic11\", \"Topic11\", \"Topic11\", \"Topic11\", \"Topic11\", \"Topic11\", \"Topic11\", \"Topic11\", \"Topic11\", \"Topic11\", \"Topic11\", \"Topic11\", \"Topic11\", \"Topic11\", \"Topic11\", \"Topic11\", \"Topic11\", \"Topic11\", \"Topic11\", \"Topic11\", \"Topic11\", \"Topic11\", \"Topic11\", \"Topic11\", \"Topic12\", \"Topic12\", \"Topic12\", \"Topic12\", \"Topic12\", \"Topic12\", \"Topic12\", \"Topic12\", \"Topic12\", \"Topic12\", \"Topic12\", \"Topic12\", \"Topic12\", \"Topic12\", \"Topic12\", \"Topic12\", \"Topic12\", \"Topic12\", \"Topic12\", \"Topic12\", \"Topic12\", \"Topic12\", \"Topic12\", \"Topic12\", \"Topic12\", \"Topic12\", \"Topic12\", \"Topic12\", \"Topic12\", \"Topic12\", \"Topic12\", \"Topic12\", \"Topic12\", \"Topic12\", \"Topic12\", \"Topic12\", \"Topic12\", \"Topic12\", \"Topic12\", \"Topic12\", \"Topic12\", \"Topic12\", \"Topic12\", \"Topic12\", \"Topic12\", \"Topic12\", \"Topic12\", \"Topic12\", \"Topic12\", \"Topic12\", \"Topic12\", \"Topic12\", \"Topic12\", \"Topic12\", \"Topic12\", \"Topic12\", \"Topic12\", \"Topic12\", \"Topic12\", \"Topic12\", \"Topic12\", \"Topic12\", \"Topic12\", \"Topic13\", \"Topic13\", \"Topic13\", \"Topic13\", \"Topic13\", \"Topic13\", \"Topic13\", \"Topic13\", \"Topic13\", \"Topic13\", \"Topic13\", \"Topic13\", \"Topic13\", \"Topic13\", \"Topic13\", \"Topic13\", \"Topic13\", \"Topic13\", \"Topic13\", \"Topic13\", \"Topic13\", \"Topic13\", \"Topic13\", \"Topic13\", \"Topic13\", \"Topic13\", \"Topic13\", \"Topic13\", \"Topic13\", \"Topic13\", \"Topic13\", \"Topic13\", \"Topic13\", \"Topic13\", \"Topic13\", \"Topic13\", \"Topic13\", \"Topic13\", \"Topic13\", \"Topic13\", \"Topic13\", \"Topic13\", \"Topic13\", \"Topic13\", \"Topic13\", \"Topic13\", \"Topic13\", \"Topic13\", \"Topic13\", \"Topic13\", \"Topic13\", \"Topic13\", \"Topic13\", \"Topic13\", \"Topic13\", \"Topic13\", \"Topic13\", \"Topic13\", \"Topic13\", \"Topic13\", \"Topic13\", \"Topic13\", \"Topic13\", \"Topic13\", \"Topic14\", \"Topic14\", \"Topic14\", \"Topic14\", \"Topic14\", \"Topic14\", \"Topic14\", \"Topic14\", \"Topic14\", \"Topic14\", \"Topic14\", \"Topic14\", \"Topic14\", \"Topic14\", \"Topic14\", \"Topic14\", \"Topic14\", \"Topic14\", \"Topic14\", \"Topic14\", \"Topic14\", \"Topic14\", \"Topic14\", \"Topic14\", \"Topic14\", \"Topic14\", \"Topic14\", \"Topic14\", \"Topic14\", \"Topic14\", \"Topic14\", \"Topic14\", \"Topic14\", \"Topic14\", \"Topic14\", \"Topic14\", \"Topic14\", \"Topic14\", \"Topic14\", \"Topic14\", \"Topic14\", \"Topic14\", \"Topic14\", \"Topic14\", \"Topic14\", \"Topic14\", \"Topic14\", \"Topic14\", \"Topic14\", \"Topic14\", \"Topic14\", \"Topic14\", \"Topic14\", \"Topic14\", \"Topic14\", \"Topic14\", \"Topic14\", \"Topic14\", \"Topic14\", \"Topic14\", \"Topic14\", \"Topic14\", \"Topic14\", \"Topic14\", \"Topic15\", \"Topic15\", \"Topic15\", \"Topic15\", \"Topic15\", \"Topic15\", \"Topic15\", \"Topic15\", \"Topic15\", \"Topic15\", \"Topic15\", \"Topic15\", \"Topic15\", \"Topic15\", \"Topic15\", \"Topic15\", \"Topic15\", \"Topic15\", \"Topic15\", \"Topic15\", \"Topic15\", \"Topic15\", \"Topic15\", \"Topic15\", \"Topic15\", \"Topic15\", \"Topic15\", \"Topic15\", \"Topic15\", \"Topic15\", \"Topic15\", \"Topic15\", \"Topic15\", \"Topic15\", \"Topic15\", \"Topic15\", \"Topic15\", \"Topic15\", \"Topic15\", \"Topic15\", \"Topic15\", \"Topic15\", \"Topic15\", \"Topic15\", \"Topic15\", \"Topic15\", \"Topic15\", \"Topic15\", \"Topic15\", \"Topic15\", \"Topic15\", \"Topic15\", \"Topic15\", \"Topic15\", \"Topic15\", \"Topic15\", \"Topic15\", \"Topic15\", \"Topic15\", \"Topic15\", \"Topic15\", \"Topic15\", \"Topic15\", \"Topic15\", \"Topic15\", \"Topic15\", \"Topic15\", \"Topic15\", \"Topic15\", \"Topic15\", \"Topic15\", \"Topic15\", \"Topic15\", \"Topic15\", \"Topic15\", \"Topic15\", \"Topic15\", \"Topic15\", \"Topic15\", \"Topic15\", \"Topic15\", \"Topic15\", \"Topic16\", \"Topic16\", \"Topic16\", \"Topic16\", \"Topic16\", \"Topic16\", \"Topic16\", \"Topic16\", \"Topic16\", \"Topic16\", \"Topic16\", \"Topic16\", \"Topic16\", \"Topic16\", \"Topic16\", \"Topic16\", \"Topic16\", \"Topic16\", \"Topic16\", \"Topic16\", \"Topic16\", \"Topic16\", \"Topic16\", \"Topic16\", \"Topic16\", \"Topic16\", \"Topic16\", \"Topic16\", \"Topic16\", \"Topic16\", \"Topic16\", \"Topic16\", \"Topic16\", \"Topic16\", \"Topic16\", \"Topic16\", \"Topic16\", \"Topic16\", \"Topic16\", \"Topic16\", \"Topic16\", \"Topic16\", \"Topic16\", \"Topic16\", \"Topic16\", \"Topic16\", \"Topic16\", \"Topic16\", \"Topic16\", \"Topic16\", \"Topic16\", \"Topic16\", \"Topic16\", \"Topic16\", \"Topic16\", \"Topic16\", \"Topic16\", \"Topic16\", \"Topic16\", \"Topic16\", \"Topic16\", \"Topic16\", \"Topic16\", \"Topic17\", \"Topic17\", \"Topic17\", \"Topic17\", \"Topic17\", \"Topic17\", \"Topic17\", \"Topic17\", \"Topic17\", \"Topic17\", \"Topic17\", \"Topic17\", \"Topic17\", \"Topic17\", \"Topic17\", \"Topic17\", \"Topic17\", \"Topic17\", \"Topic17\", \"Topic17\", \"Topic17\", \"Topic17\", \"Topic17\", \"Topic17\", \"Topic17\", \"Topic17\", \"Topic17\", \"Topic17\", \"Topic17\", \"Topic17\", \"Topic17\", \"Topic17\", \"Topic17\", \"Topic17\", \"Topic17\", \"Topic17\", \"Topic17\", \"Topic17\", \"Topic17\", \"Topic17\", \"Topic17\", \"Topic17\", \"Topic17\", \"Topic17\", \"Topic17\", \"Topic17\", \"Topic17\", \"Topic17\", \"Topic17\", \"Topic17\", \"Topic17\", \"Topic17\", \"Topic17\", \"Topic17\", \"Topic17\", \"Topic17\", \"Topic17\", \"Topic17\", \"Topic17\", \"Topic17\", \"Topic17\", \"Topic17\", \"Topic17\", \"Topic17\", \"Topic17\", \"Topic17\", \"Topic17\", \"Topic17\", \"Topic17\", \"Topic17\", \"Topic17\", \"Topic17\", \"Topic17\", \"Topic17\", \"Topic17\", \"Topic17\", \"Topic18\", \"Topic18\", \"Topic18\", \"Topic18\", \"Topic18\", \"Topic18\", \"Topic18\", \"Topic18\", \"Topic18\", \"Topic18\", \"Topic18\", \"Topic18\", \"Topic18\", \"Topic18\", \"Topic18\", \"Topic18\", \"Topic18\", \"Topic18\", \"Topic18\", \"Topic18\", \"Topic18\", \"Topic18\", \"Topic18\", \"Topic18\", \"Topic18\", \"Topic18\", \"Topic18\", \"Topic18\", \"Topic18\", \"Topic18\", \"Topic18\", \"Topic18\", \"Topic18\", \"Topic18\", \"Topic18\", \"Topic18\", \"Topic18\", \"Topic18\", \"Topic18\", \"Topic18\", \"Topic18\", \"Topic18\", \"Topic18\", \"Topic18\", \"Topic18\", \"Topic18\", \"Topic18\", \"Topic18\", \"Topic18\", \"Topic18\", \"Topic18\", \"Topic18\", \"Topic18\", \"Topic18\", \"Topic18\", \"Topic18\", \"Topic18\", \"Topic18\", \"Topic18\", \"Topic18\", \"Topic18\", \"Topic18\", \"Topic18\", \"Topic18\", \"Topic18\", \"Topic18\", \"Topic18\", \"Topic18\", \"Topic18\", \"Topic18\", \"Topic18\", \"Topic18\", \"Topic18\", \"Topic18\", \"Topic18\", \"Topic18\", \"Topic18\", \"Topic18\", \"Topic18\", \"Topic18\", \"Topic18\", \"Topic18\", \"Topic18\", \"Topic18\", \"Topic18\", \"Topic18\", \"Topic18\", \"Topic18\", \"Topic18\", \"Topic18\", \"Topic18\", \"Topic18\", \"Topic19\", \"Topic19\", \"Topic19\", \"Topic19\", \"Topic19\", \"Topic19\", \"Topic19\", \"Topic19\", \"Topic19\", \"Topic19\", \"Topic19\", \"Topic19\", \"Topic19\", \"Topic19\", \"Topic19\", \"Topic19\", \"Topic19\", \"Topic19\", \"Topic19\", \"Topic19\", \"Topic19\", \"Topic19\", \"Topic19\", \"Topic19\", \"Topic19\", \"Topic19\", \"Topic19\", \"Topic19\", \"Topic19\", \"Topic19\", \"Topic19\", \"Topic19\", \"Topic19\", \"Topic19\", \"Topic19\", \"Topic19\", \"Topic19\", \"Topic19\", \"Topic19\", \"Topic19\", \"Topic19\", \"Topic19\", \"Topic19\", \"Topic19\", \"Topic19\", \"Topic19\", \"Topic19\", \"Topic19\", \"Topic19\", \"Topic19\", \"Topic19\", \"Topic19\", \"Topic19\", \"Topic19\", \"Topic19\", \"Topic19\", \"Topic19\", \"Topic19\", \"Topic19\", \"Topic19\", \"Topic19\", \"Topic19\", \"Topic19\", \"Topic19\", \"Topic19\", \"Topic19\", \"Topic19\", \"Topic19\", \"Topic19\", \"Topic19\", \"Topic19\", \"Topic19\", \"Topic19\", \"Topic19\", \"Topic19\", \"Topic19\", \"Topic19\", \"Topic19\", \"Topic19\", \"Topic19\", \"Topic19\", \"Topic19\", \"Topic19\", \"Topic19\", \"Topic19\", \"Topic19\", \"Topic19\", \"Topic19\", \"Topic19\", \"Topic19\", \"Topic19\", \"Topic19\", \"Topic19\", \"Topic19\", \"Topic19\", \"Topic19\", \"Topic19\", \"Topic19\", \"Topic19\", \"Topic19\", \"Topic19\", \"Topic19\", \"Topic19\", \"Topic19\", \"Topic19\", \"Topic19\", \"Topic19\", \"Topic19\", \"Topic19\", \"Topic19\", \"Topic19\", \"Topic19\", \"Topic19\", \"Topic19\", \"Topic19\", \"Topic19\", \"Topic19\", \"Topic19\", \"Topic19\", \"Topic19\", \"Topic19\", \"Topic20\", \"Topic20\", \"Topic20\", \"Topic20\", \"Topic20\", \"Topic20\", \"Topic20\", \"Topic20\", \"Topic20\", \"Topic20\", \"Topic20\", \"Topic20\", \"Topic20\", \"Topic20\", \"Topic20\", \"Topic20\", \"Topic20\", \"Topic20\", \"Topic20\", \"Topic20\", \"Topic20\", \"Topic20\", \"Topic20\", \"Topic20\", \"Topic20\", \"Topic20\", \"Topic20\", \"Topic20\", \"Topic20\", \"Topic20\", \"Topic20\", \"Topic20\", \"Topic20\", \"Topic20\", \"Topic20\", \"Topic20\", \"Topic20\", \"Topic20\", \"Topic20\", \"Topic20\", \"Topic20\", \"Topic20\", \"Topic20\", \"Topic20\", \"Topic20\", \"Topic20\", \"Topic20\", \"Topic20\", \"Topic20\", \"Topic20\", \"Topic20\", \"Topic20\", \"Topic20\", \"Topic20\", \"Topic20\", \"Topic20\", \"Topic20\", \"Topic20\", \"Topic20\", \"Topic20\", \"Topic20\", \"Topic20\", \"Topic20\", \"Topic20\", \"Topic20\", \"Topic20\", \"Topic20\", \"Topic20\", \"Topic20\", \"Topic20\", \"Topic20\", \"Topic20\", \"Topic20\", \"Topic20\", \"Topic20\", \"Topic20\", \"Topic20\", \"Topic20\", \"Topic20\", \"Topic20\", \"Topic20\", \"Topic20\", \"Topic20\", \"Topic20\", \"Topic20\", \"Topic20\", \"Topic20\", \"Topic20\", \"Topic20\", \"Topic20\", \"Topic20\", \"Topic20\", \"Topic20\", \"Topic20\", \"Topic20\", \"Topic20\", \"Topic20\", \"Topic20\", \"Topic20\", \"Topic20\", \"Topic20\", \"Topic20\", \"Topic20\", \"Topic20\", \"Topic20\", \"Topic20\", \"Topic20\"], \"logprob\": [30.0, 29.0, 28.0, 27.0, 26.0, 25.0, 24.0, 23.0, 22.0, 21.0, 20.0, 19.0, 18.0, 17.0, 16.0, 15.0, 14.0, 13.0, 12.0, 11.0, 10.0, 9.0, 8.0, 7.0, 6.0, 5.0, 4.0, 3.0, 2.0, 1.0, -1.5195, -2.0184, -2.376, -2.4983, -2.5677, -2.8423, -3.0161, -3.1217, -3.4871, -4.0292, -4.2163, -4.2948, -4.6323, -4.8916, -10.9995, -10.9996, -10.9997, -10.9999, -11.0, -11.0, -11.0, -11.0001, -11.0001, -11.0001, -11.0002, -11.0004, -11.0002, -11.0003, -11.0005, -11.0003, -11.0003, -1.8292, -2.0019, -2.1048, -2.4853, -2.5429, -3.1492, -3.4841, -3.6057, -3.6324, -3.9469, -4.1586, -4.5474, -5.4727, -5.5249, -5.9577, -10.5492, -10.5496, -10.5493, -10.5494, -10.5496, -10.5496, -10.5496, -10.5497, -10.5497, -10.5497, -10.5499, -10.5498, -10.5498, -10.55, -10.5499, -10.5499, -1.6039, -1.7657, -2.3534, -2.552, -2.7154, -2.7534, -3.2939, -3.7638, -4.1129, -4.6858, -5.2639, -10.563, -10.5631, -10.5632, -10.5635, -10.5634, -10.5635, -10.5634, -10.5635, -10.5635, -10.5636, -10.5635, -10.5636, -10.5638, -10.5637, -10.5637, -10.5638, -10.5637, -10.5638, -10.5638, -10.5638, -1.4515, -2.5139, -2.7041, -2.9676, -3.0518, -3.2663, -3.4966, -3.5677, -3.588, -3.6088, -3.8552, -3.9477, -4.0127, -4.0717, -4.2633, -4.306, -5.4203, -10.4558, -10.456, -10.4559, -10.4562, -10.4562, -10.4564, -10.4563, -10.4563, -10.4562, -10.4564, -10.4563, -10.4563, -10.4565, -10.4565, -1.9405, -2.5674, -2.7152, -2.9005, -3.0511, -3.057, -3.0681, -3.0897, -3.0994, -3.1154, -3.1157, -3.2139, -3.6281, -3.9291, -4.0722, -5.0988, -10.5851, -10.5851, -10.5853, -10.5855, -10.585, -10.5853, -10.5854, -10.5854, -10.5854, -10.5858, -10.5854, -10.586, -10.5855, -10.5857, -10.5857, -10.5854, -10.5855, -10.5856, -1.8442, -2.1475, -2.8137, -3.0375, -3.0389, -3.1491, -3.2684, -3.336, -3.4667, -3.5468, -3.5513, -3.7046, -3.7084, -3.807, -3.9672, -4.4256, -4.7709, -4.772, -10.5168, -10.5167, -10.5168, -10.5171, -10.517, -10.5171, -10.5171, -10.5172, -10.5172, -10.5172, -10.5172, -10.5173, -10.5172, -2.0108, -2.4051, -2.5849, -2.7647, -2.7862, -2.9288, -2.9725, -3.0134, -3.4142, -3.4915, -3.5027, -3.5274, -3.8336, -4.0819, -4.2018, -10.5134, -10.5135, -10.5136, -10.5138, -10.5138, -10.5138, -10.5139, -10.5138, -10.5139, -10.5139, -10.514, -10.514, -10.514, -10.5141, -10.5143, -10.5141, -1.6826, -1.9199, -2.6736, -3.0072, -3.0602, -3.2466, -3.7633, -3.8313, -3.9188, -4.0198, -4.0716, -4.1674, -4.1679, -4.1703, -4.1919, -4.2141, -4.3731, -4.5879, -4.6825, -5.2885, -6.8524, -10.5003, -10.5008, -10.5007, -10.5007, -10.5009, -10.5001, -10.4996, -10.5008, -10.5006, -10.5002, -10.5002, -10.4998, -10.4995, -10.5001, -10.4999, -10.5, -10.4996, -10.4999, -10.4998, -10.4999, -10.4999, -1.4929, -2.2006, -2.779, -3.0078, -3.1097, -3.2045, -3.3991, -3.5459, -3.7673, -3.7774, -3.9787, -4.0345, -4.037, -4.4855, -4.5471, -4.7244, -5.0847, -5.1728, -10.4457, -10.4454, -10.4457, -10.4455, -10.4458, -10.4455, -10.4459, -10.4459, -10.4458, -10.4458, -10.4462, -10.446, -10.4458, -10.4457, -10.4459, -1.8647, -2.1297, -2.3084, -2.4358, -2.5174, -2.6321, -2.8605, -3.2946, -3.8448, -4.4705, -10.46, -10.4599, -10.4599, -10.4596, -10.4596, -10.4601, -10.4603, -10.46, -10.4597, -10.46, -10.4603, -10.4602, -10.4601, -10.46, -10.4603, -10.4604, -10.4605, -10.4602, -10.4605, -10.4604, -10.4601, -10.46, -10.4602, -10.4602, -10.4602, -10.4602, -10.4603, -1.8342, -1.9516, -2.4248, -2.4951, -2.5003, -3.0298, -3.2418, -3.5155, -3.5912, -3.8857, -4.4477, -4.6035, -5.4089, -10.4826, -10.4826, -10.4828, -10.4821, -10.4827, -10.4825, -10.4817, -10.483, -10.483, -10.4828, -10.4826, -10.483, -10.4829, -10.4828, -10.4829, -10.4827, -10.4829, -10.4825, -10.4826, -10.4827, -10.4819, -10.4822, -10.4821, -10.4824, -10.4824, -10.4818, -10.4821, -10.4821, -10.4822, -10.4822, -10.4821, -10.4822, -10.4823, -10.4824, -10.4823, -10.4824, -10.4824, -1.2101, -1.7987, -2.4376, -2.4612, -3.0984, -3.6411, -4.8614, -10.3691, -10.369, -10.3692, -10.3688, -10.3691, -10.3687, -10.3691, -10.3691, -10.3692, -10.369, -10.3691, -10.369, -10.369, -10.3692, -10.3692, -10.369, -10.3689, -10.3691, -10.3692, -10.3691, -10.3689, -10.3689, -10.3691, -10.369, -10.369, -10.3678, -10.3679, -10.3685, -10.3684, -10.3686, -10.3681, -10.3684, -10.3682, -10.3684, -10.3686, -10.3679, -10.3684, -10.3685, -10.3683, -10.3681, -10.3686, -10.3687, -10.3682, -10.3683, -10.3686, -10.3685, -10.3682, -10.3682, -10.3683, -10.3682, -10.3684, -10.3685, -10.3685, -10.3685, -10.3685, -10.3685, -1.4062, -2.1864, -2.5742, -2.5792, -2.76, -2.8018, -3.0829, -3.7521, -5.6502, -6.4316, -10.3424, -10.342, -10.3424, -10.3424, -10.3424, -10.3424, -10.3424, -10.3424, -10.3425, -10.3425, -10.3425, -10.3425, -10.3425, -10.3425, -10.3424, -10.3425, -10.3425, -10.3425, -10.3424, -10.3425, -10.3421, -10.3424, -10.3424, -10.3422, -10.3423, -10.3412, -10.3415, -10.3419, -10.3421, -10.3419, -10.3421, -10.3421, -10.3415, -10.3417, -10.3414, -10.342, -10.3419, -10.3413, -10.3418, -10.3412, -10.3416, -10.3418, -10.342, -10.3415, -10.3418, -10.3417, -10.3415, -10.3418, -10.3417, -10.3415, -10.3416, -10.3416, -10.3418, -10.3418, -2.2417, -2.4114, -2.5159, -2.6067, -2.7256, -2.9664, -3.1862, -3.2124, -3.2548, -3.4306, -3.4745, -3.7208, -3.8291, -4.2688, -10.3528, -10.3528, -10.3528, -10.3527, -10.3527, -10.3527, -10.3528, -10.3528, -10.3527, -10.3528, -10.3528, -10.3528, -10.3528, -10.3528, -10.3528, -10.3528, -10.3528, -10.3527, -10.3527, -10.3526, -10.3524, -10.3528, -10.3526, -10.3526, -10.3525, -10.3526, -10.3523, -10.3521, -10.3524, -10.3525, -10.3516, -10.3525, -10.3519, -10.3519, -10.3524, -10.3522, -10.3515, -10.3519, -10.352, -10.3522, -10.3517, -10.3519, -10.3518, -10.3518, -10.3521, -10.352, -10.3519, -10.352, -10.3521, -10.3521, -1.5883, -2.0639, -2.1666, -2.3395, -2.8921, -3.374, -3.4394, -3.7698, -10.2738, -10.2737, -10.2737, -10.2737, -10.2737, -10.2737, -10.2738, -10.2737, -10.2737, -10.2737, -10.2738, -10.2738, -10.2737, -10.2738, -10.2737, -10.2738, -10.2738, -10.2737, -10.2738, -10.2738, -10.2737, -10.2738, -10.2737, -10.2737, -10.2737, -10.2737, -10.2737, -10.2737, -10.2737, -10.2736, -10.2737, -10.2737, -10.2737, -10.2735, -10.2736, -10.2736, -10.2735, -10.2737, -10.2736, -10.2733, -10.273, -10.2736, -10.2737, -10.2734, -10.2734, -10.2731, -10.2729, -10.2733, -10.2734, -10.2732, -10.2726, -10.2729, -10.2733, -10.2734, -10.2733, -10.2725, -10.2728, -10.2731, -10.2732, -10.2729, -10.2728, -10.2731, -10.2731, -10.2727, -10.2729, -10.2729, -10.273, -10.273, -10.273, -10.2731, -10.273, -10.2731, -10.2731, -10.2731, -2.1751, -2.6345, -2.7019, -2.7097, -2.9992, -3.0958, -3.2107, -3.3015, -3.4775, -3.4795, -3.936, -3.9819, -3.9918, -4.4638, -4.9217, -10.1012, -10.1012, -10.1012, -10.1011, -10.1012, -10.1012, -10.1012, -10.1012, -10.1012, -10.1012, -10.1012, -10.1013, -10.1012, -10.1012, -10.1012, -10.1012, -10.1005, -10.1012, -10.1012, -10.1012, -10.1011, -10.1012, -10.101, -10.1011, -10.1008, -10.1012, -10.1003, -10.1003, -10.101, -10.101, -10.1001, -10.1006, -10.1008, -10.1008, -10.1004, -10.1006, -10.1002, -10.1006, -10.1006, -10.1001, -10.1003, -10.1005, -10.1004, -10.1004, -10.1005, -10.1004, -10.1005, -10.1005, -2.0807, -2.1555, -2.5008, -2.7588, -2.8564, -2.9566, -3.1768, -3.2134, -3.3375, -3.6428, -3.8985, -10.1891, -10.1891, -10.1891, -10.1891, -10.1891, -10.1891, -10.1891, -10.189, -10.1891, -10.1891, -10.1891, -10.1891, -10.1891, -10.1891, -10.1891, -10.1891, -10.1891, -10.1891, -10.1891, -10.1891, -10.1891, -10.1891, -10.1891, -10.189, -10.1891, -10.1891, -10.189, -10.1891, -10.189, -10.189, -10.1889, -10.189, -10.189, -10.189, -10.1889, -10.1883, -10.1889, -10.1888, -10.1888, -10.189, -10.1883, -10.1888, -10.1888, -10.1883, -10.1886, -10.1888, -10.1888, -10.1885, -10.1885, -10.1884, -10.1886, -10.1887, -10.1882, -10.1883, -10.1881, -10.188, -10.188, -10.1883, -10.1885, -10.1882, -10.1883, -10.1885, -10.1884, -10.1883, -10.1884, -1.5338, -2.2004, -2.3511, -2.7645, -3.0877, -3.4428, -3.8306, -3.9511, -4.099, -10.0792, -10.0792, -10.0793, -10.0792, -10.0793, -10.0793, -10.0793, -10.0793, -10.0793, -10.0793, -10.0793, -10.0793, -10.0793, -10.0793, -10.0793, -10.0793, -10.0793, -10.0793, -10.0793, -10.0793, -10.0793, -10.0793, -10.0792, -10.0793, -10.0793, -10.0792, -10.0792, -10.0792, -10.0792, -10.0793, -10.0793, -10.0793, -10.0792, -10.0793, -10.0792, -10.0792, -10.0792, -10.0792, -10.0792, -10.0792, -10.0792, -10.0792, -10.0792, -10.0792, -10.0792, -10.0792, -10.079, -10.0791, -10.079, -10.079, -10.0791, -10.079, -10.0791, -10.0791, -10.0786, -10.079, -10.0786, -10.0789, -10.0788, -10.0784, -10.0789, -10.0783, -10.0788, -10.0788, -10.0787, -10.079, -10.0786, -10.0785, -10.0787, -10.0787, -10.0784, -10.0786, -10.0785, -10.0785, -10.0785, -10.0786, -10.0787, -10.0786, -10.0787, -10.0787, -10.0788, -10.0787, -10.0787, -1.6176, -1.7647, -1.8656, -3.8571, -3.9554, -9.9441, -9.9442, -9.9442, -9.9442, -9.9442, -9.9442, -9.9442, -9.9442, -9.9442, -9.9442, -9.9442, -9.9442, -9.9442, -9.9442, -9.9442, -9.9442, -9.9442, -9.9442, -9.9442, -9.9442, -9.9442, -9.9442, -9.9442, -9.9442, -9.9442, -9.9441, -9.9442, -9.9442, -9.9442, -9.9442, -9.9442, -9.9442, -9.9442, -9.9442, -9.9442, -9.9442, -9.9442, -9.9442, -9.9442, -9.9442, -9.9442, -9.9442, -9.9442, -9.9442, -9.9442, -9.9442, -9.9442, -9.9442, -9.9442, -9.9442, -9.9442, -9.9442, -9.9442, -9.9442, -9.9442, -9.9442, -9.9442, -9.9442, -9.9442, -9.9442, -9.9442, -9.9442, -9.9442, -9.9442, -9.9442, -9.9442, -9.9442, -9.9442, -9.9442, -9.9441, -9.9442, -9.9442, -9.944, -9.9441, -9.9441, -9.9442, -9.9441, -9.9438, -9.9441, -9.9439, -9.9441, -9.9435, -9.9441, -9.9441, -9.9441, -9.9438, -9.9436, -9.944, -9.9432, -9.9437, -9.9436, -9.9436, -9.9439, -9.944, -9.9437, -9.9433, -9.9438, -9.9433, -9.9437, -9.9434, -9.9434, -9.9438, -9.9435, -9.9435, -9.9435, -9.9436, -9.9435, -9.9436, -9.9435, -9.9437, -9.9437, -9.9436, -9.9437, -9.9437, -9.9437, -9.9437, -1.8858, -2.2053, -4.0071, -9.4414, -9.4414, -9.4414, -9.4414, -9.4414, -9.4414, -9.4414, -9.4414, -9.4414, -9.4414, -9.4414, -9.4414, -9.4414, -9.4414, -9.4414, -9.4414, -9.4414, -9.4414, -9.4414, -9.4414, -9.4414, -9.4414, -9.4414, -9.4414, -9.4414, -9.4414, -9.4414, -9.4414, -9.4414, -9.4414, -9.4414, -9.4414, -9.4414, -9.4414, -9.4414, -9.4414, -9.4414, -9.4414, -9.4414, -9.4413, -9.4414, -9.4414, -9.4414, -9.4414, -9.4414, -9.4414, -9.4414, -9.4414, -9.4414, -9.4414, -9.4414, -9.4414, -9.4414, -9.4414, -9.4414, -9.4414, -9.4414, -9.4414, -9.4414, -9.4414, -9.4414, -9.4414, -9.4414, -9.4414, -9.4414, -9.4414, -9.4414, -9.4414, -9.4414, -9.4414, -9.4414, -9.4414, -9.4414, -9.4414, -9.4414, -9.4414, -9.4414, -9.4414, -9.4414, -9.4414, -9.4414, -9.4414, -9.4414, -9.4414, -9.4414, -9.4414, -9.4414, -9.4414, -9.4414, -9.4414, -9.4414, -9.4414, -9.4414, -9.4414, -9.4414, -9.4414, -9.4414, -9.4414, -9.4414, -9.4414, -9.4414, -9.4414, -9.4414, -9.4414], \"loglift\": [30.0, 29.0, 28.0, 27.0, 26.0, 25.0, 24.0, 23.0, 22.0, 21.0, 20.0, 19.0, 18.0, 17.0, 16.0, 15.0, 14.0, 13.0, 12.0, 11.0, 10.0, 9.0, 8.0, 7.0, 6.0, 5.0, 4.0, 3.0, 2.0, 1.0, 2.2278, 2.2271, 2.2263, 2.2259, 2.2257, 2.2247, 2.2238, 2.2233, 2.2207, 2.2148, 2.2119, 2.2106, 2.2033, 2.1958, -0.5564, -0.5564, -0.5565, -0.5565, -0.5565, -0.5565, -0.5565, -0.5565, -0.5566, -0.5566, -0.5566, -0.5566, -0.5566, -0.5566, -0.5566, -0.5566, -0.5566, 2.7272, 2.7268, 2.7264, 2.7248, 2.7245, 2.7201, 2.7163, 2.7145, 2.7141, 2.7083, 2.7033, 2.691, 2.6345, 2.6297, 2.5793, -0.1061, -0.1061, -0.1061, -0.1061, -0.1062, -0.1062, -0.1062, -0.1062, -0.1062, -0.1062, -0.1062, -0.1062, -0.1062, -0.1062, -0.1062, -0.1062, 2.7447, 2.7443, 2.7423, 2.7414, 2.7404, 2.7401, 2.7354, 2.7286, 2.721, 2.7015, 2.6674, -0.1199, -0.1199, -0.1199, -0.12, -0.12, -0.12, -0.12, -0.12, -0.12, -0.12, -0.12, -0.12, -0.12, -0.12, -0.12, -0.12, -0.12, -0.12, -0.12, -0.12, 2.7699, 2.7664, 2.7652, 2.7633, 2.7625, 2.7604, 2.7574, 2.7564, 2.7561, 2.7557, 2.7513, 2.7494, 2.7479, 2.7465, 2.7412, 2.7399, 2.6777, -0.0127, -0.0127, -0.0127, -0.0128, -0.0128, -0.0128, -0.0128, -0.0128, -0.0128, -0.0128, -0.0128, -0.0128, -0.0128, -0.0128, 2.7965, 2.7938, 2.7928, 2.7914, 2.7901, 2.7901, 2.79, 2.7897, 2.7896, 2.7895, 2.7895, 2.7884, 2.7827, 2.7769, 2.7734, 2.728, -0.1419, -0.1419, -0.1419, -0.1419, -0.1419, -0.1419, -0.1419, -0.1419, -0.1419, -0.1419, -0.1419, -0.1419, -0.1419, -0.1419, -0.1419, -0.1419, -0.1419, -0.1419, 2.8076, 2.8066, 2.8029, 2.801, 2.801, 2.7999, 2.7985, 2.7977, 2.7959, 2.7947, 2.7947, 2.7921, 2.792, 2.7901, 2.7866, 2.773, 2.758, 2.7579, -0.0736, -0.0736, -0.0736, -0.0736, -0.0736, -0.0736, -0.0736, -0.0736, -0.0736, -0.0736, -0.0736, -0.0736, -0.0737, 2.8347, 2.833, 2.832, 2.8308, 2.8306, 2.8295, 2.8291, 2.8287, 2.824, 2.8229, 2.8227, 2.8224, 2.8167, 2.8107, 2.8073, -0.0703, -0.0703, -0.0703, -0.0703, -0.0703, -0.0703, -0.0703, -0.0704, -0.0704, -0.0704, -0.0704, -0.0704, -0.0704, -0.0704, -0.0704, -0.0704, 2.9021, 2.9014, 2.8975, 2.8947, 2.8941, 2.892, 2.8833, 2.8818, 2.8798, 2.8771, 2.8757, 2.8728, 2.8728, 2.8727, 2.872, 2.8713, 2.8656, 2.8565, 2.8518, 2.8097, 2.5149, -0.0564, -0.0564, -0.0564, -0.0564, -0.0564, -0.0564, -0.0564, -0.0564, -0.0564, -0.0564, -0.0564, -0.0564, -0.0564, -0.0564, -0.0564, -0.0564, -0.0564, -0.0564, -0.0564, -0.0564, -0.0564, 2.9083, 2.906, 2.9025, 2.9004, 2.8993, 2.8982, 2.8956, 2.8932, 2.889, 2.8887, 2.8839, 2.8824, 2.8823, 2.8667, 2.864, 2.8552, 2.8321, 2.8252, -0.0023, -0.0023, -0.0023, -0.0023, -0.0023, -0.0023, -0.0023, -0.0023, -0.0023, -0.0023, -0.0023, -0.0023, -0.0023, -0.0023, -0.0023, 2.922, 2.921, 2.9202, 2.9195, 2.919, 2.9182, 2.9164, 2.9116, 2.9016, 2.8814, -0.0164, -0.0164, -0.0164, -0.0164, -0.0165, -0.0165, -0.0165, -0.0165, -0.0165, -0.0165, -0.0165, -0.0165, -0.0165, -0.0165, -0.0165, -0.0165, -0.0165, -0.0165, -0.0165, -0.0165, -0.0165, -0.0165, -0.0165, -0.0165, -0.0165, -0.0165, -0.0165, 2.9473, 2.9469, 2.9447, 2.9442, 2.9442, 2.9398, 2.9372, 2.933, 2.9316, 2.9252, 2.9065, 2.8992, 2.8391, -0.0386, -0.0386, -0.0386, -0.0386, -0.0386, -0.0386, -0.0386, -0.0386, -0.0386, -0.0386, -0.0386, -0.0386, -0.0386, -0.0386, -0.0386, -0.0386, -0.0386, -0.0386, -0.0386, -0.0386, -0.0386, -0.0386, -0.0386, -0.0386, -0.0386, -0.0386, -0.0386, -0.0386, -0.0386, -0.0386, -0.0386, -0.0386, -0.0386, -0.0386, -0.0386, -0.0386, -0.0386, 3.0287, 3.0272, 3.0241, 3.024, 3.0181, 3.0091, 2.9594, 0.0753, 0.0753, 0.0753, 0.0753, 0.0753, 0.0753, 0.0753, 0.0753, 0.0753, 0.0753, 0.0753, 0.0753, 0.0753, 0.0753, 0.0753, 0.0753, 0.0753, 0.0753, 0.0753, 0.0753, 0.0753, 0.0753, 0.0753, 0.0753, 0.0753, 0.0753, 0.0753, 0.0753, 0.0753, 0.0753, 0.0753, 0.0753, 0.0753, 0.0753, 0.0753, 0.0753, 0.0753, 0.0753, 0.0753, 0.0753, 0.0753, 0.0753, 0.0753, 0.0753, 0.0753, 0.0753, 0.0753, 0.0753, 0.0753, 0.0753, 0.0753, 0.0753, 0.0753, 0.0753, 0.0753, 0.0753, 3.0603, 3.0574, 3.055, 3.0549, 3.0534, 3.053, 3.0499, 3.0378, 2.9075, 2.7504, 0.1021, 0.102, 0.102, 0.102, 0.102, 0.102, 0.102, 0.102, 0.102, 0.102, 0.102, 0.102, 0.102, 0.102, 0.102, 0.102, 0.102, 0.102, 0.102, 0.102, 0.102, 0.102, 0.102, 0.102, 0.102, 0.102, 0.102, 0.102, 0.102, 0.102, 0.102, 0.102, 0.102, 0.102, 0.102, 0.102, 0.102, 0.102, 0.102, 0.102, 0.102, 0.102, 0.102, 0.102, 0.102, 0.102, 0.102, 0.102, 0.102, 0.102, 0.102, 0.102, 0.102, 0.102, 3.1508, 3.1496, 3.1488, 3.1481, 3.147, 3.1443, 3.1412, 3.1408, 3.1401, 3.1369, 3.136, 3.1303, 3.1273, 3.1113, 0.0918, 0.0918, 0.0918, 0.0918, 0.0918, 0.0918, 0.0918, 0.0918, 0.0918, 0.0918, 0.0918, 0.0918, 0.0918, 0.0918, 0.0918, 0.0918, 0.0917, 0.0917, 0.0917, 0.0917, 0.0917, 0.0917, 0.0917, 0.0917, 0.0917, 0.0917, 0.0917, 0.0917, 0.0917, 0.0917, 0.0916, 0.0917, 0.0916, 0.0916, 0.0917, 0.0917, 0.0916, 0.0916, 0.0916, 0.0917, 0.0916, 0.0916, 0.0916, 0.0916, 0.0916, 0.0916, 0.0916, 0.0916, 0.0917, 0.0916, 3.2707, 3.2685, 3.2679, 3.2667, 3.2611, 3.253, 3.2516, 3.2429, 0.1708, 0.1708, 0.1708, 0.1708, 0.1708, 0.1708, 0.1708, 0.1708, 0.1708, 0.1708, 0.1708, 0.1708, 0.1708, 0.1708, 0.1708, 0.1708, 0.1708, 0.1708, 0.1708, 0.1708, 0.1708, 0.1708, 0.1708, 0.1708, 0.1708, 0.1708, 0.1708, 0.1708, 0.1708, 0.1708, 0.1708, 0.1708, 0.1708, 0.1708, 0.1708, 0.1708, 0.1708, 0.1708, 0.1708, 0.1707, 0.1707, 0.1708, 0.1708, 0.1708, 0.1707, 0.1707, 0.1706, 0.1707, 0.1707, 0.1707, 0.1706, 0.1706, 0.1707, 0.1707, 0.1707, 0.1706, 0.1706, 0.1707, 0.1707, 0.1706, 0.1706, 0.1707, 0.1707, 0.1706, 0.1706, 0.1706, 0.1707, 0.1706, 0.1706, 0.1707, 0.1706, 0.1707, 0.1707, 0.1707, 3.3342, 3.3302, 3.3295, 3.3294, 3.3255, 3.3239, 3.3219, 3.3201, 3.3161, 3.316, 3.3018, 3.3, 3.2996, 3.2754, 3.2392, 0.3433, 0.3433, 0.3433, 0.3433, 0.3433, 0.3433, 0.3433, 0.3433, 0.3433, 0.3433, 0.3433, 0.3433, 0.3433, 0.3433, 0.3433, 0.3433, 0.3433, 0.3433, 0.3433, 0.3433, 0.3433, 0.3433, 0.3433, 0.3433, 0.3432, 0.3433, 0.3431, 0.3431, 0.3433, 0.3433, 0.3431, 0.3432, 0.3432, 0.3432, 0.3431, 0.3432, 0.3431, 0.3432, 0.3432, 0.343, 0.3431, 0.3431, 0.3431, 0.3431, 0.3431, 0.3431, 0.3431, 0.3431, 3.3858, 3.3853, 3.3824, 3.3795, 3.3782, 3.3767, 3.3728, 3.3721, 3.3694, 3.3613, 3.3524, 0.2555, 0.2555, 0.2555, 0.2555, 0.2555, 0.2555, 0.2555, 0.2555, 0.2555, 0.2555, 0.2555, 0.2555, 0.2555, 0.2555, 0.2555, 0.2555, 0.2555, 0.2555, 0.2555, 0.2555, 0.2555, 0.2555, 0.2555, 0.2555, 0.2555, 0.2555, 0.2555, 0.2555, 0.2555, 0.2555, 0.2555, 0.2555, 0.2555, 0.2555, 0.2554, 0.2553, 0.2554, 0.2554, 0.2554, 0.2554, 0.2553, 0.2554, 0.2554, 0.2553, 0.2554, 0.2554, 0.2554, 0.2553, 0.2553, 0.2553, 0.2554, 0.2554, 0.2552, 0.2552, 0.2552, 0.2551, 0.2552, 0.2552, 0.2553, 0.2552, 0.2552, 0.2553, 0.2553, 0.2552, 0.2553, 3.537, 3.5328, 3.5314, 3.5263, 3.5206, 3.5118, 3.498, 3.4926, 3.485, 0.3653, 0.3653, 0.3653, 0.3653, 0.3653, 0.3653, 0.3653, 0.3653, 0.3653, 0.3653, 0.3653, 0.3653, 0.3653, 0.3653, 0.3653, 0.3653, 0.3653, 0.3653, 0.3653, 0.3653, 0.3653, 0.3653, 0.3653, 0.3653, 0.3653, 0.3653, 0.3653, 0.3653, 0.3653, 0.3653, 0.3653, 0.3653, 0.3653, 0.3653, 0.3653, 0.3653, 0.3653, 0.3653, 0.3653, 0.3653, 0.3653, 0.3653, 0.3653, 0.3653, 0.3653, 0.3653, 0.3652, 0.3652, 0.3652, 0.3652, 0.3652, 0.3652, 0.3653, 0.3652, 0.365, 0.3652, 0.365, 0.3652, 0.3651, 0.3649, 0.3651, 0.3648, 0.3651, 0.3651, 0.365, 0.3652, 0.365, 0.3649, 0.365, 0.365, 0.3648, 0.365, 0.3649, 0.3649, 0.3649, 0.365, 0.365, 0.365, 0.365, 0.365, 0.3651, 0.365, 0.365, 3.5801, 3.5793, 3.5787, 3.5388, 3.5342, 0.5004, 0.5004, 0.5004, 0.5004, 0.5004, 0.5004, 0.5004, 0.5004, 0.5004, 0.5004, 0.5004, 0.5004, 0.5004, 0.5004, 0.5004, 0.5004, 0.5004, 0.5004, 0.5004, 0.5004, 0.5004, 0.5004, 0.5004, 0.5004, 0.5004, 0.5004, 0.5004, 0.5004, 0.5004, 0.5004, 0.5004, 0.5004, 0.5004, 0.5004, 0.5004, 0.5004, 0.5004, 0.5004, 0.5004, 0.5004, 0.5004, 0.5004, 0.5004, 0.5004, 0.5004, 0.5004, 0.5004, 0.5004, 0.5004, 0.5004, 0.5004, 0.5004, 0.5004, 0.5003, 0.5003, 0.5003, 0.5003, 0.5003, 0.5003, 0.5003, 0.5003, 0.5004, 0.5003, 0.5003, 0.5003, 0.5003, 0.5003, 0.5003, 0.5003, 0.5003, 0.5003, 0.5003, 0.5003, 0.5003, 0.5003, 0.5003, 0.5003, 0.5002, 0.5003, 0.5003, 0.5003, 0.5001, 0.5003, 0.5003, 0.5003, 0.5002, 0.5001, 0.5003, 0.4999, 0.5001, 0.5001, 0.5001, 0.5002, 0.5003, 0.5001, 0.4999, 0.5002, 0.4999, 0.5001, 0.5, 0.5, 0.5002, 0.5, 0.5, 0.5, 0.5, 0.5, 0.5001, 0.5, 0.5001, 0.5001, 0.5001, 0.5001, 0.5001, 0.5001, 0.5001, 5.3461, 5.3313, 5.0901, 1.0032, 1.0032, 1.0032, 1.0032, 1.0032, 1.0032, 1.0032, 1.0032, 1.0032, 1.0032, 1.0032, 1.0032, 1.0032, 1.0032, 1.0032, 1.0032, 1.0032, 1.0032, 1.0032, 1.0032, 1.0032, 1.0032, 1.0032, 1.0032, 1.0032, 1.0032, 1.0032, 1.0032, 1.0032, 1.0032, 1.0032, 1.0032, 1.0032, 1.0032, 1.0032, 1.0032, 1.0032, 1.0032, 1.0032, 1.0031, 1.0032, 1.0032, 1.0032, 1.0032, 1.0032, 1.0032, 1.0032, 1.0032, 1.0032, 1.0032, 1.0032, 1.0032, 1.0032, 1.0032, 1.0032, 1.0032, 1.0032, 1.0032, 1.0032, 1.0032, 1.0032, 1.0032, 1.0031, 1.0032, 1.0032, 1.0032, 1.0032, 1.0031, 1.0031, 1.0031, 1.0031, 1.0031, 1.0031, 1.0031, 1.0031, 1.003, 1.0031, 1.0031, 1.003, 1.0027, 1.0029, 1.0029, 1.003, 1.0024, 1.0023, 1.0026, 1.0025, 1.0029, 1.0024, 1.0029, 1.0026, 1.0018, 1.0018, 1.0019, 1.0022, 1.0021, 1.0021, 1.0021, 1.0021, 1.0026, 1.0022, 1.0022, 1.0024, 1.0026]}, \"token.table\": {\"Topic\": [16, 1, 10, 9, 15, 16, 3, 14, 1, 5, 10, 1, 6, 12, 7, 2, 1, 14, 14, 13, 6, 16, 6, 14, 8, 10, 7, 16, 8, 16, 17, 4, 13, 17, 7, 12, 12, 14, 3, 19, 17, 2, 9, 4, 5, 5, 1, 6, 12, 10, 11, 9, 3, 8, 6, 12, 17, 17, 13, 17, 3, 2, 11, 16, 2, 1, 5, 1, 5, 8, 4, 10, 13, 4, 13, 8, 5, 2, 3, 20, 8, 13, 3, 8, 16, 7, 16, 7, 4, 8, 9, 8, 4, 5, 8, 17, 4, 9, 8, 1, 10, 7, 2, 8, 7, 16, 8, 1, 8, 6, 7, 9, 4, 6, 19, 5, 11, 9, 9, 16, 1, 13, 5, 13, 10, 2, 4, 2, 6, 14, 3, 5, 15, 18, 3, 14, 14, 7, 2, 2, 7, 11, 8, 3, 18, 18, 10, 6, 8, 1, 7, 8, 6, 11, 16, 18, 5, 20, 10, 13, 12, 3, 7, 7, 13, 6, 7, 6, 11, 17, 1, 14, 14, 9, 9, 3, 15, 9, 9, 17, 6, 4, 18, 20, 14, 11, 16, 6, 4, 11, 1, 6, 9, 9, 18, 9, 6, 4, 11, 8, 2, 2, 4, 9, 14, 8, 4, 4, 4, 8, 11, 5, 18, 2, 9, 16, 18, 5, 6, 2, 15, 15, 5, 11, 15, 5, 19, 9, 6, 10, 11, 14, 7, 5, 12, 16, 11, 1, 15, 17, 16, 19, 8, 2, 19, 15, 4, 14, 17, 18], \"Freq\": [0.9326975295022942, 0.9938735257130006, 0.9934972096193654, 0.9060733585859642, 0.9797603422093627, 0.9572254701627725, 0.9976258928858479, 0.9699676751891391, 0.9974666556696687, 0.9752656062438798, 0.9968713009198529, 0.9967441325934973, 0.9861145219480129, 0.9276591549408211, 0.9813442815035087, 0.9903496862512883, 0.9875229352459154, 0.9862106021699345, 0.9793616273823824, 0.881073233118443, 0.9882998931360901, 0.9844214530266185, 0.990321596321304, 0.9862302315632384, 0.9685928557337278, 0.9926641168548584, 0.9777903951154336, 0.9828490012993936, 0.9709364874167205, 0.9602373418505413, 0.9781656546446785, 0.9829322803301567, 0.9955903141584559, 0.9839251012080298, 0.9930460784205831, 0.9958923875030699, 0.9926991844465434, 0.9917111648980069, 0.9104360823251725, 0.948686325184855, 0.9806890813233786, 0.9846011442828039, 0.9497157132399412, 0.9798227041978651, 0.9933142540762934, 0.9892763566349289, 0.971991561308249, 0.9656296422212548, 0.9867916654776638, 0.9950741937921663, 0.951963064393304, 0.9282974874089511, 0.992763008478987, 0.9740689724059814, 0.997505416065539, 0.9765851652238914, 0.992991449711754, 0.9688738324695637, 0.9893849572118475, 0.9844094952076787, 0.9475262014999837, 0.9698199377908416, 0.9048487444618992, 0.9761356983910111, 0.9842258384738104, 0.984719942957486, 0.9897160867684769, 0.9952603370563076, 0.9898335754680825, 0.9627165043206474, 0.9817127887904404, 0.990291138508851, 0.7675189293200227, 0.9903080314648868, 0.9725854912189701, 0.9913008105376558, 0.9772733663162474, 0.9027203712497655, 0.9979708972531045, 0.7051498825898407, 0.9750174168073596, 0.9918355471494031, 0.9828961200728196, 0.9498656391066254, 0.9889987231542807, 0.9830140653815014, 0.9084770961346968, 0.9932464264298837, 0.9982961132201581, 0.9662937563401786, 0.988440421451288, 0.9817685461479548, 0.9271614608860974, 0.9889690419867164, 0.9968962262526567, 0.9538952544003051, 0.9908266951462316, 0.9873140368420736, 0.9708092851114707, 0.9951899599309465, 0.9791524362845643, 0.9941424820372236, 0.9577207320847285, 0.9879734778453284, 0.9766574620030867, 0.9780550524548669, 0.9658780039904687, 0.9760444703957555, 0.9969294836768279, 0.9877880455698199, 0.992627305514457, 0.974534297495761, 0.9822069627953884, 0.9887477000898436, 0.9557654090400513, 0.9933986512719396, 0.9932057351590701, 0.9838178427122579, 0.9700070914814974, 0.983220339120106, 0.9977058110610941, 0.9911127859245252, 0.9910850294686325, 0.9976322454384211, 0.9952096285440719, 0.9956295479385673, 0.9948884455136398, 0.9815009163223691, 0.9912613304072938, 0.9849887136200867, 0.9744583338398014, 0.9331977041493422, 0.9646951979064479, 0.9914023150821666, 0.9948960490946709, 0.9939834631839897, 0.9896083169702822, 0.9909771528849338, 0.984182342522615, 0.8984030279188701, 0.9927141394446821, 0.9407500034433459, 0.9700804086891057, 0.99449975176358, 0.9954939389461511, 0.9898074491966773, 0.9497617147024691, 0.992455816736479, 0.990098373771364, 0.998231398641745, 0.989948934945601, 0.9274181007927668, 0.9456901715489872, 0.9970910763941399, 0.9822921951616393, 0.9860050798053883, 0.9813770490332697, 0.9672128044629641, 0.9946106875684223, 0.9874821816581657, 0.9935948128273171, 0.9887798615389324, 0.9847329236040511, 0.9875357841223302, 0.9924697144648696, 0.9962049817770184, 0.9736854829774103, 0.9839382341975164, 0.9888081168134868, 0.9877112113777815, 0.992145421351186, 0.9804719839282002, 0.9710888807642197, 0.9704216232703405, 0.9981440489862952, 0.9929535475363511, 0.9927338387230279, 0.9813037155744005, 0.9881274915198726, 0.9776990592021635, 0.9768187927032393, 0.9736402131873212, 0.9446949751365536, 0.9519886678278401, 0.9847707574090107, 0.9851451892533063, 0.9675226142774527, 0.9446604719356086, 0.9909436252364123, 0.9923971123861877, 0.9806240477469188, 0.9833293543708204, 0.9824630809038094, 0.9928292457352147, 0.9693877082268358, 0.9516490868653054, 0.9883539859422382, 0.9692509577865743, 0.9834726709218752, 0.9581171948839807, 0.9970121057382759, 0.9953395003285425, 0.9777370981306998, 0.9946037457276664, 0.9926372889078303, 0.9452933990222436, 0.976557077557587, 0.9713626851837274, 0.9856756898886585, 0.9928260323177988, 0.982620128740404, 0.9901443613636032, 0.9539165493831906, 0.996994780876539, 0.9676560495363054, 0.9884977171694735, 0.9782216748372907, 0.9974202780522448, 0.9840626812692678, 0.8630237702270983, 0.9865775045275278, 0.9809290748235285, 0.9883649432980711, 0.9968102245355493, 0.9944264554650427, 0.9945994651113995, 0.9942168643744855, 0.9500147649723619, 0.9796489021117205, 0.984306798452226, 0.9727095165883735, 0.958910805668207, 0.9969975684896587, 0.9920094251388069, 0.997905253453328, 0.9861427472753574, 0.9948824780757989, 0.9989068113243411, 0.9959854324594226, 0.9919957567800526, 0.9918341558155498, 0.9956431907873728, 0.6599027672578845, 0.9967592919051546, 0.9946608976287599, 0.9914349245618698, 0.9931432643644058, 0.9900280561567272, 0.9879985908237483, 0.96232044084168], \"Term\": [\"abstract\", \"access\", \"add\", \"advice\", \"algorithm\", \"amazon\", \"android\", \"animation\", \"app\", \"apps\", \"array\", \"asp\", \"assembly\", \"assign\", \"audio\", \"authentication\", \"aws\", \"azure\", \"bar\", \"beta\", \"better\", \"binary\", \"binding\", \"bit\", \"box\", \"browser\", \"buffer\", \"cache\", \"caching\", \"canvas\", \"cause\", \"certificate\", \"change\", \"character\", \"chrome\", \"class\", \"column\", \"command\", \"complex\", \"complexity\", \"configuration\", \"connect\", \"const\", \"constraint\", \"context\", \"control\", \"cooky\", \"coordinate\", \"copy\", \"create\", \"created\", \"credential\", \"cs\", \"csv\", \"data\", \"dataframe\", \"date\", \"day\", \"debug\", \"debugging\", \"declaration\", \"define\", \"definition\", \"design\", \"detect\", \"developer\", \"device\", \"difference\", \"disable\", \"drawing\", \"duplicate\", \"dynamic\", \"ec2\", \"eclipse\", \"efficient\", \"email\", \"engine\", \"enter\", \"error\", \"exactly\", \"excel\", \"exception\", \"expected\", \"export\", \"extension\", \"faster\", \"fastest\", \"field\", \"file\", \"finding\", \"firebase\", \"firefox\", \"foreign\", \"format\", \"function\", \"functional\", \"gcc\", \"generate\", \"generation\", \"getting\", \"given\", \"google\", \"graph\", \"height\", \"hide\", \"html5\", \"ide\", \"identity\", \"image\", \"implement\", \"implementation\", \"implementing\", \"import\", \"index\", \"inheritance\", \"inside\", \"install\", \"int\", \"integer\", \"interface\", \"io\", \"issue\", \"item\", \"java\", \"javascript\", \"jquery\", \"key\", \"keyboard\", \"laravel\", \"large\", \"leak\", \"learning\", \"length\", \"like\", \"line\", \"linux\", \"load\", \"local\", \"logging\", \"macro\", \"make\", \"mapped\", \"matlab\", \"memory\", \"method\", \"model\", \"multidimensional\", \"mysql\", \"native\", \"net\", \"new\", \"oauth\", \"oauth2\", \"object\", \"option\", \"oracle\", \"order\", \"package\", \"page\", \"panda\", \"parameter\", \"pas\", \"password\", \"pattern\", \"performance\", \"php\", \"play\", \"plot\", \"plugin\", \"post\", \"problem\", \"program\", \"progress\", \"public\", \"python\", \"query\", \"rail\", \"random\", \"range\", \"real\", \"refresh\", \"register\", \"relationship\", \"remove\", \"replace\", \"resource\", \"retrieve\", \"right\", \"row\", \"running\", \"safari\", \"save\", \"scala\", \"script\", \"scrolling\", \"secure\", \"security\", \"self\", \"send\", \"sending\", \"server\", \"service\", \"servlet\", \"set\", \"setting\", \"signature\", \"signed\", \"simple\", \"single\", \"size\", \"space\", \"specific\", \"specified\", \"sql\", \"storage\", \"store\", \"stream\", \"string\", \"support\", \"suppress\", \"symbol\", \"target\", \"task\", \"test\", \"text\", \"thread\", \"time\", \"title\", \"token\", \"tree\", \"true\", \"turn\", \"type\", \"update\", \"use\", \"used\", \"user\", \"using\", \"value\", \"variable\", \"visual\", \"way\", \"webkit\", \"window\", \"work\", \"wpf\", \"write\", \"xcode\", \"xml\", \"zoom\"]}, \"R\": 30, \"lambda.step\": 0.01, \"plot.opts\": {\"xlab\": \"PC1\", \"ylab\": \"PC2\"}, \"topic.order\": [15, 14, 18, 19, 1, 16, 12, 9, 7, 4, 2, 11, 17, 6, 20, 8, 10, 3, 13, 5]};\n",
       "\n",
       "function LDAvis_load_lib(url, callback){\n",
       "  var s = document.createElement('script');\n",
       "  s.src = url;\n",
       "  s.async = true;\n",
       "  s.onreadystatechange = s.onload = callback;\n",
       "  s.onerror = function(){console.warn(\"failed to load library \" + url);};\n",
       "  document.getElementsByTagName(\"head\")[0].appendChild(s);\n",
       "}\n",
       "\n",
       "if(typeof(LDAvis) !== \"undefined\"){\n",
       "   // already loaded: just create the visualization\n",
       "   !function(LDAvis){\n",
       "       new LDAvis(\"#\" + \"ldavis_el899251402301811212488947614405\", ldavis_el899251402301811212488947614405_data);\n",
       "   }(LDAvis);\n",
       "}else if(typeof define === \"function\" && define.amd){\n",
       "   // require.js is available: use it to load d3/LDAvis\n",
       "   require.config({paths: {d3: \"https://d3js.org/d3.v5\"}});\n",
       "   require([\"d3\"], function(d3){\n",
       "      window.d3 = d3;\n",
       "      LDAvis_load_lib(\"https://cdn.jsdelivr.net/gh/bmabey/pyLDAvis@3.4.0/pyLDAvis/js/ldavis.v3.0.0.js\", function(){\n",
       "        new LDAvis(\"#\" + \"ldavis_el899251402301811212488947614405\", ldavis_el899251402301811212488947614405_data);\n",
       "      });\n",
       "    });\n",
       "}else{\n",
       "    // require.js not available: dynamically load d3 & LDAvis\n",
       "    LDAvis_load_lib(\"https://d3js.org/d3.v5.js\", function(){\n",
       "         LDAvis_load_lib(\"https://cdn.jsdelivr.net/gh/bmabey/pyLDAvis@3.4.0/pyLDAvis/js/ldavis.v3.0.0.js\", function(){\n",
       "                 new LDAvis(\"#\" + \"ldavis_el899251402301811212488947614405\", ldavis_el899251402301811212488947614405_data);\n",
       "            })\n",
       "         });\n",
       "}\n",
       "</script>"
      ],
      "text/plain": [
       "PreparedData(topic_coordinates=              x         y  topics  cluster       Freq\n",
       "topic                                                \n",
       "14     0.291416  0.339230       1        1  10.763669\n",
       "13     0.146553 -0.352487       2        1   6.522852\n",
       "17    -0.284169 -0.240220       3        1   6.413036\n",
       "18    -0.131126  0.343944       4        1   6.255312\n",
       "0      0.284231 -0.248171       5        1   6.083145\n",
       "15     0.336859 -0.104414       6        1   6.017714\n",
       "11     0.064535  0.359856       7        1   5.852930\n",
       "8     -0.162545 -0.342275       8        1   5.475837\n",
       "6     -0.361183  0.112668       9        1   5.444363\n",
       "3      0.256337  0.155696      10        1   5.364772\n",
       "1      0.348602  0.040471      11        1   5.230650\n",
       "10     0.027428  0.221702      12        1   4.828370\n",
       "16    -0.339504 -0.091733      13        1   4.676221\n",
       "5     -0.245600  0.234535      14        1   4.255870\n",
       "19    -0.006179 -0.303884      15        1   3.784543\n",
       "7     -0.108824  0.083127      16        1   3.539987\n",
       "9     -0.004142 -0.164774      17        1   3.362597\n",
       "2     -0.208198 -0.010152      18        1   2.897137\n",
       "12     0.103870 -0.030338      19        1   2.773277\n",
       "4     -0.008359 -0.002780      20        1   0.457717, topic_info=         Term         Freq        Total Category  logprob  loglift\n",
       "3       using  2090.000000  2090.000000  Default  30.0000  30.0000\n",
       "306       use  1278.000000  1278.000000  Default  29.0000  29.0000\n",
       "30       file  1301.000000  1301.000000  Default  28.0000  28.0000\n",
       "96     python  1087.000000  1087.000000  Default  27.0000  27.0000\n",
       "75    android  1145.000000  1145.000000  Default  26.0000  26.0000\n",
       "...       ...          ...          ...      ...      ...      ...\n",
       "1041     node     0.032206     2.581701  Topic20  -9.4414   1.0026\n",
       "451       run     0.032206     2.582903  Topic20  -9.4414   1.0022\n",
       "542      code     0.032206     2.582865  Topic20  -9.4414   1.0022\n",
       "617    custom     0.032206     2.582252  Topic20  -9.4414   1.0024\n",
       "1291    video     0.032206     2.581657  Topic20  -9.4414   1.0026\n",
       "\n",
       "[1144 rows x 6 columns], token_table=      Topic      Freq       Term\n",
       "term                            \n",
       "200      16  0.932698   abstract\n",
       "80        1  0.993874     access\n",
       "155      10  0.993497        add\n",
       "262       9  0.906073     advice\n",
       "27       15  0.979760  algorithm\n",
       "...     ...       ...        ...\n",
       "131      15  0.991435        wpf\n",
       "224       4  0.993143      write\n",
       "127      14  0.990028      xcode\n",
       "410      17  0.987999        xml\n",
       "361      18  0.962320       zoom\n",
       "\n",
       "[250 rows x 3 columns], R=30, lambda_step=0.01, plot_opts={'xlab': 'PC1', 'ylab': 'PC2'}, topic_order=[15, 14, 18, 19, 1, 16, 12, 9, 7, 4, 2, 11, 17, 6, 20, 8, 10, 3, 13, 5])"
      ]
     },
     "execution_count": 22,
     "metadata": {},
     "output_type": "execute_result"
    }
   ],
   "source": [
    "pyLDAvis.enable_notebook()\n",
    "vis = pyLDAvis.gensim.prepare(lda_model_title_ctf, gensim_corpus_title_ctf, id2word_title_ctf, mds=\"mmds\", R=30)\n",
    "vis"
   ]
  },
  {
   "cell_type": "code",
   "execution_count": null,
   "metadata": {},
   "outputs": [],
   "source": []
  },
  {
   "cell_type": "code",
   "execution_count": 23,
   "metadata": {},
   "outputs": [
    {
     "data": {
      "text/plain": [
       "0.3888885132931495"
      ]
     },
     "execution_count": 23,
     "metadata": {},
     "output_type": "execute_result"
    }
   ],
   "source": [
    "coherence_score_title_ctf = CoherenceModel(model=lda_model_title_ctf, texts=converted_title_ctf, dictionary=id2word_title_ctf, coherence='c_v')\n",
    "coherence_score_title_ctf.get_coherence()"
   ]
  },
  {
   "cell_type": "code",
   "execution_count": null,
   "metadata": {},
   "outputs": [],
   "source": []
  },
  {
   "cell_type": "code",
   "execution_count": 24,
   "metadata": {},
   "outputs": [],
   "source": [
    "lda_model_text_cv = gensim.models.ldamodel.LdaModel(corpus=gensim_corpus_text_cv,\n",
    "                                                id2word=id2word_text_cv,\n",
    "                                                num_topics=10,\n",
    "                                                random_state=100,\n",
    "                                                update_every=1,\n",
    "                                                chunksize=100,\n",
    "                                                passes=10,\n",
    "                                                alpha=\"auto\")"
   ]
  },
  {
   "cell_type": "code",
   "execution_count": 25,
   "metadata": {},
   "outputs": [
    {
     "data": {
      "text/html": [
       "\n",
       "<link rel=\"stylesheet\" type=\"text/css\" href=\"https://cdn.jsdelivr.net/gh/bmabey/pyLDAvis@3.4.0/pyLDAvis/js/ldavis.v1.0.0.css\">\n",
       "\n",
       "\n",
       "<div id=\"ldavis_el899251402301811232642769647770\" style=\"background-color:white;\"></div>\n",
       "<script type=\"text/javascript\">\n",
       "\n",
       "var ldavis_el899251402301811232642769647770_data = {\"mdsDat\": {\"x\": [-0.4046598790943032, -0.015617663445590305, -0.22146861996469203, 0.19774075074216171, 0.4339924512015263, 0.33707330158267457, 0.08799767073421627, 0.12445873287176956, -0.4059038198944849, -0.13361292473327807], \"y\": [0.09458595056389942, 0.1465665893502121, 0.32803793427866235, -0.1779414234124378, -0.0844120285776365, 0.2382886574574304, 0.4480424835998242, -0.4735575296769122, -0.25200808813024306, -0.2676025454527988], \"topics\": [1, 2, 3, 4, 5, 6, 7, 8, 9, 10], \"cluster\": [1, 1, 1, 1, 1, 1, 1, 1, 1, 1], \"Freq\": [20.92257692219271, 12.97213625449323, 12.666011265467267, 11.431669544022052, 9.312801660082863, 8.939965815768256, 7.063329949756271, 5.813827920981781, 5.5877200135689575, 5.289960653666621]}, \"tinfo\": {\"Term\": [\"java\", \"file\", \"org\", \"android\", \"string\", \"class\", \"public\", \"test\", \"like\", \"user\", \"int\", \"new\", \"function\", \"object\", \"data\", \"app\", \"return\", \"self\", \"image\", \"way\", \"use\", \"value\", \"text\", \"com\", \"type\", \"project\", \"server\", \"view\", \"array\", \"jar\", \"way\", \"know\", \"question\", \"possible\", \"different\", \"answer\", \"thing\", \"based\", \"say\", \"really\", \"think\", \"looking\", \"target\", \"language\", \"good\", \"cell\", \"better\", \"multiple\", \"doe\", \"best\", \"far\", \"similar\", \"currently\", \"actually\", \"difference\", \"character\", \"specific\", \"feature\", \"performance\", \"documentation\", \"like\", \"need\", \"time\", \"used\", \"want\", \"solution\", \"ve\", \"make\", \"use\", \"example\", \"using\", \"look\", \"instead\", \"work\", \"case\", \"code\", \"problem\", \"able\", \"change\", \"simple\", \"memory\", \"edit\", \"set\", \"tried\", \"number\", \"create\", \"string\", \"public\", \"private\", \"factory\", \"entity\", \"maven\", \"schema\", \"constructor\", \"annotation\", \"boolean\", \"extends\", \"obj\", \"expression\", \"bind\", \"generic\", \"mock\", \"validation\", \"tostring\", \"await\", \"col\", \"protected\", \"typeof\", \"foreach\", \"writeline\", \"files\", \"assert\", \"ret\", \"inject\", \"derived\", \"plot\", \"model\", \"object\", \"throw\", \"null\", \"static\", \"class\", \"new\", \"type\", \"exception\", \"catch\", \"method\", \"return\", \"mvc\", \"void\", \"value\", \"property\", \"override\", \"context\", \"list\", \"add\", \"false\", \"true\", \"var\", \"session\", \"int\", \"set\", \"test\", \"code\", \"error\", \"request\", \"table\", \"php\", \"database\", \"crypto\", \"date\", \"00\", \"query\", \"sql\", \"openssl\", \"password\", \"email\", \"token\", \"domain\", \"login\", \"mysql\", \"username\", \"authentication\", \"record\", \"insert\", \"delete\", \"push\", \"auth\", \"layer\", \"mobile\", \"customer\", \"driver\", \"certificate\", \"param\", \"oracle\", \"response\", \"select\", \"user\", \"post\", \"column\", \"url\", \"server\", \"browser\", \"asp\", \"data\", \"api\", \"json\", \"client\", \"key\", \"header\", \"web\", \"page\", \"com\", \"error\", \"function\", \"using\", \"file\", \"project\", \"lib\", \"debug\", \"py\", \"release\", \"directory\", \"transaction\", \"studio\", \"git\", \"django\", \"folder\", \"common\", \"dll\", \"visual\", \"docker\", \"environment\", \"gradle\", \"platform\", \"xxx\", \"assembly\", \"16\", \"14\", \"execution\", \"remote\", \"users\", \"jdbc\", \"tomcat\", \"deploy\", \"exe\", \"build\", \"package\", \"github\", \"compile\", \"framework\", \"python\", \"microsoft\", \"config\", \"version\", \"error\", \"module\", \"path\", \"line\", \"failed\", \"library\", \"run\", \"local\", \"core\", \"import\", \"net\", \"com\", \"using\", \"state\", \"title\", \"document\", \"screen\", \"socket\", \"react\", \"parent\", \"gcc\", \"buffer\", \"route\", \"timeout\", \"webpack\", \"report\", \"apple\", \"hello\", \"export\", \"lock\", \"queue\", \"enable\", \"msg\", \"flag\", \"200\", \"pid\", \"cpu\", \"goal\", \"fragment\", \"tcp\", \"wait\", \"wcf\", \"active\", \"process\", \"thread\", \"stack\", \"connection\", \"log\", \"xcode\", \"service\", \"window\", \"app\", \"message\", \"console\", \"component\", \"port\", \"task\", \"application\", \"native\", \"start\", \"open\", \"close\", \"address\", \"running\", \"default\", \"new\", \"main\", \"function\", \"android\", \"div\", \"width\", \"color\", \"style\", \"click\", \"label\", \"jquery\", \"layout\", \"activity\", \"intent\", \"defined\", \"img\", \"font\", \"menu\", \"widget\", \"ajax\", \"profile\", \"facebook\", \"png\", \"href\", \"dialog\", \"canvas\", \"icon\", \"grid\", \"border\", \"jpg\", \"included\", \"span\", \"padding\", \"image\", \"button\", \"text\", \"height\", \"html\", \"item\", \"id\", \"cs\", \"left\", \"form\", \"view\", \"content\", \"input\", \"page\", \"background\", \"script\", \"com\", \"class\", \"function\", \"javascript\", \"true\", \"array\", \"std\", \"template\", \"foo\", \"double\", \"vector\", \"struct\", \"pointer\", \"char\", \"operator\", \"range\", \"numpy\", \"matrix\", \"env\", \"declaration\", \"math\", \"np\", \"cout\", \"clang\", \"cpp\", \"undeclared\", \"sizeof\", \"equal\", \"endl\", \"cv2\", \"str\", \"typename\", \"definition\", \"24\", \"boost\", \"byte\", \"float\", \"int\", \"print\", \"random\", \"define\", \"include\", \"loop\", \"function\", \"compiler\", \"const\", \"argument\", \"size\", \"length\", \"main\", \"value\", \"return\", \"data\", \"result\", \"line\", \"error\", \"number\", \"void\", \"java\", \"org\", \"jar\", \"springframework\", \"spring\", \"apache\", \"hibernate\", \"util\", \"lang\", \"bean\", \"52\", \"beans\", \"sun\", \"eclipse\", \"servlet\", \"boot\", \"javax\", \"sonar\", \"32\", \"jpa\", \"slf4j\", \"parser\", \"reflect\", \"persistence\", \"junit\", \"appdata\", \"awt\", \"concurrent\", \"jetty\", \"xsd\", \"dependency\", \"internal\", \"xml\", \"unknown\", \"info\", \"support\", \"com\", \"security\", \"www\", \"web\", \"source\", \"version\", \"configuration\", \"core\", \"run\", \"command\", \"node\", \"npm\", \"usr\", \"2013\", \"gem\", \"15\", \"err\", \"ruby\", \"rail\", \"12\", \"node_modules\", \"require\", \"nil\", \"dev\", \"18\", \"exit\", \"express\", \"13\", \"dylib\", \"product\", \"04\", \"25\", \"sum\", \"2008\", \"17\", \"txt\", \"ssh\", \"hour\", \"scala\", \"10\", \"js\", \"test\", \"bin\", \"testing\", \"script\", \"src\", \"setup\", \"root\", \"run\", \"output\", \"local\", \"linux\", \"module\", \"user\", \"self\", \"event\", \"home\", \"device\", \"frame\", \"video\", \"position\", \"angular\", \"swift\", \"iphone\", \"callback\", \"game\", \"admin\", \"255\", \"audio\", \"camera\", \"notification\", \"delegate\", \"tab\", \"animation\", \"draw\", \"play\", \"calendar\", \"__init__\", \"theme\", \"indexpath\", \"channel\", \"timer\", \"uiview\", \"shape\", \"identifier\", \"io\", \"view\", \"let\", \"ubuntu\", \"section\", \"func\", \"yes\", \"size\", \"import\", \"var\", \"return\"], \"Freq\": [27840.0, 26498.0, 20061.0, 21631.0, 21865.0, 26066.0, 18567.0, 15464.0, 22100.0, 18628.0, 14946.0, 23873.0, 20426.0, 14203.0, 21504.0, 17017.0, 19670.0, 8700.0, 10842.0, 14759.0, 22882.0, 18649.0, 10532.0, 17770.0, 15745.0, 9613.0, 14351.0, 9293.0, 7357.0, 6851.0, 14758.699211986506, 9796.765756721905, 9596.297639596669, 5819.593271595406, 5503.419535015076, 4370.551449660227, 4327.539260993337, 3634.8502394405823, 3450.6782778395077, 3405.0870539884854, 3251.2509369504987, 3214.730254048013, 3206.732670485241, 3047.398877300928, 3045.356510110558, 2972.004690862987, 2955.467176717292, 2947.793865561333, 2891.2962608310845, 2881.7286157726294, 2859.607861483013, 2727.5099216569024, 2505.7170604409107, 2461.2347611427836, 2425.434557388184, 2347.0505528573062, 2343.351235067501, 2263.152403003573, 2244.67512274427, 2107.365919002719, 21999.195865564794, 12011.324813224343, 12809.543774748354, 6023.048177999505, 13463.485935054128, 5775.724307147293, 9960.517075233354, 8253.129149428401, 19801.233952985134, 8970.368223459114, 23273.963133089674, 4739.347801964701, 3632.659649661459, 12673.126746052516, 5511.426962223589, 14529.015154302097, 8574.349268858012, 4053.256673270705, 5174.965093169377, 3603.5682690810845, 3674.6833091349013, 3873.133100281481, 5385.389679359836, 4177.912438314889, 3809.2951646425495, 3935.2022085011135, 21864.389069652032, 18567.08816944027, 7418.093714103242, 3091.127460226275, 3052.98198659428, 2991.7061365977056, 2844.3365460253103, 2261.6587087479897, 2209.1352102617943, 2140.8104849901797, 1777.6181782016188, 1679.9306117005412, 1669.0514383036693, 1627.102426408025, 1617.5153551108388, 1516.4587459381762, 1403.3719373634083, 1390.1597268571213, 1263.4383010673037, 1215.4818183775444, 1184.5022357162375, 1132.4980897408159, 1078.7680502804383, 1007.646685093181, 999.9275223177949, 966.2601583744595, 951.9663449160739, 916.3560744273487, 875.6001062089962, 823.3783603341451, 7049.933932587904, 13461.298777786496, 2404.540858891701, 8895.301733845818, 5490.2478046868855, 22193.02641851698, 18623.554287031984, 12412.735800061466, 5007.194806801678, 2086.2356321122766, 10674.399450522196, 13422.204972338217, 2285.8334237884706, 6700.921064337559, 11063.144135576427, 4986.331506843451, 2595.742627695417, 4262.139793223685, 5425.418527206427, 5558.907967128171, 4122.020481069491, 5537.966265480181, 5025.872718341689, 2746.428328062028, 4174.4726199338675, 3690.5508656001302, 3455.8490694363913, 3389.575229085288, 2959.130234501589, 8696.171450506281, 7583.821093897811, 7002.6080694131, 6098.46362400705, 5636.519235392274, 5611.447926573414, 4958.54280372397, 4835.614822070203, 4193.668025703072, 3382.8451488462792, 3313.098009038579, 3228.9527668796086, 2808.5446803455593, 2702.146783661202, 2428.709126067546, 2279.384165044144, 2118.638359701038, 2114.612758464207, 1935.3726571177795, 1890.9458477495157, 1682.9661531504164, 1531.48743587431, 1468.6021997007183, 1463.7326982273803, 1385.9831747266749, 1270.46246895383, 1252.5027729781161, 1221.5712623132133, 1211.6468396785056, 1194.1581417978546, 5650.321886137231, 4324.750348099492, 16798.818375956365, 4555.707644656914, 4390.57410815474, 5982.312514214512, 11711.146001062221, 3133.7483519308666, 2663.530898966019, 15295.094501515834, 6060.53991169488, 4583.512805192519, 5357.472460338531, 4813.025249199442, 2931.781389217842, 4650.987235943945, 3806.7700211567994, 5541.323529897358, 5760.722464443087, 4531.54853652825, 3306.4203791117366, 26497.111069888306, 9612.163570013581, 7545.135352120306, 4307.167878036434, 4065.060670435997, 3410.0061389017756, 3306.6483980824264, 2962.7346949311373, 2799.1584774647386, 2746.228929778983, 2564.6118063782747, 2496.7535657285425, 2494.238765257932, 2370.313320137199, 2295.0527910906303, 2136.2244308588674, 2083.417758181711, 1899.3929879374193, 1897.569100814825, 1877.9182012914089, 1851.2034367955139, 1717.4867772900482, 1613.168377312558, 1600.984720315104, 1572.4944740030323, 1404.6158729232418, 1400.7782009374907, 1219.7094641492351, 1177.9007253225775, 1168.9468813668182, 8276.47747401035, 5712.926654027877, 2164.337570873503, 5771.147894634476, 3525.588081334211, 5556.684254204365, 2738.554413248616, 3905.027349050881, 7338.660655851995, 12827.917559377862, 4395.874946113284, 4574.150034768315, 5922.701185543962, 2809.9584460236047, 4151.185708449989, 4599.664182176818, 3128.077706081791, 2939.0833243785896, 3331.076942721351, 3085.607634927705, 3374.2023472546334, 2817.8197573902767, 3968.5078972887804, 3586.849361480783, 3087.923796773494, 2784.557648179171, 2513.6904775408707, 2428.9109673337084, 2150.8799030578925, 2127.742132590849, 2060.5101257754486, 1765.6327639469641, 1699.1919518959342, 1548.7092354915537, 1504.0229933482597, 1483.885864835289, 1447.0841018060696, 1327.290389477687, 1232.3179482970843, 1230.48926885394, 1195.9630123003947, 1171.4039560734582, 1129.329920541985, 1108.722540912939, 1096.6836573412215, 1076.9530799185688, 1048.2281599700968, 1046.7097232449944, 980.8626021747684, 965.6778978865702, 934.2410925822677, 929.4919017730075, 4904.671449907669, 5940.977172649431, 2420.4943065229604, 5141.209530738816, 6817.072949127607, 1598.2122443973587, 6835.04781565514, 6868.070043822742, 12533.999942291764, 6852.926963625449, 4373.238649833611, 3592.059282105972, 2609.2994976825826, 2761.726075984089, 6605.529545069913, 2314.0028616104873, 3394.0816242744313, 2895.1334780765296, 2028.5155239493006, 2257.664738829741, 2773.5651807713207, 2487.3163076170163, 2611.408507794636, 2154.19618032478, 2172.3075469075075, 21630.939687884693, 7326.205384680819, 4822.05530642061, 4648.591090169459, 4103.827168435294, 3046.6414271587464, 2843.647029347142, 2760.2487182742884, 2294.9183998214357, 2186.831095590677, 2084.033411702983, 2077.9905810009573, 1854.0473583087633, 1778.087970162556, 1769.0166061422076, 1721.570500863063, 1706.2752832902424, 1694.4059110292171, 1676.4531032981035, 1409.9931294607652, 1290.6660695319272, 1272.289580973898, 1203.4915959152484, 1174.1391208795621, 1163.751903538812, 1120.6480818625957, 1118.0803560415884, 1093.046788557097, 1085.1312044786723, 1073.6374667652217, 10606.63191851339, 4335.883256140783, 9385.294203490683, 3533.435652490241, 5564.860491350685, 4243.282383968302, 4215.667582702114, 2038.533261623139, 2004.8450547498892, 3147.176244529871, 4216.189135579539, 3133.5395133402267, 2733.4395414899777, 3112.655720797331, 2207.2654855611513, 2566.3908785927106, 3345.0460294224094, 3545.3103632267484, 3091.0002758892624, 2192.23654467451, 2126.785217541334, 7356.854218960597, 5669.693688373709, 3653.3347504008675, 3203.976765547929, 3142.5948122142872, 2951.195532400008, 2694.7261110206477, 2514.5059168549183, 2468.4879209148285, 1796.5351994397624, 1760.4563697542253, 1619.670239168665, 1515.7712312536576, 1321.1720110262124, 1301.2654317192435, 1083.9951525875952, 1059.2094821573646, 1026.5819382605519, 997.7748696349457, 962.5248470116061, 965.5710277060849, 938.5339852352847, 911.8863267902358, 892.1650771525066, 854.7234353302314, 820.6588835222021, 779.503810289402, 778.8734976936389, 771.913985172986, 753.5733776643115, 3946.019634166742, 2196.1230933386755, 10771.303115745326, 3670.539990011709, 1664.49292264894, 1540.0590039414576, 3881.4075764185964, 2213.553284823905, 10630.945416229622, 2075.212994618051, 3713.256305940899, 1702.2251486112268, 3334.6423624302115, 2112.6217244473405, 2973.1654060866595, 4691.555391889684, 4515.059685007852, 3587.4974718186986, 2215.535928844077, 2174.830631546487, 2322.573398847488, 1825.4365305695508, 1879.0053684887337, 27839.186909274966, 20060.716117910015, 6850.565336759098, 6538.673972816309, 5252.513610872005, 4606.630181058634, 3498.860007607571, 2875.6363303991043, 2486.7405224376475, 2460.9617004923357, 2449.9917248986503, 2393.4001000333074, 2090.0047493727843, 2078.346954184267, 1639.396121982383, 1511.823050899492, 1339.065240116271, 1251.8972042901491, 1235.7167164766963, 1221.917191200753, 1084.4577391749524, 1077.4165832155593, 1059.00189155759, 1041.1599270140696, 1040.8636743406148, 944.6318426758951, 863.6901627538017, 774.0833551415681, 757.988713273264, 757.4339233324034, 3440.7837528673017, 2470.224435892547, 4393.443559058344, 1531.2829379803209, 3989.0485602696895, 3127.3589446886203, 5509.176995955601, 2006.5260903241424, 1902.684057703326, 2545.3160723441865, 1867.9214996795367, 2068.0605900508476, 1708.0740353384379, 1743.957535207277, 1611.4378019419144, 6063.998044133596, 5401.266437370427, 3877.551181562419, 3853.649956113242, 3477.0596497657025, 3413.661301436968, 3024.0439455242254, 2972.082157233842, 2373.7630507354747, 2244.0935639675845, 2227.5302282795487, 2218.752505660023, 2006.403448131447, 1924.823974386156, 1627.8097114288498, 1626.3218504379001, 1382.4510700558042, 1350.050887379697, 1305.6278981123662, 1228.6931997895183, 1168.8906924679975, 1153.4605173729333, 1144.789771099206, 1036.8464926023537, 985.1353606080334, 948.7913099093649, 944.7509811742405, 937.8551524564174, 869.8643035358429, 869.4265903024198, 5027.509689732393, 5385.732420397163, 11108.591997846608, 2968.5298954374407, 1754.3797153006087, 3538.494001364011, 2475.2063534387016, 1857.6523337393614, 1710.310516424534, 3539.851326946241, 2291.999553408564, 2199.203539028001, 1628.8325589847075, 1834.684370739825, 1829.2212970503238, 8700.010796837412, 5280.776842581064, 3805.2114300029157, 3634.065329976404, 3004.4715683424274, 2582.5367901109785, 1852.2165192304283, 1767.1793310070711, 1652.7076509610822, 1625.1897409100388, 1618.2445968756863, 1531.2589508578692, 1377.1004736510006, 1366.6396818928881, 1331.2501172207774, 1302.7854988628212, 1263.1610178907988, 1254.0734796585682, 1116.889128216613, 1089.2872683996281, 1082.3980270600416, 1073.636811236129, 974.6047088389649, 921.7522527179067, 894.7880090821498, 876.0830057029191, 863.6191935886743, 740.9334549161757, 736.6353130513787, 734.4588411834035, 1289.8896852734404, 4720.943517692505, 5076.309290417411, 2956.299144155977, 1153.2541183333587, 1165.2361526004154, 1291.0493790184603, 1167.870949986439, 1664.5865907037157, 1345.4861596276594, 1247.1844297665666, 1198.349501212862], \"Total\": [27840.0, 26498.0, 20061.0, 21631.0, 21865.0, 26066.0, 18567.0, 15464.0, 22100.0, 18628.0, 14946.0, 23873.0, 20426.0, 14203.0, 21504.0, 17017.0, 19670.0, 8700.0, 10842.0, 14759.0, 22882.0, 18649.0, 10532.0, 17770.0, 15745.0, 9613.0, 14351.0, 9293.0, 7357.0, 6851.0, 14759.608188463262, 9797.674762965997, 9597.20665087956, 5820.502272689322, 5504.328566031501, 4371.460497282124, 4328.448247564566, 3635.759323679709, 3451.587266936619, 3405.99603307134, 3252.1599545283657, 3215.6392538904092, 3207.6419634732138, 3048.307866530655, 3046.265575638923, 2972.9138588721717, 2956.3761391911794, 2948.7028613494485, 2892.2053220303005, 2882.637558244979, 2860.5168826507743, 2728.4190036058853, 2506.631245346245, 2462.143769735747, 2426.343522475024, 2347.959596489749, 2344.260209559987, 2264.0614142442755, 2245.5840677952438, 2108.2749734190875, 22100.34765582277, 12112.879109378637, 13136.269625054207, 6173.796372072036, 14416.564633863465, 6023.0309036590625, 10732.264795801995, 8817.989708021347, 22882.119925615498, 10581.491081162043, 32542.46249970398, 5183.348800690233, 3786.594951451061, 17595.844320877433, 6668.269113661596, 24122.039467267034, 12125.257916865909, 4558.519942377898, 6898.413206610585, 3954.5698293413757, 4108.201426720659, 4782.510710181969, 13047.095025388599, 8572.89590568417, 5635.538108449381, 8589.269979218956, 21865.300461072464, 18567.996139593313, 7419.0017246114185, 3092.0357511869192, 3053.889949518356, 2992.6144368885675, 2845.244720401669, 2262.5667352742557, 2210.043335464028, 2141.7184863745224, 1778.5261827607244, 1680.8387186540558, 1669.9595255841687, 1628.0107091209925, 1618.42345263666, 1517.3667755448428, 1404.2800543500923, 1391.0677020105054, 1264.346306931938, 1216.3899833187916, 1185.4102905821169, 1133.4060384083746, 1079.6761569437012, 1008.5546475740393, 1000.8362844204865, 967.1682920924155, 952.8746634200515, 917.2642392800592, 876.5081652350632, 824.2866459264932, 7144.218004719143, 14203.090059741382, 2470.4683110330784, 9737.858209098502, 5961.878752837019, 26066.063410340983, 23873.594007085205, 15745.728202160932, 5869.661061886109, 2249.9557687325255, 14906.769296371827, 19670.440286327856, 2525.0984803450583, 9391.661940931417, 18649.281865865276, 7063.695558336627, 3087.1844086671217, 6269.256005870068, 9033.683290719657, 11083.505529826309, 6928.4832115649715, 12204.728196424998, 10712.449936834179, 3674.230731420307, 14946.581139390166, 13047.095025388599, 15464.147204169165, 24122.039467267034, 25847.15967035136, 8697.082720840652, 7584.732329981372, 7003.519341204691, 6099.3748553557725, 5637.431563535999, 5612.3592207600095, 4959.45406490422, 4836.526044745717, 4194.579227497289, 3383.756526574889, 3314.0092616437028, 3229.8640112952644, 2809.455887598706, 2703.058113264453, 2429.6203586619217, 2280.295439335613, 2119.5496534488752, 2115.5239423652165, 1936.2840215711503, 1891.8571605750037, 1683.877568227828, 1532.398895637806, 1469.5134064583776, 1464.644136677076, 1386.8946065261057, 1271.3739392704656, 1253.4141791946768, 1222.4824144643746, 1212.5583332387102, 1195.069636987199, 5674.796015863634, 4421.0132986314675, 18628.853630269317, 4803.018736195103, 4725.411639494655, 6619.863645487793, 14351.550164658369, 3443.899006682203, 2868.961384604823, 21504.54672979247, 7436.424972966733, 5703.991279327518, 7434.880192598456, 7594.072162538802, 3665.0625897517484, 9070.203619699883, 6920.232713194092, 17770.355952473816, 25847.15967035136, 20426.403248323582, 32542.46249970398, 26498.018807151137, 9613.071362347073, 7546.043023123251, 4308.075639961095, 4065.9682930020886, 3410.9139884350866, 3307.556070697808, 2963.6427286609323, 2800.066155099856, 2747.1365496591975, 2565.519530713025, 2497.661254446916, 2495.1467059038664, 2371.220975716329, 2295.96046672045, 2137.132084656751, 2084.325494941142, 1900.3006083891974, 1898.4768534010673, 1878.8261441045433, 1852.1111898712263, 1718.394788281274, 1614.076231618019, 1601.892680779257, 1573.4021876091551, 1405.5236660187747, 1401.6861344759177, 1220.617283847403, 1178.808434898694, 1169.8545274730852, 8357.776071110922, 5826.556430666718, 2274.470787010371, 6774.00550291502, 3984.8868185092465, 7103.466372536088, 3049.325317026571, 4689.232233800516, 10391.638667551757, 25847.15967035136, 6231.369657671453, 6841.349379091598, 10529.537096276166, 3416.114561971514, 6333.301560678219, 12594.79239463566, 5328.0916233320895, 5411.385214881191, 11354.072385401945, 7980.295326294328, 17770.355952473816, 32542.46249970398, 3969.4149850632657, 3587.7566033782105, 3088.8308908736326, 2785.464834556976, 2514.5974923889776, 2429.817926220594, 2151.7871978131593, 2128.6492752622225, 2061.4171927548564, 1766.539894651677, 1700.0992113957202, 1549.6163603383848, 1504.930296748719, 1484.7930299657953, 1447.991234780452, 1328.197430073316, 1233.2249944512384, 1231.3962689476875, 1196.8701420924858, 1172.3111493794868, 1130.2370911273026, 1109.6297464977251, 1097.5909139177115, 1077.860124337588, 1049.1355119775785, 1047.6168866324576, 981.769670418281, 966.5849207994796, 935.1481259933558, 930.3990477328724, 5345.142555380745, 6544.48006708341, 2568.0391609290446, 5794.582581562475, 8060.595340602859, 1667.2487182924513, 8240.634379919753, 8564.431603850751, 17017.89090377579, 8648.567426494747, 5289.775277429159, 4361.64597133778, 3106.6364993523075, 3673.970751551722, 12213.179975657382, 2899.4208260586456, 5627.834430941219, 4490.133497328548, 2538.2679254799923, 3457.956109176494, 6149.3553015158095, 6790.76021090557, 23873.594007085205, 7582.391132649118, 20426.403248323582, 21631.845265487267, 7327.110887671566, 4822.960892729553, 4649.496714281441, 4104.732807462513, 3047.5471622179666, 2844.5526862513666, 2761.15433878458, 2295.8240354703835, 2187.736706447223, 2084.938971397704, 2078.897047611475, 1854.9529934083616, 1778.9935085080265, 1769.9222031482711, 1722.4760635572597, 1707.1809465609203, 1695.3119281465117, 1677.3588097681031, 1410.8987950383687, 1291.5716009992127, 1273.1952631239556, 1204.3971246425008, 1175.0447076829116, 1164.6574574715187, 1121.5537422659806, 1118.986026669337, 1093.9536372840284, 1086.0368621962418, 1074.5430560905704, 10842.27514012554, 4496.869672895478, 10532.012886721452, 3926.5787828856764, 6908.104753039542, 5819.989989896735, 6429.167774781719, 2443.660424739274, 2409.1562677109823, 4885.988353515431, 9293.302892430398, 6075.540708783685, 4804.237477243847, 6920.232713194092, 3189.8749970799613, 6105.693150601672, 17770.355952473816, 26066.063410340983, 20426.403248323582, 3976.7226872552096, 12204.728196424998, 7357.761604656732, 5670.600925958536, 3654.2422162987027, 3204.884104069686, 3143.5021426939675, 2952.1028096125324, 2695.633420871252, 2515.4132722030477, 2469.39519057196, 1797.4425107367385, 1761.3637174669075, 1620.5775015018712, 1516.6785235095545, 1322.0799461650322, 1302.1728434627523, 1084.9025316799878, 1060.1167113145993, 1027.489164577014, 998.6822047664004, 963.4321025586395, 966.4925429963965, 939.4412811642057, 912.7937599632122, 893.0723067260791, 855.6307551003654, 821.5661656392343, 780.4110212789459, 779.7809930976365, 772.8221651097506, 754.4806527548693, 4057.30590874773, 2250.299138940507, 14946.581139390166, 4480.256837454722, 1859.942917142433, 1727.9931624548717, 5283.3093136053085, 2774.1057828274875, 20426.403248323582, 2634.82920537603, 5815.291036176561, 2260.420599178707, 6944.948377419152, 3435.352280463962, 7582.391132649118, 18649.281865865276, 19670.440286327856, 21504.54672979247, 9265.142188199641, 10529.537096276166, 25847.15967035136, 5635.538108449381, 9391.661940931417, 27840.09909326206, 20061.62829843463, 6851.477479897048, 6539.586075426066, 5253.425789613707, 4607.5423799066975, 3499.7721622027807, 2876.548640428212, 2487.6527512651883, 2461.873833286743, 2450.9040285590027, 2394.312203852078, 2090.9168799434524, 2079.259125282788, 1640.308249525886, 1512.735201851441, 1339.9773575982797, 1252.8097129442376, 1236.6299533284282, 1222.8293457218738, 1085.3698786217929, 1078.3293437039763, 1059.9143015511117, 1042.072103976285, 1041.7758630317007, 945.5444694550027, 864.6024190368918, 774.9956943227972, 758.9008617117739, 758.3460367661011, 3617.373381214533, 2906.3349587415146, 5853.659436890061, 1854.4644024627755, 7391.914538594005, 6113.157908696032, 17770.355952473816, 3797.1672592354475, 4205.6729460342995, 9070.203619699883, 6161.486128837511, 10391.638667551757, 4803.97541028358, 5411.385214881191, 12594.79239463566, 6064.9107013929, 5402.179005796534, 3878.4636666070414, 3854.562454961091, 3477.97239203133, 3414.573739919236, 3024.9566844915093, 2972.994730088683, 2374.6755161641277, 2245.006084958634, 2228.4429942530282, 2219.664979759574, 2007.3160429846341, 1925.7368075066756, 1628.7222898620128, 1627.2344291823829, 1383.3638539718593, 1350.9634866588676, 1306.5405394200889, 1229.605746638945, 1169.8033320204254, 1154.3731043283065, 1145.702655529163, 1037.759232414555, 986.048187162136, 949.7039140478715, 945.6636260199057, 938.7676602759997, 870.7770251088758, 870.3391978969449, 5287.938996565717, 6001.66866590537, 15464.147204169165, 3617.45090490695, 2239.6046820514907, 6105.693150601672, 3959.9104311531805, 2755.39847631882, 2489.4851123246235, 12594.79239463566, 5460.778546229498, 5328.0916233320895, 2815.008965935267, 6231.369657671453, 18628.853630269317, 8700.919458698874, 5281.685648915536, 3806.1203499748294, 3634.9740794591535, 3005.380371227561, 2583.4454326349746, 1853.1254165901055, 1768.0880373465325, 1653.6162822458407, 1626.0983970859054, 1619.1534279092625, 1532.1677987085668, 1378.0094389701906, 1367.5486911759308, 1332.1587489747826, 1303.694165311848, 1264.069771158386, 1254.9821643999549, 1117.797946976136, 1090.195940727509, 1083.3068531964782, 1074.545535231525, 975.5135425973838, 922.6611207881552, 895.6968750077967, 876.9916153935905, 864.5279735910036, 741.8421458466726, 737.5439005610754, 735.3675892046714, 1314.8627913264786, 5619.266860245956, 9293.302892430398, 5487.244107927536, 1406.1988742326926, 1563.8132286117075, 2013.7238178924395, 1844.170997343827, 6944.948377419152, 11354.072385401945, 10712.449936834179, 19670.440286327856], \"Category\": [\"Default\", \"Default\", \"Default\", \"Default\", \"Default\", \"Default\", \"Default\", \"Default\", \"Default\", \"Default\", \"Default\", \"Default\", \"Default\", \"Default\", \"Default\", \"Default\", \"Default\", \"Default\", \"Default\", \"Default\", \"Default\", \"Default\", \"Default\", \"Default\", \"Default\", \"Default\", \"Default\", \"Default\", \"Default\", \"Default\", \"Topic1\", \"Topic1\", \"Topic1\", \"Topic1\", \"Topic1\", \"Topic1\", \"Topic1\", \"Topic1\", \"Topic1\", \"Topic1\", \"Topic1\", \"Topic1\", \"Topic1\", \"Topic1\", \"Topic1\", \"Topic1\", \"Topic1\", \"Topic1\", \"Topic1\", \"Topic1\", \"Topic1\", \"Topic1\", \"Topic1\", \"Topic1\", \"Topic1\", \"Topic1\", \"Topic1\", \"Topic1\", \"Topic1\", \"Topic1\", \"Topic1\", \"Topic1\", \"Topic1\", \"Topic1\", \"Topic1\", \"Topic1\", \"Topic1\", \"Topic1\", \"Topic1\", \"Topic1\", \"Topic1\", \"Topic1\", \"Topic1\", \"Topic1\", \"Topic1\", \"Topic1\", \"Topic1\", \"Topic1\", \"Topic1\", \"Topic1\", \"Topic1\", \"Topic1\", \"Topic1\", \"Topic1\", \"Topic1\", \"Topic1\", \"Topic2\", \"Topic2\", \"Topic2\", \"Topic2\", \"Topic2\", \"Topic2\", \"Topic2\", \"Topic2\", \"Topic2\", \"Topic2\", \"Topic2\", \"Topic2\", \"Topic2\", \"Topic2\", \"Topic2\", \"Topic2\", \"Topic2\", \"Topic2\", \"Topic2\", \"Topic2\", \"Topic2\", \"Topic2\", \"Topic2\", \"Topic2\", \"Topic2\", \"Topic2\", \"Topic2\", \"Topic2\", \"Topic2\", \"Topic2\", \"Topic2\", \"Topic2\", \"Topic2\", \"Topic2\", \"Topic2\", \"Topic2\", \"Topic2\", \"Topic2\", \"Topic2\", \"Topic2\", \"Topic2\", \"Topic2\", \"Topic2\", \"Topic2\", \"Topic2\", \"Topic2\", \"Topic2\", \"Topic2\", \"Topic2\", \"Topic2\", \"Topic2\", \"Topic2\", \"Topic2\", \"Topic2\", \"Topic2\", \"Topic2\", \"Topic2\", \"Topic2\", \"Topic2\", \"Topic3\", \"Topic3\", \"Topic3\", \"Topic3\", \"Topic3\", \"Topic3\", \"Topic3\", \"Topic3\", \"Topic3\", \"Topic3\", \"Topic3\", \"Topic3\", \"Topic3\", \"Topic3\", \"Topic3\", \"Topic3\", \"Topic3\", \"Topic3\", \"Topic3\", \"Topic3\", \"Topic3\", \"Topic3\", \"Topic3\", \"Topic3\", \"Topic3\", \"Topic3\", \"Topic3\", \"Topic3\", \"Topic3\", \"Topic3\", \"Topic3\", \"Topic3\", \"Topic3\", \"Topic3\", \"Topic3\", \"Topic3\", \"Topic3\", \"Topic3\", \"Topic3\", \"Topic3\", \"Topic3\", \"Topic3\", \"Topic3\", \"Topic3\", \"Topic3\", \"Topic3\", \"Topic3\", \"Topic3\", \"Topic3\", \"Topic3\", \"Topic3\", \"Topic4\", \"Topic4\", \"Topic4\", \"Topic4\", \"Topic4\", \"Topic4\", \"Topic4\", \"Topic4\", \"Topic4\", \"Topic4\", \"Topic4\", \"Topic4\", \"Topic4\", \"Topic4\", \"Topic4\", \"Topic4\", \"Topic4\", \"Topic4\", \"Topic4\", \"Topic4\", \"Topic4\", \"Topic4\", \"Topic4\", \"Topic4\", \"Topic4\", \"Topic4\", \"Topic4\", \"Topic4\", \"Topic4\", \"Topic4\", \"Topic4\", \"Topic4\", \"Topic4\", \"Topic4\", \"Topic4\", \"Topic4\", \"Topic4\", \"Topic4\", \"Topic4\", \"Topic4\", \"Topic4\", \"Topic4\", \"Topic4\", \"Topic4\", \"Topic4\", \"Topic4\", \"Topic4\", \"Topic4\", \"Topic4\", \"Topic4\", \"Topic4\", \"Topic4\", \"Topic5\", \"Topic5\", \"Topic5\", \"Topic5\", \"Topic5\", \"Topic5\", \"Topic5\", \"Topic5\", \"Topic5\", \"Topic5\", \"Topic5\", \"Topic5\", \"Topic5\", \"Topic5\", \"Topic5\", \"Topic5\", \"Topic5\", \"Topic5\", \"Topic5\", \"Topic5\", \"Topic5\", \"Topic5\", \"Topic5\", \"Topic5\", \"Topic5\", \"Topic5\", \"Topic5\", \"Topic5\", \"Topic5\", \"Topic5\", \"Topic5\", \"Topic5\", \"Topic5\", \"Topic5\", \"Topic5\", \"Topic5\", \"Topic5\", \"Topic5\", \"Topic5\", \"Topic5\", \"Topic5\", \"Topic5\", \"Topic5\", \"Topic5\", \"Topic5\", \"Topic5\", \"Topic5\", \"Topic5\", \"Topic5\", \"Topic5\", \"Topic5\", \"Topic5\", \"Topic5\", \"Topic5\", \"Topic5\", \"Topic6\", \"Topic6\", \"Topic6\", \"Topic6\", \"Topic6\", \"Topic6\", \"Topic6\", \"Topic6\", \"Topic6\", \"Topic6\", \"Topic6\", \"Topic6\", \"Topic6\", \"Topic6\", \"Topic6\", \"Topic6\", \"Topic6\", \"Topic6\", \"Topic6\", \"Topic6\", \"Topic6\", \"Topic6\", \"Topic6\", \"Topic6\", \"Topic6\", \"Topic6\", \"Topic6\", \"Topic6\", \"Topic6\", \"Topic6\", \"Topic6\", \"Topic6\", \"Topic6\", \"Topic6\", \"Topic6\", \"Topic6\", \"Topic6\", \"Topic6\", \"Topic6\", \"Topic6\", \"Topic6\", \"Topic6\", \"Topic6\", \"Topic6\", \"Topic6\", \"Topic6\", \"Topic6\", \"Topic6\", \"Topic6\", \"Topic6\", \"Topic6\", \"Topic7\", \"Topic7\", \"Topic7\", \"Topic7\", \"Topic7\", \"Topic7\", \"Topic7\", \"Topic7\", \"Topic7\", \"Topic7\", \"Topic7\", \"Topic7\", \"Topic7\", \"Topic7\", \"Topic7\", \"Topic7\", \"Topic7\", \"Topic7\", \"Topic7\", \"Topic7\", \"Topic7\", \"Topic7\", \"Topic7\", \"Topic7\", \"Topic7\", \"Topic7\", \"Topic7\", \"Topic7\", \"Topic7\", \"Topic7\", \"Topic7\", \"Topic7\", \"Topic7\", \"Topic7\", \"Topic7\", \"Topic7\", \"Topic7\", \"Topic7\", \"Topic7\", \"Topic7\", \"Topic7\", \"Topic7\", \"Topic7\", \"Topic7\", \"Topic7\", \"Topic7\", \"Topic7\", \"Topic7\", \"Topic7\", \"Topic7\", \"Topic7\", \"Topic7\", \"Topic7\", \"Topic8\", \"Topic8\", \"Topic8\", \"Topic8\", \"Topic8\", \"Topic8\", \"Topic8\", \"Topic8\", \"Topic8\", \"Topic8\", \"Topic8\", \"Topic8\", \"Topic8\", \"Topic8\", \"Topic8\", \"Topic8\", \"Topic8\", \"Topic8\", \"Topic8\", \"Topic8\", \"Topic8\", \"Topic8\", \"Topic8\", \"Topic8\", \"Topic8\", \"Topic8\", \"Topic8\", \"Topic8\", \"Topic8\", \"Topic8\", \"Topic8\", \"Topic8\", \"Topic8\", \"Topic8\", \"Topic8\", \"Topic8\", \"Topic8\", \"Topic8\", \"Topic8\", \"Topic8\", \"Topic8\", \"Topic8\", \"Topic8\", \"Topic8\", \"Topic8\", \"Topic9\", \"Topic9\", \"Topic9\", \"Topic9\", \"Topic9\", \"Topic9\", \"Topic9\", \"Topic9\", \"Topic9\", \"Topic9\", \"Topic9\", \"Topic9\", \"Topic9\", \"Topic9\", \"Topic9\", \"Topic9\", \"Topic9\", \"Topic9\", \"Topic9\", \"Topic9\", \"Topic9\", \"Topic9\", \"Topic9\", \"Topic9\", \"Topic9\", \"Topic9\", \"Topic9\", \"Topic9\", \"Topic9\", \"Topic9\", \"Topic9\", \"Topic9\", \"Topic9\", \"Topic9\", \"Topic9\", \"Topic9\", \"Topic9\", \"Topic9\", \"Topic9\", \"Topic9\", \"Topic9\", \"Topic9\", \"Topic9\", \"Topic9\", \"Topic9\", \"Topic10\", \"Topic10\", \"Topic10\", \"Topic10\", \"Topic10\", \"Topic10\", \"Topic10\", \"Topic10\", \"Topic10\", \"Topic10\", \"Topic10\", \"Topic10\", \"Topic10\", \"Topic10\", \"Topic10\", \"Topic10\", \"Topic10\", \"Topic10\", \"Topic10\", \"Topic10\", \"Topic10\", \"Topic10\", \"Topic10\", \"Topic10\", \"Topic10\", \"Topic10\", \"Topic10\", \"Topic10\", \"Topic10\", \"Topic10\", \"Topic10\", \"Topic10\", \"Topic10\", \"Topic10\", \"Topic10\", \"Topic10\", \"Topic10\", \"Topic10\", \"Topic10\", \"Topic10\", \"Topic10\", \"Topic10\"], \"logprob\": [30.0, 29.0, 28.0, 27.0, 26.0, 25.0, 24.0, 23.0, 22.0, 21.0, 20.0, 19.0, 18.0, 17.0, 16.0, 15.0, 14.0, 13.0, 12.0, 11.0, 10.0, 9.0, 8.0, 7.0, 6.0, 5.0, 4.0, 3.0, 2.0, 1.0, -4.0089, -4.4187, -4.4394, -4.9396, -4.9954, -5.2259, -5.2358, -5.4102, -5.4622, -5.4755, -5.5217, -5.533, -5.5355, -5.5865, -5.5872, -5.6115, -5.6171, -5.6197, -5.6391, -5.6424, -5.6501, -5.6974, -5.7822, -5.8001, -5.8148, -5.8476, -5.8492, -5.884, -5.8922, -5.9553, -3.6098, -4.2149, -4.1506, -4.9052, -4.1008, -4.9471, -4.4022, -4.5902, -3.715, -4.5069, -3.5534, -5.1449, -5.4108, -4.1613, -4.994, -4.0246, -4.552, -5.3013, -5.0569, -5.4189, -5.3993, -5.3467, -5.0171, -5.271, -5.3633, -5.3308, -3.1379, -3.3014, -4.2188, -5.0942, -5.1066, -5.1269, -5.1774, -5.4067, -5.4302, -5.4616, -5.6475, -5.704, -5.7105, -5.736, -5.7419, -5.8064, -5.8839, -5.8933, -5.9889, -6.0276, -6.0534, -6.0983, -6.1469, -6.2151, -6.2228, -6.2571, -6.272, -6.3101, -6.3556, -6.4171, -4.2697, -3.6229, -5.3454, -4.0372, -4.5198, -3.123, -3.2983, -3.704, -4.6119, -5.4874, -3.8549, -3.6258, -5.396, -4.3205, -3.8191, -4.6161, -5.2689, -4.773, -4.5317, -4.5074, -4.8064, -4.5111, -4.6082, -5.2125, -4.7938, -4.917, -4.9827, -5.0021, -5.1379, -4.036, -4.1729, -4.2526, -4.3908, -4.4696, -4.4741, -4.5978, -4.6229, -4.7653, -4.9802, -5.001, -5.0267, -5.1662, -5.2048, -5.3115, -5.375, -5.4481, -5.45, -5.5386, -5.5618, -5.6783, -5.7726, -5.8146, -5.8179, -5.8725, -5.9595, -5.9737, -5.9987, -6.0069, -6.0214, -4.4672, -4.7345, -3.3776, -4.6825, -4.7194, -4.4101, -3.7383, -5.0566, -5.2192, -3.4713, -4.3971, -4.6764, -4.5204, -4.6275, -5.1233, -4.6618, -4.8621, -4.4866, -4.4478, -4.6878, -5.003, -2.8193, -3.8333, -4.0754, -4.6361, -4.6939, -4.8696, -4.9004, -5.0102, -5.067, -5.0861, -5.1545, -5.1813, -5.1824, -5.2333, -5.2656, -5.3373, -5.3623, -5.4548, -5.4558, -5.4662, -5.4805, -5.5555, -5.6181, -5.6257, -5.6437, -5.7566, -5.7593, -5.8977, -5.9326, -5.9402, -3.9829, -4.3536, -5.3242, -4.3435, -4.8363, -4.3813, -5.0889, -4.7341, -4.1032, -3.5447, -4.6157, -4.5759, -4.3175, -5.0632, -4.6729, -4.5704, -4.9559, -5.0182, -4.893, -4.9696, -4.8802, -5.0604, -4.513, -4.6141, -4.7638, -4.8673, -4.9696, -5.0039, -5.1255, -5.1363, -5.1684, -5.3228, -5.3612, -5.4539, -5.4832, -5.4967, -5.5218, -5.6082, -5.6824, -5.6839, -5.7124, -5.7331, -5.7697, -5.7881, -5.7991, -5.8172, -5.8442, -5.8457, -5.9107, -5.9263, -5.9594, -5.9645, -4.3012, -4.1095, -5.0074, -4.2541, -3.9719, -5.4225, -3.9693, -3.9645, -3.3629, -3.9667, -4.4158, -4.6126, -4.9323, -4.8755, -4.0034, -5.0524, -4.6693, -4.8283, -5.184, -5.077, -4.8712, -4.9801, -4.9315, -5.1239, -5.1156, -2.7764, -3.859, -4.2773, -4.3139, -4.4386, -4.7364, -4.8054, -4.8352, -5.0198, -5.068, -5.1162, -5.1191, -5.2331, -5.2749, -5.2801, -5.3072, -5.3162, -5.3232, -5.3338, -5.5069, -5.5953, -5.6097, -5.6653, -5.6899, -5.6988, -5.7366, -5.7389, -5.7615, -5.7688, -5.7794, -3.489, -4.3836, -3.6113, -4.5882, -4.134, -4.4051, -4.4117, -5.1383, -5.1549, -4.704, -4.4116, -4.7083, -4.8449, -4.715, -5.0587, -4.908, -4.643, -4.5849, -4.722, -5.0656, -5.0959, -3.6192, -3.8797, -4.3192, -4.4505, -4.4698, -4.5327, -4.6236, -4.6928, -4.7113, -5.029, -5.0493, -5.1326, -5.1989, -5.3364, -5.3515, -5.5342, -5.5573, -5.5886, -5.6171, -5.6531, -5.6499, -5.6783, -5.7071, -5.729, -5.7718, -5.8125, -5.864, -5.8648, -5.8738, -5.8978, -4.2422, -4.8282, -3.238, -4.3145, -5.1053, -5.183, -4.2587, -4.8203, -3.2511, -4.8848, -4.303, -5.0829, -4.4105, -4.8669, -4.5252, -4.0691, -4.1075, -4.3374, -4.8194, -4.8379, -4.7722, -5.0131, -4.9841, -2.0937, -2.4214, -3.4959, -3.5425, -3.7615, -3.8927, -4.1678, -4.3639, -4.5092, -4.5196, -4.5241, -4.5475, -4.683, -4.6886, -4.9259, -5.0069, -5.1282, -5.1955, -5.2085, -5.2198, -5.3391, -5.3456, -5.3629, -5.3799, -5.3801, -5.4772, -5.5667, -5.6763, -5.6973, -5.698, -4.1845, -4.5159, -3.9401, -4.9941, -4.0366, -4.28, -3.7138, -4.7238, -4.7769, -4.4859, -4.7954, -4.6936, -4.8848, -4.864, -4.9431, -3.5782, -3.6939, -4.0253, -4.0315, -4.1343, -4.1527, -4.2739, -4.2913, -4.516, -4.5722, -4.5796, -4.5836, -4.6842, -4.7257, -4.8933, -4.8942, -5.0567, -5.0804, -5.1138, -5.1746, -5.2245, -5.2378, -5.2453, -5.3443, -5.3955, -5.4331, -5.4374, -5.4447, -5.5199, -5.5204, -3.7656, -3.6968, -2.9728, -4.2925, -4.8184, -4.1168, -4.4742, -4.7612, -4.8438, -4.1164, -4.5511, -4.5924, -4.8927, -4.7737, -4.7766, -3.1624, -3.6617, -3.9894, -4.0354, -4.2257, -4.377, -4.7094, -4.7564, -4.8233, -4.8401, -4.8444, -4.8997, -5.0058, -5.0134, -5.0396, -5.0613, -5.0921, -5.0994, -5.2152, -5.2402, -5.2466, -5.2547, -5.3515, -5.4072, -5.4369, -5.4581, -5.4724, -5.6256, -5.6314, -5.6344, -5.0712, -3.7738, -3.7012, -4.2418, -5.1832, -5.1728, -5.0703, -5.1706, -4.8162, -5.029, -5.1049, -5.1448], \"loglift\": [30.0, 29.0, 28.0, 27.0, 26.0, 25.0, 24.0, 23.0, 22.0, 21.0, 20.0, 19.0, 18.0, 17.0, 16.0, 15.0, 14.0, 13.0, 12.0, 11.0, 10.0, 9.0, 8.0, 7.0, 6.0, 5.0, 4.0, 3.0, 2.0, 1.0, 1.5643, 1.5642, 1.5642, 1.5642, 1.5642, 1.5641, 1.5641, 1.5641, 1.5641, 1.5641, 1.5641, 1.5641, 1.5641, 1.564, 1.564, 1.564, 1.564, 1.564, 1.564, 1.564, 1.564, 1.564, 1.564, 1.564, 1.564, 1.564, 1.564, 1.5639, 1.5639, 1.5639, 1.5598, 1.5559, 1.5392, 1.5396, 1.4959, 1.5224, 1.4897, 1.4981, 1.4197, 1.3992, 1.2291, 1.4748, 1.5228, 1.2362, 1.3738, 1.0574, 1.2178, 1.4469, 1.2769, 1.4714, 1.4528, 1.3534, 0.6795, 0.8455, 1.1727, 0.7838, 2.0423, 2.0423, 2.0422, 2.0421, 2.0421, 2.0421, 2.042, 2.042, 2.042, 2.0419, 2.0419, 2.0418, 2.0418, 2.0418, 2.0418, 2.0418, 2.0417, 2.0417, 2.0416, 2.0416, 2.0416, 2.0416, 2.0415, 2.0415, 2.0415, 2.0414, 2.0414, 2.0414, 2.0413, 2.0413, 2.0291, 1.9887, 2.0153, 1.9519, 1.96, 1.8815, 1.794, 1.8045, 1.8834, 1.9668, 1.7084, 1.6602, 1.9428, 1.7048, 1.5202, 1.6941, 1.869, 1.6565, 1.5325, 1.3523, 1.5231, 1.2522, 1.2856, 1.7513, 0.7669, 0.7796, 0.5439, 0.0799, -0.1249, 2.0661, 2.0661, 2.0661, 2.0661, 2.0661, 2.0661, 2.0661, 2.0661, 2.066, 2.066, 2.066, 2.066, 2.0659, 2.0659, 2.0659, 2.0658, 2.0658, 2.0658, 2.0658, 2.0658, 2.0657, 2.0657, 2.0656, 2.0656, 2.0656, 2.0655, 2.0655, 2.0655, 2.0655, 2.0655, 2.0619, 2.0442, 1.9628, 2.0134, 1.9928, 1.965, 1.8629, 1.9719, 1.992, 1.7255, 1.8617, 1.8475, 1.7386, 1.6102, 1.843, 1.3983, 1.4686, 0.9009, 0.5651, 0.5605, -0.2204, 2.1687, 2.1687, 2.1687, 2.1686, 2.1686, 2.1685, 2.1685, 2.1685, 2.1685, 2.1685, 2.1684, 2.1684, 2.1684, 2.1684, 2.1684, 2.1684, 2.1683, 2.1683, 2.1683, 2.1683, 2.1683, 2.1683, 2.1682, 2.1682, 2.1682, 2.1681, 2.1681, 2.168, 2.168, 2.168, 2.159, 2.1491, 2.1191, 2.0086, 2.0463, 1.9232, 2.0613, 1.9858, 1.8209, 1.4682, 1.8199, 1.7662, 1.5934, 1.9734, 1.7464, 1.1615, 1.6362, 1.5584, 0.9425, 1.2186, 0.5074, -0.2778, 2.3736, 2.3735, 2.3735, 2.3735, 2.3734, 2.3734, 2.3734, 2.3734, 2.3733, 2.3733, 2.3732, 2.3732, 2.3732, 2.3732, 2.3732, 2.3731, 2.373, 2.373, 2.373, 2.373, 2.373, 2.373, 2.373, 2.3729, 2.3729, 2.3729, 2.3729, 2.3728, 2.3728, 2.3728, 2.2878, 2.277, 2.3146, 2.2541, 2.2062, 2.3315, 2.1868, 2.153, 2.068, 2.1411, 2.1835, 2.1797, 2.1993, 2.0884, 1.7592, 2.1482, 1.8681, 1.9349, 2.1496, 1.9474, 1.5776, 1.3694, 0.1609, 1.1154, 0.1327, 2.4146, 2.4145, 2.4145, 2.4144, 2.4144, 2.4143, 2.4143, 2.4143, 2.4142, 2.4142, 2.4142, 2.4142, 2.4142, 2.4141, 2.4141, 2.4141, 2.4141, 2.4141, 2.4141, 2.414, 2.4139, 2.4139, 2.4139, 2.4139, 2.4139, 2.4138, 2.4138, 2.4138, 2.4138, 2.4138, 2.3927, 2.3782, 2.2994, 2.3091, 2.1984, 2.0987, 1.9926, 2.2334, 2.2309, 1.9748, 1.6243, 1.7525, 1.8507, 1.6157, 2.0464, 1.5479, 0.7446, 0.4196, 0.5263, 1.8191, 0.6674, 2.6501, 2.6501, 2.65, 2.65, 2.65, 2.6499, 2.6499, 2.6499, 2.6499, 2.6497, 2.6497, 2.6497, 2.6497, 2.6496, 2.6496, 2.6494, 2.6494, 2.6494, 2.6493, 2.6493, 2.6493, 2.6493, 2.6493, 2.6492, 2.6492, 2.6491, 2.6491, 2.6491, 2.6491, 2.6491, 2.6224, 2.6259, 2.3227, 2.4509, 2.5392, 2.5351, 2.3419, 2.4245, 1.9972, 2.4115, 2.2017, 2.3666, 1.9166, 2.1641, 1.7141, 1.2702, 1.1786, 0.8594, 1.2195, 1.073, 0.2407, 1.523, 1.0412, 2.8449, 2.8449, 2.8448, 2.8448, 2.8448, 2.8447, 2.8447, 2.8446, 2.8446, 2.8446, 2.8446, 2.8445, 2.8445, 2.8445, 2.8444, 2.8443, 2.8443, 2.8442, 2.8442, 2.8442, 2.8441, 2.8441, 2.8441, 2.8441, 2.8441, 2.844, 2.8439, 2.8438, 2.8437, 2.8437, 2.7949, 2.6823, 2.558, 2.6534, 2.2281, 2.1747, 1.6738, 2.2071, 2.0518, 1.5742, 1.6514, 1.2305, 1.8109, 1.7126, 0.7888, 2.8844, 2.8844, 2.8844, 2.8844, 2.8843, 2.8843, 2.8843, 2.8843, 2.8842, 2.8842, 2.8842, 2.8842, 2.8841, 2.8841, 2.884, 2.884, 2.8839, 2.8839, 2.8839, 2.8839, 2.8838, 2.8838, 2.8838, 2.8837, 2.8837, 2.8836, 2.8836, 2.8836, 2.8836, 2.8835, 2.8341, 2.7763, 2.5538, 2.6869, 2.6404, 2.3391, 2.4147, 2.4904, 2.5092, 1.6154, 2.0164, 1.9997, 2.3375, 1.6619, 0.5638, 2.9393, 2.9392, 2.9391, 2.9391, 2.9391, 2.939, 2.9389, 2.9388, 2.9388, 2.9388, 2.9388, 2.9388, 2.9387, 2.9387, 2.9387, 2.9387, 2.9386, 2.9386, 2.9385, 2.9385, 2.9385, 2.9385, 2.9384, 2.9384, 2.9383, 2.9383, 2.9383, 2.9381, 2.9381, 2.9381, 2.9202, 2.7652, 2.3346, 2.3209, 2.7411, 2.6452, 2.4948, 2.4825, 1.5109, 0.8065, 0.7888, 0.1412]}, \"token.table\": {\"Topic\": [3, 9, 8, 9, 9, 9, 4, 9, 4, 9, 9, 5, 9, 9, 7, 9, 10, 8, 8, 10, 1, 3, 4, 5, 5, 6, 1, 1, 2, 3, 4, 6, 10, 1, 3, 5, 10, 6, 6, 10, 10, 2, 1, 8, 3, 4, 8, 3, 4, 5, 6, 10, 8, 5, 1, 3, 4, 5, 8, 2, 7, 9, 7, 2, 3, 4, 4, 2, 10, 3, 3, 2, 8, 5, 6, 10, 1, 8, 8, 1, 1, 4, 9, 2, 2, 7, 8, 6, 3, 9, 5, 4, 8, 6, 10, 2, 7, 10, 10, 10, 6, 1, 2, 7, 2, 3, 10, 1, 3, 1, 3, 4, 6, 10, 10, 7, 1, 7, 2, 6, 8, 6, 3, 5, 8, 2, 3, 5, 6, 1, 2, 3, 4, 5, 6, 7, 9, 10, 2, 6, 3, 6, 3, 4, 6, 8, 9, 4, 2, 4, 4, 7, 5, 8, 8, 4, 8, 9, 2, 3, 5, 8, 9, 4, 5, 8, 2, 3, 5, 5, 7, 2, 3, 4, 6, 2, 6, 8, 10, 2, 4, 5, 8, 10, 7, 7, 5, 1, 2, 3, 4, 10, 3, 2, 4, 6, 1, 3, 7, 1, 2, 3, 5, 6, 7, 3, 3, 4, 7, 2, 3, 4, 5, 6, 10, 4, 7, 6, 7, 10, 3, 2, 8, 4, 2, 9, 10, 6, 1, 1, 4, 6, 4, 4, 4, 5, 1, 1, 3, 7, 10, 3, 9, 8, 1, 2, 3, 4, 6, 3, 5, 7, 2, 7, 4, 7, 9, 2, 3, 4, 7, 8, 9, 10, 10, 1, 2, 3, 6, 7, 2, 4, 4, 4, 9, 5, 9, 2, 2, 6, 2, 4, 8, 9, 2, 3, 4, 5, 6, 7, 10, 1, 1, 4, 2, 5, 7, 10, 4, 6, 7, 2, 2, 3, 6, 5, 10, 2, 4, 2, 7, 10, 3, 5, 6, 7, 10, 5, 9, 2, 4, 4, 10, 5, 1, 4, 6, 3, 6, 7, 6, 10, 5, 8, 10, 9, 6, 3, 6, 9, 6, 2, 3, 6, 8, 7, 10, 6, 10, 6, 2, 4, 5, 7, 8, 10, 4, 7, 6, 10, 3, 4, 8, 10, 2, 2, 3, 6, 7, 9, 3, 1, 2, 3, 2, 7, 6, 2, 8, 9, 4, 8, 10, 10, 2, 6, 8, 8, 1, 6, 8, 4, 8, 8, 6, 6, 6, 9, 2, 3, 8, 2, 3, 1, 6, 8, 1, 3, 6, 3, 6, 2, 7, 10, 1, 3, 10, 4, 1, 4, 1, 2, 6, 1, 4, 6, 7, 9, 10, 5, 9, 1, 2, 4, 9, 5, 3, 5, 8, 3, 1, 2, 6, 1, 1, 5, 7, 2, 4, 5, 6, 7, 8, 10, 1, 4, 6, 9, 7, 7, 2, 1, 7, 6, 2, 3, 4, 5, 8, 1, 2, 8, 10, 2, 4, 3, 2, 2, 6, 4, 9, 5, 1, 2, 4, 3, 5, 8, 1, 3, 1, 2, 3, 4, 8, 1, 2, 3, 5, 6, 9, 9, 9, 10, 7, 9, 2, 3, 1, 7, 7, 2, 1, 2, 3, 4, 5, 6, 3, 7, 3, 8, 1, 2, 9, 10, 2, 6, 10, 4, 8, 6, 3, 6, 3, 5, 8, 3, 2, 4, 6, 9, 10, 1, 8, 3, 5, 4, 10, 2, 6, 7, 3, 4, 5, 10, 1, 2, 3, 6, 7, 9, 10, 2, 1, 2, 3, 4, 5, 6, 10, 4, 5, 9, 6, 4, 2, 6, 8, 10, 2, 2, 3, 4, 4, 7, 3, 1, 5, 9, 1, 7, 7, 5, 1, 3, 8, 4, 4, 5, 3, 9, 2, 3, 1, 2, 3, 7, 9, 10, 2, 2, 3, 7, 10, 2, 3, 4, 5, 8, 9, 5, 9, 1, 4, 5, 8, 9, 1, 4, 5, 9, 1, 9, 2, 5, 6, 9, 3, 10, 3, 8, 3, 6, 10, 3, 4, 8, 2, 4, 5, 8, 8, 2, 4, 8, 10, 1, 2, 3, 4, 6, 9, 10, 2, 5, 9, 10, 10, 1, 1, 2, 4, 1, 6, 7, 10, 7, 8, 5, 1, 4, 8, 1, 2, 4, 6, 8, 6, 1, 8, 8, 3, 6, 9, 9, 5, 8, 9, 1, 5, 8, 9, 10, 5, 2, 7, 7, 7, 2, 7, 4, 6, 9, 8, 1, 4, 6, 8, 10, 10, 3, 1, 2, 4, 5, 5, 7, 2, 8, 9, 5, 9, 1, 3, 6, 10, 1, 1, 5, 8, 2, 8, 1, 3, 5, 9, 5, 10, 5, 3, 4, 2, 4, 1, 2, 3, 4, 5, 6, 9, 10, 2, 3, 4, 5, 6, 9, 10, 9, 1, 2, 3, 6, 7, 2, 7, 10, 10, 7, 2, 4, 8, 3, 6, 8, 1, 3, 4, 5, 1, 2, 3, 3, 9, 3, 4, 1, 2, 3, 4, 5, 6, 9, 8, 2, 2, 3, 6, 7, 2, 3, 6, 9, 10, 1, 3, 4, 5, 6, 7, 4, 6, 7, 8, 10, 6, 10, 4, 2, 7, 10, 5, 1, 3, 6, 1, 5, 3, 4, 8, 5, 6, 6, 4, 5, 6, 1, 2, 3, 4, 5, 6, 10, 2, 3, 4, 6, 8, 5, 9, 2, 6, 8, 8, 4, 1, 9, 10], \"Freq\": [0.9999084445791255, 0.9988105194731599, 0.049168494600421546, 0.9508430417343059, 0.9998012090710102, 0.9995862819378504, 0.9993332213206931, 0.9996837361353258, 0.9991883190691767, 0.9992588068371001, 0.9992413943804009, 0.9994324715070836, 0.998936981806992, 0.9997204141028957, 0.998936152265206, 0.999386703412293, 0.9995987775941938, 0.9994905886544858, 0.9996311448557477, 0.9992834630469847, 0.8891043696708719, 0.06581083417252938, 0.014478383517956463, 0.030492353166605278, 0.9984962928151296, 0.9996632563484208, 0.9995354577787837, 0.3077546170587289, 0.5015561173349382, 0.004330759782708586, 0.0620742235521564, 0.10375778646072654, 0.020480884805726022, 0.004048634383428908, 0.3429771699104775, 0.6529868884130339, 0.9992674658520881, 0.9993082475742836, 0.9999609249475996, 0.9993846249035396, 0.9989030038703768, 0.9995279117620519, 0.9998946582538237, 0.9998822843368598, 0.8150421771258707, 0.04518300140476696, 0.13971767398676452, 0.001057710388542114, 0.12868809727262387, 0.7365190005548254, 0.10195152911780932, 0.03179007334451576, 0.9994241736136255, 0.9994658986472925, 0.0665674297456048, 0.14762739954652576, 0.2059250747972891, 0.5408910712170544, 0.0389742885103418, 0.23668161588793915, 0.7529572154042475, 0.010175097505462805, 0.9998964896258327, 0.0041826983327114065, 0.9285590298619322, 0.0669231733233825, 0.9994000414892458, 0.9987920488068441, 0.9991301720041441, 0.9996506282582239, 0.9997523344667842, 0.9989351754938052, 0.9993032415551615, 0.14577373734885066, 0.6918766415675557, 0.16207531657925975, 0.9997911512803492, 0.9996450535868541, 0.99945194956198, 0.9997788281627166, 0.9995345182323262, 0.17913166399052158, 0.820743688870152, 0.9993791753854382, 0.9996645280978367, 0.9993629356125776, 0.9995139917081713, 0.9995062721962286, 0.9100150712663451, 0.0897238854567009, 0.9997976184751332, 0.9902155704561665, 0.009571924315671014, 0.9642262986038694, 0.035580306221545, 0.02711158647486628, 0.9725665475438395, 0.9994735669214633, 0.9992876351991226, 0.9994675397571623, 0.9988399800913544, 0.8264513483280624, 0.12791925242675328, 0.045439077942914706, 0.9271293369358602, 0.04400086498401254, 0.02844500362602831, 0.9996926049944419, 0.9996053812646573, 0.7501725172161217, 0.010002300229548289, 0.0007248043644600209, 0.1552530948673365, 0.08393234540447042, 0.9993892926462395, 0.9994350071720853, 0.9995913062170305, 0.9993168950411407, 0.8514135660084194, 0.13600058989320268, 0.012545047361093731, 0.999820458162305, 0.7205227066514105, 0.20269324601897995, 0.07653115924671507, 0.06185320250237608, 0.08115770519420046, 0.7993639992186055, 0.05751953863278285, 0.6023122555501771, 0.14053538070858976, 0.015172846412785795, 0.020189006019198586, 0.08676712443158653, 0.03469855859973145, 0.054099903193129684, 0.005555085845118297, 0.04066820309000783, 0.9988572880919332, 0.9998931681616388, 0.9292312151814106, 0.070681672937962, 0.31181142430794334, 0.1898667651353548, 0.18823483384047474, 0.3100106725342826, 0.999849840923018, 0.9995404254582895, 0.14791839179475347, 0.8519331727021181, 0.21215796411373927, 0.7875273265402666, 0.8235423103123342, 0.17630958703512944, 0.9987152259940395, 0.8327589262592539, 0.05971126743984406, 0.10726702686514844, 0.19129989675483192, 0.010408046613429374, 0.3880119777486471, 0.35553887231474746, 0.05453816425436992, 0.06644136908584485, 0.8872079960268268, 0.04607752089849499, 0.037808789506309684, 0.13535546643258867, 0.8266891825554612, 0.36128888252192554, 0.6384891103302758, 0.9997495166593674, 0.42399518388145435, 0.06007695734345141, 0.5158388611352788, 0.6798254842375838, 0.013239210509554074, 0.21980279617066883, 0.08709167395441596, 0.03843747797292356, 0.5431141719347228, 0.07890770718479981, 0.3222834691575898, 0.017185987747509093, 0.9995239223985244, 0.9995514966155976, 0.9992020074607392, 0.45812973739565926, 0.2049068202837002, 0.25368861443078566, 0.04796682383913891, 0.035276571901114294, 0.9999234467804824, 0.04010377178754536, 0.1256312034569023, 0.8344039864776019, 0.9997481698405312, 0.998919327171946, 0.9992628185737767, 0.018647219354986602, 0.04268864680268754, 0.7112449377419454, 0.002278587901232777, 0.05826674776009529, 0.1668019347290198, 0.9997745907755505, 0.999757816507008, 0.9997503200846528, 0.9990993181368815, 0.2983465675531232, 0.13341657956719133, 0.14902602485871705, 0.36623292867947554, 0.03136614950089598, 0.02149980200530898, 0.10821802080185239, 0.891207230132902, 0.9995684982993719, 0.9989984455833758, 0.9992173877622998, 0.9994788408347576, 0.048654087220851946, 0.9512426939031338, 0.9993141931506764, 0.9994202390174803, 0.9995565297616981, 0.9997320257482281, 0.9990612098877726, 0.9994462768925425, 0.9997586324988482, 0.9998318786784193, 0.999848386671282, 0.9997974949296603, 0.9994850856462417, 0.9994702785733841, 0.9997310015008956, 0.9993952527847827, 0.9995832515689258, 0.999608549568631, 0.9998402601076208, 0.9987936444852886, 0.9996695591915652, 0.9995073651529356, 0.9993944356105127, 0.8098256825132414, 0.055619321339664914, 0.05206470305855851, 0.008154712527244104, 0.07422879351722196, 0.9997324929804342, 0.999272985379212, 0.9987993058143186, 0.9997085849414789, 0.9991831460962971, 0.9993640652842566, 0.999130406014997, 0.9996654114187907, 0.11448066393903218, 0.22288715949738575, 0.496302114569079, 0.08987447865169712, 0.006461058086454335, 0.04631069778135232, 0.02371633896405094, 0.99987018369492, 0.8477066163169632, 0.02674481297856194, 0.06057747391964029, 0.027217336176063034, 0.03770735116058733, 0.8530305152562065, 0.14685686122445576, 0.9992695438167589, 0.9994427337174531, 0.9990141032180772, 0.9990984547581531, 0.9992868151742202, 0.9994254198563088, 0.999704146744746, 0.9991899110910617, 0.9996650261283293, 0.8225719451218545, 0.11767755229145391, 0.05971696683446915, 0.5949354099782748, 0.0801041126972204, 0.02309307753433381, 0.10189820462024793, 0.15746592243723867, 0.020928101515490013, 0.021649760188437946, 0.9998193044572087, 0.9995311901710803, 0.9999615515726458, 0.9991644143667605, 0.9989054587422284, 0.9758702574244986, 0.023552424245673234, 0.9997352505485928, 0.9994415333708218, 0.9997241385207772, 0.9993737409691298, 0.01064267784481852, 0.3450683624300774, 0.6440866764931515, 0.9994111524543666, 0.9995406999923283, 0.11493425556596829, 0.8848431989642013, 0.25028258369982714, 0.10825714929873477, 0.6411008245168192, 0.22186970191983976, 0.10633296393863459, 0.1513237530084344, 0.5204538396094035, 0.9992378127842452, 0.9996949825085005, 0.9998319731940394, 0.9997383548564067, 0.9995862784253158, 0.9514301139230823, 0.047923235867659876, 0.9989176689144398, 0.999584548488141, 0.9993155775547008, 0.9994354928418644, 0.7999863380774073, 0.1574325092328322, 0.04256407528651962, 0.8997654689621605, 0.09983245509005574, 0.9993154414497527, 0.9997793678653942, 0.999705645152593, 0.999107664664466, 0.9995574376219092, 0.1806573647353689, 0.8055755086156474, 0.01375196286046478, 0.9991109209070251, 0.17840567242607733, 0.14372000115230643, 0.6557613905390951, 0.022086840003925877, 0.01825285509508409, 0.9810909613607697, 0.9783002057146822, 0.021674417681054995, 0.9994862439038896, 0.17614825166795853, 0.2933749131529849, 0.1809042544629934, 0.12453681392924668, 0.10648161813328093, 0.1184596992467021, 0.26517470714656366, 0.7345774721169263, 0.999128265356477, 0.998869298889311, 0.07075298250126663, 0.3597173622769942, 0.5396436848901579, 0.029762248853305275, 0.9986217283679876, 0.06619156557232347, 0.08346798048585444, 0.5688727946828932, 0.2680966555256372, 0.013321572945373278, 0.9995469210927409, 0.9594371847476841, 0.013204475430053457, 0.027201219385910122, 0.27926118763038427, 0.7206330263456802, 0.9995496408237434, 0.07397633206500676, 0.8498676288398451, 0.07569671188047203, 0.08542039592314189, 0.07438692811640273, 0.8401451857357352, 0.9993245199135097, 0.27079084375331774, 0.7290390545972888, 0.9999303099370246, 0.9999605212158772, 0.4486106123812576, 0.551207658262173, 0.9992706163333749, 0.9995104934984791, 0.9988129388735415, 0.9993217813059727, 0.9991188212847735, 0.9995819361604075, 0.10247150154984862, 0.8974170851178612, 0.1963537363844014, 0.8036477924875858, 0.9992552495606465, 0.3660750043584795, 0.6337838115026482, 0.999931130295471, 0.9998057036334613, 0.9997376035442019, 0.999570953267216, 0.9995602094318028, 0.9996410720257075, 0.16769356368229843, 0.8322415722351691, 0.36968552169225566, 0.615075202626564, 0.015136730022045113, 0.4031167479508115, 0.057952588539040714, 0.5387039362308312, 0.999861778799822, 0.3443701486664156, 0.6554243407218208, 0.9954142053599746, 0.0012669483953852124, 0.0032578673024191178, 0.10779201304123802, 0.5625128574830421, 0.08139009266637971, 0.2065617871054561, 0.02041875136904509, 0.021178518861846764, 0.4209578066499309, 0.5786837696478797, 0.39928342448151655, 0.6005302405911359, 0.5870769913757239, 0.41271812788849643, 0.9990066739996755, 0.1338610802808643, 0.8457191698560258, 0.020345891720168437, 0.9997446684788798, 0.9142737990869799, 0.033569031660927305, 0.05189695124591635, 0.9998012047248037, 0.09011913011665665, 0.11138724482418762, 0.7980950163131113, 0.013188451802414767, 0.07873505726041616, 0.28407925182401406, 0.026376903604829534, 0.392092672085791, 0.20086012095077688, 0.004615958130845168, 0.9359276063219488, 0.00226809064902932, 0.023021120087647597, 0.0386709455659499, 0.9991680988350261, 0.9995526253592724, 0.9997946822413895, 0.8945520480317689, 0.10539892157762065, 0.9994789583708081, 0.022778338918477258, 0.17829542442787782, 0.004278165177582023, 0.792385566539719, 0.002081269545850714, 0.15382273344487163, 0.7160505262933099, 0.08942246126559697, 0.04065267181316712, 0.10166183262541638, 0.8982314824548886, 0.9993549570948679, 0.9990992451087826, 0.986811991927331, 0.013017519893509473, 0.7054628823998709, 0.2944777955422573, 0.9988815687881321, 0.9997616371053654, 0.9053112255992546, 0.09425374964681653, 0.9994318984666344, 0.7980904252334965, 0.20176443334554686, 0.9915891912683455, 0.008338232313554484, 0.16578333832343753, 0.1190432134597624, 0.3200382812381402, 0.38670248077560715, 0.008520987910804046, 0.018304742883300567, 0.7801087676397935, 0.06890458133416347, 0.10936769718145946, 0.023289329618112392, 0.9996173893006545, 0.9997817536599086, 0.9997004143572846, 0.9991537087724156, 0.9989466147428102, 0.9998804509602517, 0.9134452164942202, 0.0864666523089526, 0.6758893164592665, 0.323837753357354, 0.9996436446258596, 0.9995010118194282, 0.05217174550630798, 0.9477515064243073, 0.00868571057479771, 0.3004365016769772, 0.6447469772830609, 0.04587836867713663, 0.9997764240515098, 0.9997538109096145, 0.9991049584441828, 0.9999686815833051, 0.4975481017951197, 0.054937221398062536, 0.4197203714811978, 0.027651734770358143, 0.8408956694364791, 0.10754135680004277, 0.051179320404839634, 0.9805105413432468, 0.0193939595959718, 0.9994946167233669, 0.550126008442113, 0.4498403636144728, 0.9995395411310077, 0.9996341655838648, 0.9987672192065088, 0.9996954559978501, 0.049697798074616904, 0.6685815540979345, 0.032888248725849424, 0.23314114096768815, 0.015494019399733506, 0.9997399038389967, 0.9989711806196576, 0.9999258456813798, 0.9994616264491455, 0.9997488231683136, 0.999492310736364, 0.9984390794963723, 0.9993629627854744, 0.9998357040540358, 0.0009656746132434419, 0.1590144196474201, 0.8398150219840467, 0.9993926927017296, 0.9999137062978776, 0.031230359121777712, 0.9485701077254618, 0.02019563223208292, 0.819372668394951, 0.004464029792399625, 0.1761059753101652, 0.9998649785175147, 0.707118979141367, 0.016247077080808178, 0.028865365371994224, 0.08181269271148077, 0.10589465467897309, 0.03529821822632436, 0.024659269274932206, 0.08231772968469649, 0.9176556002350825, 0.9993132760025244, 0.9992261435050799, 0.999888551503813, 0.7058628105957206, 0.09584218266612574, 0.181066693692725, 0.01712984357843606, 0.9996538830602564, 0.9999463517987711, 0.9990871204346413, 0.9997618542663613, 0.7822941235401433, 0.21764022224096843, 0.9998912350019725, 0.9998742706160809, 0.9988661091616912, 0.9995518564669492, 0.1048419272455914, 0.8946511124957133, 0.9992257604415352, 0.9996633796253753, 0.9997075648175544, 0.9993368630031308, 0.9991373816262563, 0.9997320400226491, 0.9991088180630499, 0.9993818339954157, 0.9998755075839331, 0.9993443767914706, 0.004229226906642828, 0.9956305009388323, 0.23636982093909456, 0.26443199146154417, 0.2425219121690162, 0.23917603799133952, 0.006583816930267017, 0.011009005358807144, 0.9990820792559305, 0.6823436488775039, 0.027147333370629342, 0.22953222877975935, 0.06090356812362163, 0.022092921836613145, 0.03695543289033471, 0.13014739409204834, 0.038562190842088395, 0.08515817144294521, 0.6868890243746996, 0.9996943773229737, 0.9997155332762184, 0.05605491364039455, 0.36523031550398716, 0.16975269881467925, 0.12791000832107027, 0.28106854714872054, 0.015448773951406354, 0.3707705748337525, 0.4511041993810655, 0.16261867317269846, 0.9998298559789449, 0.9984612919880193, 0.9995625260657743, 0.9998331213694717, 0.420263504356936, 0.5794591887820887, 0.2545060962000743, 0.7449738745554939, 0.4714040435396604, 0.5285519080358092, 0.9782825130471359, 0.021488286413752118, 0.9998943262602029, 0.8160094112229844, 0.1377551537859995, 0.04619710013157191, 0.03737576329687852, 0.005946144160867037, 0.8294264355005347, 0.1271746751140542, 0.9992024367820719, 0.7473673268576981, 0.12764576704160976, 0.02476708912747652, 0.09988485395366906, 0.4127355545062884, 0.28289822315370666, 0.17275876320467484, 0.017321863568880443, 0.024296596244845575, 0.015865600702470138, 0.07396282453083905, 0.1292009134285404, 0.1698483918105531, 0.6743126324444608, 0.026493445731133283, 0.998140264508869, 0.9998464298902289, 0.9113507045089245, 0.048551424879498754, 0.03995377672375418, 0.0007199477560203371, 0.2793397293358908, 0.48020515326556484, 0.23974260275477227, 0.9995302727556757, 0.9987378693210721, 0.9997623904458721, 0.9589856157787621, 0.040843223940715975, 0.9993536824181106, 0.3554337304680726, 0.019151223833439528, 0.30219982015139324, 0.020125014875817807, 0.3031736111937715, 0.9990452790026436, 0.9994624276115562, 0.9999189501040352, 0.9999103803483422, 0.9998619104644652, 0.3747559511258538, 0.6250141368170405, 0.9991822680856156, 0.9423532307523347, 0.020638314557799065, 0.03660380317798325, 0.07338524348359844, 0.603073889548022, 0.0932863264622014, 0.1702253347634075, 0.05988093717668928, 0.9998954543516293, 0.9208506626183112, 0.07900194209348353, 0.9998940278170898, 0.9993108703073309, 0.9999405239788596, 0.9997650196549918, 0.9996192393176446, 0.9998214725545155, 0.9992683925222341, 0.9995614938344765, 0.28348686977884036, 0.028953938806032743, 0.17601377488865103, 0.5115195855732451, 0.9996273124228048, 0.9992861438166937, 0.999903446825872, 0.9997998643612585, 0.0642356774071552, 0.1839971098611734, 0.7517751737227233, 0.9992160376904361, 0.9996600618609346, 0.22348468068567373, 0.058134469889010616, 0.7183713303637586, 0.21610956785313257, 0.7831739297818068, 0.008640323647413208, 0.1001707851430872, 0.8910927190216809, 0.9992219745013728, 0.9998964415099988, 0.9996433279590844, 0.9077879280099397, 0.09213871748695399, 0.9734996353765406, 0.02631080095612272, 0.9751626881628611, 0.0007612511226876356, 0.005861633644694794, 0.018193901832234488, 0.9993534427941898, 0.9988647910456592, 0.9997891151876083, 0.999837730999544, 0.9994942855098222, 0.999232458629467, 0.9997831288317189, 0.4873499043922626, 0.005715688203738838, 0.1001995136124829, 0.21801267862832427, 0.03406083582636206, 0.08771831692268585, 0.0046658679214194605, 0.06228933675094979, 0.453758568881705, 0.1527276945459549, 0.008111610386292668, 0.12740963788570808, 0.17427672011762127, 0.06800643051134257, 0.015649672563453534, 0.9992982430521318, 0.0179731287347613, 0.7883408020656961, 0.09545446108956265, 0.09824886979744074, 0.9994733271728117, 0.9987594574576741, 0.17920651525020348, 0.8199409209662089, 0.999262551611285, 0.9994903809657243, 0.04313914027886326, 0.13049589934356134, 0.8255752970867456, 0.9036439903225845, 0.058611479144962016, 0.03746300728853242, 0.8653481436321674, 0.10256916787559704, 0.015951319247802694, 0.016082425981346276, 0.9755747739342063, 0.02348635932599368, 0.0008098744595170233, 0.9017731489770225, 0.0981810280063679, 0.9997406744173316, 0.9996274228378822, 0.7151886554439976, 0.06717377334367013, 0.10159034523063744, 0.08659455319417311, 0.021233795690977154, 0.008204664905196671, 0.9998540807244238, 0.9998092712841699, 0.9990884622008787, 0.5932131907046334, 0.09019114044700294, 0.06498909763482019, 0.2515914571803435, 0.46917372119690115, 0.1849250182433468, 0.18175114110035148, 0.04779485580040059, 0.11640661168574129, 0.928135877144619, 0.006149680543273251, 0.039041153751992304, 0.02049893514424417, 0.006149680543273251, 0.9996264325182235, 0.7062408764188728, 0.03685655479880478, 0.05783495935791559, 0.19900614967083102, 0.9998275819456653, 0.4536600225775516, 0.5461997805037125, 0.9995816710547191, 0.7135052392372876, 0.20007108558825004, 0.08635319340716913, 0.9993948583441631, 0.9338563202759407, 0.004369973124666439, 0.06166517631473752, 0.9999587937257212, 0.9987722522652374, 0.512777903893837, 0.20650032551992192, 0.2805890701805666, 0.9996022497218278, 0.9997236167356215, 0.9998007670493448, 0.12400122379662674, 0.80192128534391, 0.07402709593885251, 0.7202268768065601, 0.02506273594821218, 0.04620409144194219, 0.07325593341779026, 0.057627243200651136, 0.049613987489317994, 0.028017979189271215, 0.999450056994558, 0.4898145971960226, 0.005944351907718721, 0.0515969745589985, 0.452484067215549, 0.9584652742373233, 0.040785756350524394, 0.06354999022588109, 0.1858666380799963, 0.7504707179093968, 0.9982250361960865, 0.9995602870935474, 0.2597373023921899, 0.10682306591077538, 0.6333469085471353], \"Term\": [\"00\", \"04\", \"10\", \"10\", \"12\", \"13\", \"14\", \"15\", \"16\", \"17\", \"18\", \"200\", \"2008\", \"2013\", \"24\", \"25\", \"255\", \"32\", \"52\", \"__init__\", \"able\", \"able\", \"able\", \"able\", \"active\", \"activity\", \"actually\", \"add\", \"add\", \"add\", \"add\", \"add\", \"add\", \"address\", \"address\", \"address\", \"admin\", \"ajax\", \"android\", \"angular\", \"animation\", \"annotation\", \"answer\", \"apache\", \"api\", \"api\", \"api\", \"app\", \"app\", \"app\", \"app\", \"app\", \"appdata\", \"apple\", \"application\", \"application\", \"application\", \"application\", \"application\", \"argument\", \"argument\", \"argument\", \"array\", \"asp\", \"asp\", \"asp\", \"assembly\", \"assert\", \"audio\", \"auth\", \"authentication\", \"await\", \"awt\", \"background\", \"background\", \"background\", \"based\", \"bean\", \"beans\", \"best\", \"better\", \"bin\", \"bin\", \"bind\", \"boolean\", \"boost\", \"boot\", \"border\", \"browser\", \"browser\", \"buffer\", \"build\", \"build\", \"button\", \"button\", \"byte\", \"byte\", \"calendar\", \"callback\", \"camera\", \"canvas\", \"case\", \"case\", \"case\", \"catch\", \"catch\", \"catch\", \"cell\", \"certificate\", \"change\", \"change\", \"change\", \"change\", \"change\", \"channel\", \"char\", \"character\", \"clang\", \"class\", \"class\", \"class\", \"click\", \"client\", \"client\", \"client\", \"close\", \"close\", \"close\", \"close\", \"code\", \"code\", \"code\", \"code\", \"code\", \"code\", \"code\", \"code\", \"code\", \"col\", \"color\", \"column\", \"column\", \"com\", \"com\", \"com\", \"com\", \"command\", \"common\", \"compile\", \"compile\", \"compiler\", \"compiler\", \"component\", \"component\", \"concurrent\", \"config\", \"config\", \"config\", \"configuration\", \"configuration\", \"configuration\", \"configuration\", \"configuration\", \"connection\", \"connection\", \"connection\", \"console\", \"console\", \"console\", \"const\", \"const\", \"constructor\", \"content\", \"content\", \"content\", \"context\", \"context\", \"context\", \"context\", \"core\", \"core\", \"core\", \"core\", \"core\", \"cout\", \"cpp\", \"cpu\", \"create\", \"create\", \"create\", \"create\", \"create\", \"crypto\", \"cs\", \"cs\", \"cs\", \"currently\", \"customer\", \"cv2\", \"data\", \"data\", \"data\", \"data\", \"data\", \"data\", \"database\", \"date\", \"debug\", \"declaration\", \"default\", \"default\", \"default\", \"default\", \"default\", \"default\", \"define\", \"define\", \"defined\", \"definition\", \"delegate\", \"delete\", \"dependency\", \"dependency\", \"deploy\", \"derived\", \"dev\", \"device\", \"dialog\", \"difference\", \"different\", \"directory\", \"div\", \"django\", \"dll\", \"docker\", \"document\", \"documentation\", \"doe\", \"domain\", \"double\", \"draw\", \"driver\", \"dylib\", \"eclipse\", \"edit\", \"edit\", \"edit\", \"edit\", \"edit\", \"email\", \"enable\", \"endl\", \"entity\", \"env\", \"environment\", \"equal\", \"err\", \"error\", \"error\", \"error\", \"error\", \"error\", \"error\", \"error\", \"event\", \"example\", \"example\", \"example\", \"example\", \"example\", \"exception\", \"exception\", \"exe\", \"execution\", \"exit\", \"export\", \"express\", \"expression\", \"extends\", \"facebook\", \"factory\", \"failed\", \"failed\", \"failed\", \"false\", \"false\", \"false\", \"false\", \"false\", \"false\", \"false\", \"far\", \"feature\", \"file\", \"files\", \"flag\", \"float\", \"float\", \"folder\", \"font\", \"foo\", \"foreach\", \"form\", \"form\", \"form\", \"fragment\", \"frame\", \"framework\", \"framework\", \"func\", \"func\", \"func\", \"function\", \"function\", \"function\", \"function\", \"game\", \"gcc\", \"gem\", \"generic\", \"git\", \"github\", \"github\", \"goal\", \"good\", \"gradle\", \"grid\", \"header\", \"header\", \"header\", \"height\", \"height\", \"hello\", \"hibernate\", \"home\", \"hour\", \"href\", \"html\", \"html\", \"html\", \"icon\", \"id\", \"id\", \"id\", \"id\", \"identifier\", \"identifier\", \"image\", \"image\", \"img\", \"import\", \"import\", \"import\", \"import\", \"import\", \"import\", \"include\", \"include\", \"included\", \"indexpath\", \"info\", \"info\", \"info\", \"info\", \"inject\", \"input\", \"input\", \"input\", \"input\", \"input\", \"insert\", \"instead\", \"instead\", \"instead\", \"int\", \"int\", \"intent\", \"internal\", \"internal\", \"internal\", \"io\", \"io\", \"io\", \"iphone\", \"item\", \"item\", \"jar\", \"java\", \"javascript\", \"javascript\", \"javax\", \"jdbc\", \"jetty\", \"jpa\", \"jpg\", \"jquery\", \"js\", \"js\", \"json\", \"json\", \"junit\", \"key\", \"key\", \"know\", \"label\", \"lang\", \"language\", \"layer\", \"layout\", \"left\", \"left\", \"length\", \"length\", \"length\", \"let\", \"let\", \"let\", \"lib\", \"library\", \"library\", \"like\", \"like\", \"like\", \"line\", \"line\", \"line\", \"line\", \"line\", \"line\", \"linux\", \"linux\", \"list\", \"list\", \"local\", \"local\", \"lock\", \"log\", \"log\", \"log\", \"login\", \"look\", \"look\", \"look\", \"looking\", \"loop\", \"loop\", \"loop\", \"main\", \"main\", \"main\", \"main\", \"main\", \"main\", \"main\", \"make\", \"make\", \"make\", \"make\", \"math\", \"matrix\", \"maven\", \"memory\", \"memory\", \"menu\", \"message\", \"message\", \"message\", \"message\", \"message\", \"method\", \"method\", \"method\", \"method\", \"microsoft\", \"microsoft\", \"mobile\", \"mock\", \"model\", \"model\", \"module\", \"module\", \"msg\", \"multiple\", \"mvc\", \"mvc\", \"mysql\", \"native\", \"native\", \"need\", \"need\", \"net\", \"net\", \"net\", \"net\", \"net\", \"new\", \"new\", \"new\", \"new\", \"new\", \"nil\", \"node\", \"node_modules\", \"notification\", \"np\", \"npm\", \"null\", \"null\", \"number\", \"number\", \"numpy\", \"obj\", \"object\", \"object\", \"open\", \"open\", \"open\", \"open\", \"openssl\", \"operator\", \"oracle\", \"org\", \"output\", \"output\", \"output\", \"output\", \"override\", \"override\", \"override\", \"package\", \"package\", \"padding\", \"page\", \"page\", \"param\", \"parent\", \"parser\", \"password\", \"path\", \"path\", \"path\", \"path\", \"path\", \"performance\", \"persistence\", \"php\", \"pid\", \"platform\", \"play\", \"plot\", \"png\", \"pointer\", \"port\", \"port\", \"port\", \"position\", \"possible\", \"post\", \"post\", \"post\", \"print\", \"print\", \"print\", \"private\", \"problem\", \"problem\", \"problem\", \"problem\", \"problem\", \"problem\", \"problem\", \"process\", \"process\", \"product\", \"profile\", \"project\", \"property\", \"property\", \"property\", \"property\", \"protected\", \"public\", \"push\", \"py\", \"python\", \"python\", \"query\", \"question\", \"queue\", \"rail\", \"random\", \"random\", \"range\", \"react\", \"really\", \"record\", \"reflect\", \"release\", \"remote\", \"report\", \"request\", \"require\", \"response\", \"response\", \"result\", \"result\", \"result\", \"result\", \"result\", \"result\", \"ret\", \"return\", \"return\", \"return\", \"return\", \"root\", \"root\", \"root\", \"root\", \"root\", \"root\", \"route\", \"ruby\", \"run\", \"run\", \"run\", \"run\", \"run\", \"running\", \"running\", \"running\", \"running\", \"say\", \"scala\", \"schema\", \"screen\", \"script\", \"script\", \"section\", \"section\", \"security\", \"security\", \"select\", \"select\", \"self\", \"server\", \"server\", \"server\", \"service\", \"service\", \"service\", \"service\", \"servlet\", \"session\", \"session\", \"session\", \"session\", \"set\", \"set\", \"set\", \"set\", \"set\", \"set\", \"set\", \"setup\", \"setup\", \"setup\", \"setup\", \"shape\", \"similar\", \"simple\", \"simple\", \"simple\", \"size\", \"size\", \"size\", \"size\", \"sizeof\", \"slf4j\", \"socket\", \"solution\", \"solution\", \"sonar\", \"source\", \"source\", \"source\", \"source\", \"source\", \"span\", \"specific\", \"spring\", \"springframework\", \"sql\", \"src\", \"src\", \"ssh\", \"stack\", \"stack\", \"stack\", \"start\", \"start\", \"start\", \"start\", \"start\", \"state\", \"static\", \"static\", \"std\", \"str\", \"string\", \"struct\", \"studio\", \"style\", \"sum\", \"sun\", \"support\", \"support\", \"support\", \"support\", \"swift\", \"tab\", \"table\", \"target\", \"task\", \"task\", \"task\", \"tcp\", \"template\", \"test\", \"test\", \"test\", \"testing\", \"testing\", \"text\", \"text\", \"text\", \"theme\", \"thing\", \"think\", \"thread\", \"thread\", \"throw\", \"throw\", \"time\", \"time\", \"time\", \"time\", \"timeout\", \"timer\", \"title\", \"token\", \"tomcat\", \"tostring\", \"transaction\", \"tried\", \"tried\", \"tried\", \"tried\", \"tried\", \"tried\", \"tried\", \"tried\", \"true\", \"true\", \"true\", \"true\", \"true\", \"true\", \"true\", \"txt\", \"type\", \"type\", \"type\", \"type\", \"typename\", \"typeof\", \"ubuntu\", \"ubuntu\", \"uiview\", \"undeclared\", \"unknown\", \"unknown\", \"unknown\", \"url\", \"url\", \"url\", \"use\", \"use\", \"use\", \"use\", \"used\", \"used\", \"used\", \"user\", \"user\", \"username\", \"users\", \"using\", \"using\", \"using\", \"using\", \"using\", \"using\", \"usr\", \"util\", \"validation\", \"value\", \"value\", \"value\", \"value\", \"var\", \"var\", \"var\", \"var\", \"var\", \"ve\", \"ve\", \"ve\", \"ve\", \"ve\", \"vector\", \"version\", \"version\", \"version\", \"version\", \"video\", \"view\", \"view\", \"visual\", \"void\", \"void\", \"void\", \"wait\", \"want\", \"want\", \"want\", \"way\", \"wcf\", \"web\", \"web\", \"web\", \"webpack\", \"widget\", \"width\", \"window\", \"window\", \"window\", \"work\", \"work\", \"work\", \"work\", \"work\", \"work\", \"work\", \"writeline\", \"www\", \"www\", \"www\", \"www\", \"xcode\", \"xcode\", \"xml\", \"xml\", \"xml\", \"xsd\", \"xxx\", \"yes\", \"yes\", \"yes\"]}, \"R\": 30, \"lambda.step\": 0.01, \"plot.opts\": {\"xlab\": \"PC1\", \"ylab\": \"PC2\"}, \"topic.order\": [6, 3, 8, 1, 9, 7, 10, 4, 2, 5]};\n",
       "\n",
       "function LDAvis_load_lib(url, callback){\n",
       "  var s = document.createElement('script');\n",
       "  s.src = url;\n",
       "  s.async = true;\n",
       "  s.onreadystatechange = s.onload = callback;\n",
       "  s.onerror = function(){console.warn(\"failed to load library \" + url);};\n",
       "  document.getElementsByTagName(\"head\")[0].appendChild(s);\n",
       "}\n",
       "\n",
       "if(typeof(LDAvis) !== \"undefined\"){\n",
       "   // already loaded: just create the visualization\n",
       "   !function(LDAvis){\n",
       "       new LDAvis(\"#\" + \"ldavis_el899251402301811232642769647770\", ldavis_el899251402301811232642769647770_data);\n",
       "   }(LDAvis);\n",
       "}else if(typeof define === \"function\" && define.amd){\n",
       "   // require.js is available: use it to load d3/LDAvis\n",
       "   require.config({paths: {d3: \"https://d3js.org/d3.v5\"}});\n",
       "   require([\"d3\"], function(d3){\n",
       "      window.d3 = d3;\n",
       "      LDAvis_load_lib(\"https://cdn.jsdelivr.net/gh/bmabey/pyLDAvis@3.4.0/pyLDAvis/js/ldavis.v3.0.0.js\", function(){\n",
       "        new LDAvis(\"#\" + \"ldavis_el899251402301811232642769647770\", ldavis_el899251402301811232642769647770_data);\n",
       "      });\n",
       "    });\n",
       "}else{\n",
       "    // require.js not available: dynamically load d3 & LDAvis\n",
       "    LDAvis_load_lib(\"https://d3js.org/d3.v5.js\", function(){\n",
       "         LDAvis_load_lib(\"https://cdn.jsdelivr.net/gh/bmabey/pyLDAvis@3.4.0/pyLDAvis/js/ldavis.v3.0.0.js\", function(){\n",
       "                 new LDAvis(\"#\" + \"ldavis_el899251402301811232642769647770\", ldavis_el899251402301811232642769647770_data);\n",
       "            })\n",
       "         });\n",
       "}\n",
       "</script>"
      ],
      "text/plain": [
       "PreparedData(topic_coordinates=              x         y  topics  cluster       Freq\n",
       "topic                                                \n",
       "5     -0.404660  0.094586       1        1  20.922577\n",
       "2     -0.015618  0.146567       2        1  12.972136\n",
       "7     -0.221469  0.328038       3        1  12.666011\n",
       "0      0.197741 -0.177941       4        1  11.431670\n",
       "8      0.433992 -0.084412       5        1   9.312802\n",
       "6      0.337073  0.238289       6        1   8.939966\n",
       "9      0.087998  0.448042       7        1   7.063330\n",
       "3      0.124459 -0.473558       8        1   5.813828\n",
       "1     -0.405904 -0.252008       9        1   5.587720\n",
       "4     -0.133613 -0.267603      10        1   5.289961, topic_info=         Term          Freq         Total Category  logprob  loglift\n",
       "67       java  27840.000000  27840.000000  Default  30.0000  30.0000\n",
       "30       file  26498.000000  26498.000000  Default  29.0000  29.0000\n",
       "696       org  20061.000000  20061.000000  Default  28.0000  28.0000\n",
       "75    android  21631.000000  21631.000000  Default  27.0000  27.0000\n",
       "257    string  21865.000000  21865.000000  Default  26.0000  26.0000\n",
       "...       ...           ...           ...      ...      ...      ...\n",
       "4706      yes   1167.870950   1844.170997  Topic10  -5.1706   2.4825\n",
       "117      size   1664.586591   6944.948377  Topic10  -4.8162   1.5109\n",
       "295    import   1345.486160  11354.072385  Topic10  -5.0290   0.8065\n",
       "659       var   1247.184430  10712.449937  Topic10  -5.1049   0.7888\n",
       "902    return   1198.349501  19670.440286  Topic10  -5.1448   0.1412\n",
       "\n",
       "[539 rows x 6 columns], token_table=      Topic      Freq Term\n",
       "term                      \n",
       "7945      3  0.999908   00\n",
       "1798      9  0.998811   04\n",
       "2263      8  0.049168   10\n",
       "2263      9  0.950843   10\n",
       "3143      9  0.999801   12\n",
       "...     ...       ...  ...\n",
       "5686      8  0.998225  xsd\n",
       "4856      4  0.999560  xxx\n",
       "4706      1  0.259737  yes\n",
       "4706      9  0.106823  yes\n",
       "4706     10  0.633347  yes\n",
       "\n",
       "[869 rows x 3 columns], R=30, lambda_step=0.01, plot_opts={'xlab': 'PC1', 'ylab': 'PC2'}, topic_order=[6, 3, 8, 1, 9, 7, 10, 4, 2, 5])"
      ]
     },
     "execution_count": 25,
     "metadata": {},
     "output_type": "execute_result"
    }
   ],
   "source": [
    "pyLDAvis.enable_notebook()\n",
    "vis = pyLDAvis.gensim.prepare(lda_model_text_cv, gensim_corpus_text_cv, id2word_text_cv, mds=\"mmds\", R=30)\n",
    "vis"
   ]
  },
  {
   "cell_type": "code",
   "execution_count": 26,
   "metadata": {},
   "outputs": [
    {
     "data": {
      "text/plain": [
       "0.5527363911348151"
      ]
     },
     "execution_count": 26,
     "metadata": {},
     "output_type": "execute_result"
    }
   ],
   "source": [
    "CoherenceModel(model=lda_model_text_cv, texts=converted_text_cv, dictionary=id2word_text_cv, coherence='c_v').get_coherence()"
   ]
  },
  {
   "cell_type": "code",
   "execution_count": null,
   "metadata": {},
   "outputs": [],
   "source": []
  },
  {
   "cell_type": "code",
   "execution_count": 27,
   "metadata": {},
   "outputs": [],
   "source": [
    "lda_model_text_ctf = gensim.models.ldamodel.LdaModel(corpus=gensim_corpus_text_ctf,\n",
    "                                                id2word=id2word_text_ctf,\n",
    "                                                num_topics=10,\n",
    "                                                random_state=100,\n",
    "                                                update_every=1,\n",
    "                                                chunksize=100,\n",
    "                                                passes=10,\n",
    "                                                alpha=\"auto\")"
   ]
  },
  {
   "cell_type": "code",
   "execution_count": 28,
   "metadata": {},
   "outputs": [
    {
     "data": {
      "text/html": [
       "\n",
       "<link rel=\"stylesheet\" type=\"text/css\" href=\"https://cdn.jsdelivr.net/gh/bmabey/pyLDAvis@3.4.0/pyLDAvis/js/ldavis.v1.0.0.css\">\n",
       "\n",
       "\n",
       "<div id=\"ldavis_el899251402301811206889502392872\" style=\"background-color:white;\"></div>\n",
       "<script type=\"text/javascript\">\n",
       "\n",
       "var ldavis_el899251402301811206889502392872_data = {\"mdsDat\": {\"x\": [-0.3039653865565001, 0.06811473362196001, -0.44306541732744603, -0.18877302843367016, 0.3337720543899808, 0.3393973574408251, 0.16116228466137789, 0.014175168252238957, -0.057563789065731924, 0.07674602301696544], \"y\": [-0.29701538036121206, -0.44653610206598854, 0.04627958830220163, 0.3951314808241668, -0.14252779410570451, 0.12296299144323104, 0.3113917950190293, -0.14911390797276378, 0.125346981045327, 0.03408034787171298], \"topics\": [1, 2, 3, 4, 5, 6, 7, 8, 9, 10], \"cluster\": [1, 1, 1, 1, 1, 1, 1, 1, 1, 1], \"Freq\": [38.02656979944559, 33.246386392572084, 18.90794435067937, 3.9712931217283662, 1.5092692781789685, 1.289681023931959, 1.2340948356139847, 1.0113192937610669, 0.6332560636903192, 0.17018584039830464]}, \"tinfo\": {\"Term\": [\"com\", \"server\", \"date\", \"java\", \"class\", \"output\", \"public\", \"new\", \"file\", \"event\", \"string\", \"sql\", \"error\", \"return\", \"user\", \"import\", \"want\", \"ve\", \"config\", \"self\", \"var\", \"int\", \"web\", \"following\", \"title\", \"array\", \"request\", \"build\", \"display\", \"org\", \"public\", \"string\", \"error\", \"return\", \"int\", \"method\", \"object\", \"void\", \"line\", \"project\", \"result\", \"run\", \"true\", \"null\", \"window\", \"net\", \"case\", \"end\", \"main\", \"change\", \"try\", \"private\", \"command\", \"service\", \"key\", \"default\", \"false\", \"path\", \"thread\", \"far\", \"class\", \"following\", \"new\", \"used\", \"work\", \"test\", \"type\", \"example\", \"code\", \"function\", \"use\", \"using\", \"image\", \"value\", \"know\", \"like\", \"trying\", \"file\", \"android\", \"text\", \"page\", \"view\", \"table\", \"message\", \"database\", \"html\", \"answer\", \"id\", \"python\", \"model\", \"size\", \"say\", \"working\", \"div\", \"right\", \"number\", \"sure\", \"point\", \"start\", \"item\", \"think\", \"read\", \"form\", \"query\", \"select\", \"input\", \"column\", \"module\", \"user\", \"log\", \"ve\", \"want\", \"data\", \"like\", \"create\", \"make\", \"add\", \"way\", \"need\", \"solution\", \"set\", \"list\", \"know\", \"question\", \"problem\", \"using\", \"use\", \"com\", \"server\", \"java\", \"import\", \"self\", \"web\", \"array\", \"request\", \"build\", \"org\", \"script\", \"url\", \"looking\", \"api\", \"content\", \"client\", \"response\", \"source\", \"json\", \"post\", \"simple\", \"io\", \"console\", \"100\", \"called\", \"long\", \"open\", \"google\", \"www\", \"browser\", \"var\", \"let\", \"file\", \"tried\", \"app\", \"output\", \"event\", \"sql\", \"config\", \"container\", \"screen\", \"microsoft\", \"length\", \"django\", \"operation\", \"schema\", \"environment\", \"position\", \"login\", \"release\", \"parent\", \"args\", \"common\", \"happens\", \"docker\", \"appears\", \"tab\", \"successfully\", \"img\", \"exists\", \"old\", \"unique\", \"transaction\", \"express\", \"happening\", \"maybe\", \"nil\", \"pretty\", \"stop\", \"experience\", \"delete\", \"remote\", \"printf\", \"matter\", \"2008\", \"minute\", \"term\", \"latest\", \"ask\", \"nslog\", \"laravel\", \"undefined\", \"piece\", \"debugger\", \"bash\", \"pair\", \"subscribe\", \"simulator\", \"perl\", \"learn\", \"ipad\", \"completion\", \"hold\", \"llvm\", \"fun\", \"date\", \"display\", \"username\", \"integer\", \"range\", \"err\", \"actual\", \"checked\", \"math\", \"changing\", \"special\", \"cookie\", \"oracle\", \"min\", \"identity\", \"sent\", \"graph\", \"calendar\", \"sending\", \"role\", \"aws\", \"depth\", \"relative\", \"asking\", \"installation\", \"logged\", \"middle\", \"age\", \"today\", \"occurred\", \"documentation\", \"setup\", \"great\", \"catch\", \"maven\", \"follows\", \"expect\", \"assume\", \"provider\", \"angular\", \"async\", \"2013\", \"receive\", \"audio\", \"short\", \"endpoint\", \"processor\", \"playing\", \"follow\", \"circle\", \"refresh\", \"shape\", \"fully\", \"utility\", \"nserror\", \"matlab\", \"secret\", \"sorting\", \"edge\", \"unix\", \"title\", \"func\", \"game\", \"np\", \"numpy\", \"uiview\", \"animation\", \"ret\", \"ha\", \"efficient\", \"navigation\", \"dataframe\", \"theme\", \"tableview\", \"beta\", \"__init__\", \"indexpath\", \"animated\", \"temp\", \"considering\", \"picker\", \"validator\", \"nsarray\", \"2009\", \"viewdidload\", \"panda\", \"uiviewcontroller\", \"uicolor\", \"pd\", \"toolbar\", \"val\", \"defined\", \"profile\", \"wpf\", \"aware\", \"protocol\", \"architecture\", \"split\", \"firebase\", \"enable\", \"entire\", \"wcf\", \"000\", \"ii\", \"retrieve\", \"127\", \"communicate\", \"cluster\", \"communication\", \"corresponding\", \"talk\", \"preference\", \"tensorflow\", \"dealing\", \"recommendation\", \"train\", \"movie\", \"referred\", \"provisioning\", \"exposed\", \"register\", \"area\", \"db\", \"sqlite\", \"directive\", \"blob\", \"million\", \"asm\", \"reach\", \"allocator\", \"r2dbc\", \"netcat\", \"clientlogin\", \"iasyncenumerable\", \"minimax\", \"qgraphicsitem\", \"zap\", \"shadowdom\", \"binance\", \"cmyk\", \"facial\", \"papertrail\", \"stty\", \"hipaa\", \"kie\", \"profunctors\", \"responseentityexceptionhandler\", \"yasg\", \"racket\", \"webkit_server\", \"qchar\", \"tainted\", \"weasyprint\", \"kettle\", \"communicationexception\", \"alchemy\", \"stylecop\", \"ormlite\", \"subrecords\", \"__tostring\", \"quadrilateral\", \"magnific\", \"jestjs\", \"markerclusterer\", \"unregistered\", \"pinning\", \"codemirror\", \"bloomberg\", \"separatorcolor\", \"evolutionary\", \"webform\", \"bts\", \"sql2005\", \"metaspace\", \"sanitize\", \"clob\", \"userfriendly\", \"untracked\", \"inmemory\", \"externalizing\", \"silex\", \"dx\", \"imemorycache\", \"deselect\", \"regasm\", \"mysql_real_escape_string\", \"excess\", \"disallowed\", \"altitude\", \"auditing\", \"htmlentities\", \"significance\", \"forwardref\", \"orchard\", \"jsps\", \"cgal\", \"yup\", \"budget\", \"tif\", \"netflix\", \"stringformat\", \"jhipster\", \"wrappanel\", \"loess\", \"zcat\", \"thickness\", \"ringtone\", \"isodate\", \"rubber\", \"sqlparameter\", \"cfc\", \"sail\", \"ilogger\", \"monster\", \"mdf\", \"permgen\", \"buildconfig\", \"fibonacci\", \"nstextfield\", \"unescape\", \"editorfor\", \"swig\", \"magick\", \"telegram\", \"phing\", \"joptionpane\", \"ngrok\", \"vectorize\", \"avr\", \"selinux\", \"bitset\", \"bartintcolor\", \"wallpaper\", \"redshift\", \"itemscontrol\", \"difftool\", \"routerlink\", \"6379\", \"polymer\", \"lan\"], \"Freq\": [694.0, 540.0, 199.0, 513.0, 924.0, 244.0, 824.0, 981.0, 889.0, 229.0, 774.0, 213.0, 745.0, 724.0, 763.0, 406.0, 1244.0, 922.0, 185.0, 368.0, 564.0, 633.0, 346.0, 708.0, 117.0, 339.0, 336.0, 329.0, 119.0, 324.0, 823.3373021897953, 773.9513832878614, 744.5388924078135, 723.4260661522837, 633.0678617591411, 561.9979331391648, 540.5891790378736, 483.6082976789952, 463.028858376194, 454.04042114761285, 387.09505475959935, 518.1875062801286, 534.3835641474744, 367.20033326287665, 355.47027333992037, 354.5756111274838, 351.4494704920966, 346.56959352486086, 346.00380439180975, 343.76019777845914, 342.44398138984855, 318.77746508581436, 317.4865187775, 317.4769610393937, 302.0797707821007, 301.05434133466406, 291.86169796294405, 282.07651103218586, 272.5702905824058, 251.29869364329554, 916.6592018740711, 688.1526544140723, 943.120813520901, 356.3591429838077, 664.3619237182095, 501.28269144722464, 489.24243947845434, 536.5345982746968, 760.2240095255593, 581.9277720827175, 661.3001892043796, 679.8774633916751, 374.79931431425223, 455.1715649710739, 420.3064931120335, 443.27442564902424, 382.464113425769, 401.4118947788978, 480.73477455328947, 414.6001897826328, 376.75879304303464, 365.9548649714926, 365.82815987444434, 350.15888901689584, 326.0447535109895, 314.64980930852437, 312.27634398197847, 306.2978448499833, 300.32969609688763, 299.9772451212113, 298.86446860564087, 293.82212484469215, 291.81158748286157, 288.76879765414674, 282.5482199355352, 282.19646531562586, 281.1323070936018, 273.64610276857655, 270.1692933818488, 259.164229277533, 255.939991292728, 254.39188163894795, 250.24677645743424, 247.52609864973152, 247.07709161646198, 229.41228669860695, 225.70998465353003, 220.9629273902988, 722.9790305370472, 308.56248876167734, 784.7050185997404, 917.8450759852168, 588.77405526871, 865.9371344907527, 341.62384629671925, 353.47351081499625, 335.55187722927974, 458.21921866799886, 446.8605166179495, 309.06519432033843, 338.97411764590726, 305.68698257970243, 344.6799618426105, 332.4127370844483, 322.29079452901954, 336.6800685293274, 302.83860262010336, 693.4173225877736, 539.4816091993811, 512.7054784827291, 405.7544002849674, 367.4719355713035, 345.5648108542069, 338.65411228646644, 335.4437272275681, 328.33188005240294, 324.11776812284154, 310.1620798998907, 307.49163141975544, 300.71749212675314, 287.95287224193186, 284.74853568241554, 273.5922945901107, 266.68069594805746, 257.2620483166148, 252.32899302896055, 243.30574804313133, 239.64005139235954, 238.03829714678528, 232.37312141309874, 221.2624420825079, 214.7410436565401, 211.12499510486242, 209.52115268688246, 205.03905263142772, 203.08380320024403, 197.68956783619683, 401.4427202998984, 285.34049655645845, 487.4427687185931, 361.20932651175224, 223.5271190609463, 243.5850524139182, 228.521843434556, 213.09677141108332, 184.38029903167626, 137.9551170672725, 132.84959202823455, 129.62338948317154, 128.39460984214142, 121.43194110940392, 106.67456213288372, 105.76925420660913, 103.66087680668805, 102.11717030065049, 99.12902878193184, 95.33369387276284, 92.74903562206032, 91.72852346046535, 83.54515866579571, 81.29394616243077, 77.0400855416029, 75.60377191708947, 75.00798415885787, 70.06247466452717, 67.73518275114856, 65.75920515143915, 65.10861692761075, 63.64446070418366, 61.478844153671325, 60.779814949766624, 60.26531669135084, 107.38568800435127, 93.94113308307927, 92.30591919023895, 71.51173877235681, 70.60357463109852, 66.22021670985262, 64.96060639198471, 59.60959608940089, 55.532766412762456, 54.12292386115526, 48.34901252199369, 48.270809913827165, 46.80590481729601, 43.94421584369494, 43.90073769953239, 41.755232533757734, 40.69306569639375, 39.59540133528757, 38.87675753067333, 38.27110977010214, 32.78184822280764, 32.78609286679786, 32.40267247960244, 31.53975676056897, 31.43709787592526, 30.81958982710245, 29.88490025319029, 29.38057217340402, 27.61167067475382, 26.632594827023784, 199.14185496877153, 118.53410452796058, 91.20000562597593, 88.27504379978625, 83.34164852534187, 83.08304304867484, 69.67504601282292, 57.4984283194522, 47.68010358215894, 46.28418703312511, 44.841725034507704, 44.59924372276447, 40.589353486710216, 39.3883733275357, 38.72433571858267, 36.025797343271655, 34.99498041286124, 34.93538043072589, 34.56862566632748, 34.28203005383932, 34.102417268781174, 31.444157381602995, 31.078900597802132, 28.500161379000826, 28.312356359068204, 28.18078454848528, 27.37647947436584, 26.134994902115913, 25.502545038124026, 25.073994890517792, 108.94490242135731, 106.25368870397863, 86.9520816446797, 78.70048065337595, 77.51496527415124, 67.6328694103551, 65.89672938852954, 64.69836025765099, 57.574599603416324, 55.66706526017826, 54.874226119319786, 53.3469889351587, 48.997284075232116, 47.83981196332672, 46.27156966648571, 43.18350635371386, 36.213617091077694, 36.16622974997149, 32.75107018076298, 32.065391850995766, 31.231587545131617, 27.910883076741566, 27.31785515286226, 24.483819100608326, 23.48495805435733, 21.182399959425386, 20.851898751225214, 20.176519871823395, 19.420242252350995, 19.04264743594347, 117.24648633764131, 85.90112009314615, 60.3498739411454, 49.465509270200926, 43.0398033939581, 42.56115448767644, 41.26555460216727, 37.801074091915666, 37.224963069764605, 33.4651306768847, 32.33089440991247, 31.227671091965696, 30.51356063075773, 30.127896652733895, 29.806467318649347, 29.459395735001124, 29.0060751937323, 24.86612283277853, 24.6967811547686, 24.591219662084487, 24.276343390125593, 23.724855937002076, 23.645597199408854, 23.443811798009857, 22.858316975759386, 22.797960635411357, 21.35833395720047, 18.222438578523548, 17.81261319277401, 17.620802772806364, 76.41883119460317, 65.39184272781817, 56.360545913556635, 40.531851108515895, 38.875583452620674, 33.19029481332393, 33.13866750389767, 32.49999418121913, 31.7407148527616, 31.054472925896167, 30.09066668635677, 26.543963616130277, 25.93347695229768, 25.08515209070978, 23.046765656512072, 21.31990595084455, 20.07599117163919, 16.26961175434361, 15.936979999727667, 14.545436147862908, 12.152550870660685, 11.135374948233686, 10.8742215025555, 10.74197957712117, 9.136604298732001, 9.09370995802117, 7.027569142407198, 5.919641487231968, 5.627025841179984, 3.799084961756197, 27.732307954208757, 19.111366877194715, 13.347172326440871, 8.853727255366238, 8.397251096127096, 8.261854828762289, 7.1028437257408, 5.177902983171857, 4.076767935273041, 0.9033145456651971, 0.026981829657818215, 0.026981829657818215, 0.026981829657818215, 0.026981829657818215, 0.026981829657818215, 0.026981829657818215, 0.026981829657818215, 0.026981829657818215, 0.026981829657818215, 0.026981829657818215, 0.026981829657818215, 0.026981829657818215, 0.026981829657818215, 0.026981829657818215, 0.026981829657818215, 0.026981829657818215, 0.026981829657818215, 0.026981829657818215, 0.026981829657818215, 0.026981829657818215, 0.02698183218949056, 0.02698183218949056, 0.02698183218949056, 0.02698183218949056, 0.02698183218949056, 0.027075668624922472, 0.027022880724876856, 0.02698202459658871, 0.02698183218949056, 0.026981834721162903, 0.026981834721162903, 0.026981834721162903, 0.026981834721162903, 0.02698183218949056, 0.027037475815940258, 0.027165310079280306, 0.02698183218949056, 0.02698183218949056, 0.02698183218949056, 0.026981834721162903, 0.027220267622524767, 0.02699077658788206, 0.02698183725283525, 0.027554914199649592, 0.027338061273348344, 0.027069063491776867, 0.027002574181005295, 0.026984103099583167, 0.02699928300695804, 0.02698197649481417, 0.027277015058116465, 0.027102972711152962, 0.027071197691562895, 0.027033546660462305, 0.027356864003847545, 0.02717021139693837, 0.027040037868352428, 0.027061589995017257, 0.027067673603659987, 0.02702816938840356, 0.027193528099226996, 0.02715114537251539, 0.02713520343176496, 0.027411467112963838, 0.027225374005642698, 0.027095073893439552, 0.027378826261432107, 0.02756321808493805, 0.027739587038785724, 0.027481774185630223, 0.027644575907386178, 0.027556618015137133, 0.027539881129270673, 0.02750818459152327, 0.02749972374254948, 0.028126474674729857, 0.027462470184006906, 0.027429629330359993, 0.02744981435395904, 0.027509979547215194, 0.027819038511958792, 0.02771007533427123, 0.027569780179653808, 0.027756096074141222, 0.027570473857876074, 0.02809921615860156, 0.027688670044602355, 0.027576509364744272, 0.027567083948607404, 0.027680482616241724, 0.027621051607965342, 0.0276292061245855, 0.02803545345894452, 0.0281749587317906, 0.028143907770490927, 0.027870859313168985, 0.027668507806054406, 0.027782040652322964, 0.027743587081089312, 0.027727057792355063, 0.027771207626362808, 0.027650773441284394, 0.028328279340618122, 0.027890297493426537, 0.027876704944611377, 0.0277459719164374, 0.027764597429872515, 0.027820172701168922, 0.027832157638045616, 0.02778549638507258], \"Total\": [694.0, 540.0, 199.0, 513.0, 924.0, 244.0, 824.0, 981.0, 889.0, 229.0, 774.0, 213.0, 745.0, 724.0, 763.0, 406.0, 1244.0, 922.0, 185.0, 368.0, 564.0, 633.0, 346.0, 708.0, 117.0, 339.0, 336.0, 329.0, 119.0, 324.0, 824.0258259410258, 774.6399059423758, 745.2274143545893, 724.1145844937028, 633.7563896145643, 562.6864551899126, 541.2777020822977, 484.2968220331378, 463.7173960926423, 454.72894027428885, 387.7835622771868, 519.1350730221674, 535.3799544151715, 367.8888595241923, 356.15878519153284, 355.26412479331293, 352.13799160082374, 347.2581183838143, 346.69233227906165, 344.4487253930122, 343.132505381163, 319.46599661948665, 318.175060007592, 318.16548911486035, 302.7682867763004, 301.74287676158883, 292.55021976998427, 282.7650476261801, 273.2588229613646, 251.98721840354042, 924.2659018008349, 708.3452536304089, 981.4483239600897, 363.11116420763176, 774.2871848148712, 567.2909747495786, 551.5956191178935, 645.5213470952771, 1056.5037803988002, 754.1869132309182, 964.7249551829036, 1075.4426940034111, 402.2695396833747, 702.5146991922509, 765.5726175536046, 1332.6531001154046, 555.1219333908401, 889.4397371168695, 481.422536663388, 415.28793562310733, 377.4465478036211, 366.642611743408, 366.51591151237665, 350.8466574272926, 326.7325107891326, 315.3375600439304, 312.964097897558, 306.98558582196495, 301.0174534569264, 300.6649910391772, 299.55223938426735, 294.50987987583545, 292.4993385590268, 289.4565345418, 283.2359725749896, 282.8842149415822, 281.82005510025135, 274.3338751117491, 270.8570474026776, 259.851988642056, 256.62773671823345, 255.0796263063236, 250.93452811623473, 248.21385039464437, 247.76485231250678, 230.10002625354096, 226.39774055660868, 221.65068388275128, 763.9914421128317, 317.6649995915852, 922.0385451805006, 1244.0723129027895, 763.4145217291262, 1332.6531001154046, 402.4911939996324, 436.0510759267912, 428.64435855549914, 792.5749168035171, 797.5178014805562, 370.8455378931751, 550.131408223965, 389.5384728306779, 765.5726175536046, 627.1725188916568, 593.0599074978672, 1075.4426940034111, 964.7249551829036, 694.1040079466335, 540.1682920035747, 513.3921566326746, 406.4410756910091, 368.1586088214016, 346.2514800889658, 339.3408069308866, 336.1304027033416, 329.018550992214, 324.8044354040936, 310.8487527942864, 308.1783182752599, 301.4041793201216, 288.63955217806597, 285.4352150801121, 274.2789686711816, 267.36737214798376, 257.9487186357401, 253.0156698486943, 243.99242658996363, 240.3267325434362, 238.72496936738503, 233.0597910534564, 221.94913712475824, 215.42772905752983, 211.81167946589608, 210.21848071587672, 205.7257184779691, 203.77047324549324, 198.37624670455097, 564.1942324102629, 354.9649482623973, 889.4397371168695, 722.279062496505, 641.0627607381065, 244.28171878258337, 229.21850408636104, 213.7934475374511, 185.0769870189367, 138.6518223469757, 133.5462755459254, 130.32006298224027, 129.0912881433815, 122.12863748574304, 107.3712276455288, 106.46594997818748, 104.35755160550767, 102.81390054084831, 99.82569691626473, 96.0303659856896, 93.44572957306038, 92.4251921514445, 84.2418252167654, 81.99062669003219, 77.73684645348322, 76.30045168232299, 75.70468777839478, 70.75912985915565, 68.43186197519519, 66.4558726399675, 65.80528996903747, 64.34115482659132, 62.175555025783666, 61.47650671909384, 60.962039472371494, 108.09662055239639, 94.65206716578085, 93.0168668386147, 72.22268502308464, 71.31453276438793, 66.93111832334385, 65.67155517442814, 60.32058269308126, 56.24371114865147, 54.833875565082806, 49.05996933797119, 48.98173898198599, 47.516866771537295, 44.65513139151433, 44.611682412236945, 42.46626061390667, 41.40395918768003, 40.306317035639694, 39.58772538398208, 38.98200624035911, 33.492776564846814, 33.49724342308861, 33.113578073200046, 32.250805215331674, 32.14797463694808, 31.53056047102353, 30.59584322274141, 30.091484029711943, 28.32267305775519, 27.343515998506387, 199.85481845071283, 119.2470305547635, 91.91293142044366, 88.98794332421467, 84.05457308180007, 83.79604545393723, 70.3879803111631, 58.21136967317131, 48.39312925431771, 46.99710405741168, 45.55469630603134, 45.312209618733746, 41.302289987380306, 40.10130085885178, 39.43723778090791, 36.73871509033806, 35.70790260371237, 35.64840253388463, 35.28156797238823, 34.99498938702557, 34.81533066390572, 32.15727255615434, 31.79192370841714, 29.213025517388427, 29.025310278555153, 28.8936918916546, 28.089474666347197, 26.848053408499677, 26.215475823819936, 25.786931269851067, 109.65923551232753, 106.96806050702347, 87.66641911430695, 79.41479923264929, 78.229311708897, 68.34720235742735, 66.61108001582183, 65.41270603260169, 58.28896127187056, 56.381357655041626, 55.5885472891221, 54.0613925452838, 49.71160868931751, 48.55410882632851, 46.985936020168765, 43.897880994006215, 36.92800483511351, 36.8805986404078, 33.46540711353504, 32.77976816058094, 31.94596310592922, 28.62518372260669, 28.032260856135572, 25.19827340192031, 24.199371598087527, 21.896752499398495, 21.566259174169446, 20.89088441481363, 20.13452616930993, 19.75692473420859, 117.96725339895677, 86.6219347177678, 61.07074729079265, 50.1862761290775, 43.76053589290717, 43.28194122429767, 41.98636627593073, 38.52203631768171, 37.94574124230344, 34.185868740011394, 33.051674554636634, 31.94838012081948, 31.234401938330887, 30.848679592354472, 30.527308649491967, 30.180241155500077, 29.726963281809045, 25.586933736523346, 25.417510129689735, 25.31200276233916, 24.997315844204106, 24.445887541311038, 24.366448244584447, 24.164688646797085, 23.57918701740798, 23.51866009259389, 22.079110980461554, 18.943247600667696, 18.533365533529043, 18.341504740819, 77.14863578668901, 66.12163268488015, 57.09038905089063, 41.261642376631805, 39.60542238942539, 33.92006454205409, 33.868477951992695, 33.229785204953615, 32.47051766956372, 31.784236700723895, 30.820391044764577, 27.273804486897582, 26.663319477018373, 25.814946818712293, 23.776535551869603, 22.049637223480904, 20.805953913625622, 16.999363208101464, 16.666805805868552, 15.275264421546176, 12.88235158154166, 11.865145690806827, 11.603887241069847, 11.471726782327078, 9.866398367742557, 9.823469715743732, 7.757457982225348, 6.649625933307202, 6.356788319522997, 4.528897980058422, 28.49633430602247, 19.875413967554124, 14.110946803500871, 9.617721457332141, 9.161161423852834, 9.02581781162817, 7.866870446831848, 5.941840129215228, 4.840870403010601, 1.6671194492807828, 0.7899257632263792, 0.7899257632263792, 0.7899257632263792, 0.7899257632263792, 0.7899257632263792, 0.7899257632263792, 0.7899257632263792, 0.7899257632263792, 0.7899257632263792, 0.7899257632263792, 0.7899257632263792, 0.7899257632263792, 0.7899257632263792, 0.7899257632263792, 0.7899257632263792, 0.7899257632263792, 0.7899257632263792, 0.7899257632263792, 0.7899257632263792, 0.7899257632263792, 0.7899259054037113, 0.7899259110166568, 0.7899259363728728, 0.7899259531433337, 0.7899259784995497, 0.7983094416259491, 0.7936125304343916, 0.7899433420073504, 0.789925991497079, 0.7899262256625632, 0.7899262256625632, 0.7899262256625632, 0.7899262312755085, 0.7899259962072148, 0.7952923112030786, 0.8079271895719167, 0.789926005593092, 0.789926005593092, 0.789926005593092, 0.7899262601603936, 0.8147978952651012, 0.7908846325003964, 0.7899265522660516, 0.854796301445808, 0.829788332109578, 0.7996974892481974, 0.7922109200637499, 0.7901770470682224, 0.7918916334460366, 0.7899420539368189, 0.8236857986344472, 0.8037059863622016, 0.800141654608349, 0.7957693290291479, 0.8345532723318648, 0.8120746807433457, 0.7967350025878595, 0.799446625640444, 0.8002173041119737, 0.7953883889731981, 0.8158868297973868, 0.8107442212083616, 0.8089865373051759, 0.8460946356527388, 0.8216371801302298, 0.8039505732712227, 0.8430196877937839, 0.8704672138757298, 0.9013878611810135, 0.8617855064308679, 0.887640057890446, 0.8738098935048706, 0.8713857192323569, 0.8670511591949016, 0.8664020067018817, 0.9776409768367411, 0.8603110787450992, 0.8548592294351393, 0.8585725506070077, 0.8692839119531846, 0.9295934407820294, 0.9097742117921165, 0.8815783105410823, 0.9225162688878125, 0.8825261779742917, 1.0072927511822611, 0.9123064900004999, 0.8863331992602473, 0.8845080171057187, 0.9173829441376521, 0.9008770563563535, 0.903644234008199, 1.0481646570721967, 1.1187443446333487, 1.1116630642905574, 1.0042216520977938, 0.9199657763020466, 0.9716717797263026, 0.9614583717487027, 0.9676555928224823, 1.0042856377068976, 0.9232345699852142, 1.7507640321382876, 1.162785132342759, 1.1482288048507485, 1.0198404460473767, 1.092757015289136, 1.3527361053070948, 3.063600526082366, 1.394309115687711], \"Category\": [\"Default\", \"Default\", \"Default\", \"Default\", \"Default\", \"Default\", \"Default\", \"Default\", \"Default\", \"Default\", \"Default\", \"Default\", \"Default\", \"Default\", \"Default\", \"Default\", \"Default\", \"Default\", \"Default\", \"Default\", \"Default\", \"Default\", \"Default\", \"Default\", \"Default\", \"Default\", \"Default\", \"Default\", \"Default\", \"Default\", \"Topic1\", \"Topic1\", \"Topic1\", \"Topic1\", \"Topic1\", \"Topic1\", \"Topic1\", \"Topic1\", \"Topic1\", \"Topic1\", \"Topic1\", \"Topic1\", \"Topic1\", \"Topic1\", \"Topic1\", \"Topic1\", \"Topic1\", \"Topic1\", \"Topic1\", \"Topic1\", \"Topic1\", \"Topic1\", \"Topic1\", \"Topic1\", \"Topic1\", \"Topic1\", \"Topic1\", \"Topic1\", \"Topic1\", \"Topic1\", \"Topic1\", \"Topic1\", \"Topic1\", \"Topic1\", \"Topic1\", \"Topic1\", \"Topic1\", \"Topic1\", \"Topic1\", \"Topic1\", \"Topic1\", \"Topic1\", \"Topic1\", \"Topic1\", \"Topic1\", \"Topic1\", \"Topic1\", \"Topic1\", \"Topic2\", \"Topic2\", \"Topic2\", \"Topic2\", \"Topic2\", \"Topic2\", \"Topic2\", \"Topic2\", \"Topic2\", \"Topic2\", \"Topic2\", \"Topic2\", \"Topic2\", \"Topic2\", \"Topic2\", \"Topic2\", \"Topic2\", \"Topic2\", \"Topic2\", \"Topic2\", \"Topic2\", \"Topic2\", \"Topic2\", \"Topic2\", \"Topic2\", \"Topic2\", \"Topic2\", \"Topic2\", \"Topic2\", \"Topic2\", \"Topic2\", \"Topic2\", \"Topic2\", \"Topic2\", \"Topic2\", \"Topic2\", \"Topic2\", \"Topic2\", \"Topic2\", \"Topic2\", \"Topic2\", \"Topic2\", \"Topic2\", \"Topic2\", \"Topic2\", \"Topic2\", \"Topic2\", \"Topic2\", \"Topic2\", \"Topic3\", \"Topic3\", \"Topic3\", \"Topic3\", \"Topic3\", \"Topic3\", \"Topic3\", \"Topic3\", \"Topic3\", \"Topic3\", \"Topic3\", \"Topic3\", \"Topic3\", \"Topic3\", \"Topic3\", \"Topic3\", \"Topic3\", \"Topic3\", \"Topic3\", \"Topic3\", \"Topic3\", \"Topic3\", \"Topic3\", \"Topic3\", \"Topic3\", \"Topic3\", \"Topic3\", \"Topic3\", \"Topic3\", \"Topic3\", \"Topic3\", \"Topic3\", \"Topic3\", \"Topic3\", \"Topic3\", \"Topic4\", \"Topic4\", \"Topic4\", \"Topic4\", \"Topic4\", \"Topic4\", \"Topic4\", \"Topic4\", \"Topic4\", \"Topic4\", \"Topic4\", \"Topic4\", \"Topic4\", \"Topic4\", \"Topic4\", \"Topic4\", \"Topic4\", \"Topic4\", \"Topic4\", \"Topic4\", \"Topic4\", \"Topic4\", \"Topic4\", \"Topic4\", \"Topic4\", \"Topic4\", \"Topic4\", \"Topic4\", \"Topic4\", \"Topic4\", \"Topic5\", \"Topic5\", \"Topic5\", \"Topic5\", \"Topic5\", \"Topic5\", \"Topic5\", \"Topic5\", \"Topic5\", \"Topic5\", \"Topic5\", \"Topic5\", \"Topic5\", \"Topic5\", \"Topic5\", \"Topic5\", \"Topic5\", \"Topic5\", \"Topic5\", \"Topic5\", \"Topic5\", \"Topic5\", \"Topic5\", \"Topic5\", \"Topic5\", \"Topic5\", \"Topic5\", \"Topic5\", \"Topic5\", \"Topic5\", \"Topic6\", \"Topic6\", \"Topic6\", \"Topic6\", \"Topic6\", \"Topic6\", \"Topic6\", \"Topic6\", \"Topic6\", \"Topic6\", \"Topic6\", \"Topic6\", \"Topic6\", \"Topic6\", \"Topic6\", \"Topic6\", \"Topic6\", \"Topic6\", \"Topic6\", \"Topic6\", \"Topic6\", \"Topic6\", \"Topic6\", \"Topic6\", \"Topic6\", \"Topic6\", \"Topic6\", \"Topic6\", \"Topic6\", \"Topic6\", \"Topic7\", \"Topic7\", \"Topic7\", \"Topic7\", \"Topic7\", \"Topic7\", \"Topic7\", \"Topic7\", \"Topic7\", \"Topic7\", \"Topic7\", \"Topic7\", \"Topic7\", \"Topic7\", \"Topic7\", \"Topic7\", \"Topic7\", \"Topic7\", \"Topic7\", \"Topic7\", \"Topic7\", \"Topic7\", \"Topic7\", \"Topic7\", \"Topic7\", \"Topic7\", \"Topic7\", \"Topic7\", \"Topic7\", \"Topic7\", \"Topic8\", \"Topic8\", \"Topic8\", \"Topic8\", \"Topic8\", \"Topic8\", \"Topic8\", \"Topic8\", \"Topic8\", \"Topic8\", \"Topic8\", \"Topic8\", \"Topic8\", \"Topic8\", \"Topic8\", \"Topic8\", \"Topic8\", \"Topic8\", \"Topic8\", \"Topic8\", \"Topic8\", \"Topic8\", \"Topic8\", \"Topic8\", \"Topic8\", \"Topic8\", \"Topic8\", \"Topic8\", \"Topic8\", \"Topic8\", \"Topic9\", \"Topic9\", \"Topic9\", \"Topic9\", \"Topic9\", \"Topic9\", \"Topic9\", \"Topic9\", \"Topic9\", \"Topic9\", \"Topic9\", \"Topic9\", \"Topic9\", \"Topic9\", \"Topic9\", \"Topic9\", \"Topic9\", \"Topic9\", \"Topic9\", \"Topic9\", \"Topic9\", \"Topic9\", \"Topic9\", \"Topic9\", \"Topic9\", \"Topic9\", \"Topic9\", \"Topic9\", \"Topic9\", \"Topic9\", \"Topic10\", \"Topic10\", \"Topic10\", \"Topic10\", \"Topic10\", \"Topic10\", \"Topic10\", \"Topic10\", \"Topic10\", \"Topic10\", \"Topic10\", \"Topic10\", \"Topic10\", \"Topic10\", \"Topic10\", \"Topic10\", \"Topic10\", \"Topic10\", \"Topic10\", \"Topic10\", \"Topic10\", \"Topic10\", \"Topic10\", \"Topic10\", \"Topic10\", \"Topic10\", \"Topic10\", \"Topic10\", \"Topic10\", \"Topic10\", \"Topic10\", \"Topic10\", \"Topic10\", \"Topic10\", \"Topic10\", \"Topic10\", \"Topic10\", \"Topic10\", \"Topic10\", \"Topic10\", \"Topic10\", \"Topic10\", \"Topic10\", \"Topic10\", \"Topic10\", \"Topic10\", \"Topic10\", \"Topic10\", \"Topic10\", \"Topic10\", \"Topic10\", \"Topic10\", \"Topic10\", \"Topic10\", \"Topic10\", \"Topic10\", \"Topic10\", \"Topic10\", \"Topic10\", \"Topic10\", \"Topic10\", \"Topic10\", \"Topic10\", \"Topic10\", \"Topic10\", \"Topic10\", \"Topic10\", \"Topic10\", \"Topic10\", \"Topic10\", \"Topic10\", \"Topic10\", \"Topic10\", \"Topic10\", \"Topic10\", \"Topic10\", \"Topic10\", \"Topic10\", \"Topic10\", \"Topic10\", \"Topic10\", \"Topic10\", \"Topic10\", \"Topic10\", \"Topic10\", \"Topic10\", \"Topic10\", \"Topic10\", \"Topic10\", \"Topic10\", \"Topic10\", \"Topic10\", \"Topic10\", \"Topic10\", \"Topic10\", \"Topic10\", \"Topic10\", \"Topic10\", \"Topic10\", \"Topic10\", \"Topic10\", \"Topic10\", \"Topic10\", \"Topic10\", \"Topic10\", \"Topic10\", \"Topic10\", \"Topic10\", \"Topic10\", \"Topic10\", \"Topic10\", \"Topic10\", \"Topic10\", \"Topic10\", \"Topic10\", \"Topic10\", \"Topic10\", \"Topic10\", \"Topic10\", \"Topic10\"], \"logprob\": [30.0, 29.0, 28.0, 27.0, 26.0, 25.0, 24.0, 23.0, 22.0, 21.0, 20.0, 19.0, 18.0, 17.0, 16.0, 15.0, 14.0, 13.0, 12.0, 11.0, 10.0, 9.0, 8.0, 7.0, 6.0, 5.0, 4.0, 3.0, 2.0, 1.0, -4.5478, -4.6097, -4.6484, -4.6772, -4.8106, -4.9297, -4.9685, -5.0799, -5.1234, -5.143, -5.3025, -5.0109, -4.9801, -5.3553, -5.3878, -5.3903, -5.3991, -5.4131, -5.4148, -5.4213, -5.4251, -5.4967, -5.5008, -5.5008, -5.5505, -5.5539, -5.5849, -5.619, -5.6533, -5.7346, -4.4405, -4.7272, -4.412, -5.3853, -4.7624, -5.044, -5.0684, -4.9761, -4.6276, -4.8949, -4.767, -4.7393, -5.3348, -5.1405, -5.2202, -5.167, -5.3146, -5.2662, -4.9516, -5.0996, -5.1953, -5.2244, -5.2247, -5.2685, -5.3398, -5.3754, -5.383, -5.4023, -5.422, -5.4232, -5.4269, -5.4439, -5.4508, -5.4612, -5.483, -5.4843, -5.488, -5.515, -5.5278, -5.5694, -5.5819, -5.588, -5.6044, -5.6154, -5.6172, -5.6913, -5.7076, -5.7289, -4.5435, -5.3949, -4.4616, -4.3048, -4.7488, -4.3631, -5.2932, -5.2591, -5.3111, -4.9995, -5.0246, -5.3933, -5.3009, -5.4043, -5.2843, -5.3205, -5.3514, -5.3077, -5.4137, -4.0209, -4.2719, -4.3228, -4.5568, -4.6559, -4.7173, -4.7375, -4.7471, -4.7685, -4.7814, -4.8254, -4.8341, -4.8563, -4.8997, -4.9109, -4.9509, -4.9765, -5.0124, -5.0318, -5.0682, -5.0834, -5.0901, -5.1142, -5.1632, -5.1931, -5.2101, -5.2177, -5.2393, -5.2489, -5.2758, -4.5674, -4.9088, -4.3733, -4.673, -5.153, -3.5065, -3.5704, -3.6403, -3.785, -4.0751, -4.1128, -4.1374, -4.1469, -4.2027, -4.3322, -4.3408, -4.3609, -4.3759, -4.4056, -4.4446, -4.4721, -4.4832, -4.5766, -4.6039, -4.6577, -4.6765, -4.6844, -4.7526, -4.7864, -4.816, -4.826, -4.8487, -4.8833, -4.8948, -4.9033, -3.3581, -3.4919, -3.5094, -3.7647, -3.7775, -3.8416, -3.8608, -3.9467, -4.0176, -4.0433, -4.1561, -4.1577, -4.1885, -4.2516, -4.2526, -4.3027, -4.3285, -4.3558, -4.3742, -4.3899, -4.5447, -4.5445, -4.5563, -4.5833, -4.5866, -4.6064, -4.6372, -4.6542, -4.7163, -4.7524, -2.5833, -3.1021, -3.3643, -3.3969, -3.4544, -3.4575, -3.6335, -3.8256, -4.0128, -4.0425, -4.0742, -4.0796, -4.1738, -4.2038, -4.2209, -4.2931, -4.3221, -4.3238, -4.3344, -4.3427, -4.348, -4.4291, -4.4408, -4.5274, -4.534, -4.5387, -4.5676, -4.614, -4.6385, -4.6555, -3.1424, -3.1674, -3.3679, -3.4676, -3.4828, -3.6192, -3.6452, -3.6635, -3.7802, -3.8139, -3.8282, -3.8564, -3.9415, -3.9654, -3.9987, -4.0678, -4.2438, -4.2451, -4.3443, -4.3655, -4.3918, -4.5042, -4.5257, -4.6352, -4.6769, -4.7801, -4.7958, -4.8287, -4.8669, -4.8866, -2.8699, -3.181, -3.534, -3.7329, -3.8721, -3.8832, -3.9142, -4.0018, -4.0172, -4.1237, -4.1582, -4.1929, -4.216, -4.2287, -4.2395, -4.2512, -4.2667, -4.4207, -4.4275, -4.4318, -4.4447, -4.4677, -4.471, -4.4796, -4.5049, -4.5075, -4.5727, -4.7315, -4.7543, -4.7651, -2.8298, -2.9856, -3.1343, -3.464, -3.5057, -3.6638, -3.6653, -3.6848, -3.7084, -3.7303, -3.7618, -3.8872, -3.9105, -3.9438, -4.0285, -4.1064, -4.1665, -4.3767, -4.3974, -4.4888, -4.6685, -4.7559, -4.7796, -4.7919, -4.9538, -4.9585, -5.2162, -5.3878, -5.4385, -5.8313, -2.5295, -2.9018, -3.2608, -3.6712, -3.7242, -3.7404, -3.8916, -4.2077, -4.4468, -5.9537, -9.4647, -9.4647, -9.4647, -9.4647, -9.4647, -9.4647, -9.4647, -9.4647, -9.4647, -9.4647, -9.4647, -9.4647, -9.4647, -9.4647, -9.4647, -9.4647, -9.4647, -9.4647, -9.4647, -9.4647, -9.4647, -9.4647, -9.4647, -9.4647, -9.4647, -9.4612, -9.4631, -9.4646, -9.4647, -9.4647, -9.4647, -9.4647, -9.4647, -9.4647, -9.4626, -9.4579, -9.4647, -9.4647, -9.4647, -9.4647, -9.4559, -9.4643, -9.4647, -9.4436, -9.4515, -9.4614, -9.4639, -9.4646, -9.464, -9.4646, -9.4538, -9.4602, -9.4613, -9.4627, -9.4508, -9.4577, -9.4625, -9.4617, -9.4615, -9.4629, -9.4568, -9.4584, -9.459, -9.4489, -9.4557, -9.4605, -9.45, -9.4433, -9.437, -9.4463, -9.4404, -9.4436, -9.4442, -9.4453, -9.4456, -9.4231, -9.447, -9.4482, -9.4475, -9.4453, -9.4341, -9.438, -9.4431, -9.4364, -9.4431, -9.4241, -9.4388, -9.4429, -9.4432, -9.4391, -9.4412, -9.4409, -9.4263, -9.4214, -9.4225, -9.4322, -9.4395, -9.4354, -9.4368, -9.4374, -9.4358, -9.4402, -9.416, -9.4315, -9.432, -9.4367, -9.4361, -9.4341, -9.4336, -9.4353], \"loglift\": [30.0, 29.0, 28.0, 27.0, 26.0, 25.0, 24.0, 23.0, 22.0, 21.0, 20.0, 19.0, 18.0, 17.0, 16.0, 15.0, 14.0, 13.0, 12.0, 11.0, 10.0, 9.0, 8.0, 7.0, 6.0, 5.0, 4.0, 3.0, 2.0, 1.0, 0.966, 0.966, 0.966, 0.9659, 0.9658, 0.9657, 0.9656, 0.9655, 0.9654, 0.9654, 0.9651, 0.9651, 0.965, 0.965, 0.965, 0.9649, 0.9649, 0.9649, 0.9649, 0.9649, 0.9649, 0.9647, 0.9647, 0.9647, 0.9646, 0.9646, 0.9645, 0.9644, 0.9644, 0.9641, 0.9586, 0.938, 0.9271, 0.9481, 0.8138, 0.8432, 0.8469, 0.782, 0.6378, 0.7076, 0.5892, 0.5083, 0.8962, 0.5329, 0.3672, -0.1339, 0.5943, 0.1713, 1.0998, 1.0996, 1.0994, 1.0993, 1.0993, 1.0993, 1.0991, 1.099, 1.099, 1.099, 1.0989, 1.0989, 1.0989, 1.0989, 1.0989, 1.0988, 1.0988, 1.0988, 1.0988, 1.0987, 1.0987, 1.0986, 1.0985, 1.0985, 1.0985, 1.0984, 1.0984, 1.0982, 1.0982, 1.0981, 1.046, 1.0722, 0.9399, 0.7971, 0.8415, 0.6701, 0.9373, 0.8913, 0.8564, 0.5533, 0.522, 0.919, 0.617, 0.8588, 0.3032, 0.4664, 0.4914, -0.0601, -0.0574, 1.6646, 1.6643, 1.6642, 1.6639, 1.6637, 1.6636, 1.6636, 1.6635, 1.6635, 1.6635, 1.6634, 1.6634, 1.6633, 1.6632, 1.6632, 1.6631, 1.663, 1.6629, 1.6629, 1.6628, 1.6627, 1.6627, 1.6626, 1.6625, 1.6624, 1.6623, 1.6623, 1.6622, 1.6622, 1.6621, 1.3253, 1.4473, 1.0642, 0.9726, 0.612, 3.2232, 3.223, 3.2228, 3.2223, 3.221, 3.2208, 3.2207, 3.2207, 3.2204, 3.2196, 3.2195, 3.2194, 3.2193, 3.2191, 3.2188, 3.2186, 3.2185, 3.2178, 3.2175, 3.2171, 3.2169, 3.2168, 3.2162, 3.2158, 3.2155, 3.2154, 3.2152, 3.2148, 3.2147, 3.2146, 4.1869, 4.186, 4.1859, 4.1837, 4.1835, 4.1829, 4.1827, 4.1817, 4.1808, 4.1805, 4.1789, 4.1789, 4.1785, 4.1775, 4.1775, 4.1767, 4.1762, 4.1757, 4.1754, 4.1751, 4.1721, 4.1721, 4.1718, 4.1713, 4.1712, 4.1707, 4.17, 4.1696, 4.1681, 4.1672, 4.3472, 4.3448, 4.343, 4.3427, 4.3423, 4.3422, 4.3406, 4.3385, 4.3359, 4.3355, 4.335, 4.3349, 4.3334, 4.3328, 4.3325, 4.3312, 4.3306, 4.3306, 4.3304, 4.3302, 4.3301, 4.3283, 4.3281, 4.3261, 4.3259, 4.3258, 4.3251, 4.3239, 4.3232, 4.3227, 4.3883, 4.3881, 4.3867, 4.3858, 4.3857, 4.3843, 4.3841, 4.3839, 4.3825, 4.3821, 4.3819, 4.3815, 4.3804, 4.38, 4.3795, 4.3784, 4.3753, 4.3753, 4.3733, 4.3728, 4.3722, 4.3696, 4.369, 4.3661, 4.3649, 4.3617, 4.3611, 4.36, 4.3587, 4.358, 4.5878, 4.5856, 4.582, 4.5794, 4.5773, 4.5771, 4.5766, 4.575, 4.5747, 4.5726, 4.5719, 4.5711, 4.5706, 4.5703, 4.57, 4.5697, 4.5694, 4.5653, 4.5651, 4.565, 4.5646, 4.564, 4.5639, 4.5636, 4.5629, 4.5628, 4.5607, 4.5551, 4.5542, 4.5538, 5.0525, 5.051, 5.0492, 5.0442, 5.0435, 5.0403, 5.0403, 5.0398, 5.0393, 5.0388, 5.0381, 5.0349, 5.0343, 5.0334, 5.0309, 5.0284, 5.0263, 5.0182, 5.0173, 5.0131, 5.0037, 4.9986, 4.9971, 4.9963, 4.9852, 4.9849, 4.9632, 4.9458, 4.9401, 4.8863, 6.3489, 6.3368, 6.3204, 6.2933, 6.289, 6.2876, 6.2739, 6.2384, 6.2042, 5.7633, 2.9993, 2.9993, 2.9993, 2.9993, 2.9993, 2.9993, 2.9993, 2.9993, 2.9993, 2.9993, 2.9993, 2.9993, 2.9993, 2.9993, 2.9993, 2.9993, 2.9993, 2.9993, 2.9993, 2.9993, 2.9993, 2.9993, 2.9993, 2.9993, 2.9993, 2.9922, 2.9961, 2.9992, 2.9993, 2.9993, 2.9993, 2.9993, 2.9993, 2.9993, 2.9945, 2.9835, 2.9993, 2.9993, 2.9993, 2.9993, 2.9771, 2.9984, 2.9993, 2.9414, 2.9631, 2.9902, 2.9971, 2.999, 2.9974, 2.9992, 2.9683, 2.9864, 2.9897, 2.9938, 2.9581, 2.9786, 2.9928, 2.9902, 2.9895, 2.9941, 2.9747, 2.9795, 2.9811, 2.9464, 2.9689, 2.9858, 2.9488, 2.9235, 2.895, 2.9306, 2.9069, 2.9194, 2.9216, 2.9254, 2.9259, 2.8276, 2.9316, 2.9367, 2.9331, 2.9229, 2.867, 2.8846, 2.911, 2.8724, 2.91, 2.7968, 2.8811, 2.9059, 2.9076, 2.8752, 2.8912, 2.8885, 2.7547, 2.6945, 2.6998, 2.7916, 2.872, 2.8214, 2.8306, 2.8236, 2.788, 2.8678, 2.2521, 2.6457, 2.6578, 2.7717, 2.7033, 2.4919, 1.6749, 2.4604]}, \"token.table\": {\"Topic\": [9, 3, 9, 5, 8, 7, 8, 6, 1, 2, 6, 10, 2, 7, 8, 8, 2, 3, 1, 2, 3, 4, 9, 10, 4, 3, 5, 6, 10, 7, 7, 7, 9, 6, 5, 8, 10, 3, 3, 6, 3, 1, 7, 1, 6, 6, 7, 1, 2, 3, 9, 1, 2, 2, 3, 1, 4, 9, 9, 5, 4, 8, 3, 4, 3, 6, 9, 1, 2, 1, 2, 3, 2, 8, 6, 10, 9, 5, 1, 9, 5, 6, 10, 6, 2, 4, 4, 7, 7, 8, 9, 1, 7, 9, 4, 6, 1, 4, 1, 2, 4, 7, 5, 9, 4, 1, 1, 1, 3, 9, 7, 1, 2, 7, 2, 7, 5, 8, 1, 2, 8, 3, 6, 7, 8, 4, 4, 5, 2, 2, 6, 9, 1, 2, 4, 3, 8, 2, 6, 1, 6, 3, 5, 2, 3, 3, 1, 1, 2, 5, 5, 5, 4, 2, 3, 1, 2, 3, 1, 1, 2, 5, 1, 2, 6, 4, 3, 3, 1, 1, 2, 6, 7, 5, 7, 5, 2, 1, 4, 6, 10, 6, 5, 2, 2, 9, 8, 1, 2, 1, 1, 2, 5, 8, 8, 7, 5, 1, 2, 8, 1, 6, 4, 3, 4, 6, 3, 4, 2, 5, 8, 4, 1, 8, 5, 8, 5, 7, 2, 3, 4, 3, 9, 5, 5, 1, 1, 2, 7, 9, 1, 9, 7, 9, 1, 2, 2, 1, 2, 6, 10, 2, 7, 9, 9, 7, 10, 6, 4, 5, 3, 3, 1, 8, 9, 1, 2, 6, 1, 2, 4, 4, 3, 7, 2, 3, 6, 6, 3, 1, 1, 2, 7, 7, 7, 3, 5, 2, 1, 2, 7, 3, 6, 9, 4, 10, 2, 5, 1, 5, 4, 2, 4, 2, 8, 9, 8, 9, 5, 1, 3, 2, 8, 2, 1, 8, 6, 8, 9, 4, 1, 2, 3, 1, 1, 1, 2, 1, 2, 8, 8, 8, 5, 4, 7, 3, 1, 2, 1, 2, 1, 2, 6, 1, 2, 3, 7, 9, 8, 1, 2, 2, 3, 1, 2, 2, 8, 1, 1, 2, 1, 2, 9, 3, 1, 1, 2, 2, 9, 3], \"Freq\": [0.9751223969847378, 0.9957236277777249, 0.9523966216386031, 0.9847926932669008, 0.9518020420697016, 0.9803669033424409, 0.9608935810214695, 0.994487974943336, 0.21696307940084258, 0.7838666094482055, 0.9684128530438935, 0.5998370425295039, 0.9991223164035559, 0.9932361037246586, 0.9770611929288915, 0.9765074626975715, 0.9969194616761645, 0.9977842531515867, 0.36033913393133515, 0.29014319874990624, 0.3494197662364462, 0.9960622555214493, 0.9743573374267445, 0.9559549316062949, 0.9953996076010553, 0.9989956794941082, 0.9853290904964435, 0.9927078584427474, 0.8414901598270329, 0.9936907359803155, 0.9894124362332947, 0.9885878077113828, 0.9847136489677474, 0.9765812747327717, 0.9748087301021872, 0.9827266577756194, 0.8863462754248611, 0.998103368166294, 0.9969042748831567, 0.9818111755984491, 0.9980145125263071, 0.9967683361978342, 0.9947768018472966, 0.9986972650501168, 0.9787837127965667, 0.9791901534017742, 0.9762119073947982, 0.9921387321693054, 0.007573578108162637, 0.9989829017057592, 0.9412117268236735, 0.7193537913448086, 0.28016937136587283, 0.998243177888477, 0.9984094488232398, 0.9963068758199843, 0.9971293924823784, 0.9612633039094732, 0.959991985648878, 0.9805253537742497, 0.994180870154178, 0.987673722807767, 0.9954527074418714, 0.9952988548153048, 0.9984752579320323, 0.993109812534839, 0.9819797278822939, 0.14907158440851453, 0.8497080311285329, 0.1820767041281405, 0.7715336599386673, 0.04584665211859652, 0.9977580719244514, 0.9703152361017059, 0.995722802895925, 0.9212705696526863, 0.9588791825957882, 0.9851538481112156, 0.9975380470632426, 0.9830368271421006, 0.9860884092979647, 0.9640121047538014, 0.8732517232116959, 0.9979284133649764, 0.9984227872328995, 0.9907586172336132, 0.9905212716092858, 0.993988326571423, 0.9436527008497855, 0.9653111421847986, 0.9753262377162566, 0.9992566958980956, 0.9795461426912881, 0.9733815497806951, 0.9965737831138538, 0.9905002026095037, 0.9996948389844377, 0.9990467432494947, 0.8318857345561035, 0.16730662817888114, 0.993140220392, 0.9908261506092277, 0.9955894997527769, 0.883217069055815, 0.9922489623349753, 0.9981192296816017, 0.9960822679428151, 0.45084560905705284, 0.5475356898024557, 0.9855093881054825, 0.9860928895334786, 0.9712777723488151, 0.028234818963628346, 0.9949200209306063, 0.996275808979935, 0.9631759685230799, 0.9874370216864155, 0.992820124373876, 0.7716919901284501, 0.22806017577679283, 0.9824671002354988, 0.9964723978929896, 0.9801751838642359, 0.992398239587749, 0.9750764852302031, 0.9842190405587152, 0.9879178056074961, 0.9637278098802231, 0.998929527951306, 0.9967894719899437, 0.9889130728846436, 0.9684312028827591, 0.9322107766229616, 0.06711917591685324, 0.9936891681341109, 0.998914785642029, 0.9755453231156679, 0.9952193562449712, 0.9646753034260348, 0.9988064978484488, 0.9888980092436204, 0.9969631607062044, 0.9831731354248805, 0.9967212541011967, 0.9992361460384459, 0.9959857432968413, 0.9974624595446219, 0.5486089632386728, 0.4506430769460527, 0.9890204457099295, 0.9891224567894511, 0.9642909187931019, 0.9915463842752161, 0.19438539026955923, 0.8028961772003533, 0.33241959213664624, 0.6498315277434213, 0.017258805009351837, 0.9984529454821252, 0.2130726636495233, 0.7855450009247485, 0.9886072526736018, 0.028331733151499536, 0.9727228382014841, 0.9690696538536591, 0.9917286135557126, 0.9961679192198334, 0.9986590122239403, 0.998003035502659, 0.1880513649134236, 0.8095381928590065, 0.9918763415308046, 0.9590463243614262, 0.9956668729058908, 0.9970687239362362, 0.989855181903075, 0.9975868163216917, 0.9987800396053945, 0.9975440237296088, 0.9612141316529337, 0.8898074586723421, 0.9725370290921951, 0.9783944149930237, 0.9977882658141248, 0.997064372320658, 0.9023574495716368, 0.9681808994912453, 0.43886167725690967, 0.5604890563823961, 0.9992565396422546, 0.9608249125079221, 0.038718289157265155, 0.9931109041217371, 0.9763625393120137, 0.9849609495439742, 0.9504379031816548, 0.9862887392009865, 0.9975838911639187, 0.9968742867403727, 0.982620507784265, 0.9994869508179824, 0.9694833300784762, 0.9877625344494891, 0.9989606969133603, 0.9965425779916165, 0.9926810356647859, 0.9975233238330233, 0.9988467463550389, 0.998816924393084, 0.9852870793231272, 0.9779468689733214, 0.995230070169104, 0.9972944052576417, 0.9712213341627498, 0.9922232882665378, 0.9601030826501581, 0.9924002722608259, 0.9761229840926992, 0.9987829606838999, 0.6528266276796654, 0.9920837499932712, 0.9959325516622226, 0.9270851186027033, 0.9890679306541363, 0.9946853515206836, 0.9985413263871031, 0.4552659800240686, 0.5429468354361114, 0.9748698896878635, 0.980900654750861, 0.9983969784860204, 0.9728755073294924, 0.9950426072867761, 0.9438728644735224, 0.9987551046232631, 0.9966199519488262, 0.9991384429422276, 0.4687705394355586, 0.5293599288864131, 0.9874537096182288, 0.8262976834728621, 0.9957674929904943, 0.9856852612884679, 0.9121869667684227, 0.90230639440133, 0.9703886496458876, 0.982582520941384, 0.9750904124053533, 0.989270414882693, 0.989774032720187, 0.9966370114269633, 0.9986259649222253, 0.9979793824354353, 0.9864483716962259, 0.9673402565241032, 0.9984607622639142, 0.9991668693321534, 0.9715676614151378, 0.9978135304641247, 0.9982687172462588, 0.9956234835805913, 0.9959094662603486, 0.9972695634559998, 0.973743282523115, 0.9969129910664566, 0.9968529628436215, 0.9920194030886442, 0.9798927347208085, 0.9978371703395597, 0.9963368462176625, 0.3835447255796372, 0.6162164074478531, 0.9909500041186602, 0.9781596607845366, 0.9790163588579879, 0.9986404652533727, 0.9663709530048853, 0.9981564504895624, 0.16448896849763772, 0.8332310043568862, 0.9573553518786448, 0.9963220649408233, 0.987823509955923, 0.9629914789587539, 0.9962887191043958, 0.9357725777282501, 0.9968357943391317, 0.9969166886690316, 0.9991739310904758, 0.9851556912666468, 0.9892716337712648, 0.9970901464057992, 0.9906916229486664, 0.998592389863109, 0.9724889491683525, 0.9315069476285737, 0.983573917053266, 0.9479581946528661, 0.9799570410853105, 0.8831446687851121, 0.11457964764677103, 0.999306660274936, 0.9924953921386525, 0.9975539015140726, 0.999052828528793, 0.9918006618693953, 0.991780586960617, 0.9813807675190911, 0.9161732321092225, 0.9810929709385598, 0.40704488786343934, 0.09276193022738244, 0.4998068180908218, 0.9974224764976887, 0.9966995100627235, 0.6881371047017312, 0.3098418377191041, 0.8865190060465022, 0.11240118277072217, 0.9502066583010587, 0.9934859385618455, 0.9511252522161563, 0.990243464740922, 0.9946977198729059, 0.9616881298890615, 0.9961765049473484, 0.6851693806082585, 0.3140791563151321, 0.9804160133077993, 0.016523865392828078, 0.05235660741091458, 0.946345678952281, 0.9900674322281424, 0.6322977540241146, 0.31335932809724504, 0.05393127901970389, 0.9524462099919515, 0.9851113921202066, 0.9817602228367641, 0.6476732807486556, 0.3515940666921273, 0.2871351578833566, 0.7107481377236172, 0.1485838099893975, 0.8513743857056718, 0.9982473075337525, 0.9754365145422369, 0.9993871072044378, 0.2620426454466665, 0.7378992285890793, 0.42141126714813776, 0.5778633543528356, 0.9899608986700363, 0.9992737068188092, 0.9967464365903268, 0.8575629469558631, 0.14077464038883897, 0.998292855766831, 0.9936589442018918, 0.9962189161500106], \"Term\": [\"000\", \"100\", \"127\", \"2008\", \"2009\", \"2013\", \"__init__\", \"actual\", \"add\", \"add\", \"age\", \"allocator\", \"android\", \"angular\", \"animated\", \"animation\", \"answer\", \"api\", \"app\", \"app\", \"app\", \"appears\", \"architecture\", \"area\", \"args\", \"array\", \"ask\", \"asking\", \"asm\", \"assume\", \"async\", \"audio\", \"aware\", \"aws\", \"bash\", \"beta\", \"blob\", \"browser\", \"build\", \"calendar\", \"called\", \"case\", \"catch\", \"change\", \"changing\", \"checked\", \"circle\", \"class\", \"class\", \"client\", \"cluster\", \"code\", \"code\", \"column\", \"com\", \"command\", \"common\", \"communicate\", \"communication\", \"completion\", \"config\", \"considering\", \"console\", \"container\", \"content\", \"cookie\", \"corresponding\", \"create\", \"create\", \"data\", \"data\", \"data\", \"database\", \"dataframe\", \"date\", \"db\", \"dealing\", \"debugger\", \"default\", \"defined\", \"delete\", \"depth\", \"directive\", \"display\", \"div\", \"django\", \"docker\", \"documentation\", \"edge\", \"efficient\", \"enable\", \"end\", \"endpoint\", \"entire\", \"environment\", \"err\", \"error\", \"event\", \"example\", \"example\", \"exists\", \"expect\", \"experience\", \"exposed\", \"express\", \"false\", \"far\", \"file\", \"file\", \"firebase\", \"follow\", \"following\", \"following\", \"follows\", \"form\", \"fully\", \"fun\", \"func\", \"function\", \"function\", \"game\", \"google\", \"graph\", \"great\", \"ha\", \"happening\", \"happens\", \"hold\", \"html\", \"id\", \"identity\", \"ii\", \"image\", \"image\", \"img\", \"import\", \"indexpath\", \"input\", \"installation\", \"int\", \"integer\", \"io\", \"ipad\", \"item\", \"java\", \"json\", \"key\", \"know\", \"know\", \"laravel\", \"latest\", \"learn\", \"length\", \"let\", \"let\", \"like\", \"like\", \"like\", \"line\", \"list\", \"list\", \"llvm\", \"log\", \"log\", \"logged\", \"login\", \"long\", \"looking\", \"main\", \"make\", \"make\", \"math\", \"matlab\", \"matter\", \"maven\", \"maybe\", \"message\", \"method\", \"microsoft\", \"middle\", \"million\", \"min\", \"minute\", \"model\", \"module\", \"movie\", \"navigation\", \"need\", \"need\", \"net\", \"new\", \"new\", \"nil\", \"np\", \"nsarray\", \"nserror\", \"nslog\", \"null\", \"number\", \"numpy\", \"object\", \"occurred\", \"old\", \"open\", \"operation\", \"oracle\", \"org\", \"output\", \"page\", \"pair\", \"panda\", \"parent\", \"path\", \"pd\", \"perl\", \"picker\", \"piece\", \"playing\", \"point\", \"polymer\", \"position\", \"post\", \"preference\", \"pretty\", \"printf\", \"private\", \"problem\", \"problem\", \"processor\", \"profile\", \"project\", \"protocol\", \"provider\", \"provisioning\", \"public\", \"python\", \"query\", \"question\", \"question\", \"range\", \"reach\", \"read\", \"receive\", \"recommendation\", \"referred\", \"refresh\", \"register\", \"relative\", \"release\", \"remote\", \"request\", \"response\", \"result\", \"ret\", \"retrieve\", \"return\", \"right\", \"role\", \"run\", \"say\", \"schema\", \"screen\", \"script\", \"secret\", \"select\", \"self\", \"sending\", \"sent\", \"server\", \"service\", \"set\", \"set\", \"setup\", \"shape\", \"short\", \"simple\", \"simulator\", \"size\", \"solution\", \"solution\", \"sorting\", \"source\", \"special\", \"split\", \"sql\", \"sqlite\", \"start\", \"stop\", \"string\", \"subscribe\", \"successfully\", \"sure\", \"tab\", \"table\", \"tableview\", \"talk\", \"temp\", \"tensorflow\", \"term\", \"test\", \"test\", \"text\", \"theme\", \"think\", \"thread\", \"title\", \"today\", \"toolbar\", \"train\", \"transaction\", \"tried\", \"tried\", \"tried\", \"true\", \"try\", \"trying\", \"trying\", \"type\", \"type\", \"uicolor\", \"uiview\", \"uiviewcontroller\", \"undefined\", \"unique\", \"unix\", \"url\", \"use\", \"use\", \"used\", \"used\", \"user\", \"user\", \"username\", \"using\", \"using\", \"using\", \"utility\", \"val\", \"validator\", \"value\", \"value\", \"var\", \"var\", \"ve\", \"ve\", \"view\", \"viewdidload\", \"void\", \"want\", \"want\", \"way\", \"way\", \"wcf\", \"web\", \"window\", \"work\", \"work\", \"working\", \"wpf\", \"www\"]}, \"R\": 30, \"lambda.step\": 0.01, \"plot.opts\": {\"xlab\": \"PC1\", \"ylab\": \"PC2\"}, \"topic.order\": [9, 4, 3, 1, 2, 8, 5, 10, 7, 6]};\n",
       "\n",
       "function LDAvis_load_lib(url, callback){\n",
       "  var s = document.createElement('script');\n",
       "  s.src = url;\n",
       "  s.async = true;\n",
       "  s.onreadystatechange = s.onload = callback;\n",
       "  s.onerror = function(){console.warn(\"failed to load library \" + url);};\n",
       "  document.getElementsByTagName(\"head\")[0].appendChild(s);\n",
       "}\n",
       "\n",
       "if(typeof(LDAvis) !== \"undefined\"){\n",
       "   // already loaded: just create the visualization\n",
       "   !function(LDAvis){\n",
       "       new LDAvis(\"#\" + \"ldavis_el899251402301811206889502392872\", ldavis_el899251402301811206889502392872_data);\n",
       "   }(LDAvis);\n",
       "}else if(typeof define === \"function\" && define.amd){\n",
       "   // require.js is available: use it to load d3/LDAvis\n",
       "   require.config({paths: {d3: \"https://d3js.org/d3.v5\"}});\n",
       "   require([\"d3\"], function(d3){\n",
       "      window.d3 = d3;\n",
       "      LDAvis_load_lib(\"https://cdn.jsdelivr.net/gh/bmabey/pyLDAvis@3.4.0/pyLDAvis/js/ldavis.v3.0.0.js\", function(){\n",
       "        new LDAvis(\"#\" + \"ldavis_el899251402301811206889502392872\", ldavis_el899251402301811206889502392872_data);\n",
       "      });\n",
       "    });\n",
       "}else{\n",
       "    // require.js not available: dynamically load d3 & LDAvis\n",
       "    LDAvis_load_lib(\"https://d3js.org/d3.v5.js\", function(){\n",
       "         LDAvis_load_lib(\"https://cdn.jsdelivr.net/gh/bmabey/pyLDAvis@3.4.0/pyLDAvis/js/ldavis.v3.0.0.js\", function(){\n",
       "                 new LDAvis(\"#\" + \"ldavis_el899251402301811206889502392872\", ldavis_el899251402301811206889502392872_data);\n",
       "            })\n",
       "         });\n",
       "}\n",
       "</script>"
      ],
      "text/plain": [
       "PreparedData(topic_coordinates=              x         y  topics  cluster       Freq\n",
       "topic                                                \n",
       "8     -0.303965 -0.297015       1        1  38.026570\n",
       "3      0.068115 -0.446536       2        1  33.246386\n",
       "2     -0.443065  0.046280       3        1  18.907944\n",
       "0     -0.188773  0.395131       4        1   3.971293\n",
       "1      0.333772 -0.142528       5        1   1.509269\n",
       "7      0.339397  0.122963       6        1   1.289681\n",
       "4      0.161162  0.311392       7        1   1.234095\n",
       "9      0.014175 -0.149114       8        1   1.011319\n",
       "6     -0.057564  0.125347       9        1   0.633256\n",
       "5      0.076746  0.034080      10        1   0.170186, topic_info=            Term        Freq       Total Category  logprob  loglift\n",
       "471          com  694.000000  694.000000  Default  30.0000  30.0000\n",
       "49        server  540.000000  540.000000  Default  29.0000  29.0000\n",
       "367         date  199.000000  199.000000  Default  28.0000  28.0000\n",
       "67          java  513.000000  513.000000  Default  27.0000  27.0000\n",
       "58         class  924.000000  924.000000  Default  26.0000  26.0000\n",
       "...          ...         ...         ...      ...      ...      ...\n",
       "8663    difftool    0.027746    1.019840  Topic10  -9.4367   2.7717\n",
       "9044  routerlink    0.027765    1.092757  Topic10  -9.4361   2.7033\n",
       "8672        6379    0.027820    1.352736  Topic10  -9.4341   2.4919\n",
       "1408     polymer    0.027832    3.063601  Topic10  -9.4336   1.6749\n",
       "8634         lan    0.027785    1.394309  Topic10  -9.4353   2.4604\n",
       "\n",
       "[462 rows x 6 columns], token_table=      Topic      Freq     Term\n",
       "term                          \n",
       "2088      9  0.975122      000\n",
       "1958      3  0.995724      100\n",
       "6307      9  0.952397      127\n",
       "1083      5  0.984793     2008\n",
       "4155      8  0.951802     2009\n",
       "...     ...       ...      ...\n",
       "98        1  0.857563     work\n",
       "98        2  0.140775     work\n",
       "460       2  0.998293  working\n",
       "131       9  0.993659      wpf\n",
       "3279      3  0.996219      www\n",
       "\n",
       "[360 rows x 3 columns], R=30, lambda_step=0.01, plot_opts={'xlab': 'PC1', 'ylab': 'PC2'}, topic_order=[9, 4, 3, 1, 2, 8, 5, 10, 7, 6])"
      ]
     },
     "execution_count": 28,
     "metadata": {},
     "output_type": "execute_result"
    }
   ],
   "source": [
    "pyLDAvis.enable_notebook()\n",
    "vis = pyLDAvis.gensim.prepare(lda_model_text_ctf, gensim_corpus_text_ctf, id2word_text_ctf, mds=\"mmds\", R=30)\n",
    "vis"
   ]
  },
  {
   "cell_type": "code",
   "execution_count": 29,
   "metadata": {},
   "outputs": [
    {
     "data": {
      "text/plain": [
       "0.3242731928676607"
      ]
     },
     "execution_count": 29,
     "metadata": {},
     "output_type": "execute_result"
    }
   ],
   "source": [
    "CoherenceModel(model=lda_model_text_ctf, texts=converted_text_ctf, dictionary=id2word_text_ctf, coherence='c_v').get_coherence()"
   ]
  },
  {
   "cell_type": "code",
   "execution_count": null,
   "metadata": {},
   "outputs": [],
   "source": []
  },
  {
   "cell_type": "code",
   "execution_count": null,
   "metadata": {},
   "outputs": [],
   "source": []
  },
  {
   "cell_type": "code",
   "execution_count": 30,
   "metadata": {},
   "outputs": [
    {
     "data": {
      "text/plain": [
       "'lda_models_title_cv = {}  # Initialise un dictionnaire vide.\\n\\nfor i in range(5, 25):\\n    lda_model_title_cv = gensim.models.ldamodel.LdaModel(corpus=gensim_corpus_title_cv,\\n                                                id2word=id2word_title_cv,\\n                                                num_topics=i,\\n                                                random_state=100,\\n                                                update_every=1,\\n                                                chunksize=100,\\n                                                passes=10,\\n                                                alpha=\"auto\")\\n\\n    # Enregistre le modèle dans le dictionnaire avec le nombre de sujets comme clé\\n    lda_models_title_cv[i] = lda_model_title_cv\\n    lda_model_title_cv.save(\\'models/lda_model_title_cv_{}.model\\'.format(i))'"
      ]
     },
     "execution_count": 30,
     "metadata": {},
     "output_type": "execute_result"
    }
   ],
   "source": [
    "\"\"\"lda_models_title_cv = {}  # Initialise un dictionnaire vide.\n",
    "\n",
    "for i in range(5, 25):\n",
    "    lda_model_title_cv = gensim.models.ldamodel.LdaModel(corpus=gensim_corpus_title_cv,\n",
    "                                                id2word=id2word_title_cv,\n",
    "                                                num_topics=i,\n",
    "                                                random_state=100,\n",
    "                                                update_every=1,\n",
    "                                                chunksize=100,\n",
    "                                                passes=10,\n",
    "                                                alpha=\"auto\")\n",
    "\n",
    "    # Enregistre le modèle dans le dictionnaire avec le nombre de sujets comme clé\n",
    "    lda_models_title_cv[i] = lda_model_title_cv\n",
    "    lda_model_title_cv.save('models/lda_model_title_cv_{}.model'.format(i))\"\"\""
   ]
  },
  {
   "cell_type": "code",
   "execution_count": 31,
   "metadata": {},
   "outputs": [
    {
     "name": "stdout",
     "output_type": "stream",
     "text": [
      "Num Topics = 5  has Coherence Value of 0.2152\n",
      "Num Topics = 6  has Coherence Value of 0.2375\n",
      "Num Topics = 7  has Coherence Value of 0.2429\n",
      "Num Topics = 8  has Coherence Value of 0.2501\n",
      "Num Topics = 9  has Coherence Value of 0.2732\n",
      "Num Topics = 10  has Coherence Value of 0.2904\n",
      "Num Topics = 11  has Coherence Value of 0.3137\n",
      "Num Topics = 12  has Coherence Value of 0.3227\n",
      "Num Topics = 13  has Coherence Value of 0.3294\n",
      "Num Topics = 14  has Coherence Value of 0.3544\n",
      "Num Topics = 15  has Coherence Value of 0.3415\n",
      "Num Topics = 16  has Coherence Value of 0.4001\n",
      "Num Topics = 17  has Coherence Value of 0.4249\n",
      "Num Topics = 18  has Coherence Value of 0.4211\n",
      "Num Topics = 19  has Coherence Value of 0.3907\n",
      "Num Topics = 20  has Coherence Value of 0.3898\n",
      "Num Topics = 21  has Coherence Value of 0.3875\n",
      "Num Topics = 22  has Coherence Value of 0.3967\n",
      "Num Topics = 23  has Coherence Value of 0.4254\n",
      "Num Topics = 24  has Coherence Value of 0.3854\n"
     ]
    }
   ],
   "source": [
    "#load model from disk\n",
    "lda_model_title_cv = {}\n",
    "for i in range(5, 25):\n",
    "      lda_model_title_cv[i] = gensim.models.ldamodel.LdaModel.load('models/lda_model_title_cv_{}.model'.format(i))\n",
    "\n",
    "coherence_values_title_cv = {}\n",
    "for i in range(5, 25):\n",
    "      coherence_values_title_cv[i] = CoherenceModel(model=lda_model_title_cv[i], texts=converted_title_cv, dictionary=id2word_title_cv, coherence='c_v').get_coherence()\n",
    "\n",
    "for m, cv in coherence_values_title_cv.items():\n",
    "    print(\"Num Topics =\", m, \" has Coherence Value of\", round(cv, 4))"
   ]
  },
  {
   "cell_type": "code",
   "execution_count": 32,
   "metadata": {},
   "outputs": [
    {
     "data": {
      "image/png": "[encoded data removed]",
      "text/plain": [
       "<Figure size 640x480 with 1 Axes>"
      ]
     },
     "metadata": {},
     "output_type": "display_data"
    }
   ],
   "source": [
    "# Show graph\n",
    "limit=25; start=5; step=1;\n",
    "x = range(start, limit, step)\n",
    "plt.plot(x, list(coherence_values_title_cv.values()))\n",
    "plt.xlabel(\"Num Topics\")\n",
    "plt.ylabel(\"Coherence score\")\n",
    "plt.legend((\"coherence_values\"), loc='best')\n",
    "plt.show()"
   ]
  },
  {
   "cell_type": "code",
   "execution_count": null,
   "metadata": {},
   "outputs": [],
   "source": []
  },
  {
   "cell_type": "code",
   "execution_count": 33,
   "metadata": {},
   "outputs": [
    {
     "data": {
      "text/plain": [
       "'lda_models_title_ctf = {}  # Initialise un dictionnaire vide.\\n\\nfor i in range(5, 25):\\n      lda_model_title_ctf = gensim.models.ldamodel.LdaModel(corpus=gensim_corpus_title_ctf,\\n                                                      id2word=id2word_title_ctf,\\n                                                      num_topics=i,\\n                                                      random_state=100,\\n                                                      update_every=1,\\n                                                      chunksize=100,\\n                                                      passes=10,\\n                                                      alpha=\"auto\")\\n      \\n      # Enregistre le modèle dans le dictionnaire avec le nombre de sujets comme clé\\n      lda_models_title_ctf[i] = lda_model_title_ctf\\n      lda_model_title_ctf.save(\\'models/lda_model_title_ctf_{}.model\\'.format(i))'"
      ]
     },
     "execution_count": 33,
     "metadata": {},
     "output_type": "execute_result"
    }
   ],
   "source": [
    "\"\"\"lda_models_title_ctf = {}  # Initialise un dictionnaire vide.\n",
    "\n",
    "for i in range(5, 25):\n",
    "      lda_model_title_ctf = gensim.models.ldamodel.LdaModel(corpus=gensim_corpus_title_ctf,\n",
    "                                                      id2word=id2word_title_ctf,\n",
    "                                                      num_topics=i,\n",
    "                                                      random_state=100,\n",
    "                                                      update_every=1,\n",
    "                                                      chunksize=100,\n",
    "                                                      passes=10,\n",
    "                                                      alpha=\"auto\")\n",
    "      \n",
    "      # Enregistre le modèle dans le dictionnaire avec le nombre de sujets comme clé\n",
    "      lda_models_title_ctf[i] = lda_model_title_ctf\n",
    "      lda_model_title_ctf.save('models/lda_model_title_ctf_{}.model'.format(i))\"\"\""
   ]
  },
  {
   "cell_type": "code",
   "execution_count": 34,
   "metadata": {},
   "outputs": [
    {
     "name": "stdout",
     "output_type": "stream",
     "text": [
      "Num Topics = 5  has Coherence Value of 0.2194\n",
      "Num Topics = 6  has Coherence Value of 0.284\n",
      "Num Topics = 7  has Coherence Value of 0.2557\n",
      "Num Topics = 8  has Coherence Value of 0.2945\n",
      "Num Topics = 9  has Coherence Value of 0.3622\n",
      "Num Topics = 10  has Coherence Value of 0.3086\n",
      "Num Topics = 11  has Coherence Value of 0.352\n",
      "Num Topics = 12  has Coherence Value of 0.3588\n",
      "Num Topics = 13  has Coherence Value of 0.3515\n",
      "Num Topics = 14  has Coherence Value of 0.3592\n",
      "Num Topics = 15  has Coherence Value of 0.4441\n",
      "Num Topics = 16  has Coherence Value of 0.4528\n",
      "Num Topics = 17  has Coherence Value of 0.4084\n",
      "Num Topics = 18  has Coherence Value of 0.3731\n",
      "Num Topics = 19  has Coherence Value of 0.3673\n",
      "Num Topics = 20  has Coherence Value of 0.3889\n",
      "Num Topics = 21  has Coherence Value of 0.3417\n",
      "Num Topics = 22  has Coherence Value of 0.3528\n",
      "Num Topics = 23  has Coherence Value of 0.3552\n",
      "Num Topics = 24  has Coherence Value of 0.3375\n"
     ]
    }
   ],
   "source": [
    "#load model from disk\n",
    "lda_model_title_ctf = {}\n",
    "for i in range(5, 25):\n",
    "      lda_model_title_ctf[i] = gensim.models.ldamodel.LdaModel.load('models/lda_model_title_ctf_{}.model'.format(i))\n",
    "\n",
    "coherence_values_title_ctf = {}\n",
    "for i in range(5, 25):\n",
    "      coherence_values_title_ctf[i] = CoherenceModel(model=lda_model_title_ctf[i], texts=converted_title_ctf, dictionary=id2word_title_ctf, coherence='c_v').get_coherence()\n",
    "\n",
    "for m, cv in coherence_values_title_ctf.items():\n",
    "      print(\"Num Topics =\", m, \" has Coherence Value of\", round(cv, 4))"
   ]
  },
  {
   "cell_type": "code",
   "execution_count": 35,
   "metadata": {},
   "outputs": [
    {
     "data": {
      "image/png": "[encoded data removed]",
      "text/plain": [
       "<Figure size 640x480 with 1 Axes>"
      ]
     },
     "metadata": {},
     "output_type": "display_data"
    }
   ],
   "source": [
    "# Show graph\n",
    "limit=25; start=5; step=1;\n",
    "x = range(start, limit, step)\n",
    "plt.plot(x, list(coherence_values_title_ctf.values()))\n",
    "plt.xlabel(\"Num Topics\")\n",
    "plt.ylabel(\"Coherence score\")\n",
    "plt.legend((\"coherence_values\"), loc='best')\n",
    "plt.show()"
   ]
  },
  {
   "cell_type": "code",
   "execution_count": null,
   "metadata": {},
   "outputs": [],
   "source": []
  },
  {
   "cell_type": "code",
   "execution_count": null,
   "metadata": {},
   "outputs": [],
   "source": []
  },
  {
   "cell_type": "code",
   "execution_count": 36,
   "metadata": {},
   "outputs": [
    {
     "data": {
      "text/plain": [
       "'lda_models_text_cv = {}  # Initialise un dictionnaire vide.\\n\\nfor i in range(5, 25):\\n    lda_model_text_cv = gensim.models.ldamodel.LdaModel(corpus=gensim_corpus_text_cv,\\n                                                id2word=id2word_text_cv,\\n                                                num_topics=i,\\n                                                random_state=100,\\n                                                update_every=1,\\n                                                chunksize=100,\\n                                                passes=10,\\n                                                alpha=\"auto\")\\n\\n    # Enregistre le modèle dans le dictionnaire avec le nombre de sujets comme clé\\n    lda_models_text_cv[i] = lda_model_text_cv\\n    lda_model_text_cv.save(\\'models/lda_model_text_cv_{}.model\\'.format(i))'"
      ]
     },
     "execution_count": 36,
     "metadata": {},
     "output_type": "execute_result"
    }
   ],
   "source": [
    "\"\"\"lda_models_text_cv = {}  # Initialise un dictionnaire vide.\n",
    "\n",
    "for i in range(5, 25):\n",
    "    lda_model_text_cv = gensim.models.ldamodel.LdaModel(corpus=gensim_corpus_text_cv,\n",
    "                                                id2word=id2word_text_cv,\n",
    "                                                num_topics=i,\n",
    "                                                random_state=100,\n",
    "                                                update_every=1,\n",
    "                                                chunksize=100,\n",
    "                                                passes=10,\n",
    "                                                alpha=\"auto\")\n",
    "\n",
    "    # Enregistre le modèle dans le dictionnaire avec le nombre de sujets comme clé\n",
    "    lda_models_text_cv[i] = lda_model_text_cv\n",
    "    lda_model_text_cv.save('models/lda_model_text_cv_{}.model'.format(i))\"\"\""
   ]
  },
  {
   "cell_type": "code",
   "execution_count": 37,
   "metadata": {},
   "outputs": [],
   "source": [
    "#load models from disk\n",
    "lda_models_text_cv = {}\n",
    "for i in range(5, 25):\n",
    "      lda_models_text_cv[i] = gensim.models.ldamodel.LdaModel.load('models/lda_model_text_cv_{}.model'.format(i))"
   ]
  },
  {
   "cell_type": "code",
   "execution_count": 38,
   "metadata": {},
   "outputs": [],
   "source": [
    "coherence_values_text_cv = []\n",
    "for i in range(5, 25):\n",
    "      model = lda_models_text_cv[i]\n",
    "      coherence_model = CoherenceModel(model=model, texts=converted_text_cv, dictionary=id2word_text_cv, coherence='c_v')\n",
    "      coherence_values_text_cv.append(coherence_model.get_coherence())"
   ]
  },
  {
   "cell_type": "code",
   "execution_count": 39,
   "metadata": {},
   "outputs": [
    {
     "name": "stdout",
     "output_type": "stream",
     "text": [
      "Num Topics = 5 has Coherence Value of 0.5055\n",
      "Num Topics = 6 has Coherence Value of 0.5215\n",
      "Num Topics = 7 has Coherence Value of 0.5002\n",
      "Num Topics = 8 has Coherence Value of 0.5669\n",
      "Num Topics = 9 has Coherence Value of 0.5229\n",
      "Num Topics = 10 has Coherence Value of 0.5527\n",
      "Num Topics = 11 has Coherence Value of 0.5377\n",
      "Num Topics = 12 has Coherence Value of 0.5235\n",
      "Num Topics = 13 has Coherence Value of 0.5478\n",
      "Num Topics = 14 has Coherence Value of 0.5123\n",
      "Num Topics = 15 has Coherence Value of 0.5284\n",
      "Num Topics = 16 has Coherence Value of 0.55\n",
      "Num Topics = 17 has Coherence Value of 0.5046\n",
      "Num Topics = 18 has Coherence Value of 0.5071\n",
      "Num Topics = 19 has Coherence Value of 0.513\n",
      "Num Topics = 20 has Coherence Value of 0.4887\n",
      "Num Topics = 21 has Coherence Value of 0.5078\n",
      "Num Topics = 22 has Coherence Value of 0.4898\n",
      "Num Topics = 23 has Coherence Value of 0.4779\n",
      "Num Topics = 24 has Coherence Value of 0.4832\n"
     ]
    }
   ],
   "source": [
    "for m, cv in zip(range(5, 25), coherence_values_text_cv):\n",
    "      print(\"Num Topics =\", m, \"has Coherence Value of\", round(cv, 4))"
   ]
  },
  {
   "cell_type": "code",
   "execution_count": 40,
   "metadata": {},
   "outputs": [
    {
     "data": {
      "image/png": "[encoded data removed]",
      "text/plain": [
       "<Figure size 640x480 with 1 Axes>"
      ]
     },
     "metadata": {},
     "output_type": "display_data"
    }
   ],
   "source": [
    "#plot coherence score\n",
    "x = range(5, 25)\n",
    "plt.plot(x, coherence_values_text_cv)\n",
    "plt.xlabel(\"Num Topics\")\n",
    "plt.ylabel(\"Coherence score\")\n",
    "plt.legend((\"coherence_values\"), loc='best')\n",
    "plt.show()"
   ]
  },
  {
   "cell_type": "code",
   "execution_count": null,
   "metadata": {},
   "outputs": [],
   "source": []
  },
  {
   "cell_type": "code",
   "execution_count": 41,
   "metadata": {},
   "outputs": [
    {
     "data": {
      "text/plain": [
       "'lda_models_text_ctf = {}  # Initialise un dictionnaire vide.\\n\\nfor i in range(5, 25):\\n    lda_model_text_ctf = gensim.models.ldamodel.LdaModel(corpus=gensim_corpus_text_ctf,\\n                                                id2word=id2word_text_ctf,\\n                                                num_topics=i,\\n                                                random_state=100,\\n                                                update_every=1,\\n                                                chunksize=100,\\n                                                passes=10,\\n                                                alpha=\"auto\")\\n\\n    # Enregistre le modèle dans le dictionnaire avec le nombre de sujets comme clé\\n    lda_models_text_ctf[i] = lda_model_text_ctf\\n    lda_model_text_ctf.save(\\'models/lda_model_text_ctf_{}.model\\'.format(i))'"
      ]
     },
     "execution_count": 41,
     "metadata": {},
     "output_type": "execute_result"
    }
   ],
   "source": [
    "\"\"\"lda_models_text_ctf = {}  # Initialise un dictionnaire vide.\n",
    "\n",
    "for i in range(5, 25):\n",
    "    lda_model_text_ctf = gensim.models.ldamodel.LdaModel(corpus=gensim_corpus_text_ctf,\n",
    "                                                id2word=id2word_text_ctf,\n",
    "                                                num_topics=i,\n",
    "                                                random_state=100,\n",
    "                                                update_every=1,\n",
    "                                                chunksize=100,\n",
    "                                                passes=10,\n",
    "                                                alpha=\"auto\")\n",
    "\n",
    "    # Enregistre le modèle dans le dictionnaire avec le nombre de sujets comme clé\n",
    "    lda_models_text_ctf[i] = lda_model_text_ctf\n",
    "    lda_model_text_ctf.save('models/lda_model_text_ctf_{}.model'.format(i))\"\"\""
   ]
  },
  {
   "cell_type": "code",
   "execution_count": 42,
   "metadata": {},
   "outputs": [
    {
     "name": "stdout",
     "output_type": "stream",
     "text": [
      "Num Topics = 5 has Coherence Value of 0.3401\n",
      "Num Topics = 6 has Coherence Value of 0.3482\n",
      "Num Topics = 7 has Coherence Value of 0.2919\n",
      "Num Topics = 8 has Coherence Value of 0.3952\n",
      "Num Topics = 9 has Coherence Value of 0.2927\n",
      "Num Topics = 10 has Coherence Value of 0.3243\n",
      "Num Topics = 11 has Coherence Value of 0.2912\n",
      "Num Topics = 12 has Coherence Value of 0.2858\n",
      "Num Topics = 13 has Coherence Value of 0.3047\n",
      "Num Topics = 14 has Coherence Value of 0.29\n",
      "Num Topics = 15 has Coherence Value of 0.2579\n",
      "Num Topics = 16 has Coherence Value of 0.2711\n",
      "Num Topics = 17 has Coherence Value of 0.2845\n",
      "Num Topics = 18 has Coherence Value of 0.2776\n",
      "Num Topics = 19 has Coherence Value of 0.2692\n",
      "Num Topics = 20 has Coherence Value of 0.267\n",
      "Num Topics = 21 has Coherence Value of 0.2799\n",
      "Num Topics = 22 has Coherence Value of 0.2831\n",
      "Num Topics = 23 has Coherence Value of 0.2665\n",
      "Num Topics = 24 has Coherence Value of 0.2738\n"
     ]
    },
    {
     "data": {
      "image/png": "[encoded data removed]",
      "text/plain": [
       "<Figure size 640x480 with 1 Axes>"
      ]
     },
     "metadata": {},
     "output_type": "display_data"
    }
   ],
   "source": [
    "#load models from disk\n",
    "lda_models_text_ctf = {}\n",
    "for i in range(5, 25):\n",
    "      lda_models_text_ctf[i] = gensim.models.ldamodel.LdaModel.load('models/lda_model_text_ctf_{}.model'.format(i))\n",
    "\n",
    "\n",
    "coherence_values_text_ctf = []\n",
    "for i in range(5, 25):\n",
    "      model = lda_models_text_ctf[i]\n",
    "      coherence_model = CoherenceModel(model=model, texts=converted_text_ctf, dictionary=id2word_text_ctf, coherence='c_v')\n",
    "      coherence_values_text_ctf.append(coherence_model.get_coherence())\n",
    "\n",
    "\n",
    "for m, cv in zip(range(5, 25), coherence_values_text_ctf):\n",
    "      print(\"Num Topics =\", m, \"has Coherence Value of\", round(cv, 4))\n",
    "\n",
    "\n",
    "\n",
    "#plot coherence score\n",
    "x = range(5, 25)\n",
    "plt.plot(x, coherence_values_text_ctf)\n",
    "plt.xlabel(\"Num Topics\")\n",
    "plt.ylabel(\"Coherence score\")\n",
    "plt.legend((\"coherence_values\"), loc='best')\n",
    "plt.show()"
   ]
  },
  {
   "cell_type": "code",
   "execution_count": null,
   "metadata": {},
   "outputs": [],
   "source": []
  },
  {
   "cell_type": "code",
   "execution_count": null,
   "metadata": {},
   "outputs": [],
   "source": []
  },
  {
   "cell_type": "code",
   "execution_count": 43,
   "metadata": {},
   "outputs": [],
   "source": [
    "lda_model = lda_models_text_cv[8]"
   ]
  },
  {
   "cell_type": "code",
   "execution_count": 44,
   "metadata": {},
   "outputs": [
    {
     "data": {
      "text/html": [
       "\n",
       "<link rel=\"stylesheet\" type=\"text/css\" href=\"https://cdn.jsdelivr.net/gh/bmabey/pyLDAvis@3.4.0/pyLDAvis/js/ldavis.v1.0.0.css\">\n",
       "\n",
       "\n",
       "<div id=\"ldavis_el899251402370540437288291247535\" style=\"background-color:white;\"></div>\n",
       "<script type=\"text/javascript\">\n",
       "\n",
       "var ldavis_el899251402370540437288291247535_data = {\"mdsDat\": {\"x\": [0.03451012009799381, 0.17523565336123562, 0.1725225692467091, 0.00892909881474983, -0.14626105434873635, 0.2389769096828975, -0.1884262037509842, -0.29548709310386406], \"y\": [0.12973307304236426, 0.03360547300462506, -0.05642943137719634, 0.26999139868289335, 0.11219838970625978, -0.19794503236619795, -0.2368659040579245, -0.054287966634823694], \"topics\": [1, 2, 3, 4, 5, 6, 7, 8], \"cluster\": [1, 1, 1, 1, 1, 1, 1, 1], \"Freq\": [25.687626149685865, 13.371217437550111, 13.03468968357594, 11.025653927263312, 9.744047531384709, 9.698978336971484, 9.230327810334316, 8.207459123234246]}, \"tinfo\": {\"Term\": [\"java\", \"file\", \"org\", \"android\", \"string\", \"class\", \"public\", \"data\", \"user\", \"function\", \"new\", \"int\", \"app\", \"return\", \"server\", \"com\", \"image\", \"object\", \"view\", \"self\", \"request\", \"way\", \"error\", \"method\", \"value\", \"text\", \"lib\", \"like\", \"jar\", \"client\", \"way\", \"question\", \"possible\", \"answer\", \"thing\", \"memory\", \"say\", \"really\", \"think\", \"looking\", \"target\", \"mean\", \"language\", \"good\", \"better\", \"doe\", \"best\", \"similar\", \"actually\", \"difference\", \"performance\", \"gcc\", \"sort\", \"operation\", \"thought\", \"tree\", \"real\", \"kind\", \"large\", \"word\", \"different\", \"time\", \"solution\", \"specific\", \"know\", \"based\", \"far\", \"make\", \"need\", \"like\", \"used\", \"ve\", \"use\", \"using\", \"problem\", \"want\", \"work\", \"example\", \"code\", \"window\", \"number\", \"application\", \"able\", \"case\", \"write\", \"project\", \"look\", \"set\", \"change\", \"run\", \"tried\", \"table\", \"php\", \"database\", \"date\", \"crypto\", \"query\", \"column\", \"select\", \"sql\", \"py\", \"javascript\", \"hibernate\", \"openssl\", \"email\", \"token\", \"django\", \"val\", \"record\", \"insert\", \"delete\", \"define\", \"profile\", \"head\", \"account\", \"mobile\", \"join\", \"certificate\", \"oracle\", \"tab\", \"drop\", \"form\", \"datetime\", \"user\", \"data\", \"group\", \"key\", \"action\", \"asp\", \"row\", \"mysql\", \"page\", \"field\", \"post\", \"value\", \"update\", \"function\", \"type\", \"index\", \"create\", \"using\", \"result\", \"string\", \"public\", \"private\", \"model\", \"dependency\", \"factory\", \"maven\", \"bean\", \"constructor\", \"catch\", \"async\", \"boolean\", \"obj\", \"generic\", \"mock\", \"validation\", \"tostring\", \"col\", \"protected\", \"endpoint\", \"typeof\", \"params\", \"laravel\", \"writeline\", \"files\", \"appdata\", \"implicit\", \"assert\", \"inject\", \"derived\", \"unit\", \"class\", \"object\", \"entity\", \"static\", \"new\", \"method\", \"property\", \"throw\", \"exception\", \"null\", \"extends\", \"return\", \"void\", \"list\", \"context\", \"base\", \"type\", \"value\", \"add\", \"test\", \"true\", \"var\", \"false\", \"instance\", \"import\", \"int\", \"set\", \"code\", \"android\", \"image\", \"view\", \"div\", \"width\", \"color\", \"button\", \"style\", \"height\", \"title\", \"click\", \"label\", \"screen\", \"layout\", \"activity\", \"parent\", \"intent\", \"defined\", \"img\", \"font\", \"menu\", \"widget\", \"iphone\", \"png\", \"alert\", \"notification\", \"href\", \"dialog\", \"firebase\", \"canvas\", \"text\", \"background\", \"device\", \"cs\", \"html\", \"item\", \"jquery\", \"id\", \"app\", \"content\", \"document\", \"com\", \"class\", \"child\", \"page\", \"var\", \"element\", \"size\", \"true\", \"request\", \"client\", \"response\", \"session\", \"port\", \"52\", \"socket\", \"react\", \"host\", \"authentication\", \"route\", \"remote\", \"webpack\", \"auth\", \"export\", \"env\", \"cookie\", \"req\", \"parser\", \"credential\", \"protocol\", \"redis\", \"tcp\", \"127\", \"wcf\", \"router\", \"awt\", \"websocket\", \"cloud\", \"sinatra\", \"connection\", \"login\", \"localhost\", \"log\", \"http\", \"service\", \"js\", \"send\", \"url\", \"server\", \"api\", \"xxx\", \"message\", \"logging\", \"json\", \"console\", \"app\", \"component\", \"web\", \"config\", \"error\", \"com\", \"application\", \"access\", \"var\", \"true\", \"self\", \"std\", \"event\", \"foo\", \"double\", \"frame\", \"vector\", \"struct\", \"video\", \"pointer\", \"char\", \"float\", \"buffer\", \"position\", \"operator\", \"angular\", \"swift\", \"game\", \"report\", \"ubuntu\", \"audio\", \"identifier\", \"declaration\", \"delegate\", \"queue\", \"flag\", \"animation\", \"draw\", \"play\", \"math\", \"array\", \"255\", \"byte\", \"int\", \"template\", \"function\", \"const\", \"func\", \"size\", \"cell\", \"let\", \"return\", \"main\", \"void\", \"include\", \"value\", \"print\", \"type\", \"code\", \"error\", \"data\", \"lib\", \"python\", \"command\", \"00\", \"npm\", \"usr\", \"bin\", \"gem\", \"install\", \"15\", \"err\", \"linux\", \"ruby\", \"12\", \"node_modules\", \"nil\", \"loader\", \"numpy\", \"express\", \"13\", \"dylib\", \"04\", \"sum\", \"kernel\", \"pip\", \"np\", \"2008\", \"python3\", \"txt\", \"ssh\", \"2013\", \"directory\", \"exit\", \"file\", \"installed\", \"node\", \"10\", \"home\", \"18\", \"local\", \"line\", \"module\", \"path\", \"error\", \"import\", \"run\", \"output\", \"build\", \"library\", \"include\", \"test\", \"version\", \"java\", \"org\", \"jar\", \"springframework\", \"spring\", \"apache\", \"release\", \"util\", \"transaction\", \"studio\", \"git\", \"lang\", \"beans\", \"common\", \"sun\", \"eclipse\", \"gradle\", \"servlet\", \"timeout\", \"boot\", \"javax\", \"jdbc\", \"sonar\", \"jpa\", \"tomcat\", \"slf4j\", \"reflect\", \"junit\", \"persistence\", \"dir\", \"plugin\", \"internal\", \"compile\", \"xml\", \"schema\", \"info\", \"unknown\", \"com\", \"version\", \"support\", \"core\", \"build\", \"project\", \"configuration\", \"web\", \"package\", \"source\", \"run\", \"debug\"], \"Freq\": [27982.0, 25794.0, 20164.0, 21451.0, 21744.0, 25928.0, 18465.0, 21697.0, 18922.0, 20230.0, 23697.0, 14827.0, 16416.0, 19547.0, 14087.0, 17549.0, 10759.0, 14119.0, 9369.0, 8738.0, 8505.0, 14570.0, 25296.0, 14838.0, 18502.0, 10453.0, 7356.0, 21852.0, 6886.0, 7216.0, 14569.166439974555, 9473.052353959321, 5744.862557914665, 4314.421349109635, 4271.979382434164, 4047.977350730393, 3406.359326319125, 3361.3596486069123, 3209.5029639820423, 3173.4693359177554, 3165.60329956714, 3108.1046539453464, 3008.2751353214635, 3006.3388980977384, 2917.5009131458796, 2854.2072682519265, 2844.727352261226, 2692.5108914723505, 2429.629327874679, 2394.301307325844, 2215.8823113263097, 2061.678249920786, 1896.2364126948123, 1863.260649611026, 1831.7761680235828, 1768.9285247179537, 1726.3724429930471, 1668.6794996496074, 1664.1334907555895, 1658.6438828784571, 5428.559811887258, 12762.287805119715, 5883.178829545389, 2308.397543349802, 9508.359689702862, 3559.825242313227, 2795.3847950912614, 8163.575886518677, 11014.521230699665, 19205.928174122273, 5775.441207719673, 9487.974233050914, 19043.229397733296, 21958.169346052837, 9463.762319832958, 10891.021322412174, 12365.05494492874, 7846.823187872721, 14418.07811452165, 6150.803953548322, 4522.820530041881, 6897.221427779265, 3856.429313707184, 4722.380559120484, 3848.917010768465, 5119.325691345672, 3966.6572466422767, 5110.677118596991, 4272.051430632382, 4610.152707650983, 4266.041681246824, 7728.322832871671, 7135.976478773219, 6214.645868531309, 5718.380686557598, 5743.731985702755, 4927.754828316294, 4796.223066881484, 4499.104563366654, 4273.559395349733, 3998.2429219951746, 3889.7094267190873, 3601.376386210677, 3447.2506689637084, 3290.4544709896163, 2861.9266363424067, 2522.784052496896, 2066.4824440248194, 1972.372617530616, 1927.022957571961, 1715.0537615690084, 1693.4382803478152, 1634.0131279021327, 1553.0466540923615, 1550.5509873840244, 1412.4585586559324, 1401.3297409478553, 1244.8242544527554, 1216.916194426606, 1109.834804802764, 1085.935369352733, 4745.904696496821, 1740.502448454735, 16799.76221745673, 18525.818495117474, 2624.72760366825, 6522.263375372346, 2882.2836985854565, 2698.8707657316004, 3820.9471490346896, 2195.575761610037, 4598.639915328345, 2951.8018503109465, 3198.472778339339, 6576.725019470089, 3566.469474547962, 5907.904246462601, 4769.607299830198, 3017.424250456531, 3314.8369738285846, 3818.9594712985913, 3038.0924695551644, 21743.887485320025, 18464.76091337141, 7377.24698934957, 7101.819762598935, 3744.997720183653, 3074.1244350619677, 2975.318821072723, 2553.408662220226, 2249.190501850154, 2240.3294306562307, 2164.5112298241556, 2129.0471321763303, 1670.6975634585124, 1608.5791381700124, 1508.1502838710205, 1395.6123446196962, 1382.5025916908887, 1208.7682333078214, 1177.9863419065512, 1156.819826045407, 1126.280996129053, 1014.1949790563796, 1009.5061685191139, 1002.1327138078375, 994.7316625960904, 979.7880986242423, 983.6966593875114, 960.9280723270242, 911.3387530866981, 870.7716615270191, 2043.3066921535938, 22323.883843318512, 12291.022783248474, 2839.0447072048723, 5324.888645041537, 17685.86973632125, 11242.750135858523, 5635.124729454457, 2197.262379194923, 4640.504868065403, 6993.471184399859, 1653.548461223606, 11240.61694995888, 5991.457819559871, 5712.806755472179, 4349.564634169743, 2421.611078116788, 7877.358318643177, 8095.896185209487, 5096.65709491667, 6005.5395825608175, 4749.0728030630935, 4454.650692757597, 3436.2320339240255, 2985.887573150483, 3754.879154292422, 3739.586919151163, 3205.438726605877, 3246.534161422434, 21450.968895608592, 10758.305978661094, 9368.955342658692, 7265.2370287782005, 4781.961057583003, 4609.981008251068, 4463.432517841825, 4069.68068765239, 3904.9210239655754, 3605.932415954484, 3021.274706582433, 2820.015285187385, 2799.318375939861, 2275.8805188381248, 2168.6878187568973, 2162.230172385645, 2066.718376376395, 2060.5328661206427, 1838.6004770718102, 1763.3139409134258, 1754.3045196761582, 1707.268864616515, 1660.8155888245728, 1398.2838431662656, 1372.4616372390649, 1290.6525131364112, 1279.925083035089, 1261.717999779781, 1232.684328322415, 1193.5031121154136, 8620.810066280492, 2871.8630010752863, 3241.800926025661, 2149.124344459634, 4900.9072845705505, 4204.436347038925, 2251.982818020978, 3854.818849774528, 6775.077587947115, 3548.347695666874, 2290.7035575750656, 4058.939690647949, 3603.6547723367803, 2167.145381580262, 2346.891684894567, 2378.0496740130666, 2219.0774915860934, 2240.0335685858417, 2246.4140033172857, 8504.624768292097, 7215.650681054183, 5548.154218734825, 3483.0844794015106, 2916.2248447926563, 2420.3983474820966, 2357.8371363638857, 2278.2663047273077, 2167.7710382543137, 2068.032480250812, 1656.225245845506, 1484.4345848969667, 1452.8156171513065, 1436.233048855887, 1244.8585523068523, 1243.857307035174, 1141.2994461750197, 1137.0211657713912, 1064.579390897075, 1043.171855403127, 1011.2021829211158, 983.8830068801575, 920.0932712518787, 880.9972750007753, 876.2994360651472, 867.4373089893652, 852.3621186683365, 839.3211568758549, 824.3261049674313, 815.2791922889867, 5365.97254143504, 2340.5593298706626, 1872.2844011815087, 7092.702663447564, 2727.2895005665528, 7164.919980237731, 5507.333174827569, 2558.689212418181, 5521.72423524561, 11035.504100153852, 5810.991990442551, 1671.0345423794972, 6290.956019077226, 1382.8465839675807, 4183.012493483415, 3807.008703848946, 9608.998038470178, 3189.748972436036, 5145.979639156861, 3193.885489839149, 7839.484054488527, 5590.820297514468, 3525.02164245462, 2374.603432329128, 2636.7429683626706, 2546.2101892857045, 8738.067654630384, 5618.457914540777, 5303.779501699876, 3174.986283355878, 3114.190447411472, 3017.6397056583864, 2924.456584473604, 2670.4300921682075, 2593.768986445144, 2491.823873950587, 2446.1782939118307, 2229.751457248001, 2035.6631001512749, 1860.3857155441922, 1780.2529138412663, 1774.7664021367782, 1659.8922452183535, 1537.906034501235, 1485.3758572124882, 1407.903647754986, 1337.0446145964174, 1318.8328216262753, 1289.2417074769035, 1259.5352854938142, 1215.4801462300197, 1115.5982015273473, 1093.9166431499011, 1087.057757616257, 1078.2187189107412, 1074.1618839390756, 7229.650940452712, 1371.2891983913105, 3505.3837689807833, 11087.07040330658, 3083.4258961597616, 12708.457905366651, 4326.093681457194, 1847.9858235079332, 4664.863884761454, 2356.1193656463915, 3234.156577206078, 7107.446399529894, 3555.6699189302385, 3351.0183463267144, 2492.5559119634277, 3829.5012775796818, 2261.312457433365, 2827.5711516415236, 3068.594886752639, 2803.259100399906, 2631.555205598494, 7355.685167739342, 6919.146180948172, 6207.473633762134, 5007.9262656819365, 3969.240820769916, 3944.906774886158, 3670.533517716378, 3494.4414782748495, 3323.915419648959, 3095.5668977352225, 3042.213721287637, 2815.533791030011, 2429.9254328005177, 2280.1876210326022, 2271.2091280922396, 1970.1773215273815, 1638.5311172407867, 1573.684868535247, 1381.8062650623756, 1336.5090958978255, 1257.7465589436556, 1180.7943353693408, 1061.4496951321194, 1049.2233778921504, 1045.8401788640876, 1029.0832761714664, 1008.1423673741838, 969.6338942623646, 967.2043312764002, 960.0158580335891, 3533.062944605423, 3179.756449713451, 1408.116314308257, 23960.63945694418, 1987.8518661177677, 4961.552779737409, 4867.944286751034, 3443.904697473444, 1609.350973428061, 4537.107825442299, 7464.59893878538, 4659.776203383301, 3694.3237263196256, 7953.629580926816, 4878.89185146656, 4156.935167598838, 2809.6381005117537, 3120.317172888953, 2853.447734412108, 2684.73775156969, 3224.541516573933, 2937.767566819942, 27981.32850850215, 20163.17237101583, 6885.58756550506, 6572.067573842625, 5279.336353670786, 4630.194663727058, 3274.9897653941143, 2890.4141889525763, 2845.479775016157, 2688.0579874105765, 2637.2782411906323, 2499.4304007784926, 2405.6148820142885, 2395.2062162345596, 2100.690163500304, 2089.0098951236055, 1824.213431746631, 1647.788150763886, 1621.0822684724437, 1519.5434198962535, 1345.8756541456903, 1345.6796116990658, 1258.2580470349253, 1228.1445905803346, 1171.6660241023167, 1089.9355568119893, 1064.7056365164224, 1046.2421509695062, 1046.4282427767946, 1015.6599748470765, 2740.9621208703074, 2715.147192091972, 5129.283088752201, 4574.6392046937335, 2332.349364200508, 5065.827119119904, 1670.1748615153756, 7899.1080043778375, 5227.359560390391, 3629.5741148761917, 3257.53604696432, 4242.515378914639, 4189.5791657818245, 2807.735663360712, 3447.0437453681443, 2864.200046464751, 2864.1447981388837, 3193.9419565173553, 2409.1644384342344], \"Total\": [27982.0, 25794.0, 20164.0, 21451.0, 21744.0, 25928.0, 18465.0, 21697.0, 18922.0, 20230.0, 23697.0, 14827.0, 16416.0, 19547.0, 14087.0, 17549.0, 10759.0, 14119.0, 9369.0, 8738.0, 8505.0, 14570.0, 25296.0, 14838.0, 18502.0, 10453.0, 7356.0, 21852.0, 6886.0, 7216.0, 14570.044272114737, 9473.930438837695, 5745.740510829991, 4315.2996553642715, 4272.8572375561425, 4048.855013370878, 3407.237271194895, 3362.2375364175996, 3210.3810494203644, 3174.3471912235177, 3166.483025988926, 3108.982526787572, 3009.153027425231, 3007.216820502689, 2918.3787134343847, 2855.0854526163057, 2845.6049408645836, 2693.389229088039, 2430.507365323131, 2395.179009794158, 2216.7597921611687, 2062.5561058955977, 1897.1142191119113, 1864.138761450851, 1832.6541698690307, 1769.8082140407078, 1727.2503685935155, 1669.5573144184252, 1665.011390656681, 1659.5218645343239, 5433.781792357161, 12977.02998967867, 5944.902648710405, 2314.176014332041, 9674.871274151, 3589.51803965207, 2824.803268506112, 8722.948342882319, 11967.86952341611, 21852.957548234324, 6098.017310900859, 10584.400226513662, 22607.576490952997, 32153.648325942228, 11949.863049818588, 14276.221705120779, 17355.223895367886, 10474.897296643572, 23836.128555116353, 8356.7587719246, 5555.118153969065, 11833.757465967296, 4501.893441244233, 6603.909047063088, 4573.155697089391, 9309.660099443163, 5131.9456171008815, 12992.303657446178, 6845.693055150103, 12456.231430053695, 8465.957117070486, 7729.199061370601, 7136.8531796558445, 6215.52222330702, 5719.25729513052, 5744.614312934145, 4928.631099809038, 4797.099868670855, 4499.981030753476, 4274.435627170867, 3999.1204355107325, 3890.5861814187374, 3602.2553863951557, 3448.1279018956434, 3291.331038463357, 2862.8034556185116, 2523.660419789058, 2067.3598300963504, 1973.2492684262204, 1927.8996354688015, 1715.9312810947547, 1694.3167087148101, 1634.89090937974, 1553.9245421105527, 1551.4277322883806, 1413.3359675835848, 1402.206400982809, 1245.700340803603, 1217.7942021329525, 1110.7117389980785, 1086.8129662552428, 4806.266504372555, 1758.3041962031934, 18922.58433721594, 21697.782346357064, 2769.8094020808917, 7657.558514666305, 3103.515070157761, 2918.0438913623216, 4461.727225641861, 2320.7327351629383, 6946.278878769608, 3917.4943382743804, 4821.430427373123, 18502.745216772568, 6672.722159894885, 20230.11086428818, 15649.138569520903, 5171.739144549152, 8569.891611008, 32153.648325942228, 9249.846300928739, 21744.76325130932, 18465.63621250685, 7378.122410608428, 7102.695736272685, 3745.87461292552, 3075.0015113810387, 2976.1960020293745, 2554.284610805867, 2250.0661975892795, 2241.2054044839165, 2165.3872139785194, 2129.9225561518865, 1671.5736021631185, 1609.455332364573, 1509.0257460545042, 1396.4886569809212, 1383.3779799858087, 1209.6448463994282, 1178.8621481573864, 1157.6967690948272, 1127.1561401286706, 1015.0710740205956, 1010.3855419480186, 1003.0078589449953, 995.6103844844481, 980.6684817466905, 984.5813594321453, 961.8042036239399, 912.2151329678107, 871.6475551833149, 2118.5340593179812, 25928.28485850135, 14119.101685052268, 3035.4809967896417, 5927.737660560531, 23697.17529958306, 14838.12528126925, 7054.5470414553, 2447.1895182222506, 5797.316486898415, 9695.853926988488, 1771.0647621705266, 19547.20009618185, 9343.224315843478, 8966.16680026622, 6269.156669778667, 2898.294700357383, 15649.138569520903, 18502.745216772568, 10997.309448574091, 15692.735125710575, 12072.960741819878, 10624.199328853056, 6850.439851363635, 4833.561499723686, 11118.15852220425, 14827.405486900392, 12992.303657446178, 23836.128555116353, 21451.841402895865, 10759.179068826685, 9369.82875823766, 7266.109238101607, 4782.833549452266, 4610.853583863915, 4464.305290120374, 4070.553665849434, 3905.793437239829, 3606.805863009953, 3022.148396161153, 2820.8883046904216, 2800.19177913531, 2276.753274786893, 2169.5604690813916, 2163.1046585986983, 2067.590824807558, 2061.411676989519, 1839.473607864107, 1764.1862486213338, 1755.1772338576657, 1708.1413260199165, 1661.6885784288845, 1399.1569048864023, 1373.3349734673507, 1291.526893095307, 1280.7974881750608, 1262.5911983639046, 1233.5574296584532, 1194.3753472098706, 10453.508141507133, 3173.990606884214, 3697.767121299171, 2426.0569200856407, 6829.370309817107, 5775.8990281521355, 2724.674139998066, 6397.170697492191, 16416.697682631384, 6031.970780797958, 3075.627645743717, 17549.497716952475, 25928.28485850135, 2924.1664067981947, 6946.278878769608, 10624.199328853056, 4152.277522174205, 6911.316927213886, 12072.960741819878, 8505.506327337069, 7216.532205593727, 5549.035825881227, 3483.9666478345275, 2917.10631235111, 2421.280525276017, 2358.7182824424494, 2279.1473384432106, 2168.6525110008924, 2068.913774851963, 1657.10692580437, 1485.3163471727664, 1453.6968284672075, 1437.1145560004122, 1245.7405506803116, 1244.7388776418923, 1142.1805324994186, 1137.9031089317339, 1065.4638869156083, 1044.053201881092, 1012.0841467429564, 984.7646693262135, 920.9747342801512, 881.8791033203258, 877.1810602997865, 868.3184106441892, 853.2482004725995, 840.2029272917384, 825.208033322415, 816.180874961997, 5452.289461209755, 2377.4926547013647, 1917.970685880168, 7646.717518327314, 2846.545140484074, 7795.669037586478, 5937.199769671434, 2714.2913261535728, 6513.5640520998495, 14087.802589682375, 7300.180936203396, 1775.608130162385, 8269.14337864456, 1439.6785973469277, 5611.96166859158, 5052.029243529909, 16416.697682631384, 4165.18412006174, 8903.444196874327, 4494.070644208663, 25296.62230399539, 17549.497716952475, 11833.757465967296, 4812.28835794343, 10624.199328853056, 12072.960741819878, 8738.942703208751, 5619.332422594544, 5304.655749910143, 3175.8615420323563, 3115.065494727961, 3018.5153410543776, 2925.3315476866132, 2671.3047546622543, 2594.6439858687027, 2492.698883686483, 2447.052976895596, 2230.626517828558, 2036.5384188829821, 1861.2618652528756, 1781.1279904039902, 1775.6421516499936, 1660.7670447787941, 1538.782162619028, 1486.2551482852518, 1408.7817527767554, 1337.9193536934363, 1319.7129090963178, 1290.1184925407927, 1260.4103944244303, 1216.355665544429, 1116.474568058075, 1094.7920555684955, 1087.9338035200897, 1079.094499417862, 1075.037284980731, 7291.10098192308, 1373.4628245655301, 4019.860975092054, 14827.405486900392, 3627.468601088916, 20230.11086428818, 5684.107923020953, 2015.5465744097723, 6911.316927213886, 3003.754769346839, 5463.59359515453, 19547.20009618185, 7505.994044935055, 9343.224315843478, 5186.426567455796, 18502.745216772568, 4408.697528090551, 15649.138569520903, 23836.128555116353, 25296.62230399539, 21697.782346357064, 7356.5622164095985, 6920.023577982639, 6208.352026809328, 5008.804199182408, 3970.118262268497, 3945.783792790798, 3671.4108296521763, 3495.3183699109154, 3324.7927629875494, 3096.445854170811, 3043.092300474716, 2816.411368451365, 2430.8025103465816, 2281.066900673944, 2272.086448118608, 1971.057290856978, 1639.4095631103296, 1574.5619675616024, 1382.6850130273115, 1337.3873922423995, 1258.6240866792537, 1181.6720412906716, 1062.3280004179494, 1050.1012913849422, 1046.717051623824, 1029.9603697274445, 1009.0228838963196, 970.5109087319413, 968.0821785581428, 960.8933017611762, 3559.799205437855, 3223.764090189179, 1416.0407534545716, 25794.372322140585, 2046.764127556484, 5511.820684125459, 5404.0036236190535, 3759.7082019117834, 1664.8573865209812, 5277.339280079418, 10315.054455226616, 6120.337014963845, 6685.992164494839, 25296.62230399539, 11118.15852220425, 12456.231430053695, 5502.642508702538, 8089.549720505254, 6200.054827398206, 5186.426567455796, 15692.735125710575, 10156.132114209053, 27982.207687826645, 20164.05142647247, 6886.466299306524, 6572.946219269776, 5280.215465061304, 4631.073771658109, 3275.8695494768394, 2891.293737855218, 2846.360754429521, 2688.9381205260656, 2638.157900401981, 2500.309893980809, 2406.4935448442916, 2396.0878835183726, 2101.5689353837556, 2089.888797395246, 1825.0921838943627, 1648.6669221941227, 1621.9645174112177, 1520.422392785904, 1346.7545448658832, 1346.5587428034983, 1259.1386930241738, 1229.0236491661083, 1172.5448966580097, 1090.8145834628713, 1065.5849495858733, 1047.1210998909896, 1047.3075783977313, 1016.540195358281, 2872.8794025806897, 2912.145603281629, 6557.025820840458, 5859.05567082588, 2747.1029003668023, 7313.32707273811, 1854.438200380691, 17549.497716952475, 10156.132114209053, 6089.17215298163, 5270.029527790633, 8089.549720505254, 9309.660099443163, 4663.513476434549, 8903.444196874327, 5618.550526662328, 6087.436362125371, 12456.231430053695, 4121.082918743408], \"Category\": [\"Default\", \"Default\", \"Default\", \"Default\", \"Default\", \"Default\", \"Default\", \"Default\", \"Default\", \"Default\", \"Default\", \"Default\", \"Default\", \"Default\", \"Default\", \"Default\", \"Default\", \"Default\", \"Default\", \"Default\", \"Default\", \"Default\", \"Default\", \"Default\", \"Default\", \"Default\", \"Default\", \"Default\", \"Default\", \"Default\", \"Topic1\", \"Topic1\", \"Topic1\", \"Topic1\", \"Topic1\", \"Topic1\", \"Topic1\", \"Topic1\", \"Topic1\", \"Topic1\", \"Topic1\", \"Topic1\", \"Topic1\", \"Topic1\", \"Topic1\", \"Topic1\", \"Topic1\", \"Topic1\", \"Topic1\", \"Topic1\", \"Topic1\", \"Topic1\", \"Topic1\", \"Topic1\", \"Topic1\", \"Topic1\", \"Topic1\", \"Topic1\", \"Topic1\", \"Topic1\", \"Topic1\", \"Topic1\", \"Topic1\", \"Topic1\", \"Topic1\", \"Topic1\", \"Topic1\", \"Topic1\", \"Topic1\", \"Topic1\", \"Topic1\", \"Topic1\", \"Topic1\", \"Topic1\", \"Topic1\", \"Topic1\", \"Topic1\", \"Topic1\", \"Topic1\", \"Topic1\", \"Topic1\", \"Topic1\", \"Topic1\", \"Topic1\", \"Topic1\", \"Topic1\", \"Topic1\", \"Topic1\", \"Topic1\", \"Topic1\", \"Topic1\", \"Topic2\", \"Topic2\", \"Topic2\", \"Topic2\", \"Topic2\", \"Topic2\", \"Topic2\", \"Topic2\", \"Topic2\", \"Topic2\", \"Topic2\", \"Topic2\", \"Topic2\", \"Topic2\", \"Topic2\", \"Topic2\", \"Topic2\", \"Topic2\", \"Topic2\", \"Topic2\", \"Topic2\", \"Topic2\", \"Topic2\", \"Topic2\", \"Topic2\", \"Topic2\", \"Topic2\", \"Topic2\", \"Topic2\", \"Topic2\", \"Topic2\", \"Topic2\", \"Topic2\", \"Topic2\", \"Topic2\", \"Topic2\", \"Topic2\", \"Topic2\", \"Topic2\", \"Topic2\", \"Topic2\", \"Topic2\", \"Topic2\", \"Topic2\", \"Topic2\", \"Topic2\", \"Topic2\", \"Topic2\", \"Topic2\", \"Topic2\", \"Topic2\", \"Topic3\", \"Topic3\", \"Topic3\", \"Topic3\", \"Topic3\", \"Topic3\", \"Topic3\", \"Topic3\", \"Topic3\", \"Topic3\", \"Topic3\", \"Topic3\", \"Topic3\", \"Topic3\", \"Topic3\", \"Topic3\", \"Topic3\", \"Topic3\", \"Topic3\", \"Topic3\", \"Topic3\", \"Topic3\", \"Topic3\", \"Topic3\", \"Topic3\", \"Topic3\", \"Topic3\", \"Topic3\", \"Topic3\", \"Topic3\", \"Topic3\", \"Topic3\", \"Topic3\", \"Topic3\", \"Topic3\", \"Topic3\", \"Topic3\", \"Topic3\", \"Topic3\", \"Topic3\", \"Topic3\", \"Topic3\", \"Topic3\", \"Topic3\", \"Topic3\", \"Topic3\", \"Topic3\", \"Topic3\", \"Topic3\", \"Topic3\", \"Topic3\", \"Topic3\", \"Topic3\", \"Topic3\", \"Topic3\", \"Topic3\", \"Topic3\", \"Topic3\", \"Topic3\", \"Topic4\", \"Topic4\", \"Topic4\", \"Topic4\", \"Topic4\", \"Topic4\", \"Topic4\", \"Topic4\", \"Topic4\", \"Topic4\", \"Topic4\", \"Topic4\", \"Topic4\", \"Topic4\", \"Topic4\", \"Topic4\", \"Topic4\", \"Topic4\", \"Topic4\", \"Topic4\", \"Topic4\", \"Topic4\", \"Topic4\", \"Topic4\", \"Topic4\", \"Topic4\", \"Topic4\", \"Topic4\", \"Topic4\", \"Topic4\", \"Topic4\", \"Topic4\", \"Topic4\", \"Topic4\", \"Topic4\", \"Topic4\", \"Topic4\", \"Topic4\", \"Topic4\", \"Topic4\", \"Topic4\", \"Topic4\", \"Topic4\", \"Topic4\", \"Topic4\", \"Topic4\", \"Topic4\", \"Topic4\", \"Topic4\", \"Topic5\", \"Topic5\", \"Topic5\", \"Topic5\", \"Topic5\", \"Topic5\", \"Topic5\", \"Topic5\", \"Topic5\", \"Topic5\", \"Topic5\", \"Topic5\", \"Topic5\", \"Topic5\", \"Topic5\", \"Topic5\", \"Topic5\", \"Topic5\", \"Topic5\", \"Topic5\", \"Topic5\", \"Topic5\", \"Topic5\", \"Topic5\", \"Topic5\", \"Topic5\", \"Topic5\", \"Topic5\", \"Topic5\", \"Topic5\", \"Topic5\", \"Topic5\", \"Topic5\", \"Topic5\", \"Topic5\", \"Topic5\", \"Topic5\", \"Topic5\", \"Topic5\", \"Topic5\", \"Topic5\", \"Topic5\", \"Topic5\", \"Topic5\", \"Topic5\", \"Topic5\", \"Topic5\", \"Topic5\", \"Topic5\", \"Topic5\", \"Topic5\", \"Topic5\", \"Topic5\", \"Topic5\", \"Topic5\", \"Topic5\", \"Topic6\", \"Topic6\", \"Topic6\", \"Topic6\", \"Topic6\", \"Topic6\", \"Topic6\", \"Topic6\", \"Topic6\", \"Topic6\", \"Topic6\", \"Topic6\", \"Topic6\", \"Topic6\", \"Topic6\", \"Topic6\", \"Topic6\", \"Topic6\", \"Topic6\", \"Topic6\", \"Topic6\", \"Topic6\", \"Topic6\", \"Topic6\", \"Topic6\", \"Topic6\", \"Topic6\", \"Topic6\", \"Topic6\", \"Topic6\", \"Topic6\", \"Topic6\", \"Topic6\", \"Topic6\", \"Topic6\", \"Topic6\", \"Topic6\", \"Topic6\", \"Topic6\", \"Topic6\", \"Topic6\", \"Topic6\", \"Topic6\", \"Topic6\", \"Topic6\", \"Topic6\", \"Topic6\", \"Topic6\", \"Topic6\", \"Topic6\", \"Topic6\", \"Topic7\", \"Topic7\", \"Topic7\", \"Topic7\", \"Topic7\", \"Topic7\", \"Topic7\", \"Topic7\", \"Topic7\", \"Topic7\", \"Topic7\", \"Topic7\", \"Topic7\", \"Topic7\", \"Topic7\", \"Topic7\", \"Topic7\", \"Topic7\", \"Topic7\", \"Topic7\", \"Topic7\", \"Topic7\", \"Topic7\", \"Topic7\", \"Topic7\", \"Topic7\", \"Topic7\", \"Topic7\", \"Topic7\", \"Topic7\", \"Topic7\", \"Topic7\", \"Topic7\", \"Topic7\", \"Topic7\", \"Topic7\", \"Topic7\", \"Topic7\", \"Topic7\", \"Topic7\", \"Topic7\", \"Topic7\", \"Topic7\", \"Topic7\", \"Topic7\", \"Topic7\", \"Topic7\", \"Topic7\", \"Topic7\", \"Topic7\", \"Topic7\", \"Topic7\", \"Topic8\", \"Topic8\", \"Topic8\", \"Topic8\", \"Topic8\", \"Topic8\", \"Topic8\", \"Topic8\", \"Topic8\", \"Topic8\", \"Topic8\", \"Topic8\", \"Topic8\", \"Topic8\", \"Topic8\", \"Topic8\", \"Topic8\", \"Topic8\", \"Topic8\", \"Topic8\", \"Topic8\", \"Topic8\", \"Topic8\", \"Topic8\", \"Topic8\", \"Topic8\", \"Topic8\", \"Topic8\", \"Topic8\", \"Topic8\", \"Topic8\", \"Topic8\", \"Topic8\", \"Topic8\", \"Topic8\", \"Topic8\", \"Topic8\", \"Topic8\", \"Topic8\", \"Topic8\", \"Topic8\", \"Topic8\", \"Topic8\", \"Topic8\", \"Topic8\", \"Topic8\", \"Topic8\", \"Topic8\", \"Topic8\"], \"logprob\": [30.0, 29.0, 28.0, 27.0, 26.0, 25.0, 24.0, 23.0, 22.0, 21.0, 20.0, 19.0, 18.0, 17.0, 16.0, 15.0, 14.0, 13.0, 12.0, 11.0, 10.0, 9.0, 8.0, 7.0, 6.0, 5.0, 4.0, 3.0, 2.0, 1.0, -4.2271, -4.6575, -5.1577, -5.444, -5.4539, -5.5077, -5.6803, -5.6936, -5.7398, -5.7511, -5.7536, -5.7719, -5.8046, -5.8052, -5.8352, -5.8572, -5.8605, -5.9155, -6.0182, -6.0329, -6.1103, -6.1824, -6.2661, -6.2836, -6.3007, -6.3356, -6.3599, -6.3939, -6.3967, -6.4, -5.2143, -4.3595, -5.1339, -6.0694, -4.6538, -5.6363, -5.878, -4.8063, -4.5067, -3.9507, -5.1523, -4.6559, -3.9593, -3.8168, -4.6585, -4.518, -4.3911, -4.8459, -4.2375, -5.0894, -5.3968, -4.9748, -5.5562, -5.3536, -5.5582, -5.2729, -5.528, -5.2746, -5.4539, -5.3777, -5.4553, -4.2082, -4.2879, -4.4261, -4.5094, -4.5049, -4.6582, -4.6852, -4.7492, -4.8006, -4.8672, -4.8947, -4.9717, -5.0155, -5.062, -5.2016, -5.3277, -5.5272, -5.5738, -5.5971, -5.7136, -5.7263, -5.762, -5.8128, -5.8144, -5.9077, -5.9156, -6.0341, -6.0567, -6.1488, -6.1706, -4.6958, -5.6989, -3.4317, -3.3339, -5.2881, -4.3778, -5.1945, -5.2602, -4.9126, -5.4666, -4.7273, -5.1706, -5.0904, -4.3695, -4.9815, -4.4768, -4.6908, -5.1487, -5.0546, -4.9131, -5.1418, -3.1482, -3.3117, -4.2292, -4.2672, -4.9071, -5.1045, -5.1372, -5.2901, -5.417, -5.4209, -5.4554, -5.4719, -5.7143, -5.7522, -5.8167, -5.8942, -5.9037, -6.038, -6.0638, -6.0819, -6.1086, -6.2135, -6.2181, -6.2254, -6.2328, -6.248, -6.244, -6.2674, -6.3204, -6.3659, -5.513, -3.1219, -3.7187, -5.1841, -4.5552, -3.3548, -3.8078, -4.4985, -5.4404, -4.6927, -4.2826, -5.7246, -3.808, -4.4372, -4.4849, -4.7575, -5.3431, -4.1636, -4.1362, -4.599, -4.4349, -4.6696, -4.7336, -4.9932, -5.1337, -4.9045, -4.9086, -5.0627, -5.05, -2.9944, -3.6845, -3.8228, -4.0771, -4.4953, -4.532, -4.5643, -4.6566, -4.6979, -4.7776, -4.9545, -5.0234, -5.0308, -5.2378, -5.2861, -5.289, -5.3342, -5.3372, -5.4512, -5.493, -5.4981, -5.5253, -5.5529, -5.7249, -5.7436, -5.805, -5.8134, -5.8277, -5.851, -5.8833, -3.906, -5.0052, -4.884, -5.2951, -4.4708, -4.624, -5.2484, -4.7109, -4.1469, -4.7937, -5.2313, -4.6593, -4.7782, -5.2868, -5.2071, -5.1939, -5.2631, -5.2537, -5.2508, -3.796, -3.9604, -4.2231, -4.6887, -4.8663, -5.0527, -5.0789, -5.1132, -5.1629, -5.21, -5.4321, -5.5416, -5.5631, -5.5746, -5.7176, -5.7184, -5.8044, -5.8082, -5.874, -5.8943, -5.9255, -5.9529, -6.0199, -6.0633, -6.0687, -6.0788, -6.0964, -6.1118, -6.1298, -6.1408, -4.2565, -5.0862, -5.3095, -3.9775, -4.9333, -3.9674, -4.2305, -4.9971, -4.2279, -3.5355, -4.1769, -5.4232, -4.0975, -5.6125, -4.5056, -4.5998, -3.6739, -4.7767, -4.2984, -4.7754, -3.8774, -4.2155, -4.6767, -5.0718, -4.9671, -5.002, -3.7643, -4.2059, -4.2636, -4.7767, -4.796, -4.8275, -4.8589, -4.9497, -4.9789, -5.019, -5.0374, -5.1301, -5.2212, -5.3112, -5.3552, -5.3583, -5.4252, -5.5016, -5.5363, -5.5899, -5.6415, -5.6552, -5.6779, -5.7012, -5.7368, -5.8226, -5.8422, -5.8485, -5.8567, -5.8604, -3.9538, -5.6162, -4.6777, -3.5262, -4.8059, -3.3897, -4.4673, -5.3179, -4.3919, -5.075, -4.7582, -3.9708, -4.6634, -4.7227, -5.0187, -4.5892, -5.116, -4.8926, -4.8108, -4.9012, -4.9644, -3.887, -3.9482, -4.0567, -4.2714, -4.5039, -4.51, -4.5821, -4.6313, -4.6813, -4.7525, -4.7699, -4.8473, -4.9946, -5.0582, -5.0621, -5.2043, -5.3886, -5.429, -5.5591, -5.5924, -5.6531, -5.7163, -5.8228, -5.8344, -5.8376, -5.8538, -5.8743, -5.9133, -5.9158, -5.9233, -4.6203, -4.7256, -5.5402, -2.706, -5.1954, -4.2807, -4.2998, -4.6458, -5.4066, -4.3702, -3.8723, -4.3435, -4.5756, -3.8088, -4.2975, -4.4577, -4.8494, -4.7445, -4.8339, -4.8949, -4.7117, -4.8048, -2.4335, -2.7611, -3.8356, -3.8822, -4.1012, -4.2324, -4.5787, -4.7036, -4.7193, -4.7762, -4.7952, -4.8489, -4.8872, -4.8915, -5.0227, -5.0283, -5.1638, -5.2656, -5.2819, -5.3466, -5.468, -5.4681, -5.5353, -5.5595, -5.6066, -5.6789, -5.7023, -5.7198, -5.7196, -5.7495, -4.7567, -4.7662, -4.13, -4.2445, -4.9181, -4.1425, -5.2521, -3.6982, -4.1111, -4.4759, -4.584, -4.3198, -4.3324, -4.7326, -4.5275, -4.7127, -4.7127, -4.6037, -4.8857], \"loglift\": [30.0, 29.0, 28.0, 27.0, 26.0, 25.0, 24.0, 23.0, 22.0, 21.0, 20.0, 19.0, 18.0, 17.0, 16.0, 15.0, 14.0, 13.0, 12.0, 11.0, 10.0, 9.0, 8.0, 7.0, 6.0, 5.0, 4.0, 3.0, 2.0, 1.0, 1.3591, 1.3591, 1.359, 1.359, 1.359, 1.3589, 1.3589, 1.3589, 1.3589, 1.3589, 1.3589, 1.3589, 1.3589, 1.3589, 1.3589, 1.3589, 1.3589, 1.3588, 1.3588, 1.3588, 1.3588, 1.3587, 1.3587, 1.3587, 1.3587, 1.3587, 1.3587, 1.3586, 1.3586, 1.3586, 1.3582, 1.3425, 1.3487, 1.3567, 1.3418, 1.3509, 1.3487, 1.2929, 1.2761, 1.23, 1.3048, 1.2498, 1.1876, 0.9778, 1.1259, 1.0885, 1.0201, 1.0703, 0.8564, 1.0527, 1.1536, 0.8193, 1.2044, 1.0238, 1.1867, 0.7611, 1.1016, 0.4261, 0.8876, 0.3652, 0.6738, 2.012, 2.0119, 2.0119, 2.0119, 2.0119, 2.0119, 2.0119, 2.0119, 2.0119, 2.0118, 2.0118, 2.0118, 2.0118, 2.0118, 2.0118, 2.0117, 2.0116, 2.0116, 2.0116, 2.0116, 2.0115, 2.0115, 2.0115, 2.0115, 2.0114, 2.0114, 2.0114, 2.0113, 2.0113, 2.0113, 1.9994, 2.0019, 1.8931, 1.854, 1.9583, 1.8516, 1.9381, 1.934, 1.857, 1.9566, 1.5996, 1.729, 1.6017, 0.9777, 1.3856, 0.7812, 0.8239, 1.4733, 1.0622, -0.1185, 0.8987, 2.0375, 2.0375, 2.0374, 2.0374, 2.0373, 2.0373, 2.0373, 2.0372, 2.0372, 2.0372, 2.0372, 2.0371, 2.037, 2.037, 2.037, 2.0369, 2.0369, 2.0368, 2.0368, 2.0368, 2.0368, 2.0367, 2.0367, 2.0367, 2.0367, 2.0367, 2.0367, 2.0366, 2.0366, 2.0366, 2.0014, 1.8879, 1.8989, 1.9707, 1.9303, 1.745, 1.7601, 1.8129, 1.9298, 1.815, 1.7108, 1.9689, 1.4843, 1.5932, 1.5868, 1.672, 1.8579, 1.3511, 1.211, 1.2685, 1.077, 1.1045, 1.1684, 1.3476, 1.5559, 0.952, 0.6601, 0.638, 0.0439, 2.2049, 2.2049, 2.2049, 2.2048, 2.2048, 2.2048, 2.2047, 2.2047, 2.2047, 2.2047, 2.2047, 2.2046, 2.2046, 2.2046, 2.2045, 2.2045, 2.2045, 2.2045, 2.2045, 2.2045, 2.2044, 2.2044, 2.2044, 2.2043, 2.2043, 2.2043, 2.2043, 2.2043, 2.2042, 2.2042, 2.0122, 2.1049, 2.0733, 2.0837, 1.8731, 1.8874, 2.0144, 1.6984, 1.3199, 1.6744, 1.9103, 0.7408, 0.2316, 1.9053, 1.1198, 0.7081, 1.5784, 1.0783, 0.5233, 2.3284, 2.3284, 2.3284, 2.3283, 2.3282, 2.3281, 2.3281, 2.3281, 2.3281, 2.3281, 2.328, 2.3279, 2.3279, 2.3279, 2.3278, 2.3278, 2.3277, 2.3277, 2.3277, 2.3277, 2.3276, 2.3276, 2.3276, 2.3275, 2.3275, 2.3275, 2.3275, 2.3275, 2.3274, 2.3274, 2.3126, 2.3129, 2.3044, 2.2533, 2.2857, 2.2441, 2.2534, 2.2695, 2.1633, 2.0843, 2.1004, 2.2678, 2.0551, 2.2882, 2.0346, 2.0456, 1.7929, 2.0617, 1.7803, 1.987, 1.157, 1.1846, 1.1174, 1.6222, 0.9349, 0.7722, 2.333, 2.333, 2.333, 2.3329, 2.3329, 2.3329, 2.3329, 2.3328, 2.3328, 2.3328, 2.3328, 2.3328, 2.3327, 2.3327, 2.3327, 2.3327, 2.3326, 2.3326, 2.3326, 2.3325, 2.3325, 2.3325, 2.3325, 2.3325, 2.3324, 2.3324, 2.3323, 2.3323, 2.3323, 2.3323, 2.3247, 2.3316, 2.1962, 2.0425, 2.1707, 1.8682, 2.0601, 2.2464, 1.94, 2.0903, 1.8088, 1.3215, 1.586, 1.3078, 1.6004, 0.758, 1.6655, 0.6222, 0.2832, 0.1333, 0.2235, 2.3826, 2.3825, 2.3825, 2.3825, 2.3825, 2.3825, 2.3824, 2.3824, 2.3824, 2.3824, 2.3824, 2.3824, 2.3823, 2.3823, 2.3823, 2.3822, 2.3821, 2.3821, 2.382, 2.382, 2.382, 2.3819, 2.3818, 2.3818, 2.3818, 2.3818, 2.3818, 2.3818, 2.3818, 2.3818, 2.3751, 2.3689, 2.3771, 2.3089, 2.3535, 2.2775, 2.2782, 2.2949, 2.3488, 2.2315, 2.0592, 2.11, 1.7895, 1.2256, 1.559, 1.2852, 1.7105, 1.43, 1.6066, 1.7242, 0.8003, 1.1422, 2.5001, 2.5001, 2.5, 2.5, 2.5, 2.4999, 2.4999, 2.4998, 2.4998, 2.4998, 2.4998, 2.4998, 2.4998, 2.4998, 2.4997, 2.4997, 2.4996, 2.4996, 2.4996, 2.4995, 2.4995, 2.4995, 2.4994, 2.4994, 2.4994, 2.4993, 2.4993, 2.4993, 2.4993, 2.4993, 2.4531, 2.4301, 2.2546, 2.2527, 2.3365, 2.1329, 2.3955, 1.7019, 1.836, 1.9827, 2.0191, 1.8547, 1.7017, 1.9927, 1.5512, 1.8263, 1.7462, 1.1392, 1.9633]}, \"token.table\": {\"Topic\": [7, 7, 7, 8, 7, 5, 7, 7, 7, 8, 7, 7, 8, 3, 6, 5, 1, 2, 4, 5, 1, 2, 3, 5, 8, 2, 2, 6, 4, 1, 1, 2, 3, 4, 7, 4, 4, 6, 6, 1, 8, 1, 5, 8, 4, 5, 8, 3, 1, 4, 5, 8, 3, 6, 2, 3, 3, 3, 6, 5, 5, 5, 1, 4, 1, 2, 3, 5, 8, 1, 3, 3, 8, 1, 1, 7, 3, 8, 6, 1, 4, 5, 7, 8, 4, 3, 6, 4, 1, 3, 6, 3, 4, 6, 2, 1, 2, 4, 6, 3, 4, 3, 4, 4, 5, 5, 1, 2, 3, 4, 5, 6, 7, 3, 4, 2, 4, 5, 8, 7, 8, 3, 6, 8, 4, 5, 8, 5, 7, 8, 5, 8, 5, 8, 3, 5, 6, 5, 6, 3, 2, 4, 5, 3, 4, 6, 8, 5, 1, 3, 5, 7, 8, 1, 2, 3, 4, 5, 6, 5, 2, 3, 4, 2, 3, 6, 2, 2, 2, 3, 1, 5, 8, 6, 2, 4, 6, 2, 3, 3, 1, 4, 6, 4, 1, 1, 4, 8, 7, 8, 4, 2, 1, 4, 1, 6, 6, 2, 7, 8, 1, 4, 6, 2, 3, 2, 3, 5, 7, 2, 3, 5, 6, 7, 8, 6, 1, 2, 3, 4, 5, 6, 3, 8, 3, 7, 5, 7, 3, 4, 3, 2, 3, 4, 5, 6, 7, 1, 4, 2, 3, 1, 2, 5, 7, 8, 3, 4, 6, 6, 4, 6, 2, 4, 6, 3, 6, 2, 4, 5, 6, 6, 1, 7, 3, 8, 1, 8, 2, 4, 2, 4, 2, 4, 7, 5, 4, 2, 4, 5, 5, 8, 2, 3, 4, 6, 4, 4, 3, 3, 4, 5, 7, 8, 6, 7, 8, 2, 4, 5, 6, 7, 2, 4, 5, 6, 7, 8, 3, 2, 7, 5, 7, 8, 1, 3, 5, 8, 3, 6, 4, 3, 5, 8, 4, 3, 4, 8, 8, 2, 8, 8, 2, 8, 2, 4, 4, 5, 3, 5, 8, 7, 2, 3, 1, 1, 2, 4, 4, 8, 1, 3, 1, 4, 1, 2, 5, 6, 7, 1, 7, 8, 1, 2, 3, 4, 1, 3, 4, 6, 7, 7, 1, 3, 4, 7, 5, 7, 5, 8, 3, 4, 5, 3, 5, 2, 5, 1, 2, 3, 4, 1, 3, 4, 6, 7, 8, 1, 2, 4, 5, 7, 6, 3, 1, 1, 4, 2, 3, 5, 6, 1, 3, 4, 5, 6, 8, 2, 3, 3, 5, 7, 8, 2, 8, 1, 2, 1, 2, 3, 4, 5, 7, 5, 7, 7, 4, 7, 7, 2, 3, 6, 1, 6, 7, 3, 1, 3, 6, 2, 1, 6, 2, 8, 1, 3, 6, 7, 1, 2, 5, 8, 2, 4, 3, 4, 5, 3, 4, 5, 7, 8, 1, 8, 2, 7, 6, 2, 8, 4, 6, 5, 6, 1, 2, 3, 5, 6, 7, 3, 1, 2, 3, 4, 5, 8, 2, 1, 8, 3, 4, 8, 3, 5, 3, 2, 7, 7, 2, 1, 6, 5, 1, 1, 2, 5, 8, 8, 5, 6, 5, 5, 5, 1, 2, 3, 6, 2, 3, 5, 6, 5, 5, 2, 4, 7, 1, 5, 7, 8, 1, 1, 8, 4, 2, 6, 2, 5, 2, 5, 8, 5, 8, 8, 5, 1, 2, 3, 4, 5, 7, 1, 5, 1, 4, 6, 8, 5, 1, 4, 8, 1, 1, 3, 4, 6, 7, 8, 1, 2, 8, 8, 2, 7, 3, 6, 6, 3, 6, 8, 4, 7, 8, 1, 4, 8, 6, 2, 2, 1, 5, 3, 4, 6, 1, 3, 5, 7, 8, 2, 4, 7, 1, 1, 1, 3, 5, 1, 2, 8, 4, 2, 8, 3, 8, 1, 1, 2, 3, 4, 5, 6, 7, 8, 2, 3, 4, 5, 6, 7, 7, 2, 3, 4, 6, 3, 6, 3, 8, 5, 6, 8, 1, 2, 3, 4, 6, 7, 8, 4, 5, 8, 1, 2, 3, 5, 1, 2, 3, 2, 5, 7, 1, 2, 3, 4, 5, 6, 7, 7, 8, 2, 3, 2, 3, 6, 2, 3, 4, 5, 6, 1, 2, 4, 5, 6, 1, 4, 6, 7, 8, 6, 4, 3, 6, 1, 2, 3, 4, 1, 5, 2, 5, 8, 5, 5, 4, 4, 1, 4, 5, 7, 1, 1, 2, 3, 4, 5, 6, 1, 3, 7, 3, 3, 4, 8, 5, 8], \"Freq\": [0.9998394428788931, 0.9994312793506246, 0.9008136076600014, 0.09900067380815546, 0.9995322799723109, 0.999003147577694, 0.9997103365527097, 0.9998560109907265, 0.9664491463513849, 0.033035862678263625, 0.9989862629355146, 0.9924717086860075, 0.00730378274153303, 0.0007280866887069417, 0.9982068502172171, 0.9994711371678541, 0.8565284919170096, 0.04909045557926845, 0.03331931374158492, 0.060641151009684556, 0.31481903978161596, 0.07938011432117313, 0.06109359583880864, 0.49352819767745076, 0.05132693255845488, 0.9997242976392141, 0.9286244580257506, 0.07088736320807257, 0.9997416669922876, 0.9997912512710845, 0.28725207877183045, 0.09020388165294581, 0.4634770007913959, 0.14494454370443105, 0.014094356508272782, 0.9990279331021621, 0.9999607771249068, 0.9996383552567747, 0.9992765241906288, 0.999698826160854, 0.9997681376477567, 0.030136239351132486, 0.7960076675883222, 0.17369432498743634, 0.41268957563663045, 0.5853186911132667, 0.0019492348959958927, 0.9993183407449785, 0.5828241807249374, 0.014281178272076905, 0.2978766473909532, 0.10495398469774862, 0.008366363345019919, 0.9916197866310494, 0.9249346824389065, 0.0747075808713159, 0.9991638593167822, 0.9998211802600386, 0.9993128481990351, 0.999224448742963, 0.9995583311092662, 0.998537119126758, 0.09483329892254479, 0.9048545996862081, 0.0396785047379135, 0.07418155233609915, 0.8356638128280564, 0.0003450304759818565, 0.05002941901736919, 0.9917766008344309, 0.00807907905174115, 0.9994970760891592, 0.9997949112120624, 0.9997874122103542, 0.9998702315663689, 0.9998881003322052, 0.999566859297667, 0.9997221872106671, 0.9997356205618367, 0.06984319517412045, 0.013103325112312863, 0.006798895105445353, 0.3856827768907182, 0.5245038533164479, 0.999707616295135, 0.12786511851650031, 0.8719207011679642, 0.9996857376445792, 0.7150310469675507, 0.1412799590895224, 0.14355134106845363, 0.9994621624231742, 0.21539707788485307, 0.7843516468264511, 0.9994377935201083, 0.6240420021149092, 0.12694112823919854, 0.24891563005707054, 0.9995696959135997, 0.2585352181881398, 0.7410658965789668, 0.8609902321664914, 0.1389987814337948, 0.9996200066937111, 0.999926251892382, 0.9985360863277697, 0.6048801073824223, 0.015228983144667725, 0.13622178586979644, 0.06410436982108067, 0.04765874614970396, 0.12875413022309987, 0.003146484120799117, 0.9994669126220415, 0.9998148750880091, 0.9997707221652735, 0.23128867079079332, 0.31858461650439157, 0.45009835195281506, 0.9997822245253669, 0.999545975118085, 0.023638766147200042, 0.19399039057573197, 0.782214397219284, 0.09195271780550311, 0.7658725060040599, 0.14213057164714843, 0.7107142394648348, 0.1395171659813561, 0.14975287512831365, 0.39776876584009035, 0.6021211290991773, 0.9841737197146886, 0.015773190438960718, 0.21872399123880057, 0.7535585833901481, 0.02751369663546903, 0.23873579080088794, 0.7610692932974512, 0.9995261483460256, 0.1241716890248126, 0.5881991357276837, 0.287468236006709, 0.6938732319403939, 0.09443056397901452, 0.01882230836068195, 0.19300841624089118, 0.9989664221497145, 0.08747579070838074, 0.02409853670274263, 0.21176351937213211, 0.05825394305308652, 0.6182128549412244, 0.36639903309473354, 0.38681936137230627, 0.18576664353083305, 0.037456716440576264, 0.01831995165473668, 0.005367629147247689, 0.9989912373438494, 0.9998930628061901, 0.11376484933843065, 0.88579949720394, 0.8538199758976941, 0.024887336013427335, 0.12130271923581619, 0.9999159807835516, 0.9997801646148022, 0.9901585878936311, 0.00966840665950128, 0.10070168646995846, 0.3144804473857016, 0.5845550908581444, 0.9991330311539137, 0.9992228674202187, 0.9998002936559861, 0.9996743961917121, 0.999457273665318, 0.9997665130267569, 0.9992570905758134, 0.1227767961332546, 0.8767453151189678, 0.00027043347165915107, 0.9995317578922848, 0.999507757128241, 0.999119988151919, 0.0007361355595151365, 0.9994685941975068, 0.9864245369807407, 0.013338444996909388, 0.9998473408442871, 0.999738308774081, 0.2549073198392392, 0.7448886093771646, 0.9996198178183034, 0.9996579543095437, 0.9991416724831342, 0.9992519722523702, 0.9995041516479315, 0.9995747154602896, 0.27960558845114963, 0.5344055131551257, 0.18568123057350244, 0.9995955926499638, 0.9993981419716909, 0.06456966793970767, 0.935271873881786, 0.9994063994825227, 0.9996410557528782, 0.06574000196608631, 0.10732658168245601, 0.3098832684378537, 0.1108053069819242, 0.3144293299087496, 0.09179091074278559, 0.9998763821931039, 0.7491242899836719, 0.09317513789015723, 0.06090751841590196, 0.04343718006149748, 0.025584976387871043, 0.027780701973397288, 0.8005428046732276, 0.1994026033618296, 0.0049433605515397825, 0.9943216652240019, 0.9994055337767506, 0.9995045776725303, 0.9339014785506443, 0.06606195464959214, 0.9996743054020195, 0.11356934983454132, 0.5015736324312133, 0.16612071993792807, 0.12729109647264786, 0.08510402436187352, 0.006276969206793415, 0.9894494357046417, 0.01026620165847392, 0.753542888667027, 0.24633092397143666, 0.0018608710225834504, 0.0057764537992694605, 0.032022488846956874, 0.9289235535858761, 0.031440966652399545, 0.9993869243491628, 0.9995481121145632, 0.999574940556953, 0.9997191292116585, 0.9993275944519685, 0.9997287217906216, 0.9874608483907984, 0.012483702255256617, 0.9998292733360111, 0.08285593700502994, 0.9168728837442834, 0.2920399220564469, 0.012703835471988296, 0.06702879727632735, 0.6281725337666431, 0.9994917002302024, 0.9997303802335324, 0.9996228183611929, 0.9997170891571722, 0.999561095110416, 0.9995953665547516, 0.9994015732991458, 0.9477186401446612, 0.05198913683079285, 0.9994050276667251, 0.9997968563231573, 0.9996514998909025, 0.0837830978052565, 0.9160285360041377, 0.9996991168490191, 0.9993773502974329, 0.13529797888859024, 0.7176357083690268, 0.14686566323079656, 0.95800342710752, 0.041453760322217585, 0.28418813346854876, 0.11301871314508292, 0.6026101510017907, 0.9994597998614668, 0.9998904127518333, 0.9997425307641914, 0.9994095364221799, 0.3377357853371878, 0.012861842157980788, 0.2050699309104629, 0.4388316635579599, 0.00548652008137642, 0.48067777834613057, 0.5176974869070841, 0.001735298838794695, 0.583362755869043, 0.03867171069731806, 0.19993274430513439, 0.12336275712444461, 0.05452711208321846, 0.038696477975795604, 0.021604394064225107, 0.11171386044602477, 0.0030082067684364076, 0.13222436113990937, 0.6927079767681291, 0.9986679315833564, 0.9995333598013868, 0.9997615601801187, 0.019543043314792573, 0.971289252745191, 0.008794369491656658, 0.30681310253004473, 0.6177639407651473, 0.05544565844777612, 0.020068018169530907, 0.25223563241082114, 0.7477370204649129, 0.9997142448106903, 0.01819963944806727, 0.04910468756742679, 0.9323022849340121, 0.9995856152363185, 0.2719922893982108, 0.727852058962494, 0.9999322875788166, 0.9999568408668781, 0.9998493333931178, 0.999439730967488, 0.9995850587235913, 0.9991396409387637, 0.9991671037682612, 0.17323172451012253, 0.8265208550779575, 0.07225628522581125, 0.9275416380851808, 0.2544564778466104, 0.7453721616473188, 0.998929350300451, 0.9989512522325444, 0.8517074975670899, 0.14821956604395078, 0.9996661903046921, 0.9827520936018196, 0.011162939220550748, 0.0059949118036291054, 0.9996850975315312, 0.9994761073481481, 0.9996168265904983, 0.9996184209571375, 0.9993925623197796, 0.9996691451835229, 0.2492864771654887, 0.05307861848604385, 0.10560814781533552, 0.5919181109788476, 0.9999235762040666, 0.5266082463612868, 0.46015722109303253, 0.013064400598855814, 0.8788741733290836, 0.08108742242732148, 0.018578720939894197, 0.021415865516922376, 0.09141977912895882, 0.06388720513890124, 0.06718335836306306, 0.053804854100288596, 0.7236995240696475, 0.999853938790344, 0.3523244738103917, 0.6371730670714681, 0.010483855820885351, 0.9997501764540445, 0.14003268707576422, 0.8597135335084469, 0.9760316014115347, 0.0234622981108542, 0.015431457970976805, 0.05701792945208379, 0.9275875541367667, 0.038897570682232874, 0.9606310759558583, 0.01514200261725811, 0.98465078130559, 0.7730011765481299, 0.0808660167046821, 0.05494991978486832, 0.09138834176986965, 0.9995756005432417, 0.09232621233794172, 0.06568084081184021, 0.4737547057340848, 0.12416743131163302, 0.24407160317908982, 0.9359220849521132, 0.004012404822798133, 0.04723173677122374, 0.010202972263686681, 0.0026367231692673446, 0.9990351172045631, 0.9995981440642487, 0.9996839715954958, 0.9997888258858234, 0.9993292792118331, 0.054781974293721065, 0.1286711272594243, 0.7607801330724044, 0.05574942637837839, 0.14927761816353458, 0.7577102758521983, 0.00599806230995692, 0.0006739395853884179, 0.015298428588317087, 0.07110062625847809, 0.9990547416791006, 0.9993202594076436, 0.9999020461669036, 0.20342017064682094, 0.7613959800917153, 0.035128784489210044, 0.9462528651951037, 0.05343140040263791, 0.9203810234100779, 0.0796298788297598, 0.06629482122401487, 0.06431146247320092, 0.7463336780190496, 0.07173850800816377, 0.051314132787015965, 0.9994635920214585, 0.0997855393924642, 0.900246993573468, 0.9995218280010835, 0.9995920386186893, 0.9990675663300534, 0.9997183302373824, 0.22421954954876677, 0.7212361131529558, 0.05445626594376672, 0.8142041041500389, 0.18577462646094187, 0.9996430959383119, 0.99965684899404, 0.06402673627296378, 0.8705228047909267, 0.0654432569869674, 0.9996728944146697, 0.9993891219503613, 0.9993666988503536, 0.9993478355114834, 0.9999478563880724, 0.1842751002625264, 0.05742695432244412, 0.24751744236445852, 0.5106637393862911, 0.06389548306033695, 0.23475805614647474, 0.1913304854870814, 0.5097400097069777, 0.6620811056199084, 0.33787874644268867, 0.9989448285464848, 0.999489318006733, 0.999564615073955, 0.043822964908026875, 0.04546819567249205, 0.33024268435810017, 0.5524984039940317, 0.02781935656277474, 0.999657251018421, 0.9987514857863133, 0.9998804543635175, 0.9993149518079296, 0.9989857242174319, 0.0455988510629174, 0.954095043995852, 0.9991731414236945, 0.9997196277131358, 0.9996207500746799, 0.9993220377656509, 0.9998711200360345, 0.6632886335647857, 0.02177776939471623, 0.31463691592175735, 0.5128498803997699, 0.48699190323675623, 0.9998478731381829, 0.7919756034479134, 0.037573652361381354, 0.028033794078090764, 0.08200930804934015, 0.04878716999261766, 0.011715615435620021, 0.9994550649375878, 0.5498589578266323, 0.450070137388863, 0.7987755935124563, 0.09483245289438035, 0.10631440907441743, 0.999268660751612, 0.9989287978213617, 0.9999655461366438, 0.9997198295153146, 0.9998520846105358, 0.9994735672444848, 0.9998719523136836, 0.9999017895641411, 0.998885469453688, 0.9994965931232886, 0.9992760930226151, 0.9996319306996619, 0.9993668978135658, 0.9992235004463181, 0.9994510530708033, 0.9997345591868949, 0.9991137597217777, 0.9991554960891473, 0.9992063393406301, 0.9999404706413019, 0.9998133322772228, 0.18994910216222585, 0.3284378897944463, 0.24108508697880687, 0.24032831764748327, 0.03386674289630403, 0.5750695723524978, 0.0274719651590865, 0.36358148302723975, 0.9993320130480823, 0.9984816507078192, 0.8563948011076167, 0.14344220693767984, 0.9996698578583962, 0.3700958854117989, 0.039739146047470815, 0.33372854569562865, 0.2564178433850945, 0.999636869669936, 0.15070422005113873, 0.8488943023170423, 0.9995743937453891, 0.9997819922469069, 0.9998921261712351, 0.05710514509127905, 0.9427875244424716, 0.18597648450290152, 0.7833727034251989, 0.030664824925669257, 0.9191000753693191, 0.08081410292849561, 0.9995954779069413, 0.9997225438896987, 0.39338674147065306, 0.21343405088986908, 0.2466845052657881, 0.0910539063118338, 0.0426406289913406, 0.012776794968524439, 0.9998554872486177, 0.9985531700163252, 0.0008681413489192632, 0.3241061035965249, 0.6749798987847272, 0.9992532337986486, 0.9996954776465693, 0.9895872729347666, 0.010260891322288078, 0.9990956571897264, 0.9994126768432356, 0.36238571851448415, 0.03614000819274094, 0.031540370786392095, 0.030883279728342258, 0.06866601556620779, 0.47047719756368206, 0.9973312253286732, 0.0021605962420465194, 0.9997698076774809, 0.999856043357391, 0.9998980854529432, 0.9990703423995787, 0.8983191067022464, 0.10155645112389715, 0.999762885963253, 0.9999648995346374, 0.9995115665256923, 0.9996511185888197, 0.9998639826679896, 0.998749914887467, 0.9997292806463892, 0.2144790732120298, 0.18935250491077363, 0.5961401498925484, 0.9995381382468989, 0.9993592045774896, 0.9998448660254341, 0.9998474566309178, 0.9989416275562509, 0.04272952216691032, 0.10696164258555615, 0.8499039796166743, 0.1955044786917653, 0.3827248693033711, 0.0939288140781167, 0.20550910814241952, 0.12234960856851022, 0.16415541814009588, 0.8246992189893745, 0.01109675320760555, 0.9997993760361081, 0.9998813071051385, 0.9996430478375101, 0.8977645513928159, 0.10174937337132961, 0.9834299535525699, 0.01649067623101786, 0.9994053400053676, 0.9997765715592797, 0.9997193465667596, 0.9995352871693333, 0.9997267702744462, 0.9995219318466911, 0.999543332416306, 0.5039004971331799, 0.10004775458785826, 0.023742147192632245, 0.15284745506102548, 0.08729077997689168, 0.01570997799313477, 0.11221412852239121, 0.004252324870322193, 0.1449520161146656, 0.3933583568734554, 0.18603555896773652, 0.2108844760159649, 0.03304905967414375, 0.031640954374744144, 0.9988821418448642, 0.304809110022855, 0.5033503898637376, 0.011118822881336848, 0.1807128224621874, 0.9989742857377873, 0.9994450859579814, 0.9643460727073239, 0.03492981369571315, 0.017255899923454356, 0.08142627776380025, 0.9005422772552742, 0.32220733135303636, 0.5344145784208967, 0.07118534064776386, 0.020681214756613497, 0.004945507876581489, 0.012138973878881836, 0.0344686912610225, 0.12496998471022663, 0.8477693557369428, 0.02717406301438589, 0.8423282348561575, 0.08842168468610297, 0.009465853188007021, 0.05975872736914713, 0.9470291252989015, 0.012955030458634323, 0.03984901773984988, 0.887827989063769, 0.107649143673982, 0.004491986849429783, 0.6829085078436911, 0.11877345803147171, 0.07852919128815557, 0.02581355594818579, 0.07271336603235949, 0.00024880535853673047, 0.020992952126536634, 0.999801359417556, 0.999552540152431, 0.9993422383096768, 0.99965008166842, 0.3554607666562911, 0.437556692542091, 0.20699631082463052, 0.005929858622748677, 0.41932571689437076, 0.22382863182375165, 0.24820693949505176, 0.10278421612764374, 0.8964135706275348, 0.021068742227017313, 0.03609084991354535, 0.046389024365316146, 0.999544821615975, 0.1425739625791357, 0.05238214647244489, 0.0010830894947310033, 0.2892833577745171, 0.5146644353599049, 0.999751801837859, 0.9999115503325574, 0.6412133325153021, 0.35865562965427766, 0.7628769169431906, 0.11956945158589904, 0.015060007083168302, 0.10247809471011733, 0.9999283274576772, 0.9986535729586058, 0.034817986516816675, 0.5779785761791568, 0.38715354684989384, 0.9995206507618632, 0.9985682895730726, 0.9993318316215815, 0.9998257205809804, 0.7360509221188631, 0.21790745068744102, 0.01986416079852565, 0.026086669000473444, 0.9996855331975573, 0.7124655996688248, 0.0494951839964028, 0.036242690027633716, 0.09046267622159766, 0.08689026480392947, 0.02443068453373083, 0.8416507669856323, 0.12267240329408671, 0.035642783844805945, 0.998995163461575, 0.04181561223593312, 0.1773323310740184, 0.7808425550179348, 0.9410860265925803, 0.058571482205642345], \"Term\": [\"00\", \"04\", \"10\", \"10\", \"12\", \"127\", \"13\", \"15\", \"18\", \"18\", \"2008\", \"2013\", \"2013\", \"255\", \"255\", \"52\", \"able\", \"able\", \"able\", \"able\", \"access\", \"access\", \"access\", \"access\", \"access\", \"account\", \"action\", \"action\", \"activity\", \"actually\", \"add\", \"add\", \"add\", \"add\", \"add\", \"alert\", \"android\", \"angular\", \"animation\", \"answer\", \"apache\", \"api\", \"api\", \"api\", \"app\", \"app\", \"app\", \"appdata\", \"application\", \"application\", \"application\", \"application\", \"array\", \"array\", \"asp\", \"asp\", \"assert\", \"async\", \"audio\", \"auth\", \"authentication\", \"awt\", \"background\", \"background\", \"base\", \"base\", \"base\", \"base\", \"base\", \"based\", \"based\", \"bean\", \"beans\", \"best\", \"better\", \"bin\", \"boolean\", \"boot\", \"buffer\", \"build\", \"build\", \"build\", \"build\", \"build\", \"button\", \"byte\", \"byte\", \"canvas\", \"case\", \"case\", \"case\", \"catch\", \"cell\", \"cell\", \"certificate\", \"change\", \"change\", \"change\", \"char\", \"child\", \"child\", \"class\", \"class\", \"click\", \"client\", \"cloud\", \"code\", \"code\", \"code\", \"code\", \"code\", \"code\", \"code\", \"col\", \"color\", \"column\", \"com\", \"com\", \"com\", \"command\", \"common\", \"compile\", \"compile\", \"compile\", \"component\", \"component\", \"component\", \"config\", \"config\", \"config\", \"configuration\", \"configuration\", \"connection\", \"connection\", \"console\", \"console\", \"console\", \"const\", \"const\", \"constructor\", \"content\", \"content\", \"content\", \"context\", \"context\", \"context\", \"context\", \"cookie\", \"core\", \"core\", \"core\", \"core\", \"core\", \"create\", \"create\", \"create\", \"create\", \"create\", \"create\", \"credential\", \"crypto\", \"cs\", \"cs\", \"data\", \"data\", \"data\", \"database\", \"date\", \"datetime\", \"datetime\", \"debug\", \"debug\", \"debug\", \"declaration\", \"define\", \"defined\", \"delegate\", \"delete\", \"dependency\", \"derived\", \"device\", \"device\", \"device\", \"dialog\", \"difference\", \"different\", \"different\", \"dir\", \"directory\", \"directory\", \"div\", \"django\", \"document\", \"document\", \"doe\", \"double\", \"draw\", \"drop\", \"dylib\", \"eclipse\", \"element\", \"element\", \"element\", \"email\", \"endpoint\", \"entity\", \"entity\", \"env\", \"err\", \"error\", \"error\", \"error\", \"error\", \"error\", \"error\", \"event\", \"example\", \"example\", \"example\", \"example\", \"example\", \"example\", \"exception\", \"exception\", \"exit\", \"exit\", \"export\", \"express\", \"extends\", \"extends\", \"factory\", \"false\", \"false\", \"false\", \"false\", \"false\", \"false\", \"far\", \"far\", \"field\", \"field\", \"file\", \"file\", \"file\", \"file\", \"file\", \"files\", \"firebase\", \"flag\", \"float\", \"font\", \"foo\", \"form\", \"form\", \"frame\", \"func\", \"func\", \"function\", \"function\", \"function\", \"function\", \"game\", \"gcc\", \"gem\", \"generic\", \"git\", \"good\", \"gradle\", \"group\", \"group\", \"head\", \"height\", \"hibernate\", \"home\", \"home\", \"host\", \"href\", \"html\", \"html\", \"html\", \"http\", \"http\", \"id\", \"id\", \"id\", \"identifier\", \"image\", \"img\", \"implicit\", \"import\", \"import\", \"import\", \"import\", \"import\", \"include\", \"include\", \"include\", \"index\", \"index\", \"index\", \"index\", \"index\", \"info\", \"info\", \"info\", \"info\", \"info\", \"info\", \"inject\", \"insert\", \"install\", \"installed\", \"installed\", \"installed\", \"instance\", \"instance\", \"instance\", \"instance\", \"int\", \"int\", \"intent\", \"internal\", \"internal\", \"internal\", \"iphone\", \"item\", \"item\", \"jar\", \"java\", \"javascript\", \"javax\", \"jdbc\", \"join\", \"jpa\", \"jquery\", \"jquery\", \"js\", \"js\", \"json\", \"json\", \"junit\", \"kernel\", \"key\", \"key\", \"kind\", \"know\", \"know\", \"know\", \"label\", \"lang\", \"language\", \"laravel\", \"large\", \"layout\", \"let\", \"let\", \"let\", \"let\", \"lib\", \"library\", \"library\", \"library\", \"like\", \"like\", \"like\", \"like\", \"line\", \"line\", \"line\", \"line\", \"line\", \"linux\", \"list\", \"list\", \"list\", \"loader\", \"local\", \"local\", \"localhost\", \"localhost\", \"log\", \"log\", \"log\", \"logging\", \"logging\", \"login\", \"login\", \"look\", \"look\", \"look\", \"look\", \"looking\", \"main\", \"main\", \"main\", \"main\", \"main\", \"make\", \"make\", \"make\", \"make\", \"make\", \"math\", \"maven\", \"mean\", \"memory\", \"menu\", \"message\", \"message\", \"message\", \"message\", \"method\", \"method\", \"method\", \"method\", \"method\", \"method\", \"mobile\", \"mock\", \"model\", \"module\", \"module\", \"module\", \"mysql\", \"mysql\", \"need\", \"need\", \"new\", \"new\", \"new\", \"new\", \"new\", \"nil\", \"node\", \"node\", \"node_modules\", \"notification\", \"np\", \"npm\", \"null\", \"null\", \"null\", \"number\", \"number\", \"numpy\", \"obj\", \"object\", \"object\", \"object\", \"openssl\", \"operation\", \"operator\", \"oracle\", \"org\", \"output\", \"output\", \"output\", \"output\", \"package\", \"package\", \"package\", \"package\", \"page\", \"page\", \"params\", \"parent\", \"parser\", \"path\", \"path\", \"path\", \"path\", \"path\", \"performance\", \"persistence\", \"php\", \"pip\", \"play\", \"plugin\", \"plugin\", \"png\", \"pointer\", \"port\", \"position\", \"possible\", \"post\", \"post\", \"post\", \"print\", \"print\", \"private\", \"problem\", \"problem\", \"problem\", \"problem\", \"problem\", \"problem\", \"profile\", \"project\", \"project\", \"property\", \"property\", \"property\", \"protected\", \"protocol\", \"public\", \"py\", \"python\", \"python3\", \"query\", \"question\", \"queue\", \"react\", \"real\", \"really\", \"record\", \"redis\", \"reflect\", \"release\", \"remote\", \"report\", \"req\", \"request\", \"response\", \"result\", \"result\", \"result\", \"result\", \"return\", \"return\", \"return\", \"return\", \"route\", \"router\", \"row\", \"row\", \"ruby\", \"run\", \"run\", \"run\", \"run\", \"say\", \"schema\", \"schema\", \"screen\", \"select\", \"self\", \"send\", \"send\", \"server\", \"server\", \"server\", \"service\", \"service\", \"servlet\", \"session\", \"set\", \"set\", \"set\", \"set\", \"set\", \"set\", \"similar\", \"sinatra\", \"size\", \"size\", \"size\", \"slf4j\", \"socket\", \"solution\", \"solution\", \"sonar\", \"sort\", \"source\", \"source\", \"source\", \"source\", \"source\", \"source\", \"specific\", \"specific\", \"spring\", \"springframework\", \"sql\", \"ssh\", \"static\", \"static\", \"std\", \"string\", \"struct\", \"studio\", \"style\", \"sum\", \"sun\", \"support\", \"support\", \"support\", \"swift\", \"tab\", \"table\", \"target\", \"tcp\", \"template\", \"template\", \"template\", \"test\", \"test\", \"test\", \"test\", \"test\", \"text\", \"text\", \"text\", \"thing\", \"think\", \"thought\", \"throw\", \"throw\", \"time\", \"time\", \"timeout\", \"title\", \"token\", \"tomcat\", \"tostring\", \"transaction\", \"tree\", \"tried\", \"tried\", \"tried\", \"tried\", \"tried\", \"tried\", \"tried\", \"tried\", \"true\", \"true\", \"true\", \"true\", \"true\", \"true\", \"txt\", \"type\", \"type\", \"type\", \"type\", \"typeof\", \"ubuntu\", \"unit\", \"unit\", \"unknown\", \"unknown\", \"unknown\", \"update\", \"update\", \"update\", \"update\", \"update\", \"update\", \"update\", \"url\", \"url\", \"url\", \"use\", \"use\", \"use\", \"use\", \"used\", \"used\", \"used\", \"user\", \"user\", \"user\", \"using\", \"using\", \"using\", \"using\", \"using\", \"using\", \"using\", \"usr\", \"util\", \"val\", \"validation\", \"value\", \"value\", \"value\", \"var\", \"var\", \"var\", \"var\", \"var\", \"ve\", \"ve\", \"ve\", \"ve\", \"vector\", \"version\", \"version\", \"version\", \"version\", \"version\", \"video\", \"view\", \"void\", \"void\", \"want\", \"want\", \"want\", \"want\", \"way\", \"wcf\", \"web\", \"web\", \"web\", \"webpack\", \"websocket\", \"widget\", \"width\", \"window\", \"window\", \"window\", \"window\", \"word\", \"work\", \"work\", \"work\", \"work\", \"work\", \"work\", \"write\", \"write\", \"write\", \"writeline\", \"xml\", \"xml\", \"xml\", \"xxx\", \"xxx\"]}, \"R\": 30, \"lambda.step\": 0.01, \"plot.opts\": {\"xlab\": \"PC1\", \"ylab\": \"PC2\"}, \"topic.order\": [6, 8, 3, 7, 4, 5, 2, 1]};\n",
       "\n",
       "function LDAvis_load_lib(url, callback){\n",
       "  var s = document.createElement('script');\n",
       "  s.src = url;\n",
       "  s.async = true;\n",
       "  s.onreadystatechange = s.onload = callback;\n",
       "  s.onerror = function(){console.warn(\"failed to load library \" + url);};\n",
       "  document.getElementsByTagName(\"head\")[0].appendChild(s);\n",
       "}\n",
       "\n",
       "if(typeof(LDAvis) !== \"undefined\"){\n",
       "   // already loaded: just create the visualization\n",
       "   !function(LDAvis){\n",
       "       new LDAvis(\"#\" + \"ldavis_el899251402370540437288291247535\", ldavis_el899251402370540437288291247535_data);\n",
       "   }(LDAvis);\n",
       "}else if(typeof define === \"function\" && define.amd){\n",
       "   // require.js is available: use it to load d3/LDAvis\n",
       "   require.config({paths: {d3: \"https://d3js.org/d3.v5\"}});\n",
       "   require([\"d3\"], function(d3){\n",
       "      window.d3 = d3;\n",
       "      LDAvis_load_lib(\"https://cdn.jsdelivr.net/gh/bmabey/pyLDAvis@3.4.0/pyLDAvis/js/ldavis.v3.0.0.js\", function(){\n",
       "        new LDAvis(\"#\" + \"ldavis_el899251402370540437288291247535\", ldavis_el899251402370540437288291247535_data);\n",
       "      });\n",
       "    });\n",
       "}else{\n",
       "    // require.js not available: dynamically load d3 & LDAvis\n",
       "    LDAvis_load_lib(\"https://d3js.org/d3.v5.js\", function(){\n",
       "         LDAvis_load_lib(\"https://cdn.jsdelivr.net/gh/bmabey/pyLDAvis@3.4.0/pyLDAvis/js/ldavis.v3.0.0.js\", function(){\n",
       "                 new LDAvis(\"#\" + \"ldavis_el899251402370540437288291247535\", ldavis_el899251402370540437288291247535_data);\n",
       "            })\n",
       "         });\n",
       "}\n",
       "</script>"
      ],
      "text/plain": [
       "PreparedData(topic_coordinates=              x         y  topics  cluster       Freq\n",
       "topic                                                \n",
       "5      0.034510  0.129733       1        1  25.687626\n",
       "7      0.175236  0.033605       2        1  13.371217\n",
       "2      0.172523 -0.056429       3        1  13.034690\n",
       "6      0.008929  0.269991       4        1  11.025654\n",
       "3     -0.146261  0.112198       5        1   9.744048\n",
       "4      0.238977 -0.197945       6        1   9.698978\n",
       "1     -0.188426 -0.236866       7        1   9.230328\n",
       "0     -0.295487 -0.054288       8        1   8.207459, topic_info=        Term          Freq         Total Category  logprob  loglift\n",
       "67      java  27982.000000  27982.000000  Default  30.0000  30.0000\n",
       "30      file  25794.000000  25794.000000  Default  29.0000  29.0000\n",
       "696      org  20164.000000  20164.000000  Default  28.0000  28.0000\n",
       "75   android  21451.000000  21451.000000  Default  27.0000  27.0000\n",
       "257   string  21744.000000  21744.000000  Default  26.0000  26.0000\n",
       "..       ...           ...           ...      ...      ...      ...\n",
       "830      web   3447.043745   8903.444197   Topic8  -4.5275   1.5512\n",
       "4    package   2864.200046   5618.550527   Topic8  -4.7127   1.8263\n",
       "790   source   2864.144798   6087.436362   Topic8  -4.7127   1.7462\n",
       "451      run   3193.941957  12456.231430   Topic8  -4.6037   1.1392\n",
       "5      debug   2409.164438   4121.082919   Topic8  -4.8857   1.9633\n",
       "\n",
       "[458 rows x 6 columns], token_table=      Topic      Freq Term\n",
       "term                      \n",
       "7945      7  0.999839   00\n",
       "1798      7  0.999431   04\n",
       "2263      7  0.900814   10\n",
       "2263      8  0.099001   10\n",
       "3143      7  0.999532   12\n",
       "...     ...       ...  ...\n",
       "410       3  0.041816  xml\n",
       "410       4  0.177332  xml\n",
       "410       8  0.780843  xml\n",
       "4856      5  0.941086  xxx\n",
       "4856      8  0.058571  xxx\n",
       "\n",
       "[738 rows x 3 columns], R=30, lambda_step=0.01, plot_opts={'xlab': 'PC1', 'ylab': 'PC2'}, topic_order=[6, 8, 3, 7, 4, 5, 2, 1])"
      ]
     },
     "execution_count": 44,
     "metadata": {},
     "output_type": "execute_result"
    }
   ],
   "source": [
    "pyLDAvis.enable_notebook()\n",
    "vis = pyLDAvis.gensim.prepare(lda_model, gensim_corpus_text_cv, id2word_text_cv)\n",
    "vis"
   ]
  },
  {
   "cell_type": "code",
   "execution_count": null,
   "metadata": {},
   "outputs": [],
   "source": []
  },
  {
   "cell_type": "code",
   "execution_count": 45,
   "metadata": {},
   "outputs": [],
   "source": [
    "Mtopics_words = lda_model.get_topics()"
   ]
  },
  {
   "cell_type": "code",
   "execution_count": 46,
   "metadata": {},
   "outputs": [
    {
     "data": {
      "text/plain": [
       "(8, 9073)"
      ]
     },
     "execution_count": 46,
     "metadata": {},
     "output_type": "execute_result"
    }
   ],
   "source": [
    "Mtopics_words.shape"
   ]
  },
  {
   "cell_type": "code",
   "execution_count": 47,
   "metadata": {},
   "outputs": [],
   "source": [
    "Mtrain_quest_topics = [lda_model.get_document_topics(doc) for doc in gensim_corpus_text_cv]"
   ]
  },
  {
   "cell_type": "code",
   "execution_count": 48,
   "metadata": {},
   "outputs": [],
   "source": [
    "Mtrain_quest_topics_matrix = np.zeros((len(Mtrain_quest_topics), lda_model.num_topics))\n",
    "\n",
    "for i, doc_topics in enumerate(Mtrain_quest_topics):\n",
    "    for topic, prob in doc_topics:\n",
    "        Mtrain_quest_topics_matrix[i, topic] = prob\n",
    "\n",
    "Mtrain_quest_words = np.dot(Mtrain_quest_topics_matrix, Mtopics_words)"
   ]
  },
  {
   "cell_type": "code",
   "execution_count": 49,
   "metadata": {},
   "outputs": [],
   "source": [
    "cv_transform_text_test = cv_fit.transform(X_test['text'])\n",
    "gensim_corpus_text_test = Sparse2Corpus(cv_transform_text_test, documents_columns=False)"
   ]
  },
  {
   "cell_type": "code",
   "execution_count": 50,
   "metadata": {},
   "outputs": [],
   "source": [
    "Mtest_quest_topics = [lda_model.get_document_topics(doc) for doc in gensim_corpus_text_test]"
   ]
  },
  {
   "cell_type": "code",
   "execution_count": 51,
   "metadata": {},
   "outputs": [],
   "source": [
    "Mtest_quest_topics_matrix = np.zeros((len(Mtest_quest_topics), lda_model.num_topics))\n",
    "\n",
    "for i, doc_topics in enumerate(Mtest_quest_topics):\n",
    "    for topic, prob in doc_topics:\n",
    "        Mtest_quest_topics_matrix[i, topic] = prob\n",
    "\n",
    "Mtest_quest_words = np.dot(Mtest_quest_topics_matrix, Mtopics_words)"
   ]
  },
  {
   "cell_type": "code",
   "execution_count": 52,
   "metadata": {},
   "outputs": [],
   "source": [
    "threshold = 0.01\n",
    "Mtrain_quest_words[Mtrain_quest_words < threshold] = 0\n",
    "Mtest_quest_words[Mtest_quest_words < threshold] = 0"
   ]
  },
  {
   "cell_type": "code",
   "execution_count": null,
   "metadata": {},
   "outputs": [],
   "source": []
  },
  {
   "cell_type": "code",
   "execution_count": 53,
   "metadata": {},
   "outputs": [],
   "source": [
    "topic_word_matrix = lda_model.get_topics()\n",
    "topic_word_df = pd.DataFrame(topic_word_matrix, columns=cv_fit.get_feature_names_out())"
   ]
  },
  {
   "cell_type": "code",
   "execution_count": null,
   "metadata": {},
   "outputs": [],
   "source": []
  },
  {
   "cell_type": "code",
   "execution_count": 54,
   "metadata": {},
   "outputs": [],
   "source": [
    "train_quest_topics = lda_model.get_document_topics(gensim_corpus_text_cv, minimum_probability=0)\n",
    "train_quest_topics_matrix = np.zeros((len(X_train), lda_model.num_topics))\n",
    "\n",
    "for i, topic_probs in enumerate(train_quest_topics):\n",
    "    for topic, prob in topic_probs:\n",
    "        train_quest_topics_matrix[i, topic] = prob\n",
    "\n",
    "train_quest_topics_df = pd.DataFrame(train_quest_topics_matrix)\n"
   ]
  },
  {
   "cell_type": "code",
   "execution_count": 55,
   "metadata": {},
   "outputs": [],
   "source": [
    "test_quest_topics = lda_model.get_document_topics(gensim_corpus_text_test, minimum_probability=0)\n",
    "test_quest_topics_matrix = np.zeros((len(X_test), lda_model.num_topics))\n",
    "\n",
    "for i, topic_probs in enumerate(test_quest_topics):\n",
    "    for topic, prob in topic_probs:\n",
    "        test_quest_topics_matrix[i, topic] = prob\n",
    "\n",
    "test_quest_topics_df = pd.DataFrame(test_quest_topics_matrix)"
   ]
  },
  {
   "cell_type": "code",
   "execution_count": 56,
   "metadata": {},
   "outputs": [],
   "source": [
    "topics_words_matrix = lda_model.get_topics()\n",
    "train_quest_words_matrix = np.matmul(train_quest_topics_df, topics_words_matrix)\n",
    "test_quest_words_matrix = np.matmul(test_quest_topics_df, topics_words_matrix)"
   ]
  },
  {
   "cell_type": "code",
   "execution_count": 57,
   "metadata": {},
   "outputs": [],
   "source": [
    "n_top_words = 5\n",
    "train_quest_words_matrix_np = train_quest_words_matrix.to_numpy()\n",
    "test_quest_words_matrix_np = test_quest_words_matrix.to_numpy()\n",
    "\n",
    "train_keywords_indices = train_quest_words_matrix_np.argsort(axis=1)[:, -n_top_words:]\n",
    "test_keywords_indices = test_quest_words_matrix_np.argsort(axis=1)[:, -n_top_words:]"
   ]
  },
  {
   "cell_type": "code",
   "execution_count": 58,
   "metadata": {},
   "outputs": [],
   "source": [
    "train_keywords = [[id2word_text_cv[i] for i in keyword_indices] for keyword_indices in train_keywords_indices]\n",
    "test_keywords = [[id2word_text_cv [i] for i in keyword_indices] for keyword_indices in test_keywords_indices]"
   ]
  },
  {
   "cell_type": "code",
   "execution_count": null,
   "metadata": {},
   "outputs": [],
   "source": []
  },
  {
   "cell_type": "code",
   "execution_count": null,
   "metadata": {},
   "outputs": [],
   "source": []
  },
  {
   "cell_type": "code",
   "execution_count": null,
   "metadata": {},
   "outputs": [],
   "source": []
  },
  {
   "cell_type": "code",
   "execution_count": 59,
   "metadata": {},
   "outputs": [
    {
     "name": "stdout",
     "output_type": "stream",
     "text": [
      "Échantillon de l'ensemble d'entraînement :\n",
      "\n",
      "Question: docker network affecting host network container restart err_network_changed chrome    facing weird issue docker network using external bridge network named extenal_network docker container auto restart enabled able access host network container restarting due error maybe code infra related please refer attached screenshot clarity 've tried link luck superuser.com question 1336567 installing docker ubuntu break internet connectivity host success.docker.com article influence network address range docker chooses docker network create forums.docker.com cant access internet installing docker fresh ubuntu machine 53416 superuser.com question 747735 regularly getting err network changed error chrome 773971 dockerfile from node:10.20.1 alpine run apk add cache python make workdir home app copy package.json package lock.json run npm install copy docker compose version service app container_name app build context dockerfile dockerfile image 'network_poc latest' port 8080:8080 deploy resource limit memory network extenal_network restart always command node index.js network shared_network external name extenal_network docker inspect extenal_network name extenal_network 96476c227ddc14aa23d376392d380b2674fcbad109c90e7436c0cddd5c0a9ac5 created 2020 14t00:17:10.89980675 05:30 scope local driver bridge enableipv6 false ipam driver default option config subnet 172.18.0.0 gateway 172.18.0.1 internal false attachable false ingres false configfrom network configonly false container 7621a2b5a7e460a905bf86c427aea38b6374ac621c0c1a2b9eca4b671aea4dfe name app endpointid 04e9d14a17af05eb7a2b478526365cbce7f726a62f5e2cd315244c2639891b1e macaddress ipv4address 172.18.0.2 ipv6address option label any help suggestion highly appreciable\n",
      "Mots-clés: ['request', 'app', 'server', 'error', 'file']\n",
      "Tags réels: ['docker', 'google-chrome', 'networking', 'docker-compose', 'docker-networking']\n",
      "\n",
      "\n",
      "Question: nodejs import require conversion    learning nodejs problem tried search answer finding looking probably basic non issue working nodejs angular2 naturally thing like import stuff 'some_module' but trying work package usage example var stuff require 'some_module obviously code n't work use import etc else would n't posting something wrong luck particular module n't work import can someone shed light write proper import statement see usage sample require 'some_stuff use module download npm thanks advance edit tried npm install requirejs save then wrote require statement but getting 404 package\n",
      "Mots-clés: ['error', 'like', 'use', 'using', 'file']\n",
      "Tags réels: ['javascript', 'node.js', 'import', 'npm', 'require']\n",
      "\n",
      "\n",
      "Question: eslint error eslint could n't find config react app    team start new react project using create react app bootstrap command add eslint section project stuck annoying error never found when launch command yarn run lint here error here package.json name name app version 0.1.0 private true dependency jwt decode ^2.2.0 react ^16.12.0 react dom ^16.12.0 react intl ^3.12.0 react router ^5.1.2 react router dom ^5.1.2 react script 3.3.0 redux ^4.0.5 redux saga ^1.1.3 reselect ^4.0.0 styled component ^5.0.1 script analyze react app rewired build build react script build cypress node_modules .bin cypress open eject react script eject lint write eslint debug src fix lint eslint debug src prettier prettier write src .tsx src .ts src .tsx src .ts src .tsx src .ts src .tsx src .ts src .tsx src .ts start react script start storybook start storybook 6006 .storybook test react script test upgrade check npm check upgrade interactive npm check update eslintconfig extends react app lint staged ts|tsx yarn run prettier browserslist production 0.2 dead op_mini development last chrome version last firefox version last safari version devdependencies cypress webpack preprocessor ^4.1.2 storybook addon action ^5.3.12 storybook addon info ^5.3.12 storybook addon knob ^5.3.12 storybook addon link ^5.3.12 storybook addons ^5.3.12 storybook preset create react app ^1.5.2 storybook react ^5.3.12 testing library jest dom ^4.2.4 testing library react ^9.3.2 testing library user event ^7.1.2 type jest ^24.0.0 type jwt decode ^2.2.1 type node ^12.0.0 type react ^16.9.0 type react dom ^16.9.0 type react redux ^7.1.7 type react router ^5.1.4 type react router dom ^5.1.3 type storybook__addon knob ^5.2.1 type styled component ^4.4.2 cypress ^4.0.1 eslint ^6.8.0 husky ^4.2.1 lint staged ^10.0.7 npm check ^5.9.0 prettier ^1.19.1 react app rewire webpack bundle analyzer ^1.1.0 react app rewired ^2.1.5 react docgen typescript webpack plugin ^1.1.0 redux devtools extension ^2.13.8 storybook addon jsx ^7.1.14 loader ^6.2.1 typescript ~3.7.2 webpack ^4.41.6 webpack bundle analyzer ^3.6.0 also tried add create .eslintrc file add extends react app but nothing change\n",
      "Mots-clés: ['request', 'app', 'server', 'error', 'file']\n",
      "Tags réels: ['javascript', 'reactjs', 'typescript', 'create-react-app', 'eslint']\n",
      "\n",
      "\n",
      "Question: monotouch camera image capture upload    would like able capture image choose image photo library upload remote server using monotouch sure obtain encode image upload image difficulty finding relevant instruction can help get started thank\n",
      "Mots-clés: ['code', 'image', 'using', 'function', 'android']\n",
      "Tags réels: ['image', 'file-upload', 'xamarin.ios', 'capture', 'photos']\n",
      "\n",
      "\n",
      "Question: why aspect detected jersey controller using custom annotation    want create aspect jersey controller measure long service take executed fighting pointcut since n't detected aspect never get launched tried using lot pointcuts like execution monitor execution public change order aspect component added pointcut like pointcut execution monitor public void monitorrequesttargets around monitorrequesttargets tried using aop cglib aop aspectj autoproxy proxy target class= true also tried changing order configuration context.xml eclipse detects method adviced aspect n't executed runtime could give hint aspect created pointcut n't launch code following context.xml xml version= 1.0 encoding= utf bean bean xmlns= www.springframework.org schema mvc xmlns xsi= www.w3.org 2001 xmlschema instance xmlns beans= www.springframework.org schema bean xmlns context= www.springframework.org schema context xmlns aop= www.springframework.org schema aop xsi schemalocation= www.springframework.org schema mvc www.springframework.org schema mvc spring mvc 3.0.xsd www.springframework.org schema bean www.springframework.org schema bean spring bean 3.0.xsd www.springframework.org schema context www.springframework.org schema context spring context 3.0.xsd www.springframework.org schema aop www.springframework.org schema aop spring aop 3.0.xsd enables spring mvc controller annotation driven enables aspectj aop aspectj autoproxy ..... definition context component scan base package= com.mypackage bean bean monitoraspect component aspect public class monitoraspect private static final logger logger loggerfactory.getlogger monitoraspect.class around annotation com.mypackage.monitor public void logtimeusage proceedingjoinpoint joinpoint throw throwable store executing method string method joinpoint.getsignature .getname track time long starttime system.currenttimemillis joinpoint.proceed long endtime system.currenttimemillis long duration endtime starttime log time consumed executing method logger.info method duration monitor custom annotation target value elementtype.method retention value retentionpolicy.runtime public interface monitor controller want use aspect monitor post consumes application json produce application json path tkn test public response test context httpservletrequest context uriinfo uri string enrollreqjson thread.sleep 1000 implementation important pom.xml spring dependency groupid org.springframework groupid artifactid spring context artifactid version org.springframework version version exclusion exclude common logging favor slf4j exclusion groupid common logging groupid artifactid common logging artifactid exclusion exclusion dependency dependency groupid org.springframework groupid artifactid spring orm artifactid version org.springframework version version dependency dependency groupid org.springframework groupid artifactid spring artifactid version org.springframework version version dependency dependency groupid org.springframework groupid artifactid spring webmvc artifactid version org.springframework version version dependency dependency groupid org.springframework groupid artifactid spring orm artifactid version org.springframework version version dependency jersey spring dependency groupid com.sun.jersey.contribs groupid artifactid jersey spring artifactid version 1.14 version exclusion exclusion groupid org.springframework groupid artifactid spring aop artifactid exclusion exclusion groupid org.springframework groupid artifactid spring artifactid exclusion exclusion groupid org.springframework groupid artifactid spring core artifactid exclusion exclusion groupid org.springframework groupid artifactid spring web artifactid exclusion exclusion groupid org.springframework groupid artifactid spring bean artifactid exclusion exclusion groupid org.springframework groupid artifactid spring context artifactid exclusion exclusion dependency dependency groupid com.sun.jersey groupid artifactid jersey bundle artifactid version 1.8 version dependency dependency groupid com.sun.jersey.contribs groupid artifactid jersey multipart artifactid version 1.8 version dependency spring aop aspectj dependency groupid org.aspectj groupid artifactid aspectjrt artifactid version org.aspectj version version dependency dependency groupid org.springframework groupid artifactid spring aop artifactid version org.springframework version version dependency dependency groupid org.aspectj groupid artifactid aspectjweaver artifactid version org.aspectj version version dependency\n",
      "Mots-clés: ['springframework', 'jar', 'com', 'org', 'java']\n",
      "Tags réels: ['java', 'jersey', 'aop', 'aspectj', 'spring-aop']\n",
      "\n",
      "\n",
      "Question: how properly mock antd upload dragger jest    following react code project import react 'react import upload 'antd const dragger upload dragger accept= accepted_formats beforeupload= beforeupload data testid= upload dragger maxcount= onchange= file status status === 'done onuploadcomplete progress= progress showuploadlist= false button code ommited clarity needed 'll post dragger and want test callback function onuploadcomplete called file.status 'done here test right jest.mock simulate dumb request always succeed import react 'react import fireevent render waitfor testing library react import act 'react dom test utils import draggerprops 'antd lib upload import userevent testing library user event import uploadcompanylogo uploadcompanylogo this component dragger placed jest.mock 'antd const antd jest.requireactual 'antd const upload antd const dragger upload const mockeddragger prop draggerprops console.log 'log test return dragger prop action= greeting customrequest= onsuccess settimeout onsuccess 'ok return antd upload upload dragger mockeddragger the test file mock render component antd imported simulate upload check callback called 'completes image upload async const flushpromises new promise setimmediate const getbytestid render elementrenderer onuploadcomplete const file new file ⌐□_□ 'chucknorris.png type 'image png const uploaddragger await waitfor getbytestid 'upload dragger await act async userevent.upload uploaddragger file await flushpromises expect onuploadcomplete .tohavebeencalledtimes expect onuploadcomplete .tohavebeencalledwith elementrenderer const elementrenderer onuploadcomplete applicationprovider uploadcompanylogo onuploadcomplete= onuploadcomplete applicationprovider applicationprovider import react propswithchildren 'react import configprovider antdprovider 'antd import rendererprovider felaprovider 'react fela import createrenderer 'fela import i18nextprovider 'react i18next import antdexternalcontainer external_container_id 'src util antdexternalcontainer import antdlocale 'src util locale import rendererconfig 'src fela felaconfig import i18n 'src i18n const applicationprovider prop propswithchildren const child prop return antdprovider locale= antdlocale getpopupcontainer= antdexternalcontainer felaprovider renderer= createrenderer rendererconfig i18nextprovider i18n= i18n div classname= antd local div id= external_container_id child div i18nextprovider felaprovider antdprovider export default applicationprovider this currently working already improved help diedu the console.log put mockeddragger currently showing put console.log component mockeddragger print component log any tip proceed already seen issue help\n",
      "Mots-clés: ['file', 'request', 'app', 'server', 'error']\n",
      "Tags réels: ['javascript', 'reactjs', 'jestjs', 'antd', 'react-testing-library']\n",
      "\n",
      "\n",
      "Question: how deserialize xml document    how deserialize xml document xml version= 1.0 encoding= utf car car stocknumber 1020 stocknumber make nissan make model sentra model car car stocknumber 1010 stocknumber make toyota make model corolla model car car stocknumber 1111 stocknumber make honda make model accord model car car serializable public class car system.xml.serialization.xmlelementattribute stocknumber public string stocknumber get set system.xml.serialization.xmlelementattribute make public string make get set system.xml.serialization.xmlelementattribute model public string model get set system.xml.serialization.xmlrootattribute car namespace isnullable false public class car xmlarrayitem typeof car public car car get set public class carserializer public car deserialize car car null string path httpcontext.current.applicationinstance.server.mappath app_data cars.xml xmlserializer serializer new xmlserializer typeof car streamreader reader new streamreader path reader.readtoend car car serializer.deserialize reader reader.close return car n't seem work\n",
      "Mots-clés: ['object', 'new', 'public', 'string', 'class']\n",
      "Tags réels: ['c#', 'asp.net', 'xml', 'serialization', 'xml-deserialization']\n",
      "\n",
      "\n",
      "Question: developing client icecast server    developing client icecast server www.icecast.org can anybody tell format using streaming content looking page information stream format checked wireshark trace due understanding format audio data receiving within 200 response get request plain binary audio data without metadata included comparing shoutcast http live streaming hl relative simple approach right any experience wireshark trace snippet get bonton 128.mp3 http 1.1 host icecast3.play.cz user agent mozilla 5.0 window window 6.1 applewebkit 533.19.4 khtml like gecko version 5.0.3 safari 533.19.4 accept application xml application xhtml xml text html q=0.9 text plain q=0.8 image png q=0.5 accept language accept encoding gzip deflate connection keep alive http 1.0 200 content type audio mpeg icy br:128 ice audio info ice samplerate=44100 ice bitrate=128 ice channels=2 icy br:128 icy description radio bonton icy genre pop rock icy name radio bonton icy pub:0 icy url www.radiobonton.cz server icecast 2.3.2 cache control cache here aac mpeg data thanks regard sten\n",
      "Mots-clés: ['android', 'error', 'function', 'server', 'app']\n",
      "Tags réels: ['streaming', 'mp3', 'aac', 'icecast', 'internet-radio']\n",
      "\n",
      "\n",
      "Question: disable rule proguard configuration library    project working contains lot external dependency 3rd party library while analyzing compiled apk found package within app supposed obfuscated remains clean when dived deeper figured merged proguard configuration contains rule breaking obfuscation logic none project proguard configuration contain rule assume gotten one dependency merged final configuration look question seems answer longer valid android plugin gradle 3.0.1 using build intermediate exploded aar folder longer contains proguard configuration wondering way find library cause problem still possible disable rule consumer proguard file\n",
      "Mots-clés: ['use', 'like', 'using', 'org', 'java']\n",
      "Tags réels: ['android', 'gradle', 'android-gradle-plugin', 'proguard', 'android-proguard']\n",
      "\n",
      "\n",
      "Question: response preflight request n't pas access control check angular2    getting error call rest web api asp.net xmlhttprequest load localhost:54859 api postdata response preflight request n't pas access control check 'access control allow origin header present requested resource origin 'http localhost:3000 therefore allowed access using angular2 front end back end added following code enable cors web api var corsattr new enablecorsattribute config.enablecors corsattr everything work fine http get request http post request any help would appreciable thanks advance\n",
      "Mots-clés: ['client', 'error', 'request', 'app', 'server']\n",
      "Tags réels: ['c#', 'asp.net', 'angular', 'asp.net-web-api', 'asp.net-web-api2']\n",
      "\n",
      "\n"
     ]
    }
   ],
   "source": [
    "import random\n",
    "\n",
    "def display_keywords(questions, keywords, real_tags, num_samples=10):\n",
    "    sample_indices = random.sample(range(len(questions)), num_samples)\n",
    "    for idx in sample_indices:\n",
    "        print(\"Question:\", questions.iloc[idx])\n",
    "        print(\"Mots-clés:\", keywords[idx])\n",
    "        print(\"Tags réels:\", real_tags.iloc[idx])\n",
    "        print(\"\\n\")\n",
    "\n",
    "# Vérifier les mots-clés pour l'ensemble d'entraînement\n",
    "print(\"Échantillon de l'ensemble d'entraînement :\\n\")\n",
    "display_keywords(X_train['text'], train_keywords, y_train['Tags'])"
   ]
  },
  {
   "cell_type": "code",
   "execution_count": 60,
   "metadata": {},
   "outputs": [
    {
     "name": "stdout",
     "output_type": "stream",
     "text": [
      "Échantillon de l'ensemble de test :\n",
      "\n",
      "Question: stream large file line line    10gb csv file like use seed running ror application heroku n't figure stream csv line line process way large fit memory n't use file.open access external file 've looked using tempfile stream byte time n't match new line reconstructing ruby difficult thank\n",
      "Mots-clés: ['use', 'line', 'using', 'error', 'file']\n",
      "Tags réels: ['ruby', 'heroku', 'amazon-s3', 'io', 'large-files']\n",
      "\n",
      "\n",
      "Question: way implement algebraic type java    possible java enforce class specific set subclass others for example public abstract class public final class extends public final class extends public final class extends can somehow enforce subclass ever created\n",
      "Mots-clés: ['object', 'new', 'public', 'string', 'class']\n",
      "Tags réels: ['java', 'class', 'abstract-class', 'final', 'adts']\n",
      "\n",
      "\n",
      "Question: backup mysql user    how backup mysql user privilege anything like mysqldump looking something like mysqldump root mytable schema.sql\n",
      "Mots-clés: ['like', 'use', 'using', 'user', 'data']\n",
      "Tags réels: ['mysql', 'database', 'database-design', 'migration', 'backup']\n",
      "\n",
      "\n",
      "Question: passing list sql stored procedure    've often load multiple item particular record database for example web page display item include single report record database report record report table item record item table user selecting item include single report via web app let say select item submit the process add item report adding record table called reportitems reportid itemid currently would something like code public void additemstoreport string connstr int list int itemlist database databasefactory.createdatabase connstr string sqlcommand additemstoreport dbcommand dbcommand db.getstoredproccommand sqlcommand string item foreach int itemlist item string.format items.length item items.substring items.length add parameter db.addinparameter dbcommand reportid dbtype.int32 db.addinparameter dbcommand item dbtype.string perm db.executenonquery dbcommand stored procedure insert into reportitem reportid itemid select reportid from fn_getinttablefromlist item where function return one column table integer question better way handle something like note asking database normalizing anything like question relates specifically code\n",
      "Mots-clés: ['new', 'value', 'class', 'user', 'data']\n",
      "Tags réels: ['c#', 'sql', 'sql-server', 'tsql', 'stored-procedures']\n",
      "\n",
      "\n",
      "Question: how refresh path environment variable batch script    batch file file.bat call installer following command msiexec.exe ~dp0\\installer.msi the installer install program update path variable while work fine problem try start program found apparently path variable updated tried restarting batch file within start cmd file.bat n't work way refresh path variable maybe restart batch file new process detects new environment restarting batch file manually work course want thanks\n",
      "Mots-clés: ['lib', 'line', 'error', 'using', 'file']\n",
      "Tags réels: ['windows', 'batch-file', 'path', 'environment-variables', 'windows-server-2012']\n",
      "\n",
      "\n",
      "Question: big file uploading webexception the connection closed unexpectedly    updated see post there need upload file web automatically without browser host mini file host v1.2 matter did n't find specific api documentation first sniffed browser request firebug follows params value verify post upload.php do=verify http 1.1 host webfile.ukrwest.net user agent mozilla 5.0 window window 5.2 rv:1.9.0.8 gecko 2009032609 firefox 3.0.8 .net clr 4.0.20506 accept text html application xhtml xml application xml q=0.9 q=0.8 accept language q=0.7 q=0.3 accept encoding gzip deflate accept charset window 1251 utf q=0.7 q=0.7 keep alive 300 connection keep alive referer filehoster.awardspace.com index.php content type multipart form data boundary= 27368237179714 content length 445 27368237179714 content disposition form data name= upfile filename= test.file content type application octet stream 12345678901011121314151617sample text 27368237179714 content disposition form data name= descr 27368237179714 content disposition form data name= pprotect 27368237179714 here see parameter header content type chunk information file name type file content additional params description password necessarily applied 've created class emulates behaviour step step httpwebrequest url apply needed parameter request form request string stringbuilder convert byte array read file using filestream putting stuff memorystream writing request took major part code article codeproject uploads file rapidshare host neat tidy n't seem work result return initial upload page result page link could parse present user here main method uploader class step request creation private httpwebrequest getwebrequest string boundary uri uri new uri filehoster.awardspace.com index.php do=verify system.net.httpwebrequest system.net.httpwebrequest system.net.webrequest.create uri _cookies multipart form data boundary= boundary mozilla 5.0 window window 5.2 rv:1.9.0.8 gecko 2009032609 firefox 3.0.8 .net clr 4.0.20506 filehoster.awardspace.com index.php post true text html application xhtml xml application xml q=0.9 q=0.8 accept charset window 1251 utf q=0.7 q=0.7 accept encoding gzip deflate accept language q=0.7 q=0.3 true new version 1,1 true cache control cache false return step first message part file content private string getrequestmessage string boundary string fname string description string password system.text.stringbuilder stringbuilder new stringbuilder stringbuilder.append stringbuilder.append boundary stringbuilder.append \\r\\n stringbuilder.append content disposition form data name=\\ stringbuilder.append upfile stringbuilder.append filename=\\ stringbuilder.append fname stringbuilder.append stringbuilder.append \\r\\n stringbuilder.append content type application octet stream stringbuilder.append \\r\\n return stringbuilder.tostring step additional request parameter step reading file method private string getrequestmessageend string boundary system.text.stringbuilder stringbuilder new stringbuilder stringbuilder.append boundary stringbuilder.append \\r\\n stringbuilder.append content disposition form data name=\\ descr\\ stringbuilder.append \\r\\n stringbuilder.append \\r\\n stringbuilder.append default description stringbuilder.append \\r\\n stringbuilder.append boundary stringbuilder.append \\r\\n stringbuilder.append content disposition form data name=\\ pprotect\\ stringbuilder.append \\r\\n stringbuilder.append \\r\\n stringbuilder.append stringbuilder.append \\r\\n stringbuilder.append boundary stringbuilder.append stringbuilder.append \\r\\n stringbuilder.append boundary stringbuilder.append \\r\\n return stringbuilder.tostring main method public string processupload string filepath string description string password chosen file information filesysteminfo _file new fileinfo filepath random boundary generation datetime datetime2 datetime.now long datetime2.ticks string _generatedboundary l2.tostring web request creation system.net.httpwebrequest getwebrequest _generatedboundary main app block form send request using system.io.filestream filestream new filestream _file.fullname filemode.open fileaccess.read fileshare.read byte barr1 encoding.ascii.getbytes \\r\\n _generatedboundary \\r\\n generating pre content post message string firstpostmessagepart getrequestmessage _generatedboundary _file.name description password writing first part request byte barr2 encoding.utf8.getbytes firstpostmessagepart stream memstream new memorystream memstream.write barr1 barr1.length memstream.write barr2 barr2.length writing file byte buffer new byte 1024 int bytesread bytesread filestream.read buffer buffer.length memstream.write buffer bytesread generating end post message string secondpostmessagepart getrequestmessageend _generatedboundary byte barr3 encoding.utf8.getbytes secondpostmessagepart memstream.write barr3 barr3.length preparing send memstream.length filestream.close stream requeststream memstream.position byte tempbuffer new byte memstream.length memstream.read tempbuffer tempbuffer.length memstream.close sending request requeststream.write tempbuffer tempbuffer.length requeststream.close delay system.threading.thread.sleep 5000 getting response string strresponse using stream stream .getresponsestream using streamreader streamreader new streamreader stream encoding.getencoding 1251 strresponse streamreader.readtoend return strresponse play protocolversion 1.0 1.1 allowautoredirect true false even known servicepoint.expect100continue false n't fix issue even 5sec timeout getting response thought case big file n't uploads quick n't help content type octet stream chosen purpose upload file could use switch popular jpg zip rar doc etc. one seems universal boundary generated randomly timer tick big deal what else could give forget feel pretty close solve forget case need whole application run debug 70kb zipped 2.0 vs2k8 solution ad virus mediafire fileqube filedropper\n",
      "Mots-clés: ['return', 'public', 'new', 'string', 'class']\n",
      "Tags réels: ['c#', '.net', 'file', 'upload', 'httpwebrequest']\n",
      "\n",
      "\n",
      "Question: gui framework java    looking framework toolkit style drag drop creating gui java need quite complex application docking toolbars table etc which one would best\n",
      "Mots-clés: ['use', 'like', 'using', 'org', 'java']\n",
      "Tags réels: ['java', 'user-interface', 'frameworks', 'toolkit', 'docking']\n",
      "\n",
      "\n",
      "Question: get parameterizedtype reified generic type moshi type adapter    the given assertion fail due error failed find generated jsonadapter constructor class generictype how get proper type reified type moshi the generictype type annotated jsonclass generateadapter true using kotlin codegen moshi using moshi.builder .build could generate parameterizedtype manually types.newparameterizedtype generictype :class.java string :class.java generictype :class.java given class.java but know get string type parameter generify approach inline fun reified any adapter moshi.adapter type inline fun reified any type :class.java assert adapter generictype string null note adapter available generictype actual class generictype :class.java without generic information following generictype would find adapter long know inline fun reified any generictype newparameterizedtype generictype :class.java :class.java this looking find type :class.java generictype :class.java\n",
      "Mots-clés: ['new', 'public', 'java', 'string', 'class']\n",
      "Tags réels: ['android', 'generics', 'kotlin', 'moshi', 'kotlin-reified-type-parameters']\n",
      "\n",
      "\n",
      "Question: how detect whether directory writeable ruby    using ruby need detect whether directory writeable trying create new file tried following code correctly return true false depending whether path directory however still return true write permission path folder file.directory path file.writable path writeable directory true else writeable directory false end looked help file dir class see method allows check directory write permission way need work window using ruby 1.9.3\n",
      "Mots-clés: ['lib', 'using', 'line', 'error', 'file']\n",
      "Tags réels: ['ruby', 'file', 'permissions', 'directory', 'writable']\n",
      "\n",
      "\n",
      "Question: std :memory_order_relaxed atomicity respect atomic variable    the cppreference documentation memory order say typical use relaxed memory ordering incrementing counter reference counter std :shared_ptr since requires atomicity ordering synchronization note decrementing shared_ptr counter requires acquire release synchronization destructor doe mean relaxed memory ordering n't actually result atomicity respect variable but rather result eventual consistency respect relaxed memory load compare_exchanges using std :memory_order_seq_cst would way see consistent result paired std :memory_order_relaxed assumption std :memory_order_relaxed still atomic respect variable provide constraint load store respect data\n",
      "Mots-clés: ['use', 'like', 'code', 'function', 'using']\n",
      "Tags réels: ['c++', 'multithreading', 'atomic', 'memory-barriers', 'stdatomic']\n",
      "\n",
      "\n"
     ]
    }
   ],
   "source": [
    "# Vérifier les mots-clés pour l'ensemble de test\n",
    "print(\"Échantillon de l'ensemble de test :\\n\")\n",
    "display_keywords(X_test['text'], test_keywords, y_test['Tags'])"
   ]
  },
  {
   "cell_type": "code",
   "execution_count": 61,
   "metadata": {},
   "outputs": [
    {
     "name": "stdout",
     "output_type": "stream",
     "text": [
      "Taux de couverture des tags réels sur les données d'entraînement : 0.026304736952630473\n",
      "Taux de couverture des tags réels sur les données de test : 0.02548\n"
     ]
    }
   ],
   "source": [
    "def coverage_rate(real_tags, generated_tags):\n",
    "    intersection_count = 0\n",
    "    total_count = 0\n",
    "    \n",
    "    for idx in range(len(real_tags)):\n",
    "        real_tag_set = set(real_tags.iloc[idx])\n",
    "        generated_tag_set = set(generated_tags[idx])\n",
    "        \n",
    "        intersection = real_tag_set.intersection(generated_tag_set)\n",
    "        intersection_count += len(intersection)\n",
    "        total_count += len(real_tag_set)\n",
    "        \n",
    "    coverage = intersection_count / total_count\n",
    "    return coverage\n",
    "\n",
    "# Calculer le taux de couverture des tags réels pour l'ensemble d'entraînement\n",
    "coverage = coverage_rate(y_train['Tags'], train_keywords)\n",
    "print(\"Taux de couverture des tags réels sur les données d'entraînement :\", coverage)\n",
    "\n",
    "\n",
    "# Calculer le taux de couverture des tags réels pour l'ensemble de test\n",
    "coverage = coverage_rate(y_test['Tags'], test_keywords)\n",
    "print(\"Taux de couverture des tags réels sur les données de test :\", coverage)"
   ]
  },
  {
   "cell_type": "code",
   "execution_count": null,
   "metadata": {},
   "outputs": [],
   "source": []
  },
  {
   "cell_type": "code",
   "execution_count": 62,
   "metadata": {},
   "outputs": [
    {
     "name": "stdout",
     "output_type": "stream",
     "text": [
      "Taux de prédictions ayant au moins un tag en commun avec les tags réels (entraînement) : 0.1264\n",
      "Taux de prédictions ayant au moins un tag en commun avec les tags réels (test) : 0.1227\n"
     ]
    }
   ],
   "source": [
    "def common_tag_rate(real_tags, generated_tags):\n",
    "    common_tag_count = 0\n",
    "    \n",
    "    for idx in range(len(real_tags)):\n",
    "        real_tag_set = set(real_tags.iloc[idx])\n",
    "        generated_tag_set = set(generated_tags[idx])\n",
    "        \n",
    "        intersection = real_tag_set.intersection(generated_tag_set)\n",
    "        \n",
    "        if len(intersection) > 0:\n",
    "            common_tag_count += 1\n",
    "            \n",
    "    rate = common_tag_count / len(real_tags)\n",
    "    return rate\n",
    "\n",
    "# Calculer le taux de prédictions ayant au moins un tag en commun avec les tags réels pour l'ensemble d'entraînement\n",
    "train_common_tag_rate = common_tag_rate(y_train['Tags'], train_keywords)\n",
    "print(\"Taux de prédictions ayant au moins un tag en commun avec les tags réels (entraînement) :\", train_common_tag_rate)\n",
    "\n",
    "# Calculer le taux de prédictions ayant au moins un tag en commun avec les tags réels pour l'ensemble de test\n",
    "test_common_tag_rate = common_tag_rate(y_test['Tags'], test_keywords)\n",
    "print(\"Taux de prédictions ayant au moins un tag en commun avec les tags réels (test) :\", test_common_tag_rate)"
   ]
  },
  {
   "cell_type": "code",
   "execution_count": null,
   "metadata": {},
   "outputs": [],
   "source": []
  },
  {
   "cell_type": "code",
   "execution_count": null,
   "metadata": {},
   "outputs": [],
   "source": []
  },
  {
   "cell_type": "code",
   "execution_count": null,
   "metadata": {},
   "outputs": [],
   "source": []
  },
  {
   "cell_type": "code",
   "execution_count": null,
   "metadata": {},
   "outputs": [],
   "source": []
  },
  {
   "cell_type": "code",
   "execution_count": null,
   "metadata": {},
   "outputs": [],
   "source": []
  },
  {
   "cell_type": "markdown",
   "metadata": {},
   "source": [
    "Partie 2: Modèle supervisé"
   ]
  },
  {
   "cell_type": "code",
   "execution_count": null,
   "metadata": {},
   "outputs": [],
   "source": []
  },
  {
   "cell_type": "code",
   "execution_count": 63,
   "metadata": {},
   "outputs": [
    {
     "data": {
      "text/plain": [
       "0               [python, pandas, numpy, dataframe, series]\n",
       "1         [sql, sql-server, sql-server-2005, tsql, string]\n",
       "2                  [java, linux, variables, x11, headless]\n",
       "3          [c++, oop, callback, pointer-to-member, eiffel]\n",
       "4         [c#, .net, dll, dllimport, dllnotfoundexception]\n",
       "                               ...                        \n",
       "49995              [c#, .net, clr, function-pointers, cil]\n",
       "49996               [ios, swift, webrtc, ios15, videocall]\n",
       "49997    [android, android-intent, warnings, logcat, an...\n",
       "49998    [graphql, apollo, react-apollo, apollo-client,...\n",
       "49999    [node.js, websocket, socket.io, apollo-server,...\n",
       "Name: Tags, Length: 50000, dtype: object"
      ]
     },
     "execution_count": 63,
     "metadata": {},
     "output_type": "execute_result"
    }
   ],
   "source": [
    "data_bow['Tags']"
   ]
  },
  {
   "cell_type": "code",
   "execution_count": 64,
   "metadata": {},
   "outputs": [
    {
     "name": "stdout",
     "output_type": "stream",
     "text": [
      "Nombre de tags différents : 18315\n",
      "\n",
      "Top 100 tags les plus fréquents :\n",
      "c#: 6464\n",
      "java: 5846\n",
      "javascript: 4876\n",
      "python: 4699\n",
      "c++: 3868\n",
      ".net: 3488\n",
      "ios: 3473\n",
      "android: 3187\n",
      "html: 2154\n",
      "php: 2005\n",
      "objective-c: 1890\n",
      "jquery: 1785\n",
      "iphone: 1705\n",
      "c: 1592\n",
      "asp.net: 1345\n",
      "sql: 1337\n",
      "css: 1303\n",
      "linux: 1267\n",
      "node.js: 1142\n",
      "spring: 1051\n",
      "performance: 1049\n",
      "swift: 1026\n",
      "windows: 1023\n",
      "ruby-on-rails: 961\n",
      "xcode: 931\n",
      "json: 913\n",
      "mysql: 911\n",
      "sql-server: 887\n",
      "multithreading: 843\n",
      "asp.net-mvc: 805\n",
      "unit-testing: 787\n",
      "database: 785\n",
      "ruby: 781\n",
      "arrays: 771\n",
      "django: 770\n",
      "wpf: 760\n",
      "macos: 738\n",
      "visual-studio: 732\n",
      "c++11: 699\n",
      "reactjs: 695\n",
      "algorithm: 692\n",
      "string: 673\n",
      "python-3.x: 592\n",
      "xml: 545\n",
      "ajax: 535\n",
      "cocoa-touch: 518\n",
      "gcc: 508\n",
      "security: 503\n",
      "angular: 496\n",
      "eclipse: 487\n",
      "hibernate: 486\n",
      "typescript: 485\n",
      "r: 480\n",
      "postgresql: 465\n",
      "spring-boot: 458\n",
      "git: 457\n",
      "image: 449\n",
      "angularjs: 449\n",
      "rest: 445\n",
      "amazon-web-services: 445\n",
      "winforms: 437\n",
      "debugging: 436\n",
      "pandas: 428\n",
      "numpy: 426\n",
      "bash: 423\n",
      "http: 404\n",
      "google-chrome: 398\n",
      "authentication: 387\n",
      "entity-framework: 377\n",
      "testing: 371\n",
      "maven: 370\n",
      "asp.net-core: 362\n",
      "linq: 360\n",
      "optimization: 356\n",
      "cocoa: 356\n",
      "scala: 355\n",
      "jpa: 354\n",
      "shell: 351\n",
      "list: 347\n",
      "templates: 342\n",
      "web-services: 334\n",
      "exception: 333\n",
      "qt: 332\n",
      "class: 331\n",
      "asynchronous: 329\n",
      "memory: 326\n",
      "docker: 323\n",
      "laravel: 323\n",
      "ios7: 321\n",
      "machine-learning: 321\n",
      "android-studio: 321\n",
      "file: 318\n",
      "ssl: 313\n",
      "apache: 309\n",
      "api: 309\n",
      "assembly: 308\n",
      "spring-mvc: 307\n",
      "firebase: 300\n",
      "xaml: 300\n",
      "unix: 298\n"
     ]
    }
   ],
   "source": [
    "from collections import Counter\n",
    "\n",
    "# Compter les tags\n",
    "tags_counter = Counter()\n",
    "for tags in data_bow['Tags']:\n",
    "    tags_counter.update(tags)\n",
    "\n",
    "# Nombre de tags différents\n",
    "print(\"Nombre de tags différents :\", len(tags_counter))\n",
    "\n",
    "# Obtenir les 100 tags les plus fréquents\n",
    "top_100_tags = tags_counter.most_common(100)\n",
    "print(\"\\nTop 100 tags les plus fréquents :\")\n",
    "for tag, count in top_100_tags:\n",
    "    print(f\"{tag}: {count}\")"
   ]
  },
  {
   "cell_type": "code",
   "execution_count": null,
   "metadata": {},
   "outputs": [],
   "source": []
  },
  {
   "cell_type": "code",
   "execution_count": 65,
   "metadata": {},
   "outputs": [
    {
     "name": "stdout",
     "output_type": "stream",
     "text": [
      "Nombre de questions restantes : 46749\n"
     ]
    }
   ],
   "source": [
    "top_100_tags_set = set(tag for tag, _ in top_100_tags)\n",
    "\n",
    "# Fonction pour ne garder que les tags du top 100\n",
    "def keep_top_100_tags(tags):\n",
    "    return [tag for tag in tags if tag in top_100_tags_set]\n",
    "\n",
    "# Appliquer la fonction \n",
    "data_filtered = data_bow.copy()\n",
    "data_filtered['Tags'] = data_filtered['Tags'].apply(keep_top_100_tags)\n",
    "\n",
    "# Filtrer les données pour ne garder que les questions ayant au moins un tag dans le top 100\n",
    "data_filtered = data_filtered[data_filtered['Tags'].apply(lambda x: len(x) > 0)].reset_index(drop=True)\n",
    "\n",
    "# Afficher le nombre de questions restantes\n",
    "print(\"Nombre de questions restantes :\", len(data_filtered))"
   ]
  },
  {
   "cell_type": "code",
   "execution_count": null,
   "metadata": {},
   "outputs": [],
   "source": []
  },
  {
   "cell_type": "code",
   "execution_count": null,
   "metadata": {},
   "outputs": [],
   "source": []
  },
  {
   "cell_type": "code",
   "execution_count": 66,
   "metadata": {},
   "outputs": [],
   "source": [
    "X_train_filtered, X_test_filtered, y_train_filtered, y_test_filtered = train_test_split(data_filtered[['Title','text']], data_filtered['Tags'], test_size=0.2, random_state=42)"
   ]
  },
  {
   "cell_type": "code",
   "execution_count": null,
   "metadata": {},
   "outputs": [],
   "source": []
  },
  {
   "cell_type": "code",
   "execution_count": null,
   "metadata": {},
   "outputs": [],
   "source": []
  },
  {
   "cell_type": "code",
   "execution_count": 67,
   "metadata": {},
   "outputs": [
    {
     "data": {
      "text/html": [
       "<div>\n",
       "<style scoped>\n",
       "    .dataframe tbody tr th:only-of-type {\n",
       "        vertical-align: middle;\n",
       "    }\n",
       "\n",
       "    .dataframe tbody tr th {\n",
       "        vertical-align: top;\n",
       "    }\n",
       "\n",
       "    .dataframe thead th {\n",
       "        text-align: right;\n",
       "    }\n",
       "</style>\n",
       "<table border=\"1\" class=\"dataframe\">\n",
       "  <thead>\n",
       "    <tr style=\"text-align: right;\">\n",
       "      <th></th>\n",
       "      <th>Title</th>\n",
       "      <th>text</th>\n",
       "    </tr>\n",
       "  </thead>\n",
       "  <tbody>\n",
       "    <tr>\n",
       "      <th>11224</th>\n",
       "      <td>atomikos data getting saved using postgresql</td>\n",
       "      <td>atomikos data getting saved using postgresql  ...</td>\n",
       "    </tr>\n",
       "    <tr>\n",
       "      <th>43792</th>\n",
       "      <td>caching solution querying</td>\n",
       "      <td>caching solution querying    are memory cachin...</td>\n",
       "    </tr>\n",
       "    <tr>\n",
       "      <th>20879</th>\n",
       "      <td>mariadb json support laravel</td>\n",
       "      <td>mariadb json support laravel    trying create ...</td>\n",
       "    </tr>\n",
       "    <tr>\n",
       "      <th>5183</th>\n",
       "      <td>conda python virtual environment portable wind...</td>\n",
       "      <td>conda python virtual environment portable wind...</td>\n",
       "    </tr>\n",
       "    <tr>\n",
       "      <th>30327</th>\n",
       "      <td>xmpp filetransfer why bytestreams protocol fail</td>\n",
       "      <td>xmpp filetransfer why bytestreams protocol fai...</td>\n",
       "    </tr>\n",
       "    <tr>\n",
       "      <th>...</th>\n",
       "      <td>...</td>\n",
       "      <td>...</td>\n",
       "    </tr>\n",
       "    <tr>\n",
       "      <th>11284</th>\n",
       "      <td>bruijn algorithm binary digit count 64bits</td>\n",
       "      <td>bruijn algorithm binary digit count 64bits    ...</td>\n",
       "    </tr>\n",
       "    <tr>\n",
       "      <th>44732</th>\n",
       "      <td>string comparison performance</td>\n",
       "      <td>string comparison performance    there number ...</td>\n",
       "    </tr>\n",
       "    <tr>\n",
       "      <th>38158</th>\n",
       "      <td>read failed ebadf bad file descriptor reading ...</td>\n",
       "      <td>read failed ebadf bad file descriptor reading ...</td>\n",
       "    </tr>\n",
       "    <tr>\n",
       "      <th>860</th>\n",
       "      <td>javascript check mouse button</td>\n",
       "      <td>javascript check mouse button    way detect mo...</td>\n",
       "    </tr>\n",
       "    <tr>\n",
       "      <th>15795</th>\n",
       "      <td>adding image table cell io</td>\n",
       "      <td>adding image table cell io    trying something...</td>\n",
       "    </tr>\n",
       "  </tbody>\n",
       "</table>\n",
       "<p>37399 rows × 2 columns</p>\n",
       "</div>"
      ],
      "text/plain": [
       "                                                   Title  \\\n",
       "11224       atomikos data getting saved using postgresql   \n",
       "43792                          caching solution querying   \n",
       "20879                       mariadb json support laravel   \n",
       "5183   conda python virtual environment portable wind...   \n",
       "30327    xmpp filetransfer why bytestreams protocol fail   \n",
       "...                                                  ...   \n",
       "11284         bruijn algorithm binary digit count 64bits   \n",
       "44732                      string comparison performance   \n",
       "38158  read failed ebadf bad file descriptor reading ...   \n",
       "860                        javascript check mouse button   \n",
       "15795                         adding image table cell io   \n",
       "\n",
       "                                                    text  \n",
       "11224  atomikos data getting saved using postgresql  ...  \n",
       "43792  caching solution querying    are memory cachin...  \n",
       "20879  mariadb json support laravel    trying create ...  \n",
       "5183   conda python virtual environment portable wind...  \n",
       "30327  xmpp filetransfer why bytestreams protocol fai...  \n",
       "...                                                  ...  \n",
       "11284  bruijn algorithm binary digit count 64bits    ...  \n",
       "44732  string comparison performance    there number ...  \n",
       "38158  read failed ebadf bad file descriptor reading ...  \n",
       "860    javascript check mouse button    way detect mo...  \n",
       "15795  adding image table cell io    trying something...  \n",
       "\n",
       "[37399 rows x 2 columns]"
      ]
     },
     "execution_count": 67,
     "metadata": {},
     "output_type": "execute_result"
    }
   ],
   "source": [
    "X_train_filtered"
   ]
  },
  {
   "cell_type": "code",
   "execution_count": null,
   "metadata": {},
   "outputs": [],
   "source": []
  },
  {
   "cell_type": "code",
   "execution_count": 68,
   "metadata": {},
   "outputs": [],
   "source": [
    "from sklearn.preprocessing import MultiLabelBinarizer\n",
    "\n",
    "mlb = MultiLabelBinarizer()\n",
    "y_train_filtered_encoded = mlb.fit_transform(y_train_filtered)\n",
    "y_test_filtered_encoded = mlb.transform(y_test_filtered)"
   ]
  },
  {
   "cell_type": "code",
   "execution_count": 69,
   "metadata": {},
   "outputs": [
    {
     "data": {
      "text/plain": [
       "(100,)"
      ]
     },
     "execution_count": 69,
     "metadata": {},
     "output_type": "execute_result"
    }
   ],
   "source": [
    "mlb.classes_.shape"
   ]
  },
  {
   "cell_type": "code",
   "execution_count": null,
   "metadata": {},
   "outputs": [],
   "source": []
  },
  {
   "cell_type": "code",
   "execution_count": 70,
   "metadata": {},
   "outputs": [],
   "source": [
    "ctf = TfidfVectorizer(stop_words='english', max_df=0.9, min_df=2)\n",
    "ctf_fit = ctf.fit(X_train_filtered['Title'])\n",
    "ctf_text_train = ctf.transform(X_train_filtered['text'])\n",
    "ctf_text_test = ctf.transform(X_test_filtered['text'])"
   ]
  },
  {
   "cell_type": "code",
   "execution_count": 104,
   "metadata": {},
   "outputs": [
    {
     "data": {
      "text/plain": [
       "8606"
      ]
     },
     "execution_count": 104,
     "metadata": {},
     "output_type": "execute_result"
    }
   ],
   "source": [
    "len(ctf_fit.vocabulary_)"
   ]
  },
  {
   "cell_type": "code",
   "execution_count": 71,
   "metadata": {},
   "outputs": [],
   "source": [
    "from sklearn.multiclass import OneVsRestClassifier\n",
    "from sklearn.linear_model import LogisticRegression\n",
    "\n",
    "\n",
    "ovr = OneVsRestClassifier(LogisticRegression(solver='lbfgs'), n_jobs=-3)\n",
    "ovr.fit(ctf_text_train, y_train_filtered_encoded)\n",
    "y_pred_test_ctf = ovr.predict(ctf_text_test)"
   ]
  },
  {
   "cell_type": "code",
   "execution_count": null,
   "metadata": {},
   "outputs": [],
   "source": []
  },
  {
   "cell_type": "code",
   "execution_count": 72,
   "metadata": {},
   "outputs": [
    {
     "name": "stdout",
     "output_type": "stream",
     "text": [
      "Jaccard Score ctf: 0.33733448018598877\n"
     ]
    }
   ],
   "source": [
    "from sklearn.metrics import jaccard_score\n",
    "\n",
    "score_ctf = jaccard_score(y_test_filtered_encoded, y_pred_test_ctf, average='weighted')\n",
    "\n",
    "print(\"Jaccard Score ctf:\", score_ctf)"
   ]
  },
  {
   "cell_type": "code",
   "execution_count": null,
   "metadata": {},
   "outputs": [],
   "source": []
  },
  {
   "cell_type": "code",
   "execution_count": null,
   "metadata": {},
   "outputs": [],
   "source": []
  },
  {
   "cell_type": "code",
   "execution_count": null,
   "metadata": {},
   "outputs": [],
   "source": []
  },
  {
   "cell_type": "code",
   "execution_count": 73,
   "metadata": {},
   "outputs": [
    {
     "data": {
      "text/plain": [
       "'# Créer un classificateur OvR avec une régression logistique\\novr = OneVsRestClassifier(LogisticRegression())\\n\\n# Créer un pipeline avec TfidfVectorizer et OneVsRestClassifier\\npipeline = Pipeline([\\n    (\\'tfidf\\', TfidfVectorizer()),\\n    (\\'clf\\', ovr)\\n])\\n\\n# Définir les paramètres de la grille à optimiser\\nparam_grid = [\\n    {\\n        \\'tfidf__max_df\\': [0.9, 1.0],\\n        \\'tfidf__min_df\\': [1, 2],\\n        \\'tfidf__stop_words\\': [None, \\'english\\'],\\n        \\'clf__estimator__C\\': [0.1, 1, 10],\\n        \\'clf__estimator__penalty\\': [\\'l1\\'],\\n        \\'clf__estimator__solver\\': [\\'liblinear\\', \\'saga\\'],\\n    },\\n    {\\n        \\'tfidf__max_df\\': [0.9, 1.0],\\n        \\'tfidf__min_df\\': [1, 2],\\n        \\'tfidf__stop_words\\': [None, \\'english\\'],\\n        \\'clf__estimator__C\\': [0.1, 1, 10],\\n        \\'clf__estimator__penalty\\': [\\'l2\\'],\\n        \\'clf__estimator__solver\\': [\\'newton-cg\\', \\'lbfgs\\', \\'sag\\', \\'saga\\', \\'liblinear\\'],\\n    },\\n]\\n\\n# Utiliser le score de Jaccard pondéré pour l\\'évaluation\\njaccard_scorer = make_scorer(jaccard_score, average=\\'weighted\\')\\n\\n# Créer l\\'objet GridSearchCV\\ngrid_search = GridSearchCV(pipeline, param_grid, scoring=jaccard_scorer, cv=5, n_jobs=-3)\\n\\n# Ajuster la recherche par grille aux données\\ngrid_search.fit(X_train_filtered[\\'text\\'], y_train_filtered_encoded)\\n\\n# Afficher les meilleurs paramètres\\nprint(\"Meilleurs paramètres trouvés:\")\\nprint(grid_search.best_params_)'"
      ]
     },
     "execution_count": 73,
     "metadata": {},
     "output_type": "execute_result"
    }
   ],
   "source": [
    "from sklearn.model_selection import GridSearchCV\n",
    "from sklearn.metrics import make_scorer\n",
    "from sklearn.pipeline import Pipeline\n",
    "\n",
    "\"\"\"# Créer un classificateur OvR avec une régression logistique\n",
    "ovr = OneVsRestClassifier(LogisticRegression())\n",
    "\n",
    "# Créer un pipeline avec TfidfVectorizer et OneVsRestClassifier\n",
    "pipeline = Pipeline([\n",
    "    ('tfidf', TfidfVectorizer()),\n",
    "    ('clf', ovr)\n",
    "])\n",
    "\n",
    "# Définir les paramètres de la grille à optimiser\n",
    "param_grid = [\n",
    "    {\n",
    "        'tfidf__max_df': [0.9, 1.0],\n",
    "        'tfidf__min_df': [1, 2],\n",
    "        'tfidf__stop_words': [None, 'english'],\n",
    "        'clf__estimator__C': [0.1, 1, 10],\n",
    "        'clf__estimator__penalty': ['l1'],\n",
    "        'clf__estimator__solver': ['liblinear', 'saga'],\n",
    "    },\n",
    "    {\n",
    "        'tfidf__max_df': [0.9, 1.0],\n",
    "        'tfidf__min_df': [1, 2],\n",
    "        'tfidf__stop_words': [None, 'english'],\n",
    "        'clf__estimator__C': [0.1, 1, 10],\n",
    "        'clf__estimator__penalty': ['l2'],\n",
    "        'clf__estimator__solver': ['newton-cg', 'lbfgs', 'sag', 'saga', 'liblinear'],\n",
    "    },\n",
    "]\n",
    "\n",
    "# Utiliser le score de Jaccard pondéré pour l'évaluation\n",
    "jaccard_scorer = make_scorer(jaccard_score, average='weighted')\n",
    "\n",
    "# Créer l'objet GridSearchCV\n",
    "grid_search = GridSearchCV(pipeline, param_grid, scoring=jaccard_scorer, cv=5, n_jobs=-3)\n",
    "\n",
    "# Ajuster la recherche par grille aux données\n",
    "grid_search.fit(X_train_filtered['text'], y_train_filtered_encoded)\n",
    "\n",
    "# Afficher les meilleurs paramètres\n",
    "print(\"Meilleurs paramètres trouvés:\")\n",
    "print(grid_search.best_params_)\"\"\"\n",
    "\n",
    "#4h"
   ]
  },
  {
   "cell_type": "markdown",
   "metadata": {},
   "source": [
    "best_params = {'clf__estimator__C': 10, 'clf__estimator__penalty': 'l1', 'clf__estimator__solver': 'liblinear', 'tfidf__max_df': 1.0, 'tfidf__min_df': 1, 'tfidf__stop_words': 'english'}"
   ]
  },
  {
   "cell_type": "code",
   "execution_count": 74,
   "metadata": {},
   "outputs": [],
   "source": [
    "# Appliquer les meilleurs paramètres pour TfidfVectorizer\n",
    "tfidf = TfidfVectorizer(max_df=1.0, min_df=1, stop_words='english')\n",
    "\n",
    "# Transformer les données d'entraînement et de test\n",
    "X_train_tfidf = tfidf.fit_transform(X_train_filtered['text'])\n",
    "X_test_tfidf = tfidf.transform(X_test_filtered['text'])"
   ]
  },
  {
   "cell_type": "code",
   "execution_count": 75,
   "metadata": {},
   "outputs": [
    {
     "data": {
      "text/plain": [
       "\"# Créer le classificateur OvR en utilisant les meilleurs paramètres\\novr_best = OneVsRestClassifier(LogisticRegression(C=10, penalty='l1', solver='liblinear'))\\n\\n# Entraîner le classificateur avec les données d'entraînement transformées\\novr_best.fit(X_train_tfidf, y_train_filtered_encoded)\""
      ]
     },
     "execution_count": 75,
     "metadata": {},
     "output_type": "execute_result"
    }
   ],
   "source": [
    "\"\"\"# Créer le classificateur OvR en utilisant les meilleurs paramètres\n",
    "ovr_best = OneVsRestClassifier(LogisticRegression(C=10, penalty='l1', solver='liblinear'))\n",
    "\n",
    "# Entraîner le classificateur avec les données d'entraînement transformées\n",
    "ovr_best.fit(X_train_tfidf, y_train_filtered_encoded)\"\"\""
   ]
  },
  {
   "cell_type": "code",
   "execution_count": 76,
   "metadata": {},
   "outputs": [
    {
     "data": {
      "text/plain": [
       "\"#Sauvegarder le modèle\\nimport pickle\\n\\npickle.dump(ovr_best, open('models/ovr_best.sav', 'wb'))\""
      ]
     },
     "execution_count": 76,
     "metadata": {},
     "output_type": "execute_result"
    }
   ],
   "source": [
    "\"\"\"#Sauvegarder le modèle\n",
    "import pickle\n",
    "\n",
    "pickle.dump(ovr_best, open('models/ovr_best.sav', 'wb'))\"\"\""
   ]
  },
  {
   "cell_type": "code",
   "execution_count": 77,
   "metadata": {},
   "outputs": [],
   "source": [
    "#Charger le modèle\n",
    "import pickle\n",
    "\n",
    "ovr_best = pickle.load(open('models/ovr_best.sav', 'rb'))"
   ]
  },
  {
   "cell_type": "code",
   "execution_count": 78,
   "metadata": {},
   "outputs": [
    {
     "data": {
      "text/plain": [
       "0.460651345752161"
      ]
     },
     "execution_count": 78,
     "metadata": {},
     "output_type": "execute_result"
    }
   ],
   "source": [
    "jaccard_score(y_test_filtered_encoded, ovr_best.predict(X_test_tfidf), average='weighted')"
   ]
  },
  {
   "cell_type": "code",
   "execution_count": null,
   "metadata": {},
   "outputs": [],
   "source": []
  },
  {
   "cell_type": "code",
   "execution_count": 79,
   "metadata": {},
   "outputs": [],
   "source": [
    "text_example = X_train['text'][13]"
   ]
  },
  {
   "cell_type": "code",
   "execution_count": 80,
   "metadata": {},
   "outputs": [],
   "source": [
    "text_example_tfidf = tfidf.transform(pd.Series(text_example))"
   ]
  },
  {
   "cell_type": "code",
   "execution_count": 81,
   "metadata": {},
   "outputs": [
    {
     "data": {
      "text/plain": [
       "array([[0, 0, 0, 0, 0, 0, 0, 0, 0, 0, 0, 0, 0, 0, 0, 0, 0, 0, 0, 0, 0, 0,\n",
       "        1, 0, 0, 0, 0, 0, 0, 0, 0, 0, 0, 0, 0, 0, 0, 0, 0, 0, 0, 0, 0, 0,\n",
       "        0, 1, 0, 0, 0, 0, 0, 0, 0, 1, 0, 0, 0, 0, 0, 0, 0, 0, 0, 0, 0, 0,\n",
       "        0, 0, 0, 0, 0, 0, 0, 0, 0, 0, 0, 0, 0, 0, 0, 0, 0, 0, 0, 0, 0, 0,\n",
       "        0, 0, 0, 0, 0, 0, 0, 0, 0, 0, 0, 0]])"
      ]
     },
     "execution_count": 81,
     "metadata": {},
     "output_type": "execute_result"
    }
   ],
   "source": [
    "ovr_best.predict(text_example_tfidf)"
   ]
  },
  {
   "cell_type": "code",
   "execution_count": null,
   "metadata": {},
   "outputs": [],
   "source": []
  },
  {
   "cell_type": "code",
   "execution_count": null,
   "metadata": {},
   "outputs": [],
   "source": []
  },
  {
   "cell_type": "code",
   "execution_count": null,
   "metadata": {},
   "outputs": [],
   "source": []
  },
  {
   "cell_type": "code",
   "execution_count": null,
   "metadata": {},
   "outputs": [],
   "source": []
  },
  {
   "cell_type": "code",
   "execution_count": null,
   "metadata": {},
   "outputs": [],
   "source": []
  },
  {
   "cell_type": "code",
   "execution_count": 82,
   "metadata": {},
   "outputs": [
    {
     "name": "stdout",
     "output_type": "stream",
     "text": [
      "Exemple 560:\n",
      "Texte  : how communicate window service application interacts desktop    with .net best way interact service i.e tray apps communicate server would preferred method would cross platform well working mono guess remoting edit forgot mention still support window 2000 machine field wcf anything .net 2.0 n't fly\n",
      "Vrais tags  : .net | c#\n",
      "Tags prédits et réels  : \u001b[32m.net (0.978)\u001b[0m | \u001b[32mc# (0.952)\u001b[0m\n",
      "--------------------------------------------------\n",
      "Exemple 5207:\n",
      "Texte  : casting double array struct double    cast double array struct made double struct double double double int main int argc char argv double arr 1.0,2.0,3.0 static_cast static_cast void arr std :cout this print but guaranteed work every time compiler edit according 9.2.21 pointer standard layout struct object suitably converted using reinterpret_cast point initial member vice versa replace code struct double return data double return data double return data private double data int main int char double arr 1.0,2.0,3.0 reinterpret_cast arr std :cout guaranteed work correct understand many people would find aesteticaly pleasing advantage working struct copy input array data define member function struct compute scalar vector product distance etc make code much easier understand work array how int main int char double arr 1.0,2.0,3.0,4.0,5.0,6.0 reinterpret_cast arr std :cout std :cout also guaranteed work compiler could put something after data member sizeof sizeof double and portable way prevent compiler\n",
      "Vrais tags  : arrays | c++\n",
      "Tags prédits et réels  : \u001b[32mc++ (1.000)\u001b[0m | \u001b[33mc++11 (0.759)\u001b[0m | \u001b[33mclass (0.179)\u001b[0m | \u001b[31marrays (0.087)\u001b[0m\n",
      "--------------------------------------------------\n",
      "Exemple 5601:\n",
      "Texte  : what difference retrieving windowsprincipal windowsidentity thread.currentprincipal    trying work attribute based security n't working expect wcf suspect might something following appdomain.currentdomain.setprincipalpolicy principalpolicy.windowsprincipal var identity new windowsidentity ksarfo var principal new windowsprincipal identity console.writeline \\nchecking whether current user identity.name member groupname console.writeline principal.isinrole groupname return true principal windowsprincipal thread.currentprincipal identity windowsidentity principal.identity console.writeline \\nchecking whether current user identity.name member groupname console.writeline principal.isinrole groupname return false n't understand result differ function call principal.isinrole groupname for sake completeness point code actually fails principalpermission securityaction.demand role portfoliomanager help appreciated\n",
      "Vrais tags  : c# | security\n",
      "Tags prédits et réels  : \u001b[32mc# (0.998)\u001b[0m | \u001b[33m.net (0.478)\u001b[0m | \u001b[31msecurity (0.004)\u001b[0m\n",
      "--------------------------------------------------\n",
      "Exemple 4313:\n",
      "Texte  : webpack 'eval described faster 'rebuild    eval one type webpack source map official doc say eval each module executed eval sourceurl this pretty fast the main disadvantage n't display line number correctly since get mapped transpiled code instead original code n't quite understand fast way\n",
      "Vrais tags  : performance\n",
      "Tags prédits et réels  : \u001b[33mc++ (0.337)\u001b[0m | \u001b[32mperformance (0.190)\u001b[0m | \u001b[33msecurity (0.124)\u001b[0m\n",
      "--------------------------------------------------\n",
      "Exemple 8160:\n",
      "Texte  : possible mark part java code eclipse auto formatted    auto format eclipse java code brilliant you write terrible code simple type ctrl shift code amazing but sometime want mark part code automatically formatted for example fluent interface public void fluentinterfacejooqdemo create.select author.first_name author.last_name count .from author .join book .on author.id.equal book.author_id .where book.language.eq .and book.published.gt date 2008 .groupby author.first_name author.last_name .having count .gt .orderby author.last_name.asc .nullsfirst .limit .offset .forupdate .of author.first_name author.last_name type ctrl shift public void fluentinterfacejooqdemo create.select author.first_name author.last_name count .from author .join book .on author.id.equal book.author_id .where book.language.eq .and book.published.gt date 2008 .groupby author.first_name author.last_name .having count .gt .orderby author.last_name.asc .nullsfirst .limit .offset .forupdate .of author.first_name author.last_name however looking method mark code non autoformat e.g non format public void fluentinterfacejooqdemo\n",
      "Vrais tags  : eclipse | java\n",
      "Tags prédits et réels  : \u001b[32mjava (0.488)\u001b[0m | \u001b[31meclipse (0.006)\u001b[0m\n",
      "--------------------------------------------------\n",
      "Exemple 1386:\n",
      "Texte  : python panda apply function column value null    dataframe python 2.7 panda 0.15.0 df= nan nan two nan 'foo 'bar three nan want apply simple function row contain null value specific column function simple possible def my_func row print row and apply code following .apply lambda my_func pd.notnull else axis work perfectly want check column null value pd.notnull work perfectly well but select column contains list object .apply lambda my_func pd.notnull else axis get following error message valueerror 'the truth value array one element ambiguous use a.any a.all u'occurred index doe anybody know pd.notnull work integer string column 'list column and nicer way check null value column instead .apply lambda my_func str 'nan else axis thank\n",
      "Vrais tags  : list | pandas | python\n",
      "Tags prédits et réels  : \u001b[32mpandas (1.000)\u001b[0m | \u001b[32mpython (1.000)\u001b[0m | \u001b[33mpython-3.x (0.102)\u001b[0m | \u001b[31mlist (0.012)\u001b[0m\n",
      "--------------------------------------------------\n",
      "Exemple 2112:\n",
      "Texte  : constexpr compute std array compile time    want convert array bool integer sequence need compute std :array compile time here code include array template typename inputit typename inline constexpr typename std :iterator_traits inputit :difference_type count inputit first inputit last const value typename std :iterator_traits inputit :difference_type ret first last first first value ret return ret template bool _values struct keep_value static constexpr std :size_t numberofvalues sizeof _values static constexpr bool value _values static constexpr std :size_t numbertokeep count value value numberofvalues true static constexpr std :array std :size_t numbertokeep computeindices std :array std :size_t numbertokeep array auto array.begin std :size_t numberofvalues value true return array static constexpr std :array std :size_t numbertokeep index computeindices template typename index std :make_index_sequence numbertokeep struct as_index_sequence template std :size_t struct as_index_sequence std :index_sequence std :index_sequence index int main keep_value false true true :template as_index_sequence should return sequence get error line call computeindices function code correct possible otherwise using msvc get error expression evaluate constant\n",
      "Vrais tags  : c++\n",
      "Tags prédits et réels  : \u001b[32mc++ (1.000)\u001b[0m | \u001b[33mc++11 (0.995)\u001b[0m | \u001b[33marrays (0.166)\u001b[0m\n",
      "--------------------------------------------------\n",
      "Exemple 4891:\n",
      "Texte  : add blob tar stream server javascript    server accepts .tar.gz file .zip file client side browser couple blob memory need push back server way archive blob i.e adding zip tar.gz file streaming directly server would like avoid complete tar.gz file memory pushing back server thanks\n",
      "Vrais tags  : javascript\n",
      "Tags prédits et réels  : \u001b[32mjavascript (0.343)\u001b[0m | \u001b[33mjava (0.157)\u001b[0m | \u001b[33mshell (0.121)\u001b[0m\n",
      "--------------------------------------------------\n",
      "Exemple 1577:\n",
      "Texte  : how get resource int string android    possible duplicate android getting resource string string re r.drawable.image1 need get int please help\n",
      "Vrais tags  : android | java | string\n",
      "Tags prédits et réels  : \u001b[32mandroid (1.000)\u001b[0m | \u001b[32mstring (0.951)\u001b[0m | \u001b[32mjava (0.232)\u001b[0m\n",
      "--------------------------------------------------\n",
      "Exemple 1478:\n",
      "Texte  : how configure gmail android emulator    want send email emulator how configure emulator\n",
      "Vrais tags  : android\n",
      "Tags prédits et réels  : \u001b[32mandroid (1.000)\u001b[0m | \u001b[33mjava (0.117)\u001b[0m\n",
      "--------------------------------------------------\n"
     ]
    }
   ],
   "source": [
    "import random\n",
    "from termcolor import colored\n",
    "\n",
    "\n",
    "# Utiliser predict_proba pour obtenir les probabilités des tags\n",
    "y_pred_proba = ovr_best.predict_proba(X_test_tfidf)\n",
    "\n",
    "# Obtenir les vrais tags pour les données de test\n",
    "y_test_tags = mlb.inverse_transform(y_test_filtered_encoded)\n",
    "\n",
    "# Appliquer un seuil pour les probabilités\n",
    "threshold = 0.1\n",
    "\n",
    "# Afficher les prédictions et les vrais tags pour 10 exemples pris au hasard\n",
    "num_examples = 10\n",
    "random_examples = random.sample(range(len(X_test_filtered)), num_examples)\n",
    "\n",
    "for i in random_examples:\n",
    "    print(f\"Exemple {i + 1}:\")\n",
    "    print(f\"Texte  : {X_test_filtered.iloc[i]['text']}\")\n",
    "    print(f\"Vrais tags  : {' | '.join(y_test_tags[i])}\")\n",
    "\n",
    "    # Extraire les tags prédits au-dessus du seuil avec leurs probabilités\n",
    "    predicted_tags_with_probs = [(mlb.classes_[j], prob) for j, prob in enumerate(y_pred_proba[i]) if prob > threshold]\n",
    "    \n",
    "    # Ajouter les tags réels qui ne sont pas déjà dans les tags prédits\n",
    "    for tag in y_test_tags[i]:\n",
    "        if tag not in [t[0] for t in predicted_tags_with_probs]:\n",
    "            prob = y_pred_proba[i][mlb.classes_.tolist().index(tag)]\n",
    "            predicted_tags_with_probs.append((tag, prob))\n",
    "\n",
    "    # Trier les tags prédits et réels par popularité et les afficher avec leurs probabilités\n",
    "    sorted_tags_with_probs = sorted(predicted_tags_with_probs, key=lambda x: x[1], reverse=True)\n",
    "    \n",
    "    colored_tags = []\n",
    "    for tag, prob in sorted_tags_with_probs:\n",
    "        if tag in y_test_tags[i] and prob > threshold:\n",
    "            colored_tags.append(colored(f\"{tag} ({prob:.3f})\", 'green'))\n",
    "        elif tag in y_test_tags[i]:\n",
    "            colored_tags.append(colored(f\"{tag} ({prob:.3f})\", 'red'))\n",
    "        else:\n",
    "            colored_tags.append(colored(f\"{tag} ({prob:.3f})\", 'yellow'))\n",
    "    \n",
    "    sorted_tags_with_probs_str = ' | '.join(colored_tags)\n",
    "    \n",
    "    print(f\"Tags prédits et réels  : {sorted_tags_with_probs_str}\")\n",
    "    print(\"-\" * 50)"
   ]
  },
  {
   "cell_type": "code",
   "execution_count": null,
   "metadata": {},
   "outputs": [],
   "source": []
  },
  {
   "cell_type": "code",
   "execution_count": null,
   "metadata": {},
   "outputs": [],
   "source": []
  },
  {
   "cell_type": "code",
   "execution_count": null,
   "metadata": {},
   "outputs": [],
   "source": []
  },
  {
   "cell_type": "code",
   "execution_count": 83,
   "metadata": {},
   "outputs": [],
   "source": [
    "data_se = pd.read_csv('data/data_se.csv')"
   ]
  },
  {
   "cell_type": "code",
   "execution_count": 84,
   "metadata": {},
   "outputs": [
    {
     "data": {
      "text/plain": [
       "0          [python, pandas, numpy, dataframe, series]\n",
       "1    [sql, sql-server, sql-server-2005, tsql, string]\n",
       "2             [java, linux, variables, x11, headless]\n",
       "3     [c++, oop, callback, pointer-to-member, eiffel]\n",
       "4    [c#, .net, dll, dllimport, dllnotfoundexception]\n",
       "Name: Tags, dtype: object"
      ]
     },
     "execution_count": 84,
     "metadata": {},
     "output_type": "execute_result"
    }
   ],
   "source": [
    "data_se['Tags'] = data_se['Tags'].apply(lambda x: ast.literal_eval(x))\n",
    "data_se['Tags'].head()"
   ]
  },
  {
   "cell_type": "code",
   "execution_count": 85,
   "metadata": {},
   "outputs": [
    {
     "name": "stdout",
     "output_type": "stream",
     "text": [
      "Nombre de tags différents : 18315\n"
     ]
    }
   ],
   "source": [
    "# Compter les tags\n",
    "tags_counter = Counter()\n",
    "for tags in data_se['Tags']:\n",
    "    tags_counter.update(tags)\n",
    "\n",
    "# Nombre de tags différents\n",
    "print(\"Nombre de tags différents :\", len(tags_counter))\n",
    "\n",
    "# Obtenir les 100 tags les plus fréquents\n",
    "top_100_tags = tags_counter.most_common(100)"
   ]
  },
  {
   "cell_type": "code",
   "execution_count": 86,
   "metadata": {},
   "outputs": [
    {
     "name": "stdout",
     "output_type": "stream",
     "text": [
      "Nombre de questions restantes : 46749\n"
     ]
    }
   ],
   "source": [
    "top_100_tags_set = set(tag for tag, _ in top_100_tags)\n",
    "\n",
    "# Fonction pour ne garder que les tags du top 100\n",
    "def keep_top_100_tags(tags):\n",
    "    return [tag for tag in tags if tag in top_100_tags_set]\n",
    "\n",
    "# Appliquer la fonction \n",
    "data_se_filtered = data_se.copy()\n",
    "data_se_filtered['Tags'] = data_se_filtered['Tags'].apply(keep_top_100_tags)\n",
    "\n",
    "# Filtrer les données pour ne garder que les questions ayant au moins un tag dans le top 100\n",
    "data_se_filtered = data_se_filtered[data_se_filtered['Tags'].apply(lambda x: len(x) > 0)].reset_index(drop=True)\n",
    "\n",
    "# Afficher le nombre de questions restantes\n",
    "print(\"Nombre de questions restantes :\", len(data_se_filtered))"
   ]
  },
  {
   "cell_type": "code",
   "execution_count": 87,
   "metadata": {},
   "outputs": [],
   "source": [
    "X_train_se, X_test_se, y_train_se, y_test_se = train_test_split(data_se_filtered[['Title','Body']], data_se_filtered['Tags'], test_size=0.2, random_state=0)"
   ]
  },
  {
   "cell_type": "code",
   "execution_count": 93,
   "metadata": {},
   "outputs": [
    {
     "data": {
      "text/html": [
       "<div>\n",
       "<style scoped>\n",
       "    .dataframe tbody tr th:only-of-type {\n",
       "        vertical-align: middle;\n",
       "    }\n",
       "\n",
       "    .dataframe tbody tr th {\n",
       "        vertical-align: top;\n",
       "    }\n",
       "\n",
       "    .dataframe thead th {\n",
       "        text-align: right;\n",
       "    }\n",
       "</style>\n",
       "<table border=\"1\" class=\"dataframe\">\n",
       "  <thead>\n",
       "    <tr style=\"text-align: right;\">\n",
       "      <th></th>\n",
       "      <th>Title</th>\n",
       "      <th>Body</th>\n",
       "    </tr>\n",
       "  </thead>\n",
       "  <tbody>\n",
       "    <tr>\n",
       "      <th>30012</th>\n",
       "      <td>crazy rounded rect uibezierpath behavior on io...</td>\n",
       "      <td>the simple uiview below draws a rounded rectan...</td>\n",
       "    </tr>\n",
       "    <tr>\n",
       "      <th>8923</th>\n",
       "      <td>find count of files matching a pattern in a di...</td>\n",
       "      <td>i am new to linux . i have a directory in linu...</td>\n",
       "    </tr>\n",
       "    <tr>\n",
       "      <th>8839</th>\n",
       "      <td>how to get git log with short stat in one line ?</td>\n",
       "      <td>following command outputs following lines of t...</td>\n",
       "    </tr>\n",
       "    <tr>\n",
       "      <th>7844</th>\n",
       "      <td>can placement new for arrays be used in a port...</td>\n",
       "      <td>is it possible to actually make use of placeme...</td>\n",
       "    </tr>\n",
       "    <tr>\n",
       "      <th>42810</th>\n",
       "      <td>ie &amp; drop down menus triggering the pop up blo...</td>\n",
       "      <td>i have no idea why this is happening . i have ...</td>\n",
       "    </tr>\n",
       "    <tr>\n",
       "      <th>...</th>\n",
       "      <td>...</td>\n",
       "      <td>...</td>\n",
       "    </tr>\n",
       "    <tr>\n",
       "      <th>21243</th>\n",
       "      <td>reading a file from a hard drive in iphone sim...</td>\n",
       "      <td>is it possible to read a file ( from my normal...</td>\n",
       "    </tr>\n",
       "    <tr>\n",
       "      <th>45891</th>\n",
       "      <td>why is pow ( infinity , positive non integer )...</td>\n",
       "      <td>c99 annex f ( ieee floating point support ) sa...</td>\n",
       "    </tr>\n",
       "    <tr>\n",
       "      <th>42613</th>\n",
       "      <td>java.util.concurrentlinkedqueue</td>\n",
       "      <td>i want to use java.util.concurrentlinkedqueue ...</td>\n",
       "    </tr>\n",
       "    <tr>\n",
       "      <th>43567</th>\n",
       "      <td>append line to etc hosts file with shell script</td>\n",
       "      <td>i have a new ubuntu 12.04 vps . i am trying to...</td>\n",
       "    </tr>\n",
       "    <tr>\n",
       "      <th>2732</th>\n",
       "      <td>most performant way to graph thousands of data...</td>\n",
       "      <td>i have written a chart that displays financial...</td>\n",
       "    </tr>\n",
       "  </tbody>\n",
       "</table>\n",
       "<p>37399 rows × 2 columns</p>\n",
       "</div>"
      ],
      "text/plain": [
       "                                                   Title  \\\n",
       "30012  crazy rounded rect uibezierpath behavior on io...   \n",
       "8923   find count of files matching a pattern in a di...   \n",
       "8839    how to get git log with short stat in one line ?   \n",
       "7844   can placement new for arrays be used in a port...   \n",
       "42810  ie & drop down menus triggering the pop up blo...   \n",
       "...                                                  ...   \n",
       "21243  reading a file from a hard drive in iphone sim...   \n",
       "45891  why is pow ( infinity , positive non integer )...   \n",
       "42613                    java.util.concurrentlinkedqueue   \n",
       "43567    append line to etc hosts file with shell script   \n",
       "2732   most performant way to graph thousands of data...   \n",
       "\n",
       "                                                    Body  \n",
       "30012  the simple uiview below draws a rounded rectan...  \n",
       "8923   i am new to linux . i have a directory in linu...  \n",
       "8839   following command outputs following lines of t...  \n",
       "7844   is it possible to actually make use of placeme...  \n",
       "42810  i have no idea why this is happening . i have ...  \n",
       "...                                                  ...  \n",
       "21243  is it possible to read a file ( from my normal...  \n",
       "45891  c99 annex f ( ieee floating point support ) sa...  \n",
       "42613  i want to use java.util.concurrentlinkedqueue ...  \n",
       "43567  i have a new ubuntu 12.04 vps . i am trying to...  \n",
       "2732   i have written a chart that displays financial...  \n",
       "\n",
       "[37399 rows x 2 columns]"
      ]
     },
     "execution_count": 93,
     "metadata": {},
     "output_type": "execute_result"
    }
   ],
   "source": [
    "X_train_se"
   ]
  },
  {
   "cell_type": "code",
   "execution_count": null,
   "metadata": {},
   "outputs": [],
   "source": []
  },
  {
   "cell_type": "code",
   "execution_count": 90,
   "metadata": {},
   "outputs": [],
   "source": [
    "from gensim.models import KeyedVectors\n",
    "\n",
    "# Charger le modèle pré-entraîné\n",
    "model = KeyedVectors.load_word2vec_format('GoogleNews-vectors-negative300.bin.gz', binary=True)"
   ]
  },
  {
   "cell_type": "code",
   "execution_count": 100,
   "metadata": {},
   "outputs": [
    {
     "name": "stdout",
     "output_type": "stream",
     "text": [
      "Les 5 mots les plus similaires à 'java':\n",
      "coffee (similarité: 0.65)\n",
      "o_joe (similarité: 0.63)\n",
      "chai_latte (similarité: 0.58)\n",
      "joe (similarité: 0.58)\n",
      "espresso (similarité: 0.57)\n"
     ]
    }
   ],
   "source": [
    "word = \"java\"\n",
    "similar_words = model.most_similar(positive=[word], topn=5)\n",
    "print(f\"Les 5 mots les plus similaires à '{word}':\")\n",
    "for similar_word, similarity in similar_words:\n",
    "    print(f\"{similar_word} (similarité: {similarity:.2f})\")"
   ]
  },
  {
   "cell_type": "code",
   "execution_count": null,
   "metadata": {},
   "outputs": [],
   "source": []
  },
  {
   "cell_type": "code",
   "execution_count": null,
   "metadata": {},
   "outputs": [],
   "source": []
  },
  {
   "cell_type": "code",
   "execution_count": 92,
   "metadata": {},
   "outputs": [],
   "source": [
    "def get_embeddings(question_tokenized, word2vec_model):\n",
    "    embeddings = []\n",
    "    for word in question_tokenized:\n",
    "        try:\n",
    "            # Obtenir l'embedding du mot à partir du modèle Word2Vec\n",
    "            word_embedding = word2vec_model[word]\n",
    "            # Ajouter l'embedding à la liste des embeddings\n",
    "            embeddings.append(word_embedding)\n",
    "        except KeyError:\n",
    "            # Si le mot n'est pas dans le vocabulaire du modèle, ignorer ce mot\n",
    "            pass\n",
    "    return embeddings"
   ]
  },
  {
   "cell_type": "code",
   "execution_count": 94,
   "metadata": {},
   "outputs": [],
   "source": [
    "def get_embeddings(tokenized_words, model):\n",
    "    embeddings = []\n",
    "    for word in tokenized_words:\n",
    "        try:\n",
    "            word_embedding = model[word]\n",
    "            embeddings.append(word_embedding)\n",
    "        except KeyError:\n",
    "            # Si le mot n'est pas dans le modèle pré-entraîné, vous pouvez ignorer le mot ou utiliser un vecteur de zéros\n",
    "            # embeddings.append(np.zeros(model.vector_size))\n",
    "            pass\n",
    "    return np.mean(embeddings, axis=0)\n",
    "\n",
    "title_embeddings = []\n",
    "text_embeddings = []\n",
    "\n",
    "for _, row in X_train.iterrows():\n",
    "    title_tokenized = row['Title']\n",
    "    text_tokenized = row['text']\n",
    "\n",
    "    title_embedding = get_embeddings(title_tokenized, model)\n",
    "    text_embedding = get_embeddings(text_tokenized, model)\n",
    "\n",
    "    title_embeddings.append(title_embedding)\n",
    "    text_embeddings.append(text_embedding)\n"
   ]
  },
  {
   "cell_type": "code",
   "execution_count": 95,
   "metadata": {},
   "outputs": [
    {
     "name": "stdout",
     "output_type": "stream",
     "text": [
      "Les 5 mots les plus similaires à 'computer':\n",
      "computers (similarité: 0.80)\n",
      "laptop (similarité: 0.66)\n",
      "laptop_computer (similarité: 0.65)\n",
      "Computer (similarité: 0.65)\n",
      "com_puter (similarité: 0.61)\n"
     ]
    }
   ],
   "source": []
  },
  {
   "cell_type": "code",
   "execution_count": null,
   "metadata": {},
   "outputs": [],
   "source": []
  }
 ],
 "metadata": {
  "kernelspec": {
   "display_name": "Python 3 (ipykernel)",
   "language": "python",
   "name": "python3"
  },
  "language_info": {
   "codemirror_mode": {
    "name": "ipython",
    "version": 3
   },
   "file_extension": ".py",
   "mimetype": "text/x-python",
   "name": "python",
   "nbconvert_exporter": "python",
   "pygments_lexer": "ipython3",
   "version": "3.10.7"
  }
 },
 "nbformat": 4,
 "nbformat_minor": 2
}
