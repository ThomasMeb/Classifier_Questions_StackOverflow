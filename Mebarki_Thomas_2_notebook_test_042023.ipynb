{
 "cells": [
  {
   "cell_type": "code",
   "execution_count": 2,
   "metadata": {},
   "outputs": [],
   "source": [
    "import pandas as pd\n",
    "pd.options.display.max_columns=200\n",
    "import numpy as np\n",
    "import matplotlib.pyplot as plt\n",
    "import seaborn as sns\n",
    "import warnings\n",
    "warnings.filterwarnings('ignore')\n",
    "%matplotlib inline\n",
    "from sklearn.pipeline import make_pipeline\n",
    "import bs4 as bs\n",
    "import nltk\n",
    "from nltk.corpus import stopwords, words\n",
    "from nltk.stem import WordNetLemmatizer, PorterStemmer\n",
    "from nltk.tokenize import word_tokenize, wordpunct_tokenize, RegexpTokenizer\n",
    "from wordcloud import WordCloud\n",
    "from PIL import Image\n",
    "from pandarallel import pandarallel"
   ]
  },
  {
   "cell_type": "code",
   "execution_count": 3,
   "metadata": {},
   "outputs": [],
   "source": [
    "data_bow = pd.read_csv('data_bow.csv')"
   ]
  },
  {
   "cell_type": "code",
   "execution_count": 4,
   "metadata": {},
   "outputs": [
    {
     "data": {
      "text/html": [
       "<div>\n",
       "<style scoped>\n",
       "    .dataframe tbody tr th:only-of-type {\n",
       "        vertical-align: middle;\n",
       "    }\n",
       "\n",
       "    .dataframe tbody tr th {\n",
       "        vertical-align: top;\n",
       "    }\n",
       "\n",
       "    .dataframe thead th {\n",
       "        text-align: right;\n",
       "    }\n",
       "</style>\n",
       "<table border=\"1\" class=\"dataframe\">\n",
       "  <thead>\n",
       "    <tr style=\"text-align: right;\">\n",
       "      <th></th>\n",
       "      <th>Id</th>\n",
       "      <th>Body</th>\n",
       "      <th>Title</th>\n",
       "      <th>Tags</th>\n",
       "      <th>text</th>\n",
       "    </tr>\n",
       "  </thead>\n",
       "  <tbody>\n",
       "    <tr>\n",
       "      <th>0</th>\n",
       "      <td>40101130</td>\n",
       "      <td>consider pd.series import panda import numpy n...</td>\n",
       "      <td>calculate rolling idxmax</td>\n",
       "      <td>&lt;python&gt;&lt;pandas&gt;&lt;numpy&gt;&lt;dataframe&gt;&lt;series&gt;</td>\n",
       "      <td>calculate rolling idxmax    consider pd.series...</td>\n",
       "    </tr>\n",
       "    <tr>\n",
       "      <th>1</th>\n",
       "      <td>662383</td>\n",
       "      <td>'ve using time substring str_col patindex str_...</td>\n",
       "      <td>better technique trimming leading zero sql server</td>\n",
       "      <td>&lt;sql&gt;&lt;sql-server&gt;&lt;sql-server-2005&gt;&lt;tsql&gt;&lt;string&gt;</td>\n",
       "      <td>better technique trimming leading zero sql ser...</td>\n",
       "    </tr>\n",
       "    <tr>\n",
       "      <th>2</th>\n",
       "      <td>662421</td>\n",
       "      <td>trying install java application linux machine ...</td>\n",
       "      <td>x11 display variable mean</td>\n",
       "      <td>&lt;java&gt;&lt;linux&gt;&lt;variables&gt;&lt;x11&gt;&lt;headless&gt;</td>\n",
       "      <td>x11 display variable mean    trying install ja...</td>\n",
       "    </tr>\n",
       "    <tr>\n",
       "      <th>3</th>\n",
       "      <td>3520133</td>\n",
       "      <td>library allows easily conveniently create obje...</td>\n",
       "      <td>object oriented callback</td>\n",
       "      <td>&lt;c++&gt;&lt;oop&gt;&lt;callback&gt;&lt;pointer-to-member&gt;&lt;eiffel&gt;</td>\n",
       "      <td>object oriented callback    library allows eas...</td>\n",
       "    </tr>\n",
       "    <tr>\n",
       "      <th>4</th>\n",
       "      <td>1396164</td>\n",
       "      <td>edit whole question unclear want use openssl.n...</td>\n",
       "      <td>why n't .net find openssl.net dll</td>\n",
       "      <td>&lt;c#&gt;&lt;.net&gt;&lt;dll&gt;&lt;dllimport&gt;&lt;dllnotfoundexception&gt;</td>\n",
       "      <td>why n't .net find openssl.net dll    edit whol...</td>\n",
       "    </tr>\n",
       "  </tbody>\n",
       "</table>\n",
       "</div>"
      ],
      "text/plain": [
       "         Id                                               Body  \\\n",
       "0  40101130  consider pd.series import panda import numpy n...   \n",
       "1    662383  've using time substring str_col patindex str_...   \n",
       "2    662421  trying install java application linux machine ...   \n",
       "3   3520133  library allows easily conveniently create obje...   \n",
       "4   1396164  edit whole question unclear want use openssl.n...   \n",
       "\n",
       "                                               Title  \\\n",
       "0                           calculate rolling idxmax   \n",
       "1  better technique trimming leading zero sql server   \n",
       "2                          x11 display variable mean   \n",
       "3                           object oriented callback   \n",
       "4                  why n't .net find openssl.net dll   \n",
       "\n",
       "                                               Tags  \\\n",
       "0        <python><pandas><numpy><dataframe><series>   \n",
       "1  <sql><sql-server><sql-server-2005><tsql><string>   \n",
       "2           <java><linux><variables><x11><headless>   \n",
       "3   <c++><oop><callback><pointer-to-member><eiffel>   \n",
       "4  <c#><.net><dll><dllimport><dllnotfoundexception>   \n",
       "\n",
       "                                                text  \n",
       "0  calculate rolling idxmax    consider pd.series...  \n",
       "1  better technique trimming leading zero sql ser...  \n",
       "2  x11 display variable mean    trying install ja...  \n",
       "3  object oriented callback    library allows eas...  \n",
       "4  why n't .net find openssl.net dll    edit whol...  "
      ]
     },
     "execution_count": 4,
     "metadata": {},
     "output_type": "execute_result"
    }
   ],
   "source": [
    "data_bow.head()"
   ]
  },
  {
   "cell_type": "code",
   "execution_count": null,
   "metadata": {},
   "outputs": [],
   "source": []
  }
 ],
 "metadata": {
  "kernelspec": {
   "display_name": "Python 3",
   "language": "python",
   "name": "python3"
  },
  "language_info": {
   "codemirror_mode": {
    "name": "ipython",
    "version": 3
   },
   "file_extension": ".py",
   "mimetype": "text/x-python",
   "name": "python",
   "nbconvert_exporter": "python",
   "pygments_lexer": "ipython3",
   "version": "3.10.7"
  },
  "orig_nbformat": 4
 },
 "nbformat": 4,
 "nbformat_minor": 2
}
