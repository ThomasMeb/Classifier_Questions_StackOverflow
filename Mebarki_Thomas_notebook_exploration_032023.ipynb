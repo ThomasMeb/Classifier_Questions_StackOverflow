{
 "cells": [
  {
   "cell_type": "code",
   "execution_count": 22,
   "metadata": {},
   "outputs": [],
   "source": [
    "import pandas as pd\n",
    "pd.options.display.max_columns=200\n",
    "import numpy as np\n",
    "import matplotlib.pyplot as plt\n",
    "import seaborn as sns\n",
    "import warnings\n",
    "warnings.filterwarnings('ignore')\n",
    "%matplotlib inline\n",
    "from sklearn.pipeline import make_pipeline\n",
    "import bs4 as bs\n",
    "import nltk"
   ]
  },
  {
   "cell_type": "code",
   "execution_count": 23,
   "metadata": {},
   "outputs": [],
   "source": [
    "data = pd.read_csv('QueryResults.csv')"
   ]
  },
  {
   "cell_type": "code",
   "execution_count": 24,
   "metadata": {},
   "outputs": [
    {
     "data": {
      "text/html": [
       "<div>\n",
       "<style scoped>\n",
       "    .dataframe tbody tr th:only-of-type {\n",
       "        vertical-align: middle;\n",
       "    }\n",
       "\n",
       "    .dataframe tbody tr th {\n",
       "        vertical-align: top;\n",
       "    }\n",
       "\n",
       "    .dataframe thead th {\n",
       "        text-align: right;\n",
       "    }\n",
       "</style>\n",
       "<table border=\"1\" class=\"dataframe\">\n",
       "  <thead>\n",
       "    <tr style=\"text-align: right;\">\n",
       "      <th></th>\n",
       "      <th>Title</th>\n",
       "      <th>Body</th>\n",
       "      <th>Tags</th>\n",
       "      <th>Id</th>\n",
       "      <th>Score</th>\n",
       "      <th>ViewCount</th>\n",
       "      <th>FavoriteCount</th>\n",
       "      <th>AnswerCount</th>\n",
       "    </tr>\n",
       "  </thead>\n",
       "  <tbody>\n",
       "    <tr>\n",
       "      <th>0</th>\n",
       "      <td>how do I calculate a rolling idxmax</td>\n",
       "      <td>&lt;p&gt;consider the &lt;code&gt;pd.Series&lt;/code&gt; &lt;code&gt;s...</td>\n",
       "      <td>&lt;python&gt;&lt;pandas&gt;&lt;numpy&gt;&lt;dataframe&gt;&lt;series&gt;</td>\n",
       "      <td>40101130</td>\n",
       "      <td>9</td>\n",
       "      <td>7584</td>\n",
       "      <td>0.0</td>\n",
       "      <td>6</td>\n",
       "    </tr>\n",
       "    <tr>\n",
       "      <th>1</th>\n",
       "      <td>Better techniques for trimming leading zeros i...</td>\n",
       "      <td>&lt;p&gt;I've been using &lt;a href=\"https://stackoverf...</td>\n",
       "      <td>&lt;sql&gt;&lt;sql-server&gt;&lt;sql-server-2005&gt;&lt;tsql&gt;&lt;string&gt;</td>\n",
       "      <td>662383</td>\n",
       "      <td>197</td>\n",
       "      <td>388401</td>\n",
       "      <td>0.0</td>\n",
       "      <td>19</td>\n",
       "    </tr>\n",
       "    <tr>\n",
       "      <th>2</th>\n",
       "      <td>\"No X11 DISPLAY variable\" - what does it mean?</td>\n",
       "      <td>&lt;p&gt;I am trying to install a Java application o...</td>\n",
       "      <td>&lt;java&gt;&lt;linux&gt;&lt;variables&gt;&lt;x11&gt;&lt;headless&gt;</td>\n",
       "      <td>662421</td>\n",
       "      <td>122</td>\n",
       "      <td>622820</td>\n",
       "      <td>0.0</td>\n",
       "      <td>12</td>\n",
       "    </tr>\n",
       "    <tr>\n",
       "      <th>3</th>\n",
       "      <td>Object-Oriented Callbacks for C++?</td>\n",
       "      <td>&lt;p&gt;Is there some library that allows me to eas...</td>\n",
       "      <td>&lt;c++&gt;&lt;oop&gt;&lt;callback&gt;&lt;pointer-to-member&gt;&lt;eiffel&gt;</td>\n",
       "      <td>3520133</td>\n",
       "      <td>9</td>\n",
       "      <td>10228</td>\n",
       "      <td>0.0</td>\n",
       "      <td>6</td>\n",
       "    </tr>\n",
       "    <tr>\n",
       "      <th>4</th>\n",
       "      <td>Why doesn't .NET find the OpenSSL.NET dll?</td>\n",
       "      <td>&lt;p&gt;&lt;strong&gt;EDIT&lt;/strong&gt; (the whole question, ...</td>\n",
       "      <td>&lt;c#&gt;&lt;.net&gt;&lt;dll&gt;&lt;dllimport&gt;&lt;dllnotfoundexception&gt;</td>\n",
       "      <td>1396164</td>\n",
       "      <td>9</td>\n",
       "      <td>18554</td>\n",
       "      <td>0.0</td>\n",
       "      <td>12</td>\n",
       "    </tr>\n",
       "  </tbody>\n",
       "</table>\n",
       "</div>"
      ],
      "text/plain": [
       "                                               Title  \\\n",
       "0                how do I calculate a rolling idxmax   \n",
       "1  Better techniques for trimming leading zeros i...   \n",
       "2     \"No X11 DISPLAY variable\" - what does it mean?   \n",
       "3                 Object-Oriented Callbacks for C++?   \n",
       "4         Why doesn't .NET find the OpenSSL.NET dll?   \n",
       "\n",
       "                                                Body  \\\n",
       "0  <p>consider the <code>pd.Series</code> <code>s...   \n",
       "1  <p>I've been using <a href=\"https://stackoverf...   \n",
       "2  <p>I am trying to install a Java application o...   \n",
       "3  <p>Is there some library that allows me to eas...   \n",
       "4  <p><strong>EDIT</strong> (the whole question, ...   \n",
       "\n",
       "                                               Tags        Id  Score  \\\n",
       "0        <python><pandas><numpy><dataframe><series>  40101130      9   \n",
       "1  <sql><sql-server><sql-server-2005><tsql><string>    662383    197   \n",
       "2           <java><linux><variables><x11><headless>    662421    122   \n",
       "3   <c++><oop><callback><pointer-to-member><eiffel>   3520133      9   \n",
       "4  <c#><.net><dll><dllimport><dllnotfoundexception>   1396164      9   \n",
       "\n",
       "   ViewCount  FavoriteCount  AnswerCount  \n",
       "0       7584            0.0            6  \n",
       "1     388401            0.0           19  \n",
       "2     622820            0.0           12  \n",
       "3      10228            0.0            6  \n",
       "4      18554            0.0           12  "
      ]
     },
     "execution_count": 24,
     "metadata": {},
     "output_type": "execute_result"
    }
   ],
   "source": [
    "data.head()"
   ]
  },
  {
   "cell_type": "code",
   "execution_count": 26,
   "metadata": {},
   "outputs": [],
   "source": [
    "#delete balises html with beautiful soup\n",
    "def clean_html(text):\n",
    "    soup = bs.BeautifulSoup(text, \"html.parser\")\n",
    "    return soup.get_text()\n",
    "\n",
    "data['Body'] = data['Body'].apply(clean_html)"
   ]
  },
  {
   "cell_type": "code",
   "execution_count": null,
   "metadata": {},
   "outputs": [],
   "source": []
  },
  {
   "cell_type": "code",
   "execution_count": 27,
   "metadata": {},
   "outputs": [
    {
     "data": {
      "text/html": [
       "<div>\n",
       "<style scoped>\n",
       "    .dataframe tbody tr th:only-of-type {\n",
       "        vertical-align: middle;\n",
       "    }\n",
       "\n",
       "    .dataframe tbody tr th {\n",
       "        vertical-align: top;\n",
       "    }\n",
       "\n",
       "    .dataframe thead th {\n",
       "        text-align: right;\n",
       "    }\n",
       "</style>\n",
       "<table border=\"1\" class=\"dataframe\">\n",
       "  <thead>\n",
       "    <tr style=\"text-align: right;\">\n",
       "      <th></th>\n",
       "      <th>Title</th>\n",
       "      <th>Body</th>\n",
       "      <th>Tags</th>\n",
       "      <th>Id</th>\n",
       "      <th>Score</th>\n",
       "      <th>ViewCount</th>\n",
       "      <th>FavoriteCount</th>\n",
       "      <th>AnswerCount</th>\n",
       "    </tr>\n",
       "  </thead>\n",
       "  <tbody>\n",
       "    <tr>\n",
       "      <th>0</th>\n",
       "      <td>how do I calculate a rolling idxmax</td>\n",
       "      <td>consider the pd.Series s\\nimport pandas as pd\\...</td>\n",
       "      <td>&lt;python&gt;&lt;pandas&gt;&lt;numpy&gt;&lt;dataframe&gt;&lt;series&gt;</td>\n",
       "      <td>40101130</td>\n",
       "      <td>9</td>\n",
       "      <td>7584</td>\n",
       "      <td>0.0</td>\n",
       "      <td>6</td>\n",
       "    </tr>\n",
       "    <tr>\n",
       "      <th>1</th>\n",
       "      <td>Better techniques for trimming leading zeros i...</td>\n",
       "      <td>I've been using this for some time:\\nSUBSTRING...</td>\n",
       "      <td>&lt;sql&gt;&lt;sql-server&gt;&lt;sql-server-2005&gt;&lt;tsql&gt;&lt;string&gt;</td>\n",
       "      <td>662383</td>\n",
       "      <td>197</td>\n",
       "      <td>388401</td>\n",
       "      <td>0.0</td>\n",
       "      <td>19</td>\n",
       "    </tr>\n",
       "    <tr>\n",
       "      <th>2</th>\n",
       "      <td>\"No X11 DISPLAY variable\" - what does it mean?</td>\n",
       "      <td>I am trying to install a Java application on m...</td>\n",
       "      <td>&lt;java&gt;&lt;linux&gt;&lt;variables&gt;&lt;x11&gt;&lt;headless&gt;</td>\n",
       "      <td>662421</td>\n",
       "      <td>122</td>\n",
       "      <td>622820</td>\n",
       "      <td>0.0</td>\n",
       "      <td>12</td>\n",
       "    </tr>\n",
       "    <tr>\n",
       "      <th>3</th>\n",
       "      <td>Object-Oriented Callbacks for C++?</td>\n",
       "      <td>Is there some library that allows me to easily...</td>\n",
       "      <td>&lt;c++&gt;&lt;oop&gt;&lt;callback&gt;&lt;pointer-to-member&gt;&lt;eiffel&gt;</td>\n",
       "      <td>3520133</td>\n",
       "      <td>9</td>\n",
       "      <td>10228</td>\n",
       "      <td>0.0</td>\n",
       "      <td>6</td>\n",
       "    </tr>\n",
       "    <tr>\n",
       "      <th>4</th>\n",
       "      <td>Why doesn't .NET find the OpenSSL.NET dll?</td>\n",
       "      <td>EDIT (the whole question, it was too unclear)\\...</td>\n",
       "      <td>&lt;c#&gt;&lt;.net&gt;&lt;dll&gt;&lt;dllimport&gt;&lt;dllnotfoundexception&gt;</td>\n",
       "      <td>1396164</td>\n",
       "      <td>9</td>\n",
       "      <td>18554</td>\n",
       "      <td>0.0</td>\n",
       "      <td>12</td>\n",
       "    </tr>\n",
       "  </tbody>\n",
       "</table>\n",
       "</div>"
      ],
      "text/plain": [
       "                                               Title  \\\n",
       "0                how do I calculate a rolling idxmax   \n",
       "1  Better techniques for trimming leading zeros i...   \n",
       "2     \"No X11 DISPLAY variable\" - what does it mean?   \n",
       "3                 Object-Oriented Callbacks for C++?   \n",
       "4         Why doesn't .NET find the OpenSSL.NET dll?   \n",
       "\n",
       "                                                Body  \\\n",
       "0  consider the pd.Series s\\nimport pandas as pd\\...   \n",
       "1  I've been using this for some time:\\nSUBSTRING...   \n",
       "2  I am trying to install a Java application on m...   \n",
       "3  Is there some library that allows me to easily...   \n",
       "4  EDIT (the whole question, it was too unclear)\\...   \n",
       "\n",
       "                                               Tags        Id  Score  \\\n",
       "0        <python><pandas><numpy><dataframe><series>  40101130      9   \n",
       "1  <sql><sql-server><sql-server-2005><tsql><string>    662383    197   \n",
       "2           <java><linux><variables><x11><headless>    662421    122   \n",
       "3   <c++><oop><callback><pointer-to-member><eiffel>   3520133      9   \n",
       "4  <c#><.net><dll><dllimport><dllnotfoundexception>   1396164      9   \n",
       "\n",
       "   ViewCount  FavoriteCount  AnswerCount  \n",
       "0       7584            0.0            6  \n",
       "1     388401            0.0           19  \n",
       "2     622820            0.0           12  \n",
       "3      10228            0.0            6  \n",
       "4      18554            0.0           12  "
      ]
     },
     "execution_count": 27,
     "metadata": {},
     "output_type": "execute_result"
    }
   ],
   "source": [
    "data.head()"
   ]
  },
  {
   "cell_type": "code",
   "execution_count": 29,
   "metadata": {},
   "outputs": [
    {
     "data": {
      "text/html": [
       "<div>\n",
       "<style scoped>\n",
       "    .dataframe tbody tr th:only-of-type {\n",
       "        vertical-align: middle;\n",
       "    }\n",
       "\n",
       "    .dataframe tbody tr th {\n",
       "        vertical-align: top;\n",
       "    }\n",
       "\n",
       "    .dataframe thead th {\n",
       "        text-align: right;\n",
       "    }\n",
       "</style>\n",
       "<table border=\"1\" class=\"dataframe\">\n",
       "  <thead>\n",
       "    <tr style=\"text-align: right;\">\n",
       "      <th></th>\n",
       "      <th>Title</th>\n",
       "      <th>Body</th>\n",
       "      <th>Tags</th>\n",
       "      <th>Id</th>\n",
       "      <th>Score</th>\n",
       "      <th>ViewCount</th>\n",
       "      <th>FavoriteCount</th>\n",
       "      <th>AnswerCount</th>\n",
       "    </tr>\n",
       "  </thead>\n",
       "  <tbody>\n",
       "    <tr>\n",
       "      <th>7160</th>\n",
       "      <td>JVM crashes under stress on RHEL 5.2</td>\n",
       "      <td>I've got (the currently latest) jdk 1.6.0.18 c...</td>\n",
       "      <td>&lt;java&gt;&lt;jvm&gt;&lt;crash&gt;&lt;segmentation-fault&gt;&lt;rhel&gt;</td>\n",
       "      <td>2247340</td>\n",
       "      <td>10</td>\n",
       "      <td>2852</td>\n",
       "      <td>0.0</td>\n",
       "      <td>7</td>\n",
       "    </tr>\n",
       "    <tr>\n",
       "      <th>26635</th>\n",
       "      <td>Batched Media Upload to Azure Blob Storage thr...</td>\n",
       "      <td>My web app currently allows users to upload me...</td>\n",
       "      <td>&lt;javascript&gt;&lt;c#&gt;&lt;azure&gt;&lt;asp.net-web-api&gt;&lt;azure...</td>\n",
       "      <td>45377336</td>\n",
       "      <td>10</td>\n",
       "      <td>768</td>\n",
       "      <td>0.0</td>\n",
       "      <td>3</td>\n",
       "    </tr>\n",
       "    <tr>\n",
       "      <th>24910</th>\n",
       "      <td>Why does Console.Out.WriteLine exist?</td>\n",
       "      <td>Actually the question should be why does Conso...</td>\n",
       "      <td>&lt;c#&gt;&lt;.net&gt;&lt;windows&gt;&lt;console-application&gt;&lt;refle...</td>\n",
       "      <td>1149131</td>\n",
       "      <td>37</td>\n",
       "      <td>14766</td>\n",
       "      <td>0.0</td>\n",
       "      <td>2</td>\n",
       "    </tr>\n",
       "    <tr>\n",
       "      <th>40310</th>\n",
       "      <td>Remembering where a mouse clicked? ArrayLists?...</td>\n",
       "      <td>Sorry guys, I deleted my APPLES and CATS examp...</td>\n",
       "      <td>&lt;java&gt;&lt;swing&gt;&lt;arraylist&gt;&lt;jlabel&gt;&lt;jlist&gt;</td>\n",
       "      <td>8330787</td>\n",
       "      <td>11</td>\n",
       "      <td>1812</td>\n",
       "      <td>NaN</td>\n",
       "      <td>2</td>\n",
       "    </tr>\n",
       "    <tr>\n",
       "      <th>29237</th>\n",
       "      <td>How is BackgroundWorker.CancellationPending th...</td>\n",
       "      <td>The way to cancel a BackgroundWorker's operati...</td>\n",
       "      <td>&lt;c#&gt;&lt;.net&gt;&lt;multithreading&gt;&lt;thread-safety&gt;&lt;back...</td>\n",
       "      <td>6966573</td>\n",
       "      <td>23</td>\n",
       "      <td>7436</td>\n",
       "      <td>0.0</td>\n",
       "      <td>4</td>\n",
       "    </tr>\n",
       "  </tbody>\n",
       "</table>\n",
       "</div>"
      ],
      "text/plain": [
       "                                                   Title  \\\n",
       "7160                JVM crashes under stress on RHEL 5.2   \n",
       "26635  Batched Media Upload to Azure Blob Storage thr...   \n",
       "24910              Why does Console.Out.WriteLine exist?   \n",
       "40310  Remembering where a mouse clicked? ArrayLists?...   \n",
       "29237  How is BackgroundWorker.CancellationPending th...   \n",
       "\n",
       "                                                    Body  \\\n",
       "7160   I've got (the currently latest) jdk 1.6.0.18 c...   \n",
       "26635  My web app currently allows users to upload me...   \n",
       "24910  Actually the question should be why does Conso...   \n",
       "40310  Sorry guys, I deleted my APPLES and CATS examp...   \n",
       "29237  The way to cancel a BackgroundWorker's operati...   \n",
       "\n",
       "                                                    Tags        Id  Score  \\\n",
       "7160        <java><jvm><crash><segmentation-fault><rhel>   2247340     10   \n",
       "26635  <javascript><c#><azure><asp.net-web-api><azure...  45377336     10   \n",
       "24910  <c#><.net><windows><console-application><refle...   1149131     37   \n",
       "40310            <java><swing><arraylist><jlabel><jlist>   8330787     11   \n",
       "29237  <c#><.net><multithreading><thread-safety><back...   6966573     23   \n",
       "\n",
       "       ViewCount  FavoriteCount  AnswerCount  \n",
       "7160        2852            0.0            7  \n",
       "26635        768            0.0            3  \n",
       "24910      14766            0.0            2  \n",
       "40310       1812            NaN            2  \n",
       "29237       7436            0.0            4  "
      ]
     },
     "execution_count": 29,
     "metadata": {},
     "output_type": "execute_result"
    }
   ],
   "source": [
    "data.sample(5)"
   ]
  },
  {
   "cell_type": "code",
   "execution_count": 30,
   "metadata": {},
   "outputs": [],
   "source": [
    "data = data[['Title', 'Body', 'Tags']]"
   ]
  },
  {
   "cell_type": "code",
   "execution_count": null,
   "metadata": {},
   "outputs": [],
   "source": []
  },
  {
   "cell_type": "code",
   "execution_count": 32,
   "metadata": {},
   "outputs": [
    {
     "name": "stdout",
     "output_type": "stream",
     "text": [
      "<class 'pandas.core.frame.DataFrame'>\n",
      "RangeIndex: 50000 entries, 0 to 49999\n",
      "Data columns (total 3 columns):\n",
      " #   Column  Non-Null Count  Dtype \n",
      "---  ------  --------------  ----- \n",
      " 0   Title   50000 non-null  object\n",
      " 1   Body    50000 non-null  object\n",
      " 2   Tags    50000 non-null  object\n",
      "dtypes: object(3)\n",
      "memory usage: 1.1+ MB\n"
     ]
    }
   ],
   "source": [
    "data.info()"
   ]
  },
  {
   "cell_type": "code",
   "execution_count": 33,
   "metadata": {},
   "outputs": [
    {
     "data": {
      "text/plain": [
       "Title    49999\n",
       "Body     50000\n",
       "Tags     49190\n",
       "dtype: int64"
      ]
     },
     "execution_count": 33,
     "metadata": {},
     "output_type": "execute_result"
    }
   ],
   "source": [
    "data.nunique()"
   ]
  },
  {
   "cell_type": "code",
   "execution_count": 34,
   "metadata": {},
   "outputs": [
    {
     "data": {
      "text/plain": [
       "Title    0\n",
       "Body     0\n",
       "Tags     0\n",
       "dtype: int64"
      ]
     },
     "execution_count": 34,
     "metadata": {},
     "output_type": "execute_result"
    }
   ],
   "source": [
    "data.isna().sum()"
   ]
  },
  {
   "cell_type": "code",
   "execution_count": 35,
   "metadata": {},
   "outputs": [
    {
     "data": {
      "text/html": [
       "<div>\n",
       "<style scoped>\n",
       "    .dataframe tbody tr th:only-of-type {\n",
       "        vertical-align: middle;\n",
       "    }\n",
       "\n",
       "    .dataframe tbody tr th {\n",
       "        vertical-align: top;\n",
       "    }\n",
       "\n",
       "    .dataframe thead th {\n",
       "        text-align: right;\n",
       "    }\n",
       "</style>\n",
       "<table border=\"1\" class=\"dataframe\">\n",
       "  <thead>\n",
       "    <tr style=\"text-align: right;\">\n",
       "      <th></th>\n",
       "      <th>Title</th>\n",
       "      <th>Body</th>\n",
       "      <th>Tags</th>\n",
       "    </tr>\n",
       "  </thead>\n",
       "  <tbody>\n",
       "    <tr>\n",
       "      <th>count</th>\n",
       "      <td>50000</td>\n",
       "      <td>50000</td>\n",
       "      <td>50000</td>\n",
       "    </tr>\n",
       "    <tr>\n",
       "      <th>unique</th>\n",
       "      <td>49999</td>\n",
       "      <td>50000</td>\n",
       "      <td>49190</td>\n",
       "    </tr>\n",
       "    <tr>\n",
       "      <th>top</th>\n",
       "      <td>A potentially dangerous Request.Form value was...</td>\n",
       "      <td>consider the pd.Series s\\nimport pandas as pd\\...</td>\n",
       "      <td>&lt;angular&gt;&lt;typescript&gt;&lt;ionic-framework&gt;&lt;ionic2&gt;...</td>\n",
       "    </tr>\n",
       "    <tr>\n",
       "      <th>freq</th>\n",
       "      <td>2</td>\n",
       "      <td>1</td>\n",
       "      <td>24</td>\n",
       "    </tr>\n",
       "  </tbody>\n",
       "</table>\n",
       "</div>"
      ],
      "text/plain": [
       "                                                    Title  \\\n",
       "count                                               50000   \n",
       "unique                                              49999   \n",
       "top     A potentially dangerous Request.Form value was...   \n",
       "freq                                                    2   \n",
       "\n",
       "                                                     Body  \\\n",
       "count                                               50000   \n",
       "unique                                              50000   \n",
       "top     consider the pd.Series s\\nimport pandas as pd\\...   \n",
       "freq                                                    1   \n",
       "\n",
       "                                                     Tags  \n",
       "count                                               50000  \n",
       "unique                                              49190  \n",
       "top     <angular><typescript><ionic-framework><ionic2>...  \n",
       "freq                                                   24  "
      ]
     },
     "execution_count": 35,
     "metadata": {},
     "output_type": "execute_result"
    }
   ],
   "source": [
    "data.describe(include=object)"
   ]
  },
  {
   "cell_type": "code",
   "execution_count": 37,
   "metadata": {},
   "outputs": [
    {
     "data": {
      "text/plain": [
       "0         754\n",
       "1         585\n",
       "2        2111\n",
       "3        1307\n",
       "4        1165\n",
       "         ... \n",
       "49995     195\n",
       "49996    2821\n",
       "49997     450\n",
       "49998    1179\n",
       "49999    1449\n",
       "Name: Body, Length: 50000, dtype: int64"
      ]
     },
     "execution_count": 37,
     "metadata": {},
     "output_type": "execute_result"
    }
   ],
   "source": [
    "data.Body.apply(lambda i : len(i))"
   ]
  },
  {
   "cell_type": "code",
   "execution_count": 40,
   "metadata": {},
   "outputs": [
    {
     "data": {
      "text/plain": [
       "<AxesSubplot: xlabel='Body', ylabel='Density'>"
      ]
     },
     "execution_count": 40,
     "metadata": {},
     "output_type": "execute_result"
    },
    {
     "data": {
      "image/png": "[encoded data removed]",
      "text/plain": [
       "<Figure size 640x480 with 1 Axes>"
      ]
     },
     "metadata": {},
     "output_type": "display_data"
    }
   ],
   "source": [
    "tmp = data.Body.str.len()\n",
    "sns.distplot(tmp)"
   ]
  },
  {
   "cell_type": "code",
   "execution_count": 41,
   "metadata": {},
   "outputs": [
    {
     "data": {
      "text/plain": [
       "<AxesSubplot: xlabel='Title', ylabel='Density'>"
      ]
     },
     "execution_count": 41,
     "metadata": {},
     "output_type": "execute_result"
    },
    {
     "data": {
      "image/png": "[encoded data removed]",
      "text/plain": [
       "<Figure size 640x480 with 1 Axes>"
      ]
     },
     "metadata": {},
     "output_type": "display_data"
    }
   ],
   "source": [
    "tmp = data.Title.str.len()\n",
    "sns.distplot(tmp)"
   ]
  },
  {
   "cell_type": "code",
   "execution_count": null,
   "metadata": {},
   "outputs": [],
   "source": []
  },
  {
   "cell_type": "code",
   "execution_count": null,
   "metadata": {},
   "outputs": [],
   "source": []
  },
  {
   "cell_type": "code",
   "execution_count": 51,
   "metadata": {},
   "outputs": [
    {
     "name": "stdout",
     "output_type": "stream",
     "text": [
      "MATLAB is running out of memory but it should not be\n",
      "I'm trying to apply PCA on my data using princomp(x), that has been standardized.\n",
      "The data is <16 x 1036800 double>. This runs our of memory which is too be expected except for the fact that this is a new computer, the computer holds 24GB of RAM for data mining. MATLAB even lists the 24GB available on a memory check.\n",
      "Is MATLAB actually running out of memory while performing a PCA or is MATLAB not using the RAM to it's full potential? Any information or ideas would be helpful. (I may need to increase the virtual memory but assumed the 24GB would have sufficed.)\n",
      "\n",
      "<matlab><memory><out-of-memory><linear-algebra><pca>\n",
      "\n",
      "------------------------------------------------------------------------------------------------------------------------\n",
      "\n",
      "How to \"pass on\" a variable number of arguments to NSString's +stringWithFormat:\n",
      "I would like to write a function in Objective-C such as the one below, that takes a variable number of arguments, and passes those arguments on to +stringWithFormat:. I know about vsnprintf, but that would imply converting the NSString 'format' to C and back (and would also mean converting the formatting placeholders within it as well...).\n",
      "The code below compiles, but of course does not behave as I want :)\n",
      "NSString *estr(NSString *format, ...) {\n",
      "    va_list args;\n",
      "    va_start(args, format);\n",
      "    NSString *s = [NSString stringWithFormat:format, args];\n",
      "    va_end(args);\n",
      "    return s;\n",
      "}\n",
      "\n",
      "Basically: is there a va_list-friendly version of the +stringWithFormat: method, or is it possible to write one?\n",
      "\n",
      "<iphone><objective-c><cocoa><nsstring><variadic-functions>\n",
      "\n",
      "------------------------------------------------------------------------------------------------------------------------\n",
      "\n",
      "Google Maps and DART\n",
      "I am new to DART. Is it possible to use Google Maps Javascript API on DART? If its not directly possible now, is there any other alternate way?\n",
      "\n",
      "<javascript><api><google-maps><google-maps-api-3><dart>\n",
      "\n",
      "------------------------------------------------------------------------------------------------------------------------\n",
      "\n"
     ]
    }
   ],
   "source": [
    "for idx, ser in data.sample(3).iterrows():\n",
    "      print(ser['Title'])\n",
    "      print(ser['Body'])\n",
    "      print(ser['Tags'])\n",
    "      print('')\n",
    "      print('----'*30)\n",
    "      print('')"
   ]
  },
  {
   "cell_type": "code",
   "execution_count": null,
   "metadata": {},
   "outputs": [],
   "source": []
  }
 ],
 "metadata": {
  "kernelspec": {
   "display_name": "Python 3",
   "language": "python",
   "name": "python3"
  },
  "language_info": {
   "codemirror_mode": {
    "name": "ipython",
    "version": 3
   },
   "file_extension": ".py",
   "mimetype": "text/x-python",
   "name": "python",
   "nbconvert_exporter": "python",
   "pygments_lexer": "ipython3",
   "version": "3.10.7"
  },
  "orig_nbformat": 4
 },
 "nbformat": 4,
 "nbformat_minor": 2
}
