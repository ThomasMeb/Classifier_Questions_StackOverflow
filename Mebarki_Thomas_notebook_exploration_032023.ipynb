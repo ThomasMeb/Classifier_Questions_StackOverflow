{
 "cells": [
  {
   "cell_type": "code",
   "execution_count": 1,
   "metadata": {},
   "outputs": [],
   "source": [
    "import pandas as pd\n",
    "pd.options.display.max_columns=200\n",
    "import numpy as np\n",
    "import matplotlib.pyplot as plt\n",
    "import seaborn as sns\n",
    "import warnings\n",
    "warnings.filterwarnings('ignore')\n",
    "%matplotlib inline\n",
    "from sklearn.pipeline import make_pipeline\n",
    "import bs4 as bs\n",
    "import nltk\n",
    "from nltk.corpus import stopwords, words\n",
    "from nltk.stem import WordNetLemmatizer, PorterStemmer\n",
    "from nltk.tokenize import word_tokenize, wordpunct_tokenize, RegexpTokenizer\n",
    "from wordcloud import WordCloud\n",
    "from PIL import Image\n",
    "from pandarallel import pandarallel"
   ]
  },
  {
   "cell_type": "code",
   "execution_count": 2,
   "metadata": {},
   "outputs": [
    {
     "data": {
      "text/plain": [
       "\"nltk.download('stopwords')\\nnltk.download('words')\\nnltk.download('wordnet')\\nnltk.download('omw')\\nnltk.download('punkt')\""
      ]
     },
     "execution_count": 2,
     "metadata": {},
     "output_type": "execute_result"
    }
   ],
   "source": [
    "'''nltk.download('stopwords')\n",
    "nltk.download('words')\n",
    "nltk.download('wordnet')\n",
    "nltk.download('omw')\n",
    "nltk.download('punkt')'''"
   ]
  },
  {
   "cell_type": "code",
   "execution_count": 3,
   "metadata": {},
   "outputs": [],
   "source": [
    "data = pd.read_csv('QueryResults.csv')"
   ]
  },
  {
   "cell_type": "code",
   "execution_count": 4,
   "metadata": {},
   "outputs": [
    {
     "data": {
      "text/html": [
       "<div>\n",
       "<style scoped>\n",
       "    .dataframe tbody tr th:only-of-type {\n",
       "        vertical-align: middle;\n",
       "    }\n",
       "\n",
       "    .dataframe tbody tr th {\n",
       "        vertical-align: top;\n",
       "    }\n",
       "\n",
       "    .dataframe thead th {\n",
       "        text-align: right;\n",
       "    }\n",
       "</style>\n",
       "<table border=\"1\" class=\"dataframe\">\n",
       "  <thead>\n",
       "    <tr style=\"text-align: right;\">\n",
       "      <th></th>\n",
       "      <th>Title</th>\n",
       "      <th>Body</th>\n",
       "      <th>Tags</th>\n",
       "      <th>Id</th>\n",
       "      <th>Score</th>\n",
       "      <th>ViewCount</th>\n",
       "      <th>FavoriteCount</th>\n",
       "      <th>AnswerCount</th>\n",
       "    </tr>\n",
       "  </thead>\n",
       "  <tbody>\n",
       "    <tr>\n",
       "      <th>0</th>\n",
       "      <td>how do I calculate a rolling idxmax</td>\n",
       "      <td>&lt;p&gt;consider the &lt;code&gt;pd.Series&lt;/code&gt; &lt;code&gt;s...</td>\n",
       "      <td>&lt;python&gt;&lt;pandas&gt;&lt;numpy&gt;&lt;dataframe&gt;&lt;series&gt;</td>\n",
       "      <td>40101130</td>\n",
       "      <td>9</td>\n",
       "      <td>7584</td>\n",
       "      <td>0.0</td>\n",
       "      <td>6</td>\n",
       "    </tr>\n",
       "    <tr>\n",
       "      <th>1</th>\n",
       "      <td>Better techniques for trimming leading zeros i...</td>\n",
       "      <td>&lt;p&gt;I've been using &lt;a href=\"https://stackoverf...</td>\n",
       "      <td>&lt;sql&gt;&lt;sql-server&gt;&lt;sql-server-2005&gt;&lt;tsql&gt;&lt;string&gt;</td>\n",
       "      <td>662383</td>\n",
       "      <td>197</td>\n",
       "      <td>388401</td>\n",
       "      <td>0.0</td>\n",
       "      <td>19</td>\n",
       "    </tr>\n",
       "    <tr>\n",
       "      <th>2</th>\n",
       "      <td>\"No X11 DISPLAY variable\" - what does it mean?</td>\n",
       "      <td>&lt;p&gt;I am trying to install a Java application o...</td>\n",
       "      <td>&lt;java&gt;&lt;linux&gt;&lt;variables&gt;&lt;x11&gt;&lt;headless&gt;</td>\n",
       "      <td>662421</td>\n",
       "      <td>122</td>\n",
       "      <td>622820</td>\n",
       "      <td>0.0</td>\n",
       "      <td>12</td>\n",
       "    </tr>\n",
       "    <tr>\n",
       "      <th>3</th>\n",
       "      <td>Object-Oriented Callbacks for C++?</td>\n",
       "      <td>&lt;p&gt;Is there some library that allows me to eas...</td>\n",
       "      <td>&lt;c++&gt;&lt;oop&gt;&lt;callback&gt;&lt;pointer-to-member&gt;&lt;eiffel&gt;</td>\n",
       "      <td>3520133</td>\n",
       "      <td>9</td>\n",
       "      <td>10228</td>\n",
       "      <td>0.0</td>\n",
       "      <td>6</td>\n",
       "    </tr>\n",
       "    <tr>\n",
       "      <th>4</th>\n",
       "      <td>Why doesn't .NET find the OpenSSL.NET dll?</td>\n",
       "      <td>&lt;p&gt;&lt;strong&gt;EDIT&lt;/strong&gt; (the whole question, ...</td>\n",
       "      <td>&lt;c#&gt;&lt;.net&gt;&lt;dll&gt;&lt;dllimport&gt;&lt;dllnotfoundexception&gt;</td>\n",
       "      <td>1396164</td>\n",
       "      <td>9</td>\n",
       "      <td>18554</td>\n",
       "      <td>0.0</td>\n",
       "      <td>12</td>\n",
       "    </tr>\n",
       "  </tbody>\n",
       "</table>\n",
       "</div>"
      ],
      "text/plain": [
       "                                               Title  \\\n",
       "0                how do I calculate a rolling idxmax   \n",
       "1  Better techniques for trimming leading zeros i...   \n",
       "2     \"No X11 DISPLAY variable\" - what does it mean?   \n",
       "3                 Object-Oriented Callbacks for C++?   \n",
       "4         Why doesn't .NET find the OpenSSL.NET dll?   \n",
       "\n",
       "                                                Body  \\\n",
       "0  <p>consider the <code>pd.Series</code> <code>s...   \n",
       "1  <p>I've been using <a href=\"https://stackoverf...   \n",
       "2  <p>I am trying to install a Java application o...   \n",
       "3  <p>Is there some library that allows me to eas...   \n",
       "4  <p><strong>EDIT</strong> (the whole question, ...   \n",
       "\n",
       "                                               Tags        Id  Score  \\\n",
       "0        <python><pandas><numpy><dataframe><series>  40101130      9   \n",
       "1  <sql><sql-server><sql-server-2005><tsql><string>    662383    197   \n",
       "2           <java><linux><variables><x11><headless>    662421    122   \n",
       "3   <c++><oop><callback><pointer-to-member><eiffel>   3520133      9   \n",
       "4  <c#><.net><dll><dllimport><dllnotfoundexception>   1396164      9   \n",
       "\n",
       "   ViewCount  FavoriteCount  AnswerCount  \n",
       "0       7584            0.0            6  \n",
       "1     388401            0.0           19  \n",
       "2     622820            0.0           12  \n",
       "3      10228            0.0            6  \n",
       "4      18554            0.0           12  "
      ]
     },
     "execution_count": 4,
     "metadata": {},
     "output_type": "execute_result"
    }
   ],
   "source": [
    "data.head()"
   ]
  },
  {
   "cell_type": "code",
   "execution_count": 5,
   "metadata": {},
   "outputs": [],
   "source": [
    "#delete balises html with beautiful soup\n",
    "def clean_html(text):\n",
    "    soup = bs.BeautifulSoup(text, \"html.parser\")\n",
    "    return soup.get_text()\n",
    "\n",
    "data['Body'] = data['Body'].apply(clean_html)"
   ]
  },
  {
   "cell_type": "code",
   "execution_count": null,
   "metadata": {},
   "outputs": [],
   "source": []
  },
  {
   "cell_type": "code",
   "execution_count": 6,
   "metadata": {},
   "outputs": [
    {
     "data": {
      "text/html": [
       "<div>\n",
       "<style scoped>\n",
       "    .dataframe tbody tr th:only-of-type {\n",
       "        vertical-align: middle;\n",
       "    }\n",
       "\n",
       "    .dataframe tbody tr th {\n",
       "        vertical-align: top;\n",
       "    }\n",
       "\n",
       "    .dataframe thead th {\n",
       "        text-align: right;\n",
       "    }\n",
       "</style>\n",
       "<table border=\"1\" class=\"dataframe\">\n",
       "  <thead>\n",
       "    <tr style=\"text-align: right;\">\n",
       "      <th></th>\n",
       "      <th>Title</th>\n",
       "      <th>Body</th>\n",
       "      <th>Tags</th>\n",
       "      <th>Id</th>\n",
       "      <th>Score</th>\n",
       "      <th>ViewCount</th>\n",
       "      <th>FavoriteCount</th>\n",
       "      <th>AnswerCount</th>\n",
       "    </tr>\n",
       "  </thead>\n",
       "  <tbody>\n",
       "    <tr>\n",
       "      <th>0</th>\n",
       "      <td>how do I calculate a rolling idxmax</td>\n",
       "      <td>consider the pd.Series s\\nimport pandas as pd\\...</td>\n",
       "      <td>&lt;python&gt;&lt;pandas&gt;&lt;numpy&gt;&lt;dataframe&gt;&lt;series&gt;</td>\n",
       "      <td>40101130</td>\n",
       "      <td>9</td>\n",
       "      <td>7584</td>\n",
       "      <td>0.0</td>\n",
       "      <td>6</td>\n",
       "    </tr>\n",
       "    <tr>\n",
       "      <th>1</th>\n",
       "      <td>Better techniques for trimming leading zeros i...</td>\n",
       "      <td>I've been using this for some time:\\nSUBSTRING...</td>\n",
       "      <td>&lt;sql&gt;&lt;sql-server&gt;&lt;sql-server-2005&gt;&lt;tsql&gt;&lt;string&gt;</td>\n",
       "      <td>662383</td>\n",
       "      <td>197</td>\n",
       "      <td>388401</td>\n",
       "      <td>0.0</td>\n",
       "      <td>19</td>\n",
       "    </tr>\n",
       "    <tr>\n",
       "      <th>2</th>\n",
       "      <td>\"No X11 DISPLAY variable\" - what does it mean?</td>\n",
       "      <td>I am trying to install a Java application on m...</td>\n",
       "      <td>&lt;java&gt;&lt;linux&gt;&lt;variables&gt;&lt;x11&gt;&lt;headless&gt;</td>\n",
       "      <td>662421</td>\n",
       "      <td>122</td>\n",
       "      <td>622820</td>\n",
       "      <td>0.0</td>\n",
       "      <td>12</td>\n",
       "    </tr>\n",
       "    <tr>\n",
       "      <th>3</th>\n",
       "      <td>Object-Oriented Callbacks for C++?</td>\n",
       "      <td>Is there some library that allows me to easily...</td>\n",
       "      <td>&lt;c++&gt;&lt;oop&gt;&lt;callback&gt;&lt;pointer-to-member&gt;&lt;eiffel&gt;</td>\n",
       "      <td>3520133</td>\n",
       "      <td>9</td>\n",
       "      <td>10228</td>\n",
       "      <td>0.0</td>\n",
       "      <td>6</td>\n",
       "    </tr>\n",
       "    <tr>\n",
       "      <th>4</th>\n",
       "      <td>Why doesn't .NET find the OpenSSL.NET dll?</td>\n",
       "      <td>EDIT (the whole question, it was too unclear)\\...</td>\n",
       "      <td>&lt;c#&gt;&lt;.net&gt;&lt;dll&gt;&lt;dllimport&gt;&lt;dllnotfoundexception&gt;</td>\n",
       "      <td>1396164</td>\n",
       "      <td>9</td>\n",
       "      <td>18554</td>\n",
       "      <td>0.0</td>\n",
       "      <td>12</td>\n",
       "    </tr>\n",
       "  </tbody>\n",
       "</table>\n",
       "</div>"
      ],
      "text/plain": [
       "                                               Title  \\\n",
       "0                how do I calculate a rolling idxmax   \n",
       "1  Better techniques for trimming leading zeros i...   \n",
       "2     \"No X11 DISPLAY variable\" - what does it mean?   \n",
       "3                 Object-Oriented Callbacks for C++?   \n",
       "4         Why doesn't .NET find the OpenSSL.NET dll?   \n",
       "\n",
       "                                                Body  \\\n",
       "0  consider the pd.Series s\\nimport pandas as pd\\...   \n",
       "1  I've been using this for some time:\\nSUBSTRING...   \n",
       "2  I am trying to install a Java application on m...   \n",
       "3  Is there some library that allows me to easily...   \n",
       "4  EDIT (the whole question, it was too unclear)\\...   \n",
       "\n",
       "                                               Tags        Id  Score  \\\n",
       "0        <python><pandas><numpy><dataframe><series>  40101130      9   \n",
       "1  <sql><sql-server><sql-server-2005><tsql><string>    662383    197   \n",
       "2           <java><linux><variables><x11><headless>    662421    122   \n",
       "3   <c++><oop><callback><pointer-to-member><eiffel>   3520133      9   \n",
       "4  <c#><.net><dll><dllimport><dllnotfoundexception>   1396164      9   \n",
       "\n",
       "   ViewCount  FavoriteCount  AnswerCount  \n",
       "0       7584            0.0            6  \n",
       "1     388401            0.0           19  \n",
       "2     622820            0.0           12  \n",
       "3      10228            0.0            6  \n",
       "4      18554            0.0           12  "
      ]
     },
     "execution_count": 6,
     "metadata": {},
     "output_type": "execute_result"
    }
   ],
   "source": [
    "data.head()"
   ]
  },
  {
   "cell_type": "code",
   "execution_count": 7,
   "metadata": {},
   "outputs": [
    {
     "data": {
      "text/html": [
       "<div>\n",
       "<style scoped>\n",
       "    .dataframe tbody tr th:only-of-type {\n",
       "        vertical-align: middle;\n",
       "    }\n",
       "\n",
       "    .dataframe tbody tr th {\n",
       "        vertical-align: top;\n",
       "    }\n",
       "\n",
       "    .dataframe thead th {\n",
       "        text-align: right;\n",
       "    }\n",
       "</style>\n",
       "<table border=\"1\" class=\"dataframe\">\n",
       "  <thead>\n",
       "    <tr style=\"text-align: right;\">\n",
       "      <th></th>\n",
       "      <th>Title</th>\n",
       "      <th>Body</th>\n",
       "      <th>Tags</th>\n",
       "      <th>Id</th>\n",
       "      <th>Score</th>\n",
       "      <th>ViewCount</th>\n",
       "      <th>FavoriteCount</th>\n",
       "      <th>AnswerCount</th>\n",
       "    </tr>\n",
       "  </thead>\n",
       "  <tbody>\n",
       "    <tr>\n",
       "      <th>29569</th>\n",
       "      <td>C++ Member Variables</td>\n",
       "      <td>Consider the following class:\\nclass A\\n{\\n  A...</td>\n",
       "      <td>&lt;c++&gt;&lt;class&gt;&lt;variables&gt;&lt;scope&gt;&lt;member&gt;</td>\n",
       "      <td>10198046</td>\n",
       "      <td>24</td>\n",
       "      <td>56010</td>\n",
       "      <td>0.0</td>\n",
       "      <td>6</td>\n",
       "    </tr>\n",
       "    <tr>\n",
       "      <th>6095</th>\n",
       "      <td>WebBrowser keyboard shortcuts</td>\n",
       "      <td>I have a WebBrowser control displaying some HT...</td>\n",
       "      <td>&lt;c#&gt;&lt;.net&gt;&lt;winforms&gt;&lt;keyboard-shortcuts&gt;&lt;webbr...</td>\n",
       "      <td>1980515</td>\n",
       "      <td>9</td>\n",
       "      <td>8066</td>\n",
       "      <td>0.0</td>\n",
       "      <td>4</td>\n",
       "    </tr>\n",
       "    <tr>\n",
       "      <th>16678</th>\n",
       "      <td>What is the difference between Index Out of Ra...</td>\n",
       "      <td>Is there any difference between \"Index was out...</td>\n",
       "      <td>&lt;c#&gt;&lt;.net&gt;&lt;arrays&gt;&lt;exception&gt;&lt;c#-2.0&gt;</td>\n",
       "      <td>4942190</td>\n",
       "      <td>7</td>\n",
       "      <td>4456</td>\n",
       "      <td>0.0</td>\n",
       "      <td>1</td>\n",
       "    </tr>\n",
       "    <tr>\n",
       "      <th>38738</th>\n",
       "      <td>why does a*b*a take longer than (a'*(a*b)')' w...</td>\n",
       "      <td>The code below performs the operation the same...</td>\n",
       "      <td>&lt;matlab&gt;&lt;matrix&gt;&lt;gpu&gt;&lt;sparse-matrix&gt;&lt;linear-al...</td>\n",
       "      <td>50111030</td>\n",
       "      <td>16</td>\n",
       "      <td>362</td>\n",
       "      <td>0.0</td>\n",
       "      <td>3</td>\n",
       "    </tr>\n",
       "    <tr>\n",
       "      <th>35690</th>\n",
       "      <td>Collision detection with complex shapes</td>\n",
       "      <td>I am wanting to make a game that has each leve...</td>\n",
       "      <td>&lt;java&gt;&lt;image&gt;&lt;awt&gt;&lt;collision&gt;&lt;java-2d&gt;</td>\n",
       "      <td>14574045</td>\n",
       "      <td>25</td>\n",
       "      <td>10606</td>\n",
       "      <td>0.0</td>\n",
       "      <td>1</td>\n",
       "    </tr>\n",
       "  </tbody>\n",
       "</table>\n",
       "</div>"
      ],
      "text/plain": [
       "                                                   Title  \\\n",
       "29569                               C++ Member Variables   \n",
       "6095                       WebBrowser keyboard shortcuts   \n",
       "16678  What is the difference between Index Out of Ra...   \n",
       "38738  why does a*b*a take longer than (a'*(a*b)')' w...   \n",
       "35690            Collision detection with complex shapes   \n",
       "\n",
       "                                                    Body  \\\n",
       "29569  Consider the following class:\\nclass A\\n{\\n  A...   \n",
       "6095   I have a WebBrowser control displaying some HT...   \n",
       "16678  Is there any difference between \"Index was out...   \n",
       "38738  The code below performs the operation the same...   \n",
       "35690  I am wanting to make a game that has each leve...   \n",
       "\n",
       "                                                    Tags        Id  Score  \\\n",
       "29569             <c++><class><variables><scope><member>  10198046     24   \n",
       "6095   <c#><.net><winforms><keyboard-shortcuts><webbr...   1980515      9   \n",
       "16678              <c#><.net><arrays><exception><c#-2.0>   4942190      7   \n",
       "38738  <matlab><matrix><gpu><sparse-matrix><linear-al...  50111030     16   \n",
       "35690             <java><image><awt><collision><java-2d>  14574045     25   \n",
       "\n",
       "       ViewCount  FavoriteCount  AnswerCount  \n",
       "29569      56010            0.0            6  \n",
       "6095        8066            0.0            4  \n",
       "16678       4456            0.0            1  \n",
       "38738        362            0.0            3  \n",
       "35690      10606            0.0            1  "
      ]
     },
     "execution_count": 7,
     "metadata": {},
     "output_type": "execute_result"
    }
   ],
   "source": [
    "data.sample(5)"
   ]
  },
  {
   "cell_type": "code",
   "execution_count": 8,
   "metadata": {},
   "outputs": [],
   "source": [
    "data = data[['Title', 'Body', 'Tags', 'Id']]"
   ]
  },
  {
   "cell_type": "code",
   "execution_count": null,
   "metadata": {},
   "outputs": [],
   "source": []
  },
  {
   "cell_type": "code",
   "execution_count": 9,
   "metadata": {},
   "outputs": [
    {
     "name": "stdout",
     "output_type": "stream",
     "text": [
      "<class 'pandas.core.frame.DataFrame'>\n",
      "RangeIndex: 50000 entries, 0 to 49999\n",
      "Data columns (total 4 columns):\n",
      " #   Column  Non-Null Count  Dtype \n",
      "---  ------  --------------  ----- \n",
      " 0   Title   50000 non-null  object\n",
      " 1   Body    50000 non-null  object\n",
      " 2   Tags    50000 non-null  object\n",
      " 3   Id      50000 non-null  int64 \n",
      "dtypes: int64(1), object(3)\n",
      "memory usage: 1.5+ MB\n"
     ]
    }
   ],
   "source": [
    "data.info()"
   ]
  },
  {
   "cell_type": "code",
   "execution_count": 10,
   "metadata": {},
   "outputs": [
    {
     "data": {
      "text/plain": [
       "Title    49999\n",
       "Body     50000\n",
       "Tags     49190\n",
       "Id       50000\n",
       "dtype: int64"
      ]
     },
     "execution_count": 10,
     "metadata": {},
     "output_type": "execute_result"
    }
   ],
   "source": [
    "data.nunique()"
   ]
  },
  {
   "cell_type": "code",
   "execution_count": 11,
   "metadata": {},
   "outputs": [
    {
     "data": {
      "text/plain": [
       "Title    0\n",
       "Body     0\n",
       "Tags     0\n",
       "Id       0\n",
       "dtype: int64"
      ]
     },
     "execution_count": 11,
     "metadata": {},
     "output_type": "execute_result"
    }
   ],
   "source": [
    "data.isna().sum()"
   ]
  },
  {
   "cell_type": "code",
   "execution_count": 12,
   "metadata": {},
   "outputs": [
    {
     "data": {
      "text/html": [
       "<div>\n",
       "<style scoped>\n",
       "    .dataframe tbody tr th:only-of-type {\n",
       "        vertical-align: middle;\n",
       "    }\n",
       "\n",
       "    .dataframe tbody tr th {\n",
       "        vertical-align: top;\n",
       "    }\n",
       "\n",
       "    .dataframe thead th {\n",
       "        text-align: right;\n",
       "    }\n",
       "</style>\n",
       "<table border=\"1\" class=\"dataframe\">\n",
       "  <thead>\n",
       "    <tr style=\"text-align: right;\">\n",
       "      <th></th>\n",
       "      <th>Title</th>\n",
       "      <th>Body</th>\n",
       "      <th>Tags</th>\n",
       "    </tr>\n",
       "  </thead>\n",
       "  <tbody>\n",
       "    <tr>\n",
       "      <th>count</th>\n",
       "      <td>50000</td>\n",
       "      <td>50000</td>\n",
       "      <td>50000</td>\n",
       "    </tr>\n",
       "    <tr>\n",
       "      <th>unique</th>\n",
       "      <td>49999</td>\n",
       "      <td>50000</td>\n",
       "      <td>49190</td>\n",
       "    </tr>\n",
       "    <tr>\n",
       "      <th>top</th>\n",
       "      <td>A potentially dangerous Request.Form value was...</td>\n",
       "      <td>consider the pd.Series s\\nimport pandas as pd\\...</td>\n",
       "      <td>&lt;angular&gt;&lt;typescript&gt;&lt;ionic-framework&gt;&lt;ionic2&gt;...</td>\n",
       "    </tr>\n",
       "    <tr>\n",
       "      <th>freq</th>\n",
       "      <td>2</td>\n",
       "      <td>1</td>\n",
       "      <td>24</td>\n",
       "    </tr>\n",
       "  </tbody>\n",
       "</table>\n",
       "</div>"
      ],
      "text/plain": [
       "                                                    Title  \\\n",
       "count                                               50000   \n",
       "unique                                              49999   \n",
       "top     A potentially dangerous Request.Form value was...   \n",
       "freq                                                    2   \n",
       "\n",
       "                                                     Body  \\\n",
       "count                                               50000   \n",
       "unique                                              50000   \n",
       "top     consider the pd.Series s\\nimport pandas as pd\\...   \n",
       "freq                                                    1   \n",
       "\n",
       "                                                     Tags  \n",
       "count                                               50000  \n",
       "unique                                              49190  \n",
       "top     <angular><typescript><ionic-framework><ionic2>...  \n",
       "freq                                                   24  "
      ]
     },
     "execution_count": 12,
     "metadata": {},
     "output_type": "execute_result"
    }
   ],
   "source": [
    "data.describe(include=object)"
   ]
  },
  {
   "cell_type": "code",
   "execution_count": 13,
   "metadata": {},
   "outputs": [
    {
     "data": {
      "text/plain": [
       "0         754\n",
       "1         585\n",
       "2        2111\n",
       "3        1307\n",
       "4        1165\n",
       "         ... \n",
       "49995     195\n",
       "49996    2821\n",
       "49997     450\n",
       "49998    1179\n",
       "49999    1449\n",
       "Name: Body, Length: 50000, dtype: int64"
      ]
     },
     "execution_count": 13,
     "metadata": {},
     "output_type": "execute_result"
    }
   ],
   "source": [
    "data.Body.apply(lambda i : len(i))"
   ]
  },
  {
   "cell_type": "code",
   "execution_count": 14,
   "metadata": {},
   "outputs": [
    {
     "data": {
      "text/plain": [
       "<AxesSubplot: xlabel='Body', ylabel='Density'>"
      ]
     },
     "execution_count": 14,
     "metadata": {},
     "output_type": "execute_result"
    },
    {
     "data": {
      "image/png": "[encoded data removed]",
      "text/plain": [
       "<Figure size 640x480 with 1 Axes>"
      ]
     },
     "metadata": {},
     "output_type": "display_data"
    }
   ],
   "source": [
    "tmp = data.Body.str.len()\n",
    "sns.distplot(tmp)"
   ]
  },
  {
   "cell_type": "code",
   "execution_count": 15,
   "metadata": {},
   "outputs": [
    {
     "data": {
      "text/plain": [
       "<AxesSubplot: xlabel='Title', ylabel='Density'>"
      ]
     },
     "execution_count": 15,
     "metadata": {},
     "output_type": "execute_result"
    },
    {
     "data": {
      "image/png": "[encoded data removed]",
      "text/plain": [
       "<Figure size 640x480 with 1 Axes>"
      ]
     },
     "metadata": {},
     "output_type": "display_data"
    }
   ],
   "source": [
    "tmp = data.Title.str.len()\n",
    "sns.distplot(tmp)"
   ]
  },
  {
   "cell_type": "code",
   "execution_count": null,
   "metadata": {},
   "outputs": [],
   "source": []
  },
  {
   "cell_type": "code",
   "execution_count": 16,
   "metadata": {},
   "outputs": [
    {
     "data": {
      "text/plain": [
       "(50000, 4)"
      ]
     },
     "execution_count": 16,
     "metadata": {},
     "output_type": "execute_result"
    }
   ],
   "source": [
    "data.shape"
   ]
  },
  {
   "cell_type": "code",
   "execution_count": null,
   "metadata": {},
   "outputs": [],
   "source": []
  },
  {
   "cell_type": "code",
   "execution_count": 17,
   "metadata": {},
   "outputs": [
    {
     "name": "stdout",
     "output_type": "stream",
     "text": [
      "Binary Search in Array\n",
      "How would I implement a binary search using just an array? \n",
      "\n",
      "<algorithm><arrays><language-agnostic><search><binary-search>\n",
      "\n",
      "------------------------------------------------------------------------------------------------------------------------\n",
      "\n",
      "JNI thread model?\n",
      "When I call a C/C++ from Java, is a new thread created by JavaVM or JNI to run the C/C++ code while my Java thread is waiting?\n",
      "I ask this because my C/C++ code runs something on the GPU and I need to check a specific buffer to get the result back. Once I have the result, I need to call my Java function again.\n",
      "So I was thinking of creating a thread on the C++ side that continuously checks the buffer and once there is some data available, makes a call back to the Java side. \n",
      "\n",
      "<java><c++><multithreading><java-native-interface><jnienv>\n",
      "\n",
      "------------------------------------------------------------------------------------------------------------------------\n",
      "\n",
      "Maven release via Hudson\n",
      "I'm setting up Hudson to use the batch-task plugin to do maven releases to our internal repository. I'm doing it via:\n",
      "mvn --batch-mode release:prepare\n",
      "mvn --batch-mode release:perform\n",
      "\n",
      "I'm interested in other methods people have used and the pros and cons of those methods. Also, any gotchas people have come across. \n",
      "\n",
      "<maven-2><jenkins><continuous-integration><hudson><release-management>\n",
      "\n",
      "------------------------------------------------------------------------------------------------------------------------\n",
      "\n"
     ]
    }
   ],
   "source": [
    "for idx, ser in data.sample(3).iterrows():\n",
    "      print(ser['Title'])\n",
    "      print(ser['Body'])\n",
    "      print(ser['Tags'])\n",
    "      print('')\n",
    "      print('----'*30)\n",
    "      print('')"
   ]
  },
  {
   "cell_type": "code",
   "execution_count": 18,
   "metadata": {},
   "outputs": [],
   "source": [
    "data.set_index('Id', inplace=True)"
   ]
  },
  {
   "cell_type": "code",
   "execution_count": 19,
   "metadata": {},
   "outputs": [
    {
     "data": {
      "text/html": [
       "<div>\n",
       "<style scoped>\n",
       "    .dataframe tbody tr th:only-of-type {\n",
       "        vertical-align: middle;\n",
       "    }\n",
       "\n",
       "    .dataframe tbody tr th {\n",
       "        vertical-align: top;\n",
       "    }\n",
       "\n",
       "    .dataframe thead th {\n",
       "        text-align: right;\n",
       "    }\n",
       "</style>\n",
       "<table border=\"1\" class=\"dataframe\">\n",
       "  <thead>\n",
       "    <tr style=\"text-align: right;\">\n",
       "      <th></th>\n",
       "      <th>Title</th>\n",
       "      <th>Body</th>\n",
       "      <th>Tags</th>\n",
       "    </tr>\n",
       "    <tr>\n",
       "      <th>Id</th>\n",
       "      <th></th>\n",
       "      <th></th>\n",
       "      <th></th>\n",
       "    </tr>\n",
       "  </thead>\n",
       "  <tbody>\n",
       "    <tr>\n",
       "      <th>40101130</th>\n",
       "      <td>how do I calculate a rolling idxmax</td>\n",
       "      <td>consider the pd.Series s\\nimport pandas as pd\\...</td>\n",
       "      <td>&lt;python&gt;&lt;pandas&gt;&lt;numpy&gt;&lt;dataframe&gt;&lt;series&gt;</td>\n",
       "    </tr>\n",
       "    <tr>\n",
       "      <th>662383</th>\n",
       "      <td>Better techniques for trimming leading zeros i...</td>\n",
       "      <td>I've been using this for some time:\\nSUBSTRING...</td>\n",
       "      <td>&lt;sql&gt;&lt;sql-server&gt;&lt;sql-server-2005&gt;&lt;tsql&gt;&lt;string&gt;</td>\n",
       "    </tr>\n",
       "    <tr>\n",
       "      <th>662421</th>\n",
       "      <td>\"No X11 DISPLAY variable\" - what does it mean?</td>\n",
       "      <td>I am trying to install a Java application on m...</td>\n",
       "      <td>&lt;java&gt;&lt;linux&gt;&lt;variables&gt;&lt;x11&gt;&lt;headless&gt;</td>\n",
       "    </tr>\n",
       "    <tr>\n",
       "      <th>3520133</th>\n",
       "      <td>Object-Oriented Callbacks for C++?</td>\n",
       "      <td>Is there some library that allows me to easily...</td>\n",
       "      <td>&lt;c++&gt;&lt;oop&gt;&lt;callback&gt;&lt;pointer-to-member&gt;&lt;eiffel&gt;</td>\n",
       "    </tr>\n",
       "    <tr>\n",
       "      <th>1396164</th>\n",
       "      <td>Why doesn't .NET find the OpenSSL.NET dll?</td>\n",
       "      <td>EDIT (the whole question, it was too unclear)\\...</td>\n",
       "      <td>&lt;c#&gt;&lt;.net&gt;&lt;dll&gt;&lt;dllimport&gt;&lt;dllnotfoundexception&gt;</td>\n",
       "    </tr>\n",
       "  </tbody>\n",
       "</table>\n",
       "</div>"
      ],
      "text/plain": [
       "                                                      Title  \\\n",
       "Id                                                            \n",
       "40101130                how do I calculate a rolling idxmax   \n",
       "662383    Better techniques for trimming leading zeros i...   \n",
       "662421       \"No X11 DISPLAY variable\" - what does it mean?   \n",
       "3520133                  Object-Oriented Callbacks for C++?   \n",
       "1396164          Why doesn't .NET find the OpenSSL.NET dll?   \n",
       "\n",
       "                                                       Body  \\\n",
       "Id                                                            \n",
       "40101130  consider the pd.Series s\\nimport pandas as pd\\...   \n",
       "662383    I've been using this for some time:\\nSUBSTRING...   \n",
       "662421    I am trying to install a Java application on m...   \n",
       "3520133   Is there some library that allows me to easily...   \n",
       "1396164   EDIT (the whole question, it was too unclear)\\...   \n",
       "\n",
       "                                                      Tags  \n",
       "Id                                                          \n",
       "40101130        <python><pandas><numpy><dataframe><series>  \n",
       "662383    <sql><sql-server><sql-server-2005><tsql><string>  \n",
       "662421             <java><linux><variables><x11><headless>  \n",
       "3520133    <c++><oop><callback><pointer-to-member><eiffel>  \n",
       "1396164   <c#><.net><dll><dllimport><dllnotfoundexception>  "
      ]
     },
     "execution_count": 19,
     "metadata": {},
     "output_type": "execute_result"
    }
   ],
   "source": [
    "data.head()"
   ]
  },
  {
   "cell_type": "code",
   "execution_count": null,
   "metadata": {},
   "outputs": [],
   "source": []
  },
  {
   "cell_type": "code",
   "execution_count": null,
   "metadata": {},
   "outputs": [],
   "source": []
  },
  {
   "cell_type": "code",
   "execution_count": null,
   "metadata": {},
   "outputs": [],
   "source": []
  },
  {
   "cell_type": "code",
   "execution_count": 20,
   "metadata": {},
   "outputs": [],
   "source": [
    "def tokenizer_fct(sentence) :\n",
    "    # print(sentence)\n",
    "    sentence_clean = sentence.replace('-', ' ').replace('+', ' ').replace('/', ' ').replace('#', ' ')\n",
    "    word_tokens = word_tokenize(sentence_clean)\n",
    "    return word_tokens\n",
    "\n",
    "# Stop words\n",
    "stop_w = list(set(stopwords.words('english'))) + ['[', ']', ',', '.', ':', '?', '(', ')', \"'\", '\"', '!', ';', '``', \"''\", '...', '’', '“', '”']\n",
    "\n",
    "def stop_word_filter_fct(list_words) :\n",
    "    filtered_w = [w for w in list_words if not w in stop_w]\n",
    "    filtered_w2 = [w for w in filtered_w if len(w) > 2]\n",
    "    return filtered_w2\n",
    "\n",
    "# lower case et alpha\n",
    "def lower_start_fct(list_words) :\n",
    "    lw = [w.lower() for w in list_words if (not w.startswith(\"@\")) \n",
    "    #                                   and (not w.startswith(\"#\"))\n",
    "                                       and (not w.startswith(\"http\"))]\n",
    "    return lw\n",
    "\n",
    "# Lemmatizer (base d'un mot)\n",
    "def lemma_fct(list_words) :\n",
    "    lemmatizer = WordNetLemmatizer()\n",
    "    lem_w = [lemmatizer.lemmatize(w) for w in list_words]\n",
    "    return lem_w\n",
    "\n",
    "# Fonction de préparation du texte pour le bag of words (Countvectorizer et Tf_idf, Word2Vec)\n",
    "def transform_bow_fct(desc_text) :\n",
    "    word_tokens = tokenizer_fct(desc_text)\n",
    "    sw = stop_word_filter_fct(word_tokens)\n",
    "    lw = lower_start_fct(sw)\n",
    "    # lem_w = lemma_fct(lw)    \n",
    "    transf_desc_text = ' '.join(lw)\n",
    "    return transf_desc_text\n",
    "\n",
    "# Fonction de préparation du texte pour le bag of words avec lemmatization\n",
    "def transform_bow_lem_fct(desc_text) :\n",
    "    word_tokens = tokenizer_fct(desc_text)\n",
    "    sw = stop_word_filter_fct(word_tokens)\n",
    "    lw = lower_start_fct(sw)\n",
    "    lem_w = lemma_fct(lw)    \n",
    "    transf_desc_text = ' '.join(lem_w)\n",
    "    return transf_desc_text\n",
    "\n",
    "# Fonction de préparation du texte pour le Deep learning (USE et BERT)\n",
    "def transform_dl_fct(desc_text) :\n",
    "    word_tokens = tokenizer_fct(desc_text)\n",
    "#    sw = stop_word_filter_fct(word_tokens)\n",
    "    lw = lower_start_fct(word_tokens)\n",
    "    # lem_w = lemma_fct(lw)    \n",
    "    transf_desc_text = ' '.join(lw)\n",
    "    return transf_desc_text"
   ]
  },
  {
   "cell_type": "code",
   "execution_count": 21,
   "metadata": {},
   "outputs": [],
   "source": [
    "X = data['Body'].apply(lambda i : transform_bow_lem_fct(i))"
   ]
  },
  {
   "cell_type": "code",
   "execution_count": null,
   "metadata": {},
   "outputs": [],
   "source": []
  },
  {
   "cell_type": "code",
   "execution_count": null,
   "metadata": {},
   "outputs": [],
   "source": []
  },
  {
   "cell_type": "code",
   "execution_count": 22,
   "metadata": {},
   "outputs": [],
   "source": [
    "df = pd.DataFrame(X)\n",
    "df['Title'] = data['Title'].apply(lambda i : transform_bow_lem_fct(i))\n",
    "df ['Tags'] = data['Tags']"
   ]
  },
  {
   "cell_type": "code",
   "execution_count": 23,
   "metadata": {},
   "outputs": [
    {
     "data": {
      "text/html": [
       "<div>\n",
       "<style scoped>\n",
       "    .dataframe tbody tr th:only-of-type {\n",
       "        vertical-align: middle;\n",
       "    }\n",
       "\n",
       "    .dataframe tbody tr th {\n",
       "        vertical-align: top;\n",
       "    }\n",
       "\n",
       "    .dataframe thead th {\n",
       "        text-align: right;\n",
       "    }\n",
       "</style>\n",
       "<table border=\"1\" class=\"dataframe\">\n",
       "  <thead>\n",
       "    <tr style=\"text-align: right;\">\n",
       "      <th></th>\n",
       "      <th>Body</th>\n",
       "      <th>Title</th>\n",
       "      <th>Tags</th>\n",
       "    </tr>\n",
       "    <tr>\n",
       "      <th>Id</th>\n",
       "      <th></th>\n",
       "      <th></th>\n",
       "      <th></th>\n",
       "    </tr>\n",
       "  </thead>\n",
       "  <tbody>\n",
       "    <tr>\n",
       "      <th>40101130</th>\n",
       "      <td>consider pd.series import panda import numpy n...</td>\n",
       "      <td>calculate rolling idxmax</td>\n",
       "      <td>&lt;python&gt;&lt;pandas&gt;&lt;numpy&gt;&lt;dataframe&gt;&lt;series&gt;</td>\n",
       "    </tr>\n",
       "    <tr>\n",
       "      <th>662383</th>\n",
       "      <td>'ve using time substring str_col patindex str_...</td>\n",
       "      <td>better technique trimming leading zero sql server</td>\n",
       "      <td>&lt;sql&gt;&lt;sql-server&gt;&lt;sql-server-2005&gt;&lt;tsql&gt;&lt;string&gt;</td>\n",
       "    </tr>\n",
       "    <tr>\n",
       "      <th>662421</th>\n",
       "      <td>trying install java application linux machine ...</td>\n",
       "      <td>x11 display variable mean</td>\n",
       "      <td>&lt;java&gt;&lt;linux&gt;&lt;variables&gt;&lt;x11&gt;&lt;headless&gt;</td>\n",
       "    </tr>\n",
       "    <tr>\n",
       "      <th>3520133</th>\n",
       "      <td>library allows easily conveniently create obje...</td>\n",
       "      <td>object oriented callback</td>\n",
       "      <td>&lt;c++&gt;&lt;oop&gt;&lt;callback&gt;&lt;pointer-to-member&gt;&lt;eiffel&gt;</td>\n",
       "    </tr>\n",
       "    <tr>\n",
       "      <th>1396164</th>\n",
       "      <td>edit whole question unclear want use openssl.n...</td>\n",
       "      <td>why n't .net find openssl.net dll</td>\n",
       "      <td>&lt;c#&gt;&lt;.net&gt;&lt;dll&gt;&lt;dllimport&gt;&lt;dllnotfoundexception&gt;</td>\n",
       "    </tr>\n",
       "  </tbody>\n",
       "</table>\n",
       "</div>"
      ],
      "text/plain": [
       "                                                       Body  \\\n",
       "Id                                                            \n",
       "40101130  consider pd.series import panda import numpy n...   \n",
       "662383    've using time substring str_col patindex str_...   \n",
       "662421    trying install java application linux machine ...   \n",
       "3520133   library allows easily conveniently create obje...   \n",
       "1396164   edit whole question unclear want use openssl.n...   \n",
       "\n",
       "                                                      Title  \\\n",
       "Id                                                            \n",
       "40101130                           calculate rolling idxmax   \n",
       "662383    better technique trimming leading zero sql server   \n",
       "662421                            x11 display variable mean   \n",
       "3520133                            object oriented callback   \n",
       "1396164                   why n't .net find openssl.net dll   \n",
       "\n",
       "                                                      Tags  \n",
       "Id                                                          \n",
       "40101130        <python><pandas><numpy><dataframe><series>  \n",
       "662383    <sql><sql-server><sql-server-2005><tsql><string>  \n",
       "662421             <java><linux><variables><x11><headless>  \n",
       "3520133    <c++><oop><callback><pointer-to-member><eiffel>  \n",
       "1396164   <c#><.net><dll><dllimport><dllnotfoundexception>  "
      ]
     },
     "execution_count": 23,
     "metadata": {},
     "output_type": "execute_result"
    }
   ],
   "source": [
    "df.head()"
   ]
  },
  {
   "cell_type": "code",
   "execution_count": null,
   "metadata": {},
   "outputs": [],
   "source": []
  },
  {
   "cell_type": "code",
   "execution_count": 24,
   "metadata": {},
   "outputs": [
    {
     "name": "stdout",
     "output_type": "stream",
     "text": [
      "<class 'pandas.core.frame.DataFrame'>\n",
      "Int64Index: 50000 entries, 40101130 to 53180854\n",
      "Data columns (total 3 columns):\n",
      " #   Column  Non-Null Count  Dtype \n",
      "---  ------  --------------  ----- \n",
      " 0   Body    50000 non-null  object\n",
      " 1   Title   50000 non-null  object\n",
      " 2   Tags    50000 non-null  object\n",
      "dtypes: object(3)\n",
      "memory usage: 1.5+ MB\n"
     ]
    }
   ],
   "source": [
    "df.info()"
   ]
  },
  {
   "cell_type": "code",
   "execution_count": 25,
   "metadata": {},
   "outputs": [
    {
     "name": "stdout",
     "output_type": "stream",
     "text": [
      "unescape special character correctly url rail 3.0.3\n",
      "using rail 3.0.3 ree ruby 1.8.7 gem 'mysql2 0.2.6' there search feature project enable people use get method using url using form generate url example want search origin city århus denmark destination city asunción paraguay special character url generated like someone click search button origin= c5rhus 20denmark destination=asunci f3n 20paraguay problem when search city unescaped like want tried using like cgi uri even gem when see console activerecord received query like parameter destination asunci�n paraguay origin �rhus denmark sort newest city load 0.1ms select city from city where city name '�rhus order cities.name asc city load 6.8ms select city from city where city name 'asunci�n paraguay order cities.name asc conclusion city n't found but found interesting thing when made error file asociated function output like request parameter destination asunción paraguay origin århus denmark sort newest valid one question guy idea solve thanks advance\n",
      "<ruby-on-rails><ruby><activerecord><encoding><escaping>\n",
      "\n",
      "------------------------------------------------------------------------------------------------------------------------\n",
      "\n",
      "accessing gradient value kera model output respect input\n",
      "made pretty simple model non linear regression kera introduction exercise uploaded jupyter notebookit gist render properly github pretty short point fit function know theano tensorflow core graph based derivative gradient passing framework and utilizing gradient loss function respect weight gradient step based optimization main purpose but trying get sense access something given trained model approximate derivative input respect output layer weight loss function case would want 25.0 estimated via network derivative graph indicated value input network currently trained state option either kera theano backend apis need chain ruling somehow weight maybe adding non trainable identity layer something notebook see trying approach based able find far without ton success make concrete working kera model structure model sequential input model.add dense input_dim=1 activation='relu model.add activation linear model.add dense activation='relu model.add activation linear model.add dense activation='relu output model.add dense model.compile loss='mse optimizer='adam metrics= accuracy model.fit batch_size=10 epochs=25 verbose=0 validation_data= x_test y_test would like estimate derivative output respect input say 0.5 all attempt extract gradient value based searching past answer led syntax error from high level point view supported feature kera solution going backend specific\n",
      "<python><machine-learning><tensorflow><keras><theano>\n",
      "\n",
      "------------------------------------------------------------------------------------------------------------------------\n",
      "\n",
      "how sort list activerecords attribute length\n",
      "object like irb main :076:0 hint hint.where sentence like hint load 4.0ms select hint from hint where sentence like hint:0x007fb99c6520b8 214 sentence 我为你们立下模范，我向你们怎样做，你们也该照样做。 user nil learned nil created_at sun jan 2013 18:14:33 utc 00:00 updated_at sun jan 2013 18:14:33 utc 00:00 hint:0x007fb99c659a70 229 sentence 他快要完成地上的传道工作时，曾向耶和华祷告说 我已经使他们使徒认识你的名，以后还要使他们认识 user nil learned nil created_at sun jan 2013 18:43:23 utc 00:00 updated_at sun jan 2013 18:43:23 utc 00:00 hint:0x007fb99c659458 234 sentence 你的王到你这里来了。 user nil learned nil created_at sun jan 2013 18:48:12 utc 00:00 updated_at sun jan 2013 18:48:12 utc 00:00 irb main :077:0 hints.class activerecord :relation object how sort sentence length final goal make someone click chinese character lesson shown shortest example sentence available hint meaning character using postgresql\n",
      "<ruby-on-rails><ruby><ruby-on-rails-3><activerecord><rails-postgresql>\n",
      "\n",
      "------------------------------------------------------------------------------------------------------------------------\n",
      "\n"
     ]
    }
   ],
   "source": [
    "for idx, ser in df.sample(3).iterrows():\n",
    "      print(ser['Title'])\n",
    "      print(ser['Body'])\n",
    "      print(ser['Tags'])\n",
    "      print('')\n",
    "      print('----'*30)\n",
    "      print('')"
   ]
  },
  {
   "cell_type": "code",
   "execution_count": 26,
   "metadata": {},
   "outputs": [
    {
     "data": {
      "text/plain": [
       "(50000, 3)"
      ]
     },
     "execution_count": 26,
     "metadata": {},
     "output_type": "execute_result"
    }
   ],
   "source": [
    "df.shape"
   ]
  },
  {
   "cell_type": "code",
   "execution_count": 27,
   "metadata": {},
   "outputs": [],
   "source": [
    "df['text'] = df['Title'] + '    ' + df['Body']"
   ]
  },
  {
   "cell_type": "code",
   "execution_count": 28,
   "metadata": {},
   "outputs": [
    {
     "data": {
      "text/html": [
       "<div>\n",
       "<style scoped>\n",
       "    .dataframe tbody tr th:only-of-type {\n",
       "        vertical-align: middle;\n",
       "    }\n",
       "\n",
       "    .dataframe tbody tr th {\n",
       "        vertical-align: top;\n",
       "    }\n",
       "\n",
       "    .dataframe thead th {\n",
       "        text-align: right;\n",
       "    }\n",
       "</style>\n",
       "<table border=\"1\" class=\"dataframe\">\n",
       "  <thead>\n",
       "    <tr style=\"text-align: right;\">\n",
       "      <th></th>\n",
       "      <th>Body</th>\n",
       "      <th>Title</th>\n",
       "      <th>Tags</th>\n",
       "      <th>text</th>\n",
       "    </tr>\n",
       "    <tr>\n",
       "      <th>Id</th>\n",
       "      <th></th>\n",
       "      <th></th>\n",
       "      <th></th>\n",
       "      <th></th>\n",
       "    </tr>\n",
       "  </thead>\n",
       "  <tbody>\n",
       "    <tr>\n",
       "      <th>40101130</th>\n",
       "      <td>consider pd.series import panda import numpy n...</td>\n",
       "      <td>calculate rolling idxmax</td>\n",
       "      <td>&lt;python&gt;&lt;pandas&gt;&lt;numpy&gt;&lt;dataframe&gt;&lt;series&gt;</td>\n",
       "      <td>calculate rolling idxmax    consider pd.series...</td>\n",
       "    </tr>\n",
       "    <tr>\n",
       "      <th>662383</th>\n",
       "      <td>'ve using time substring str_col patindex str_...</td>\n",
       "      <td>better technique trimming leading zero sql server</td>\n",
       "      <td>&lt;sql&gt;&lt;sql-server&gt;&lt;sql-server-2005&gt;&lt;tsql&gt;&lt;string&gt;</td>\n",
       "      <td>better technique trimming leading zero sql ser...</td>\n",
       "    </tr>\n",
       "    <tr>\n",
       "      <th>662421</th>\n",
       "      <td>trying install java application linux machine ...</td>\n",
       "      <td>x11 display variable mean</td>\n",
       "      <td>&lt;java&gt;&lt;linux&gt;&lt;variables&gt;&lt;x11&gt;&lt;headless&gt;</td>\n",
       "      <td>x11 display variable mean    trying install ja...</td>\n",
       "    </tr>\n",
       "    <tr>\n",
       "      <th>3520133</th>\n",
       "      <td>library allows easily conveniently create obje...</td>\n",
       "      <td>object oriented callback</td>\n",
       "      <td>&lt;c++&gt;&lt;oop&gt;&lt;callback&gt;&lt;pointer-to-member&gt;&lt;eiffel&gt;</td>\n",
       "      <td>object oriented callback    library allows eas...</td>\n",
       "    </tr>\n",
       "    <tr>\n",
       "      <th>1396164</th>\n",
       "      <td>edit whole question unclear want use openssl.n...</td>\n",
       "      <td>why n't .net find openssl.net dll</td>\n",
       "      <td>&lt;c#&gt;&lt;.net&gt;&lt;dll&gt;&lt;dllimport&gt;&lt;dllnotfoundexception&gt;</td>\n",
       "      <td>why n't .net find openssl.net dll    edit whol...</td>\n",
       "    </tr>\n",
       "  </tbody>\n",
       "</table>\n",
       "</div>"
      ],
      "text/plain": [
       "                                                       Body  \\\n",
       "Id                                                            \n",
       "40101130  consider pd.series import panda import numpy n...   \n",
       "662383    've using time substring str_col patindex str_...   \n",
       "662421    trying install java application linux machine ...   \n",
       "3520133   library allows easily conveniently create obje...   \n",
       "1396164   edit whole question unclear want use openssl.n...   \n",
       "\n",
       "                                                      Title  \\\n",
       "Id                                                            \n",
       "40101130                           calculate rolling idxmax   \n",
       "662383    better technique trimming leading zero sql server   \n",
       "662421                            x11 display variable mean   \n",
       "3520133                            object oriented callback   \n",
       "1396164                   why n't .net find openssl.net dll   \n",
       "\n",
       "                                                      Tags  \\\n",
       "Id                                                           \n",
       "40101130        <python><pandas><numpy><dataframe><series>   \n",
       "662383    <sql><sql-server><sql-server-2005><tsql><string>   \n",
       "662421             <java><linux><variables><x11><headless>   \n",
       "3520133    <c++><oop><callback><pointer-to-member><eiffel>   \n",
       "1396164   <c#><.net><dll><dllimport><dllnotfoundexception>   \n",
       "\n",
       "                                                       text  \n",
       "Id                                                           \n",
       "40101130  calculate rolling idxmax    consider pd.series...  \n",
       "662383    better technique trimming leading zero sql ser...  \n",
       "662421    x11 display variable mean    trying install ja...  \n",
       "3520133   object oriented callback    library allows eas...  \n",
       "1396164   why n't .net find openssl.net dll    edit whol...  "
      ]
     },
     "execution_count": 28,
     "metadata": {},
     "output_type": "execute_result"
    }
   ],
   "source": [
    "df.head()"
   ]
  },
  {
   "cell_type": "code",
   "execution_count": 29,
   "metadata": {},
   "outputs": [],
   "source": [
    "# création du bag of words (CountVectorizer et Tf-idf)\n",
    "\n",
    "from sklearn.feature_extraction.text import CountVectorizer, TfidfVectorizer\n",
    "\n",
    "cvect = CountVectorizer(stop_words='english', max_df=0.9, min_df=2)\n",
    "ctf = TfidfVectorizer(stop_words='english', max_df=0.95, min_df=1)\n",
    "\n",
    "feat = 'Title'\n",
    "cv_fit = cvect.fit(df[feat])\n",
    "ctf_fit = ctf.fit(df[feat])\n",
    "\n",
    "cv_transform = cvect.transform(df[feat])  \n",
    "ctf_transform = ctf.transform(df[feat])  "
   ]
  },
  {
   "cell_type": "code",
   "execution_count": 30,
   "metadata": {},
   "outputs": [
    {
     "data": {
      "text/plain": [
       "<50000x10224 sparse matrix of type '<class 'numpy.int64'>'\n",
       "\twith 269320 stored elements in Compressed Sparse Row format>"
      ]
     },
     "execution_count": 30,
     "metadata": {},
     "output_type": "execute_result"
    }
   ],
   "source": [
    "cv_transform"
   ]
  },
  {
   "cell_type": "code",
   "execution_count": 31,
   "metadata": {},
   "outputs": [],
   "source": [
    "df['bags_of_words'] = list(cv_transform.toarray())"
   ]
  },
  {
   "cell_type": "code",
   "execution_count": 32,
   "metadata": {},
   "outputs": [
    {
     "data": {
      "text/html": [
       "<div>\n",
       "<style scoped>\n",
       "    .dataframe tbody tr th:only-of-type {\n",
       "        vertical-align: middle;\n",
       "    }\n",
       "\n",
       "    .dataframe tbody tr th {\n",
       "        vertical-align: top;\n",
       "    }\n",
       "\n",
       "    .dataframe thead th {\n",
       "        text-align: right;\n",
       "    }\n",
       "</style>\n",
       "<table border=\"1\" class=\"dataframe\">\n",
       "  <thead>\n",
       "    <tr style=\"text-align: right;\">\n",
       "      <th></th>\n",
       "      <th>Body</th>\n",
       "      <th>Title</th>\n",
       "      <th>Tags</th>\n",
       "      <th>text</th>\n",
       "      <th>bags_of_words</th>\n",
       "    </tr>\n",
       "    <tr>\n",
       "      <th>Id</th>\n",
       "      <th></th>\n",
       "      <th></th>\n",
       "      <th></th>\n",
       "      <th></th>\n",
       "      <th></th>\n",
       "    </tr>\n",
       "  </thead>\n",
       "  <tbody>\n",
       "    <tr>\n",
       "      <th>40101130</th>\n",
       "      <td>consider pd.series import panda import numpy n...</td>\n",
       "      <td>calculate rolling idxmax</td>\n",
       "      <td>&lt;python&gt;&lt;pandas&gt;&lt;numpy&gt;&lt;dataframe&gt;&lt;series&gt;</td>\n",
       "      <td>calculate rolling idxmax    consider pd.series...</td>\n",
       "      <td>[0, 0, 0, 0, 0, 0, 0, 0, 0, 0, 0, 0, 0, 0, 0, ...</td>\n",
       "    </tr>\n",
       "    <tr>\n",
       "      <th>662383</th>\n",
       "      <td>'ve using time substring str_col patindex str_...</td>\n",
       "      <td>better technique trimming leading zero sql server</td>\n",
       "      <td>&lt;sql&gt;&lt;sql-server&gt;&lt;sql-server-2005&gt;&lt;tsql&gt;&lt;string&gt;</td>\n",
       "      <td>better technique trimming leading zero sql ser...</td>\n",
       "      <td>[0, 0, 0, 0, 0, 0, 0, 0, 0, 0, 0, 0, 0, 0, 0, ...</td>\n",
       "    </tr>\n",
       "    <tr>\n",
       "      <th>662421</th>\n",
       "      <td>trying install java application linux machine ...</td>\n",
       "      <td>x11 display variable mean</td>\n",
       "      <td>&lt;java&gt;&lt;linux&gt;&lt;variables&gt;&lt;x11&gt;&lt;headless&gt;</td>\n",
       "      <td>x11 display variable mean    trying install ja...</td>\n",
       "      <td>[0, 0, 0, 0, 0, 0, 0, 0, 0, 0, 0, 0, 0, 0, 0, ...</td>\n",
       "    </tr>\n",
       "    <tr>\n",
       "      <th>3520133</th>\n",
       "      <td>library allows easily conveniently create obje...</td>\n",
       "      <td>object oriented callback</td>\n",
       "      <td>&lt;c++&gt;&lt;oop&gt;&lt;callback&gt;&lt;pointer-to-member&gt;&lt;eiffel&gt;</td>\n",
       "      <td>object oriented callback    library allows eas...</td>\n",
       "      <td>[0, 0, 0, 0, 0, 0, 0, 0, 0, 0, 0, 0, 0, 0, 0, ...</td>\n",
       "    </tr>\n",
       "    <tr>\n",
       "      <th>1396164</th>\n",
       "      <td>edit whole question unclear want use openssl.n...</td>\n",
       "      <td>why n't .net find openssl.net dll</td>\n",
       "      <td>&lt;c#&gt;&lt;.net&gt;&lt;dll&gt;&lt;dllimport&gt;&lt;dllnotfoundexception&gt;</td>\n",
       "      <td>why n't .net find openssl.net dll    edit whol...</td>\n",
       "      <td>[0, 0, 0, 0, 0, 0, 0, 0, 0, 0, 0, 0, 0, 0, 0, ...</td>\n",
       "    </tr>\n",
       "  </tbody>\n",
       "</table>\n",
       "</div>"
      ],
      "text/plain": [
       "                                                       Body  \\\n",
       "Id                                                            \n",
       "40101130  consider pd.series import panda import numpy n...   \n",
       "662383    've using time substring str_col patindex str_...   \n",
       "662421    trying install java application linux machine ...   \n",
       "3520133   library allows easily conveniently create obje...   \n",
       "1396164   edit whole question unclear want use openssl.n...   \n",
       "\n",
       "                                                      Title  \\\n",
       "Id                                                            \n",
       "40101130                           calculate rolling idxmax   \n",
       "662383    better technique trimming leading zero sql server   \n",
       "662421                            x11 display variable mean   \n",
       "3520133                            object oriented callback   \n",
       "1396164                   why n't .net find openssl.net dll   \n",
       "\n",
       "                                                      Tags  \\\n",
       "Id                                                           \n",
       "40101130        <python><pandas><numpy><dataframe><series>   \n",
       "662383    <sql><sql-server><sql-server-2005><tsql><string>   \n",
       "662421             <java><linux><variables><x11><headless>   \n",
       "3520133    <c++><oop><callback><pointer-to-member><eiffel>   \n",
       "1396164   <c#><.net><dll><dllimport><dllnotfoundexception>   \n",
       "\n",
       "                                                       text  \\\n",
       "Id                                                            \n",
       "40101130  calculate rolling idxmax    consider pd.series...   \n",
       "662383    better technique trimming leading zero sql ser...   \n",
       "662421    x11 display variable mean    trying install ja...   \n",
       "3520133   object oriented callback    library allows eas...   \n",
       "1396164   why n't .net find openssl.net dll    edit whol...   \n",
       "\n",
       "                                              bags_of_words  \n",
       "Id                                                           \n",
       "40101130  [0, 0, 0, 0, 0, 0, 0, 0, 0, 0, 0, 0, 0, 0, 0, ...  \n",
       "662383    [0, 0, 0, 0, 0, 0, 0, 0, 0, 0, 0, 0, 0, 0, 0, ...  \n",
       "662421    [0, 0, 0, 0, 0, 0, 0, 0, 0, 0, 0, 0, 0, 0, 0, ...  \n",
       "3520133   [0, 0, 0, 0, 0, 0, 0, 0, 0, 0, 0, 0, 0, 0, 0, ...  \n",
       "1396164   [0, 0, 0, 0, 0, 0, 0, 0, 0, 0, 0, 0, 0, 0, 0, ...  "
      ]
     },
     "execution_count": 32,
     "metadata": {},
     "output_type": "execute_result"
    }
   ],
   "source": [
    "df.head()"
   ]
  },
  {
   "cell_type": "code",
   "execution_count": 33,
   "metadata": {},
   "outputs": [
    {
     "data": {
      "text/plain": [
       "Id\n",
       "41722765    spring data mongodb sort multiple field\n",
       "Name: Title, dtype: object"
      ]
     },
     "execution_count": 33,
     "metadata": {},
     "output_type": "execute_result"
    }
   ],
   "source": [
    "df.Title.sample()"
   ]
  },
  {
   "cell_type": "code",
   "execution_count": 34,
   "metadata": {},
   "outputs": [
    {
     "data": {
      "text/plain": [
       "6988"
      ]
     },
     "execution_count": 34,
     "metadata": {},
     "output_type": "execute_result"
    }
   ],
   "source": [
    "cv_fit.vocabulary_.get('python')"
   ]
  },
  {
   "cell_type": "code",
   "execution_count": null,
   "metadata": {},
   "outputs": [],
   "source": []
  },
  {
   "cell_type": "code",
   "execution_count": 35,
   "metadata": {},
   "outputs": [],
   "source": [
    "#find the most common words\n",
    "def get_top_n_words(corpus, n=None):\n",
    "      vec = CountVectorizer().fit(corpus)\n",
    "      bag_of_words = vec.transform(corpus)\n",
    "      sum_words = bag_of_words.sum(axis=0) \n",
    "      words_freq = [(word, sum_words[0, idx]) for word, idx in vec.vocabulary_.items()]\n",
    "      words_freq =sorted(words_freq, key = lambda x: x[1], reverse=True)\n",
    "      return words_freq[:n]"
   ]
  },
  {
   "cell_type": "code",
   "execution_count": 36,
   "metadata": {},
   "outputs": [],
   "source": [
    "#find the less common words\n",
    "def get_bottom_n_words(corpus, n=None):\n",
    "      vec = CountVectorizer().fit(corpus)\n",
    "      bag_of_words = vec.transform(corpus)\n",
    "      sum_words = bag_of_words.sum(axis=0)\n",
    "      #get the words that appear less nthan n times\n",
    "      words_freq = [(word, sum_words[0, idx]) for word, idx in vec.vocabulary_.items() if sum_words[0, idx] <= n]\n",
    "      words_freq =sorted(words_freq, key = lambda x: x[1], reverse=True)\n",
    "      return words_freq"
   ]
  },
  {
   "cell_type": "code",
   "execution_count": 37,
   "metadata": {},
   "outputs": [
    {
     "data": {
      "text/plain": [
       "[('how', 10144),\n",
       " ('using', 3853),\n",
       " ('file', 2573),\n",
       " ('use', 1915),\n",
       " ('error', 1854),\n",
       " ('net', 1829),\n",
       " ('what', 1793),\n",
       " ('android', 1717),\n",
       " ('python', 1595),\n",
       " ('java', 1594)]"
      ]
     },
     "execution_count": 37,
     "metadata": {},
     "output_type": "execute_result"
    }
   ],
   "source": [
    "get_top_n_words(df.Title, 10)"
   ]
  },
  {
   "cell_type": "code",
   "execution_count": null,
   "metadata": {},
   "outputs": [],
   "source": []
  },
  {
   "cell_type": "code",
   "execution_count": 38,
   "metadata": {},
   "outputs": [
    {
     "data": {
      "text/html": [
       "<div>\n",
       "<style scoped>\n",
       "    .dataframe tbody tr th:only-of-type {\n",
       "        vertical-align: middle;\n",
       "    }\n",
       "\n",
       "    .dataframe tbody tr th {\n",
       "        vertical-align: top;\n",
       "    }\n",
       "\n",
       "    .dataframe thead th {\n",
       "        text-align: right;\n",
       "    }\n",
       "</style>\n",
       "<table border=\"1\" class=\"dataframe\">\n",
       "  <thead>\n",
       "    <tr style=\"text-align: right;\">\n",
       "      <th></th>\n",
       "      <th>Body</th>\n",
       "      <th>Title</th>\n",
       "      <th>Tags</th>\n",
       "      <th>text</th>\n",
       "      <th>bags_of_words</th>\n",
       "    </tr>\n",
       "    <tr>\n",
       "      <th>Id</th>\n",
       "      <th></th>\n",
       "      <th></th>\n",
       "      <th></th>\n",
       "      <th></th>\n",
       "      <th></th>\n",
       "    </tr>\n",
       "  </thead>\n",
       "  <tbody>\n",
       "    <tr>\n",
       "      <th>40101130</th>\n",
       "      <td>consider pd.series import panda import numpy n...</td>\n",
       "      <td>calculate rolling idxmax</td>\n",
       "      <td>&lt;python&gt;&lt;pandas&gt;&lt;numpy&gt;&lt;dataframe&gt;&lt;series&gt;</td>\n",
       "      <td>calculate rolling idxmax    consider pd.series...</td>\n",
       "      <td>[0, 0, 0, 0, 0, 0, 0, 0, 0, 0, 0, 0, 0, 0, 0, ...</td>\n",
       "    </tr>\n",
       "    <tr>\n",
       "      <th>662383</th>\n",
       "      <td>'ve using time substring str_col patindex str_...</td>\n",
       "      <td>better technique trimming leading zero sql server</td>\n",
       "      <td>&lt;sql&gt;&lt;sql-server&gt;&lt;sql-server-2005&gt;&lt;tsql&gt;&lt;string&gt;</td>\n",
       "      <td>better technique trimming leading zero sql ser...</td>\n",
       "      <td>[0, 0, 0, 0, 0, 0, 0, 0, 0, 0, 0, 0, 0, 0, 0, ...</td>\n",
       "    </tr>\n",
       "    <tr>\n",
       "      <th>662421</th>\n",
       "      <td>trying install java application linux machine ...</td>\n",
       "      <td>x11 display variable mean</td>\n",
       "      <td>&lt;java&gt;&lt;linux&gt;&lt;variables&gt;&lt;x11&gt;&lt;headless&gt;</td>\n",
       "      <td>x11 display variable mean    trying install ja...</td>\n",
       "      <td>[0, 0, 0, 0, 0, 0, 0, 0, 0, 0, 0, 0, 0, 0, 0, ...</td>\n",
       "    </tr>\n",
       "    <tr>\n",
       "      <th>3520133</th>\n",
       "      <td>library allows easily conveniently create obje...</td>\n",
       "      <td>object oriented callback</td>\n",
       "      <td>&lt;c++&gt;&lt;oop&gt;&lt;callback&gt;&lt;pointer-to-member&gt;&lt;eiffel&gt;</td>\n",
       "      <td>object oriented callback    library allows eas...</td>\n",
       "      <td>[0, 0, 0, 0, 0, 0, 0, 0, 0, 0, 0, 0, 0, 0, 0, ...</td>\n",
       "    </tr>\n",
       "    <tr>\n",
       "      <th>1396164</th>\n",
       "      <td>edit whole question unclear want use openssl.n...</td>\n",
       "      <td>why n't .net find openssl.net dll</td>\n",
       "      <td>&lt;c#&gt;&lt;.net&gt;&lt;dll&gt;&lt;dllimport&gt;&lt;dllnotfoundexception&gt;</td>\n",
       "      <td>why n't .net find openssl.net dll    edit whol...</td>\n",
       "      <td>[0, 0, 0, 0, 0, 0, 0, 0, 0, 0, 0, 0, 0, 0, 0, ...</td>\n",
       "    </tr>\n",
       "  </tbody>\n",
       "</table>\n",
       "</div>"
      ],
      "text/plain": [
       "                                                       Body  \\\n",
       "Id                                                            \n",
       "40101130  consider pd.series import panda import numpy n...   \n",
       "662383    've using time substring str_col patindex str_...   \n",
       "662421    trying install java application linux machine ...   \n",
       "3520133   library allows easily conveniently create obje...   \n",
       "1396164   edit whole question unclear want use openssl.n...   \n",
       "\n",
       "                                                      Title  \\\n",
       "Id                                                            \n",
       "40101130                           calculate rolling idxmax   \n",
       "662383    better technique trimming leading zero sql server   \n",
       "662421                            x11 display variable mean   \n",
       "3520133                            object oriented callback   \n",
       "1396164                   why n't .net find openssl.net dll   \n",
       "\n",
       "                                                      Tags  \\\n",
       "Id                                                           \n",
       "40101130        <python><pandas><numpy><dataframe><series>   \n",
       "662383    <sql><sql-server><sql-server-2005><tsql><string>   \n",
       "662421             <java><linux><variables><x11><headless>   \n",
       "3520133    <c++><oop><callback><pointer-to-member><eiffel>   \n",
       "1396164   <c#><.net><dll><dllimport><dllnotfoundexception>   \n",
       "\n",
       "                                                       text  \\\n",
       "Id                                                            \n",
       "40101130  calculate rolling idxmax    consider pd.series...   \n",
       "662383    better technique trimming leading zero sql ser...   \n",
       "662421    x11 display variable mean    trying install ja...   \n",
       "3520133   object oriented callback    library allows eas...   \n",
       "1396164   why n't .net find openssl.net dll    edit whol...   \n",
       "\n",
       "                                              bags_of_words  \n",
       "Id                                                           \n",
       "40101130  [0, 0, 0, 0, 0, 0, 0, 0, 0, 0, 0, 0, 0, 0, 0, ...  \n",
       "662383    [0, 0, 0, 0, 0, 0, 0, 0, 0, 0, 0, 0, 0, 0, 0, ...  \n",
       "662421    [0, 0, 0, 0, 0, 0, 0, 0, 0, 0, 0, 0, 0, 0, 0, ...  \n",
       "3520133   [0, 0, 0, 0, 0, 0, 0, 0, 0, 0, 0, 0, 0, 0, 0, ...  \n",
       "1396164   [0, 0, 0, 0, 0, 0, 0, 0, 0, 0, 0, 0, 0, 0, 0, ...  "
      ]
     },
     "execution_count": 38,
     "metadata": {},
     "output_type": "execute_result"
    }
   ],
   "source": [
    "df.head()"
   ]
  },
  {
   "cell_type": "code",
   "execution_count": null,
   "metadata": {},
   "outputs": [],
   "source": []
  },
  {
   "cell_type": "code",
   "execution_count": 39,
   "metadata": {},
   "outputs": [],
   "source": [
    "df['Tags'] = df['Tags'].apply(lambda i : i.split('><'))\n",
    "\n",
    "df['Tags'] = df['Tags'].apply(lambda i : [x.replace('<', '').replace('>', '') for x in i])"
   ]
  },
  {
   "cell_type": "code",
   "execution_count": 40,
   "metadata": {},
   "outputs": [
    {
     "name": "stdout",
     "output_type": "stream",
     "text": [
      "<class 'pandas.core.frame.DataFrame'>\n",
      "Int64Index: 50000 entries, 40101130 to 53180854\n",
      "Data columns (total 5 columns):\n",
      " #   Column         Non-Null Count  Dtype \n",
      "---  ------         --------------  ----- \n",
      " 0   Body           50000 non-null  object\n",
      " 1   Title          50000 non-null  object\n",
      " 2   Tags           50000 non-null  object\n",
      " 3   text           50000 non-null  object\n",
      " 4   bags_of_words  50000 non-null  object\n",
      "dtypes: object(5)\n",
      "memory usage: 2.3+ MB\n"
     ]
    }
   ],
   "source": [
    "df.info()"
   ]
  },
  {
   "cell_type": "code",
   "execution_count": 41,
   "metadata": {},
   "outputs": [
    {
     "data": {
      "text/html": [
       "<div>\n",
       "<style scoped>\n",
       "    .dataframe tbody tr th:only-of-type {\n",
       "        vertical-align: middle;\n",
       "    }\n",
       "\n",
       "    .dataframe tbody tr th {\n",
       "        vertical-align: top;\n",
       "    }\n",
       "\n",
       "    .dataframe thead th {\n",
       "        text-align: right;\n",
       "    }\n",
       "</style>\n",
       "<table border=\"1\" class=\"dataframe\">\n",
       "  <thead>\n",
       "    <tr style=\"text-align: right;\">\n",
       "      <th></th>\n",
       "      <th>Body</th>\n",
       "      <th>Title</th>\n",
       "      <th>Tags</th>\n",
       "      <th>text</th>\n",
       "      <th>bags_of_words</th>\n",
       "    </tr>\n",
       "    <tr>\n",
       "      <th>Id</th>\n",
       "      <th></th>\n",
       "      <th></th>\n",
       "      <th></th>\n",
       "      <th></th>\n",
       "      <th></th>\n",
       "    </tr>\n",
       "  </thead>\n",
       "  <tbody>\n",
       "    <tr>\n",
       "      <th>40101130</th>\n",
       "      <td>consider pd.series import panda import numpy n...</td>\n",
       "      <td>calculate rolling idxmax</td>\n",
       "      <td>[python, pandas, numpy, dataframe, series]</td>\n",
       "      <td>calculate rolling idxmax    consider pd.series...</td>\n",
       "      <td>[0, 0, 0, 0, 0, 0, 0, 0, 0, 0, 0, 0, 0, 0, 0, ...</td>\n",
       "    </tr>\n",
       "    <tr>\n",
       "      <th>662383</th>\n",
       "      <td>'ve using time substring str_col patindex str_...</td>\n",
       "      <td>better technique trimming leading zero sql server</td>\n",
       "      <td>[sql, sql-server, sql-server-2005, tsql, string]</td>\n",
       "      <td>better technique trimming leading zero sql ser...</td>\n",
       "      <td>[0, 0, 0, 0, 0, 0, 0, 0, 0, 0, 0, 0, 0, 0, 0, ...</td>\n",
       "    </tr>\n",
       "    <tr>\n",
       "      <th>662421</th>\n",
       "      <td>trying install java application linux machine ...</td>\n",
       "      <td>x11 display variable mean</td>\n",
       "      <td>[java, linux, variables, x11, headless]</td>\n",
       "      <td>x11 display variable mean    trying install ja...</td>\n",
       "      <td>[0, 0, 0, 0, 0, 0, 0, 0, 0, 0, 0, 0, 0, 0, 0, ...</td>\n",
       "    </tr>\n",
       "    <tr>\n",
       "      <th>3520133</th>\n",
       "      <td>library allows easily conveniently create obje...</td>\n",
       "      <td>object oriented callback</td>\n",
       "      <td>[c++, oop, callback, pointer-to-member, eiffel]</td>\n",
       "      <td>object oriented callback    library allows eas...</td>\n",
       "      <td>[0, 0, 0, 0, 0, 0, 0, 0, 0, 0, 0, 0, 0, 0, 0, ...</td>\n",
       "    </tr>\n",
       "    <tr>\n",
       "      <th>1396164</th>\n",
       "      <td>edit whole question unclear want use openssl.n...</td>\n",
       "      <td>why n't .net find openssl.net dll</td>\n",
       "      <td>[c#, .net, dll, dllimport, dllnotfoundexception]</td>\n",
       "      <td>why n't .net find openssl.net dll    edit whol...</td>\n",
       "      <td>[0, 0, 0, 0, 0, 0, 0, 0, 0, 0, 0, 0, 0, 0, 0, ...</td>\n",
       "    </tr>\n",
       "    <tr>\n",
       "      <th>...</th>\n",
       "      <td>...</td>\n",
       "      <td>...</td>\n",
       "      <td>...</td>\n",
       "      <td>...</td>\n",
       "      <td>...</td>\n",
       "    </tr>\n",
       "    <tr>\n",
       "      <th>3915827</th>\n",
       "      <td>cil code ldftn used get function pointer addre...</td>\n",
       "      <td>get 'ldftn function pointer</td>\n",
       "      <td>[c#, .net, clr, function-pointers, cil]</td>\n",
       "      <td>get 'ldftn function pointer    cil code ldftn ...</td>\n",
       "      <td>[0, 0, 0, 0, 0, 0, 0, 0, 0, 0, 0, 0, 0, 0, 0, ...</td>\n",
       "    </tr>\n",
       "    <tr>\n",
       "      <th>71419635</th>\n",
       "      <td>used following step integrating pip picture pi...</td>\n",
       "      <td>how add picture picture pip webrtc video call ...</td>\n",
       "      <td>[ios, swift, webrtc, ios15, videocall]</td>\n",
       "      <td>how add picture picture pip webrtc video call ...</td>\n",
       "      <td>[0, 0, 0, 0, 0, 0, 0, 0, 0, 0, 0, 0, 0, 0, 0, ...</td>\n",
       "    </tr>\n",
       "    <tr>\n",
       "      <th>22050813</th>\n",
       "      <td>get warning logcat developing caused app 16699...</td>\n",
       "      <td>warning caused app implicit intent startservic...</td>\n",
       "      <td>[android, android-intent, warnings, logcat, an...</td>\n",
       "      <td>warning caused app implicit intent startservic...</td>\n",
       "      <td>[0, 0, 0, 0, 0, 0, 0, 0, 0, 0, 0, 0, 0, 0, 0, ...</td>\n",
       "    </tr>\n",
       "    <tr>\n",
       "      <th>53180817</th>\n",
       "      <td>want able update object still created for exam...</td>\n",
       "      <td>apollo client making optimistic update creatio...</td>\n",
       "      <td>[graphql, apollo, react-apollo, apollo-client,...</td>\n",
       "      <td>apollo client making optimistic update creatio...</td>\n",
       "      <td>[0, 0, 0, 0, 0, 0, 0, 0, 0, 0, 0, 0, 0, 0, 0, ...</td>\n",
       "    </tr>\n",
       "    <tr>\n",
       "      <th>53180854</th>\n",
       "      <td>way separate websocket server work alongside s...</td>\n",
       "      <td>socket.io invalid frame header error independe...</td>\n",
       "      <td>[node.js, websocket, socket.io, apollo-server,...</td>\n",
       "      <td>socket.io invalid frame header error independe...</td>\n",
       "      <td>[0, 0, 0, 0, 0, 0, 0, 0, 0, 0, 0, 0, 0, 0, 0, ...</td>\n",
       "    </tr>\n",
       "  </tbody>\n",
       "</table>\n",
       "<p>50000 rows × 5 columns</p>\n",
       "</div>"
      ],
      "text/plain": [
       "                                                       Body  \\\n",
       "Id                                                            \n",
       "40101130  consider pd.series import panda import numpy n...   \n",
       "662383    've using time substring str_col patindex str_...   \n",
       "662421    trying install java application linux machine ...   \n",
       "3520133   library allows easily conveniently create obje...   \n",
       "1396164   edit whole question unclear want use openssl.n...   \n",
       "...                                                     ...   \n",
       "3915827   cil code ldftn used get function pointer addre...   \n",
       "71419635  used following step integrating pip picture pi...   \n",
       "22050813  get warning logcat developing caused app 16699...   \n",
       "53180817  want able update object still created for exam...   \n",
       "53180854  way separate websocket server work alongside s...   \n",
       "\n",
       "                                                      Title  \\\n",
       "Id                                                            \n",
       "40101130                           calculate rolling idxmax   \n",
       "662383    better technique trimming leading zero sql server   \n",
       "662421                            x11 display variable mean   \n",
       "3520133                            object oriented callback   \n",
       "1396164                   why n't .net find openssl.net dll   \n",
       "...                                                     ...   \n",
       "3915827                         get 'ldftn function pointer   \n",
       "71419635  how add picture picture pip webrtc video call ...   \n",
       "22050813  warning caused app implicit intent startservic...   \n",
       "53180817  apollo client making optimistic update creatio...   \n",
       "53180854  socket.io invalid frame header error independe...   \n",
       "\n",
       "                                                       Tags  \\\n",
       "Id                                                            \n",
       "40101130         [python, pandas, numpy, dataframe, series]   \n",
       "662383     [sql, sql-server, sql-server-2005, tsql, string]   \n",
       "662421              [java, linux, variables, x11, headless]   \n",
       "3520133     [c++, oop, callback, pointer-to-member, eiffel]   \n",
       "1396164    [c#, .net, dll, dllimport, dllnotfoundexception]   \n",
       "...                                                     ...   \n",
       "3915827             [c#, .net, clr, function-pointers, cil]   \n",
       "71419635             [ios, swift, webrtc, ios15, videocall]   \n",
       "22050813  [android, android-intent, warnings, logcat, an...   \n",
       "53180817  [graphql, apollo, react-apollo, apollo-client,...   \n",
       "53180854  [node.js, websocket, socket.io, apollo-server,...   \n",
       "\n",
       "                                                       text  \\\n",
       "Id                                                            \n",
       "40101130  calculate rolling idxmax    consider pd.series...   \n",
       "662383    better technique trimming leading zero sql ser...   \n",
       "662421    x11 display variable mean    trying install ja...   \n",
       "3520133   object oriented callback    library allows eas...   \n",
       "1396164   why n't .net find openssl.net dll    edit whol...   \n",
       "...                                                     ...   \n",
       "3915827   get 'ldftn function pointer    cil code ldftn ...   \n",
       "71419635  how add picture picture pip webrtc video call ...   \n",
       "22050813  warning caused app implicit intent startservic...   \n",
       "53180817  apollo client making optimistic update creatio...   \n",
       "53180854  socket.io invalid frame header error independe...   \n",
       "\n",
       "                                              bags_of_words  \n",
       "Id                                                           \n",
       "40101130  [0, 0, 0, 0, 0, 0, 0, 0, 0, 0, 0, 0, 0, 0, 0, ...  \n",
       "662383    [0, 0, 0, 0, 0, 0, 0, 0, 0, 0, 0, 0, 0, 0, 0, ...  \n",
       "662421    [0, 0, 0, 0, 0, 0, 0, 0, 0, 0, 0, 0, 0, 0, 0, ...  \n",
       "3520133   [0, 0, 0, 0, 0, 0, 0, 0, 0, 0, 0, 0, 0, 0, 0, ...  \n",
       "1396164   [0, 0, 0, 0, 0, 0, 0, 0, 0, 0, 0, 0, 0, 0, 0, ...  \n",
       "...                                                     ...  \n",
       "3915827   [0, 0, 0, 0, 0, 0, 0, 0, 0, 0, 0, 0, 0, 0, 0, ...  \n",
       "71419635  [0, 0, 0, 0, 0, 0, 0, 0, 0, 0, 0, 0, 0, 0, 0, ...  \n",
       "22050813  [0, 0, 0, 0, 0, 0, 0, 0, 0, 0, 0, 0, 0, 0, 0, ...  \n",
       "53180817  [0, 0, 0, 0, 0, 0, 0, 0, 0, 0, 0, 0, 0, 0, 0, ...  \n",
       "53180854  [0, 0, 0, 0, 0, 0, 0, 0, 0, 0, 0, 0, 0, 0, 0, ...  \n",
       "\n",
       "[50000 rows x 5 columns]"
      ]
     },
     "execution_count": 41,
     "metadata": {},
     "output_type": "execute_result"
    }
   ],
   "source": [
    "df"
   ]
  },
  {
   "cell_type": "code",
   "execution_count": 42,
   "metadata": {},
   "outputs": [],
   "source": [
    "#Multioutput classifier for tags\n",
    "\n",
    "from sklearn.preprocessing import MultiLabelBinarizer\n",
    "\n",
    "mlb = MultiLabelBinarizer()\n",
    "\n",
    "y = mlb.fit_transform(df['Tags'])\n",
    "\n",
    "Y = pd.DataFrame(y, columns=mlb.classes_)"
   ]
  },
  {
   "cell_type": "code",
   "execution_count": 43,
   "metadata": {},
   "outputs": [
    {
     "data": {
      "text/plain": [
       "(50000, 18315)"
      ]
     },
     "execution_count": 43,
     "metadata": {},
     "output_type": "execute_result"
    }
   ],
   "source": [
    "Y.shape"
   ]
  },
  {
   "cell_type": "code",
   "execution_count": 44,
   "metadata": {},
   "outputs": [
    {
     "data": {
      "text/plain": [
       ".a                       1\n",
       "method-declaration       1\n",
       "method-invocation        1\n",
       "method-names             1\n",
       "method-swizzling         1\n",
       "                      ... \n",
       "c++                   3868\n",
       "python                4699\n",
       "javascript            4876\n",
       "java                  5846\n",
       "c#                    6464\n",
       "Length: 18315, dtype: int64"
      ]
     },
     "execution_count": 44,
     "metadata": {},
     "output_type": "execute_result"
    }
   ],
   "source": [
    "Y.sum().sort_values()"
   ]
  },
  {
   "cell_type": "code",
   "execution_count": 45,
   "metadata": {},
   "outputs": [],
   "source": [
    "#Split the data into train and test\n",
    "from sklearn.model_selection import train_test_split\n",
    "\n",
    "X_train, X_test, y_train, y_test = train_test_split(df['Title'], df['Tags'], test_size=0.2, random_state=42)"
   ]
  },
  {
   "cell_type": "code",
   "execution_count": 46,
   "metadata": {},
   "outputs": [
    {
     "name": "stderr",
     "output_type": "stream",
     "text": [
      "2023-04-12 09:54:07.576243: I tensorflow/core/util/port.cc:110] oneDNN custom operations are on. You may see slightly different numerical results due to floating-point round-off errors from different computation orders. To turn them off, set the environment variable `TF_ENABLE_ONEDNN_OPTS=0`.\n",
      "2023-04-12 09:54:07.690770: I tensorflow/core/platform/cpu_feature_guard.cc:182] This TensorFlow binary is optimized to use available CPU instructions in performance-critical operations.\n",
      "To enable the following instructions: AVX2 AVX_VNNI FMA, in other operations, rebuild TensorFlow with the appropriate compiler flags.\n",
      "2023-04-12 09:54:08.155376: W tensorflow/compiler/tf2tensorrt/utils/py_utils.cc:38] TF-TRT Warning: Could not find TensorRT\n",
      "2023-04-12 09:54:08.470411: I tensorflow/compiler/xla/stream_executor/cuda/cuda_gpu_executor.cc:996] successful NUMA node read from SysFS had negative value (-1), but there must be at least one NUMA node, so returning NUMA node zero. See more at https://github.com/torvalds/linux/blob/v6.0/Documentation/ABI/testing/sysfs-bus-pci#L344-L355\n",
      "2023-04-12 09:54:08.543074: I tensorflow/compiler/xla/stream_executor/cuda/cuda_gpu_executor.cc:996] successful NUMA node read from SysFS had negative value (-1), but there must be at least one NUMA node, so returning NUMA node zero. See more at https://github.com/torvalds/linux/blob/v6.0/Documentation/ABI/testing/sysfs-bus-pci#L344-L355\n",
      "2023-04-12 09:54:08.543161: I tensorflow/compiler/xla/stream_executor/cuda/cuda_gpu_executor.cc:996] successful NUMA node read from SysFS had negative value (-1), but there must be at least one NUMA node, so returning NUMA node zero. See more at https://github.com/torvalds/linux/blob/v6.0/Documentation/ABI/testing/sysfs-bus-pci#L344-L355\n"
     ]
    }
   ],
   "source": [
    "#Gensim\n",
    "import gensim\n",
    "import gensim.corpora as corpora\n",
    "from gensim.utils import simple_preprocess\n",
    "from gensim.models import CoherenceModel\n",
    "\n",
    "import glob\n",
    "\n",
    "\n",
    "#spacy\n",
    "import spacy\n",
    "from nltk.corpus import stopwords\n",
    "\n",
    "#vis\n",
    "import pyLDAvis\n",
    "import pyLDAvis.gensim"
   ]
  },
  {
   "cell_type": "code",
   "execution_count": null,
   "metadata": {},
   "outputs": [],
   "source": []
  },
  {
   "cell_type": "code",
   "execution_count": 47,
   "metadata": {},
   "outputs": [
    {
     "name": "stdout",
     "output_type": "stream",
     "text": [
      "calculate rolling idxmax\n"
     ]
    }
   ],
   "source": [
    "def lemmatization(texts, allowed_postags=[\"NOUN\", \"ADJ\", \"VERB\", \"ADV\"]):\n",
    "    nlp = spacy.load(\"en_core_web_sm\", disable=[\"parser\", \"ner\"])\n",
    "    texts_out = []\n",
    "    for text in texts:\n",
    "        doc = nlp(text)\n",
    "        new_text = []\n",
    "        for token in doc:\n",
    "            if token.pos_ in allowed_postags:\n",
    "                new_text.append(token.lemma_)\n",
    "        final = \" \".join(new_text)\n",
    "        texts_out.append(final)\n",
    "    return (texts_out)\n",
    "\n",
    "\n",
    "lemmatized_titles = lemmatization(data.Title)\n",
    "print (lemmatized_titles[0][0:90])"
   ]
  },
  {
   "cell_type": "code",
   "execution_count": 48,
   "metadata": {},
   "outputs": [
    {
     "name": "stdout",
     "output_type": "stream",
     "text": [
      "[['calculate', 'rolling', 'idxmax'], ['well', 'technique', 'trim', 'lead', 'zero'], ['display', 'variable', 'mean'], ['object', 'orient'], ['net', 'find']]\n"
     ]
    }
   ],
   "source": [
    "def gen_words(texts):\n",
    "    final = []\n",
    "    for text in texts:\n",
    "        new = gensim.utils.simple_preprocess(text, deacc=True)\n",
    "        final.append(new)\n",
    "    return (final)\n",
    "\n",
    "data_words_titles = gen_words(lemmatized_titles)\n",
    "\n",
    "print (data_words_titles[0:5])"
   ]
  },
  {
   "cell_type": "code",
   "execution_count": null,
   "metadata": {},
   "outputs": [],
   "source": []
  },
  {
   "cell_type": "code",
   "execution_count": 49,
   "metadata": {},
   "outputs": [
    {
     "name": "stdout",
     "output_type": "stream",
     "text": [
      "[(0, 1), (1, 1), (2, 1)]\n",
      "calculate\n"
     ]
    }
   ],
   "source": [
    "id2word = corpora.Dictionary(data_words_titles)\n",
    "\n",
    "corpus = []\n",
    "for text in data_words_titles:\n",
    "    new = id2word.doc2bow(text)\n",
    "    corpus.append(new)\n",
    "\n",
    "print (corpus[0][0:20])\n",
    "\n",
    "word = id2word[[0][:1][0]]\n",
    "print (word)"
   ]
  },
  {
   "cell_type": "code",
   "execution_count": 50,
   "metadata": {},
   "outputs": [],
   "source": [
    "lda_model = gensim.models.ldamodel.LdaModel(corpus=corpus,\n",
    "                                           id2word=id2word,\n",
    "                                           num_topics=30,\n",
    "                                           random_state=100,\n",
    "                                           update_every=1,\n",
    "                                           chunksize=100,\n",
    "                                           passes=10,\n",
    "                                           alpha=\"auto\")"
   ]
  },
  {
   "cell_type": "code",
   "execution_count": null,
   "metadata": {},
   "outputs": [],
   "source": []
  },
  {
   "cell_type": "code",
   "execution_count": 51,
   "metadata": {},
   "outputs": [
    {
     "data": {
      "text/html": [
       "\n",
       "<link rel=\"stylesheet\" type=\"text/css\" href=\"https://cdn.jsdelivr.net/gh/bmabey/pyLDAvis@3.4.0/pyLDAvis/js/ldavis.v1.0.0.css\">\n",
       "\n",
       "\n",
       "<div id=\"ldavis_el7099140661020423024446338871\" style=\"background-color:white;\"></div>\n",
       "<script type=\"text/javascript\">\n",
       "\n",
       "var ldavis_el7099140661020423024446338871_data = {\"mdsDat\": {\"x\": [-0.4969636651522271, 0.19330240507420096, 0.42158123343758813, 0.2864175499813154, 0.43225760052380724, -0.010982024568540664, -0.1734002513810471, 0.44739425890231344, -0.3978919042107897, -0.4421650588256711, -0.32056843644698896, -0.1407335744236186, -0.2641861196739516, 0.41832544154846324, 0.05015546494446385, 0.27393135472700325, 0.19133220874180512, -0.3168453688580252, -0.272622204075569, 0.06403219394635767, 0.17529634444305242, -0.1459285530713282, -0.0795652732879502, 0.027024687876150442, 0.15404482575183653, -0.08756239908280748, 0.031746987682271105, -0.005812543762034725, -0.005806086715529829, -0.0058090940445489235], \"y\": [0.1433628672311917, -0.4702416496153318, 0.24696320454257262, 0.3892687476424623, -0.21724895157187954, -0.45953342448700607, 0.44145969779187505, 0.08254377104011433, -0.24650283224158298, -0.059204124556347326, 0.32293741289535205, -0.39293824785299797, -0.33831269115177903, -0.04879191018737714, 0.44909215255605067, -0.19295109315680645, -0.30750695880614864, 0.12545010261688805, -0.12060590271175263, 0.3111980596230418, 0.19879371415167815, 0.1428546188300336, 0.24397251545353546, -0.21711313009801517, 0.04470826065687547, -0.07689342588126567, -0.038852403921102424, 0.014696379972539997, 0.01469788398873256, 0.014697357246450026], \"topics\": [1, 2, 3, 4, 5, 6, 7, 8, 9, 10, 11, 12, 13, 14, 15, 16, 17, 18, 19, 20, 21, 22, 23, 24, 25, 26, 27, 28, 29, 30], \"cluster\": [1, 1, 1, 1, 1, 1, 1, 1, 1, 1, 1, 1, 1, 1, 1, 1, 1, 1, 1, 1, 1, 1, 1, 1, 1, 1, 1, 1, 1, 1], \"Freq\": [8.984495184978096, 8.316802578193341, 7.256978411737555, 5.90788291173703, 5.534516235200501, 5.4252564054181995, 5.348026997162178, 4.905409211359178, 4.767163872327249, 4.466361482201136, 4.262986397400803, 3.913902424397908, 3.875175999596961, 3.6759191105215514, 3.4408081597644498, 2.9975999047488355, 2.7032421778915303, 2.4566518288620918, 2.3020945866282934, 1.9501548414210517, 1.6100477836629232, 1.456596318387598, 1.3561691134677578, 1.222028138977227, 0.8003577663430508, 0.4628944105503913, 0.29529209955228336, 0.10205168791809795, 0.10156697979636585, 0.10156697979636585]}, \"tinfo\": {\"Term\": [\"use\", \"file\", \"error\", \"get\", \"work\", \"object\", \"create\", \"type\", \"find\", \"way\", \"set\", \"value\", \"function\", \"run\", \"method\", \"application\", \"change\", \"class\", \"string\", \"add\", \"datum\", \"call\", \"app\", \"image\", \"test\", \"code\", \"load\", \"api\", \"list\", \"database\", \"use\", \"section\", \"request\", \"multiple\", \"make\", \"array\", \"idxmax\", \"rolling\", \"technique\", \"trim\", \"zero\", \"orient\", \"iterate\", \"parse\", \"inherit\", \"expat\", \"libxml\", \"implication\", \"figure\", \"micro\", \"innodb\", \"diagnostic\", \"deprecation\", \"drawatpoint\", \"forwidth\", \"linebreakmode\", \"minfontsize\", \"withfont\", \"autosize\", \"databind\", \"calculate\", \"lead\", \"well\", \"display\", \"mean\", \"variable\", \"object\", \"find\", \"net\", \"class\", \"constructor\", \"default\", \"server\", \"add\", \"app\", \"test\", \"code\", \"text\", \"unit\", \"try\", \"loop\", \"mock\", \"copy\", \"retrieve\", \"option\", \"icon\", \"login\", \"abstract\", \"customize\", \"ios\", \"fail\", \"multiple\", \"idxmax\", \"rolling\", \"technique\", \"trim\", \"zero\", \"orient\", \"iterate\", \"parse\", \"inherit\", \"expat\", \"libxml\", \"calculate\", \"lead\", \"well\", \"display\", \"mean\", \"variable\", \"file\", \"project\", \"build\", \"only\", \"detect\", \"angular\", \"large\", \"host\", \"port\", \"protocol\", \"upload\", \"version\", \"fail\", \"multiple\", \"make\", \"idxmax\", \"rolling\", \"technique\", \"trim\", \"zero\", \"orient\", \"iterate\", \"parse\", \"inherit\", \"expat\", \"libxml\", \"implication\", \"figure\", \"micro\", \"innodb\", \"calculate\", \"lead\", \"well\", \"display\", \"mean\", \"variable\", \"object\", \"find\", \"net\", \"image\", \"list\", \"custom\", \"service\", \"color\", \"background\", \"properly\", \"notification\", \"usage\", \"internal\", \"chart\", \"know\", \"setup\", \"architecture\", \"restful\", \"resize\", \"documentation\", \"make\", \"idxmax\", \"rolling\", \"technique\", \"trim\", \"zero\", \"orient\", \"iterate\", \"parse\", \"inherit\", \"expat\", \"libxml\", \"implication\", \"calculate\", \"lead\", \"well\", \"display\", \"mean\", \"variable\", \"object\", \"function\", \"change\", \"web\", \"net\", \"share\", \"control\", \"asp\", \"layer\", \"leave\", \"ui\", \"high\", \"idxmax\", \"rolling\", \"technique\", \"trim\", \"zero\", \"orient\", \"iterate\", \"parse\", \"inherit\", \"expat\", \"libxml\", \"implication\", \"figure\", \"micro\", \"innodb\", \"diagnostic\", \"deprecation\", \"drawatpoint\", \"forwidth\", \"calculate\", \"lead\", \"well\", \"display\", \"mean\", \"variable\", \"object\", \"find\", \"class\", \"constructor\", \"default\", \"get\", \"value\", \"select\", \"item\", \"pattern\", \"mapping\", \"servlet\", \"array\", \"idxmax\", \"rolling\", \"technique\", \"trim\", \"zero\", \"orient\", \"iterate\", \"parse\", \"inherit\", \"expat\", \"libxml\", \"implication\", \"figure\", \"micro\", \"innodb\", \"diagnostic\", \"deprecation\", \"drawatpoint\", \"forwidth\", \"linebreakmode\", \"minfontsize\", \"withfont\", \"calculate\", \"lead\", \"well\", \"display\", \"mean\", \"variable\", \"object\", \"find\", \"net\", \"class\", \"constructor\", \"default\", \"work\", \"table\", \"system\", \"base\", \"xml\", \"java\", \"stop\", \"configuration\", \"config\", \"encrypt\", \"idxmax\", \"rolling\", \"technique\", \"trim\", \"zero\", \"orient\", \"iterate\", \"parse\", \"inherit\", \"expat\", \"libxml\", \"implication\", \"figure\", \"micro\", \"innodb\", \"diagnostic\", \"deprecation\", \"drawatpoint\", \"forwidth\", \"linebreakmode\", \"calculate\", \"lead\", \"well\", \"display\", \"mean\", \"variable\", \"object\", \"find\", \"net\", \"class\", \"constructor\", \"default\", \"way\", \"string\", \"good\", \"format\", \"convert\", \"timestamp\", \"date\", \"array\", \"idxmax\", \"rolling\", \"technique\", \"trim\", \"zero\", \"orient\", \"iterate\", \"parse\", \"inherit\", \"expat\", \"libxml\", \"implication\", \"figure\", \"micro\", \"innodb\", \"diagnostic\", \"deprecation\", \"drawatpoint\", \"forwidth\", \"linebreakmode\", \"minfontsize\", \"withfont\", \"calculate\", \"lead\", \"well\", \"display\", \"mean\", \"variable\", \"object\", \"find\", \"net\", \"class\", \"constructor\", \"default\", \"type\", \"datum\", \"implement\", \"parameter\", \"require\", \"interface\", \"drag\", \"pass\", \"generic\", \"idxmax\", \"rolling\", \"technique\", \"trim\", \"zero\", \"orient\", \"iterate\", \"parse\", \"inherit\", \"expat\", \"libxml\", \"implication\", \"figure\", \"micro\", \"innodb\", \"diagnostic\", \"deprecation\", \"drawatpoint\", \"forwidth\", \"linebreakmode\", \"minfontsize\", \"calculate\", \"lead\", \"well\", \"display\", \"mean\", \"variable\", \"object\", \"find\", \"net\", \"class\", \"constructor\", \"default\", \"find\", \"attribute\", \"process\", \"handle\", \"device\", \"data\", \"lock\", \"most\", \"efficient\", \"length\", \"maximum\", \"buffer\", \"concatenate\", \"idxmax\", \"rolling\", \"technique\", \"trim\", \"zero\", \"orient\", \"iterate\", \"parse\", \"inherit\", \"expat\", \"libxml\", \"implication\", \"figure\", \"micro\", \"innodb\", \"diagnostic\", \"deprecation\", \"calculate\", \"lead\", \"well\", \"display\", \"mean\", \"variable\", \"object\", \"net\", \"class\", \"object\", \"class\", \"default\", \"constructor\", \"authentication\", \"deploy\", \"property\", \"idxmax\", \"rolling\", \"technique\", \"trim\", \"zero\", \"orient\", \"iterate\", \"parse\", \"inherit\", \"expat\", \"libxml\", \"implication\", \"figure\", \"micro\", \"innodb\", \"diagnostic\", \"deprecation\", \"drawatpoint\", \"forwidth\", \"linebreakmode\", \"minfontsize\", \"withfont\", \"autosize\", \"calculate\", \"lead\", \"well\", \"display\", \"mean\", \"variable\", \"find\", \"net\", \"server\", \"application\", \"build\", \"call\", \"api\", \"window\", \"form\", \"testing\", \"fast\", \"idxmax\", \"rolling\", \"technique\", \"trim\", \"zero\", \"orient\", \"iterate\", \"parse\", \"inherit\", \"expat\", \"libxml\", \"implication\", \"figure\", \"micro\", \"innodb\", \"diagnostic\", \"deprecation\", \"drawatpoint\", \"forwidth\", \"linebreakmode\", \"minfontsize\", \"withfont\", \"autosize\", \"databind\", \"calculate\", \"lead\", \"well\", \"display\", \"mean\", \"variable\", \"object\", \"find\", \"net\", \"class\", \"constructor\", \"default\", \"server\", \"create\", \"library\", \"react\", \"possible\", \"available\", \"practice\", \"just\", \"webview\", \"idxmax\", \"rolling\", \"technique\", \"trim\", \"zero\", \"orient\", \"iterate\", \"parse\", \"inherit\", \"expat\", \"libxml\", \"implication\", \"figure\", \"micro\", \"innodb\", \"diagnostic\", \"deprecation\", \"drawatpoint\", \"forwidth\", \"linebreakmode\", \"minfontsize\", \"withfont\", \"calculate\", \"lead\", \"well\", \"display\", \"mean\", \"variable\", \"object\", \"find\", \"net\", \"class\", \"constructor\", \"default\", \"error\", \"issue\", \"display\", \"scope\", \"modal\", \"return\", \"fail\", \"idxmax\", \"rolling\", \"technique\", \"trim\", \"zero\", \"orient\", \"iterate\", \"parse\", \"inherit\", \"expat\", \"libxml\", \"implication\", \"figure\", \"micro\", \"innodb\", \"diagnostic\", \"deprecation\", \"drawatpoint\", \"forwidth\", \"linebreakmode\", \"minfontsize\", \"withfont\", \"autosize\", \"calculate\", \"lead\", \"well\", \"mean\", \"variable\", \"object\", \"find\", \"net\", \"class\", \"constructor\", \"default\", \"server\", \"set\", \"run\", \"fix\", \"duplicate\", \"condition\", \"terminate\", \"idxmax\", \"rolling\", \"technique\", \"trim\", \"zero\", \"orient\", \"iterate\", \"parse\", \"inherit\", \"expat\", \"libxml\", \"implication\", \"figure\", \"micro\", \"innodb\", \"diagnostic\", \"deprecation\", \"drawatpoint\", \"forwidth\", \"linebreakmode\", \"minfontsize\", \"withfont\", \"autosize\", \"databind\", \"calculate\", \"lead\", \"well\", \"display\", \"mean\", \"variable\", \"object\", \"find\", \"net\", \"class\", \"constructor\", \"default\", \"server\", \"application\", \"number\", \"framework\", \"extract\", \"side\", \"plot\", \"label\", \"idxmax\", \"rolling\", \"technique\", \"trim\", \"zero\", \"orient\", \"iterate\", \"parse\", \"inherit\", \"expat\", \"libxml\", \"implication\", \"figure\", \"micro\", \"innodb\", \"diagnostic\", \"deprecation\", \"drawatpoint\", \"forwidth\", \"linebreakmode\", \"minfontsize\", \"withfont\", \"autosize\", \"calculate\", \"lead\", \"well\", \"display\", \"mean\", \"variable\", \"object\", \"find\", \"net\", \"class\", \"constructor\", \"default\", \"load\", \"android\", \"query\", \"start\", \"sql\", \"explicit\", \"intent\", \"datagridview\", \"support\", \"idxmax\", \"rolling\", \"technique\", \"trim\", \"zero\", \"orient\", \"iterate\", \"parse\", \"inherit\", \"expat\", \"libxml\", \"implication\", \"figure\", \"micro\", \"innodb\", \"diagnostic\", \"deprecation\", \"drawatpoint\", \"forwidth\", \"linebreakmode\", \"minfontsize\", \"calculate\", \"lead\", \"well\", \"display\", \"mean\", \"variable\", \"object\", \"find\", \"net\", \"class\", \"constructor\", \"default\", \"database\", \"check\", \"same\", \"tag\", \"cluster\", \"day\", \"recommend\", \"datetime\", \"store\", \"idxmax\", \"rolling\", \"technique\", \"trim\", \"zero\", \"orient\", \"iterate\", \"parse\", \"inherit\", \"expat\", \"libxml\", \"implication\", \"figure\", \"micro\", \"innodb\", \"diagnostic\", \"deprecation\", \"drawatpoint\", \"forwidth\", \"linebreakmode\", \"minfontsize\", \"calculate\", \"lead\", \"well\", \"display\", \"mean\", \"variable\", \"object\", \"find\", \"net\", \"class\", \"constructor\", \"default\", \"variable\", \"generate\", \"url\", \"include\", \"mean\", \"filename\", \"idxmax\", \"rolling\", \"technique\", \"trim\", \"zero\", \"orient\", \"iterate\", \"parse\", \"inherit\", \"expat\", \"libxml\", \"implication\", \"figure\", \"micro\", \"innodb\", \"diagnostic\", \"deprecation\", \"drawatpoint\", \"forwidth\", \"linebreakmode\", \"minfontsize\", \"withfont\", \"autosize\", \"databind\", \"calculate\", \"lead\", \"well\", \"display\", \"object\", \"find\", \"net\", \"class\", \"constructor\", \"default\", \"server\", \"application\", \"build\", \"method\", \"private\", \"instance\", \"namespace\", \"declaration\", \"original\", \"repo\", \"idxmax\", \"rolling\", \"technique\", \"trim\", \"zero\", \"orient\", \"iterate\", \"parse\", \"inherit\", \"expat\", \"libxml\", \"implication\", \"figure\", \"micro\", \"innodb\", \"diagnostic\", \"deprecation\", \"drawatpoint\", \"forwidth\", \"linebreakmode\", \"minfontsize\", \"withfont\", \"autosize\", \"calculate\", \"lead\", \"well\", \"display\", \"mean\", \"variable\", \"object\", \"find\", \"net\", \"class\", \"constructor\", \"default\", \"model\", \"bind\", \"bit\", \"runtime\", \"software\", \"calculate\", \"experience\", \"idxmax\", \"rolling\", \"technique\", \"trim\", \"zero\", \"orient\", \"iterate\", \"parse\", \"inherit\", \"expat\", \"libxml\", \"implication\", \"figure\", \"micro\", \"innodb\", \"diagnostic\", \"deprecation\", \"drawatpoint\", \"forwidth\", \"linebreakmode\", \"minfontsize\", \"withfont\", \"autosize\", \"lead\", \"well\", \"display\", \"mean\", \"variable\", \"object\", \"find\", \"net\", \"class\", \"constructor\", \"default\", \"server\", \"read\", \"html\", \"validation\", \"iframe\", \"level\", \"allow\", \"idxmax\", \"rolling\", \"technique\", \"trim\", \"zero\", \"orient\", \"iterate\", \"parse\", \"inherit\", \"expat\", \"libxml\", \"implication\", \"figure\", \"micro\", \"innodb\", \"diagnostic\", \"deprecation\", \"drawatpoint\", \"forwidth\", \"linebreakmode\", \"minfontsize\", \"withfont\", \"autosize\", \"databind\", \"calculate\", \"lead\", \"well\", \"display\", \"mean\", \"variable\", \"object\", \"find\", \"net\", \"class\", \"constructor\", \"default\", \"server\", \"difference\", \"performance\", \"specify\", \"idxmax\", \"rolling\", \"technique\", \"trim\", \"zero\", \"orient\", \"iterate\", \"parse\", \"inherit\", \"expat\", \"libxml\", \"implication\", \"figure\", \"micro\", \"innodb\", \"diagnostic\", \"deprecation\", \"drawatpoint\", \"forwidth\", \"linebreakmode\", \"minfontsize\", \"withfont\", \"autosize\", \"databind\", \"design\", \"arbitrary\", \"keyboard\", \"calculate\", \"lead\", \"well\", \"display\", \"mean\", \"variable\", \"object\", \"find\", \"net\", \"class\", \"constructor\", \"default\", \"server\", \"application\", \"build\", \"deploy\", \"access\", \"static\", \"member\", \"non\", \"idxmax\", \"rolling\", \"technique\", \"trim\", \"zero\", \"orient\", \"iterate\", \"parse\", \"inherit\", \"expat\", \"libxml\", \"implication\", \"figure\", \"micro\", \"innodb\", \"diagnostic\", \"deprecation\", \"drawatpoint\", \"forwidth\", \"linebreakmode\", \"minfontsize\", \"withfont\", \"autosize\", \"databind\", \"design\", \"arbitrary\", \"calculate\", \"lead\", \"well\", \"display\", \"mean\", \"variable\", \"object\", \"find\", \"net\", \"class\", \"constructor\", \"default\", \"server\", \"application\", \"build\", \"server\", \"proxy\", \"idxmax\", \"rolling\", \"technique\", \"trim\", \"zero\", \"orient\", \"iterate\", \"parse\", \"inherit\", \"expat\", \"libxml\", \"implication\", \"figure\", \"micro\", \"innodb\", \"diagnostic\", \"deprecation\", \"drawatpoint\", \"forwidth\", \"linebreakmode\", \"minfontsize\", \"withfont\", \"autosize\", \"databind\", \"design\", \"arbitrary\", \"keyboard\", \"shortcut\", \"calculate\", \"lead\", \"well\", \"display\", \"mean\", \"variable\", \"object\", \"find\", \"net\", \"class\", \"constructor\", \"default\", \"application\", \"build\", \"deploy\", \"use\", \"client\", \"push\", \"spring\", \"oauth\", \"idxmax\", \"rolling\", \"technique\", \"trim\", \"zero\", \"orient\", \"iterate\", \"parse\", \"inherit\", \"expat\", \"libxml\", \"implication\", \"figure\", \"micro\", \"innodb\", \"diagnostic\", \"deprecation\", \"drawatpoint\", \"forwidth\", \"linebreakmode\", \"minfontsize\", \"withfont\", \"autosize\", \"databind\", \"design\", \"arbitrary\", \"calculate\", \"lead\", \"well\", \"display\", \"mean\", \"variable\", \"object\", \"find\", \"net\", \"class\", \"constructor\", \"default\", \"server\", \"application\", \"build\", \"well\", \"uiwebview\", \"lead\", \"visible\", \"idxmax\", \"rolling\", \"technique\", \"trim\", \"zero\", \"orient\", \"iterate\", \"parse\", \"inherit\", \"expat\", \"libxml\", \"implication\", \"figure\", \"micro\", \"innodb\", \"diagnostic\", \"deprecation\", \"drawatpoint\", \"forwidth\", \"linebreakmode\", \"minfontsize\", \"withfont\", \"autosize\", \"databind\", \"design\", \"arbitrary\", \"calculate\", \"display\", \"mean\", \"variable\", \"object\", \"find\", \"net\", \"class\", \"constructor\", \"default\", \"server\", \"application\", \"build\", \"deploy\", \"idxmax\", \"rolling\", \"technique\", \"trim\", \"zero\", \"orient\", \"iterate\", \"parse\", \"inherit\", \"expat\", \"libxml\", \"implication\", \"figure\", \"micro\", \"innodb\", \"diagnostic\", \"deprecation\", \"drawatpoint\", \"forwidth\", \"linebreakmode\", \"minfontsize\", \"withfont\", \"autosize\", \"databind\", \"design\", \"arbitrary\", \"keyboard\", \"shortcut\", \"debugg\", \"electron\", \"calculate\", \"lead\", \"well\", \"display\", \"mean\", \"variable\", \"object\", \"find\", \"net\", \"class\", \"constructor\", \"default\", \"server\", \"application\", \"build\", \"deploy\", \"proxy\", \"use\", \"idxmax\", \"rolling\", \"technique\", \"trim\", \"zero\", \"orient\", \"iterate\", \"parse\", \"inherit\", \"expat\", \"libxml\", \"implication\", \"figure\", \"micro\", \"innodb\", \"diagnostic\", \"deprecation\", \"drawatpoint\", \"forwidth\", \"linebreakmode\", \"minfontsize\", \"withfont\", \"autosize\", \"databind\", \"design\", \"arbitrary\", \"keyboard\", \"shortcut\", \"debugg\", \"electron\", \"calculate\", \"lead\", \"well\", \"display\", \"mean\", \"variable\", \"object\", \"find\", \"net\", \"class\", \"constructor\", \"default\", \"server\", \"application\", \"build\", \"deploy\", \"proxy\", \"use\", \"idxmax\", \"rolling\", \"technique\", \"trim\", \"zero\", \"orient\", \"iterate\", \"parse\", \"inherit\", \"expat\", \"libxml\", \"implication\", \"figure\", \"micro\", \"innodb\", \"diagnostic\", \"deprecation\", \"drawatpoint\", \"forwidth\", \"linebreakmode\", \"minfontsize\", \"withfont\", \"autosize\", \"databind\", \"design\", \"arbitrary\", \"keyboard\", \"shortcut\", \"debugg\", \"electron\", \"calculate\", \"lead\", \"well\", \"display\", \"mean\", \"variable\", \"object\", \"find\", \"net\", \"class\", \"constructor\", \"default\", \"server\", \"application\", \"build\", \"deploy\", \"proxy\", \"use\"], \"Freq\": [17803.0, 6866.0, 4924.0, 5402.0, 3698.0, 3343.0, 3174.0, 3242.0, 3017.0, 3025.0, 2600.0, 2951.0, 2941.0, 2399.0, 2019.0, 2240.0, 2716.0, 2419.0, 2422.0, 2859.0, 2314.0, 2137.0, 2742.0, 2226.0, 2505.0, 2337.0, 1530.0, 1686.0, 1890.0, 1385.0, 17801.033833548692, 280.9803843782819, 0.09126508620588045, 0.09126508620588045, 0.09126508620588045, 0.09126508620588045, 0.09126507748410828, 0.09126507748410828, 0.09126507748410828, 0.09126507748410828, 0.09126507748410828, 0.09126507748410828, 0.09126507748410828, 0.09126507748410828, 0.09126507748410828, 0.09126507748410828, 0.09126507748410828, 0.09126507748410828, 0.09126507748410828, 0.09126507748410828, 0.09126507748410828, 0.09126507748410828, 0.09126507748410828, 0.09126507748410828, 0.09126507748410828, 0.09126507748410828, 0.09126507748410828, 0.09126507748410828, 0.09126507748410828, 0.09126507748410828, 0.09126507748410828, 0.09126507748410828, 0.09126507748410828, 0.09126507748410828, 0.09126507748410828, 0.09126507748410828, 0.09126507748410828, 0.09126507748410828, 0.09126507748410828, 0.09126507748410828, 0.09126507748410828, 0.09126507748410828, 0.09126507748410828, 2857.176561825987, 2740.8217201733187, 2503.604798690678, 2335.429813514054, 1767.2627713252243, 764.2685438880943, 582.5676774247714, 514.4122678037431, 499.5276606924354, 477.3414110689906, 422.9975038544106, 395.56798858321304, 319.15509612988564, 288.62518460292875, 146.93935089511743, 25.260064215858197, 0.0926800421984212, 0.0926800421984212, 0.0926800421984212, 0.0926800341248171, 0.0926800341248171, 0.0926800341248171, 0.0926800341248171, 0.0926800341248171, 0.0926800341248171, 0.0926800341248171, 0.0926800341248171, 0.0926800341248171, 0.0926800341248171, 0.0926800341248171, 0.0926800341248171, 0.0926800341248171, 0.0926800341248171, 0.0926800341248171, 0.0926800341248171, 0.0926800341248171, 6864.624873431008, 1624.1057012417255, 1566.1726342512468, 1420.528091731296, 1022.4736295273088, 803.1203783950901, 438.4061177319711, 411.72299722497974, 175.6223994632095, 71.04153346364185, 0.09102817891472864, 0.09102817891472864, 0.09102817891472864, 0.09102817891472864, 0.09102817891472864, 0.09102817186995751, 0.09102817186995751, 0.09102817186995751, 0.09102817186995751, 0.09102817186995751, 0.09102817186995751, 0.09102817186995751, 0.09102817186995751, 0.09102817186995751, 0.09102817186995751, 0.09102817186995751, 0.09102817186995751, 0.09102817186995751, 0.09102817186995751, 0.09102817186995751, 0.09102817186995751, 0.09102817186995751, 0.09102817186995751, 0.09102817186995751, 0.09102817186995751, 0.09102817186995751, 0.09102817186995751, 0.09102817186995751, 0.09102817186995751, 2224.3745560903512, 1888.590880010748, 1481.2372287114722, 1480.0993210558013, 992.5448857846908, 669.7679828237592, 459.5450403500112, 405.48465441858826, 375.15286138513136, 276.20187749104025, 263.1778149414316, 253.0006827098676, 215.88769766835537, 215.27110394114538, 158.16103622644056, 154.0881771960405, 77.41246975779148, 0.08507596643352973, 0.08507595496327844, 0.08507595496327844, 0.08507595496327844, 0.08507595496327844, 0.08507595496327844, 0.08507595496327844, 0.08507595496327844, 0.08507595496327844, 0.08507595496327844, 0.08507595496327844, 0.08507595496327844, 0.08507595496327844, 0.08507595496327844, 0.08507595496327844, 0.08507595496327844, 0.08507595496327844, 0.08507595496327844, 0.08507595496327844, 0.08507595496327844, 2939.7001472882316, 2714.244065230065, 1658.3762817541372, 1087.4860842883918, 695.754066500835, 545.5683920112524, 373.07417196996397, 275.92973688701244, 211.2452846309111, 152.85004358639594, 148.39944114880456, 0.08422923397360643, 0.08422923397360643, 0.08422923397360643, 0.08422923397360643, 0.08422923397360643, 0.08422923397360643, 0.08422923397360643, 0.08422923397360643, 0.08422923397360643, 0.08422923397360643, 0.08422923397360643, 0.08422923397360643, 0.08422923397360643, 0.08422923397360643, 0.08422923397360643, 0.08422923397360643, 0.08422923397360643, 0.08422923397360643, 0.08422923397360643, 0.08422923397360643, 0.08422923397360643, 0.08422923397360643, 0.08422923397360643, 0.08422923397360643, 0.08422923397360643, 0.08422923397360643, 0.08422923397360643, 0.08422923397360643, 0.08422923397360643, 0.08422923397360643, 5400.3790256037755, 2949.837069388454, 816.3824843596619, 501.4044275204947, 464.1018784923355, 252.34770761484378, 63.30601796364546, 0.09432090274563189, 0.09432089221240784, 0.09432089221240784, 0.09432089221240784, 0.09432089221240784, 0.09432089221240784, 0.09432089221240784, 0.09432089221240784, 0.09432089221240784, 0.09432089221240784, 0.09432089221240784, 0.09432089221240784, 0.09432089221240784, 0.09432089221240784, 0.09432089221240784, 0.09432089221240784, 0.09432089221240784, 0.09432089221240784, 0.09432089221240784, 0.09432089221240784, 0.09432089221240784, 0.09432089221240784, 0.09432089221240784, 0.09432089221240784, 0.09432089221240784, 0.09432089221240784, 0.09432089221240784, 0.09432089221240784, 0.09432089221240784, 0.09432089221240784, 0.09432089221240784, 0.09432089221240784, 0.09432089221240784, 0.09432089221240784, 0.09432089221240784, 3696.126885500654, 1404.9744608521617, 1145.8972281797658, 985.7842332810097, 729.9884393140262, 655.5677094934824, 610.3776253320606, 453.80596949551085, 390.56231597461897, 224.54663565301195, 0.09311818559439441, 0.09311818559439441, 0.09311818559439441, 0.09311818559439441, 0.09311818559439441, 0.09311818559439441, 0.09311818559439441, 0.09311818559439441, 0.09311818559439441, 0.09311818559439441, 0.09311818559439441, 0.09311818559439441, 0.09311818559439441, 0.09311818559439441, 0.09311818559439441, 0.09311818559439441, 0.09311818559439441, 0.09311818559439441, 0.09311818559439441, 0.09311818559439441, 0.09311818559439441, 0.09311818559439441, 0.09311818559439441, 0.09311818559439441, 0.09311818559439441, 0.09311818559439441, 0.09311818559439441, 0.09311818559439441, 0.09311818559439441, 0.09311818559439441, 0.09311818559439441, 0.09311818559439441, 3023.196210859898, 2419.9801168640365, 1513.1497682367685, 1208.5614332482055, 1169.1575617046367, 144.38850283827568, 0.0826324644315432, 0.0826324644315432, 0.08263245490761101, 0.08263245490761101, 0.08263245490761101, 0.08263245490761101, 0.08263245490761101, 0.08263245490761101, 0.08263245490761101, 0.08263245490761101, 0.08263245490761101, 0.08263245490761101, 0.08263245490761101, 0.08263245490761101, 0.08263245490761101, 0.08263245490761101, 0.08263245490761101, 0.08263245490761101, 0.08263245490761101, 0.08263245490761101, 0.08263245490761101, 0.08263245490761101, 0.08263245490761101, 0.08263245490761101, 0.08263245490761101, 0.08263245490761101, 0.08263245490761101, 0.08263245490761101, 0.08263245490761101, 0.08263245490761101, 0.08263245490761101, 0.08263245490761101, 0.08263245490761101, 0.08263245490761101, 0.08263245490761101, 0.08263245490761101, 3240.0453321889804, 2312.539457310335, 1286.892799913138, 1270.0101317435183, 568.12960273316, 390.7522905855804, 95.54435880928312, 0.08425364191936667, 0.08425364191936667, 0.08425363266384005, 0.08425363266384005, 0.08425363266384005, 0.08425363266384005, 0.08425363266384005, 0.08425363266384005, 0.08425363266384005, 0.08425363266384005, 0.08425363266384005, 0.08425363266384005, 0.08425363266384005, 0.08425363266384005, 0.08425363266384005, 0.08425363266384005, 0.08425363266384005, 0.08425363266384005, 0.08425363266384005, 0.08425363266384005, 0.08425363266384005, 0.08425363266384005, 0.08425363266384005, 0.08425363266384005, 0.08425363266384005, 0.08425363266384005, 0.08425363266384005, 0.08425363266384005, 0.08425363266384005, 0.08425363266384005, 0.08425363266384005, 0.08425363266384005, 0.08425363266384005, 0.08425363266384005, 0.08425363266384005, 3015.5508283064128, 1135.9038184921817, 945.2579451406982, 753.8227081835915, 727.8510685362709, 426.5200720531762, 288.85845480310144, 284.9739717789399, 271.02583091276034, 233.13030417580188, 208.45739924048652, 126.14997587176994, 83.50103213886885, 0.08602579660767488, 0.08602579660767488, 0.08602579660767488, 0.08602579660767488, 0.08602579660767488, 0.08602579660767488, 0.08602579660767488, 0.08602579660767488, 0.08602579660767488, 0.08602579660767488, 0.08602579660767488, 0.08602579660767488, 0.08602579660767488, 0.08602579660767488, 0.08602579660767488, 0.08602579660767488, 0.08602579660767488, 0.08602579660767488, 0.08602579660767488, 0.08602579660767488, 0.08602579660767488, 0.08602579660767488, 0.08602579660767488, 0.08602579660767488, 0.08602579660767488, 0.08602579660767488, 3341.2850510645576, 2417.3254647271, 899.1357786952175, 725.801365376854, 468.27832923021055, 251.5057443605359, 0.08294098380411086, 0.08294097552745304, 0.08294097552745304, 0.08294097552745304, 0.08294097552745304, 0.08294097552745304, 0.08294097552745304, 0.08294097552745304, 0.08294097552745304, 0.08294097552745304, 0.08294097552745304, 0.08294097552745304, 0.08294097552745304, 0.08294097552745304, 0.08294097552745304, 0.08294097552745304, 0.08294097552745304, 0.08294097552745304, 0.08294097552745304, 0.08294097552745304, 0.08294097552745304, 0.08294097552745304, 0.08294097552745304, 0.08294097552745304, 0.08294097552745304, 0.08294097552745304, 0.08294097552745304, 0.08294097552745304, 0.08294097552745304, 0.08294097552745304, 0.08294097552745304, 0.08294097552745304, 0.08294097552745304, 0.08294097552745304, 0.08294097552745304, 2135.431044347529, 1684.0981699842223, 1242.343863686241, 1095.1407344354636, 637.314973875073, 512.9605752795775, 0.0871710579537165, 0.0871710579537165, 0.0871710579537165, 0.0871710579537165, 0.0871710579537165, 0.0871710579537165, 0.0871710579537165, 0.0871710579537165, 0.0871710579537165, 0.0871710579537165, 0.0871710579537165, 0.0871710579537165, 0.0871710579537165, 0.0871710579537165, 0.0871710579537165, 0.0871710579537165, 0.0871710579537165, 0.0871710579537165, 0.0871710579537165, 0.0871710579537165, 0.0871710579537165, 0.0871710579537165, 0.0871710579537165, 0.0871710579537165, 0.0871710579537165, 0.0871710579537165, 0.0871710579537165, 0.0871710579537165, 0.0871710579537165, 0.0871710579537165, 0.0871710579537165, 0.0871710579537165, 0.0871710579537165, 0.0871710579537165, 0.0871710579537165, 0.0871710579537165, 0.0871710579537165, 3172.7305753617043, 1549.07727918336, 907.0582277990751, 840.1293626125716, 321.65455940013413, 191.81891358504086, 160.39006142420195, 119.07144742759608, 0.08408093712546635, 0.08408093712546635, 0.08408093712546635, 0.08408093712546635, 0.08408093712546635, 0.08408093712546635, 0.08408093712546635, 0.08408093712546635, 0.08408093712546635, 0.08408093712546635, 0.08408093712546635, 0.08408093712546635, 0.08408093712546635, 0.08408093712546635, 0.08408093712546635, 0.08408093712546635, 0.08408093712546635, 0.08408093712546635, 0.08408093712546635, 0.08408093712546635, 0.08408093712546635, 0.08408093712546635, 0.08408093712546635, 0.08408093712546635, 0.08408093712546635, 0.08408093712546635, 0.08408093712546635, 0.08408093712546635, 0.08408093712546635, 0.08408093712546635, 0.08408093712546635, 0.08408093712546635, 0.08408093712546635, 0.08408093712546635, 4922.0083703883065, 965.16440022427, 686.7555411124127, 270.49627569482385, 172.36202358813333, 0.06906831169628276, 0.06906831169628276, 0.06906830455942568, 0.06906830455942568, 0.06906830455942568, 0.06906830455942568, 0.06906830455942568, 0.06906830455942568, 0.06906830455942568, 0.06906830455942568, 0.06906830455942568, 0.06906830455942568, 0.06906830455942568, 0.06906830455942568, 0.06906830455942568, 0.06906830455942568, 0.06906830455942568, 0.06906830455942568, 0.06906830455942568, 0.06906830455942568, 0.06906830455942568, 0.06906830455942568, 0.06906830455942568, 0.06906830455942568, 0.06906830455942568, 0.06906830455942568, 0.06906830455942568, 0.06906830455942568, 0.06906830455942568, 0.06906830455942568, 0.06906830455942568, 0.06906830455942568, 0.06906830455942568, 0.06906830455942568, 0.06906830455942568, 0.06906830455942568, 0.06906830455942568, 2598.162712710219, 2396.9942624614578, 573.9580060798958, 441.2600190889379, 361.75529170522884, 26.21256814570352, 0.07877029373198786, 0.07877029373198786, 0.07877029373198786, 0.07877029373198786, 0.07877029373198786, 0.07877029373198786, 0.07877029373198786, 0.07877029373198786, 0.07877029373198786, 0.07877029373198786, 0.07877029373198786, 0.07877029373198786, 0.07877029373198786, 0.07877029373198786, 0.07877029373198786, 0.07877029373198786, 0.07877029373198786, 0.07877029373198786, 0.07877029373198786, 0.07877029373198786, 0.07877029373198786, 0.07877029373198786, 0.07877029373198786, 0.07877029373198786, 0.07877029373198786, 0.07877029373198786, 0.07877029373198786, 0.07877029373198786, 0.07877029373198786, 0.07877029373198786, 0.07877029373198786, 0.07877029373198786, 0.07877029373198786, 0.07877029373198786, 0.07877029373198786, 0.07877029373198786, 0.07877029373198786, 2238.505890354019, 834.6461672621191, 767.4882882456288, 481.0554991308495, 458.6281244440045, 273.38872816873186, 254.69876455161258, 0.09074165857129605, 0.09074165857129605, 0.09074165857129605, 0.09074165857129605, 0.09074165857129605, 0.09074165857129605, 0.09074165857129605, 0.09074165857129605, 0.09074165857129605, 0.09074165857129605, 0.09074165857129605, 0.09074165857129605, 0.09074165857129605, 0.09074165857129605, 0.09074165857129605, 0.09074165857129605, 0.09074165857129605, 0.09074165857129605, 0.09074165857129605, 0.09074165857129605, 0.09074165857129605, 0.09074165857129605, 0.09074165857129605, 0.09074165857129605, 0.09074165857129605, 0.09074165857129605, 0.09074165857129605, 0.09074165857129605, 0.09074165857129605, 0.09074165857129605, 0.09074165857129605, 0.09074165857129605, 0.09074165857129605, 0.09074165857129605, 0.09074165857129605, 1528.6397644503738, 1112.2031204584746, 923.4830270883915, 712.92118742833, 276.22397397906815, 163.798242470801, 85.46237455607613, 63.5652993304747, 0.07525112708860512, 0.07525112184021623, 0.07525112184021623, 0.07525112184021623, 0.07525112184021623, 0.07525112184021623, 0.07525112184021623, 0.07525112184021623, 0.07525112184021623, 0.07525112184021623, 0.07525112184021623, 0.07525112184021623, 0.07525112184021623, 0.07525112184021623, 0.07525112184021623, 0.07525112184021623, 0.07525112184021623, 0.07525112184021623, 0.07525112184021623, 0.07525112184021623, 0.07525112184021623, 0.07525112184021623, 0.07525112184021623, 0.07525112184021623, 0.07525112184021623, 0.07525112184021623, 0.07525112184021623, 0.07525112184021623, 0.07525112184021623, 0.07525112184021623, 0.07525112184021623, 0.07525112184021623, 0.07525112184021623, 0.07525112184021623, 1383.0473163535755, 859.1480299148226, 833.339503463886, 464.0039952388305, 290.49338334482746, 190.58458827599765, 161.65463299454277, 146.3743328684551, 0.07618722692394508, 0.07618722215431539, 0.07618722215431539, 0.07618722215431539, 0.07618722215431539, 0.07618722215431539, 0.07618722215431539, 0.07618722215431539, 0.07618722215431539, 0.07618722215431539, 0.07618722215431539, 0.07618722215431539, 0.07618722215431539, 0.07618722215431539, 0.07618722215431539, 0.07618722215431539, 0.07618722215431539, 0.07618722215431539, 0.07618722215431539, 0.07618722215431539, 0.07618722215431539, 0.07618722215431539, 0.07618722215431539, 0.07618722215431539, 0.07618722215431539, 0.07618722215431539, 0.07618722215431539, 0.07618722215431539, 0.07618722215431539, 0.07618722215431539, 0.07618722215431539, 0.07618722215431539, 0.07618722215431539, 0.07618722215431539, 1237.4953296523447, 988.961579381902, 726.713908132205, 622.5063720467324, 223.75894648935204, 174.9798563323826, 0.07819564785277426, 0.07819564785277426, 0.07819564785277426, 0.07819564785277426, 0.07819564785277426, 0.07819564785277426, 0.07819564785277426, 0.07819564785277426, 0.07819564785277426, 0.07819564785277426, 0.07819564785277426, 0.07819564785277426, 0.07819564785277426, 0.07819564785277426, 0.07819564785277426, 0.07819564785277426, 0.07819564785277426, 0.07819564785277426, 0.07819564785277426, 0.07819564785277426, 0.07819564785277426, 0.07819564785277426, 0.07819564785277426, 0.07819564785277426, 0.07819564785277426, 0.07819564785277426, 0.07819564785277426, 0.07819564785277426, 0.07819564785277426, 0.07819564785277426, 0.07819564785277426, 0.07819564785277426, 0.07819564785277426, 0.07819564785277426, 0.07819564785277426, 0.07819564785277426, 0.07819564785277426, 2017.6321921320502, 588.7051787769383, 331.7744398245847, 190.2648153967181, 93.44418223069214, 56.21871606672069, 0.07362684429228675, 0.07362683671977172, 0.07362683671977172, 0.07362683671977172, 0.07362683671977172, 0.07362683671977172, 0.07362683671977172, 0.07362683671977172, 0.07362683671977172, 0.07362683671977172, 0.07362683671977172, 0.07362683671977172, 0.07362683671977172, 0.07362683671977172, 0.07362683671977172, 0.07362683671977172, 0.07362683671977172, 0.07362683671977172, 0.07362683671977172, 0.07362683671977172, 0.07362683671977172, 0.07362683671977172, 0.07362683671977172, 0.07362683671977172, 0.07362683671977172, 0.07362683671977172, 0.07362683671977172, 0.07362683671977172, 0.07362683671977172, 0.07362683671977172, 0.07362683671977172, 0.07362683671977172, 0.07362683671977172, 0.07362683671977172, 0.07362683671977172, 0.07362683671977172, 798.3763272084967, 608.8122506076329, 463.94904527757984, 403.30546435046836, 156.2909017943086, 129.60051968090636, 14.941765750739373, 0.07169687471104769, 0.07169687471104769, 0.07169687471104769, 0.07169687471104769, 0.07169687471104769, 0.07169687471104769, 0.07169687471104769, 0.07169687471104769, 0.07169687471104769, 0.07169687471104769, 0.07169687471104769, 0.07169687471104769, 0.07169687471104769, 0.07169687471104769, 0.07169687471104769, 0.07169687471104769, 0.07169687471104769, 0.07169687471104769, 0.07169687471104769, 0.07169687471104769, 0.07169687471104769, 0.07169687471104769, 0.07169687471104769, 0.07169687471104769, 0.07169687471104769, 0.07169687471104769, 0.07169687471104769, 0.07169687471104769, 0.07169687471104769, 0.07169687471104769, 0.07169687471104769, 0.07169687471104769, 0.07169687471104769, 0.07169687471104769, 0.07169687471104769, 808.6091210106192, 513.9991106918156, 436.0633501462798, 268.32514772166274, 206.00194424118175, 0.07290790672101549, 0.07290790106500435, 0.07290790106500435, 0.07290790106500435, 0.07290790106500435, 0.07290790106500435, 0.07290790106500435, 0.07290790106500435, 0.07290790106500435, 0.07290790106500435, 0.07290790106500435, 0.07290790106500435, 0.07290790106500435, 0.07290790106500435, 0.07290790106500435, 0.07290790106500435, 0.07290790106500435, 0.07290790106500435, 0.07290790106500435, 0.07290790106500435, 0.07290790106500435, 0.07290790106500435, 0.07290790106500435, 0.07290790106500435, 0.07290790106500435, 0.07290790106500435, 0.07290790106500435, 0.07290790106500435, 0.07290790106500435, 0.07290790106500435, 0.07290790106500435, 0.07290790106500435, 0.07290790106500435, 0.07290790106500435, 0.07290790106500435, 0.07290790106500435, 0.07290790106500435, 0.07290790106500435, 1160.445800646984, 619.6035021816136, 302.8329573839877, 0.06755043344531032, 0.06755043344531032, 0.06755043344531032, 0.06755043344531032, 0.06755043344531032, 0.06755043344531032, 0.06755043344531032, 0.06755043344531032, 0.06755043344531032, 0.06755043344531032, 0.06755043344531032, 0.06755043344531032, 0.06755043344531032, 0.06755043344531032, 0.06755043344531032, 0.06755043344531032, 0.06755043344531032, 0.06755043344531032, 0.06755043344531032, 0.06755043344531032, 0.06755043344531032, 0.06755043344531032, 0.06755043344531032, 0.06755043344531032, 0.06755043344531032, 0.06755043344531032, 0.06755043344531032, 0.06755043344531032, 0.06755043344531032, 0.06755043344531032, 0.06755043344531032, 0.06755043344531032, 0.06755043344531032, 0.06755043344531032, 0.06755043344531032, 0.06755043344531032, 0.06755043344531032, 0.06755043344531032, 0.06755043344531032, 0.06755043344531032, 0.06755043344531032, 0.06755043344531032, 0.06755043344531032, 981.3392205979698, 513.8044086107517, 401.1848995603165, 0.05924970049928201, 0.059249695754106775, 0.059249695754106775, 0.059249695754106775, 0.059249695754106775, 0.059249695754106775, 0.059249695754106775, 0.059249695754106775, 0.059249695754106775, 0.059249695754106775, 0.059249695754106775, 0.059249695754106775, 0.059249695754106775, 0.059249695754106775, 0.059249695754106775, 0.059249695754106775, 0.059249695754106775, 0.059249695754106775, 0.059249695754106775, 0.059249695754106775, 0.059249695754106775, 0.059249695754106775, 0.059249695754106775, 0.059249695754106775, 0.059249695754106775, 0.059249695754106775, 0.059249695754106775, 0.059249695754106775, 0.059249695754106775, 0.059249695754106775, 0.059249695754106775, 0.059249695754106775, 0.059249695754106775, 0.059249695754106775, 0.059249695754106775, 0.059249695754106775, 0.059249695754106775, 0.059249695754106775, 0.059249695754106775, 0.059249695754106775, 0.059249695754106775, 0.059249695754106775, 922.2873628206218, 169.23778319238406, 0.05131525002308556, 0.05131525002308556, 0.05131525002308556, 0.05131525002308556, 0.05131525002308556, 0.05131525002308556, 0.05131525002308556, 0.05131525002308556, 0.05131525002308556, 0.05131525002308556, 0.05131525002308556, 0.05131525002308556, 0.05131525002308556, 0.05131525002308556, 0.05131525002308556, 0.05131525002308556, 0.05131525002308556, 0.05131525002308556, 0.05131525002308556, 0.05131525002308556, 0.05131525002308556, 0.05131525002308556, 0.05131525002308556, 0.05131525002308556, 0.05131525002308556, 0.05131525002308556, 0.05131525002308556, 0.05131525002308556, 0.05131525002308556, 0.05131525002308556, 0.05131525002308556, 0.05131525002308556, 0.05131525002308556, 0.05131525002308556, 0.05131525002308556, 0.05131525002308556, 0.05131525002308556, 0.05131525002308556, 0.05131525002308556, 0.05131525002308556, 0.05131525002308556, 0.05131525002308556, 0.05131525002308556, 0.05131525002308556, 405.3070932976511, 136.05887808649803, 0.03715769804174769, 0.03715769804174769, 0.03715769444687942, 0.03715769444687942, 0.03715769444687942, 0.03715769444687942, 0.03715769444687942, 0.03715769444687942, 0.03715769444687942, 0.03715769444687942, 0.03715769444687942, 0.03715769444687942, 0.03715769444687942, 0.03715769444687942, 0.03715769444687942, 0.03715769444687942, 0.03715769444687942, 0.03715769444687942, 0.03715769444687942, 0.03715769444687942, 0.03715769444687942, 0.03715769444687942, 0.03715769444687942, 0.03715769444687942, 0.03715769444687942, 0.03715769444687942, 0.03715769444687942, 0.03715769444687942, 0.03715769444687942, 0.03715769444687942, 0.03715769444687942, 0.03715769444687942, 0.03715769444687942, 0.03715769444687942, 0.03715769444687942, 0.03715769444687942, 0.03715769444687942, 0.03715769444687942, 0.03715769444687942, 0.03715769444687942, 0.03715769444687942, 0.03715769444687942, 0.03715769444687942, 151.4704145900876, 88.4692037113961, 14.429605814516602, 0.031273114819751764, 0.03127311023323624, 0.03127311023323624, 0.03127311023323624, 0.03127311023323624, 0.03127311023323624, 0.03127311023323624, 0.03127311023323624, 0.03127311023323624, 0.03127311023323624, 0.03127311023323624, 0.03127311023323624, 0.03127311023323624, 0.03127311023323624, 0.03127311023323624, 0.03127311023323624, 0.03127311023323624, 0.03127311023323624, 0.03127311023323624, 0.03127311023323624, 0.03127311023323624, 0.03127311023323624, 0.03127311023323624, 0.03127311023323624, 0.03127311023323624, 0.03127311023323624, 0.03127311023323624, 0.03127311023323624, 0.03127311023323624, 0.03127311023323624, 0.03127311023323624, 0.03127311023323624, 0.03127311023323624, 0.03127311023323624, 0.03127311023323624, 0.03127311023323624, 0.03127311023323624, 0.03127311023323624, 0.03127311023323624, 0.03127311023323624, 0.03127311023323624, 0.0181150633421646, 0.0181150633421646, 0.0181150633421646, 0.0181150633421646, 0.0181150633421646, 0.0181150633421646, 0.0181150633421646, 0.0181150633421646, 0.0181150633421646, 0.0181150633421646, 0.0181150633421646, 0.0181150633421646, 0.0181150633421646, 0.0181150633421646, 0.0181150633421646, 0.0181150633421646, 0.0181150633421646, 0.0181150633421646, 0.0181150633421646, 0.0181150633421646, 0.0181150633421646, 0.0181150633421646, 0.0181150633421646, 0.0181150633421646, 0.0181150633421646, 0.0181150633421646, 0.0181150633421646, 0.0181150633421646, 0.0181150633421646, 0.0181150633421646, 0.0181150633421646, 0.0181150633421646, 0.0181150633421646, 0.0181150633421646, 0.0181150633421646, 0.0181150633421646, 0.0181150633421646, 0.0181150633421646, 0.0181150633421646, 0.0181150633421646, 0.0181150633421646, 0.0181150633421646, 0.0181150633421646, 0.0181150633421646, 0.0181150633421646, 0.0181150633421646, 0.0181150633421646, 0.0181150633421646, 0.018029023429383485, 0.018029023429383485, 0.018029023429383485, 0.018029023429383485, 0.018029023429383485, 0.018029023429383485, 0.018029023429383485, 0.018029023429383485, 0.018029023429383485, 0.018029023429383485, 0.018029023429383485, 0.018029023429383485, 0.018029023429383485, 0.018029023429383485, 0.018029023429383485, 0.018029023429383485, 0.018029023429383485, 0.018029023429383485, 0.018029023429383485, 0.018029023429383485, 0.018029023429383485, 0.018029023429383485, 0.018029023429383485, 0.018029023429383485, 0.018029023429383485, 0.018029023429383485, 0.018029023429383485, 0.018029023429383485, 0.018029023429383485, 0.018029023429383485, 0.018029023429383485, 0.018029023429383485, 0.018029023429383485, 0.018029023429383485, 0.018029023429383485, 0.018029023429383485, 0.018029023429383485, 0.018029023429383485, 0.018029023429383485, 0.018029023429383485, 0.018029023429383485, 0.018029023429383485, 0.018029023429383485, 0.018029023429383485, 0.018029023429383485, 0.018029023429383485, 0.018029023429383485, 0.018029023429383485, 0.018029023429383485, 0.018029023429383485, 0.018029023429383485, 0.018029023429383485, 0.018029023429383485, 0.018029023429383485, 0.018029023429383485, 0.018029023429383485, 0.018029023429383485, 0.018029023429383485, 0.018029023429383485, 0.018029023429383485, 0.018029023429383485, 0.018029023429383485, 0.018029023429383485, 0.018029023429383485, 0.018029023429383485, 0.018029023429383485, 0.018029023429383485, 0.018029023429383485, 0.018029023429383485, 0.018029023429383485, 0.018029023429383485, 0.018029023429383485, 0.018029023429383485, 0.018029023429383485, 0.018029023429383485, 0.018029023429383485, 0.018029023429383485, 0.018029023429383485, 0.018029023429383485, 0.018029023429383485, 0.018029023429383485, 0.018029023429383485, 0.018029023429383485, 0.018029023429383485, 0.018029023429383485, 0.018029023429383485, 0.018029023429383485, 0.018029023429383485, 0.018029023429383485, 0.018029023429383485, 0.018029023429383485, 0.018029023429383485, 0.018029023429383485, 0.018029023429383485, 0.018029023429383485, 0.018029023429383485], \"Total\": [17803.0, 6866.0, 4924.0, 5402.0, 3698.0, 3343.0, 3174.0, 3242.0, 3017.0, 3025.0, 2600.0, 2951.0, 2941.0, 2399.0, 2019.0, 2240.0, 2716.0, 2419.0, 2422.0, 2859.0, 2314.0, 2137.0, 2742.0, 2226.0, 2505.0, 2337.0, 1530.0, 1686.0, 1890.0, 1385.0, 17803.068556031536, 283.01510686111544, 2.1259875690394936, 2.1259875841578686, 2.125987587554516, 2.12598758909665, 2.1259875603177214, 2.1259875603177214, 2.1259875603177214, 2.1259875603177214, 2.1259875603177214, 2.1259875603177214, 2.1259875603177214, 2.1259875603177214, 2.1259875603177214, 2.1259875603177214, 2.1259875603177214, 2.1259875603177214, 2.1259875603177214, 2.1259875603177214, 2.1259875603177214, 2.1259875603177214, 2.1259875603177214, 2.1259875603177214, 2.1259875603177214, 2.1259875603177214, 2.1259875603177214, 2.1259875603177214, 2.1259875603177214, 2.1259875603177214, 131.65481036651306, 16.52432026460109, 153.56512904017208, 688.8124603681711, 225.80673840181703, 1239.5431215648096, 3343.3280976493475, 3017.5907900701222, 1089.5278426147354, 2419.36851131189, 727.8444119616444, 901.1788252800078, 924.3620351309163, 2859.2098693521793, 2742.855027699511, 2505.6381062168703, 2337.4631210402463, 1769.296078851417, 766.3018514142873, 584.6009849509644, 516.4455753299361, 501.5609682186282, 479.3747185951834, 425.0308113806034, 397.60129610940584, 321.18840365607844, 290.65849212912156, 148.9726584213104, 27.29337174205111, 2.1259875683913254, 2.1259875825729537, 2.1259875841578686, 2.1259875603177214, 2.1259875603177214, 2.1259875603177214, 2.1259875603177214, 2.1259875603177214, 2.1259875603177214, 2.1259875603177214, 2.1259875603177214, 2.1259875603177214, 2.1259875603177214, 2.1259875603177214, 131.65481036651306, 16.52432026460109, 153.56512904017208, 688.8124603681711, 225.80673840181703, 1239.5431215648096, 6866.6598328194605, 1626.1406606301728, 1568.207593639694, 1422.5630511197432, 1024.5085889157567, 805.155337783538, 440.4410771204188, 413.75795661342744, 177.6573588516573, 73.07649285208956, 2.1259875673624924, 2.1259875673624924, 2.1259875825729537, 2.1259875841578686, 2.125987587554516, 2.1259875603177214, 2.1259875603177214, 2.1259875603177214, 2.1259875603177214, 2.1259875603177214, 2.1259875603177214, 2.1259875603177214, 2.1259875603177214, 2.1259875603177214, 2.1259875603177214, 2.1259875603177214, 2.1259875603177214, 2.1259875603177214, 2.1259875603177214, 2.1259875603177214, 131.65481036651306, 16.52432026460109, 153.56512904017208, 688.8124603681711, 225.80673840181703, 1239.5431215648096, 3343.3280976493475, 3017.5907900701222, 1089.5278426147354, 2226.4154676957055, 1890.631791616102, 1483.2781403168262, 1482.1402326611553, 994.5857973900453, 671.8088944291137, 461.5859519553656, 407.52556602394264, 377.19377299048574, 278.24278909639463, 265.218726546786, 255.04159431522208, 217.92860927370987, 217.31201554649988, 160.20194783179505, 156.129088801395, 79.45338136314588, 2.125987587554516, 2.1259875603177214, 2.1259875603177214, 2.1259875603177214, 2.1259875603177214, 2.1259875603177214, 2.1259875603177214, 2.1259875603177214, 2.1259875603177214, 2.1259875603177214, 2.1259875603177214, 2.1259875603177214, 2.1259875603177214, 131.65481036651306, 16.52432026460109, 153.56512904017208, 688.8124603681711, 225.80673840181703, 1239.5431215648096, 3343.3280976493475, 2941.7419056145754, 2716.285823556409, 1660.4180400804808, 1089.5278426147354, 697.7958248271792, 547.6101503375966, 375.1159302963081, 277.97149521335655, 213.28704295725527, 154.8918019127401, 150.44119947514872, 2.1259875603177214, 2.1259875603177214, 2.1259875603177214, 2.1259875603177214, 2.1259875603177214, 2.1259875603177214, 2.1259875603177214, 2.1259875603177214, 2.1259875603177214, 2.1259875603177214, 2.1259875603177214, 2.1259875603177214, 2.1259875603177214, 2.1259875603177214, 2.1259875603177214, 2.1259875603177214, 2.1259875603177214, 2.1259875603177214, 2.1259875603177214, 131.65481036651306, 16.52432026460109, 153.56512904017208, 688.8124603681711, 225.80673840181703, 1239.5431215648096, 3343.3280976493475, 3017.5907900701222, 2419.36851131189, 727.8444119616444, 901.1788252800078, 5402.410692271885, 2951.868736056559, 818.4141510277674, 503.4360941886, 466.1335451604408, 254.37937428294913, 65.33768463175072, 2.12598758909665, 2.1259875603177214, 2.1259875603177214, 2.1259875603177214, 2.1259875603177214, 2.1259875603177214, 2.1259875603177214, 2.1259875603177214, 2.1259875603177214, 2.1259875603177214, 2.1259875603177214, 2.1259875603177214, 2.1259875603177214, 2.1259875603177214, 2.1259875603177214, 2.1259875603177214, 2.1259875603177214, 2.1259875603177214, 2.1259875603177214, 2.1259875603177214, 2.1259875603177214, 2.1259875603177214, 2.1259875603177214, 131.65481036651306, 16.52432026460109, 153.56512904017208, 688.8124603681711, 225.80673840181703, 1239.5431215648096, 3343.3280976493475, 3017.5907900701222, 1089.5278426147354, 2419.36851131189, 727.8444119616444, 901.1788252800078, 3698.1597548753775, 1407.0073302268845, 1147.9300975544886, 987.8171026557332, 732.0213086887496, 657.6005788682058, 612.410494706784, 455.83883887023416, 392.5951853493423, 226.5795050277353, 2.1259875603177214, 2.1259875603177214, 2.1259875603177214, 2.1259875603177214, 2.1259875603177214, 2.1259875603177214, 2.1259875603177214, 2.1259875603177214, 2.1259875603177214, 2.1259875603177214, 2.1259875603177214, 2.1259875603177214, 2.1259875603177214, 2.1259875603177214, 2.1259875603177214, 2.1259875603177214, 2.1259875603177214, 2.1259875603177214, 2.1259875603177214, 2.1259875603177214, 131.65481036651306, 16.52432026460109, 153.56512904017208, 688.8124603681711, 225.80673840181703, 1239.5431215648096, 3343.3280976493475, 3017.5907900701222, 1089.5278426147354, 2419.36851131189, 727.8444119616444, 901.1788252800078, 3025.2395659653084, 2422.0234719694467, 1515.1931233421783, 1210.6047883536153, 1171.2009168100465, 146.43185794368583, 2.1259875698416537, 2.12598758909665, 2.1259875603177214, 2.1259875603177214, 2.1259875603177214, 2.1259875603177214, 2.1259875603177214, 2.1259875603177214, 2.1259875603177214, 2.1259875603177214, 2.1259875603177214, 2.1259875603177214, 2.1259875603177214, 2.1259875603177214, 2.1259875603177214, 2.1259875603177214, 2.1259875603177214, 2.1259875603177214, 2.1259875603177214, 2.1259875603177214, 2.1259875603177214, 2.1259875603177214, 2.1259875603177214, 2.1259875603177214, 131.65481036651306, 16.52432026460109, 153.56512904017208, 688.8124603681711, 225.80673840181703, 1239.5431215648096, 3343.3280976493475, 3017.5907900701222, 1089.5278426147354, 2419.36851131189, 727.8444119616444, 901.1788252800078, 3242.087066116634, 2314.5811912379886, 1288.9345338407916, 1272.0518656711718, 570.171336660814, 392.79402451323426, 97.58609273693696, 2.125987569573248, 2.125987569573248, 2.1259875603177214, 2.1259875603177214, 2.1259875603177214, 2.1259875603177214, 2.1259875603177214, 2.1259875603177214, 2.1259875603177214, 2.1259875603177214, 2.1259875603177214, 2.1259875603177214, 2.1259875603177214, 2.1259875603177214, 2.1259875603177214, 2.1259875603177214, 2.1259875603177214, 2.1259875603177214, 2.1259875603177214, 2.1259875603177214, 2.1259875603177214, 2.1259875603177214, 2.1259875603177214, 131.65481036651306, 16.52432026460109, 153.56512904017208, 688.8124603681711, 225.80673840181703, 1239.5431215648096, 3343.3280976493475, 3017.5907900701222, 1089.5278426147354, 2419.36851131189, 727.8444119616444, 901.1788252800078, 3017.5907900701222, 1137.9437802558914, 947.2979069044083, 755.8626699473016, 729.8910302999809, 428.56003381688623, 290.8984165668115, 287.01393354264997, 273.0657926764704, 235.17026593951198, 210.49736100419662, 128.18993763547996, 85.54099390257885, 2.1259875603177214, 2.1259875603177214, 2.1259875603177214, 2.1259875603177214, 2.1259875603177214, 2.1259875603177214, 2.1259875603177214, 2.1259875603177214, 2.1259875603177214, 2.1259875603177214, 2.1259875603177214, 2.1259875603177214, 2.1259875603177214, 2.1259875603177214, 2.1259875603177214, 2.1259875603177214, 2.1259875603177214, 131.65481036651306, 16.52432026460109, 153.56512904017208, 688.8124603681711, 225.80673840181703, 1239.5431215648096, 3343.3280976493475, 1089.5278426147354, 2419.36851131189, 3343.3280976493475, 2419.36851131189, 901.1788252800078, 727.8444119616444, 470.3213758150008, 253.5487909453262, 2.125987568594379, 2.1259875603177214, 2.1259875603177214, 2.1259875603177214, 2.1259875603177214, 2.1259875603177214, 2.1259875603177214, 2.1259875603177214, 2.1259875603177214, 2.1259875603177214, 2.1259875603177214, 2.1259875603177214, 2.1259875603177214, 2.1259875603177214, 2.1259875603177214, 2.1259875603177214, 2.1259875603177214, 2.1259875603177214, 2.1259875603177214, 2.1259875603177214, 2.1259875603177214, 2.1259875603177214, 2.1259875603177214, 2.1259875603177214, 131.65481036651306, 16.52432026460109, 153.56512904017208, 688.8124603681711, 225.80673840181703, 1239.5431215648096, 3017.5907900701222, 1089.5278426147354, 924.3620351309163, 2240.5411362557647, 1568.207593639694, 2137.469860849893, 1686.1369864865858, 1244.3826801886046, 1097.1795509378271, 639.353790377437, 514.9993917819415, 2.1259875603177214, 2.1259875603177214, 2.1259875603177214, 2.1259875603177214, 2.1259875603177214, 2.1259875603177214, 2.1259875603177214, 2.1259875603177214, 2.1259875603177214, 2.1259875603177214, 2.1259875603177214, 2.1259875603177214, 2.1259875603177214, 2.1259875603177214, 2.1259875603177214, 2.1259875603177214, 2.1259875603177214, 2.1259875603177214, 2.1259875603177214, 2.1259875603177214, 2.1259875603177214, 2.1259875603177214, 2.1259875603177214, 2.1259875603177214, 131.65481036651306, 16.52432026460109, 153.56512904017208, 688.8124603681711, 225.80673840181703, 1239.5431215648096, 3343.3280976493475, 3017.5907900701222, 1089.5278426147354, 2419.36851131189, 727.8444119616444, 901.1788252800078, 924.3620351309163, 3174.772481984896, 1551.1191858065517, 909.1001344222674, 842.1712692357639, 323.6964660233264, 193.86082020823315, 162.43196804739424, 121.1133540507883, 2.1259875603177214, 2.1259875603177214, 2.1259875603177214, 2.1259875603177214, 2.1259875603177214, 2.1259875603177214, 2.1259875603177214, 2.1259875603177214, 2.1259875603177214, 2.1259875603177214, 2.1259875603177214, 2.1259875603177214, 2.1259875603177214, 2.1259875603177214, 2.1259875603177214, 2.1259875603177214, 2.1259875603177214, 2.1259875603177214, 2.1259875603177214, 2.1259875603177214, 2.1259875603177214, 2.1259875603177214, 131.65481036651306, 16.52432026460109, 153.56512904017208, 688.8124603681711, 225.80673840181703, 1239.5431215648096, 3343.3280976493475, 3017.5907900701222, 1089.5278426147354, 2419.36851131189, 727.8444119616444, 901.1788252800078, 4924.065289644067, 967.2213194800283, 688.8124603681711, 272.55319495058217, 174.41894284389164, 2.1259875674545783, 2.1259875825729537, 2.1259875603177214, 2.1259875603177214, 2.1259875603177214, 2.1259875603177214, 2.1259875603177214, 2.1259875603177214, 2.1259875603177214, 2.1259875603177214, 2.1259875603177214, 2.1259875603177214, 2.1259875603177214, 2.1259875603177214, 2.1259875603177214, 2.1259875603177214, 2.1259875603177214, 2.1259875603177214, 2.1259875603177214, 2.1259875603177214, 2.1259875603177214, 2.1259875603177214, 2.1259875603177214, 2.1259875603177214, 2.1259875603177214, 131.65481036651306, 16.52432026460109, 153.56512904017208, 225.80673840181703, 1239.5431215648096, 3343.3280976493475, 3017.5907900701222, 1089.5278426147354, 2419.36851131189, 727.8444119616444, 901.1788252800078, 924.3620351309163, 2600.2099299768042, 2399.041479728043, 576.0052233464816, 443.3072363555237, 363.80250897181463, 28.259785412289258, 2.1259875603177214, 2.1259875603177214, 2.1259875603177214, 2.1259875603177214, 2.1259875603177214, 2.1259875603177214, 2.1259875603177214, 2.1259875603177214, 2.1259875603177214, 2.1259875603177214, 2.1259875603177214, 2.1259875603177214, 2.1259875603177214, 2.1259875603177214, 2.1259875603177214, 2.1259875603177214, 2.1259875603177214, 2.1259875603177214, 2.1259875603177214, 2.1259875603177214, 2.1259875603177214, 2.1259875603177214, 2.1259875603177214, 2.1259875603177214, 131.65481036651306, 16.52432026460109, 153.56512904017208, 688.8124603681711, 225.80673840181703, 1239.5431215648096, 3343.3280976493475, 3017.5907900701222, 1089.5278426147354, 2419.36851131189, 727.8444119616444, 901.1788252800078, 924.3620351309163, 2240.5411362557647, 836.6814131638655, 769.5235341473752, 483.090745032596, 460.663370345751, 275.4239740704783, 256.7340104533591, 2.1259875603177214, 2.1259875603177214, 2.1259875603177214, 2.1259875603177214, 2.1259875603177214, 2.1259875603177214, 2.1259875603177214, 2.1259875603177214, 2.1259875603177214, 2.1259875603177214, 2.1259875603177214, 2.1259875603177214, 2.1259875603177214, 2.1259875603177214, 2.1259875603177214, 2.1259875603177214, 2.1259875603177214, 2.1259875603177214, 2.1259875603177214, 2.1259875603177214, 2.1259875603177214, 2.1259875603177214, 2.1259875603177214, 131.65481036651306, 16.52432026460109, 153.56512904017208, 688.8124603681711, 225.80673840181703, 1239.5431215648096, 3343.3280976493475, 3017.5907900701222, 1089.5278426147354, 2419.36851131189, 727.8444119616444, 901.1788252800078, 1530.690500888851, 1114.2538568969517, 925.533763526869, 714.9719238668075, 278.2747104175457, 165.84897890927851, 87.51311099455361, 65.61603576895219, 2.1259875655661102, 2.1259875603177214, 2.1259875603177214, 2.1259875603177214, 2.1259875603177214, 2.1259875603177214, 2.1259875603177214, 2.1259875603177214, 2.1259875603177214, 2.1259875603177214, 2.1259875603177214, 2.1259875603177214, 2.1259875603177214, 2.1259875603177214, 2.1259875603177214, 2.1259875603177214, 2.1259875603177214, 2.1259875603177214, 2.1259875603177214, 2.1259875603177214, 2.1259875603177214, 2.1259875603177214, 131.65481036651306, 16.52432026460109, 153.56512904017208, 688.8124603681711, 225.80673840181703, 1239.5431215648096, 3343.3280976493475, 3017.5907900701222, 1089.5278426147354, 2419.36851131189, 727.8444119616444, 901.1788252800078, 1385.0971166917386, 861.197830252986, 835.3893038020494, 466.05379557699393, 292.5431836829909, 192.63438861416108, 163.7044333327062, 148.42413320661854, 2.125987565087351, 2.1259875603177214, 2.1259875603177214, 2.1259875603177214, 2.1259875603177214, 2.1259875603177214, 2.1259875603177214, 2.1259875603177214, 2.1259875603177214, 2.1259875603177214, 2.1259875603177214, 2.1259875603177214, 2.1259875603177214, 2.1259875603177214, 2.1259875603177214, 2.1259875603177214, 2.1259875603177214, 2.1259875603177214, 2.1259875603177214, 2.1259875603177214, 2.1259875603177214, 2.1259875603177214, 131.65481036651306, 16.52432026460109, 153.56512904017208, 688.8124603681711, 225.80673840181703, 1239.5431215648096, 3343.3280976493475, 3017.5907900701222, 1089.5278426147354, 2419.36851131189, 727.8444119616444, 901.1788252800078, 1239.5431215648096, 991.0093712943669, 728.76170004467, 624.5541639591974, 225.80673840181703, 177.0276482448476, 2.1259875603177214, 2.1259875603177214, 2.1259875603177214, 2.1259875603177214, 2.1259875603177214, 2.1259875603177214, 2.1259875603177214, 2.1259875603177214, 2.1259875603177214, 2.1259875603177214, 2.1259875603177214, 2.1259875603177214, 2.1259875603177214, 2.1259875603177214, 2.1259875603177214, 2.1259875603177214, 2.1259875603177214, 2.1259875603177214, 2.1259875603177214, 2.1259875603177214, 2.1259875603177214, 2.1259875603177214, 2.1259875603177214, 2.1259875603177214, 131.65481036651306, 16.52432026460109, 153.56512904017208, 688.8124603681711, 3343.3280976493475, 3017.5907900701222, 1089.5278426147354, 2419.36851131189, 727.8444119616444, 901.1788252800078, 924.3620351309163, 2240.5411362557647, 1568.207593639694, 2019.684552855648, 590.7575395005362, 333.8268005481827, 192.31717612031608, 95.49654295429006, 58.27107679031864, 2.1259875678902365, 2.1259875603177214, 2.1259875603177214, 2.1259875603177214, 2.1259875603177214, 2.1259875603177214, 2.1259875603177214, 2.1259875603177214, 2.1259875603177214, 2.1259875603177214, 2.1259875603177214, 2.1259875603177214, 2.1259875603177214, 2.1259875603177214, 2.1259875603177214, 2.1259875603177214, 2.1259875603177214, 2.1259875603177214, 2.1259875603177214, 2.1259875603177214, 2.1259875603177214, 2.1259875603177214, 2.1259875603177214, 2.1259875603177214, 131.65481036651306, 16.52432026460109, 153.56512904017208, 688.8124603681711, 225.80673840181703, 1239.5431215648096, 3343.3280976493475, 3017.5907900701222, 1089.5278426147354, 2419.36851131189, 727.8444119616444, 901.1788252800078, 800.4306178941033, 610.8665412932395, 466.00333596318654, 405.35975503607506, 158.3451924799153, 131.65481036651306, 16.99605643634605, 2.1259875603177214, 2.1259875603177214, 2.1259875603177214, 2.1259875603177214, 2.1259875603177214, 2.1259875603177214, 2.1259875603177214, 2.1259875603177214, 2.1259875603177214, 2.1259875603177214, 2.1259875603177214, 2.1259875603177214, 2.1259875603177214, 2.1259875603177214, 2.1259875603177214, 2.1259875603177214, 2.1259875603177214, 2.1259875603177214, 2.1259875603177214, 2.1259875603177214, 2.1259875603177214, 2.1259875603177214, 2.1259875603177214, 16.52432026460109, 153.56512904017208, 688.8124603681711, 225.80673840181703, 1239.5431215648096, 3343.3280976493475, 3017.5907900701222, 1089.5278426147354, 2419.36851131189, 727.8444119616444, 901.1788252800078, 924.3620351309163, 810.6622006698718, 516.0521903510682, 438.11642980553256, 270.3782273809155, 208.0550239004345, 2.1259875659737326, 2.1259875603177214, 2.1259875603177214, 2.1259875603177214, 2.1259875603177214, 2.1259875603177214, 2.1259875603177214, 2.1259875603177214, 2.1259875603177214, 2.1259875603177214, 2.1259875603177214, 2.1259875603177214, 2.1259875603177214, 2.1259875603177214, 2.1259875603177214, 2.1259875603177214, 2.1259875603177214, 2.1259875603177214, 2.1259875603177214, 2.1259875603177214, 2.1259875603177214, 2.1259875603177214, 2.1259875603177214, 2.1259875603177214, 2.1259875603177214, 131.65481036651306, 16.52432026460109, 153.56512904017208, 688.8124603681711, 225.80673840181703, 1239.5431215648096, 3343.3280976493475, 3017.5907900701222, 1089.5278426147354, 2419.36851131189, 727.8444119616444, 901.1788252800078, 924.3620351309163, 1162.5042377738562, 621.661939308486, 304.89139451086015, 2.1259875603177214, 2.1259875603177214, 2.1259875603177214, 2.1259875603177214, 2.1259875603177214, 2.1259875603177214, 2.1259875603177214, 2.1259875603177214, 2.1259875603177214, 2.1259875603177214, 2.1259875603177214, 2.1259875603177214, 2.1259875603177214, 2.1259875603177214, 2.1259875603177214, 2.1259875603177214, 2.1259875603177214, 2.1259875603177214, 2.1259875603177214, 2.1259875603177214, 2.1259875603177214, 2.1259875603177214, 2.1259875603177214, 2.1259875603177214, 2.1259875603177214, 2.1259875603177214, 2.1259875603177214, 131.65481036651306, 16.52432026460109, 153.56512904017208, 688.8124603681711, 225.80673840181703, 1239.5431215648096, 3343.3280976493475, 3017.5907900701222, 1089.5278426147354, 2419.36851131189, 727.8444119616444, 901.1788252800078, 924.3620351309163, 2240.5411362557647, 1568.207593639694, 253.5487909453262, 983.4059584625334, 515.8711464753153, 403.2516374248802, 2.1259875650628968, 2.1259875603177214, 2.1259875603177214, 2.1259875603177214, 2.1259875603177214, 2.1259875603177214, 2.1259875603177214, 2.1259875603177214, 2.1259875603177214, 2.1259875603177214, 2.1259875603177214, 2.1259875603177214, 2.1259875603177214, 2.1259875603177214, 2.1259875603177214, 2.1259875603177214, 2.1259875603177214, 2.1259875603177214, 2.1259875603177214, 2.1259875603177214, 2.1259875603177214, 2.1259875603177214, 2.1259875603177214, 2.1259875603177214, 2.1259875603177214, 2.1259875603177214, 2.1259875603177214, 131.65481036651306, 16.52432026460109, 153.56512904017208, 688.8124603681711, 225.80673840181703, 1239.5431215648096, 3343.3280976493475, 3017.5907900701222, 1089.5278426147354, 2419.36851131189, 727.8444119616444, 901.1788252800078, 924.3620351309163, 2240.5411362557647, 1568.207593639694, 924.3620351309163, 171.3124555026787, 2.1259875603177214, 2.1259875603177214, 2.1259875603177214, 2.1259875603177214, 2.1259875603177214, 2.1259875603177214, 2.1259875603177214, 2.1259875603177214, 2.1259875603177214, 2.1259875603177214, 2.1259875603177214, 2.1259875603177214, 2.1259875603177214, 2.1259875603177214, 2.1259875603177214, 2.1259875603177214, 2.1259875603177214, 2.1259875603177214, 2.1259875603177214, 2.1259875603177214, 2.1259875603177214, 2.1259875603177214, 2.1259875603177214, 2.1259875603177214, 2.1259875603177214, 2.1259875603177214, 2.1259875603177214, 2.1259875603177214, 131.65481036651306, 16.52432026460109, 153.56512904017208, 688.8124603681711, 225.80673840181703, 1239.5431215648096, 3343.3280976493475, 3017.5907900701222, 1089.5278426147354, 2419.36851131189, 727.8444119616444, 901.1788252800078, 2240.5411362557647, 1568.207593639694, 253.5487909453262, 17803.068556031536, 407.39592316352196, 138.14770795236888, 2.12598756391259, 2.12598756391259, 2.1259875603177214, 2.1259875603177214, 2.1259875603177214, 2.1259875603177214, 2.1259875603177214, 2.1259875603177214, 2.1259875603177214, 2.1259875603177214, 2.1259875603177214, 2.1259875603177214, 2.1259875603177214, 2.1259875603177214, 2.1259875603177214, 2.1259875603177214, 2.1259875603177214, 2.1259875603177214, 2.1259875603177214, 2.1259875603177214, 2.1259875603177214, 2.1259875603177214, 2.1259875603177214, 2.1259875603177214, 2.1259875603177214, 2.1259875603177214, 2.1259875603177214, 2.1259875603177214, 131.65481036651306, 16.52432026460109, 153.56512904017208, 688.8124603681711, 225.80673840181703, 1239.5431215648096, 3343.3280976493475, 3017.5907900701222, 1089.5278426147354, 2419.36851131189, 727.8444119616444, 901.1788252800078, 924.3620351309163, 2240.5411362557647, 1568.207593639694, 153.56512904017208, 90.56391816148057, 16.52432026460109, 2.1259875649042366, 2.1259875603177214, 2.1259875603177214, 2.1259875603177214, 2.1259875603177214, 2.1259875603177214, 2.1259875603177214, 2.1259875603177214, 2.1259875603177214, 2.1259875603177214, 2.1259875603177214, 2.1259875603177214, 2.1259875603177214, 2.1259875603177214, 2.1259875603177214, 2.1259875603177214, 2.1259875603177214, 2.1259875603177214, 2.1259875603177214, 2.1259875603177214, 2.1259875603177214, 2.1259875603177214, 2.1259875603177214, 2.1259875603177214, 2.1259875603177214, 2.1259875603177214, 2.1259875603177214, 131.65481036651306, 688.8124603681711, 225.80673840181703, 1239.5431215648096, 3343.3280976493475, 3017.5907900701222, 1089.5278426147354, 2419.36851131189, 727.8444119616444, 901.1788252800078, 924.3620351309163, 2240.5411362557647, 1568.207593639694, 253.5487909453262, 2.1259875603177214, 2.1259875603177214, 2.1259875603177214, 2.1259875603177214, 2.1259875603177214, 2.1259875603177214, 2.1259875603177214, 2.1259875603177214, 2.1259875603177214, 2.1259875603177214, 2.1259875603177214, 2.1259875603177214, 2.1259875603177214, 2.1259875603177214, 2.1259875603177214, 2.1259875603177214, 2.1259875603177214, 2.1259875603177214, 2.1259875603177214, 2.1259875603177214, 2.1259875603177214, 2.1259875603177214, 2.1259875603177214, 2.1259875603177214, 2.1259875603177214, 2.1259875603177214, 2.1259875603177214, 2.1259875603177214, 2.1259875603177214, 2.1259875603177214, 131.65481036651306, 16.52432026460109, 153.56512904017208, 688.8124603681711, 225.80673840181703, 1239.5431215648096, 3343.3280976493475, 3017.5907900701222, 1089.5278426147354, 2419.36851131189, 727.8444119616444, 901.1788252800078, 924.3620351309163, 2240.5411362557647, 1568.207593639694, 253.5487909453262, 171.3124555026787, 17803.068556031536, 2.1259875603177214, 2.1259875603177214, 2.1259875603177214, 2.1259875603177214, 2.1259875603177214, 2.1259875603177214, 2.1259875603177214, 2.1259875603177214, 2.1259875603177214, 2.1259875603177214, 2.1259875603177214, 2.1259875603177214, 2.1259875603177214, 2.1259875603177214, 2.1259875603177214, 2.1259875603177214, 2.1259875603177214, 2.1259875603177214, 2.1259875603177214, 2.1259875603177214, 2.1259875603177214, 2.1259875603177214, 2.1259875603177214, 2.1259875603177214, 2.1259875603177214, 2.1259875603177214, 2.1259875603177214, 2.1259875603177214, 2.1259875603177214, 2.1259875603177214, 131.65481036651306, 16.52432026460109, 153.56512904017208, 688.8124603681711, 225.80673840181703, 1239.5431215648096, 3343.3280976493475, 3017.5907900701222, 1089.5278426147354, 2419.36851131189, 727.8444119616444, 901.1788252800078, 924.3620351309163, 2240.5411362557647, 1568.207593639694, 253.5487909453262, 171.3124555026787, 17803.068556031536, 2.1259875603177214, 2.1259875603177214, 2.1259875603177214, 2.1259875603177214, 2.1259875603177214, 2.1259875603177214, 2.1259875603177214, 2.1259875603177214, 2.1259875603177214, 2.1259875603177214, 2.1259875603177214, 2.1259875603177214, 2.1259875603177214, 2.1259875603177214, 2.1259875603177214, 2.1259875603177214, 2.1259875603177214, 2.1259875603177214, 2.1259875603177214, 2.1259875603177214, 2.1259875603177214, 2.1259875603177214, 2.1259875603177214, 2.1259875603177214, 2.1259875603177214, 2.1259875603177214, 2.1259875603177214, 2.1259875603177214, 2.1259875603177214, 2.1259875603177214, 131.65481036651306, 16.52432026460109, 153.56512904017208, 688.8124603681711, 225.80673840181703, 1239.5431215648096, 3343.3280976493475, 3017.5907900701222, 1089.5278426147354, 2419.36851131189, 727.8444119616444, 901.1788252800078, 924.3620351309163, 2240.5411362557647, 1568.207593639694, 253.5487909453262, 171.3124555026787, 17803.068556031536], \"Category\": [\"Default\", \"Default\", \"Default\", \"Default\", \"Default\", \"Default\", \"Default\", \"Default\", \"Default\", \"Default\", \"Default\", \"Default\", \"Default\", \"Default\", \"Default\", \"Default\", \"Default\", \"Default\", \"Default\", \"Default\", \"Default\", \"Default\", \"Default\", \"Default\", \"Default\", \"Default\", \"Default\", \"Default\", \"Default\", \"Default\", \"Topic1\", \"Topic1\", \"Topic1\", \"Topic1\", \"Topic1\", \"Topic1\", \"Topic1\", \"Topic1\", \"Topic1\", \"Topic1\", \"Topic1\", \"Topic1\", \"Topic1\", \"Topic1\", \"Topic1\", \"Topic1\", \"Topic1\", \"Topic1\", \"Topic1\", \"Topic1\", \"Topic1\", \"Topic1\", \"Topic1\", \"Topic1\", \"Topic1\", \"Topic1\", \"Topic1\", \"Topic1\", \"Topic1\", \"Topic1\", \"Topic1\", \"Topic1\", \"Topic1\", \"Topic1\", \"Topic1\", \"Topic1\", \"Topic1\", \"Topic1\", \"Topic1\", \"Topic1\", \"Topic1\", \"Topic1\", \"Topic1\", \"Topic2\", \"Topic2\", \"Topic2\", \"Topic2\", \"Topic2\", \"Topic2\", \"Topic2\", \"Topic2\", \"Topic2\", \"Topic2\", \"Topic2\", \"Topic2\", \"Topic2\", \"Topic2\", \"Topic2\", \"Topic2\", \"Topic2\", \"Topic2\", \"Topic2\", \"Topic2\", \"Topic2\", \"Topic2\", \"Topic2\", \"Topic2\", \"Topic2\", \"Topic2\", \"Topic2\", \"Topic2\", \"Topic2\", \"Topic2\", \"Topic2\", \"Topic2\", \"Topic2\", \"Topic2\", \"Topic2\", \"Topic2\", \"Topic3\", \"Topic3\", \"Topic3\", \"Topic3\", \"Topic3\", \"Topic3\", \"Topic3\", \"Topic3\", \"Topic3\", \"Topic3\", \"Topic3\", \"Topic3\", \"Topic3\", \"Topic3\", \"Topic3\", \"Topic3\", \"Topic3\", \"Topic3\", \"Topic3\", \"Topic3\", \"Topic3\", \"Topic3\", \"Topic3\", \"Topic3\", \"Topic3\", \"Topic3\", \"Topic3\", \"Topic3\", \"Topic3\", \"Topic3\", \"Topic3\", \"Topic3\", \"Topic3\", \"Topic3\", \"Topic3\", \"Topic3\", \"Topic3\", \"Topic3\", \"Topic3\", \"Topic4\", \"Topic4\", \"Topic4\", \"Topic4\", \"Topic4\", \"Topic4\", \"Topic4\", \"Topic4\", \"Topic4\", \"Topic4\", \"Topic4\", \"Topic4\", \"Topic4\", \"Topic4\", \"Topic4\", \"Topic4\", \"Topic4\", \"Topic4\", \"Topic4\", \"Topic4\", \"Topic4\", \"Topic4\", \"Topic4\", \"Topic4\", \"Topic4\", \"Topic4\", \"Topic4\", \"Topic4\", \"Topic4\", \"Topic4\", \"Topic4\", \"Topic4\", \"Topic4\", \"Topic4\", \"Topic4\", \"Topic4\", \"Topic4\", \"Topic5\", \"Topic5\", \"Topic5\", \"Topic5\", \"Topic5\", \"Topic5\", \"Topic5\", \"Topic5\", \"Topic5\", \"Topic5\", \"Topic5\", \"Topic5\", \"Topic5\", \"Topic5\", \"Topic5\", \"Topic5\", \"Topic5\", \"Topic5\", \"Topic5\", \"Topic5\", \"Topic5\", \"Topic5\", \"Topic5\", \"Topic5\", \"Topic5\", \"Topic5\", \"Topic5\", \"Topic5\", \"Topic5\", \"Topic5\", \"Topic5\", \"Topic5\", \"Topic5\", \"Topic5\", \"Topic5\", \"Topic5\", \"Topic5\", \"Topic5\", \"Topic5\", \"Topic5\", \"Topic5\", \"Topic6\", \"Topic6\", \"Topic6\", \"Topic6\", \"Topic6\", \"Topic6\", \"Topic6\", \"Topic6\", \"Topic6\", \"Topic6\", \"Topic6\", \"Topic6\", \"Topic6\", \"Topic6\", \"Topic6\", \"Topic6\", \"Topic6\", \"Topic6\", \"Topic6\", \"Topic6\", \"Topic6\", \"Topic6\", \"Topic6\", \"Topic6\", \"Topic6\", \"Topic6\", \"Topic6\", \"Topic6\", \"Topic6\", \"Topic6\", \"Topic6\", \"Topic6\", \"Topic6\", \"Topic6\", \"Topic6\", \"Topic6\", \"Topic6\", \"Topic6\", \"Topic6\", \"Topic6\", \"Topic6\", \"Topic6\", \"Topic7\", \"Topic7\", \"Topic7\", \"Topic7\", \"Topic7\", \"Topic7\", \"Topic7\", \"Topic7\", \"Topic7\", \"Topic7\", \"Topic7\", \"Topic7\", \"Topic7\", \"Topic7\", \"Topic7\", \"Topic7\", \"Topic7\", \"Topic7\", \"Topic7\", \"Topic7\", \"Topic7\", \"Topic7\", \"Topic7\", \"Topic7\", \"Topic7\", \"Topic7\", \"Topic7\", \"Topic7\", \"Topic7\", \"Topic7\", \"Topic7\", \"Topic7\", \"Topic7\", \"Topic7\", \"Topic7\", \"Topic7\", \"Topic7\", \"Topic7\", \"Topic7\", \"Topic7\", \"Topic7\", \"Topic7\", \"Topic8\", \"Topic8\", \"Topic8\", \"Topic8\", \"Topic8\", \"Topic8\", \"Topic8\", \"Topic8\", \"Topic8\", \"Topic8\", \"Topic8\", \"Topic8\", \"Topic8\", \"Topic8\", \"Topic8\", \"Topic8\", \"Topic8\", \"Topic8\", \"Topic8\", \"Topic8\", \"Topic8\", \"Topic8\", \"Topic8\", \"Topic8\", \"Topic8\", \"Topic8\", \"Topic8\", \"Topic8\", \"Topic8\", \"Topic8\", \"Topic8\", \"Topic8\", \"Topic8\", \"Topic8\", \"Topic8\", \"Topic8\", \"Topic8\", \"Topic8\", \"Topic8\", \"Topic8\", \"Topic8\", \"Topic8\", \"Topic9\", \"Topic9\", \"Topic9\", \"Topic9\", \"Topic9\", \"Topic9\", \"Topic9\", \"Topic9\", \"Topic9\", \"Topic9\", \"Topic9\", \"Topic9\", \"Topic9\", \"Topic9\", \"Topic9\", \"Topic9\", \"Topic9\", \"Topic9\", \"Topic9\", \"Topic9\", \"Topic9\", \"Topic9\", \"Topic9\", \"Topic9\", \"Topic9\", \"Topic9\", \"Topic9\", \"Topic9\", \"Topic9\", \"Topic9\", \"Topic9\", \"Topic9\", \"Topic9\", \"Topic9\", \"Topic9\", \"Topic9\", \"Topic9\", \"Topic9\", \"Topic9\", \"Topic9\", \"Topic9\", \"Topic9\", \"Topic10\", \"Topic10\", \"Topic10\", \"Topic10\", \"Topic10\", \"Topic10\", \"Topic10\", \"Topic10\", \"Topic10\", \"Topic10\", \"Topic10\", \"Topic10\", \"Topic10\", \"Topic10\", \"Topic10\", \"Topic10\", \"Topic10\", \"Topic10\", \"Topic10\", \"Topic10\", \"Topic10\", \"Topic10\", \"Topic10\", \"Topic10\", \"Topic10\", \"Topic10\", \"Topic10\", \"Topic10\", \"Topic10\", \"Topic10\", \"Topic10\", \"Topic10\", \"Topic10\", \"Topic10\", \"Topic10\", \"Topic10\", \"Topic10\", \"Topic10\", \"Topic10\", \"Topic11\", \"Topic11\", \"Topic11\", \"Topic11\", \"Topic11\", \"Topic11\", \"Topic11\", \"Topic11\", \"Topic11\", \"Topic11\", \"Topic11\", \"Topic11\", \"Topic11\", \"Topic11\", \"Topic11\", \"Topic11\", \"Topic11\", \"Topic11\", \"Topic11\", \"Topic11\", \"Topic11\", \"Topic11\", \"Topic11\", \"Topic11\", \"Topic11\", \"Topic11\", \"Topic11\", \"Topic11\", \"Topic11\", \"Topic11\", \"Topic11\", \"Topic11\", \"Topic11\", \"Topic11\", \"Topic11\", \"Topic11\", \"Topic11\", \"Topic11\", \"Topic11\", \"Topic11\", \"Topic11\", \"Topic12\", \"Topic12\", \"Topic12\", \"Topic12\", \"Topic12\", \"Topic12\", \"Topic12\", \"Topic12\", \"Topic12\", \"Topic12\", \"Topic12\", \"Topic12\", \"Topic12\", \"Topic12\", \"Topic12\", \"Topic12\", \"Topic12\", \"Topic12\", \"Topic12\", \"Topic12\", \"Topic12\", \"Topic12\", \"Topic12\", \"Topic12\", \"Topic12\", \"Topic12\", \"Topic12\", \"Topic12\", \"Topic12\", \"Topic12\", \"Topic12\", \"Topic12\", \"Topic12\", \"Topic12\", \"Topic12\", \"Topic12\", \"Topic12\", \"Topic12\", \"Topic12\", \"Topic12\", \"Topic12\", \"Topic12\", \"Topic12\", \"Topic13\", \"Topic13\", \"Topic13\", \"Topic13\", \"Topic13\", \"Topic13\", \"Topic13\", \"Topic13\", \"Topic13\", \"Topic13\", \"Topic13\", \"Topic13\", \"Topic13\", \"Topic13\", \"Topic13\", \"Topic13\", \"Topic13\", \"Topic13\", \"Topic13\", \"Topic13\", \"Topic13\", \"Topic13\", \"Topic13\", \"Topic13\", \"Topic13\", \"Topic13\", \"Topic13\", \"Topic13\", \"Topic13\", \"Topic13\", \"Topic13\", \"Topic13\", \"Topic13\", \"Topic13\", \"Topic13\", \"Topic13\", \"Topic13\", \"Topic13\", \"Topic13\", \"Topic13\", \"Topic13\", \"Topic13\", \"Topic14\", \"Topic14\", \"Topic14\", \"Topic14\", \"Topic14\", \"Topic14\", \"Topic14\", \"Topic14\", \"Topic14\", \"Topic14\", \"Topic14\", \"Topic14\", \"Topic14\", \"Topic14\", \"Topic14\", \"Topic14\", \"Topic14\", \"Topic14\", \"Topic14\", \"Topic14\", \"Topic14\", \"Topic14\", \"Topic14\", \"Topic14\", \"Topic14\", \"Topic14\", \"Topic14\", \"Topic14\", \"Topic14\", \"Topic14\", \"Topic14\", \"Topic14\", \"Topic14\", \"Topic14\", \"Topic14\", \"Topic14\", \"Topic14\", \"Topic14\", \"Topic14\", \"Topic14\", \"Topic14\", \"Topic14\", \"Topic15\", \"Topic15\", \"Topic15\", \"Topic15\", \"Topic15\", \"Topic15\", \"Topic15\", \"Topic15\", \"Topic15\", \"Topic15\", \"Topic15\", \"Topic15\", \"Topic15\", \"Topic15\", \"Topic15\", \"Topic15\", \"Topic15\", \"Topic15\", \"Topic15\", \"Topic15\", \"Topic15\", \"Topic15\", \"Topic15\", \"Topic15\", \"Topic15\", \"Topic15\", \"Topic15\", \"Topic15\", \"Topic15\", \"Topic15\", \"Topic15\", \"Topic15\", \"Topic15\", \"Topic15\", \"Topic15\", \"Topic15\", \"Topic15\", \"Topic15\", \"Topic15\", \"Topic15\", \"Topic15\", \"Topic15\", \"Topic15\", \"Topic16\", \"Topic16\", \"Topic16\", \"Topic16\", \"Topic16\", \"Topic16\", \"Topic16\", \"Topic16\", \"Topic16\", \"Topic16\", \"Topic16\", \"Topic16\", \"Topic16\", \"Topic16\", \"Topic16\", \"Topic16\", \"Topic16\", \"Topic16\", \"Topic16\", \"Topic16\", \"Topic16\", \"Topic16\", \"Topic16\", \"Topic16\", \"Topic16\", \"Topic16\", \"Topic16\", \"Topic16\", \"Topic16\", \"Topic16\", \"Topic16\", \"Topic16\", \"Topic16\", \"Topic16\", \"Topic16\", \"Topic16\", \"Topic16\", \"Topic16\", \"Topic16\", \"Topic16\", \"Topic16\", \"Topic16\", \"Topic17\", \"Topic17\", \"Topic17\", \"Topic17\", \"Topic17\", \"Topic17\", \"Topic17\", \"Topic17\", \"Topic17\", \"Topic17\", \"Topic17\", \"Topic17\", \"Topic17\", \"Topic17\", \"Topic17\", \"Topic17\", \"Topic17\", \"Topic17\", \"Topic17\", \"Topic17\", \"Topic17\", \"Topic17\", \"Topic17\", \"Topic17\", \"Topic17\", \"Topic17\", \"Topic17\", \"Topic17\", \"Topic17\", \"Topic17\", \"Topic17\", \"Topic17\", \"Topic17\", \"Topic17\", \"Topic17\", \"Topic17\", \"Topic17\", \"Topic17\", \"Topic17\", \"Topic17\", \"Topic17\", \"Topic17\", \"Topic18\", \"Topic18\", \"Topic18\", \"Topic18\", \"Topic18\", \"Topic18\", \"Topic18\", \"Topic18\", \"Topic18\", \"Topic18\", \"Topic18\", \"Topic18\", \"Topic18\", \"Topic18\", \"Topic18\", \"Topic18\", \"Topic18\", \"Topic18\", \"Topic18\", \"Topic18\", \"Topic18\", \"Topic18\", \"Topic18\", \"Topic18\", \"Topic18\", \"Topic18\", \"Topic18\", \"Topic18\", \"Topic18\", \"Topic18\", \"Topic18\", \"Topic18\", \"Topic18\", \"Topic18\", \"Topic18\", \"Topic18\", \"Topic18\", \"Topic18\", \"Topic18\", \"Topic18\", \"Topic18\", \"Topic18\", \"Topic19\", \"Topic19\", \"Topic19\", \"Topic19\", \"Topic19\", \"Topic19\", \"Topic19\", \"Topic19\", \"Topic19\", \"Topic19\", \"Topic19\", \"Topic19\", \"Topic19\", \"Topic19\", \"Topic19\", \"Topic19\", \"Topic19\", \"Topic19\", \"Topic19\", \"Topic19\", \"Topic19\", \"Topic19\", \"Topic19\", \"Topic19\", \"Topic19\", \"Topic19\", \"Topic19\", \"Topic19\", \"Topic19\", \"Topic19\", \"Topic19\", \"Topic19\", \"Topic19\", \"Topic19\", \"Topic19\", \"Topic19\", \"Topic19\", \"Topic19\", \"Topic19\", \"Topic19\", \"Topic19\", \"Topic19\", \"Topic19\", \"Topic20\", \"Topic20\", \"Topic20\", \"Topic20\", \"Topic20\", \"Topic20\", \"Topic20\", \"Topic20\", \"Topic20\", \"Topic20\", \"Topic20\", \"Topic20\", \"Topic20\", \"Topic20\", \"Topic20\", \"Topic20\", \"Topic20\", \"Topic20\", \"Topic20\", \"Topic20\", \"Topic20\", \"Topic20\", \"Topic20\", \"Topic20\", \"Topic20\", \"Topic20\", \"Topic20\", \"Topic20\", \"Topic20\", \"Topic20\", \"Topic20\", \"Topic20\", \"Topic20\", \"Topic20\", \"Topic20\", \"Topic20\", \"Topic20\", \"Topic20\", \"Topic20\", \"Topic20\", \"Topic20\", \"Topic20\", \"Topic21\", \"Topic21\", \"Topic21\", \"Topic21\", \"Topic21\", \"Topic21\", \"Topic21\", \"Topic21\", \"Topic21\", \"Topic21\", \"Topic21\", \"Topic21\", \"Topic21\", \"Topic21\", \"Topic21\", \"Topic21\", \"Topic21\", \"Topic21\", \"Topic21\", \"Topic21\", \"Topic21\", \"Topic21\", \"Topic21\", \"Topic21\", \"Topic21\", \"Topic21\", \"Topic21\", \"Topic21\", \"Topic21\", \"Topic21\", \"Topic21\", \"Topic21\", \"Topic21\", \"Topic21\", \"Topic21\", \"Topic21\", \"Topic21\", \"Topic21\", \"Topic21\", \"Topic21\", \"Topic21\", \"Topic21\", \"Topic22\", \"Topic22\", \"Topic22\", \"Topic22\", \"Topic22\", \"Topic22\", \"Topic22\", \"Topic22\", \"Topic22\", \"Topic22\", \"Topic22\", \"Topic22\", \"Topic22\", \"Topic22\", \"Topic22\", \"Topic22\", \"Topic22\", \"Topic22\", \"Topic22\", \"Topic22\", \"Topic22\", \"Topic22\", \"Topic22\", \"Topic22\", \"Topic22\", \"Topic22\", \"Topic22\", \"Topic22\", \"Topic22\", \"Topic22\", \"Topic22\", \"Topic22\", \"Topic22\", \"Topic22\", \"Topic22\", \"Topic22\", \"Topic22\", \"Topic22\", \"Topic22\", \"Topic22\", \"Topic22\", \"Topic22\", \"Topic22\", \"Topic23\", \"Topic23\", \"Topic23\", \"Topic23\", \"Topic23\", \"Topic23\", \"Topic23\", \"Topic23\", \"Topic23\", \"Topic23\", \"Topic23\", \"Topic23\", \"Topic23\", \"Topic23\", \"Topic23\", \"Topic23\", \"Topic23\", \"Topic23\", \"Topic23\", \"Topic23\", \"Topic23\", \"Topic23\", \"Topic23\", \"Topic23\", \"Topic23\", \"Topic23\", \"Topic23\", \"Topic23\", \"Topic23\", \"Topic23\", \"Topic23\", \"Topic23\", \"Topic23\", \"Topic23\", \"Topic23\", \"Topic23\", \"Topic23\", \"Topic23\", \"Topic23\", \"Topic23\", \"Topic23\", \"Topic23\", \"Topic23\", \"Topic23\", \"Topic23\", \"Topic23\", \"Topic24\", \"Topic24\", \"Topic24\", \"Topic24\", \"Topic24\", \"Topic24\", \"Topic24\", \"Topic24\", \"Topic24\", \"Topic24\", \"Topic24\", \"Topic24\", \"Topic24\", \"Topic24\", \"Topic24\", \"Topic24\", \"Topic24\", \"Topic24\", \"Topic24\", \"Topic24\", \"Topic24\", \"Topic24\", \"Topic24\", \"Topic24\", \"Topic24\", \"Topic24\", \"Topic24\", \"Topic24\", \"Topic24\", \"Topic24\", \"Topic24\", \"Topic24\", \"Topic24\", \"Topic24\", \"Topic24\", \"Topic24\", \"Topic24\", \"Topic24\", \"Topic24\", \"Topic24\", \"Topic24\", \"Topic24\", \"Topic24\", \"Topic24\", \"Topic24\", \"Topic25\", \"Topic25\", \"Topic25\", \"Topic25\", \"Topic25\", \"Topic25\", \"Topic25\", \"Topic25\", \"Topic25\", \"Topic25\", \"Topic25\", \"Topic25\", \"Topic25\", \"Topic25\", \"Topic25\", \"Topic25\", \"Topic25\", \"Topic25\", \"Topic25\", \"Topic25\", \"Topic25\", \"Topic25\", \"Topic25\", \"Topic25\", \"Topic25\", \"Topic25\", \"Topic25\", \"Topic25\", \"Topic25\", \"Topic25\", \"Topic25\", \"Topic25\", \"Topic25\", \"Topic25\", \"Topic25\", \"Topic25\", \"Topic25\", \"Topic25\", \"Topic25\", \"Topic25\", \"Topic25\", \"Topic25\", \"Topic25\", \"Topic25\", \"Topic25\", \"Topic25\", \"Topic26\", \"Topic26\", \"Topic26\", \"Topic26\", \"Topic26\", \"Topic26\", \"Topic26\", \"Topic26\", \"Topic26\", \"Topic26\", \"Topic26\", \"Topic26\", \"Topic26\", \"Topic26\", \"Topic26\", \"Topic26\", \"Topic26\", \"Topic26\", \"Topic26\", \"Topic26\", \"Topic26\", \"Topic26\", \"Topic26\", \"Topic26\", \"Topic26\", \"Topic26\", \"Topic26\", \"Topic26\", \"Topic26\", \"Topic26\", \"Topic26\", \"Topic26\", \"Topic26\", \"Topic26\", \"Topic26\", \"Topic26\", \"Topic26\", \"Topic26\", \"Topic26\", \"Topic26\", \"Topic26\", \"Topic26\", \"Topic26\", \"Topic26\", \"Topic26\", \"Topic27\", \"Topic27\", \"Topic27\", \"Topic27\", \"Topic27\", \"Topic27\", \"Topic27\", \"Topic27\", \"Topic27\", \"Topic27\", \"Topic27\", \"Topic27\", \"Topic27\", \"Topic27\", \"Topic27\", \"Topic27\", \"Topic27\", \"Topic27\", \"Topic27\", \"Topic27\", \"Topic27\", \"Topic27\", \"Topic27\", \"Topic27\", \"Topic27\", \"Topic27\", \"Topic27\", \"Topic27\", \"Topic27\", \"Topic27\", \"Topic27\", \"Topic27\", \"Topic27\", \"Topic27\", \"Topic27\", \"Topic27\", \"Topic27\", \"Topic27\", \"Topic27\", \"Topic27\", \"Topic27\", \"Topic27\", \"Topic27\", \"Topic27\", \"Topic28\", \"Topic28\", \"Topic28\", \"Topic28\", \"Topic28\", \"Topic28\", \"Topic28\", \"Topic28\", \"Topic28\", \"Topic28\", \"Topic28\", \"Topic28\", \"Topic28\", \"Topic28\", \"Topic28\", \"Topic28\", \"Topic28\", \"Topic28\", \"Topic28\", \"Topic28\", \"Topic28\", \"Topic28\", \"Topic28\", \"Topic28\", \"Topic28\", \"Topic28\", \"Topic28\", \"Topic28\", \"Topic28\", \"Topic28\", \"Topic28\", \"Topic28\", \"Topic28\", \"Topic28\", \"Topic28\", \"Topic28\", \"Topic28\", \"Topic28\", \"Topic28\", \"Topic28\", \"Topic28\", \"Topic28\", \"Topic28\", \"Topic28\", \"Topic28\", \"Topic28\", \"Topic28\", \"Topic28\", \"Topic29\", \"Topic29\", \"Topic29\", \"Topic29\", \"Topic29\", \"Topic29\", \"Topic29\", \"Topic29\", \"Topic29\", \"Topic29\", \"Topic29\", \"Topic29\", \"Topic29\", \"Topic29\", \"Topic29\", \"Topic29\", \"Topic29\", \"Topic29\", \"Topic29\", \"Topic29\", \"Topic29\", \"Topic29\", \"Topic29\", \"Topic29\", \"Topic29\", \"Topic29\", \"Topic29\", \"Topic29\", \"Topic29\", \"Topic29\", \"Topic29\", \"Topic29\", \"Topic29\", \"Topic29\", \"Topic29\", \"Topic29\", \"Topic29\", \"Topic29\", \"Topic29\", \"Topic29\", \"Topic29\", \"Topic29\", \"Topic29\", \"Topic29\", \"Topic29\", \"Topic29\", \"Topic29\", \"Topic29\", \"Topic30\", \"Topic30\", \"Topic30\", \"Topic30\", \"Topic30\", \"Topic30\", \"Topic30\", \"Topic30\", \"Topic30\", \"Topic30\", \"Topic30\", \"Topic30\", \"Topic30\", \"Topic30\", \"Topic30\", \"Topic30\", \"Topic30\", \"Topic30\", \"Topic30\", \"Topic30\", \"Topic30\", \"Topic30\", \"Topic30\", \"Topic30\", \"Topic30\", \"Topic30\", \"Topic30\", \"Topic30\", \"Topic30\", \"Topic30\", \"Topic30\", \"Topic30\", \"Topic30\", \"Topic30\", \"Topic30\", \"Topic30\", \"Topic30\", \"Topic30\", \"Topic30\", \"Topic30\", \"Topic30\", \"Topic30\", \"Topic30\", \"Topic30\", \"Topic30\", \"Topic30\", \"Topic30\", \"Topic30\"], \"logprob\": [30.0, 29.0, 28.0, 27.0, 26.0, 25.0, 24.0, 23.0, 22.0, 21.0, 20.0, 19.0, 18.0, 17.0, 16.0, 15.0, 14.0, 13.0, 12.0, 11.0, 10.0, 9.0, 8.0, 7.0, 6.0, 5.0, 4.0, 3.0, 2.0, 1.0, -0.0746, -4.2233, -12.2556, -12.2556, -12.2556, -12.2556, -12.2556, -12.2556, -12.2556, -12.2556, -12.2556, -12.2556, -12.2556, -12.2556, -12.2556, -12.2556, -12.2556, -12.2556, -12.2556, -12.2556, -12.2556, -12.2556, -12.2556, -12.2556, -12.2556, -12.2556, -12.2556, -12.2556, -12.2556, -12.2556, -12.2556, -12.2556, -12.2556, -12.2556, -12.2556, -12.2556, -12.2556, -12.2556, -12.2556, -12.2556, -12.2556, -12.2556, -12.2556, -1.8268, -1.8684, -1.9589, -2.0284, -2.3072, -3.1454, -3.4169, -3.5413, -3.5707, -3.6161, -3.737, -3.804, -4.0187, -4.1192, -4.7943, -6.5551, -12.163, -12.163, -12.163, -12.163, -12.163, -12.163, -12.163, -12.163, -12.163, -12.163, -12.163, -12.163, -12.163, -12.163, -12.163, -12.163, -12.163, -12.163, -12.163, -12.163, -0.8139, -2.2553, -2.2917, -2.3893, -2.7181, -2.9595, -3.5649, -3.6277, -4.4797, -5.3848, -12.0446, -12.0446, -12.0446, -12.0446, -12.0446, -12.0446, -12.0446, -12.0446, -12.0446, -12.0446, -12.0446, -12.0446, -12.0446, -12.0446, -12.0446, -12.0446, -12.0446, -12.0446, -12.0446, -12.0446, -12.0446, -12.0446, -12.0446, -12.0446, -12.0446, -12.0446, -12.0446, -12.0446, -12.0446, -1.7351, -1.8988, -2.1417, -2.1425, -2.5421, -2.9354, -3.3121, -3.4373, -3.515, -3.8212, -3.8695, -3.909, -4.0676, -4.0705, -4.3788, -4.4049, -5.0932, -11.9066, -11.9066, -11.9066, -11.9066, -11.9066, -11.9066, -11.9066, -11.9066, -11.9066, -11.9066, -11.9066, -11.9066, -11.9066, -11.9066, -11.9066, -11.9066, -11.9066, -11.9066, -11.9066, -11.9066, -1.391, -1.4708, -1.9635, -2.3855, -2.8321, -3.0753, -3.4553, -3.7569, -4.0241, -4.3476, -4.3772, -11.8513, -11.8513, -11.8513, -11.8513, -11.8513, -11.8513, -11.8513, -11.8513, -11.8513, -11.8513, -11.8513, -11.8513, -11.8513, -11.8513, -11.8513, -11.8513, -11.8513, -11.8513, -11.8513, -11.8513, -11.8513, -11.8513, -11.8513, -11.8513, -11.8513, -11.8513, -11.8513, -11.8513, -11.8513, -11.8513, -0.7629, -1.3677, -2.6523, -3.1397, -3.2171, -3.8263, -5.2092, -11.7182, -11.7182, -11.7182, -11.7182, -11.7182, -11.7182, -11.7182, -11.7182, -11.7182, -11.7182, -11.7182, -11.7182, -11.7182, -11.7182, -11.7182, -11.7182, -11.7182, -11.7182, -11.7182, -11.7182, -11.7182, -11.7182, -11.7182, -11.7182, -11.7182, -11.7182, -11.7182, -11.7182, -11.7182, -11.7182, -11.7182, -11.7182, -11.7182, -11.7182, -11.7182, -1.1278, -2.095, -2.2989, -2.4494, -2.7498, -2.8573, -2.9287, -3.2251, -3.3752, -3.9287, -11.7167, -11.7167, -11.7167, -11.7167, -11.7167, -11.7167, -11.7167, -11.7167, -11.7167, -11.7167, -11.7167, -11.7167, -11.7167, -11.7167, -11.7167, -11.7167, -11.7167, -11.7167, -11.7167, -11.7167, -11.7167, -11.7167, -11.7167, -11.7167, -11.7167, -11.7167, -11.7167, -11.7167, -11.7167, -11.7167, -11.7167, -11.7167, -1.2424, -1.4649, -1.9345, -2.1592, -2.1924, -4.2839, -11.7498, -11.7498, -11.7498, -11.7498, -11.7498, -11.7498, -11.7498, -11.7498, -11.7498, -11.7498, -11.7498, -11.7498, -11.7498, -11.7498, -11.7498, -11.7498, -11.7498, -11.7498, -11.7498, -11.7498, -11.7498, -11.7498, -11.7498, -11.7498, -11.7498, -11.7498, -11.7498, -11.7498, -11.7498, -11.7498, -11.7498, -11.7498, -11.7498, -11.7498, -11.7498, -11.7498, -1.1445, -1.4817, -2.0679, -2.0811, -2.8855, -3.2598, -4.6683, -11.7018, -11.7018, -11.7018, -11.7018, -11.7018, -11.7018, -11.7018, -11.7018, -11.7018, -11.7018, -11.7018, -11.7018, -11.7018, -11.7018, -11.7018, -11.7018, -11.7018, -11.7018, -11.7018, -11.7018, -11.7018, -11.7018, -11.7018, -11.7018, -11.7018, -11.7018, -11.7018, -11.7018, -11.7018, -11.7018, -11.7018, -11.7018, -11.7018, -11.7018, -11.7018, -1.1511, -2.1275, -2.3112, -2.5375, -2.5726, -3.107, -3.4967, -3.5103, -3.5605, -3.7111, -3.8229, -4.3252, -4.7378, -11.6158, -11.6158, -11.6158, -11.6158, -11.6158, -11.6158, -11.6158, -11.6158, -11.6158, -11.6158, -11.6158, -11.6158, -11.6158, -11.6158, -11.6158, -11.6158, -11.6158, -11.6158, -11.6158, -11.6158, -11.6158, -11.6158, -11.6158, -11.6158, -11.6158, -11.6158, -1.0019, -1.3256, -2.3146, -2.5288, -2.967, -3.5886, -11.6057, -11.6057, -11.6057, -11.6057, -11.6057, -11.6057, -11.6057, -11.6057, -11.6057, -11.6057, -11.6057, -11.6057, -11.6057, -11.6057, -11.6057, -11.6057, -11.6057, -11.6057, -11.6057, -11.6057, -11.6057, -11.6057, -11.6057, -11.6057, -11.6057, -11.6057, -11.6057, -11.6057, -11.6057, -11.6057, -11.6057, -11.6057, -11.6057, -11.6057, -11.6057, -1.3642, -1.6016, -1.9059, -2.032, -2.5734, -2.7904, -11.4705, -11.4705, -11.4705, -11.4705, -11.4705, -11.4705, -11.4705, -11.4705, -11.4705, -11.4705, -11.4705, -11.4705, -11.4705, -11.4705, -11.4705, -11.4705, -11.4705, -11.4705, -11.4705, -11.4705, -11.4705, -11.4705, -11.4705, -11.4705, -11.4705, -11.4705, -11.4705, -11.4705, -11.4705, -11.4705, -11.4705, -11.4705, -11.4705, -11.4705, -11.4705, -11.4705, -11.4705, -0.9583, -1.6753, -2.2105, -2.2871, -3.2472, -3.7641, -3.9431, -4.241, -11.4967, -11.4967, -11.4967, -11.4967, -11.4967, -11.4967, -11.4967, -11.4967, -11.4967, -11.4967, -11.4967, -11.4967, -11.4967, -11.4967, -11.4967, -11.4967, -11.4967, -11.4967, -11.4967, -11.4967, -11.4967, -11.4967, -11.4967, -11.4967, -11.4967, -11.4967, -11.4967, -11.4967, -11.4967, -11.4967, -11.4967, -11.4967, -11.4967, -11.4967, -0.4664, -2.0956, -2.4359, -3.3676, -3.8183, -11.6406, -11.6406, -11.6406, -11.6406, -11.6406, -11.6406, -11.6406, -11.6406, -11.6406, -11.6406, -11.6406, -11.6406, -11.6406, -11.6406, -11.6406, -11.6406, -11.6406, -11.6406, -11.6406, -11.6406, -11.6406, -11.6406, -11.6406, -11.6406, -11.6406, -11.6406, -11.6406, -11.6406, -11.6406, -11.6406, -11.6406, -11.6406, -11.6406, -11.6406, -11.6406, -11.6406, -11.6406, -1.0392, -1.1198, -2.5492, -2.8122, -3.0108, -5.6356, -11.443, -11.443, -11.443, -11.443, -11.443, -11.443, -11.443, -11.443, -11.443, -11.443, -11.443, -11.443, -11.443, -11.443, -11.443, -11.443, -11.443, -11.443, -11.443, -11.443, -11.443, -11.443, -11.443, -11.443, -11.443, -11.443, -11.443, -11.443, -11.443, -11.443, -11.443, -11.443, -11.443, -11.443, -11.443, -11.443, -11.443, -1.0503, -2.0369, -2.1208, -2.5879, -2.6357, -3.153, -3.2238, -11.1636, -11.1636, -11.1636, -11.1636, -11.1636, -11.1636, -11.1636, -11.1636, -11.1636, -11.1636, -11.1636, -11.1636, -11.1636, -11.1636, -11.1636, -11.1636, -11.1636, -11.1636, -11.1636, -11.1636, -11.1636, -11.1636, -11.1636, -11.1636, -11.1636, -11.1636, -11.1636, -11.1636, -11.1636, -11.1636, -11.1636, -11.1636, -11.1636, -11.1636, -11.1636, -1.3284, -1.6464, -1.8324, -2.0912, -3.0393, -3.5619, -4.2125, -4.5085, -11.2475, -11.2475, -11.2475, -11.2475, -11.2475, -11.2475, -11.2475, -11.2475, -11.2475, -11.2475, -11.2475, -11.2475, -11.2475, -11.2475, -11.2475, -11.2475, -11.2475, -11.2475, -11.2475, -11.2475, -11.2475, -11.2475, -11.2475, -11.2475, -11.2475, -11.2475, -11.2475, -11.2475, -11.2475, -11.2475, -11.2475, -11.2475, -11.2475, -11.2475, -1.3328, -1.8089, -1.8394, -2.425, -2.8933, -3.3148, -3.4794, -3.5787, -11.1395, -11.1395, -11.1395, -11.1395, -11.1395, -11.1395, -11.1395, -11.1395, -11.1395, -11.1395, -11.1395, -11.1395, -11.1395, -11.1395, -11.1395, -11.1395, -11.1395, -11.1395, -11.1395, -11.1395, -11.1395, -11.1395, -11.1395, -11.1395, -11.1395, -11.1395, -11.1395, -11.1395, -11.1395, -11.1395, -11.1395, -11.1395, -11.1395, -11.1395, -1.3791, -1.6033, -1.9114, -2.0662, -3.0893, -3.3352, -11.0485, -11.0485, -11.0485, -11.0485, -11.0485, -11.0485, -11.0485, -11.0485, -11.0485, -11.0485, -11.0485, -11.0485, -11.0485, -11.0485, -11.0485, -11.0485, -11.0485, -11.0485, -11.0485, -11.0485, -11.0485, -11.0485, -11.0485, -11.0485, -11.0485, -11.0485, -11.0485, -11.0485, -11.0485, -11.0485, -11.0485, -11.0485, -11.0485, -11.0485, -11.0485, -11.0485, -11.0485, -0.7243, -1.9561, -2.5295, -3.0856, -3.7966, -4.3047, -10.9427, -10.9427, -10.9427, -10.9427, -10.9427, -10.9427, -10.9427, -10.9427, -10.9427, -10.9427, -10.9427, -10.9427, -10.9427, -10.9427, -10.9427, -10.9427, -10.9427, -10.9427, -10.9427, -10.9427, -10.9427, -10.9427, -10.9427, -10.9427, -10.9427, -10.9427, -10.9427, -10.9427, -10.9427, -10.9427, -10.9427, -10.9427, -10.9427, -10.9427, -10.9427, -10.9427, -1.4598, -1.7308, -2.0026, -2.1427, -3.0906, -3.2779, -5.4382, -10.7777, -10.7777, -10.7777, -10.7777, -10.7777, -10.7777, -10.7777, -10.7777, -10.7777, -10.7777, -10.7777, -10.7777, -10.7777, -10.7777, -10.7777, -10.7777, -10.7777, -10.7777, -10.7777, -10.7777, -10.7777, -10.7777, -10.7777, -10.7777, -10.7777, -10.7777, -10.7777, -10.7777, -10.7777, -10.7777, -10.7777, -10.7777, -10.7777, -10.7777, -10.7777, -1.3469, -1.8, -1.9644, -2.45, -2.7143, -10.6608, -10.6608, -10.6608, -10.6608, -10.6608, -10.6608, -10.6608, -10.6608, -10.6608, -10.6608, -10.6608, -10.6608, -10.6608, -10.6608, -10.6608, -10.6608, -10.6608, -10.6608, -10.6608, -10.6608, -10.6608, -10.6608, -10.6608, -10.6608, -10.6608, -10.6608, -10.6608, -10.6608, -10.6608, -10.6608, -10.6608, -10.6608, -10.6608, -10.6608, -10.6608, -10.6608, -10.6608, -10.6608, -0.9142, -1.5417, -2.2576, -10.6656, -10.6656, -10.6656, -10.6656, -10.6656, -10.6656, -10.6656, -10.6656, -10.6656, -10.6656, -10.6656, -10.6656, -10.6656, -10.6656, -10.6656, -10.6656, -10.6656, -10.6656, -10.6656, -10.6656, -10.6656, -10.6656, -10.6656, -10.6656, -10.6656, -10.6656, -10.6656, -10.6656, -10.6656, -10.6656, -10.6656, -10.6656, -10.6656, -10.6656, -10.6656, -10.6656, -10.6656, -10.6656, -10.6656, -10.6656, -10.6656, -10.6656, -10.6656, -0.9777, -1.6248, -1.8722, -10.6926, -10.6926, -10.6926, -10.6926, -10.6926, -10.6926, -10.6926, -10.6926, -10.6926, -10.6926, -10.6926, -10.6926, -10.6926, -10.6926, -10.6926, -10.6926, -10.6926, -10.6926, -10.6926, -10.6926, -10.6926, -10.6926, -10.6926, -10.6926, -10.6926, -10.6926, -10.6926, -10.6926, -10.6926, -10.6926, -10.6926, -10.6926, -10.6926, -10.6926, -10.6926, -10.6926, -10.6926, -10.6926, -10.6926, -10.6926, -10.6926, -10.6926, -0.6165, -2.3121, -10.4132, -10.4132, -10.4132, -10.4132, -10.4132, -10.4132, -10.4132, -10.4132, -10.4132, -10.4132, -10.4132, -10.4132, -10.4132, -10.4132, -10.4132, -10.4132, -10.4132, -10.4132, -10.4132, -10.4132, -10.4132, -10.4132, -10.4132, -10.4132, -10.4132, -10.4132, -10.4132, -10.4132, -10.4132, -10.4132, -10.4132, -10.4132, -10.4132, -10.4132, -10.4132, -10.4132, -10.4132, -10.4132, -10.4132, -10.4132, -10.4132, -10.4132, -10.4132, -10.4132, -0.8912, -1.9827, -10.1884, -10.1884, -10.1884, -10.1884, -10.1884, -10.1884, -10.1884, -10.1884, -10.1884, -10.1884, -10.1884, -10.1884, -10.1884, -10.1884, -10.1884, -10.1884, -10.1884, -10.1884, -10.1884, -10.1884, -10.1884, -10.1884, -10.1884, -10.1884, -10.1884, -10.1884, -10.1884, -10.1884, -10.1884, -10.1884, -10.1884, -10.1884, -10.1884, -10.1884, -10.1884, -10.1884, -10.1884, -10.1884, -10.1884, -10.1884, -10.1884, -10.1884, -10.1884, -1.4259, -1.9636, -3.777, -9.9113, -9.9113, -9.9113, -9.9113, -9.9113, -9.9113, -9.9113, -9.9113, -9.9113, -9.9113, -9.9113, -9.9113, -9.9113, -9.9113, -9.9113, -9.9113, -9.9113, -9.9113, -9.9113, -9.9113, -9.9113, -9.9113, -9.9113, -9.9113, -9.9113, -9.9113, -9.9113, -9.9113, -9.9113, -9.9113, -9.9113, -9.9113, -9.9113, -9.9113, -9.9113, -9.9113, -9.9113, -9.9113, -9.9113, -9.9113, -9.9113, -9.3948, -9.3948, -9.3948, -9.3948, -9.3948, -9.3948, -9.3948, -9.3948, -9.3948, -9.3948, -9.3948, -9.3948, -9.3948, -9.3948, -9.3948, -9.3948, -9.3948, -9.3948, -9.3948, -9.3948, -9.3948, -9.3948, -9.3948, -9.3948, -9.3948, -9.3948, -9.3948, -9.3948, -9.3948, -9.3948, -9.3948, -9.3948, -9.3948, -9.3948, -9.3948, -9.3948, -9.3948, -9.3948, -9.3948, -9.3948, -9.3948, -9.3948, -9.3948, -9.3948, -9.3948, -9.3948, -9.3948, -9.3948, -9.3948, -9.3948, -9.3948, -9.3948, -9.3948, -9.3948, -9.3948, -9.3948, -9.3948, -9.3948, -9.3948, -9.3948, -9.3948, -9.3948, -9.3948, -9.3948, -9.3948, -9.3948, -9.3948, -9.3948, -9.3948, -9.3948, -9.3948, -9.3948, -9.3948, -9.3948, -9.3948, -9.3948, -9.3948, -9.3948, -9.3948, -9.3948, -9.3948, -9.3948, -9.3948, -9.3948, -9.3948, -9.3948, -9.3948, -9.3948, -9.3948, -9.3948, -9.3948, -9.3948, -9.3948, -9.3948, -9.3948, -9.3948, -9.3948, -9.3948, -9.3948, -9.3948, -9.3948, -9.3948, -9.3948, -9.3948, -9.3948, -9.3948, -9.3948, -9.3948, -9.3948, -9.3948, -9.3948, -9.3948, -9.3948, -9.3948, -9.3948, -9.3948, -9.3948, -9.3948, -9.3948, -9.3948, -9.3948, -9.3948, -9.3948, -9.3948, -9.3948, -9.3948, -9.3948, -9.3948, -9.3948, -9.3948, -9.3948, -9.3948, -9.3948, -9.3948, -9.3948, -9.3948, -9.3948, -9.3948, -9.3948, -9.3948, -9.3948, -9.3948, -9.3948, -9.3948], \"loglift\": [30.0, 29.0, 28.0, 27.0, 26.0, 25.0, 24.0, 23.0, 22.0, 21.0, 20.0, 19.0, 18.0, 17.0, 16.0, 15.0, 14.0, 13.0, 12.0, 11.0, 10.0, 9.0, 8.0, 7.0, 6.0, 5.0, 4.0, 3.0, 2.0, 1.0, 2.4096, 2.4025, -0.7386, -0.7386, -0.7386, -0.7386, -0.7386, -0.7386, -0.7386, -0.7386, -0.7386, -0.7386, -0.7386, -0.7386, -0.7386, -0.7386, -0.7386, -0.7386, -0.7386, -0.7386, -0.7386, -0.7386, -0.7386, -0.7386, -0.7386, -0.7386, -0.7386, -0.7386, -0.7386, -0.7386, -4.8645, -2.7892, -5.0184, -6.5193, -5.404, -7.1068, -8.099, -7.9965, -6.9778, -7.7756, -6.5744, -6.788, -6.8134, 2.4862, 2.4862, 2.4861, 2.486, 2.4857, 2.4842, 2.4834, 2.4829, 2.4828, 2.4826, 2.4821, 2.4818, 2.4805, 2.4799, 2.4731, 2.4095, -0.6459, -0.6459, -0.6459, -0.6459, -0.6459, -0.6459, -0.6459, -0.6459, -0.6459, -0.6459, -0.6459, -0.6459, -0.6459, -0.6459, -4.7719, -2.6965, -4.9258, -6.4267, -5.3114, -7.0142, 2.6229, 2.622, 2.6219, 2.6218, 2.6212, 2.6207, 2.6186, 2.6183, 2.6117, 2.595, -0.5276, -0.5276, -0.5276, -0.5276, -0.5276, -0.5276, -0.5276, -0.5276, -0.5276, -0.5276, -0.5276, -0.5276, -0.5276, -0.5276, -0.5276, -0.5276, -0.5276, -0.5276, -0.5276, -0.5276, -4.6536, -2.5782, -4.8075, -6.3083, -5.1931, -6.8959, -7.8881, -7.7856, -6.7669, 2.828, 2.8278, 2.8275, 2.8275, 2.8268, 2.8258, 2.8245, 2.8239, 2.8235, 2.8215, 2.8212, 2.8208, 2.8195, 2.8194, 2.8161, 2.8157, 2.8029, -0.3896, -0.3896, -0.3896, -0.3896, -0.3896, -0.3896, -0.3896, -0.3896, -0.3896, -0.3896, -0.3896, -0.3896, -0.3896, -4.5155, -2.4402, -4.6695, -6.1703, -5.055, -6.7578, -7.7501, 2.8935, 2.8934, 2.8929, 2.8923, 2.8912, 2.8904, 2.8887, 2.8868, 2.8845, 2.8809, 2.8805, -0.3343, -0.3343, -0.3343, -0.3343, -0.3343, -0.3343, -0.3343, -0.3343, -0.3343, -0.3343, -0.3343, -0.3343, -0.3343, -0.3343, -0.3343, -0.3343, -0.3343, -0.3343, -0.3343, -4.4602, -2.3849, -4.6142, -6.115, -4.9997, -6.7025, -7.6948, -7.5923, -7.3713, -6.1701, -6.3838, 2.9137, 2.9134, 2.9116, 2.9101, 2.9097, 2.9061, 2.8825, -0.2012, -0.2012, -0.2012, -0.2012, -0.2012, -0.2012, -0.2012, -0.2012, -0.2012, -0.2012, -0.2012, -0.2012, -0.2012, -0.2012, -0.2012, -0.2012, -0.2012, -0.2012, -0.2012, -0.2012, -0.2012, -0.2012, -0.2012, -4.3271, -2.2518, -4.4811, -5.9819, -4.8666, -6.5694, -7.5617, -7.4592, -6.4404, -7.2382, -6.037, -6.2507, 2.9279, 2.927, 2.9267, 2.9264, 2.9257, 2.9253, 2.9251, 2.924, 2.9233, 2.9194, -0.1997, -0.1997, -0.1997, -0.1997, -0.1997, -0.1997, -0.1997, -0.1997, -0.1997, -0.1997, -0.1997, -0.1997, -0.1997, -0.1997, -0.1997, -0.1997, -0.1997, -0.1997, -0.1997, -0.1997, -4.3256, -2.2503, -4.4796, -5.9804, -4.8651, -6.5679, -7.5602, -7.4577, -6.4389, -7.2367, -6.0355, -6.2491, 3.0142, 3.014, 3.0135, 3.0131, 3.0131, 3.0008, -0.2328, -0.2328, -0.2328, -0.2328, -0.2328, -0.2328, -0.2328, -0.2328, -0.2328, -0.2328, -0.2328, -0.2328, -0.2328, -0.2328, -0.2328, -0.2328, -0.2328, -0.2328, -0.2328, -0.2328, -0.2328, -0.2328, -0.2328, -0.2328, -4.3587, -2.2834, -4.5126, -6.0135, -4.8982, -6.601, -7.5932, -7.4907, -6.472, -7.2698, -6.0686, -6.2822, 3.0428, 3.0425, 3.0418, 3.0418, 3.0398, 3.0382, 3.0223, -0.1847, -0.1847, -0.1847, -0.1847, -0.1847, -0.1847, -0.1847, -0.1847, -0.1847, -0.1847, -0.1847, -0.1847, -0.1847, -0.1847, -0.1847, -0.1847, -0.1847, -0.1847, -0.1847, -0.1847, -0.1847, -0.1847, -0.1847, -4.3107, -2.2353, -4.4646, -5.9655, -4.8502, -6.553, -7.5452, -7.4427, -6.424, -7.2218, -6.0206, -6.2342, 3.1079, 3.1068, 3.1064, 3.1059, 3.1058, 3.1038, 3.1016, 3.1015, 3.1011, 3.0999, 3.0989, 3.0926, 3.0845, -0.0987, -0.0987, -0.0987, -0.0987, -0.0987, -0.0987, -0.0987, -0.0987, -0.0987, -0.0987, -0.0987, -0.0987, -0.0987, -0.0987, -0.0987, -0.0987, -0.0987, -4.2247, -2.1493, -4.3786, -5.8795, -4.7642, -6.467, -7.4592, -6.338, -7.1358, 3.1546, 3.1544, 3.1529, 3.1524, 3.1508, 3.1471, -0.0887, -0.0887, -0.0887, -0.0887, -0.0887, -0.0887, -0.0887, -0.0887, -0.0887, -0.0887, -0.0887, -0.0887, -0.0887, -0.0887, -0.0887, -0.0887, -0.0887, -0.0887, -0.0887, -0.0887, -0.0887, -0.0887, -0.0887, -0.0887, -4.2146, -2.1393, -4.3686, -5.8694, -4.7541, -6.4569, -7.3466, -6.3279, -6.1635, -7.0489, -6.6921, 3.2397, 3.2394, 3.239, 3.2388, 3.2374, 3.2367, 0.0465, 0.0465, 0.0465, 0.0465, 0.0465, 0.0465, 0.0465, 0.0465, 0.0465, 0.0465, 0.0465, 0.0465, 0.0465, 0.0465, 0.0465, 0.0465, 0.0465, 0.0465, 0.0465, 0.0465, 0.0465, 0.0465, 0.0465, 0.0465, -4.0794, -2.0041, -4.2334, -5.7342, -4.6189, -6.3217, -7.314, -7.2115, -6.1927, -6.9905, -5.7893, -6.003, -6.0284, 3.2499, 3.2493, 3.2483, 3.2482, 3.2443, 3.24, 3.2379, 3.2336, 0.0204, 0.0204, 0.0204, 0.0204, 0.0204, 0.0204, 0.0204, 0.0204, 0.0204, 0.0204, 0.0204, 0.0204, 0.0204, 0.0204, 0.0204, 0.0204, 0.0204, 0.0204, 0.0204, 0.0204, 0.0204, 0.0204, -4.1056, -2.0302, -4.2595, -5.7604, -4.6451, -6.3479, -7.3401, -7.2376, -6.2189, -7.0167, -5.8155, -6.0291, 3.3029, 3.3012, 3.3004, 3.2958, 3.2915, -0.1235, -0.1235, -0.1235, -0.1235, -0.1235, -0.1235, -0.1235, -0.1235, -0.1235, -0.1235, -0.1235, -0.1235, -0.1235, -0.1235, -0.1235, -0.1235, -0.1235, -0.1235, -0.1235, -0.1235, -0.1235, -0.1235, -0.1235, -0.1235, -0.1235, -4.2495, -2.1741, -4.4034, -4.789, -6.4918, -7.484, -7.3815, -6.3628, -7.1606, -5.9594, -6.173, -6.1984, 3.3687, 3.3686, 3.3659, 3.3648, 3.3638, 3.2943, 0.074, 0.074, 0.074, 0.074, 0.074, 0.074, 0.074, 0.074, 0.074, 0.074, 0.074, 0.074, 0.074, 0.074, 0.074, 0.074, 0.074, 0.074, 0.074, 0.074, 0.074, 0.074, 0.074, 0.074, -4.0519, -1.9766, -4.2059, -5.7067, -4.5914, -6.2943, -7.2865, -7.184, -6.1653, -6.963, -5.7618, -5.9755, -6.0009, 3.5064, 3.5049, 3.5047, 3.5031, 3.5029, 3.4999, 3.4994, 0.3534, 0.3534, 0.3534, 0.3534, 0.3534, 0.3534, 0.3534, 0.3534, 0.3534, 0.3534, 0.3534, 0.3534, 0.3534, 0.3534, 0.3534, 0.3534, 0.3534, 0.3534, 0.3534, 0.3534, 0.3534, 0.3534, 0.3534, -3.7726, -1.6972, -3.9265, -5.4273, -4.3121, -6.0149, -7.0071, -6.9046, -5.8859, -6.6836, -5.4825, -5.6961, 3.6094, 3.6089, 3.6085, 3.6078, 3.6033, 3.5983, 3.587, 3.579, 0.2696, 0.2696, 0.2696, 0.2696, 0.2696, 0.2696, 0.2696, 0.2696, 0.2696, 0.2696, 0.2696, 0.2696, 0.2696, 0.2696, 0.2696, 0.2696, 0.2696, 0.2696, 0.2696, 0.2696, 0.2696, 0.2696, -3.8564, -1.781, -4.0103, -5.5112, -4.3959, -6.0987, -7.0909, -6.9884, -5.9697, -6.7675, -5.5663, -5.7799, 3.7049, 3.704, 3.7039, 3.702, 3.6993, 3.6957, 3.6938, 3.6925, 0.3776, 0.3776, 0.3776, 0.3776, 0.3776, 0.3776, 0.3776, 0.3776, 0.3776, 0.3776, 0.3776, 0.3776, 0.3776, 0.3776, 0.3776, 0.3776, 0.3776, 0.3776, 0.3776, 0.3776, 0.3776, 0.3776, -3.7484, -1.673, -3.9023, -5.4032, -4.2879, -5.9907, -6.9829, -6.8804, -5.8617, -6.6595, -5.4583, -5.6719, 3.7697, 3.7693, 3.7685, 3.7681, 3.7622, 3.7597, 0.4686, 0.4686, 0.4686, 0.4686, 0.4686, 0.4686, 0.4686, 0.4686, 0.4686, 0.4686, 0.4686, 0.4686, 0.4686, 0.4686, 0.4686, 0.4686, 0.4686, 0.4686, 0.4686, 0.4686, 0.4686, 0.4686, 0.4686, 0.4686, -3.6574, -1.582, -3.8113, -5.3122, -6.8919, -6.7894, -5.7707, -6.5685, -5.3673, -5.5809, -5.6063, -6.4917, -6.1349, 3.9362, 3.9338, 3.9311, 3.9265, 3.9155, 3.9014, 0.5743, 0.5743, 0.5743, 0.5743, 0.5743, 0.5743, 0.5743, 0.5743, 0.5743, 0.5743, 0.5743, 0.5743, 0.5743, 0.5743, 0.5743, 0.5743, 0.5743, 0.5743, 0.5743, 0.5743, 0.5743, 0.5743, 0.5743, 0.5743, -3.5517, -1.4763, -3.7056, -5.2065, -4.0912, -5.794, -6.7862, -6.6837, -5.665, -6.4627, -5.2616, -5.4752, 4.1263, 4.1255, 4.1245, 4.1238, 4.1158, 4.1132, 4.0001, 0.7394, 0.7394, 0.7394, 0.7394, 0.7394, 0.7394, 0.7394, 0.7394, 0.7394, 0.7394, 0.7394, 0.7394, 0.7394, 0.7394, 0.7394, 0.7394, 0.7394, 0.7394, 0.7394, 0.7394, 0.7394, 0.7394, 0.7394, -1.3112, -3.5405, -5.0414, -3.9261, -5.6289, -6.6211, -6.5186, -5.4999, -6.2977, -5.0965, -5.3101, -5.3355, 4.2265, 4.2251, 4.2244, 4.2214, 4.2192, 0.8563, 0.8563, 0.8563, 0.8563, 0.8563, 0.8563, 0.8563, 0.8563, 0.8563, 0.8563, 0.8563, 0.8563, 0.8563, 0.8563, 0.8563, 0.8563, 0.8563, 0.8563, 0.8563, 0.8563, 0.8563, 0.8563, 0.8563, 0.8563, 0.8563, -3.2697, -1.1943, -3.4236, -4.9245, -3.8092, -5.512, -6.5042, -6.4017, -5.383, -6.1808, -4.9796, -5.1932, -5.2186, 4.2987, 4.2972, 4.2937, 0.8514, 0.8514, 0.8514, 0.8514, 0.8514, 0.8514, 0.8514, 0.8514, 0.8514, 0.8514, 0.8514, 0.8514, 0.8514, 0.8514, 0.8514, 0.8514, 0.8514, 0.8514, 0.8514, 0.8514, 0.8514, 0.8514, 0.8514, 0.8514, 0.8514, 0.8514, 0.8514, -3.2746, -1.1992, -3.4285, -4.9293, -3.8141, -5.5169, -6.5091, -6.4066, -5.3879, -6.1856, -4.9845, -5.1981, -5.2235, -6.1088, -5.7521, -3.9299, 4.4026, 4.4006, 4.3995, 0.8244, 0.8244, 0.8244, 0.8244, 0.8244, 0.8244, 0.8244, 0.8244, 0.8244, 0.8244, 0.8244, 0.8244, 0.8244, 0.8244, 0.8244, 0.8244, 0.8244, 0.8244, 0.8244, 0.8244, 0.8244, 0.8244, 0.8244, 0.8244, 0.8244, 0.8244, 0.8244, -3.3015, -1.2262, -3.4555, -4.9563, -3.841, -5.5438, -6.5361, -6.4336, -5.4148, -6.2126, -5.0114, -5.225, -5.2504, -6.1358, -5.779, 4.8256, 4.8157, 1.1039, 1.1039, 1.1039, 1.1039, 1.1039, 1.1039, 1.1039, 1.1039, 1.1039, 1.1039, 1.1039, 1.1039, 1.1039, 1.1039, 1.1039, 1.1039, 1.1039, 1.1039, 1.1039, 1.1039, 1.1039, 1.1039, 1.1039, 1.1039, 1.1039, 1.1039, 1.1039, 1.1039, -3.0221, -0.9467, -3.176, -4.6769, -3.5616, -5.2644, -6.2566, -6.1541, -5.1354, -5.9332, -4.732, -4.9456, -5.8564, -5.4996, -3.6775, -7.929, 5.3703, 5.3602, 1.3286, 1.3286, 1.3286, 1.3286, 1.3286, 1.3286, 1.3286, 1.3286, 1.3286, 1.3286, 1.3286, 1.3286, 1.3286, 1.3286, 1.3286, 1.3286, 1.3286, 1.3286, 1.3286, 1.3286, 1.3286, 1.3286, 1.3286, 1.3286, 1.3286, 1.3286, 1.3286, 1.3286, -2.7973, -0.722, -2.9513, -4.4521, -3.3368, -5.0397, -6.0319, -5.9294, -4.9107, -5.7084, -4.5072, -4.7209, -4.7463, -5.6316, -5.2748, 5.8112, 5.8016, 5.6894, 1.6057, 1.6057, 1.6057, 1.6057, 1.6057, 1.6057, 1.6057, 1.6057, 1.6057, 1.6057, 1.6057, 1.6057, 1.6057, 1.6057, 1.6057, 1.6057, 1.6057, 1.6057, 1.6057, 1.6057, 1.6057, 1.6057, 1.6057, 1.6057, 1.6057, 1.6057, 1.6057, -2.5202, -4.175, -3.0597, -4.7625, -5.7548, -5.6523, -4.6335, -5.4313, -4.2301, -4.4437, -4.4691, -5.3545, -4.9977, -3.1756, 2.1222, 2.1222, 2.1222, 2.1222, 2.1222, 2.1222, 2.1222, 2.1222, 2.1222, 2.1222, 2.1222, 2.1222, 2.1222, 2.1222, 2.1222, 2.1222, 2.1222, 2.1222, 2.1222, 2.1222, 2.1222, 2.1222, 2.1222, 2.1222, 2.1222, 2.1222, 2.1222, 2.1222, 2.1222, 2.1222, -2.0037, 0.0716, -2.1577, -3.6585, -2.5432, -4.2461, -5.2383, -5.1358, -4.1171, -4.9148, -3.7137, -3.9273, -3.9527, -4.838, -4.4813, -2.6591, -2.2671, -6.9107, 2.1222, 2.1222, 2.1222, 2.1222, 2.1222, 2.1222, 2.1222, 2.1222, 2.1222, 2.1222, 2.1222, 2.1222, 2.1222, 2.1222, 2.1222, 2.1222, 2.1222, 2.1222, 2.1222, 2.1222, 2.1222, 2.1222, 2.1222, 2.1222, 2.1222, 2.1222, 2.1222, 2.1222, 2.1222, 2.1222, -2.0037, 0.0716, -2.1577, -3.6585, -2.5432, -4.2461, -5.2383, -5.1358, -4.1171, -4.9148, -3.7137, -3.9273, -3.9527, -4.838, -4.4813, -2.6591, -2.2671, -6.9107, 2.1222, 2.1222, 2.1222, 2.1222, 2.1222, 2.1222, 2.1222, 2.1222, 2.1222, 2.1222, 2.1222, 2.1222, 2.1222, 2.1222, 2.1222, 2.1222, 2.1222, 2.1222, 2.1222, 2.1222, 2.1222, 2.1222, 2.1222, 2.1222, 2.1222, 2.1222, 2.1222, 2.1222, 2.1222, 2.1222, -2.0037, 0.0716, -2.1577, -3.6585, -2.5432, -4.2461, -5.2383, -5.1358, -4.1171, -4.9148, -3.7137, -3.9273, -3.9527, -4.838, -4.4813, -2.6591, -2.2671, -6.9107]}, \"token.table\": {\"Topic\": [2, 24, 2, 17, 3, 12, 2, 16, 4, 5, 10, 11, 13, 4, 7, 21, 21, 10, 3, 21, 12, 5, 4, 18, 11, 26, 18, 2, 4, 10, 15, 7, 7, 11, 5, 8, 2, 13, 4, 2, 10, 18, 17, 18, 9, 18, 20, 11, 11, 3, 10, 23, 14, 4, 9, 15, 10, 7, 14, 21, 17, 16, 12, 3, 19, 10, 15, 12, 8, 16, 5, 19, 6, 8, 10, 5, 3, 22, 2, 22, 4, 9, 19, 20, 17, 9, 4, 14, 6, 7, 13, 4, 16, 3, 5, 27, 5, 10, 22, 13, 4, 17, 10, 2, 2, 6, 10, 19, 24, 20, 2, 14, 21, 10, 20, 5, 4, 16, 11, 3, 2, 20, 9, 6, 23, 16, 3, 13, 13, 20, 10, 3, 4, 3, 25, 26, 17, 13, 22, 18, 9, 4, 4, 2, 15, 21, 18, 14, 1, 6, 25, 4, 6, 15, 4, 5, 16, 21, 23, 17, 17, 24, 7, 8, 7, 7, 18, 15, 2, 12, 2, 8, 2, 9, 5, 27, 2, 19, 4, 1, 22, 6, 19, 8, 5, 13, 27, 12, 7, 7], \"Freq\": [0.9867582518683965, 0.9975534432735237, 0.9992271048810139, 0.9979772500826443, 0.9973230783149606, 0.9987326139550271, 0.9993236872963472, 0.9993121589107085, 0.989360848084329, 0.9943592630293342, 0.9982918486048105, 0.9950642774613886, 0.9947590838906343, 0.9973074270910764, 0.9981604867430945, 0.996944436849843, 0.9957010265622974, 0.9829164622756331, 0.9985922822662971, 0.9874306881616688, 0.9988444932510483, 0.9991584745844544, 0.991634351858655, 0.9974479380047435, 0.999021020856965, 0.9941189319104692, 0.9913066383876277, 0.9989462417532602, 0.9984055700431208, 0.9819853168372832, 0.9950453640990302, 0.9959368188687214, 0.9959660329190211, 0.9974659255036754, 0.9970596776984431, 0.998120803375017, 0.9950462164501653, 0.9994416979500251, 0.9984641179190171, 0.9159733079618853, 0.9963598243098123, 0.9984859424899046, 0.9753713288220796, 0.983667526606041, 0.9993168564386619, 0.9915155926939156, 0.9738572426073575, 0.9975822498056023, 0.9938915467135468, 0.997551422269274, 0.9974091607904763, 0.9978458248215493, 0.997368717216291, 0.9691217501249875, 0.9837467338587621, 0.9947954010981375, 0.9924348170592061, 0.9930289148281882, 0.9995805722461863, 0.8825576719033785, 0.9888514302503488, 0.9956721484439639, 0.9961176812752662, 0.9997582765332969, 0.9885461493447445, 0.9994728277686434, 0.996518741037049, 0.9980134965731323, 0.9986743912059048, 0.9967206537092185, 0.9994078659275816, 0.9979723993005813, 0.9995537747111057, 0.9985525783423959, 0.9975357032151999, 0.9837730655986163, 0.9957512439692613, 0.9960232891373406, 0.9931865421317585, 0.9912040721475512, 0.9989150867253875, 0.9984991217241833, 0.9975115625691371, 0.9945276995580257, 0.971283034439148, 0.9954326583367518, 0.9919394529372058, 0.9977034010362567, 0.9951610656909169, 0.9975660318441925, 0.9850277745407564, 0.9919950535099826, 0.9932458872500101, 0.9944576533678956, 0.9929075633750024, 0.8472360602929752, 0.9892771594301037, 0.9907715121601717, 0.9901226903253346, 0.9986337698444173, 0.9991369067084674, 0.9988955958844264, 0.993473953591028, 0.9942940179831911, 0.9952646020282511, 0.9906463553121939, 0.9881359034988242, 0.991998740096932, 0.9944162968828623, 0.9991659326931692, 0.996887779716647, 0.9861314212524689, 0.9969633621706049, 0.9929831506164466, 0.9879512783670117, 0.9976798733213932, 0.9938026807775926, 0.9979903782522104, 0.9993036586355422, 0.9989012429934034, 0.995972608426897, 0.9610256594623979, 0.9983869638286414, 0.995422888606512, 0.9973266188527888, 0.991199117365658, 0.9906710374263686, 0.9974218198660063, 0.9904012569108375, 0.9970249393651038, 0.9975742510485246, 0.9986835944257472, 0.9965641243009082, 0.9715846673663926, 0.9865015331436743, 0.9844535390112344, 0.9972623759102922, 0.9976898755783354, 0.997949576693599, 0.9895883495760791, 0.9961917821517822, 0.9863632791445845, 0.9862551744120677, 0.9952219666757645, 0.9991490435887442, 0.9941786153984007, 0.9971398917951485, 0.990632305920886, 0.9928798611372208, 0.9970502085958122, 0.9974446861282206, 0.9985559850451448, 0.9642214956816096, 0.9991500955552369, 0.9911502703562541, 0.9974264322552747, 0.9963891847000934, 0.9851893673360953, 0.9937964975564675, 0.9918256660329193, 0.9972419562209622, 0.9963728413808373, 0.9960639232547148, 0.9991645531131862, 0.9983186279734276, 0.9985733334974447, 0.9955932220776118, 0.9200352947016168, 0.9993462319188051, 0.996318485300529, 0.9987022642061653, 0.983392562398402, 0.9972614056558616, 0.9993562584612714, 0.9877863005699561, 0.9716894077295887, 0.9969961557445816, 0.9975826116485512, 0.9941839628658422, 0.9998838090172475, 0.9951692525969136, 0.9993669311803289, 0.9979483395772476, 0.999259706242605, 0.9985437160870864, 0.9825506108112398, 0.9832961489616496, 0.9980852512442205, 0.9994159920018246, 0.9972387297135239], \"Term\": [\"abstract\", \"access\", \"add\", \"android\", \"angular\", \"api\", \"app\", \"application\", \"architecture\", \"asp\", \"attribute\", \"authentication\", \"available\", \"background\", \"base\", \"bind\", \"bit\", \"buffer\", \"build\", \"calculate\", \"call\", \"change\", \"chart\", \"check\", \"class\", \"client\", \"cluster\", \"code\", \"color\", \"concatenate\", \"condition\", \"config\", \"configuration\", \"constructor\", \"control\", \"convert\", \"copy\", \"create\", \"custom\", \"customize\", \"data\", \"database\", \"datagridview\", \"datetime\", \"datum\", \"day\", \"declaration\", \"default\", \"deploy\", \"detect\", \"device\", \"difference\", \"display\", \"documentation\", \"drag\", \"duplicate\", \"efficient\", \"encrypt\", \"error\", \"experience\", \"explicit\", \"extract\", \"fast\", \"file\", \"filename\", \"find\", \"fix\", \"form\", \"format\", \"framework\", \"function\", \"generate\", \"get\", \"good\", \"handle\", \"high\", \"host\", \"html\", \"icon\", \"iframe\", \"image\", \"implement\", \"include\", \"instance\", \"intent\", \"interface\", \"internal\", \"issue\", \"item\", \"java\", \"just\", \"know\", \"label\", \"large\", \"layer\", \"lead\", \"leave\", \"length\", \"level\", \"library\", \"list\", \"load\", \"lock\", \"login\", \"loop\", \"mapping\", \"maximum\", \"mean\", \"member\", \"method\", \"mock\", \"modal\", \"model\", \"most\", \"namespace\", \"net\", \"notification\", \"number\", \"object\", \"only\", \"option\", \"original\", \"parameter\", \"pattern\", \"performance\", \"plot\", \"port\", \"possible\", \"practice\", \"private\", \"process\", \"project\", \"properly\", \"protocol\", \"proxy\", \"push\", \"query\", \"react\", \"read\", \"recommend\", \"require\", \"resize\", \"restful\", \"retrieve\", \"run\", \"runtime\", \"same\", \"scope\", \"section\", \"select\", \"server\", \"service\", \"servlet\", \"set\", \"setup\", \"share\", \"side\", \"software\", \"specify\", \"sql\", \"start\", \"static\", \"stop\", \"string\", \"system\", \"table\", \"tag\", \"terminate\", \"test\", \"testing\", \"text\", \"timestamp\", \"try\", \"type\", \"ui\", \"uiwebview\", \"unit\", \"url\", \"usage\", \"use\", \"validation\", \"value\", \"variable\", \"way\", \"web\", \"webview\", \"well\", \"window\", \"work\", \"xml\"]}, \"R\": 30, \"lambda.step\": 0.01, \"plot.opts\": {\"xlab\": \"PC1\", \"ylab\": \"PC2\"}, \"topic.order\": [22, 5, 27, 19, 25, 20, 9, 13, 17, 1, 30, 2, 4, 28, 18, 10, 12, 26, 29, 6, 3, 21, 15, 23, 7, 24, 16, 8, 11, 14]};\n",
       "\n",
       "function LDAvis_load_lib(url, callback){\n",
       "  var s = document.createElement('script');\n",
       "  s.src = url;\n",
       "  s.async = true;\n",
       "  s.onreadystatechange = s.onload = callback;\n",
       "  s.onerror = function(){console.warn(\"failed to load library \" + url);};\n",
       "  document.getElementsByTagName(\"head\")[0].appendChild(s);\n",
       "}\n",
       "\n",
       "if(typeof(LDAvis) !== \"undefined\"){\n",
       "   // already loaded: just create the visualization\n",
       "   !function(LDAvis){\n",
       "       new LDAvis(\"#\" + \"ldavis_el7099140661020423024446338871\", ldavis_el7099140661020423024446338871_data);\n",
       "   }(LDAvis);\n",
       "}else if(typeof define === \"function\" && define.amd){\n",
       "   // require.js is available: use it to load d3/LDAvis\n",
       "   require.config({paths: {d3: \"https://d3js.org/d3.v5\"}});\n",
       "   require([\"d3\"], function(d3){\n",
       "      window.d3 = d3;\n",
       "      LDAvis_load_lib(\"https://cdn.jsdelivr.net/gh/bmabey/pyLDAvis@3.4.0/pyLDAvis/js/ldavis.v3.0.0.js\", function(){\n",
       "        new LDAvis(\"#\" + \"ldavis_el7099140661020423024446338871\", ldavis_el7099140661020423024446338871_data);\n",
       "      });\n",
       "    });\n",
       "}else{\n",
       "    // require.js not available: dynamically load d3 & LDAvis\n",
       "    LDAvis_load_lib(\"https://d3js.org/d3.v5.js\", function(){\n",
       "         LDAvis_load_lib(\"https://cdn.jsdelivr.net/gh/bmabey/pyLDAvis@3.4.0/pyLDAvis/js/ldavis.v3.0.0.js\", function(){\n",
       "                 new LDAvis(\"#\" + \"ldavis_el7099140661020423024446338871\", ldavis_el7099140661020423024446338871_data);\n",
       "            })\n",
       "         });\n",
       "}\n",
       "</script>"
      ],
      "text/plain": [
       "PreparedData(topic_coordinates=              x         y  topics  cluster      Freq\n",
       "topic                                               \n",
       "21    -0.496964  0.143363       1        1  8.984495\n",
       "4      0.193302 -0.470242       2        1  8.316803\n",
       "26     0.421581  0.246963       3        1  7.256978\n",
       "18     0.286418  0.389269       4        1  5.907883\n",
       "24     0.432258 -0.217249       5        1  5.534516\n",
       "19    -0.010982 -0.459533       6        1  5.425256\n",
       "8     -0.173400  0.441460       7        1  5.348027\n",
       "12     0.447394  0.082544       8        1  4.905409\n",
       "16    -0.397892 -0.246503       9        1  4.767164\n",
       "0     -0.442165 -0.059204      10        1  4.466361\n",
       "29    -0.320568  0.322937      11        1  4.262986\n",
       "1     -0.140734 -0.392938      12        1  3.913902\n",
       "3     -0.264186 -0.338313      13        1  3.875176\n",
       "27     0.418325 -0.048792      14        1  3.675919\n",
       "17     0.050155  0.449092      15        1  3.440808\n",
       "9      0.273931 -0.192951      16        1  2.997600\n",
       "11     0.191332 -0.307507      17        1  2.703242\n",
       "25    -0.316845  0.125450      18        1  2.456652\n",
       "28    -0.272622 -0.120606      19        1  2.302095\n",
       "5      0.064032  0.311198      20        1  1.950155\n",
       "2      0.175296  0.198794      21        1  1.610048\n",
       "20    -0.145929  0.142855      22        1  1.456596\n",
       "14    -0.079565  0.243973      23        1  1.356169\n",
       "22     0.027025 -0.217113      24        1  1.222028\n",
       "6      0.154045  0.044708      25        1  0.800358\n",
       "23    -0.087562 -0.076893      26        1  0.462894\n",
       "15     0.031747 -0.038852      27        1  0.295292\n",
       "7     -0.005813  0.014696      28        1  0.102052\n",
       "10    -0.005806  0.014698      29        1  0.101567\n",
       "13    -0.005809  0.014697      30        1  0.101567, topic_info=            Term          Freq         Total Category  logprob  loglift\n",
       "29           use  17803.000000  17803.000000  Default  30.0000  30.0000\n",
       "150         file   6866.000000   6866.000000  Default  29.0000  29.0000\n",
       "97         error   4924.000000   4924.000000  Default  28.0000  28.0000\n",
       "75           get   5402.000000   5402.000000  Default  27.0000  27.0000\n",
       "251         work   3698.000000   3698.000000  Default  26.0000  26.0000\n",
       "..           ...           ...           ...      ...      ...      ...\n",
       "24   application      0.018029   2240.541136  Topic30  -9.3948  -4.8380\n",
       "25         build      0.018029   1568.207594  Topic30  -9.3948  -4.4813\n",
       "26        deploy      0.018029    253.548791  Topic30  -9.3948  -2.6591\n",
       "28         proxy      0.018029    171.312456  Topic30  -9.3948  -2.2671\n",
       "29           use      0.018029  17803.068556  Topic30  -9.3948  -6.9107\n",
       "\n",
       "[1310 rows x 6 columns], token_table=      Topic      Freq      Term\n",
       "term                           \n",
       "32        2  0.986758  abstract\n",
       "35       24  0.997553    access\n",
       "88        2  0.999227       add\n",
       "161      17  0.997977   android\n",
       "231       3  0.997323   angular\n",
       "...     ...       ...       ...\n",
       "235      13  0.982551   webview\n",
       "6        27  0.983296      well\n",
       "82       12  0.998085    window\n",
       "251       7  0.999416      work\n",
       "77        7  0.997239       xml\n",
       "\n",
       "[190 rows x 3 columns], R=30, lambda_step=0.01, plot_opts={'xlab': 'PC1', 'ylab': 'PC2'}, topic_order=[22, 5, 27, 19, 25, 20, 9, 13, 17, 1, 30, 2, 4, 28, 18, 10, 12, 26, 29, 6, 3, 21, 15, 23, 7, 24, 16, 8, 11, 14])"
      ]
     },
     "execution_count": 51,
     "metadata": {},
     "output_type": "execute_result"
    }
   ],
   "source": [
    "pyLDAvis.enable_notebook()\n",
    "vis = pyLDAvis.gensim.prepare(lda_model, corpus, id2word, mds=\"mmds\", R=30)\n",
    "vis"
   ]
  },
  {
   "cell_type": "code",
   "execution_count": null,
   "metadata": {},
   "outputs": [],
   "source": []
  },
  {
   "cell_type": "code",
   "execution_count": null,
   "metadata": {},
   "outputs": [],
   "source": []
  },
  {
   "cell_type": "code",
   "execution_count": null,
   "metadata": {},
   "outputs": [],
   "source": []
  },
  {
   "cell_type": "code",
   "execution_count": 52,
   "metadata": {},
   "outputs": [
    {
     "name": "stdout",
     "output_type": "stream",
     "text": [
      "consider import panda import numpy np.random.seed([3,1415 s list('abcdefghij s b c d e f g\n"
     ]
    }
   ],
   "source": [
    "lemmatized_texts = lemmatization(data.Body)\n",
    "print (lemmatized_texts[0][0:90])"
   ]
  },
  {
   "cell_type": "code",
   "execution_count": 53,
   "metadata": {},
   "outputs": [
    {
     "name": "stdout",
     "output_type": "stream",
     "text": [
      "['consider', 'import', 'panda', 'import', 'numpy', 'np', 'random', 'seed', 'list', 'abcdefghij', 'dtype', 'want', 'get', 'index', 'value', 'rolling', 'window', 'dtype', 'float', 'want']\n"
     ]
    }
   ],
   "source": [
    "data_words = gen_words(lemmatized_texts)\n",
    "print (data_words[0][0:20])"
   ]
  },
  {
   "cell_type": "code",
   "execution_count": 54,
   "metadata": {},
   "outputs": [
    {
     "data": {
      "text/plain": [
       "[('use', 70804),\n",
       " ('get', 34381),\n",
       " ('file', 28548),\n",
       " ('try', 28457),\n",
       " ('class', 28033),\n",
       " ('work', 27605),\n",
       " ('code', 27083),\n",
       " ('new', 26730),\n",
       " ('return', 26074),\n",
       " ('error', 25822)]"
      ]
     },
     "execution_count": 54,
     "metadata": {},
     "output_type": "execute_result"
    }
   ],
   "source": [
    "get_top_n_words(lemmatized_texts, 10)"
   ]
  },
  {
   "cell_type": "code",
   "execution_count": 55,
   "metadata": {},
   "outputs": [
    {
     "data": {
      "text/plain": [
       "[('plaf', 3),\n",
       " ('similarily', 3),\n",
       " ('stin', 3),\n",
       " ('newenrolment', 3),\n",
       " ('withfont', 3),\n",
       " ('ntlmhttpfilter', 3),\n",
       " ('corp', 3),\n",
       " ('creatememberpresenter', 3),\n",
       " ('icreatememberview', 3),\n",
       " ('dateadd', 3),\n",
       " ('f16f', 3),\n",
       " ('11cf', 3),\n",
       " ('88cb', 3),\n",
       " ('001111000030', 3),\n",
       " ('methodimplattribute', 3),\n",
       " ('visualsvn', 3),\n",
       " ('watin', 3),\n",
       " ('id_order', 3),\n",
       " ('cu', 3),\n",
       " ('barrier_tol', 3)]"
      ]
     },
     "execution_count": 55,
     "metadata": {},
     "output_type": "execute_result"
    }
   ],
   "source": [
    "get_bottom_n_words(lemmatized_texts, 3)[:20]"
   ]
  },
  {
   "cell_type": "code",
   "execution_count": 56,
   "metadata": {},
   "outputs": [
    {
     "data": {
      "text/plain": [
       "0    1        2    3       4    5      6          7           8      9       10       11  12      13       14      15     16   17       18   19   20     21       22     23       24      25      26   27          28       29        30       31     32        33        34      35   36  37    38          39       40      41      42     43   44      45        46   47       48      49   50      51   52    53      54   55  56      57   58  59  60     61    62  63     64      65   66  67        68    69    70          71    72    73    74   75    76   77   78    79     80      81      82          83    84    85    86        87       88         89   90      91    92     93      94        95        96    97    98          99       100     101  102     103      104   105        106  107        108  109    110       111     112             113  114     115     116    117   118    119  120       121   122   123    124  125  126  127     128  129  130     131       132   133   134         135   136   137   138  139   140  141  142   143    144     145     146         147   148   149   150  151    152  153     154      155   156  157    158   159  160     161   162  163     164       165     166   167  168  169     170      171  172         173   174  175   176  177         178   179  180   181  182         183   184  185       186     187         188   189  190       191      192      193     194  195      196    197   198     199     200  201      202   203     204   205      206     207  208     209  210   211   212        213     214   215   216        217   218   219   220        221     222  223   224   225        226   227      228     229  230     231    232     233    234      235        236  237     238    239     240    241     242    243    244     245    246     247    248     249   250        251  252     253    254      255   256      257  258          259    260      261    262         263   264      265    266    267     268    269    270      271   272      273  274          275    276     277      278    279         280   281      282    283    284     285    286    287   288   289      290  291          292    293   294    295         296   297      298    299     300    301     302    303    304   305   306      307  308          309    310     311   312    313         314   315      316    317     318    319     320    321    322     323    324     325    326   327        328  329     330    331   332   333      334  335          336    337     338   339    340         341   342      343    344     345    346     347    348    349     350   351   352      353  354          355    356     357   358    359         360   361      362    363     364    365     366    367    368     369   370   371      372  373          374    375     376   377    378         379   380      381    382     383    384     385    386    387   388   389      390  391          392    393   394    395         396   397      398    399     400    401     402    403    404     405   406   407      408  409          410     411   412    413         414   415      416    417    418     419    420    421    422     423    424      425        426  427     428    429      430   431      432  433          434     435      436    437         438   439      440    441    442     443    444    445      446   447      448  449          450      451    452         453   454      455    456    457     458    459       460      461   462      463  464          465       466   467    468         469   470      471    472    473     474    475           476      477   478      479  480          481           482      483    484         485   486      487    488    489     490    491      492   493      494  495          496      497    498         499   500      501    502    503     504    505    506      507   508      509  510          511      512      513    514         515   516      517    518     519    520     521    522    523      524   525      526  527          528      529     530      531    532         533   534      535    536    537     538    539    540   541   542      543  544          545        546   547    548         549   550      551    552    553     554    555    556      557   558      559  560          561      562    563         564   565      566    567    568     569    570    571    572     573    574      575        576  577     578    579      580   581      582  583          584      585    586         587   588      589    590    591     592    593    594    595     596    597      598     599      600        601  602     603    604    605     606    607    608      609   610      611  612          613              614      615    616         617   618      619    620    621       622   623   624     625    626       627          628   629   630    631     632    633    634    635     636    637            638     639    640     641    642     643    644     645    646      647    648     649    650      651    652     653    654        655     656       657     658      659     660       661             662     663       664     665      666     667       668             669     670       671      672     673       674             675   676      677         678   679   680       681         682   683   684    685          686      687         688   689         690   691   692    693          694      695         696   697         698   699   700    701          702      703         704   705         706   707   708    709          710      711         712   713         714   715   716    717          718      719         720   721         722   723   724       725         726   727   728    729          730      731         732   733         734   735   736    737          738      739         740   741         742   743   744    745          746      747         748   749     750       751     752      753     754       755             756     757       758     759      760     761       762             763       764    765          766      767         768   769     770      771     772       773             774       775     776  777    778          779      780         781   782      783     784       785             786       787    788          789      790         791   792     793  794    795          796      797         798   799      800     801       802             803       804    805          806      807         808   809    810          811      812         813   814     815      816     817       818             819       820     821  822    823          824      825         826   827     828  829    830          831      832         833   834     835  836    837          838      839         840   841     842  843    844          845      846         847   848     849  850    851          852      853         854   855     856  857    858          859      860         861   862     863  864    865          866      867         868   869     870  871    872          873      874         875   876      877     878       879             880       881     882  883    884          885      886         887   888   889     890       891             892       893     894  895    896          897      898         899   900     901   902     903       904             905       906     907  908    909          910      911         912   913    914          915      916         917   918    919          920      921         922   923     924  925    926          927      928         929   930     931  932    933          934      935         936   937     938  939    940          941      942         943   944     945  946    947          948      949         950   951     952  953    954          955      956         957   958    959          960      961         962   963     964  965    966          967      968         969   970     971  972    973          974      975         976   977     978  979    980          981      982         983   984     985  986    987          988      989         990   991     992  993    994          995      996         997   998     999  1000   1001         1002     1003        1004  1005    1006  1007   1008         1009     1010        1011  1012    1013  1014   1015         1016     1017        1018  1019    1020  1021   1022         1023     1024        1025  1026  1027    1028      1029            1030    1031      1032     1033    1034      1035            1036    1037      1038     1039    1040      1041            1042    1043      1044  1045    1046      1047            1048    1049      1050    1051  1052    1053      1054            1055      1056    1057  1058   1059         1060     1061        1062  1063   1064         1065     1066        1067  1068     1069    1070      1071            1072    1073      1074    1075  1076    1077      1078            1079    1080      1081    1082  1083    1084      1085            1086    1087      1088    1089  1090    1091      1092            1093      1094    1095  1096   1097         1098     1099        1100  1101    1102  1103   1104         1105     1106        1107  1108    1109  1110   1111         1112     1113        1114  1115    1116  1117   1118         1119     1120        1121  1122    1123  1124   1125         1126     1127        1128  1129    1130  1131   1132         1133     1134        1135  1136  1137    1138      1139            1140    1141      1142  1143    1144      1145            1146      1147   1148         1149     1150        1151  1152  1153    1154      1155            1156      1157    1158  1159   1160         1161     1162        1163  1164    1165     1166    1167      1168            1169      1170    1171  1172   1173         1174     1175        1176  1177    1178  1179   1180         1181     1182        1183  1184    1185  1186   1187         1188     1189        1190  1191    1192  1193   1194         1195     1196        1197  1198    1199  1200   1201         1202     1203        1204  1205   1206         1207     1208        1209  1210   1211         1212     1213        1214  1215   1216         1217     1218        1219  1220    1221  1222   1223         1224     1225        1226  1227    1228  1229   1230         1231     1232        1233  1234    1235  1236   1237         1238     1239        1240  1241    1242  1243   1244         1245     1246        1247  1248    1249  1250   1251         1252     1253        1254  1255    1256  1257   1258         1259     1260        1261  1262    1263  1264   1265         1266     1267        1268  1269    1270  1271   1272         1273     1274        1275  1276     1277    1278      1279            1280      1281    1282  1283   1284         1285     1286        1287  1288    1289  1290    1291      1292            1293      1294   1295         1296     1297        1298  1299    1300     1301    1302      1303            1304      1305    1306  1307   1308         1309     1310        1311  1312    1313  1314    1315      1316            1317      1318   1319         1320     1321        1322  1323   1324         1325     1326        1327  1328    1329     1330    1331      1332            1333    1334      1335    1336  1337    1338      1339            1340      1341   1342         1343     1344        1345  1346   1347         1348     1349        1350  1351   1352         1353     1354        1355  1356   1357         1358     1359        1360  1361   1362         1363     1364        1365  1366   1367         1368     1369        1370  1371     1372  1373  1374     1375   1376        1377    1378   1379         1380     1381        1382  1383   1384         1385     1386        1387  1388   1389         1390     1391        1392  1393     1394  1395  1396     1397   1398        1399    1400   1401         1402     1403        1404  1405   1406         1407     1408        1409  1410   1411         1412     1413        1414  1415     1416  1417  1418     1419   1420        1421    1422   1423         1424     1425        1426  1427   1428         1429     1430        1431  1432    1433  1434   1435         1436     1437        1438  1439    1440  1441   1442         1443     1444        1445  1446    1447  1448   1449         1450     1451        1452  1453    1454  1455   1456         1457     1458        1459  1460    1461  1462   1463         1464     1465        1466  1467    1468  1469   1470         1471     1472        1473  1474    1475  1476   1477         1478     1479        1480  1481    1482  1483   1484         1485     1486        1487  1488    1489  1490   1491         1492     1493        1494  1495    1496  1497   1498         1499     1500        1501  1502    1503  1504   1505         1506     1507        1508  1509    1510     1511    1512      1513            1514      1515   1516         1517     1518        1519  1520   1521         1522     1523        1524  1525    1526  1527    1528      1529            1530    1531      1532  1533    1534      1535            1536      1537     1538      1539         1540      1541   1542         1543     1544        1545  1546   1547         1548     1549        1550  1551   1552        1553   1554  1555      1556   1557        1558        1559    1560  1561  1562   1563      1564    1565   1566         1567     1568        1569  1570    1571  1572   1573        1574   1575  1576      1577  1578    1579      1580            1581    1582      1583  1584    1585      1586            1587    1588      1589    1590   1591           1592        1593   1594  1595      1596    1597   1598     1599        1600   1601  1602      1603   1604    1605   1606   1607    1608  1609   1610        1611   1612  1613      1614    1615  1616  1617      1618         1619      1620    1621  1622   1623         1624     1625        1626  1627    1628  1629   1630         1631     1632        1633  1634    1635  1636   1637         1638     1639        1640  1641    1642  1643   1644         1645     1646        1647  1648   1649        1650   1651  1652      1653   1654         1655     1656        1657  1658   1659        1660   1661  1662      1663  1664      1665         1666      1667         1668   1669         1670     1671        1672  1673   1674         1675     1676        1677  1678   1679        1680   1681  1682      1683   1684         1685     1686        1687  1688   1689         1690     1691        1692  1693   1694         1695     1696        1697  1698     1699    1700      1701            1702    1703      1704    1705   1706           1707        1708   1709  1710      1711    1712   1713     1714        1715   1716  1717      1718    1719   1720    1721   1722   1723    1724  1725   1726        1727   1728  1729      1730   1731         1732     1733        1734  1735   1736         1737     1738        1739  1740   1741         1742     1743        1744  1745   1746         1747     1748        1749  1750   1751        1752   1753  1754      1755   1756         1757     1758        1759  1760   1761        1762   1763  1764      1765    1766  1767  1768      1769         1770      1771    1772  1773   1774         1775     1776        1777  1778    1779  1780   1781         1782     1783        1784  1785    1786  1787   1788        1789   1790  1791      1792    1793  1794   1795         1796     1797        1798  1799    1800  1801   1802         1803     1804        1805  1806    1807  1808   1809         1810     1811        1812  1813  1814    1815      1816    1817  1818    1819      1820            1821    1822      1823    1824   1825           1826        1827   1828  1829      1830    1831   1832     1833        1834   1835  1836      1837    1838   1839    1840   1841   1842   1843        1844   1845  1846      1847    1848  1849   1850         1851     1852        1853  1854    1855  1856   1857         1858     1859        1860  1861    1862  1863   1864         1865     1866        1867  1868    1869  1870   1871         1872     1873        1874  1875   1876        1877   1878  1879      1880    1881  1882   1883         1884     1885        1886  1887    1888  1889  1890      1891         1892      1893        1894    1895  1896   1897         1898     1899        1900  1901    1902  1903   1904         1905     1906        1907  1908    1909  1910   1911         1912     1913        1914  1915    1916  1917   1918         1919     1920        1921  1922    1923  1924   1925         1926     1927        1928  1929    1930  1931   1932        1933   1934  1935      1936    1937  1938    1939      1940            1941    1942      1943    1944   1945           1946        1947   1948  1949      1950    1951   1952     1953        1954   1955  1956      1957    1958   1959    1960   1961   1962     1963      1964         1965      1966        1967    1968  1969   1970         1971     1972        1973  1974    1975  1976   1977         1978     1979        1980  1981    1982  1983   1984         1985     1986        1987  1988    1989  1990   1991         1992     1993        1994  1995   1996        1997   1998  1999      2000   2001         2002     2003        2004  2005    2006     2007    2008      2009            2010    2011      2012    2013   2014           2015        2016   2017  2018      2019    2020   2021     2022        2023   2024  2025      2026    2027   2028    2029   2030   2031  2032      2033         2034      2035             2036    2037  2038   2039         2040     2041        2042  2043    2044  2045   2046         2047     2048        2049  2050    2051  2052   2053         2054     2055        2056  2057    2058  2059   2060         2061     2062        2063  2064    2065  2066   2067        2068   2069  2070      2071    2072  2073   2074         2075     2076        2077  2078    2079     2080    2081      2082            2083    2084      2085    2086   2087           2088        2089   2090  2091      2092    2093   2094     2095        2096   2097  2098      2099   2100    2101   2102   2103     2104      2105         2106      2107   2108         2109     2110        2111  2112   2113         2114     2115        2116  2117   2118         2119     2120        2121  2122   2123         2124     2125        2126  2127   2128        2129   2130  2131      2132   2133         2134     2135        2136  2137    2138  2139    2140      2141            2142    2143      2144     2145    2146      2147            2148    2149      2150    2151   2152        2153   2154  2155      2156    2157   2158             2159        2160   2161  2162   \n",
       "try  install  dbd  oracle  use  shell  initially  experience  error  locate  library  so  instal  instant  client  think  fix  problem  now  get  large  mixture  error  warning  oracle  oracle  xsi  suggestion  proceed  possible  problem  exist  software  computer  fairly  new  so  help  appreciate  include  entire  output  below  dbd  oracle  generate  run  install  module  dbd  oracle  run  make  oracle  tar  gz  oracle  tar  gz  ok  cache  size  go  build  oracle  tar  gz  multiple  copy  find  strawberry  perl  site  auto  dbi  auto  dbi  use  perl  multi  thread  instal  strawberry  perl  site  auto  argument  numeric  configure  dbd  oracle  perl  multi  thread  remember  actually  read  file  especially  problem  instal  use  define  version  find  directory  use  directory  oci  check  function  system  strawberryperl  gcc  strict  aliase  dperl  find  check  kit  complete  look  good  rdbms  lib  use  dbd  oracle  use  dbd  oracle  multiple  copy  find  strawberry  perl  site  auto  dbi  auto  dbi  use  perl  multi  thread  instal  strawberry  perl  site  auto  dbi  write  dbd  oracle  problem  read  log  print  file  of   course  read  now  anyway  ocitrace  oracle  blib  lib  dbd  oracle  getinfo  pm   strawberry  perl  bin  perl  exe  strawberry  perl  bin  perl  exe  strawberry  perl  lib  extutils  xsubpp  strawberry  perl  lib  extutils  typemap  typemap  oracle  gcc  include  rdbms  demo  strict  aliase  wno  comment  dutf  oracle  file  include  oracle  xs   oracle  oci  such  file  directory  oracle  such  file  directory  orid  such  file  directory  oracle  ori  such  file  directory  file  include  oracle  xs   dbdimp  error  syntax  error  warning  semicolon  end  struct  union  dbdimp  error  syntax  error  token  dbdimp  error  syntax  error  dbdimp  warn  semicolon  end  struct  union  warning  type  default  int  declaration  errhp  warning  datum  definition  type  storage  class  error  syntax  error  token  warning  type  default  int  declaration  srvhp  dbdimp  warning  datum  definition  type  storage  class  error  syntax  error  token  warn  type  default  int  declaration  svchp  warn  datum  definition  type  storage  class  dbdimp  error  syntax  error  token  warn  type  default  int  declaration  authp  dbdimp  warn  datum  definition  type  storage  class  dbdimp  error  syntax  error  token  dbdimp  error  syntax  error  warn  semicolon  end  struct  union  warn  type  default  int  declaration  errhp  dbdimp  warn  datum  definition  type  storage  class  dbdimp  error  syntax  error  token  dbdimp  warn  type  default  int  declaration  srvhp  dbdimp  warn  datum  definition  type  storage  class  dbdimp  error  syntax  error  token  dbdimp  warn  type  default  int  declaration  svchp  dbdimp  warn  datum  definition  type  storage  class  dbdimp  error  syntax  error  token  warn  type  default  int  declaration  stmhp  warn  datum  definition  type  storage  class  dbdimp  error  syntax  error  token  dbdimp  warn  type  default  int  declaration  dbdimp  warn  datum  definition  type  storage  class  error  syntax  error  token  error  syntax  error  warning  semicolon  end  struct  union  warning  type  default  int  declaration  parmap  warning  datum  definition  type  storage  class  error  syntax  error  token  warning  type  default  int  declaration  warning  datum  definition  type  storage  class  error  syntax  error  typecode  warning  type  default  int  declaration  typecode  warn  datum  definition  type  storage  class  error  syntax  error  col_typecode  warning  type  default  int  declaration  col_typecode  warning  datum  definition  type  storage  class  error  syntax  error  warning  type  default  int  declaration  warning  datum  definition  type  storage  class  error  syntax  error  token  warning  type  default  int  declaration  obj_ref  warning  datum  definition  type  storage  class  dbdimp  error  syntax  error  token  warning  type  default  int  declaration  obj_ind  dbdimp  warning  datum  definition  type  storage  class  error  syntax  error  token  warn  type  default  int  declaration  obj_value  warn  datum  definition  type  storage  class  error  syntax  error  token  warning  type  default  int  declaration  warning  datum  definition  type  storage  class  error  syntax  error  token  error  syntax  error  warning  semicolon  end  struct  union  warning  type  default  int  declaration  warning  datum  definition  type  storage  class  error  syntax  error  token  error  syntax  error  ocibind  dbdimp  warning  semicolon  end  struct  union  error  syntax  error  token  warning  type  default  int  declaration  array_indicator  warning  datum  definition  type  storage  class  error  conflict  type  name  dbdimp  error  previous  declaration  name  here  error  syntax  error  token  error  syntax  error  ociloblocator  dbdimp  error  syntax  error  dbdimp  error  syntax  error  ocibind  error  syntax  error  ocibind  error  syntax  error  ocidefine  oracle  function  oracle  warning  unused  variable  perl___notused  oracle  function  oracle  warning  unused  variable  perl___notused  oracle  function  warning  unused  variable  perl___notused  file  include  strawberry  perl  site  function  strawberry  perl  site  error  dereference  pointer  incomplete  type  strawberry  perl  site  error  dereference  pointer  incomplete  type  strawberry  perl  site  error  dereference  pointer  incomplete  type  strawberry  perl  site  error  dereference  pointer  incomplete  type  strawberry  perl  site  error  dereference  pointer  incomplete  type  strawberry  perl  site  function  strawberry  perl  site  error  dereference  pointer  incomplete  type  strawberry  perl  site  error  dereference  pointer  incomplete  type  strawberry  perl  site  error  dereference  pointer  incomplete  type  oracle  function  oracle  warning  unused  variable  perl___notused  oracle  function  oracle  warning  unused  variable  perl___notused  function  error  dereference  pointer  incomplete  type  oracle  warning  unused  variable  perl___notused  function  oracle  xsi  error  dereference  pointer  incomplete  type  warning  unused  variable  perl___notused  function  error  dereference  pointer  incomplete  type  oracle  xsi  error  dereference  pointer  incomplete  type  warning  unused  variable  perl___notused  function  error  dereference  pointer  incomplete  type  error  dereference  pointer  incomplete  type  oracle  warning  unused  variable  perl___notused  function  oracle  xsi  error  dereference  pointer  incomplete  type  oracle  xsi  error  dereference  pointer  incomplete  type  oracle  xsi  error  dereference  pointer  incomplete  type  oracle  xsi  error  dereference  pointer  incomplete  type  oracle  xsi  error  dereference  pointer  incomplete  type  oracle  xsi  error  dereference  pointer  incomplete  type  oracle  xsi  error  dereference  pointer  incomplete  type  oracle  xsi  error  dereference  pointer  incomplete  type  warning  unused  variable  perl___notused  function  oracle  xsi  error  dereference  pointer  incomplete  type  warn  unused  variable  perl___notused  function  oracle  xsi  error  dereference  pointer  incomplete  type  oracle  warn  unused  variable  perl___notused  function  oracle  xsi  error  dereference  pointer  incomplete  type  error  dereference  pointer  incomplete  type  error  dereference  pointer  incomplete  type  oracle  xsi  error  dereference  pointer  incomplete  type  oracle  xsi  error  dereference  pointer  incomplete  type  oracle  xsi  error  dereference  pointer  incomplete  type  oracle  xsi  error  dereference  pointer  incomplete  type  oracle  xsi  error  dereference  pointer  incomplete  type  error  dereference  pointer  incomplete  type  oracle  xsi  error  dereference  pointer  incomplete  type  oracle  xsi  error  dereference  pointer  incomplete  type  oracle  xsi  error  dereference  pointer  incomplete  type  oracle  xsi  error  dereference  pointer  incomplete  type  oracle  xsi  error  dereference  pointer  incomplete  type  oracle  xsi  error  dereference  pointer  incomplete  type  oracle  xsi   error  dereference  pointer  incomplete  type  oracle  xsi   error  dereference  pointer  incomplete  type  oracle  xsi   error  dereference  pointer  incomplete  type  warn  unused  variable  perl___notused  oracle  function  warning  unused  variable  perl___notused  oracle  function  warning  unused  variable  perl___notused  oracle  function  warn  unused  variable  perl___notused  oracle  function  oracle  warn  unused  variable  perl___notused  function  oracle  xsi   error  dereference  pointer  incomplete  type  error  dereference  pointer  incomplete  type  warning  unused  variable  perl___notused  oracle  function  oracle  warn  unused  variable  perl___notused  oracle  function  oracle  warn  unused  variable  perl___notused  oracle  function  oracle  warn  unused  variable  perl___notused  function  oracle  xsi   error  dereference  pointer  incomplete  type  oracle  xsi   error  dereference  pointer  incomplete  type  oracle  xsi   error  dereference  pointer  incomplete  type  oracle  xsi   error  dereference  pointer  incomplete  type  oracle  xsi   error  dereference  pointer  incomplete  type  oracle  xsi   error  dereference  pointer  incomplete  type  warn  unused  variable  perl___notused  oracle  function  warn  unused  variable  perl___notused  function  error  dereference  pointer  incomplete  type  warn  unused  variable  perl___notused  function  oracle  xsi   error  dereference  pointer  incomplete  type  oracle  warning  unused  variable  perl___notused  function  oracle  xsi   error  dereference  pointer  incomplete  type  oracle  xsi   error  dereference  pointer  incomplete  type  oracle  xsi   error  dereference  pointer  incomplete  type  oracle  xsi   error  dereference  pointer  incomplete  type  oracle  xsi   error  dereference  pointer  incomplete  type  error  dereference  pointer  incomplete  type  error  dereference  pointer  incomplete  type  error  dereference  pointer  incomplete  type  oracle  xsi   error  dereference  pointer  incomplete  type  oracle  xsi   error  dereference  pointer  incomplete  type  oracle  xsi   error  dereference  pointer  incomplete  type  oracle  xsi   error  dereference  pointer  incomplete  type  oracle  xsi   error  dereference  pointer  incomplete  type  oracle  xsi   error  dereference  pointer  incomplete  type  oracle  xsi   error  dereference  pointer  incomplete  type  oracle  xsi   error  dereference  pointer  incomplete  type  warning  unused  variable  perl___notused  function  oracle  xs    error  dereference  pointer  incomplete  type  oracle  warn  unused  variable  perl___notused  function  error  dereference  pointer  incomplete  type  oracle  warning  unused  variable  perl___notused  function  oracle  xs    error  dereference  pointer  incomplete  type  oracle  warn  unused  variable  perl___notused  function  error  dereference  pointer  incomplete  type  error  dereference  pointer  incomplete  type  oracle  warning  unused  variable  perl___notused  oracle  function  oracle  warn  unused  variable  perl___notused  function  error  dereference  pointer  incomplete  type  error  dereference  pointer  incomplete  type  error  dereference  pointer  incomplete  type  error  dereference  pointer  incomplete  type  error  dereference  pointer  incomplete  type  error  dereference  pointer  incomplete  type  warning  left  hand  operand  comma  expression  effect  error  dereference  pointer  incomplete  type  error  dereference  pointer  incomplete  type  error  dereference  pointer  incomplete  type  warning  left  hand  operand  comma  expression  effect  error  dereference  pointer  incomplete  type  error  dereference  pointer  incomplete  type  error  dereference  pointer  incomplete  type  warning  left  hand  operand  comma  expression  effect  error  dereference  pointer  incomplete  type  error  dereference  pointer  incomplete  type  oracle  xs    error  dereference  pointer  incomplete  type  oracle  xs    error  dereference  pointer  incomplete  type  oracle  xs    error  dereference  pointer  incomplete  type  oracle  xs    error  dereference  pointer  incomplete  type  oracle  xs    error  dereference  pointer  incomplete  type  oracle  xs    error  dereference  pointer  incomplete  type  oracle  xs    error  dereference  pointer  incomplete  type  oracle  xs    error  dereference  pointer  incomplete  type  oracle  xs    error  dereference  pointer  incomplete  type  oracle  xs    error  dereference  pointer  incomplete  type  oracle  xs    error  dereference  pointer  incomplete  type  oracle  warning  unused  variable  perl___notused  function  error  dereference  pointer  incomplete  type  error  dereference  pointer  incomplete  type  oracle  warn  unused  variable  perl___notused  oracle  function  warn  unused  variable  perl___notused  function  warning  implicit  declaration  function  error  dereference  pointer  incomplete  type  error  dereference  pointer  incomplete  type  error  undeclared  first  use   function  error  undeclared  identifier  report  only  once  error  function  appear  error  dereference  pointer  incomplete  type  oracle  xs    error  undeclared  first  use   function  warn  unused  variable  perl___notused  oracle  function  warn  unused  variable  perl___notused  oracle  function  oracle  error  ociloblocator  undeclared  first  use   function  oracle  error  locator  undeclared  first  use   function  error  syntax  error  token  oracle  xs    error  undeclared  first  use   function  oracle  xs    warn  implicit  declaration  function  oracle  xs    error  dereference  pointer  incomplete  type  oracle  xs    error  dereference  pointer  incomplete  type  oracle  xs    error  dereference  pointer  incomplete  type  oracle  xs    error  dereference  pointer  incomplete  type  error  undeclared  first  use   function  error  dereference  pointer  incomplete  type  error  undeclared  first  use   function  warn  implicit  declaration  function  ocilobwrite  error  dereference  pointer  incomplete  type  error  dereference  pointer  incomplete  type  error  undeclared  first  use   function  error  dereference  pointer  incomplete  type  error  dereference  pointer  incomplete  type  error  dereference  pointer  incomplete  type  warning  unused  variable  perl___notused  oracle  function  oracle  error  ociloblocator  undeclared  first  use   function  oracle  error  locator  undeclared  first  use   function  oracle  error  syntax  error  token  oracle  xs    error  undeclared  first  use   function  error  dereference  pointer  incomplete  type  error  dereference  pointer  incomplete  type  error  dereference  pointer  incomplete  type  error  dereference  pointer  incomplete  type  error  undeclared  first  use   function  error  dereference  pointer  incomplete  type  error  undeclared  first  use   function  oracle  xs    warn  implicit  declaration  function  oracle  xs    error  dereference  pointer  incomplete  type  oracle  xs    error  dereference  pointer  incomplete  type  oracle  xs    error  undeclared  first  use   function  oracle  xs    error  dereference  pointer  incomplete  type  oracle  xs    error  dereference  pointer  incomplete  type  oracle  xs    error  dereference  pointer  incomplete  type  warn  unused  variable  startp  warn  unused  variable  perl___notused  oracle  function  oracle  error  ociloblocator  undeclared  first  use   function  oracle  error  locator  undeclared  first  use   function  oracle  error  syntax  error  token  error  undeclared  first  use   function  oracle  xs    error  dereference  pointer  incomplete  type  oracle  xs    error  dereference  pointer  incomplete  type  oracle  xs    error  dereference  pointer  incomplete  type  oracle  xs    error  dereference  pointer  incomplete  type  error  undeclared  first  use   function  oracle  xs    error  dereference  pointer  incomplete  type  oracle  xs    warn  implicit  declaration  function  ocilobread  oracle  xs    error  dereference  pointer  incomplete  type  oracle  xs    error  dereference  pointer  incomplete  type  oracle  xs    error  dereference  pointer  incomplete  type  oracle  xs    error  dereference  pointer  incomplete  type  oracle  xs    error  dereference  pointer  incomplete  type  oracle  xs    error  undeclared  first  use   function  oracle  warn  unused  variable  perl___notused  oracle  function  oracle  error  ociloblocator  undeclared  first  use   function  oracle  error  locator  undeclared  first  use   function  oracle  error  syntax  error  token  warning  implicit  declaration  function  ocilobtrim  oracle  xs    error  dereference  pointer  incomplete  type  oracle  xs    error  dereference  pointer  incomplete  type  oracle  xs    error  dereference  pointer  incomplete  type  oracle  xs    error  dereference  pointer  incomplete  type  error  undeclared  first  use   function  error  dereference  pointer  incomplete  type  oracle  warning  unused  variable  perl___notused  oracle  function  oracle  error  ociloblocator  undeclared  first  use   function  oracle  error  locator  undeclared  first  use   function  oracle  error  syntax  error  token  warn  implicit  declaration  function  ocilobgetlength  oracle  xs    error  dereference  pointer  incomplete  type  oracle  xs    error  dereference  pointer  incomplete  type  oracle  xs    error  dereference  pointer  incomplete  type  oracle  xs    error  dereference  pointer  incomplete  type  oracle  xs    error  undeclared  first  use   function  oracle  xs    error  dereference  pointer  incomplete  type  oracle  warning  unused  variable  perl___notused  oracle  function  oracle  error  ociloblocator  undeclared  first  use   function  oracle  error  locator  undeclared  first  use   function  error  syntax  error  token  warning  implicit  declaration  function  error  dereference  pointer  incomplete  type  error  dereference  pointer  incomplete  type  error  dereference  pointer  incomplete  type  error  dereference  pointer  incomplete  type  error  undeclared  first  use   function  error  dereference  pointer  incomplete  type  oracle  warn  unused  variable  perl___notused  oracle  function  warning  unused  variable  perl___notused  oracle  function  oracle  error  undeclared  first  use   function  oracle  error  oci_fetch_first  undeclared  first  use   functio    1\n",
       "dtype: int64"
      ]
     },
     "execution_count": 56,
     "metadata": {},
     "output_type": "execute_result"
    }
   ],
   "source": [
    "pd.DataFrame(data_words).value_counts()"
   ]
  },
  {
   "cell_type": "code",
   "execution_count": 57,
   "metadata": {},
   "outputs": [],
   "source": [
    "def delete_top_n_words(texts, n):\n",
    "    top_words = get_top_n_words(texts, n)\n",
    "    for i in range(len(texts)):\n",
    "        for word in top_words:\n",
    "            texts[i] = texts[i].replace(word[0], \"\")\n",
    "    return (texts)\n",
    "\n",
    "lemmatized_texts_del = delete_top_n_words(lemmatized_texts, 30)"
   ]
  },
  {
   "cell_type": "code",
   "execution_count": null,
   "metadata": {},
   "outputs": [],
   "source": []
  },
  {
   "cell_type": "code",
   "execution_count": 58,
   "metadata": {},
   "outputs": [
    {
     "name": "stdout",
     "output_type": "stream",
     "text": [
      "[(0, 1), (1, 1), (2, 1), (3, 4), (4, 2), (5, 1), (6, 2), (7, 1), (8, 1), (9, 2), (10, 1), (11, 1), (12, 1), (13, 1), (14, 1), (15, 1), (16, 1), (17, 1), (18, 1), (19, 3)]\n",
      "abcdefghij\n"
     ]
    }
   ],
   "source": [
    "id2word = corpora.Dictionary(data_words)\n",
    "\n",
    "corpus = []\n",
    "for text in data_words:\n",
    "    new = id2word.doc2bow(text)\n",
    "    corpus.append(new)\n",
    "\n",
    "print (corpus[0][0:20])\n",
    "\n",
    "word = id2word[[0][:1][0]]\n",
    "print (word)"
   ]
  },
  {
   "cell_type": "code",
   "execution_count": 59,
   "metadata": {},
   "outputs": [],
   "source": [
    "lda_model = gensim.models.ldamodel.LdaModel(corpus=corpus,\n",
    "                                           id2word=id2word,\n",
    "                                           num_topics=30,\n",
    "                                           random_state=100,\n",
    "                                           update_every=1,\n",
    "                                           chunksize=100,\n",
    "                                           passes=10,\n",
    "                                           alpha=\"auto\")"
   ]
  },
  {
   "cell_type": "code",
   "execution_count": 60,
   "metadata": {},
   "outputs": [
    {
     "data": {
      "text/html": [
       "\n",
       "<link rel=\"stylesheet\" type=\"text/css\" href=\"https://cdn.jsdelivr.net/gh/bmabey/pyLDAvis@3.4.0/pyLDAvis/js/ldavis.v1.0.0.css\">\n",
       "\n",
       "\n",
       "<div id=\"ldavis_el70991406601883472164427295100\" style=\"background-color:white;\"></div>\n",
       "<script type=\"text/javascript\">\n",
       "\n",
       "var ldavis_el70991406601883472164427295100_data = {\"mdsDat\": {\"x\": [-0.4773245602067353, 0.11798599044735718, -0.5043985074983447, 0.4044119921367465, 0.46950751391317147, 0.5036486978526653, 0.46276618986736534, 0.18554178124839082, -0.3343867617316139, -0.22559827283696632, -0.32783439231783446, -0.46838593013621094, -0.08419637836293584, -0.10945888642463646, 0.05195142287101156, -0.1477166916638916, -0.3510059812725551, -0.2907857084901837, -0.031184488259768828, 0.2590127377251054, 0.12741853936858952, 0.18804701508963356, -0.2895589020306761, 0.024124646598345744, -0.194743968867531, -0.040207142357008174, 0.17602837634549928, 0.35284855077387445, 0.26047503012824536, 0.2930180880908901], \"y\": [-0.2278998658384167, -0.400172392299458, -0.021215940391080962, -0.3094609299512173, -0.16179537317796452, 0.005242933197307117, 0.23186791601161263, -0.48269995240803254, -0.3294749282321804, -0.4508345272196792, 0.01412966631148524, 0.1754578075962865, -0.09374419725405905, -0.3339002097006593, 0.5006138573871346, 0.27001332652673876, 0.3445623841723949, -0.14980645313000882, -0.46503023557692963, -0.28457855402151255, -0.12203749218453863, 0.42325821806360947, 0.18253982922291936, 0.193995978824418, 0.4375066530778805, 0.4106130278214285, 0.046260579801078706, 0.037490573456757624, 0.21441053036197583, 0.3446877695527091], \"topics\": [1, 2, 3, 4, 5, 6, 7, 8, 9, 10, 11, 12, 13, 14, 15, 16, 17, 18, 19, 20, 21, 22, 23, 24, 25, 26, 27, 28, 29, 30], \"cluster\": [1, 1, 1, 1, 1, 1, 1, 1, 1, 1, 1, 1, 1, 1, 1, 1, 1, 1, 1, 1, 1, 1, 1, 1, 1, 1, 1, 1, 1, 1], \"Freq\": [18.665130459244793, 14.53868479053627, 6.688505290114874, 6.601021017679173, 5.598150644596029, 4.332765655626957, 3.540845228400437, 3.2097193367209975, 3.142434369691638, 3.0888580768307925, 2.9962179825044197, 2.6599785581051187, 2.4458186349103928, 2.3110240102055877, 1.890806270019126, 1.6704826186298305, 1.6013990342979192, 1.5994746018611252, 1.531069259636267, 1.248546723705084, 1.2227904376423582, 1.2206249793119135, 1.1565845450129109, 1.1341383819069193, 1.132690264483604, 1.1057616610599421, 1.0644804687789131, 1.0102109750322588, 0.8167071600756619, 0.775078563378681]}, \"tinfo\": {\"Term\": [\"use\", \"file\", \"return\", \"class\", \"name\", \"function\", \"public\", \"error\", \"test\", \"type\", \"get\", \"true\", \"value\", \"try\", \"import\", \"new\", \"android\", \"line\", \"code\", \"run\", \"datum\", \"int\", \"app\", \"string\", \"object\", \"work\", \"image\", \"build\", \"project\", \"server\", \"use\", \"want\", \"way\", \"need\", \"know\", \"other\", \"example\", \"look\", \"seem\", \"like\", \"solution\", \"able\", \"even\", \"point\", \"possible\", \"different\", \"idea\", \"provide\", \"following\", \"bit\", \"happen\", \"such\", \"device\", \"above\", \"multiple\", \"single\", \"keep\", \"specific\", \"similar\", \"one\", \"only\", \"change\", \"simple\", \"make\", \"also\", \"however\", \"find\", \"thank\", \"help\", \"library\", \"set\", \"just\", \"application\", \"so\", \"see\", \"app\", \"same\", \"try\", \"code\", \"here\", \"create\", \"call\", \"add\", \"then\", \"result\", \"update\", \"end\", \"show\", \"give\", \"fine\", \"instead\", \"parameter\", \"already\", \"back\", \"move\", \"again\", \"put\", \"available\", \"solve\", \"next\", \"place\", \"byte\", \"difference\", \"comment\", \"no\", \"foo\", \"old\", \"first\", \"pass\", \"get\", \"follow\", \"now\", \"work\", \"right\", \"problem\", \"post\", \"miss\", \"method\", \"instance\", \"new\", \"long\", \"go\", \"do\", \"same\", \"request\", \"log\", \"web\", \"org\", \"api\", \"dependency\", \"context\", \"response\", \"http\", \"console\", \"filter\", \"https\", \"override\", \"param\", \"internal\", \"login\", \"route\", \"match\", \"password\", \"never\", \"resolve\", \"authentication\", \"username\", \"handler\", \"credential\", \"rest\", \"invoke\", \"annotation\", \"www\", \"auth\", \"error\", \"user\", \"com\", \"url\", \"xml\", \"header\", \"fail\", \"access\", \"app\", \"application\", \"question\", \"more\", \"case\", \"good\", \"answer\", \"store\", \"take\", \"very\", \"really\", \"memory\", \"task\", \"far\", \"lot\", \"much\", \"actually\", \"too\", \"kind\", \"easy\", \"report\", \"large\", \"domain\", \"consider\", \"maybe\", \"rather\", \"fast\", \"course\", \"avoid\", \"separate\", \"explain\", \"statement\", \"well\", \"mean\", \"understand\", \"as\", \"think\", \"most\", \"handle\", \"so\", \"go\", \"access\", \"time\", \"write\", \"issue\", \"system\", \"check\", \"directory\", \"correct\", \"step\", \"appreciate\", \"appear\", \"copy\", \"level\", \"stream\", \"loop\", \"ask\", \"runtime\", \"behavior\", \"stop\", \"performance\", \"turn\", \"great\", \"replace\", \"platform\", \"bug\", \"actual\", \"high\", \"development\", \"assembly\", \"hope\", \"instruction\", \"read\", \"run\", \"location\", \"load\", \"execute\", \"many\", \"wrong\", \"debug\", \"default\", \"expect\", \"public\", \"string\", \"void\", \"private\", \"static\", \"this\", \"final\", \"extend\", \"stre\", \"namespace\", \"generic\", \"member\", \"declaration\", \"partial\", \"abstract\", \"destroy\", \"inherit\", \"derive\", \"prior\", \"class\", \"strongly\", \"interface\", \"throw\", \"cs\", \"new\", \"for\", \"entity\", \"method\", \"int\", \"implement\", \"set\", \"id\", \"get\", \"long\", \"datum\", \"start\", \"process\", \"thread\", \"field\", \"state\", \"native\", \"search\", \"save\", \"block\", \"token\", \"own\", \"record\", \"protect\", \"operation\", \"delete\", \"network\", \"structure\", \"transaction\", \"slow\", \"retrieve\", \"callback\", \"ok\", \"functionality\", \"speed\", \"employee\", \"amount\", \"initial\", \"world\", \"track\", \"data\", \"generate\", \"local\", \"reference\", \"contain\", \"reason\", \"framework\", \"tag\", \"approach\", \"apply\", \"non\", \"fetch\", \"pointer\", \"modify\", \"develop\", \"relate\", \"entry\", \"design\", \"article\", \"dynamic\", \"asp\", \"force\", \"accord\", \"various\", \"somehow\", \"before\", \"prefer\", \"less\", \"logic\", \"scenario\", \"hard\", \"object\", \"collection\", \"note\", \"interface\", \"function\", \"model\", \"self\", \"column\", \"input\", \"print\", \"def\", \"row\", \"index\", \"group\", \"div\", \"double\", \"scope\", \"util\", \"django\", \"mock\", \"nil\", \"timestamp\", \"term\", \"pull\", \"cast\", \"behaviour\", \"args\", \"tableview\", \"btn\", \"pop\", \"dictionary\", \"normally\", \"iteration\", \"alter\", \"action\", \"controller\", \"id\", \"data\", \"name\", \"value\", \"var\", \"list\", \"text\", \"property\", \"item\", \"title\", \"trigger\", \"launch\", \"active\", \"category\", \"func\", \"foreach\", \"phone\", \"white\", \"selector\", \"runat\", \"timer\", \"keyboard\", \"to\", \"transition\", \"swift\", \"plist\", \"organization\", \"odd\", \"uiapplication\", \"foreground\", \"popular\", \"movie\", \"bind\", \"let\", \"present\", \"type\", \"table\", \"event\", \"database\", \"remove\", \"order\", \"figure\", \"wonder\", \"language\", \"insert\", \"perform\", \"standard\", \"simply\", \"sort\", \"real\", \"syntax\", \"cluster\", \"at\", \"least\", \"db\", \"engine\", \"fact\", \"previous\", \"conversion\", \"blog\", \"parser\", \"sql\", \"interested\", \"dom\", \"coordinate\", \"require\", \"specify\", \"page\", \"form\", \"react\", \"content\", \"link\", \"window\", \"site\", \"click\", \"button\", \"browser\", \"container\", \"address\", \"bar\", \"css\", \"deploy\", \"hide\", \"submit\", \"become\", \"symbol\", \"relevant\", \"mobile\", \"embed\", \"modal\", \"desktop\", \"expose\", \"navigate\", \"focus\", \"license\", \"area\", \"advantage\", \"display\", \"open\", \"load\", \"build\", \"project\", \"source\", \"exception\", \"plugin\", \"target\", \"fix\", \"custom\", \"info\", \"tool\", \"configure\", \"disable\", \"sequence\", \"sometimes\", \"free\", \"unfortunately\", \"builder\", \"attach\", \"workaround\", \"beta\", \"integrate\", \"front\", \"strange\", \"hint\", \"light\", \"bring\", \"community\", \"inner\", \"de\", \"highlight\", \"configuration\", \"occur\", \"file\", \"import\", \"include\", \"compile\", \"detect\", \"extract\", \"cpp\", \"panda\", \"age\", \"efficient\", \"dataframe\", \"artifact\", \"unnecessary\", \"ids\", \"dst\", \"flatten\", \"main\", \"parse\", \"header\", \"open\", \"abcdefghij\", \"rolling\", \"ltrim\", \"patindex\", \"str_col\", \"udfs\", \"metal\", \"metouia\", \"mlf\", \"newi\", \"consider\", \"do\", \"dtype\", \"float\", \"get\", \"index\", \"list\", \"none\", \"np\", \"version\", \"package\", \"module\", \"command\", \"install\", \"session\", \"instal\", \"lib\", \"status\", \"download\", \"dev\", \"exit\", \"val\", \"hash\", \"author\", \"executable\", \"win\", \"argv\", \"zip\", \"personal\", \"replacement\", \"late\", \"environment\", \"fail\", \"most\", \"error\", \"library\", \"run\", \"abcdefghij\", \"rolling\", \"find\", \"open\", \"test\", \"variable\", \"template\", \"struct\", \"unit\", \"testing\", \"position\", \"constructor\", \"declare\", \"drop\", \"env\", \"terminal\", \"exact\", \"drag\", \"candidate\", \"examine\", \"crop\", \"grunt\", \"int\", \"matching\", \"main\", \"expect\", \"note\", \"std\", \"abcdefghij\", \"rolling\", \"ltrim\", \"patindex\", \"str_col\", \"udfs\", \"consider\", \"do\", \"dtype\", \"float\", \"get\", \"return\", \"null\", \"config\", \"auto\", \"section\", \"manually\", \"if\", \"perfectly\", \"refuse\", \"xxx\", \"extern\", \"endif\", \"ns\", \"internally\", \"tick\", \"dllimport\", \"user_id\", \"else\", \"abcdefghij\", \"rolling\", \"ltrim\", \"patindex\", \"str_col\", \"udfs\", \"metal\", \"metouia\", \"mlf\", \"newi\", \"plaf\", \"sourceforge\", \"result\", \"consider\", \"do\", \"dtype\", \"float\", \"get\", \"import\", \"index\", \"list\", \"none\", \"np\", \"key\", \"option\", \"feature\", \"component\", \"path\", \"resource\", \"email\", \"argument\", \"root\", \"word\", \"php\", \"menu\", \"primary\", \"serve\", \"theme\", \"doc\", \"chart\", \"foreign\", \"ad\", \"history\", \"week\", \"conf\", \"nested\", \"cost\", \"scheme\", \"benefit\", \"ton\", \"natively\", \"approximately\", \"maintenance\", \"default\", \"server\", \"service\", \"client\", \"connection\", \"connect\", \"host\", \"port\", \"side\", \"big\", \"remote\", \"localhost\", \"proxy\", \"driver\", \"protocol\", \"linq\", \"breakpoint\", \"alive\", \"cf\", \"phpmyadmin\", \"fname\", \"ship\", \"datagridview\", \"close\", \"mode\", \"bind\", \"ioredi\", \"abcdefghij\", \"rolling\", \"ltrim\", \"patindex\", \"open\", \"on\", \"consider\", \"true\", \"false\", \"attribute\", \"none\", \"float\", \"random\", \"calculate\", \"numpy\", \"schema\", \"np\", \"exclude\", \"seed\", \"postgresql\", \"confused\", \"prefix\", \"serialize\", \"dtype\", \"workflow\", \"dd\", \"heavy\", \"staging\", \"abstraction\", \"baseurl\", \"abcdefghij\", \"rolling\", \"ltrim\", \"patindex\", \"str_col\", \"udfs\", \"metal\", \"consider\", \"do\", \"get\", \"import\", \"index\", \"list\", \"line\", \"size\", \"release\", \"stack\", \"warning\", \"character\", \"expression\", \"account\", \"fit\", \"regular\", \"deprecate\", \"up\", \"reader\", \"rail\", \"equivalent\", \"accomplish\", \"special\", \"overflow\", \"truncate\", \"mainly\", \"shrink\", \"lowercase\", \"abcdefghij\", \"rolling\", \"ltrim\", \"patindex\", \"str_col\", \"udfs\", \"metal\", \"metouia\", \"consider\", \"do\", \"dtype\", \"float\", \"get\", \"import\", \"index\", \"message\", \"send\", \"json\", \"net\", \"control\", \"receive\", \"success\", \"basically\", \"notification\", \"ajax\", \"believe\", \"fire\", \"dim\", \"student\", \"datatype\", \"incoming\", \"resort\", \"incorporate\", \"blah\", \"body\", \"parse\", \"abcdefghij\", \"rolling\", \"ltrim\", \"patindex\", \"str_col\", \"udfs\", \"metal\", \"metouia\", \"mlf\", \"post\", \"consider\", \"do\", \"dtype\", \"float\", \"get\", \"import\", \"index\", \"script\", \"node\", \"export\", \"src\", \"angular\", \"js\", \"website\", \"layer\", \"dist\", \"product\", \"icon\", \"asset\", \"press\", \"graph\", \"min\", \"github\", \"ts\", \"exe\", \"material\", \"linux\", \"ui\", \"mouse\", \"hover\", \"automate\", \"node_modules\", \"each\", \"cd\", \"groovy\", \"visualization\", \"concatenate\", \"android\", \"view\", \"upload\", \"ios\", \"activity\", \"worker\", \"intent\", \"pool\", \"reset\", \"running\", \"simulator\", \"tap\", \"accordingly\", \"nsurl\", \"quit\", \"urlwithstring\", \"manifest\", \"app\", \"xml\", \"action\", \"com\", \"viewgroup\", \"layout_height\", \"wrap_content\", \"layout_width\", \"match_parent\", \"abcdefghij\", \"rolling\", \"ltrim\", \"patindex\", \"consider\", \"do\", \"dtype\", \"java\", \"program\", \"map\", \"render\", \"machine\", \"setting\", \"integer\", \"normal\", \"sun\", \"reflect\", \"repeat\", \"encrypt\", \"javax\", \"exec\", \"relationship\", \"locate\", \"individual\", \"distance\", \"ini\", \"encryption\", \"swing\", \"mid\", \"board\", \"consecutive\", \"complicate\", \"entity\", \"cause\", \"viewgroup\", \"abcdefghij\", \"rolling\", \"consider\", \"output\", \"number\", \"define\", \"break\", \"manage\", \"definition\", \"scale\", \"firebase\", \"filename\", \"refer\", \"matrix\", \"nest\", \"sound\", \"explicit\", \"previously\", \"guide\", \"directive\", \"quote\", \"introduce\", \"angle\", \"bracket\", \"comma\", \"gather\", \"illegal\", \"crazy\", \"sparse\", \"enclose\", \"merely\", \"legal\", \"incorrect\", \"element\", \"document\", \"html\", \"style\", \"frame\", \"top\", \"px\", \"height\", \"width\", \"fill\", \"border\", \"iframe\", \"mode\", \"head\", \"body\", \"ready\", \"xsd\", \"abcdefghij\", \"rolling\", \"ltrim\", \"patindex\", \"str_col\", \"udfs\", \"metal\", \"metouia\", \"mlf\", \"newi\", \"plaf\", \"sourceforge\", \"uiinstaller\", \"consider\", \"do\", \"dtype\", \"float\", \"get\", \"import\", \"index\", \"list\", \"none\", \"np\", \"numpy\", \"object\", \"image\", \"color\", \"background\", \"label\", \"advance\", \"scroll\", \"transform\", \"draw\", \"rect\", \"associate\", \"is\", \"transparent\", \"mask\", \"subclass\", \"overlay\", \"relative\", \"cover\", \"that\", \"arbitrary\", \"uiimage\", \"tests\", \"subview\", \"uiscrollview\", \"uiimageview\", \"uilabel\", \"drawrect\", \"leave\", \"display\", \"right\", \"abcdefghij\", \"constraint\", \"pattern\", \"execution\", \"fun\", \"servlet\", \"condition\", \"snippet\", \"sum\", \"opt\", \"verbose\", \"warn\", \"weight\", \"greatly\", \"region\", \"obtain\", \"optimize\", \"reduce\", \"startup\", \"evaluate\", \"tr\", \"ever\", \"terminate\", \"bound\", \"optimization\", \"linear\", \"score\", \"plain\", \"beginning\", \"options\", \"indeed\", \"query\", \"select\", \"format\", \"date\", \"convert\", \"day\", \"join\", \"month\", \"datetime\", \"dbo\", \"clause\", \"typically\", \"year\", \"hour\", \"minute\", \"islamic\", \"abcdefghij\", \"rolling\", \"ltrim\", \"patindex\", \"str_col\", \"udfs\", \"metal\", \"metouia\", \"mlf\", \"newi\", \"plaf\", \"sourceforge\", \"uiinstaller\", \"capsule\", \"consider\", \"do\", \"dtype\", \"float\", \"get\", \"import\", \"index\", \"list\", \"none\", \"np\", \"numpy\", \"object\", \"obviously\"], \"Freq\": [95011.0, 37734.0, 34220.0, 34686.0, 27948.0, 27936.0, 29318.0, 37290.0, 21558.0, 25101.0, 46497.0, 17988.0, 22626.0, 40338.0, 20378.0, 33449.0, 16379.0, 16340.0, 36215.0, 25811.0, 19012.0, 16508.0, 21294.0, 19107.0, 17142.0, 37515.0, 11715.0, 14084.0, 13842.0, 12265.0, 95010.34840073406, 23963.38376220282, 23599.002282681282, 20420.570290433003, 16602.091608527404, 15735.682611268277, 15499.447185867231, 14503.584673989937, 12713.298118966484, 10209.14484861807, 9855.117829373514, 8089.365561634096, 7735.280333531766, 7625.697681169104, 7519.712783977275, 7438.459188665021, 6380.785586239159, 6016.674628652787, 5953.37100328952, 5505.107947780747, 5449.584533272806, 4984.112551350545, 4676.002619412819, 4388.225116122043, 4111.270355906358, 4026.9749746417465, 3982.835496299224, 3928.334841273055, 3872.0576966836907, 3651.443513786996, 17867.11486381802, 14182.840434845777, 6747.693180934574, 16712.276498687796, 15363.010100851083, 11169.779807531415, 22645.836714248104, 9705.471064979867, 10082.066703157498, 8159.275146087225, 16748.965989502747, 13372.60149280306, 13748.584445439257, 16696.58548018086, 11564.888101283173, 11931.182264169747, 8194.322102338596, 40337.42624185613, 36213.91193618498, 23734.008523046512, 23673.8804788701, 20445.439307225646, 19443.537751324046, 17382.140994731602, 12144.616325037825, 11463.359306649048, 10808.71813209969, 10339.740313757158, 10256.701531634411, 7819.004594473123, 5676.247804709803, 5311.769783484151, 4942.0898493879, 4730.451224599607, 3789.063685625122, 3690.0390049825037, 3662.7814233166077, 3540.2807057817754, 3512.9772026590936, 3487.786958474959, 3478.5375632803048, 3281.6510611634253, 3131.69541595537, 2787.1769524722295, 2648.91529342735, 2396.1646125250595, 2335.098666190116, 10319.834815451115, 6125.635180816901, 44951.13524147343, 15854.1853186924, 12290.05132253165, 30736.78654351012, 6355.6377380454605, 14703.364547423873, 6619.359432808681, 4145.666758296251, 13784.07278585884, 5012.166573727491, 18777.9788957449, 4936.380475355604, 6460.867046912548, 6376.222176370819, 6830.852736531196, 13176.85980733287, 12155.7956933057, 10241.934530332253, 8863.482893954972, 8251.344392399524, 6469.700610333106, 6407.470567370946, 6366.831947357763, 6271.58152140212, 5572.238166727826, 4408.323016329878, 4200.776064925939, 4117.885217690333, 3768.00522082783, 3476.179249330617, 3435.884797775886, 3375.228249149022, 2829.8795546466813, 2529.3250217789628, 2464.0295529899, 2421.4221931234806, 2237.1381681258217, 2076.0582373193233, 2051.8617506267556, 1878.6885905832162, 1844.8604680180533, 1836.29168959543, 1797.2125244116626, 1772.0374173044083, 1590.3544447629454, 34446.37961709078, 17355.97732710076, 9105.7614435549, 5877.987584190625, 4428.6950079109165, 4446.566095511044, 6636.495823419336, 4205.733213888104, 6077.650216511028, 4288.878376744523, 14230.611878668016, 10627.19837406139, 10450.030068359762, 7921.918271945838, 7285.955387145434, 7034.731272282865, 6997.060191318653, 6679.976609426244, 6302.272399739642, 6273.966832584813, 6021.199305538362, 4716.084367713886, 4317.825697648868, 4291.155915158147, 3750.2601477921594, 3582.1905313927473, 3079.3643662628015, 2983.6746583116656, 2691.3577218959585, 2561.327092853428, 2491.771143086333, 2413.590242879892, 2354.920521868064, 2346.8247337797247, 2329.419383212882, 2306.8894713644986, 2269.956842399347, 2257.708779364183, 2231.982515778623, 2231.38499779225, 8675.596950646473, 4348.704234260037, 5088.588798527905, 6551.325497395539, 7866.166993466392, 4170.047148098544, 3292.0364306211786, 7830.43362321594, 3336.755267905228, 2627.7170418411356, 16700.872152084845, 10860.529898391756, 10561.5645505439, 9592.36954524778, 7937.041689378468, 4258.129872109681, 4216.3404562511105, 3689.750528734681, 3688.5922358728126, 3589.610011602831, 3584.4833066750807, 3372.1752755727975, 3112.502802794857, 2732.4773226645684, 2688.798602449084, 2642.64997658515, 2575.9811015277587, 2525.014201183158, 2497.7102727515316, 2431.22761985087, 2403.570719855347, 2325.5156580972534, 2265.4903480110684, 2089.3902160337466, 2023.4769731892382, 2003.8014384422916, 1990.580784438038, 1909.9083165491822, 1843.7517762475047, 1715.3751007768428, 9115.582629596393, 24941.25093350016, 4985.902623636762, 8447.084480086181, 5229.828132935682, 4303.519732214825, 4472.989504878689, 4765.858315340732, 6117.1198582758125, 4458.362112587122, 29317.045849125796, 19106.623001513668, 11172.167885602905, 10972.76513960017, 8272.329296358803, 7285.8279897542825, 5160.952698362993, 3860.741025767241, 2767.2823418288085, 2689.7751330607625, 2007.4274911388393, 1689.9075756256434, 947.7882385575504, 893.9383132653579, 883.8927506611484, 567.1413365379218, 470.0073514993688, 453.968604062762, 302.3272774964723, 34510.83852393269, 131.9237441368975, 1865.013291602364, 2603.2756135230547, 228.72320695164268, 14670.451001589152, 201.2976248737432, 1332.4283595494028, 4408.695639155168, 3701.5614129828155, 1604.3138873120888, 2979.2963926925777, 1004.0195004194157, 1545.501205678428, 547.2580466730058, 19011.171874670294, 10870.557057178306, 8395.422768060273, 6339.9068069839595, 6095.833239253098, 5430.857589213137, 5168.88564427493, 5119.462520678087, 4284.889171340066, 3583.0762294057904, 3450.5604544870507, 3397.657263907332, 3314.8933374871626, 3018.396217405285, 2990.8308930879143, 2863.2086172876384, 2622.558205510154, 2507.8620950315935, 2335.7322796300555, 2028.0817303244025, 1683.2301965006043, 1681.9899041388367, 1681.2973450435545, 1511.0740491301945, 1327.7287969652791, 1296.133690422396, 1285.4937345916273, 1205.9323984931002, 1189.3068746843003, 1132.0747650498924, 6900.06026859351, 7491.644941010869, 7485.726843264237, 5877.505725163633, 5673.499979421414, 3944.562808351385, 3909.648649592175, 3719.5847491789987, 3397.2773639248353, 3352.3149127386737, 3077.888731709734, 3058.9114470671707, 2655.5971152176157, 2506.7381436117867, 2298.798292471859, 2173.176670839438, 1911.2501549314427, 1899.843610562641, 1800.7481976305485, 1748.0466363153994, 1603.507403807701, 1548.3542131371944, 1520.765811379166, 1372.8514819260165, 1343.2026027323927, 1336.1278605458613, 1258.3287960168361, 1256.1329297113755, 1229.1928545605115, 1186.1603685060093, 1165.7814561509658, 16849.688206815194, 2559.321897360551, 2780.6053161884684, 1516.9035711635654, 27934.943258362913, 8436.193785058578, 7764.819191460528, 6749.2640031679375, 6737.366852808146, 5381.242982955637, 5324.667567731409, 4927.398835569859, 4026.2204777385123, 3790.3636054281455, 3573.2020397280203, 3091.4151935470086, 2636.2686567235846, 1421.5407328016659, 1337.3367200357359, 1335.3666769735814, 1287.064437486391, 1168.5947420511209, 1075.0766219939476, 1051.513688257717, 939.2798450088231, 883.7099307174027, 854.0321994179069, 763.420458259668, 745.8738199335944, 737.1963958832611, 703.1770314169408, 663.194077730806, 634.4644296549722, 592.4114230675583, 4061.4023309441554, 3886.414261072299, 4665.6580097204105, 902.6611042087711, 27947.54607665468, 22624.979583936223, 11318.399932324499, 10798.782802880027, 10462.979732807937, 8448.548603418481, 6906.948956280828, 4089.494301752206, 2193.0560321776134, 1599.4108627145893, 1554.4869541936096, 1477.4906296659942, 1239.791739963053, 1073.3096957590112, 1041.533305463556, 917.8962591383745, 768.735547489401, 767.9829481218854, 680.4670282340828, 623.8907968506429, 507.1947321881592, 464.68802735450186, 459.667476987293, 349.0127080025463, 340.3952044225747, 320.0196015839699, 311.9620707119336, 187.46007233223335, 131.50980812456856, 122.44010736349772, 2791.22853019557, 4769.8913063825175, 353.0810238073611, 25100.329117373687, 11276.634103633935, 8161.598755216333, 7951.485924347126, 4833.455234445957, 4419.8705001784665, 3105.2543677165017, 2876.777041189365, 2777.7743206248047, 2657.5380263135535, 2499.955799051492, 2431.94055937948, 2334.1456068855214, 2241.803939266581, 1915.4040791112673, 1881.1931680219575, 1861.5145267843325, 1827.9656000590521, 1647.7866575232827, 1460.6053675335481, 1371.508094147508, 1321.3597238127265, 1273.4465989083515, 1198.8228960728065, 1159.2100919456432, 1028.9855724617446, 1010.8858226316312, 980.0666530006574, 944.1825123412099, 922.0747382875142, 5762.273683878725, 2416.504320289473, 9946.291862451431, 8061.0936050056935, 6948.546002600194, 6863.837430558577, 6164.241404905441, 5715.7953943781295, 5499.400035466523, 5131.8722473165935, 5010.467900596348, 4768.159482263056, 4722.396646670454, 2928.405858215886, 2245.2231951996955, 2238.6226266934923, 2056.4784583588835, 1819.2742499522276, 1424.1740077170027, 1358.946280224944, 1305.5849846867584, 1152.3593550530516, 1074.6669712282953, 1005.89413947957, 963.102325441964, 882.8702265454693, 873.0055331263957, 867.9002596897532, 840.718166952454, 766.4101910223375, 687.2360718806074, 599.3281426855343, 4617.317603958591, 2049.2727526588114, 883.3823597892439, 14083.002431782355, 13841.662028430881, 7478.438918701176, 6512.401782477323, 5863.09136208853, 4916.08894902057, 4219.423479439001, 4136.309921287358, 3752.122062519736, 3000.1906513124063, 2775.338363527764, 1760.5826155498164, 1687.5559390820515, 1430.400889423628, 1381.640033046291, 1338.4471549161508, 1284.2812358988429, 1265.9716143201292, 972.7560848774407, 939.606963711619, 895.8294082611887, 796.5349370517772, 773.8523124481353, 674.7989876297314, 647.5285676054401, 572.1715916657719, 542.5384552885477, 539.9154260025806, 515.1238950451382, 414.7496923368169, 5840.475233651103, 572.7803738463147, 37733.00343648495, 20377.45375746873, 10514.56762116176, 7863.885565563505, 1745.0032968210778, 1089.5817722063857, 791.4777715159533, 785.0259095628676, 672.8036959626922, 664.9955995160456, 644.3356612771485, 571.3919962797845, 211.29905645814674, 89.04475122273551, 81.72573494394067, 54.22305753905137, 8181.647666878961, 1727.1072476875524, 642.7870517859316, 704.0216674843252, 0.03804489520874821, 0.03804489520874821, 0.03804489520874821, 0.03804489520874821, 0.03804489520874821, 0.03804489520874821, 0.03804489520874821, 0.03804489520874821, 0.03804489520874821, 0.03804489520874821, 0.03804489520874821, 0.03804489520874821, 0.03804489520874821, 0.03804489520874821, 0.03804489520874821, 0.03804489520874821, 0.03804489520874821, 0.03804489520874821, 0.03804489520874821, 12723.55244952651, 11145.337735457211, 7683.073755312657, 7148.017509283498, 4497.253929844146, 4398.2743363053, 3787.0657754923236, 3228.4737459707144, 3032.0110974954496, 2632.750988020723, 1957.6329109947892, 1774.5488458935183, 1309.260509816279, 959.1154576761281, 680.1442120523222, 626.462995905061, 494.6844032594023, 481.7514324734065, 444.4813012776533, 222.51664014695012, 111.8133797094456, 787.1598761831078, 532.4929814240274, 1431.9406905530345, 485.04712859246206, 2843.433021159949, 414.63826074295196, 868.6390549567624, 0.03630697595225332, 0.03630697595225332, 471.7126566689894, 118.22022770650543, 21556.953992099458, 5761.362091740511, 4966.45779798188, 3167.6245293557095, 2494.187916999197, 2490.574361074678, 2369.3516619868274, 2182.3589590504157, 1694.6896037464046, 1415.2399876615652, 1291.3569462776652, 919.9217475219847, 853.742927766763, 772.08300233913, 465.9031642415551, 204.08063678827492, 152.59437753278183, 64.82667500267316, 12805.740109775146, 44.98443080547536, 885.8754172224357, 431.5808614985617, 259.54266580030753, 0.041748448731889244, 0.04174844465540783, 0.04174844465540783, 0.04174844465540783, 0.04174844465540783, 0.04174844465540783, 0.04174844465540783, 0.04174844465540783, 0.04174844465540783, 0.04174844465540783, 0.04174844465540783, 0.04174844465540783, 34219.776941486096, 9455.486760398144, 5386.840169535676, 2850.274144869198, 2546.6405416697535, 1734.4085071934303, 1280.5052503012419, 1077.293224785528, 497.98323845418287, 451.3472678994511, 300.2435987855723, 260.99099528989586, 196.73108670425387, 192.81409223760258, 140.29703562565282, 134.23369677431086, 30.817321201117217, 3626.3054537905855, 0.04083223634052319, 0.04083223634052319, 0.04083223634052319, 0.04083223634052319, 0.04083223634052319, 0.04083223634052319, 0.04083223634052319, 0.04083223634052319, 0.04083223634052319, 0.04083223634052319, 0.04083223634052319, 0.04083223634052319, 0.04083224806421309, 0.04083223634052319, 0.04083223634052319, 0.04083223634052319, 0.04083223634052319, 0.04083223634052319, 0.04083223634052319, 0.04083223634052319, 0.04083223634052319, 0.04083223634052319, 0.04083223634052319, 7372.523894422628, 7194.834370877623, 7189.272252549099, 6877.847344181968, 6259.8040121512095, 4453.655983847345, 3213.600324753388, 2842.5929120728933, 2691.999274568508, 1998.0840850621148, 1866.8758777614503, 1555.9218974592025, 1452.7198410111541, 1200.1817884661061, 1124.6084497583795, 1109.290113942277, 909.3652268405498, 744.9262146985584, 705.3947325632904, 625.84689912003, 572.5815712098874, 457.84746872541064, 360.48024553428036, 337.9731582747217, 332.9743438380391, 327.69622761925774, 122.58726282664297, 110.35608302197274, 108.88071572337307, 51.582382791661644, 473.2493872385259, 12264.33253405397, 11158.99520679725, 7445.662223703883, 5927.208940401076, 4419.041256392742, 3586.0497324802764, 3271.217004373353, 2446.527466940893, 1624.8318356783504, 1605.5844739837883, 1427.095315137152, 1326.1219301573585, 1199.954752523942, 692.2436534925895, 589.3732137936145, 550.257279972407, 265.7372702928202, 113.20162890961915, 78.62274875817788, 61.564583006270986, 60.53065681159866, 55.159238043789095, 760.0968137337902, 372.1850262940504, 124.13878600232772, 0.03812915135310338, 0.038129147616832615, 0.038129147616832615, 0.038129147616832615, 0.038129147616832615, 198.2499465558307, 29.075879611483234, 0.038129147616832615, 17987.12139001827, 10648.330253448978, 3972.02057259535, 3943.2427112523937, 2103.440182343604, 1290.059256530067, 1175.963568507234, 1013.6771130857817, 956.6875747841955, 858.1466321138115, 689.330136868469, 667.1998253159611, 632.3901684040928, 603.4471741089803, 540.6444866503455, 451.45452187106304, 348.20596720352245, 313.18794724984673, 220.38180543892713, 213.6295749348536, 179.4925427752791, 179.251744686415, 132.51466393123462, 0.04191117153919445, 0.04191117153919445, 0.04191117153919445, 0.04191117153919445, 0.04191117153919445, 0.04191117153919445, 0.04191117153919445, 0.04191117153919445, 0.04191117153919445, 0.04191117153919445, 0.04191117153919445, 0.04191117153919445, 0.04191117153919445, 16339.69409738558, 6069.990006779457, 3377.6228916145487, 3050.6736662558274, 3041.966253094754, 2993.6170928803995, 1954.9742210618895, 1514.9812575870726, 1155.1957995197665, 1110.2091604301052, 1020.0458977049898, 968.9731041797419, 950.0368370276718, 847.0200393219953, 828.3727090370475, 797.3535029957161, 768.9550178955166, 732.8934968517505, 244.57222452870934, 200.4493648922319, 63.97526077093256, 29.701625204680322, 0.041469426997528154, 0.041469426997528154, 0.041469426997528154, 0.041469426997528154, 0.041469426997528154, 0.041469426997528154, 0.041469426997528154, 0.041469426997528154, 0.041469426997528154, 0.041469426997528154, 0.041469426997528154, 0.041469426997528154, 0.041469426997528154, 0.041469426997528154, 0.041469426997528154, 9573.732771749323, 6272.421820183936, 5653.504516242431, 4670.5241581956125, 3689.7703840088348, 3605.438959535951, 1803.971567167441, 1739.6793974349264, 1498.914449440444, 1490.2728209715422, 1341.4526486540049, 949.9834432880497, 762.6107796100538, 612.0974392134297, 368.1992957429149, 239.60187709862734, 186.08729269549193, 173.3695355705251, 34.115330994095984, 2921.5645950476846, 454.0544445994166, 0.039085019752995095, 0.039085019752995095, 0.039085019752995095, 0.039085019752995095, 0.039085019752995095, 0.039085019752995095, 0.039085019752995095, 0.039085019752995095, 0.039085019752995095, 181.85508013993598, 0.039085019752995095, 0.039085019752995095, 0.039085019752995095, 0.039085019752995095, 0.039085019752995095, 0.039085019752995095, 0.039085019752995095, 7839.879752657753, 3947.011685934078, 3764.198266450182, 2931.2459742765313, 2772.8994347413095, 2738.291770620977, 2092.0311596729257, 2002.1756066518215, 1808.8030013145897, 1577.639216674288, 1552.2830019398025, 1256.7210574920498, 1238.6814155778989, 1116.7968623817617, 1102.569817931244, 1024.4136045945365, 915.5854220012877, 875.1389087719037, 854.1737845423628, 814.7590328427743, 791.4568152233146, 502.9346362941148, 381.0066383168174, 368.56309577387935, 354.13411054707007, 186.2580426568626, 169.00424492688825, 140.89342528795635, 138.40132720783174, 118.189284387106, 16378.811713053583, 11412.643007407103, 2148.908867130351, 1625.6363501619405, 1497.9525132913006, 1347.809474811657, 1230.594258803419, 993.1867455619026, 760.861500936198, 533.5479680922027, 495.74755232689404, 460.1600183488822, 211.95084782589868, 122.0602508728831, 103.66455156106674, 6.252553156674015, 107.31915523902587, 3284.6854423222094, 625.5322234674355, 520.9427357477484, 748.8390879932339, 0.038085996573265245, 0.03808598827034611, 0.03808598827034611, 0.03808598827034611, 0.03808598827034611, 0.03808598550270639, 0.03808598550270639, 0.03808598550270639, 0.03808598550270639, 0.03808598550270639, 0.03808598550270639, 0.03808598550270639, 7429.057029369797, 5057.22721668825, 4481.322262708036, 3676.767397293605, 2744.4248050787405, 2606.341144263278, 1782.8173197133576, 1753.7254233252356, 1667.3152614181813, 1476.2158823110844, 959.6589621457786, 800.5588213515044, 738.5169290511461, 731.0413404214025, 694.5771553027589, 680.9749452059726, 657.5752310331466, 585.1813845619773, 399.48362556872644, 295.8826802793591, 285.59012015406745, 277.0582776008254, 224.9705374919862, 169.20351401513824, 46.74879735602928, 3188.3466343348437, 701.9662908384146, 0.04222628899631668, 0.04222628346810494, 0.04222628346810494, 0.04222628346810494, 7881.299983262848, 7750.902487655598, 6394.582354277126, 2914.891951883731, 2893.651481457313, 1683.7641521232404, 1477.4889620165018, 1355.135116374663, 1132.0137981079795, 1128.1789833448718, 1049.8487581309653, 873.7542764192364, 784.1683349291177, 756.8643123423384, 708.0778997259165, 665.7267165550006, 632.1971989155695, 506.1559803740652, 498.43192777921496, 261.13784328376425, 250.21549593447398, 217.08915552852415, 175.9901781985879, 150.6267071659298, 138.60034741681667, 125.06160330607727, 102.03711948985088, 91.95179208354405, 74.90950766636986, 152.7203705741936, 7762.740036122743, 4170.52642614628, 4164.952434190019, 3928.122977897299, 3895.0841969146018, 3042.192267364864, 2474.7531787688745, 2407.9168579570733, 1698.2466616200456, 1487.100775190657, 978.7772914086567, 629.5540209948363, 2809.5725011672635, 632.7290360666783, 1357.745159864253, 63.08557065247691, 0.03923998335473118, 0.039239972964117596, 0.039239972964117596, 0.039239972964117596, 0.039239972964117596, 0.039239972964117596, 0.039239972964117596, 0.039239972964117596, 0.039239972964117596, 0.039239972964117596, 0.039239972964117596, 0.039239972964117596, 0.039239972964117596, 0.039239972964117596, 0.039239972964117596, 0.039239972964117596, 0.039239972964117596, 0.039239972964117596, 0.039239972964117596, 0.039239972964117596, 0.039239972964117596, 0.039239972964117596, 0.039239972964117596, 0.039239972964117596, 0.039239972964117596, 0.039239972964117596, 11714.73490648268, 4814.626113049134, 3920.400667812199, 3812.5007902970437, 1926.1682349646187, 1880.7205855403033, 1698.5108995876074, 1090.3110076161356, 750.0382440472198, 711.9870014933882, 596.3330218889627, 520.3132962103073, 502.33470893933037, 496.90102129442204, 479.4848669414214, 477.21275912326433, 428.73092042324237, 400.136507752083, 317.85564150398636, 300.4254717669615, 212.14777812825568, 141.76679081740528, 95.04667983070895, 66.14228786094108, 49.112248250023676, 37.07739046123262, 536.1896566579571, 896.1106961438982, 463.1507648593425, 0.03771839274372076, 2882.9022198874213, 2588.983578510634, 1837.3452113734836, 1564.2478816802502, 1516.520995992202, 1402.7608859047232, 1049.1995723284235, 1023.4952554740237, 1015.5598659420685, 918.3489441429848, 890.8099574442012, 879.6482056753158, 739.3400121585096, 735.9414353350402, 728.2309631470517, 689.3817818446452, 665.4476768153214, 642.9167582123824, 615.0366729980536, 600.6069584265853, 580.5904903397343, 552.704005038382, 546.9598289743258, 519.4047114439628, 509.59579439641027, 495.4495449037711, 438.50757881413136, 435.8844574326657, 423.4051040745814, 397.90950842555833, 5736.56113659609, 5133.522879702679, 4266.696848853963, 4033.805470236545, 3420.7076508631903, 2127.4138849922056, 1572.2554218512964, 804.4785969968008, 703.0929976836651, 309.2002143898775, 300.3852677264123, 230.65232210799363, 549.7865620738845, 152.5918886014305, 88.20685847520515, 0.035962705027156615, 0.035962701244305686, 0.035962701244305686, 0.035962701244305686, 0.035962701244305686, 0.035962701244305686, 0.035962701244305686, 0.035962701244305686, 0.035962701244305686, 0.035962701244305686, 0.035962701244305686, 0.035962701244305686, 0.035962701244305686, 0.035962701244305686, 0.035962701244305686, 0.035962701244305686, 0.035962701244305686, 0.035962701244305686, 0.035962701244305686, 0.035962701244305686, 0.035962701244305686, 0.035962701244305686, 0.035962701244305686, 0.035962701244305686, 0.035962701244305686, 0.035962701244305686, 0.035962701244305686, 0.035962701244305686], \"Total\": [95011.0, 37734.0, 34220.0, 34686.0, 27948.0, 27936.0, 29318.0, 37290.0, 21558.0, 25101.0, 46497.0, 17988.0, 22626.0, 40338.0, 20378.0, 33449.0, 16379.0, 16340.0, 36215.0, 25811.0, 19012.0, 16508.0, 21294.0, 19107.0, 17142.0, 37515.0, 11715.0, 14084.0, 13842.0, 12265.0, 95011.520374635, 23964.555736870967, 23600.174256582202, 20421.742264333923, 16603.263582428324, 15736.854585169196, 15500.61915976815, 14504.756647890856, 12714.470092867403, 10210.31682251899, 9856.289803274432, 8090.537535535014, 7736.452307432684, 7626.869655070022, 7520.884757878193, 7439.63116256594, 6381.9575601400775, 6017.846602553705, 5954.542977190438, 5506.279921681666, 5450.7565071737245, 4985.2845252514635, 4677.174593313737, 4389.3970900229615, 4112.442329807277, 4028.146948542664, 3984.0074702001416, 3929.506815173973, 3873.2296705846084, 3652.6154876879136, 17939.236957846613, 14221.93284766988, 6779.820761855107, 17035.812478758435, 15841.856298779974, 11460.781034918618, 23787.697894407935, 9970.602908347155, 10417.695216093987, 8575.049073755143, 19732.0625773836, 16506.228493759634, 18038.594933042994, 26818.789221538784, 16030.93279631279, 21294.611947876696, 15026.303028275985, 40338.59777226558, 36215.083466594435, 23735.180053455988, 23675.052009316303, 20446.610837635122, 19444.70928173352, 17383.31252514108, 12145.78785545902, 11464.53083705852, 10809.889662509162, 10340.91184416663, 10257.873062043884, 7820.176124882597, 5677.419335119277, 5312.941313893625, 4943.2613797973745, 4731.622755009081, 3790.235216034595, 3691.2105353919765, 3663.9529537260805, 3541.452236191248, 3514.1487330685663, 3488.958488884432, 3479.7090936897775, 3282.822591572898, 3132.866946364843, 2788.3484828817022, 2650.086823836823, 2397.3361429345323, 2336.270196599589, 10425.07579948126, 6158.209644726817, 46497.76643380452, 16159.945950671485, 13081.722871282354, 37515.50861006116, 6819.922314921533, 17724.22051716169, 7285.607759002338, 4272.0848767161215, 18193.898411666694, 5400.727665266227, 33449.55988398672, 5484.768508681296, 9798.750422538204, 11174.727781989732, 15026.303028275985, 13178.03525919536, 12156.971145168189, 10243.109982194743, 8864.658345817461, 8252.519844262013, 6470.876062195597, 6408.646019233437, 6368.007399220254, 6272.756973264612, 5573.413618590317, 4409.498468192369, 4201.95151678843, 4119.060669552824, 3769.18067269032, 3477.3547011931073, 3437.0602496383763, 3376.403701011512, 2831.0550065091716, 2530.500473641453, 2465.20500485239, 2422.597644985971, 2238.313619988312, 2077.2336891818136, 2053.037202489246, 1879.8640424457062, 1846.0359198805434, 1837.46714145792, 1798.3879762741526, 1773.2128691668984, 1591.5298966254354, 37290.95178313725, 19325.757074976525, 9855.73789742512, 6712.245227403711, 5055.36459725534, 5090.490554264258, 9919.033793223007, 6834.582284902685, 21294.611947876696, 18038.594933042994, 14231.783770883168, 10628.370266276543, 10451.201960574914, 7923.090164160992, 7287.127279360588, 7035.903164498019, 6998.232083533807, 6681.148501641398, 6303.4442952713, 6275.138724799967, 6022.371197753516, 4717.25625992904, 4318.997589864022, 4292.327807373301, 3751.432040007313, 3583.362423607901, 3080.536258477955, 2984.846550526819, 2692.529614111112, 2562.4989850685815, 2492.9430353014864, 2414.7621350950453, 2356.0924140832176, 2347.9966259948783, 2330.5912754280357, 2308.061363579652, 2271.1287346145004, 2258.8806715793366, 2233.1544079937767, 2232.5568900074036, 8689.030317428898, 4353.814169096223, 5104.407457492358, 6599.501320006282, 8377.195266821984, 4656.229861930208, 4448.262593323359, 26818.789221538784, 9798.750422538204, 6834.582284902685, 16702.043992191906, 10861.702392942152, 10562.736390650964, 9593.541385354843, 7938.21352948553, 4259.301712216743, 4217.5122963581725, 3690.9223688417437, 3689.764075979875, 3590.7818517098935, 3585.655146782143, 3373.34711567986, 3113.6746429019195, 2733.649162771631, 2689.9704425561463, 2643.8218166922125, 2577.152941634821, 2526.1860412902206, 2498.882112858594, 2432.3994599579323, 2404.7425599624094, 2326.687498204316, 2266.662188118131, 2090.562056140809, 2024.6488132963004, 2004.9732785493538, 1991.7526245451004, 1911.0801566562445, 1844.923616354567, 1716.546940883905, 9184.870902208497, 25811.02552158803, 5230.073807387932, 9331.597016637186, 5628.799159234772, 4627.684691368725, 4834.091533474658, 5550.347387367296, 8247.63130642991, 5471.946102047296, 29318.21962027321, 19107.79677266108, 11173.341656750315, 10973.93891074758, 8273.503067506213, 7287.001760901693, 5162.126469510404, 3861.9147969146516, 2768.456112976219, 2690.948904208173, 2008.6012622862497, 1691.0813467730538, 948.9620097049608, 895.1120844127684, 885.0665218085588, 568.3151076853322, 471.18112264677916, 455.14237521017236, 303.50104864388265, 34686.44405736146, 133.09751528430797, 3383.04678656035, 5320.236786879979, 512.6697237790393, 33449.55988398672, 663.7738119914585, 4521.906538748189, 18193.898411666694, 16508.433545460717, 7232.3207180942445, 19732.0625773836, 6284.605600727853, 46497.76643380452, 5484.768508681296, 19012.344237510853, 10871.729420018864, 8396.59513090083, 6341.0791698245175, 6097.005602093656, 5432.029952053695, 5170.058007115488, 5120.6348835186445, 4286.061534180624, 3584.2485922463484, 3451.7328173276087, 3398.82962674789, 3316.0657003277206, 3019.568580245843, 2992.0032559284723, 2864.3809801281964, 2623.730568350712, 2509.0344578721515, 2336.9046424706135, 2029.25409316496, 1684.4025593411618, 1683.1622669793942, 1682.469707884112, 1512.246411970752, 1328.9011598058366, 1297.3060532629536, 1286.6660974321849, 1207.1047613336577, 1190.4792375248578, 1133.24712789045, 7803.851706034771, 7492.816408562077, 7486.898310815445, 5878.677192714841, 5674.671446972622, 3945.7342759025933, 3910.8201171433834, 3720.756216730207, 3398.448831476044, 3353.486380289882, 3079.0601992609427, 3060.082914618379, 2656.768582768824, 2507.909611162995, 2299.9697600230675, 2174.3481383906465, 1912.4216224826512, 1901.0150781138495, 1801.919665181757, 1749.2181038666079, 1604.6788713589094, 1549.5256806884029, 1521.9372789303745, 1374.022949477225, 1344.3740702836012, 1337.2993280970697, 1259.5002635680446, 1257.304397262584, 1230.36432211172, 1187.3318360572177, 1166.9529237021743, 17142.243125609155, 2706.014916700949, 5561.725787136263, 3383.04678656035, 27936.11654365904, 8437.367070354709, 7765.992476756658, 6750.437288464068, 6738.540138104277, 5382.416268251767, 5325.840853027539, 4928.57212086599, 4027.3937630346427, 3791.536890724276, 3574.3753250241507, 3092.588478843139, 2637.441942019715, 1422.7140180977958, 1338.5100053318658, 1336.5399622697114, 1288.237722782521, 1169.7680273472508, 1076.2499072900775, 1052.6869735538469, 940.453130304953, 884.8832160135325, 855.2054847140367, 764.5937435557978, 747.0471052297243, 738.3696811793909, 704.3503167130707, 664.3673630269359, 635.637714951102, 593.5847083636882, 4583.480266002532, 4858.609963449597, 6284.605600727853, 7803.851706034771, 27948.72152313115, 22626.155030412694, 11319.575378800968, 10799.958249356496, 10464.155179284406, 8449.72404989495, 6908.124402757297, 4090.6697482286754, 2194.231478654083, 1600.5863091910585, 1555.6624006700788, 1478.6660761424635, 1240.9671864395223, 1074.4851422354805, 1042.7087519400252, 919.0717056148435, 769.91099396587, 769.1583945983544, 681.6424747105518, 625.0662433271119, 508.37017866462827, 465.8634738309709, 460.8429234637621, 350.18815447901534, 341.57065089904376, 321.195048060439, 313.1375171884027, 188.63551880870247, 132.68525460103768, 123.6155538399668, 2916.5046335267502, 8407.177794082581, 1601.8147004265168, 25101.50253876424, 11277.80752502449, 8162.772176606888, 7952.65934573768, 4834.628655836512, 4421.043921569021, 3106.427789107057, 2877.95046257992, 2778.94774201536, 2658.7114477041087, 2501.129220442047, 2433.113980770035, 2335.3190282760766, 2242.977360657136, 1916.577500501822, 1882.3665894125122, 1862.6879481748872, 1829.1390214496068, 1648.9600789138374, 1461.7787889241029, 1372.6815155380627, 1322.5331452032813, 1274.6200202989062, 1199.9963174633613, 1160.383513336198, 1030.1589938522993, 1012.0592440221856, 981.2400743912118, 945.3559337317643, 923.2481596780685, 7675.007242496719, 3089.5138767346443, 9947.465514010328, 8062.267256564591, 6949.719654159091, 6865.011082117474, 6165.415056464339, 5716.969045937027, 5500.57368702542, 5133.045898875491, 5011.641552155245, 4769.333133821953, 4723.5702982293515, 2929.5795097747828, 2246.3968467585923, 2239.796278252389, 2057.6521099177803, 1820.4479015111247, 1425.3476592758998, 1360.1199317838411, 1306.7586362456555, 1153.5330066119486, 1075.8406227871924, 1007.0677910384665, 964.2759770008605, 884.0438781043658, 874.1791846852922, 869.0739112486497, 841.8918185113505, 767.583842581234, 688.4097234395039, 600.5017942444308, 5514.564233268642, 6534.202745046395, 9331.597016637186, 14084.177704933243, 13842.837301581769, 7479.614191852066, 6513.577055628213, 5864.266635239421, 4917.2642221714605, 4220.598752589892, 4137.485194438248, 3753.297335670626, 3001.3659244632963, 2776.513636678654, 1761.7578887007064, 1688.7312122329415, 1431.576162574518, 1382.815306197181, 1339.6224280670408, 1285.4565090497329, 1267.1468874710192, 973.9313580283304, 940.7822368625086, 897.0046814120784, 797.7102102026669, 775.027585599025, 675.9742607806211, 648.7038407563298, 573.3468648166615, 543.7137284394373, 541.0906991534703, 516.2991681960278, 415.9249654877068, 6818.148999724599, 2664.3501235784183, 37734.180706493935, 20378.63102747772, 10515.744891170747, 7865.062835572495, 1746.1805668300676, 1090.7590422153755, 792.6550415249429, 786.2031795718572, 673.9809659716818, 666.1728695250351, 645.512931286138, 572.5692662887741, 212.4763264671365, 90.22202123172524, 82.90300495293039, 55.40032754804109, 9068.65860566573, 2182.2998772762057, 5090.490554264258, 6534.202745046395, 1.2153149041984679, 1.2153149041984679, 1.2153149041984679, 1.2153149041984679, 1.2153149041984679, 1.2153149041984679, 1.2153149041984679, 1.2153149041984679, 1.2153149041984679, 1.2153149041984679, 2414.7621350950453, 11174.727781989732, 349.3793709361818, 2104.6135860762633, 46497.76643380452, 4027.3937630346427, 10799.958249356496, 3944.416114985053, 859.3200358464708, 12724.731457454756, 11146.516743385457, 7684.252763240904, 7149.196517211744, 4498.4329377723925, 4399.453344233546, 3788.24478342057, 3229.652753898961, 3033.190105423696, 2633.9299959489695, 1958.8119189230356, 1775.7278538217647, 1310.4395177445253, 960.2944656043742, 681.3232199805683, 627.6420038333071, 495.8634111876485, 482.93044040165273, 445.6603092058995, 223.69564807519637, 112.99238763769182, 1550.0750979956838, 2946.853913173135, 9919.033793223007, 4656.229861930208, 37290.95178313725, 8575.049073755143, 25811.02552158803, 1.2153149041984679, 1.2153149041984679, 23787.697894407935, 6534.202745046395, 21558.127558559, 5762.535658200054, 4967.631364441423, 3168.798095815253, 2495.3614834587406, 2491.7479275342216, 2370.525228446371, 2183.532525509959, 1695.8631702059477, 1416.4135541211083, 1292.5305127372083, 921.0953139815276, 854.916494226306, 773.2565687986729, 467.07673070109814, 205.25420324781803, 153.76794399232494, 66.00024146221621, 16508.433545460717, 338.0375018620252, 9068.65860566573, 5471.946102047296, 5561.725787136263, 1.2153149082749493, 1.2153149041984679, 1.2153149041984679, 1.2153149041984679, 1.2153149041984679, 1.2153149041984679, 1.2153149041984679, 2414.7621350950453, 11174.727781989732, 349.3793709361818, 2104.6135860762633, 46497.76643380452, 34220.95142415394, 9456.661243066, 5388.014652203534, 2851.4486275370564, 2547.8150243376117, 1735.5829898612883, 1281.6797329690999, 1078.467707453386, 499.1577211220408, 452.521750567309, 301.41808145343026, 262.1654779577538, 197.90556937211187, 193.98857490546058, 141.47151829351083, 135.40817944216886, 31.991803868975154, 7244.9369506774165, 1.2153149041984679, 1.2153149041984679, 1.2153149041984679, 1.2153149041984679, 1.2153149041984679, 1.2153149041984679, 1.2153149041984679, 1.2153149041984679, 1.2153149041984679, 1.2153149041984679, 1.2153149041984679, 1.2153149041984679, 12145.78785545902, 2414.7621350950453, 11174.727781989732, 349.3793709361818, 2104.6135860762633, 46497.76643380452, 20378.63102747772, 4027.3937630346427, 10799.958249356496, 3944.416114985053, 859.3200358464708, 7373.70232467988, 7196.012801134875, 7190.450682806351, 6879.02577443922, 6260.982442408462, 4454.834414104597, 3214.778755010641, 2843.771342330146, 2693.177704825761, 1999.2625153193676, 1868.054308018703, 1557.1003277164552, 1453.898271268407, 1201.360218723359, 1125.7868800156323, 1110.4685441995298, 910.5436570978023, 746.104644955811, 706.573162820543, 627.0253293772826, 573.76000146714, 459.02589898266325, 361.65867579153297, 339.1515885319743, 334.1527740952917, 328.87465787651035, 123.76569308389558, 111.53451327922535, 110.05914598062569, 52.76081304891428, 8247.63130642991, 12265.50971981055, 11160.17239255383, 7446.839409460465, 5928.386126157658, 4420.218442149324, 3587.226918236858, 3272.394190129935, 2447.704652697475, 1626.009021434932, 1606.7616597403699, 1428.2725008937336, 1327.29911591394, 1201.1319382805236, 693.4208392491711, 590.5503995501961, 551.4344657289886, 266.91445604940185, 114.37881466620078, 79.79993451475951, 62.74176876285263, 61.707842568180304, 56.33642380037074, 3555.594070372067, 3182.895473244931, 2916.5046335267502, 1.2153149079347387, 1.2153149041984679, 1.2153149041984679, 1.2153149041984679, 1.2153149041984679, 6534.202745046395, 1322.8304244595117, 2414.7621350950453, 17988.29479375093, 10649.503657181634, 3973.1939763280093, 3944.416114985053, 2104.6135860762633, 1291.2326602627263, 1177.1369722398933, 1014.850516818441, 957.8609785168547, 859.3200358464708, 690.5035406011283, 668.3732290486204, 633.5635721367521, 604.6205778416396, 541.8178903830047, 452.62792560372236, 349.3793709361818, 314.36135098250605, 221.55520917158643, 214.8029786675129, 180.6659465079384, 180.4251484190743, 133.68806766389392, 1.2153149041984679, 1.2153149041984679, 1.2153149041984679, 1.2153149041984679, 1.2153149041984679, 1.2153149041984679, 1.2153149041984679, 2414.7621350950453, 11174.727781989732, 46497.76643380452, 20378.63102747772, 4027.3937630346427, 10799.958249356496, 16340.86794286278, 6071.163852256658, 3378.79673709175, 3051.8475117330286, 3043.140098571955, 2994.7909383576007, 1956.1480665390905, 1516.1551030642736, 1156.3696449969675, 1111.3830059073061, 1021.2197431821907, 970.1469496569428, 951.2106825048727, 848.1938847991962, 829.5465545142483, 798.527348472917, 770.1288633727174, 734.0673423289513, 245.7460700059103, 201.62321036943285, 65.14910624813349, 30.875470681881257, 1.2153149041984679, 1.2153149041984679, 1.2153149041984679, 1.2153149041984679, 1.2153149041984679, 1.2153149041984679, 1.2153149041984679, 1.2153149041984679, 2414.7621350950453, 11174.727781989732, 349.3793709361818, 2104.6135860762633, 46497.76643380452, 20378.63102747772, 4027.3937630346427, 9574.909001633767, 6273.598050068382, 5654.680746126877, 4671.7003880800585, 3690.9466138932803, 3606.6151894203967, 1805.1477970518865, 1740.855627319372, 1500.0906793248896, 1491.4490508559877, 1342.6288785384504, 951.1596731724951, 763.7870094944992, 613.2736690978751, 369.3755256273604, 240.77810698307283, 187.26352257993742, 174.5457654549706, 35.29156087854145, 4280.446744823419, 2182.2998772762057, 1.2153149041984679, 1.2153149041984679, 1.2153149041984679, 1.2153149041984679, 1.2153149041984679, 1.2153149041984679, 1.2153149041984679, 1.2153149041984679, 1.2153149041984679, 7285.607759002338, 2414.7621350950453, 11174.727781989732, 349.3793709361818, 2104.6135860762633, 46497.76643380452, 20378.63102747772, 4027.3937630346427, 7841.059130929983, 3948.1910642063076, 3765.377644722412, 2932.425352548761, 2774.0788130135393, 2739.4711488932066, 2093.2105379451555, 2003.3549849240515, 1809.9823795868197, 1578.818594946518, 1553.4623802120325, 1257.9004357642798, 1239.8607938501289, 1117.9762406539917, 1103.749196203474, 1025.5929828667665, 916.7648002735176, 876.3182870441336, 855.3531628145927, 815.9384111150042, 792.6361934955445, 504.11401456634485, 382.1860165890474, 369.7424740461094, 355.3134888193001, 187.43742092909258, 170.18362319911822, 142.07280356018632, 139.5807054800617, 119.368662659336, 16379.988941972279, 11413.820236325799, 2150.086096049047, 1626.8135790806364, 1499.1297422099965, 1348.986703730353, 1231.771487722115, 994.3639744805984, 762.0387298548937, 534.7251970108985, 496.9247812455898, 461.337247267578, 213.12807674459444, 123.23747979157888, 104.84178047976252, 7.4297820753697765, 573.770697415618, 21294.611947876696, 5055.36459725534, 4583.480266002532, 9855.73789742512, 1.2153149207972387, 1.2153149069661078, 1.2153149069661078, 1.2153149069661078, 1.2153149069661078, 1.2153149041984679, 1.2153149041984679, 1.2153149041984679, 1.2153149041984679, 2414.7621350950453, 11174.727781989732, 349.3793709361818, 7430.230117990528, 5058.400305308981, 4482.495351328766, 3677.940485914335, 2745.5978936994707, 2607.514232884008, 1783.990408334088, 1754.898511945966, 1668.4883500389117, 1477.3889709318148, 960.8320507665088, 801.7319099722347, 739.6900176718764, 732.2144290421328, 695.7502439234892, 682.1480338267029, 658.7483196538768, 586.3544731827076, 400.65671418945686, 297.0557689000895, 286.7632087747979, 278.23136622155585, 226.14362611271656, 170.3766026358686, 47.92188597675964, 4521.906538748189, 4761.33594768212, 1.2153149207972387, 1.2153149041984679, 1.2153149041984679, 2414.7621350950453, 7882.471863724895, 7752.074368117645, 6395.754234739173, 2916.0638323457774, 2894.8233619193593, 1684.936032585287, 1478.6608424785484, 1356.3069968367097, 1133.185678570026, 1129.3508638069184, 1051.0206385930119, 874.926156881283, 785.3402153911643, 758.036192804385, 709.2497801879631, 666.8985970170472, 633.3690793776161, 507.3278608361119, 499.6038082412616, 262.3097237458109, 251.38737639652058, 218.26103599057075, 177.1620586606345, 151.7985876279764, 139.77222787886328, 126.23348376812389, 103.2089999518975, 93.12367254559067, 76.08138812841648, 717.2447891645443, 7763.916111053977, 4171.702501077514, 4166.128509121253, 3929.299052828533, 3896.260271845836, 3043.3683422960985, 2475.929253700109, 2409.0929328883076, 1699.42273655128, 1488.2768501218914, 979.953366339891, 630.7300959260706, 3182.895473244931, 1450.844085452532, 4280.446744823419, 666.0226468322654, 1.2153149145890816, 1.2153149041984679, 1.2153149041984679, 1.2153149041984679, 1.2153149041984679, 1.2153149041984679, 1.2153149041984679, 1.2153149041984679, 1.2153149041984679, 1.2153149041984679, 1.2153149041984679, 1.2153149041984679, 1.2153149041984679, 1.2153149041984679, 2414.7621350950453, 11174.727781989732, 349.3793709361818, 2104.6135860762633, 46497.76643380452, 20378.63102747772, 4027.3937630346427, 10799.958249356496, 3944.416114985053, 859.3200358464708, 1014.850516818441, 17142.243125609155, 11715.912502994135, 4815.803709560589, 3921.578264323654, 3813.6783868084985, 1927.3458314760733, 1881.8981820517579, 1699.688496099062, 1091.4886041275902, 751.2158405586746, 713.164598004843, 597.5106184004175, 521.4908927217621, 503.5123054507851, 498.0786178058768, 480.6624634528761, 478.39035563471907, 429.9085169346971, 401.31410426353773, 319.0332380154411, 301.60306827841623, 213.32537463971042, 142.94438732886002, 96.2242763421637, 67.31988437239583, 50.28984476147843, 38.25498697268737, 2768.4744431441704, 5514.564233268642, 6819.922314921533, 1.2153149041984679, 2884.076962109842, 2590.1583207330546, 1838.5199535959039, 1565.4226239026705, 1517.6957382146222, 1403.9356281271434, 1050.3743145508438, 1024.669997696444, 1016.734608164489, 919.5236863654053, 891.9846996666217, 880.8229478977363, 740.5147543809301, 737.1161775574607, 729.4057053694722, 690.5565240670657, 666.6224190377419, 644.0915004348029, 616.2114152204741, 601.7817006490058, 581.7652325621548, 553.8787472608025, 548.1345711967463, 520.5794536663833, 510.7705366188307, 496.6242871261915, 439.6823210365518, 437.05919965508616, 424.57984629700184, 399.08425064797876, 5737.740488799044, 5134.702231905633, 4267.876201056917, 4034.984822439499, 3421.8870030661446, 2128.59323719516, 1573.4347740542505, 805.657949199755, 704.2723498866193, 310.3795665928316, 301.5646199293664, 231.8316743109478, 1164.79938028764, 1020.382797349788, 1232.4525343622995, 1.2153149079813188, 1.2153149041984679, 1.2153149041984679, 1.2153149041984679, 1.2153149041984679, 1.2153149041984679, 1.2153149041984679, 1.2153149041984679, 1.2153149041984679, 1.2153149041984679, 1.2153149041984679, 1.2153149041984679, 1.2153149041984679, 1.2153149041984679, 1.2153149041984679, 2414.7621350950453, 11174.727781989732, 349.3793709361818, 2104.6135860762633, 46497.76643380452, 20378.63102747772, 4027.3937630346427, 10799.958249356496, 3944.416114985053, 859.3200358464708, 1014.850516818441, 17142.243125609155, 1059.5407352487402], \"Category\": [\"Default\", \"Default\", \"Default\", \"Default\", \"Default\", \"Default\", \"Default\", \"Default\", \"Default\", \"Default\", \"Default\", \"Default\", \"Default\", \"Default\", \"Default\", \"Default\", \"Default\", \"Default\", \"Default\", \"Default\", \"Default\", \"Default\", \"Default\", \"Default\", \"Default\", \"Default\", \"Default\", \"Default\", \"Default\", \"Default\", \"Topic1\", \"Topic1\", \"Topic1\", \"Topic1\", \"Topic1\", \"Topic1\", \"Topic1\", \"Topic1\", \"Topic1\", \"Topic1\", \"Topic1\", \"Topic1\", \"Topic1\", \"Topic1\", \"Topic1\", \"Topic1\", \"Topic1\", \"Topic1\", \"Topic1\", \"Topic1\", \"Topic1\", \"Topic1\", \"Topic1\", \"Topic1\", \"Topic1\", \"Topic1\", \"Topic1\", \"Topic1\", \"Topic1\", \"Topic1\", \"Topic1\", \"Topic1\", \"Topic1\", \"Topic1\", \"Topic1\", \"Topic1\", \"Topic1\", \"Topic1\", \"Topic1\", \"Topic1\", \"Topic1\", \"Topic1\", \"Topic1\", \"Topic1\", \"Topic1\", \"Topic1\", \"Topic1\", \"Topic2\", \"Topic2\", \"Topic2\", \"Topic2\", \"Topic2\", \"Topic2\", \"Topic2\", \"Topic2\", \"Topic2\", \"Topic2\", \"Topic2\", \"Topic2\", \"Topic2\", \"Topic2\", \"Topic2\", \"Topic2\", \"Topic2\", \"Topic2\", \"Topic2\", \"Topic2\", \"Topic2\", \"Topic2\", \"Topic2\", \"Topic2\", \"Topic2\", \"Topic2\", \"Topic2\", \"Topic2\", \"Topic2\", \"Topic2\", \"Topic2\", \"Topic2\", \"Topic2\", \"Topic2\", \"Topic2\", \"Topic2\", \"Topic2\", \"Topic2\", \"Topic2\", \"Topic2\", \"Topic2\", \"Topic2\", \"Topic2\", \"Topic2\", \"Topic2\", \"Topic2\", \"Topic2\", \"Topic3\", \"Topic3\", \"Topic3\", \"Topic3\", \"Topic3\", \"Topic3\", \"Topic3\", \"Topic3\", \"Topic3\", \"Topic3\", \"Topic3\", \"Topic3\", \"Topic3\", \"Topic3\", \"Topic3\", \"Topic3\", \"Topic3\", \"Topic3\", \"Topic3\", \"Topic3\", \"Topic3\", \"Topic3\", \"Topic3\", \"Topic3\", \"Topic3\", \"Topic3\", \"Topic3\", \"Topic3\", \"Topic3\", \"Topic3\", \"Topic3\", \"Topic3\", \"Topic3\", \"Topic3\", \"Topic3\", \"Topic3\", \"Topic3\", \"Topic3\", \"Topic3\", \"Topic3\", \"Topic4\", \"Topic4\", \"Topic4\", \"Topic4\", \"Topic4\", \"Topic4\", \"Topic4\", \"Topic4\", \"Topic4\", \"Topic4\", \"Topic4\", \"Topic4\", \"Topic4\", \"Topic4\", \"Topic4\", \"Topic4\", \"Topic4\", \"Topic4\", \"Topic4\", \"Topic4\", \"Topic4\", \"Topic4\", \"Topic4\", \"Topic4\", \"Topic4\", \"Topic4\", \"Topic4\", \"Topic4\", \"Topic4\", \"Topic4\", \"Topic4\", \"Topic4\", \"Topic4\", \"Topic4\", \"Topic4\", \"Topic4\", \"Topic4\", \"Topic4\", \"Topic4\", \"Topic4\", \"Topic5\", \"Topic5\", \"Topic5\", \"Topic5\", \"Topic5\", \"Topic5\", \"Topic5\", \"Topic5\", \"Topic5\", \"Topic5\", \"Topic5\", \"Topic5\", \"Topic5\", \"Topic5\", \"Topic5\", \"Topic5\", \"Topic5\", \"Topic5\", \"Topic5\", \"Topic5\", \"Topic5\", \"Topic5\", \"Topic5\", \"Topic5\", \"Topic5\", \"Topic5\", \"Topic5\", \"Topic5\", \"Topic5\", \"Topic5\", \"Topic5\", \"Topic5\", \"Topic5\", \"Topic5\", \"Topic5\", \"Topic5\", \"Topic5\", \"Topic5\", \"Topic5\", \"Topic5\", \"Topic6\", \"Topic6\", \"Topic6\", \"Topic6\", \"Topic6\", \"Topic6\", \"Topic6\", \"Topic6\", \"Topic6\", \"Topic6\", \"Topic6\", \"Topic6\", \"Topic6\", \"Topic6\", \"Topic6\", \"Topic6\", \"Topic6\", \"Topic6\", \"Topic6\", \"Topic6\", \"Topic6\", \"Topic6\", \"Topic6\", \"Topic6\", \"Topic6\", \"Topic6\", \"Topic6\", \"Topic6\", \"Topic6\", \"Topic6\", \"Topic6\", \"Topic6\", \"Topic6\", \"Topic6\", \"Topic7\", \"Topic7\", \"Topic7\", \"Topic7\", \"Topic7\", \"Topic7\", \"Topic7\", \"Topic7\", \"Topic7\", \"Topic7\", \"Topic7\", \"Topic7\", \"Topic7\", \"Topic7\", \"Topic7\", \"Topic7\", \"Topic7\", \"Topic7\", \"Topic7\", \"Topic7\", \"Topic7\", \"Topic7\", \"Topic7\", \"Topic7\", \"Topic7\", \"Topic7\", \"Topic7\", \"Topic7\", \"Topic7\", \"Topic7\", \"Topic7\", \"Topic8\", \"Topic8\", \"Topic8\", \"Topic8\", \"Topic8\", \"Topic8\", \"Topic8\", \"Topic8\", \"Topic8\", \"Topic8\", \"Topic8\", \"Topic8\", \"Topic8\", \"Topic8\", \"Topic8\", \"Topic8\", \"Topic8\", \"Topic8\", \"Topic8\", \"Topic8\", \"Topic8\", \"Topic8\", \"Topic8\", \"Topic8\", \"Topic8\", \"Topic8\", \"Topic8\", \"Topic8\", \"Topic8\", \"Topic8\", \"Topic8\", \"Topic8\", \"Topic8\", \"Topic8\", \"Topic9\", \"Topic9\", \"Topic9\", \"Topic9\", \"Topic9\", \"Topic9\", \"Topic9\", \"Topic9\", \"Topic9\", \"Topic9\", \"Topic9\", \"Topic9\", \"Topic9\", \"Topic9\", \"Topic9\", \"Topic9\", \"Topic9\", \"Topic9\", \"Topic9\", \"Topic9\", \"Topic9\", \"Topic9\", \"Topic9\", \"Topic9\", \"Topic9\", \"Topic9\", \"Topic9\", \"Topic9\", \"Topic9\", \"Topic9\", \"Topic9\", \"Topic9\", \"Topic9\", \"Topic9\", \"Topic10\", \"Topic10\", \"Topic10\", \"Topic10\", \"Topic10\", \"Topic10\", \"Topic10\", \"Topic10\", \"Topic10\", \"Topic10\", \"Topic10\", \"Topic10\", \"Topic10\", \"Topic10\", \"Topic10\", \"Topic10\", \"Topic10\", \"Topic10\", \"Topic10\", \"Topic10\", \"Topic10\", \"Topic10\", \"Topic10\", \"Topic10\", \"Topic10\", \"Topic10\", \"Topic10\", \"Topic10\", \"Topic10\", \"Topic10\", \"Topic10\", \"Topic10\", \"Topic10\", \"Topic11\", \"Topic11\", \"Topic11\", \"Topic11\", \"Topic11\", \"Topic11\", \"Topic11\", \"Topic11\", \"Topic11\", \"Topic11\", \"Topic11\", \"Topic11\", \"Topic11\", \"Topic11\", \"Topic11\", \"Topic11\", \"Topic11\", \"Topic11\", \"Topic11\", \"Topic11\", \"Topic11\", \"Topic11\", \"Topic11\", \"Topic11\", \"Topic11\", \"Topic11\", \"Topic11\", \"Topic11\", \"Topic11\", \"Topic11\", \"Topic11\", \"Topic11\", \"Topic12\", \"Topic12\", \"Topic12\", \"Topic12\", \"Topic12\", \"Topic12\", \"Topic12\", \"Topic12\", \"Topic12\", \"Topic12\", \"Topic12\", \"Topic12\", \"Topic12\", \"Topic12\", \"Topic12\", \"Topic12\", \"Topic12\", \"Topic12\", \"Topic12\", \"Topic12\", \"Topic12\", \"Topic12\", \"Topic12\", \"Topic12\", \"Topic12\", \"Topic12\", \"Topic12\", \"Topic12\", \"Topic12\", \"Topic12\", \"Topic12\", \"Topic12\", \"Topic12\", \"Topic13\", \"Topic13\", \"Topic13\", \"Topic13\", \"Topic13\", \"Topic13\", \"Topic13\", \"Topic13\", \"Topic13\", \"Topic13\", \"Topic13\", \"Topic13\", \"Topic13\", \"Topic13\", \"Topic13\", \"Topic13\", \"Topic13\", \"Topic13\", \"Topic13\", \"Topic13\", \"Topic13\", \"Topic13\", \"Topic13\", \"Topic13\", \"Topic13\", \"Topic13\", \"Topic13\", \"Topic13\", \"Topic13\", \"Topic13\", \"Topic13\", \"Topic13\", \"Topic14\", \"Topic14\", \"Topic14\", \"Topic14\", \"Topic14\", \"Topic14\", \"Topic14\", \"Topic14\", \"Topic14\", \"Topic14\", \"Topic14\", \"Topic14\", \"Topic14\", \"Topic14\", \"Topic14\", \"Topic14\", \"Topic14\", \"Topic14\", \"Topic14\", \"Topic14\", \"Topic14\", \"Topic14\", \"Topic14\", \"Topic14\", \"Topic14\", \"Topic14\", \"Topic14\", \"Topic14\", \"Topic14\", \"Topic14\", \"Topic14\", \"Topic14\", \"Topic14\", \"Topic14\", \"Topic14\", \"Topic14\", \"Topic14\", \"Topic14\", \"Topic14\", \"Topic15\", \"Topic15\", \"Topic15\", \"Topic15\", \"Topic15\", \"Topic15\", \"Topic15\", \"Topic15\", \"Topic15\", \"Topic15\", \"Topic15\", \"Topic15\", \"Topic15\", \"Topic15\", \"Topic15\", \"Topic15\", \"Topic15\", \"Topic15\", \"Topic15\", \"Topic15\", \"Topic15\", \"Topic15\", \"Topic15\", \"Topic15\", \"Topic15\", \"Topic15\", \"Topic15\", \"Topic15\", \"Topic15\", \"Topic15\", \"Topic15\", \"Topic15\", \"Topic16\", \"Topic16\", \"Topic16\", \"Topic16\", \"Topic16\", \"Topic16\", \"Topic16\", \"Topic16\", \"Topic16\", \"Topic16\", \"Topic16\", \"Topic16\", \"Topic16\", \"Topic16\", \"Topic16\", \"Topic16\", \"Topic16\", \"Topic16\", \"Topic16\", \"Topic16\", \"Topic16\", \"Topic16\", \"Topic16\", \"Topic16\", \"Topic16\", \"Topic16\", \"Topic16\", \"Topic16\", \"Topic16\", \"Topic16\", \"Topic16\", \"Topic16\", \"Topic16\", \"Topic16\", \"Topic16\", \"Topic17\", \"Topic17\", \"Topic17\", \"Topic17\", \"Topic17\", \"Topic17\", \"Topic17\", \"Topic17\", \"Topic17\", \"Topic17\", \"Topic17\", \"Topic17\", \"Topic17\", \"Topic17\", \"Topic17\", \"Topic17\", \"Topic17\", \"Topic17\", \"Topic17\", \"Topic17\", \"Topic17\", \"Topic17\", \"Topic17\", \"Topic17\", \"Topic17\", \"Topic17\", \"Topic17\", \"Topic17\", \"Topic17\", \"Topic17\", \"Topic17\", \"Topic17\", \"Topic17\", \"Topic17\", \"Topic17\", \"Topic17\", \"Topic17\", \"Topic17\", \"Topic17\", \"Topic17\", \"Topic17\", \"Topic18\", \"Topic18\", \"Topic18\", \"Topic18\", \"Topic18\", \"Topic18\", \"Topic18\", \"Topic18\", \"Topic18\", \"Topic18\", \"Topic18\", \"Topic18\", \"Topic18\", \"Topic18\", \"Topic18\", \"Topic18\", \"Topic18\", \"Topic18\", \"Topic18\", \"Topic18\", \"Topic18\", \"Topic18\", \"Topic18\", \"Topic18\", \"Topic18\", \"Topic18\", \"Topic18\", \"Topic18\", \"Topic18\", \"Topic18\", \"Topic18\", \"Topic19\", \"Topic19\", \"Topic19\", \"Topic19\", \"Topic19\", \"Topic19\", \"Topic19\", \"Topic19\", \"Topic19\", \"Topic19\", \"Topic19\", \"Topic19\", \"Topic19\", \"Topic19\", \"Topic19\", \"Topic19\", \"Topic19\", \"Topic19\", \"Topic19\", \"Topic19\", \"Topic19\", \"Topic19\", \"Topic19\", \"Topic19\", \"Topic19\", \"Topic19\", \"Topic19\", \"Topic19\", \"Topic19\", \"Topic19\", \"Topic19\", \"Topic19\", \"Topic19\", \"Topic20\", \"Topic20\", \"Topic20\", \"Topic20\", \"Topic20\", \"Topic20\", \"Topic20\", \"Topic20\", \"Topic20\", \"Topic20\", \"Topic20\", \"Topic20\", \"Topic20\", \"Topic20\", \"Topic20\", \"Topic20\", \"Topic20\", \"Topic20\", \"Topic20\", \"Topic20\", \"Topic20\", \"Topic20\", \"Topic20\", \"Topic20\", \"Topic20\", \"Topic20\", \"Topic20\", \"Topic20\", \"Topic20\", \"Topic20\", \"Topic20\", \"Topic20\", \"Topic20\", \"Topic20\", \"Topic20\", \"Topic20\", \"Topic21\", \"Topic21\", \"Topic21\", \"Topic21\", \"Topic21\", \"Topic21\", \"Topic21\", \"Topic21\", \"Topic21\", \"Topic21\", \"Topic21\", \"Topic21\", \"Topic21\", \"Topic21\", \"Topic21\", \"Topic21\", \"Topic21\", \"Topic21\", \"Topic21\", \"Topic21\", \"Topic21\", \"Topic21\", \"Topic21\", \"Topic21\", \"Topic21\", \"Topic21\", \"Topic21\", \"Topic21\", \"Topic21\", \"Topic21\", \"Topic21\", \"Topic21\", \"Topic21\", \"Topic21\", \"Topic21\", \"Topic21\", \"Topic21\", \"Topic22\", \"Topic22\", \"Topic22\", \"Topic22\", \"Topic22\", \"Topic22\", \"Topic22\", \"Topic22\", \"Topic22\", \"Topic22\", \"Topic22\", \"Topic22\", \"Topic22\", \"Topic22\", \"Topic22\", \"Topic22\", \"Topic22\", \"Topic22\", \"Topic22\", \"Topic22\", \"Topic22\", \"Topic22\", \"Topic22\", \"Topic22\", \"Topic22\", \"Topic22\", \"Topic22\", \"Topic22\", \"Topic22\", \"Topic22\", \"Topic22\", \"Topic22\", \"Topic22\", \"Topic22\", \"Topic22\", \"Topic22\", \"Topic22\", \"Topic22\", \"Topic23\", \"Topic23\", \"Topic23\", \"Topic23\", \"Topic23\", \"Topic23\", \"Topic23\", \"Topic23\", \"Topic23\", \"Topic23\", \"Topic23\", \"Topic23\", \"Topic23\", \"Topic23\", \"Topic23\", \"Topic23\", \"Topic23\", \"Topic23\", \"Topic23\", \"Topic23\", \"Topic23\", \"Topic23\", \"Topic23\", \"Topic23\", \"Topic23\", \"Topic23\", \"Topic23\", \"Topic23\", \"Topic23\", \"Topic23\", \"Topic24\", \"Topic24\", \"Topic24\", \"Topic24\", \"Topic24\", \"Topic24\", \"Topic24\", \"Topic24\", \"Topic24\", \"Topic24\", \"Topic24\", \"Topic24\", \"Topic24\", \"Topic24\", \"Topic24\", \"Topic24\", \"Topic24\", \"Topic24\", \"Topic24\", \"Topic24\", \"Topic24\", \"Topic24\", \"Topic24\", \"Topic24\", \"Topic24\", \"Topic24\", \"Topic24\", \"Topic24\", \"Topic24\", \"Topic24\", \"Topic24\", \"Topic24\", \"Topic24\", \"Topic25\", \"Topic25\", \"Topic25\", \"Topic25\", \"Topic25\", \"Topic25\", \"Topic25\", \"Topic25\", \"Topic25\", \"Topic25\", \"Topic25\", \"Topic25\", \"Topic25\", \"Topic25\", \"Topic25\", \"Topic25\", \"Topic25\", \"Topic25\", \"Topic25\", \"Topic25\", \"Topic25\", \"Topic25\", \"Topic25\", \"Topic25\", \"Topic25\", \"Topic25\", \"Topic25\", \"Topic25\", \"Topic25\", \"Topic25\", \"Topic25\", \"Topic26\", \"Topic26\", \"Topic26\", \"Topic26\", \"Topic26\", \"Topic26\", \"Topic26\", \"Topic26\", \"Topic26\", \"Topic26\", \"Topic26\", \"Topic26\", \"Topic26\", \"Topic26\", \"Topic26\", \"Topic26\", \"Topic26\", \"Topic26\", \"Topic26\", \"Topic26\", \"Topic26\", \"Topic26\", \"Topic26\", \"Topic26\", \"Topic26\", \"Topic26\", \"Topic26\", \"Topic26\", \"Topic26\", \"Topic26\", \"Topic27\", \"Topic27\", \"Topic27\", \"Topic27\", \"Topic27\", \"Topic27\", \"Topic27\", \"Topic27\", \"Topic27\", \"Topic27\", \"Topic27\", \"Topic27\", \"Topic27\", \"Topic27\", \"Topic27\", \"Topic27\", \"Topic27\", \"Topic27\", \"Topic27\", \"Topic27\", \"Topic27\", \"Topic27\", \"Topic27\", \"Topic27\", \"Topic27\", \"Topic27\", \"Topic27\", \"Topic27\", \"Topic27\", \"Topic27\", \"Topic27\", \"Topic27\", \"Topic27\", \"Topic27\", \"Topic27\", \"Topic27\", \"Topic27\", \"Topic27\", \"Topic27\", \"Topic27\", \"Topic27\", \"Topic27\", \"Topic28\", \"Topic28\", \"Topic28\", \"Topic28\", \"Topic28\", \"Topic28\", \"Topic28\", \"Topic28\", \"Topic28\", \"Topic28\", \"Topic28\", \"Topic28\", \"Topic28\", \"Topic28\", \"Topic28\", \"Topic28\", \"Topic28\", \"Topic28\", \"Topic28\", \"Topic28\", \"Topic28\", \"Topic28\", \"Topic28\", \"Topic28\", \"Topic28\", \"Topic28\", \"Topic28\", \"Topic28\", \"Topic28\", \"Topic28\", \"Topic29\", \"Topic29\", \"Topic29\", \"Topic29\", \"Topic29\", \"Topic29\", \"Topic29\", \"Topic29\", \"Topic29\", \"Topic29\", \"Topic29\", \"Topic29\", \"Topic29\", \"Topic29\", \"Topic29\", \"Topic29\", \"Topic29\", \"Topic29\", \"Topic29\", \"Topic29\", \"Topic29\", \"Topic29\", \"Topic29\", \"Topic29\", \"Topic29\", \"Topic29\", \"Topic29\", \"Topic29\", \"Topic29\", \"Topic29\", \"Topic30\", \"Topic30\", \"Topic30\", \"Topic30\", \"Topic30\", \"Topic30\", \"Topic30\", \"Topic30\", \"Topic30\", \"Topic30\", \"Topic30\", \"Topic30\", \"Topic30\", \"Topic30\", \"Topic30\", \"Topic30\", \"Topic30\", \"Topic30\", \"Topic30\", \"Topic30\", \"Topic30\", \"Topic30\", \"Topic30\", \"Topic30\", \"Topic30\", \"Topic30\", \"Topic30\", \"Topic30\", \"Topic30\", \"Topic30\", \"Topic30\", \"Topic30\", \"Topic30\", \"Topic30\", \"Topic30\", \"Topic30\", \"Topic30\", \"Topic30\", \"Topic30\", \"Topic30\", \"Topic30\", \"Topic30\", \"Topic30\"], \"logprob\": [30.0, 29.0, 28.0, 27.0, 26.0, 25.0, 24.0, 23.0, 22.0, 21.0, 20.0, 19.0, 18.0, 17.0, 16.0, 15.0, 14.0, 13.0, 12.0, 11.0, 10.0, 9.0, 8.0, 7.0, 6.0, 5.0, 4.0, 3.0, 2.0, 1.0, -2.1322, -3.5097, -3.525, -3.6697, -3.8767, -3.9303, -3.9454, -4.0118, -4.1436, -4.3629, -4.3982, -4.5957, -4.6404, -4.6547, -4.6687, -4.6796, -4.8329, -4.8917, -4.9023, -4.9806, -4.9907, -5.08, -5.1438, -5.2073, -5.2725, -5.2932, -5.3042, -5.318, -5.3324, -5.3911, -3.8033, -4.0342, -4.777, -3.8701, -3.9543, -4.273, -3.5663, -4.4135, -4.3755, -4.5871, -3.8679, -4.093, -4.0653, -3.871, -4.2383, -4.2071, -4.5828, -2.7391, -2.8469, -3.2695, -3.272, -3.4186, -3.4689, -3.5809, -3.9395, -3.9972, -4.056, -4.1004, -4.1085, -4.3798, -4.7001, -4.7665, -4.8386, -4.8824, -5.1043, -5.1308, -5.1382, -5.1722, -5.1799, -5.1871, -5.1898, -5.248, -5.2948, -5.4114, -5.4622, -5.5625, -5.5883, -4.1023, -4.6239, -2.6308, -3.673, -3.9276, -3.0109, -4.587, -3.7483, -4.5464, -5.0143, -3.8129, -4.8245, -3.5037, -4.8398, -4.5706, -4.5838, -4.5149, -3.0815, -3.1622, -3.3335, -3.478, -3.5496, -3.7928, -3.8025, -3.8089, -3.8239, -3.9422, -4.1765, -4.2247, -4.2446, -4.3334, -4.414, -4.4257, -4.4435, -4.6197, -4.732, -4.7582, -4.7756, -4.8548, -4.9295, -4.9412, -5.0294, -5.0476, -5.0522, -5.0737, -5.0878, -5.196, -2.1206, -2.806, -3.4511, -3.8888, -4.1719, -4.1678, -3.7674, -4.2235, -3.8553, -4.2039, -2.9914, -3.2834, -3.3002, -3.5772, -3.6609, -3.6959, -3.7013, -3.7477, -3.8059, -3.8104, -3.8515, -4.0958, -4.184, -4.1902, -4.325, -4.3708, -4.5221, -4.5536, -4.6568, -4.7063, -4.7338, -4.7657, -4.7903, -4.7937, -4.8012, -4.8109, -4.827, -4.8325, -4.8439, -4.8442, -3.4863, -4.1769, -4.0198, -3.7671, -3.5842, -4.2189, -4.4553, -3.5888, -4.4418, -4.6807, -2.6666, -3.0969, -3.1248, -3.221, -3.4105, -4.0332, -4.043, -4.1765, -4.1768, -4.204, -4.2054, -4.2665, -4.3466, -4.4768, -4.4929, -4.5102, -4.5358, -4.5558, -4.5666, -4.5936, -4.6051, -4.6381, -4.6642, -4.7451, -4.7772, -4.787, -4.7936, -4.835, -4.8702, -4.9424, -3.272, -2.2655, -3.8754, -3.3482, -3.8276, -4.0226, -3.984, -3.9205, -3.6709, -3.9872, -1.8476, -2.2757, -2.8124, -2.8304, -3.1129, -3.2399, -3.5847, -3.8749, -4.2079, -4.2363, -4.5289, -4.7011, -5.2794, -5.3379, -5.3492, -5.7929, -5.9808, -6.0155, -6.422, -1.6845, -7.2513, -4.6025, -4.269, -6.701, -2.5399, -6.8288, -4.9388, -3.7422, -3.917, -4.7531, -4.1341, -5.2218, -4.7904, -5.8286, -2.0789, -2.6379, -2.8963, -3.1771, -3.2163, -3.3318, -3.3813, -3.3909, -3.5688, -3.7477, -3.7854, -3.8009, -3.8255, -3.9192, -3.9284, -3.972, -4.0598, -4.1045, -4.1756, -4.3169, -4.5032, -4.504, -4.5044, -4.6111, -4.7405, -4.7646, -4.7728, -4.8367, -4.8506, -4.8999, -3.0924, -2.912, -2.9128, -3.1546, -3.19, -3.5534, -3.5623, -3.6121, -3.7028, -3.7161, -3.8015, -3.8077, -3.9491, -4.0068, -4.0934, -4.1496, -4.278, -4.284, -4.3376, -4.3673, -4.4536, -4.4886, -4.5065, -4.6089, -4.6307, -4.636, -4.696, -4.6977, -4.7194, -4.755, -4.7724, -2.1014, -3.986, -3.9031, -4.5091, -1.5747, -2.772, -2.855, -2.9951, -2.9969, -3.2217, -3.2322, -3.3098, -3.5117, -3.5721, -3.6311, -3.7759, -3.9352, -4.5528, -4.6139, -4.6154, -4.6522, -4.7488, -4.8322, -4.8543, -4.9672, -5.0282, -5.0624, -5.1745, -5.1978, -5.2095, -5.2567, -5.3153, -5.3595, -5.4281, -3.503, -3.5471, -3.3643, -5.007, -1.557, -1.7683, -2.4609, -2.5079, -2.5395, -2.7534, -2.9548, -3.479, -4.1021, -4.4177, -4.4462, -4.497, -4.6724, -4.8166, -4.8467, -4.973, -5.1504, -5.1514, -5.2724, -5.3592, -5.5662, -5.6538, -5.6646, -5.94, -5.965, -6.0268, -6.0523, -6.5616, -6.9161, -6.9875, -3.8609, -3.3251, -5.9284, -1.634, -2.4342, -2.7575, -2.7836, -3.2814, -3.3708, -3.7238, -3.8003, -3.8353, -3.8795, -3.9407, -3.9682, -4.0093, -4.0496, -4.207, -4.225, -4.2355, -4.2537, -4.3575, -4.4781, -4.541, -4.5783, -4.6152, -4.6756, -4.7092, -4.8284, -4.8461, -4.8771, -4.9144, -4.9381, -3.1056, -3.9746, -2.4407, -2.6508, -2.7994, -2.8116, -2.9191, -2.9947, -3.0333, -3.1024, -3.1264, -3.1759, -3.1856, -3.6634, -3.9291, -3.932, -4.0169, -4.1395, -4.3843, -4.4312, -4.4712, -4.5961, -4.6659, -4.732, -4.7755, -4.8625, -4.8737, -4.8796, -4.9114, -5.0039, -5.113, -5.2498, -3.2081, -4.0204, -4.8619, -2.009, -2.0263, -2.6419, -2.7802, -2.8853, -3.0614, -3.2143, -3.2342, -3.3316, -3.5553, -3.6332, -4.0883, -4.1307, -4.296, -4.3307, -4.3624, -4.4038, -4.4181, -4.6816, -4.7162, -4.764, -4.8814, -4.9103, -5.0473, -5.0885, -5.2123, -5.2655, -5.2703, -5.3173, -5.534, -2.8891, -5.2112, -0.9667, -1.5828, -2.2445, -2.535, -4.0405, -4.5115, -4.8311, -4.8393, -4.9936, -5.0052, -5.0368, -5.1569, -6.1517, -7.0159, -7.1017, -7.5119, -2.4954, -4.0508, -5.0392, -4.9482, -14.774, -14.774, -14.774, -14.774, -14.774, -14.774, -14.774, -14.774, -14.774, -14.774, -14.774, -14.774, -14.774, -14.774, -14.774, -14.774, -14.774, -14.774, -14.774, -1.8531, -1.9856, -2.3576, -2.4297, -2.8931, -2.9154, -3.065, -3.2246, -3.2874, -3.4286, -3.7248, -3.823, -4.1271, -4.4383, -4.782, -4.8642, -5.1004, -5.1269, -5.2074, -5.8993, -6.5875, -4.6359, -5.0268, -4.0375, -5.1201, -3.3516, -5.2769, -4.5374, -14.6201, -14.6201, -5.148, -6.5318, -1.202, -2.5215, -2.67, -3.1197, -3.3587, -3.3602, -3.4101, -3.4923, -3.7452, -3.9254, -4.017, -4.3562, -4.4308, -4.5314, -5.0365, -5.8619, -6.1527, -7.0087, -1.7228, -7.3741, -4.3939, -5.113, -5.6215, -14.3565, -14.3565, -14.3565, -14.3565, -14.3565, -14.3565, -14.3565, -14.3565, -14.3565, -14.3565, -14.3565, -14.3565, -0.6977, -1.9839, -2.5465, -3.183, -3.2957, -3.6798, -3.9832, -4.156, -4.9276, -5.026, -5.4336, -5.5737, -5.8564, -5.8765, -6.1944, -6.2386, -7.7101, -2.9422, -14.3365, -14.3365, -14.3365, -14.3365, -14.3365, -14.3365, -14.3365, -14.3365, -14.3365, -14.3365, -14.3365, -14.3365, -14.3365, -14.3365, -14.3365, -14.3365, -14.3365, -14.3365, -14.3365, -14.3365, -14.3365, -14.3365, -14.3365, -2.2315, -2.2559, -2.2567, -2.3009, -2.3951, -2.7355, -3.0619, -3.1845, -3.239, -3.5371, -3.605, -3.7872, -3.8558, -4.0468, -4.1118, -4.1255, -4.3243, -4.5237, -4.5782, -4.6979, -4.7869, -5.0105, -5.2496, -5.314, -5.3289, -5.3449, -6.3282, -6.4333, -6.4468, -7.1938, -4.9774, -1.6788, -1.7733, -2.1779, -2.406, -2.6996, -2.9085, -3.0004, -3.2909, -3.7001, -3.7121, -3.8299, -3.9033, -4.0033, -4.5534, -4.7142, -4.7829, -5.5108, -6.3641, -6.7286, -6.9732, -6.9901, -7.0831, -4.4599, -5.1739, -6.2719, -14.3601, -14.3601, -14.3601, -14.3601, -14.3601, -5.8038, -7.7234, -14.3601, -1.0919, -1.6162, -2.6023, -2.6096, -3.238, -3.7269, -3.8195, -3.968, -4.0258, -4.1345, -4.3536, -4.3862, -4.4398, -4.4867, -4.5966, -4.7768, -5.0365, -5.1425, -5.494, -5.5251, -5.6992, -5.7005, -6.0026, -14.0615, -14.0615, -14.0615, -14.0615, -14.0615, -14.0615, -14.0615, -14.0615, -14.0615, -14.0615, -14.0615, -14.0615, -14.0615, -1.1671, -2.1574, -2.7435, -2.8453, -2.8482, -2.8642, -3.2903, -3.5453, -3.8164, -3.8562, -3.9409, -3.9922, -4.012, -4.1267, -4.149, -4.1872, -4.2234, -4.2715, -5.369, -5.5679, -6.71, -7.4773, -14.0513, -14.0513, -14.0513, -14.0513, -14.0513, -14.0513, -14.0513, -14.0513, -14.0513, -14.0513, -14.0513, -14.0513, -14.0513, -14.0513, -14.0513, -1.6999, -2.1228, -2.2267, -2.4177, -2.6534, -2.6765, -3.3689, -3.4052, -3.5542, -3.56, -3.6652, -4.0103, -4.2299, -4.4498, -4.9581, -5.3877, -5.6405, -5.7113, -7.3369, -2.8868, -4.7485, -14.1087, -14.1087, -14.1087, -14.1087, -14.1087, -14.1087, -14.1087, -14.1087, -14.1087, -5.6635, -14.1087, -14.1087, -14.1087, -14.1087, -14.1087, -14.1087, -14.1087, -1.8458, -2.5321, -2.5795, -2.8296, -2.8852, -2.8977, -3.1669, -3.2108, -3.3124, -3.4491, -3.4653, -3.6765, -3.691, -3.7946, -3.8074, -3.8809, -3.9932, -4.0384, -4.0627, -4.1099, -4.1389, -4.5923, -4.87, -4.9032, -4.9431, -5.5857, -5.6829, -5.8648, -5.8826, -6.0405, -1.0895, -1.4507, -3.1205, -3.3996, -3.4814, -3.587, -3.678, -3.8923, -4.1588, -4.5137, -4.5871, -4.6616, -5.4369, -5.9887, -6.152, -8.9602, -6.1174, -2.6962, -4.3546, -4.5376, -4.1747, -14.0611, -14.0611, -14.0611, -14.0611, -14.0611, -14.0611, -14.0611, -14.0611, -14.0611, -14.0611, -14.0611, -14.0611, -1.8788, -2.2634, -2.3843, -2.5821, -2.8746, -2.9262, -3.306, -3.3224, -3.373, -3.4947, -3.9253, -4.1066, -4.1873, -4.1975, -4.2486, -4.2684, -4.3034, -4.42, -4.8018, -5.102, -5.1374, -5.1677, -5.376, -5.6608, -6.9471, -2.7247, -4.238, -13.9566, -13.9566, -13.9566, -13.9566, -1.7956, -1.8123, -2.0047, -2.7903, -2.7976, -3.3391, -3.4698, -3.5562, -3.7361, -3.7395, -3.8115, -3.9951, -4.1032, -4.1387, -4.2053, -4.267, -4.3187, -4.541, -4.5564, -5.2028, -5.2455, -5.3876, -5.5974, -5.7531, -5.8363, -5.9391, -6.1425, -6.2466, -6.4516, -5.7393, -1.7727, -2.394, -2.3954, -2.4539, -2.4623, -2.7095, -2.9159, -2.9433, -3.2925, -3.4252, -3.8435, -4.2848, -2.789, -4.2798, -3.5162, -6.5853, -13.9679, -13.9679, -13.9679, -13.9679, -13.9679, -13.9679, -13.9679, -13.9679, -13.9679, -13.9679, -13.9679, -13.9679, -13.9679, -13.9679, -13.9679, -13.9679, -13.9679, -13.9679, -13.9679, -13.9679, -13.9679, -13.9679, -13.9679, -13.9679, -13.9679, -13.9679, -1.3089, -2.1981, -2.4035, -2.4315, -3.1142, -3.1381, -3.24, -3.6833, -4.0574, -4.1094, -4.2867, -4.4231, -4.4582, -4.4691, -4.5048, -4.5095, -4.6167, -4.6857, -4.9159, -4.9723, -5.3202, -5.7233, -6.1231, -6.4857, -6.7834, -7.0645, -4.393, -3.8794, -4.5394, -13.9551, -2.4983, -2.6058, -2.9488, -3.1097, -3.1407, -3.2187, -3.5091, -3.5339, -3.5417, -3.6423, -3.6727, -3.6853, -3.8591, -3.8637, -3.8742, -3.9291, -3.9644, -3.9988, -4.0432, -4.0669, -4.1008, -4.15, -4.1605, -4.2122, -4.2312, -4.2594, -4.3815, -4.3875, -4.4165, -4.4786, -1.7579, -1.869, -2.0539, -2.1101, -2.2749, -2.7499, -3.0523, -3.7223, -3.8571, -4.6786, -4.7075, -4.9716, -4.103, -5.3848, -5.9329, -13.7378, -13.7378, -13.7378, -13.7378, -13.7378, -13.7378, -13.7378, -13.7378, -13.7378, -13.7378, -13.7378, -13.7378, -13.7378, -13.7378, -13.7378, -13.7378, -13.7378, -13.7378, -13.7378, -13.7378, -13.7378, -13.7378, -13.7378, -13.7378, -13.7378, -13.7378, -13.7378, -13.7378], \"loglift\": [30.0, 29.0, 28.0, 27.0, 26.0, 25.0, 24.0, 23.0, 22.0, 21.0, 20.0, 19.0, 18.0, 17.0, 16.0, 15.0, 14.0, 13.0, 12.0, 11.0, 10.0, 9.0, 8.0, 7.0, 6.0, 5.0, 4.0, 3.0, 2.0, 1.0, 1.6785, 1.6785, 1.6785, 1.6785, 1.6784, 1.6784, 1.6784, 1.6784, 1.6784, 1.6784, 1.6784, 1.6784, 1.6784, 1.6784, 1.6784, 1.6784, 1.6783, 1.6783, 1.6783, 1.6783, 1.6783, 1.6783, 1.6783, 1.6782, 1.6782, 1.6782, 1.6782, 1.6782, 1.6782, 1.6782, 1.6745, 1.6758, 1.6738, 1.6593, 1.6478, 1.6528, 1.6293, 1.6516, 1.6458, 1.6288, 1.5146, 1.468, 1.4069, 1.2046, 1.352, 1.0992, 1.0722, 1.9283, 1.9283, 1.9283, 1.9283, 1.9283, 1.9283, 1.9283, 1.9283, 1.9283, 1.9282, 1.9282, 1.9282, 1.9282, 1.9282, 1.9281, 1.9281, 1.9281, 1.928, 1.928, 1.928, 1.928, 1.928, 1.928, 1.928, 1.928, 1.928, 1.9279, 1.9279, 1.9279, 1.9279, 1.9182, 1.9231, 1.8945, 1.9093, 1.8659, 1.7291, 1.8579, 1.7415, 1.8325, 1.8983, 1.6508, 1.8537, 1.351, 1.823, 1.5119, 1.3673, 1.14, 2.7047, 2.7047, 2.7047, 2.7046, 2.7046, 2.7046, 2.7046, 2.7046, 2.7046, 2.7046, 2.7045, 2.7045, 2.7045, 2.7045, 2.7044, 2.7044, 2.7044, 2.7044, 2.7043, 2.7043, 2.7043, 2.7043, 2.7042, 2.7042, 2.7042, 2.7041, 2.7041, 2.7041, 2.7041, 2.704, 2.6254, 2.5973, 2.6256, 2.5721, 2.5724, 2.5695, 2.3029, 2.2192, 1.4509, 1.2683, 2.7179, 2.7178, 2.7178, 2.7178, 2.7178, 2.7178, 2.7178, 2.7178, 2.7178, 2.7178, 2.7178, 2.7177, 2.7177, 2.7177, 2.7176, 2.7176, 2.7176, 2.7176, 2.7175, 2.7175, 2.7175, 2.7175, 2.7174, 2.7174, 2.7174, 2.7174, 2.7174, 2.7174, 2.7174, 2.7174, 2.7164, 2.7168, 2.7148, 2.7106, 2.655, 2.6077, 2.4169, 1.4869, 1.6407, 1.7621, 2.8827, 2.8826, 2.8826, 2.8826, 2.8826, 2.8825, 2.8825, 2.8824, 2.8824, 2.8824, 2.8824, 2.8824, 2.8824, 2.8823, 2.8823, 2.8823, 2.8823, 2.8823, 2.8823, 2.8823, 2.8822, 2.8822, 2.8822, 2.8822, 2.8822, 2.8821, 2.8821, 2.8821, 2.8821, 2.8821, 2.8752, 2.8485, 2.8349, 2.7831, 2.8092, 2.8101, 2.8051, 2.7304, 2.5839, 2.6779, 3.1389, 3.1389, 3.1389, 3.1389, 3.1388, 3.1388, 3.1387, 3.1387, 3.1385, 3.1385, 3.1384, 3.1383, 3.1377, 3.1377, 3.1376, 3.1369, 3.1365, 3.1364, 3.1351, 3.1339, 3.1301, 2.5435, 2.4242, 2.3318, 2.3148, 1.9458, 1.917, 1.7215, 1.6438, 1.6331, 1.2484, 1.3049, -0.2651, 0.8342, 3.3407, 3.3407, 3.3407, 3.3406, 3.3406, 3.3406, 3.3406, 3.3406, 3.3405, 3.3405, 3.3405, 3.3405, 3.3405, 3.3404, 3.3404, 3.3404, 3.3404, 3.3403, 3.3403, 3.3402, 3.3401, 3.3401, 3.3401, 3.34, 3.3399, 3.3399, 3.3399, 3.3398, 3.3398, 3.3398, 3.2177, 3.4388, 3.4388, 3.4388, 3.4388, 3.4387, 3.4387, 3.4387, 3.4386, 3.4386, 3.4386, 3.4386, 3.4385, 3.4385, 3.4385, 3.4384, 3.4384, 3.4384, 3.4383, 3.4383, 3.4383, 3.4382, 3.4382, 3.4381, 3.4381, 3.4381, 3.4381, 3.4381, 3.438, 3.438, 3.438, 3.4218, 3.3833, 2.7457, 2.6369, 3.4601, 3.46, 3.46, 3.46, 3.46, 3.46, 3.46, 3.4599, 3.4599, 3.4599, 3.4598, 3.4598, 3.4597, 3.4593, 3.4593, 3.4593, 3.4593, 3.4592, 3.4591, 3.4591, 3.4589, 3.4588, 3.4588, 3.4586, 3.4586, 3.4586, 3.4585, 3.4584, 3.4583, 3.4582, 3.3392, 3.2369, 3.1623, 1.3031, 3.4773, 3.4773, 3.4773, 3.4773, 3.4773, 3.4772, 3.4772, 3.4771, 3.4768, 3.4766, 3.4766, 3.4766, 3.4764, 3.4763, 3.4762, 3.4761, 3.4758, 3.4758, 3.4756, 3.4755, 3.4751, 3.4748, 3.4748, 3.474, 3.4739, 3.4737, 3.4736, 3.4711, 3.4685, 3.4678, 3.4335, 2.9106, 1.9652, 3.5078, 3.5077, 3.5077, 3.5077, 3.5076, 3.5076, 3.5074, 3.5074, 3.5074, 3.5074, 3.5074, 3.5073, 3.5073, 3.5073, 3.5072, 3.5072, 3.5072, 3.5072, 3.5071, 3.507, 3.507, 3.5069, 3.5069, 3.5068, 3.5068, 3.5067, 3.5067, 3.5066, 3.5066, 3.5065, 3.2212, 3.2621, 3.6267, 3.6267, 3.6267, 3.6267, 3.6267, 3.6266, 3.6266, 3.6266, 3.6266, 3.6266, 3.6266, 3.6265, 3.6263, 3.6263, 3.6263, 3.6262, 3.626, 3.626, 3.626, 3.6258, 3.6258, 3.6257, 3.6256, 3.6255, 3.6255, 3.6255, 3.6255, 3.6253, 3.6251, 3.6249, 3.4493, 2.4673, 1.2694, 3.7107, 3.7107, 3.7106, 3.7106, 3.7106, 3.7106, 3.7105, 3.7105, 3.7105, 3.7104, 3.7104, 3.7101, 3.7101, 3.71, 3.7099, 3.7099, 3.7099, 3.7099, 3.7096, 3.7095, 3.7095, 3.7093, 3.7093, 3.7091, 3.709, 3.7087, 3.7086, 3.7086, 3.7085, 3.708, 3.556, 2.1736, 3.7674, 3.7674, 3.7674, 3.7673, 3.7668, 3.7664, 3.766, 3.766, 3.7657, 3.7657, 3.7657, 3.7654, 3.7619, 3.7543, 3.7532, 3.746, 3.6645, 3.5335, 1.6982, 1.5395, 0.3035, 0.3035, 0.3035, 0.3035, 0.3035, 0.3035, 0.3035, 0.3035, 0.3035, 0.3035, -7.2909, -8.8229, -5.3577, -7.1534, -10.2487, -7.8024, -8.7888, -7.7816, -6.2577, 3.9681, 3.9681, 3.968, 3.968, 3.9679, 3.9679, 3.9679, 3.9678, 3.9678, 3.9677, 3.9676, 3.9675, 3.9673, 3.9669, 3.9664, 3.9663, 3.9658, 3.9657, 3.9655, 3.9629, 3.9577, 3.2905, 2.2572, 2.0327, 1.7065, 1.3944, 0.939, 0.5765, 0.4574, 0.4574, 0.0476, -0.0441, 4.092, 4.0919, 4.0918, 4.0917, 4.0916, 4.0916, 4.0916, 4.0915, 4.0914, 4.0912, 4.0911, 4.0908, 4.0907, 4.0905, 4.0895, 4.0863, 4.0844, 4.0741, 3.8381, 2.0752, 1.7661, 1.5521, 1.0273, 0.721, 0.721, 0.721, 0.721, 0.721, 0.721, 0.721, -6.8734, -8.4054, -4.9402, -6.7359, -9.8312, 4.1343, 4.1342, 4.1341, 4.1339, 4.1338, 4.1336, 4.1334, 4.1332, 4.1319, 4.1317, 4.1304, 4.1298, 4.1283, 4.1282, 4.126, 4.1256, 4.0969, 3.4422, 0.741, 0.741, 0.741, 0.741, 0.741, 0.741, 0.741, 0.741, 0.741, 0.741, 0.741, 0.741, -8.4687, -6.8533, -8.3854, -4.9201, -6.7159, -9.8112, -8.9862, -7.3649, -8.3513, -7.344, -5.8201, 4.1353, 4.1353, 4.1353, 4.1353, 4.1353, 4.1352, 4.1351, 4.1351, 4.1351, 4.1349, 4.1349, 4.1347, 4.1347, 4.1345, 4.1344, 4.1344, 4.1342, 4.1339, 4.1338, 4.1336, 4.1334, 4.1329, 4.1322, 4.132, 4.132, 4.1319, 4.1259, 4.1249, 4.1247, 4.1129, 1.2774, 4.1791, 4.1791, 4.179, 4.179, 4.1789, 4.1789, 4.1788, 4.1787, 4.1785, 4.1785, 4.1784, 4.1783, 4.1782, 4.1775, 4.1772, 4.1771, 4.1748, 4.1689, 4.1643, 4.1603, 4.1599, 4.1581, 2.6364, 2.033, 1.0225, 0.7174, 0.7174, 0.7174, 0.7174, 0.7174, 0.6839, 0.3616, -6.8769, 4.3831, 4.3831, 4.3829, 4.3829, 4.3826, 4.3823, 4.3822, 4.382, 4.382, 4.3818, 4.3815, 4.3814, 4.3813, 4.3812, 4.381, 4.3806, 4.3798, 4.3795, 4.3779, 4.3777, 4.3767, 4.3767, 4.3744, 1.016, 1.016, 1.016, 1.016, 1.016, 1.016, 1.016, -6.5784, -8.1104, -9.5362, -8.7113, -7.0899, -8.0763, 4.404, 4.4038, 4.4037, 4.4036, 4.4036, 4.4036, 4.4034, 4.4033, 4.403, 4.403, 4.4029, 4.4028, 4.4028, 4.4026, 4.4026, 4.4026, 4.4025, 4.4024, 4.3992, 4.3982, 4.3859, 4.3653, 1.0262, 1.0262, 1.0262, 1.0262, 1.0262, 1.0262, 1.0262, 1.0262, -6.5681, -8.1002, -4.6349, -6.4307, -9.5259, -8.701, -7.0796, 4.4057, 4.4056, 4.4056, 4.4056, 4.4055, 4.4055, 4.4052, 4.4051, 4.405, 4.405, 4.4049, 4.4046, 4.4043, 4.4039, 4.4026, 4.4009, 4.3995, 4.399, 4.3719, 4.0239, 2.8359, 0.9688, 0.9688, 0.9688, 0.9688, 0.9688, 0.9688, 0.9688, 0.9688, 0.9688, 0.7154, -6.6256, -8.1576, -4.6924, -6.4881, -9.5834, -8.7585, -7.1371, 4.4595, 4.4594, 4.4594, 4.4593, 4.4593, 4.4593, 4.4591, 4.4591, 4.459, 4.459, 4.4589, 4.4588, 4.4587, 4.4586, 4.4586, 4.4585, 4.4584, 4.4584, 4.4583, 4.4583, 4.4582, 4.4574, 4.4566, 4.4565, 4.4564, 4.4534, 4.4527, 4.4514, 4.4512, 4.4498, 4.4792, 4.4792, 4.4787, 4.4786, 4.4785, 4.4784, 4.4783, 4.4781, 4.4778, 4.4771, 4.4769, 4.4767, 4.4738, 4.4697, 4.468, 4.3068, 2.8029, 2.6101, 2.3897, 2.3047, 1.902, 1.0164, 1.0164, 1.0164, 1.0164, 1.0164, 1.0164, 1.0164, 1.0164, 1.0164, -6.578, -8.11, -4.6448, 4.4804, 4.4803, 4.4803, 4.4803, 4.4801, 4.4801, 4.4799, 4.4799, 4.4799, 4.4798, 4.4794, 4.4791, 4.479, 4.479, 4.4789, 4.4789, 4.4788, 4.4786, 4.4776, 4.4766, 4.4765, 4.4763, 4.4754, 4.4737, 4.4558, 4.1311, 2.5662, 1.1209, 1.1209, 1.1209, -6.4735, 4.5045, 4.5045, 4.5045, 4.5042, 4.5042, 4.5039, 4.5038, 4.5038, 4.5036, 4.5036, 4.5035, 4.5033, 4.5031, 4.5031, 4.503, 4.5029, 4.5028, 4.5023, 4.5023, 4.5002, 4.5, 4.4993, 4.498, 4.4969, 4.4962, 4.4953, 4.4932, 4.492, 4.4891, 2.9578, 4.5425, 4.5424, 4.5424, 4.5424, 4.5424, 4.5423, 4.5422, 4.5422, 4.542, 4.5419, 4.5415, 4.5408, 4.4179, 3.7128, 3.3945, 2.1859, 1.1096, 1.1096, 1.1096, 1.1096, 1.1096, 1.1096, 1.1096, 1.1096, 1.1096, 1.1096, 1.1096, 1.1096, 1.1096, 1.1096, -6.4847, -8.0168, -4.5515, -6.3473, -9.4425, -8.6176, -6.9963, -7.9827, -6.9754, -5.4515, -5.6179, -8.4447, 4.5949, 4.5948, 4.5947, 4.5947, 4.5944, 4.5944, 4.5943, 4.5939, 4.5934, 4.5934, 4.593, 4.5928, 4.5927, 4.5926, 4.5926, 4.5925, 4.5923, 4.5921, 4.5913, 4.5911, 4.5895, 4.5867, 4.5827, 4.5774, 4.5713, 4.5637, 2.9534, 2.7779, 1.9055, 1.1224, 4.8072, 4.8072, 4.807, 4.8069, 4.8069, 4.8068, 4.8065, 4.8065, 4.8065, 4.8064, 4.8063, 4.8063, 4.8061, 4.806, 4.806, 4.8059, 4.8059, 4.8058, 4.8057, 4.8057, 4.8056, 4.8055, 4.8055, 4.8054, 4.8053, 4.8053, 4.805, 4.805, 4.8049, 4.8047, 4.8598, 4.8597, 4.8597, 4.8597, 4.8596, 4.8594, 4.8592, 4.8585, 4.8583, 4.8562, 4.856, 4.8549, 4.1092, 2.9598, 2.2229, 1.3397, 1.3397, 1.3397, 1.3397, 1.3397, 1.3397, 1.3397, 1.3397, 1.3397, 1.3397, 1.3397, 1.3397, 1.3397, 1.3397, 1.3397, -6.2547, -7.7867, -4.3215, -6.1172, -9.2125, -8.3876, -6.7662, -7.7526, -6.7454, -5.2215, -5.3878, -8.2146, -5.4309]}, \"token.table\": {\"Topic\": [1, 1, 6, 20, 3, 4, 21, 8, 24, 21, 9, 24, 10, 24, 5, 4, 18, 2, 12, 28, 12, 2, 14, 22, 19, 2, 1, 2, 9, 7, 24, 26, 23, 3, 4, 3, 1, 3, 24, 5, 1, 3, 8, 5, 8, 18, 28, 12, 9, 18, 15, 8, 14, 1, 4, 5, 8, 5, 23, 28, 11, 13, 20, 3, 3, 15, 17, 23, 2, 4, 2, 28, 12, 20, 22, 12, 8, 29, 5, 9, 22, 18, 13, 19, 10, 19, 1, 22, 7, 11, 25, 22, 27, 27, 29, 26, 26, 19, 13, 12, 9, 5, 13, 13, 12, 2, 20, 2, 7, 16, 4, 9, 10, 2, 13, 25, 23, 19, 1, 10, 21, 18, 5, 6, 9, 30, 12, 19, 1, 7, 12, 19, 11, 2, 6, 8, 28, 9, 3, 24, 26, 15, 2, 13, 14, 25, 18, 23, 29, 18, 17, 3, 13, 13, 20, 19, 19, 25, 4, 3, 29, 16, 8, 12, 12, 3, 22, 3, 9, 11, 30, 11, 5, 5, 18, 4, 28, 14, 26, 2, 3, 16, 3, 6, 12, 13, 7, 9, 11, 14, 19, 22, 30, 30, 7, 30, 11, 30, 20, 13, 3, 5, 6, 16, 9, 3, 5, 18, 26, 26, 7, 3, 12, 21, 6, 8, 12, 6, 14, 15, 8, 5, 1, 9, 2, 1, 22, 26, 5, 13, 12, 28, 23, 25, 9, 9, 17, 1, 2, 18, 27, 11, 4, 9, 15, 16, 28, 28, 19, 16, 14, 20, 8, 23, 4, 14, 27, 2, 9, 17, 18, 12, 7, 26, 25, 25, 2, 17, 11, 6, 25, 8, 16, 5, 15, 21, 3, 15, 29, 1, 11, 29, 16, 16, 1, 13, 20, 23, 25, 15, 3, 5, 29, 15, 5, 9, 16, 4, 26, 23, 12, 21, 6, 17, 14, 11, 3, 5, 15, 20, 4, 4, 18, 8, 7, 11, 14, 26, 27, 3, 6, 1, 3, 15, 2, 22, 26, 2, 9, 21, 13, 14, 20, 19, 12, 2, 3, 1, 2, 6, 9, 8, 10, 10, 18, 12, 30, 27, 8, 13, 13, 29, 10, 9, 7, 26, 8, 6, 2, 6, 23, 2, 2, 4, 4, 23, 5, 29, 23, 9, 16, 26, 2, 4, 7, 3, 1, 8, 15, 4, 27, 3, 14, 20, 27, 1, 3, 5, 2, 12, 5, 13, 13, 18, 5, 19, 5, 30, 23, 1, 2, 27, 3, 3, 23, 3, 6, 9, 1, 14, 17, 27, 26, 28, 1, 6, 14, 14, 22, 22, 3, 26, 29, 9, 25, 13, 6, 25, 7, 13, 9, 11, 15, 15, 2, 3, 2, 5, 6, 16, 25, 13, 24, 11, 6, 8, 3, 17, 26, 3, 24, 28, 5, 10, 9, 25, 25, 30, 23, 22, 1, 2, 4, 1, 18, 10, 4, 1, 28, 11, 4, 1, 15, 10, 23, 11, 2, 12, 28, 26, 8, 2, 10, 5, 15, 1, 15, 12, 13, 1, 21, 29, 12, 19, 23, 10, 5, 12, 8, 19, 25, 3, 5, 3, 8, 3, 2, 6, 1, 5, 4, 21, 25, 14, 16, 21, 18, 1, 2, 26, 13, 24, 17, 5, 11, 25, 28, 3, 3, 16, 23, 26, 4, 1, 4, 6, 4, 18, 26, 22, 2, 6, 25, 23, 2, 30, 2, 5, 12, 9, 12, 19, 27, 9, 8, 15, 30, 4, 4, 15, 23, 2, 10, 4, 1, 10, 6, 7, 18, 12, 1, 26, 18, 22, 7, 3, 2, 6, 2, 9, 2, 23, 23, 8, 20, 25, 9, 2, 8, 16, 22, 1, 2, 20, 17, 24, 17, 26, 20, 6, 8, 29, 5, 3, 7, 13, 10, 7, 2, 2, 19, 1, 1, 2, 1, 12, 14, 15, 19, 7, 29, 29, 29, 18, 29, 11, 3, 10, 1, 26, 21, 28, 3, 7, 15, 12, 14, 3, 2, 14, 22, 11, 6, 2, 9, 3, 18, 29, 17, 11, 5, 15, 10, 18, 19, 2, 29, 5, 10, 13, 1, 8, 24, 9, 10, 19, 16, 1, 2, 3, 22, 20, 8, 20, 3, 10, 23, 11, 26, 18, 9, 6, 6, 1, 2, 7, 23, 25, 13, 10, 7, 19, 1, 19, 6, 9, 2, 27, 30, 4, 24, 26, 21, 20, 4, 12, 4, 5, 21, 12, 27, 11, 4, 8, 22, 7, 28, 29, 26, 8, 25, 17, 29, 21, 8, 25, 28, 21, 12, 19, 11, 25, 25, 5, 15, 4, 3, 3, 11, 24, 3, 22, 18, 3, 3, 2, 7, 17, 2, 28, 18, 3, 9, 5, 15, 10, 24, 5, 1, 2, 7, 26, 8, 20, 18, 9, 29, 23, 28, 7, 17, 1, 2, 20, 1, 30, 10, 9, 22, 4, 13, 20, 18, 19, 19, 29, 15, 1, 6, 10, 25, 19, 2, 21, 19, 1, 1, 2, 4, 11, 24, 1, 12, 21, 7, 29, 1, 2, 4, 1, 2, 8, 13, 11, 26, 13, 26, 21, 1, 3, 11, 13, 7, 11, 23, 21, 20, 11, 7, 29, 7, 4, 6, 15, 5, 5, 4, 13, 6, 5, 6, 6, 16, 7, 22, 27, 28, 12, 28, 22, 1, 29, 25, 10, 25, 12, 11, 5, 11, 9, 8, 4, 24, 13, 4, 16, 9, 16, 29, 16, 16, 28, 10, 1, 2, 28, 18, 2, 1, 2, 4, 6, 7, 2, 3, 6, 17, 5, 10, 9, 10, 10, 7, 18, 4, 13, 27, 29, 7, 7, 28, 10, 28, 10, 20, 21, 2, 23, 5, 11, 30, 23, 10, 28, 28, 28, 28, 1, 4, 13, 16, 14, 21, 2, 24, 3, 12, 24, 1, 1, 3, 17, 3, 9, 15, 10, 10, 16, 8, 29, 15, 4, 24, 23, 6, 1, 29, 21, 1, 3, 23, 18, 29, 1, 4, 10, 27, 15, 12, 11, 18, 1, 2, 13, 24, 20, 7, 5, 3, 5, 6, 3, 3, 24, 17, 4, 30, 15], \"Freq\": [0.9998099587909628, 0.9996817125463228, 0.9987949811881038, 0.9921011653222305, 0.6153997164231797, 0.3845150867237556, 0.9980872934711155, 0.9993841540362075, 0.9947070476972103, 0.9992381366115254, 0.8860079599604753, 0.11366908326505976, 0.9989313872538395, 0.9992464013099153, 0.9991856299791488, 0.9996182684393478, 0.9977735315982522, 0.9999635231505267, 0.9994608407897746, 0.9993017177020885, 0.9974991011536937, 0.9996720492151911, 0.9985445197695345, 0.9990284275180865, 0.996573973313635, 0.9997448284238964, 0.969772715409819, 0.030173231658262935, 0.9973302742787012, 0.9987051050497795, 0.9999396249914587, 0.9950069569396517, 0.9996111094578574, 0.9992282108797078, 0.9998453053834011, 0.9998158327043504, 0.5602825742588678, 0.2854243136656943, 0.1542643748588032, 0.9997822614287969, 0.7621990543628574, 0.2377679645183137, 0.9995567656697166, 0.9997929200989166, 0.999573678596357, 0.9903765746027855, 0.9967613468055291, 0.9979522028938516, 0.9985904151276113, 0.9997287607766966, 0.9980733448881812, 0.9994896192102636, 0.9972592551134545, 0.0071217502233873724, 0.9926507598598017, 0.9996392367214176, 0.9995769425453116, 0.9994347925949195, 0.9992841756480252, 0.9983669996967024, 0.9993772909351066, 0.9990949056637718, 0.9996994920622746, 0.9990387258017086, 0.9994131206741623, 0.9980578674823294, 0.9994919678639599, 0.9979919157299283, 0.9995899320125209, 0.999503007206374, 0.999657040492638, 0.9995975435864657, 0.9993781834404691, 0.9948531856588443, 0.9995085018505012, 0.9991765933594016, 0.9990283939655316, 0.9975765304656165, 0.9995526297193329, 0.9990018840932349, 0.9987867991188871, 0.997340452188813, 0.9991685250509008, 0.9993794490549373, 0.9569674492939224, 0.04251664769345983, 0.9997675523765827, 0.9634031239653452, 0.999651644629491, 0.9988077102782853, 0.9949429213090156, 0.6826390267636752, 0.3172566044986553, 0.9990271309098597, 0.9979301228998033, 0.9944811214611977, 0.9996351820786715, 0.9973986650850846, 0.9976508726229937, 0.999720477940092, 0.9985983410920223, 0.9992528056575882, 0.9999163809944808, 0.9988669324559183, 0.9996724522019059, 0.9997494255172333, 0.9990341206956317, 0.9999212173769084, 0.9993094741949747, 0.9976947455732125, 0.9998849930774041, 0.9984548615362875, 0.9988732573436662, 0.7968351827488603, 0.055446623153847956, 0.1474376115681866, 0.9930450229177847, 0.9879451918589586, 0.9972624784488237, 0.002671929364806832, 0.9997358953015817, 0.9983046863423084, 0.9998471281377073, 0.9949419993277105, 0.005016368922460133, 0.9948116595052401, 0.9997962420566471, 0.99988727976873, 0.34368377711692116, 0.2719658039869581, 0.1704356537912064, 0.2137476846226351, 0.9996306691222427, 0.9999700824493354, 0.05395387848711366, 0.9456710619761908, 0.9998331099834918, 0.9997870821692508, 0.9239287910019406, 0.07599633916763163, 0.9942223494686188, 0.9998326361278692, 0.9995163865313175, 0.9986873084086255, 0.9998648662325128, 0.9807627358988601, 0.9998508837627805, 0.9885341543681192, 0.9993335676448417, 0.997765052070184, 0.9998116834735928, 0.14329402306101896, 0.8565374561682197, 0.9994548426996149, 0.997319677991403, 0.999724347978438, 0.9997661882798858, 0.9919202366136464, 0.9996843850232829, 0.9997463639544709, 0.9996265834358823, 0.9992981439515762, 0.9997054548464628, 0.9996675611602647, 0.999852719521443, 0.9997431564750967, 0.9997435308628639, 0.19985139933121804, 0.7998172376942464, 0.9991697328992915, 0.9997407854013444, 0.9986480778055341, 0.9995383976667057, 0.999641424552697, 0.9966045020253068, 0.9995401493234105, 0.9978867203162781, 0.997912028009361, 0.9944750978747184, 0.9999555646460295, 0.9995403697149385, 0.995005825190956, 0.5520123129447235, 0.44668134157011197, 0.999644486304348, 0.9996410393346556, 0.8841787696534755, 0.11571209115899832, 0.9997913470619649, 0.997656233960916, 0.9762778019934957, 0.9962760780508558, 0.9997559290845353, 0.9981933837288598, 0.9999292965930945, 0.999251506973094, 0.9994672320258006, 0.9955552274011601, 0.9929804892541164, 0.9974836910921875, 0.141072251041822, 0.8586849916543087, 0.9989862505610104, 0.9994910142391719, 0.9998421182587419, 0.20078492096378883, 0.7416674888499374, 0.057349799284946934, 0.9998820725888627, 0.9994444699577997, 0.9995178783346989, 0.999864614592031, 0.999197089775372, 0.9988056016441771, 0.9974900706407641, 0.9994660336335383, 0.9988192010258539, 0.9976859533249284, 0.9993239148044061, 0.999585504399278, 0.9995783596637123, 0.9996221295075375, 0.9997488669087923, 0.9980828904580151, 0.9997232738001054, 0.9997807468501735, 0.9989695956009778, 0.9978384177216838, 0.9996943836561262, 0.9995698110929049, 0.8372375050319018, 0.1624788400495092, 0.9994572435633081, 0.997690009636397, 0.99961522646642, 0.9988718759472467, 0.989600484638594, 0.42927220184560627, 0.5705731830243038, 0.9986775454314302, 0.9998316032657332, 0.998565689722376, 0.9996217180705165, 0.999486359451312, 0.9996469169832153, 0.998374965245203, 0.998636170710385, 0.9671941602389413, 0.9990576070417843, 0.9990020187839946, 0.9891076933406324, 0.9960519393790032, 0.9993036295108567, 0.992331195542664, 0.9997163839036651, 0.9982393916373818, 0.9998820039989004, 0.4612876582297264, 0.03809556962040828, 0.5004874472594218, 0.9997577578209924, 0.9989397029197356, 0.9989932574047052, 0.9882859057595658, 0.9990870888845375, 0.9964458899283501, 0.9999176992053631, 0.9955544186563663, 0.9995035151778848, 0.29456601736150456, 0.7050123598712287, 0.999256637518663, 0.9988158788344833, 0.8188393694079366, 0.1805315145151356, 0.9981356627836832, 0.9237093276760042, 0.07623833300188353, 0.9980340915624865, 0.9998122773365656, 0.999905402651185, 0.9986846368271535, 0.9989279722259478, 0.9938895124778334, 0.9998955422521216, 0.9997578817883408, 0.997822544689895, 0.9984956527056165, 0.9983414297861878, 0.9973838528599447, 0.07070779907771796, 0.9291502240614696, 0.999173273266395, 0.9995901095879088, 0.8147010070753558, 0.10617794641336513, 0.07894814604229558, 0.9994830594831937, 0.998633056291743, 0.999634128405595, 0.9986510949860735, 0.9994130983442774, 0.9997631234859499, 0.9952953006448972, 0.9993041155874043, 0.9988407510172113, 0.6690167750546351, 0.18651010154476716, 0.1443689002227603, 0.9998588049518514, 0.9997336884282264, 0.9993172224384375, 0.9997982486953397, 0.9996461159228053, 0.9998350662342658, 0.9995403758902546, 0.9999687098945351, 0.9989536767076669, 0.9991420614237285, 0.9996601726470306, 0.9997817818844507, 0.9520046916908118, 0.02812378074455326, 0.019842189105275243, 0.9998496037859231, 0.99878077971007, 0.9990363561938721, 0.9899208599052596, 0.009975946650208043, 0.9988155647263025, 0.9996212024208861, 0.9747234789031386, 0.9992333100541884, 0.9881774330325892, 0.9989406970209932, 0.9810676377504362, 0.018873825502326417, 0.9997408739518131, 0.9994426551576965, 0.30281399532313347, 0.6945136907659927, 0.9990153885750863, 0.9986178103566974, 0.9913297409786272, 0.9985194503702944, 0.99984281635373, 0.9997946985770815, 0.9996765432086396, 0.9997902953552407, 0.9994104012346934, 0.9991096889652616, 0.9990912205554282, 0.9992206188446471, 0.9999600322522532, 0.9991757877810881, 0.9934407024313231, 0.9998910411629538, 0.9992027973314986, 0.9667346078653791, 0.03324890889546119, 0.998446768948912, 0.9999148885896127, 0.6593697891456639, 0.3405536273609473, 0.9998624066950641, 0.9991267787109496, 0.999691210204879, 0.9979544575284035, 0.9924489167996756, 0.9995946523089263, 0.9848448817753367, 0.9986525732381707, 0.24346584251243034, 0.7400642230387079, 0.01618609479307016, 0.9994947960572813, 0.9998612106094394, 0.9991834086167323, 0.9986520118039424, 0.5631204677277021, 0.43629774304973734, 0.8735896771824452, 0.12631395602165782, 0.9962617898853452, 0.9995463301255891, 0.9677764410331969, 0.02783725132906438, 0.004223582960271837, 0.9999502825150965, 0.999204645455702, 0.999514567820047, 0.9977761241462815, 0.9985587309500572, 0.9983647719968493, 0.9994993742036908, 0.9996579758501977, 0.8496811218807638, 0.14994372739072304, 0.9968967556698373, 0.9746281659135909, 0.025303685596682307, 0.9997291228249964, 0.9998793236741296, 0.9997735536013139, 0.9990586317179867, 0.09769905050666815, 0.15975545066562674, 0.7424491362607712, 0.9998499582407038, 0.986455399523952, 0.9994696545856075, 0.9988424590315472, 0.9947391629892266, 0.9999221142191099, 0.7780351866755634, 0.22178220000490556, 0.9999199638348856, 0.9999291642029684, 0.9967683648948718, 0.9911440678555483, 0.7849481913361678, 0.21331629356027293, 0.9972831535040074, 0.9996539292861216, 0.9988640279883066, 0.9996543477495651, 0.9974932725654534, 0.9958650033038671, 0.9990847842133957, 0.9979842581748741, 0.999771443358248, 0.9997324088310813, 0.9996714089263666, 0.9996814584562637, 0.9280230944125815, 0.07165701068189725, 0.9997500034724408, 0.9990988065359235, 0.22424901731623892, 0.7757247206244613, 0.999444835392914, 0.9988799596781404, 0.9993736762623548, 0.9987362171362791, 0.5512782168455329, 0.44841236190599115, 0.999610421912771, 0.9949039529470106, 0.9967898398394771, 0.9992015413909628, 0.9994998940929076, 0.9974718132968724, 0.999930284102175, 0.9998372347265709, 0.9974235088438262, 0.9998344441597374, 0.9990671529216412, 0.9990881261314992, 0.9994629806947224, 0.9998796136939573, 0.8101790184872222, 0.10480892110841952, 0.08499821752318647, 0.9997471214078595, 0.9999047527756133, 0.9982941914741124, 0.9995013016082096, 0.9999238955388469, 0.9998221174572965, 0.9996589565175945, 0.9994150299854494, 0.491589085577402, 0.5077173364165556, 0.9990089199301847, 0.9993236421232142, 0.9994177670362585, 0.7852700267411453, 0.020588956542891113, 0.19360843345595855, 0.9857864300978418, 0.9989625445791617, 0.4324875825225452, 0.5673723236063093, 0.9996006590387339, 0.9994882564706173, 0.9514814352458337, 0.04839622449160694, 0.9979365868672954, 0.9989150044872416, 0.9998710301999557, 0.9999468851430772, 0.9984914231272394, 0.9997704848008805, 0.9973746532872098, 0.9988498995730305, 0.9999112728647305, 0.9052041129658676, 0.09462474627073056, 0.9998800156248753, 0.9991090629463654, 0.9983170312457508, 0.04646205941811786, 0.9533326265791591, 0.999920116190407, 0.9988911234768427, 0.9996915242790732, 0.8999468240432199, 0.09973073597075391, 0.9999478344994526, 0.9993967174741769, 0.9997690228245638, 0.9716451065345212, 0.9994180161256907, 0.9022282518043206, 0.09769912382041408, 0.991949288147636, 0.9855799597286544, 0.9809922491714329, 0.018901358558712385, 0.9997155743835046, 0.8104282810092189, 0.18648564745803534, 0.9990879203872499, 0.930054722187006, 0.06979732232026091, 0.9996664020346785, 0.9969964876043473, 0.9996273451039468, 0.8638094838340864, 0.13312132456347223, 0.998418006884852, 0.9990289071826618, 0.9995363449766708, 0.0009187346645137891, 0.9988942639926173, 0.9993605589848665, 0.9998185339241239, 0.999293348221133, 0.9879335456294365, 0.9999050642012773, 0.7576166299335341, 0.24233399023338303, 0.9955743083956419, 0.9993212260484076, 0.9274190836009888, 0.07140234414425811, 0.9704863362141248, 0.02925971828913787, 0.9992186363208571, 0.9988477993077766, 0.9986767512296333, 0.1168747145883335, 0.8828439462183256, 0.9998379742941952, 0.9996373030515349, 0.9998369700633878, 0.9979421177419006, 0.9998710746575239, 0.8955743431170202, 0.10416152431936566, 0.9977901535482937, 0.9996741057047411, 0.9869308206792626, 0.9996906556458666, 0.9996492765875833, 0.9999741840380587, 0.9996473718966982, 0.9997953587534159, 0.9862418077229268, 0.998764303893202, 0.9999636532317215, 0.9989414456591579, 0.9954136983223124, 0.9998500785534438, 0.9997215535926117, 0.999511194870196, 0.5613825731976095, 0.43857079288576695, 0.9997252793670416, 0.9990392124367795, 0.9995898912341108, 0.9996983266040224, 0.9963032959326571, 0.9996556743966236, 0.9996409823548603, 0.9994879977731763, 0.9979418570161153, 0.4530967718380719, 0.5000246517784436, 0.04674807963408678, 0.9992729244038897, 0.06046604165086254, 0.9394787002390653, 0.9984638600388615, 0.995424235027923, 0.9899585759651064, 0.9998243309109525, 0.9998614089511237, 0.9991619289694926, 0.01697560802677387, 0.9829518737152568, 0.9980728072742998, 0.9985458461411788, 0.620789281920109, 0.16364215654000455, 0.21506182499408855, 0.9962793695990789, 0.9991264580412801, 0.9994563143417925, 0.9774495476457612, 0.021922689003655897, 0.9995577175606468, 0.9959732424508158, 0.003957804903677613, 0.5299804941965283, 0.31358071978304547, 0.10774076463019229, 0.018058821344265185, 0.030302090052241583, 0.9996646875545725, 0.9992774828764655, 0.9969659700257869, 0.9977459860086493, 0.9998592552344104, 0.9962790360616959, 0.9997638744180015, 0.9998129261441595, 0.9954016807506451, 0.9999456952998726, 0.9998132738371489, 0.9985459885389193, 0.9965413079254541, 0.999742497224995, 0.9997559081098503, 0.9998639266938385, 0.9998526746327229, 0.9984696327830773, 0.9996867561433511, 0.999822826220353, 0.7913669509781216, 0.20803740344184554, 0.9988749369182661, 0.9987576031737992, 0.9947696414079703, 0.005033930604578368, 0.9994070447102925, 0.999843084944336, 0.9995527992540909, 0.9986390807594492, 0.9995485157532775, 0.9996469970095608, 0.996890202911044, 0.9993202781325979, 0.999435611687424, 0.9899757497343364, 0.9997962204107627, 0.9984481499393852, 0.999266680263674, 0.9966070968882914, 0.999784007904448, 0.9998859748351089, 0.99971070767179, 0.9986282945524944, 0.9981449926584158, 0.9948354879138747, 0.9995739540993747, 0.9993565862838885, 0.9998823598676649, 0.9085034795925356, 0.06629508696830257, 0.024980757408345898, 0.9975320990575913, 0.9988088421960354, 0.9984904699576705, 0.7791163357832175, 0.22037505331047738, 0.9993057334707263, 0.998729017061472, 0.9982378842787489, 0.9993821636037691, 0.9997368712895506, 0.9950542225452277, 0.9999144417738046, 0.1703883111291607, 0.8295428273284934, 0.9998100264600159, 0.9994815142479712, 0.9997231723026129, 0.9999395137309262, 0.9999143108235636, 0.9994805283588839, 0.9979509712302423, 0.9998593180236023, 0.9990212334971341, 0.999958400602458, 0.9993474094663415, 0.999739911036491, 0.9996246848738831, 0.9998709441808166, 0.9999449281343936, 0.9919709444468562, 0.9973826376617214, 0.9985924388036836, 0.9990453616140135, 0.9995755419816857, 0.9998964484619663, 0.00740347912605385, 0.9925017016633367, 0.9987272193982467, 0.9038731683723223, 0.09459137808547559, 0.9991769179689269, 0.9997708720496851, 0.9998139063983407, 0.9995521592031402, 0.9996786250864645, 0.9983815030341076, 0.997566209909226, 0.9988038581717955, 0.9998848052559034, 0.9990598475018134, 0.9976806506780294, 0.9984857508335263, 0.9987555991949174, 0.9993799804332878, 0.9989216763773472, 0.9970936796314082, 0.999764195021558, 0.9986710335957779, 0.9995259659478725, 0.9996631270046882, 0.9997442900672436, 0.9991340310038107, 0.9997045163113454, 0.9912172168546973, 0.9994319044429092, 0.9999214405505071, 0.24912028609083325, 0.7507484772256178, 0.9986369067421396, 0.9993405240076587, 0.9932527031290995, 0.9998126946981564, 0.9998418030700816, 0.9994388408863624, 0.9999351334414535, 0.999167325332425, 0.9999721976124467, 0.9319754253055783, 0.06788933636193877, 0.9995627080887939, 0.9995842614995678, 0.9996810189995325, 0.966292485323361, 0.033667782757146894, 0.9984939453219394, 0.9986437949530856, 0.9996891557944549, 0.5453104455953544, 0.45460283791333483, 0.9997523287586614, 0.9988767928176386, 0.9988782949999552, 0.9991011445959643, 0.9965501585362779, 0.9994532800905521, 0.9967293441575507, 0.9998649250168506, 0.9995227254798776, 0.9996807264029102, 0.9996801085126564, 0.7214177831660562, 0.27852402955784183, 0.9979454158411236, 0.9998843763950314, 0.9998632380469369, 0.9988167541793663, 0.9998722021995735, 0.9997452737558848, 0.9996101292155815, 0.9995670049634633, 0.9964033911483676, 0.9988677678000655, 0.9998769134063697, 0.9998949485265468, 0.9995415825470785, 0.9996696534501381, 0.8488215529580414, 0.15097255992966777, 0.00015203681765324045, 0.9994192810666529, 0.988529131165164, 0.9999118216864845, 0.9823619031125785, 0.9997121169432356, 0.9996825206122045, 0.9953065482152363, 0.0013274687216859999, 0.0032449235418991105, 0.999435182833649, 0.9981389914922902, 0.9997152664594128, 0.9997139049279292, 0.9998082983287915, 0.9993819930341971, 0.998691595432404, 0.6225858990901146, 0.08542518385431232, 0.2919594891223332, 0.9998691390675217, 0.999673111995017, 0.9989779107512009, 0.9988990019422483, 0.9995642574578417, 0.9982934588540118, 0.9997841878189621, 0.9902285532229337, 0.9985341889826416, 0.9996165383482338, 0.04304884370371231, 0.7823237235479147, 0.1744611034308341, 0.9993218759731023, 0.9989533774544899, 0.9995139339020097, 0.9997222955177903, 0.990778857110932, 0.999542158411468, 0.9999329067169828, 0.9983053643246866, 0.9998103927881868, 0.9993026426272172, 0.9998183275579945, 0.9996076390261303, 0.9997500980108576, 0.9995305012097941, 0.9998716348879593, 0.9986741302914647, 0.9994740342931954, 0.999783329031035, 0.9999583011756635, 0.9917540512911636, 0.9997481392657024, 0.9995877067893962, 0.9979231635694572, 0.9996693932401002, 0.9978344426616258, 0.999054504866143, 0.9933933234700055, 0.9993641534207, 0.9997423366219206, 0.9983702092379027, 0.9991079649798712, 0.9981709093905, 0.9973385401214517, 0.9994194518982977, 0.9992740046385233, 0.9998393309318292, 0.9999283969847245, 0.99791556814422, 0.9997967572487532, 0.999823943601884, 0.9971013672199713, 0.9997429013137508, 0.9997723159684964, 0.9996716011471583, 0.9988386458557523, 0.9988108570688596, 0.9984134663675971, 0.9999476968231151, 0.999699838203553, 0.993787074594624, 0.9998896060633072, 0.9733613994270298, 0.026477837140518896, 0.996725496937245, 0.999301039984032, 0.9999244951076396, 0.06076019285546592, 0.00011937169519737901, 0.9389777544225834, 0.9998625276986939, 0.9998298129079269, 0.23119271740559616, 0.2793108764753788, 0.4892639377290787, 0.98959848377072, 0.9999374931480007, 0.9975904161323731, 0.9993434361947877, 0.9995918154406382, 0.9973047619193017, 0.9997876958135549, 0.9938133656846526, 0.9996197918471977, 0.9995448990567385, 0.9995503855786756, 0.9987010228988972, 0.9988995093305275, 0.9996128885816851, 0.9995949280702657, 0.9981465088390162, 0.9971410953813962, 0.9994387653873062, 0.999928020206152, 0.9969640612934629, 0.9999603909814961, 0.9991657617381368, 0.9994246586627854, 0.9999401414810958, 0.9964125941227846, 0.9979357572755682, 0.9963673557911035, 0.9946848409481815, 0.9803938407693248, 0.9743517847868475, 0.9872768454208967, 0.002938636878994188, 0.9969815384800947, 0.9987888915316372, 0.9994543942960706, 0.9930518072686803, 0.9988177567765911, 0.9998664718966456, 0.9994948592751506, 0.8757129396885286, 0.1241015445322464, 0.8075606981650781, 0.9999839979969902, 0.10188475371810973, 0.8980760718798946, 0.9689981886286512, 0.99940609032665, 0.9994981295687587, 0.9989015000501489, 0.9999489515381141, 0.9998608270409226, 0.9997335099874187, 0.999255507720876, 0.9983429612657092, 0.999942516865114, 0.9998280981718763, 0.9999281365652503, 0.9886753296265041, 0.9998799234113185, 0.9999350817562384, 0.9988960576711801, 0.9996253545564694, 0.9999502437325489, 0.9998916362123738, 0.9994216836179586, 0.9986754017965759, 0.9990657056566243, 0.0013810516894997812, 0.9985003715083418, 0.9988339260056683, 0.9991628118650647, 0.9982587721373098, 0.9998304965569622, 0.9996697432453135, 0.9993685094830251, 0.18067194744581527, 0.819314495226029, 0.9990437128647178, 0.9992685593359635, 0.9956694708867636, 0.9987574436594684, 0.9999353330705684, 0.05709449192030838, 0.9253031244910848, 0.017376584497485158, 0.9993160047572471, 0.876099026053352, 0.12382885308408181, 0.9966371769635354, 0.5271294013295033, 0.4721843171518352, 0.9962744961316884], \"Term\": [\"able\", \"above\", \"abstract\", \"abstraction\", \"access\", \"access\", \"accomplish\", \"accord\", \"accordingly\", \"account\", \"action\", \"action\", \"active\", \"activity\", \"actual\", \"actually\", \"ad\", \"add\", \"address\", \"advance\", \"advantage\", \"again\", \"age\", \"ajax\", \"alive\", \"already\", \"also\", \"also\", \"alter\", \"amount\", \"android\", \"angle\", \"angular\", \"annotation\", \"answer\", \"api\", \"app\", \"app\", \"app\", \"appear\", \"application\", \"application\", \"apply\", \"appreciate\", \"approach\", \"approximately\", \"arbitrary\", \"area\", \"args\", \"argument\", \"argv\", \"article\", \"artifact\", \"as\", \"as\", \"ask\", \"asp\", \"assembly\", \"asset\", \"associate\", \"at\", \"attach\", \"attribute\", \"auth\", \"authentication\", \"author\", \"auto\", \"automate\", \"available\", \"avoid\", \"back\", \"background\", \"bar\", \"baseurl\", \"basically\", \"become\", \"before\", \"beginning\", \"behavior\", \"behaviour\", \"believe\", \"benefit\", \"beta\", \"big\", \"bind\", \"bind\", \"bit\", \"blah\", \"block\", \"blog\", \"board\", \"body\", \"body\", \"border\", \"bound\", \"bracket\", \"break\", \"breakpoint\", \"bring\", \"browser\", \"btn\", \"bug\", \"build\", \"builder\", \"button\", \"byte\", \"calculate\", \"call\", \"callback\", \"candidate\", \"case\", \"cast\", \"category\", \"cause\", \"cause\", \"cause\", \"cd\", \"cf\", \"change\", \"change\", \"character\", \"chart\", \"check\", \"class\", \"class\", \"clause\", \"click\", \"client\", \"close\", \"close\", \"close\", \"close\", \"cluster\", \"code\", \"collection\", \"collection\", \"color\", \"column\", \"com\", \"com\", \"comma\", \"command\", \"comment\", \"community\", \"compile\", \"complicate\", \"component\", \"concatenate\", \"condition\", \"conf\", \"config\", \"configuration\", \"configuration\", \"configure\", \"confused\", \"connect\", \"connection\", \"consecutive\", \"consider\", \"console\", \"constraint\", \"constructor\", \"contain\", \"container\", \"content\", \"context\", \"control\", \"controller\", \"controller\", \"conversion\", \"convert\", \"coordinate\", \"copy\", \"correct\", \"cost\", \"course\", \"cover\", \"cpp\", \"crazy\", \"create\", \"credential\", \"crop\", \"cs\", \"cs\", \"css\", \"custom\", \"data\", \"data\", \"database\", \"dataframe\", \"datagridview\", \"datatype\", \"date\", \"datetime\", \"datum\", \"day\", \"db\", \"dbo\", \"dd\", \"de\", \"debug\", \"debug\", \"declaration\", \"declare\", \"def\", \"default\", \"default\", \"default\", \"define\", \"definition\", \"delete\", \"dependency\", \"deploy\", \"deprecate\", \"derive\", \"design\", \"desktop\", \"destroy\", \"detect\", \"dev\", \"develop\", \"development\", \"device\", \"dictionary\", \"difference\", \"different\", \"dim\", \"directive\", \"directory\", \"disable\", \"display\", \"display\", \"dist\", \"distance\", \"div\", \"django\", \"dllimport\", \"do\", \"do\", \"doc\", \"document\", \"dom\", \"domain\", \"double\", \"download\", \"drag\", \"draw\", \"drawrect\", \"driver\", \"drop\", \"dst\", \"dtype\", \"dynamic\", \"each\", \"easy\", \"efficient\", \"element\", \"else\", \"else\", \"else\", \"email\", \"embed\", \"employee\", \"enclose\", \"encrypt\", \"encryption\", \"end\", \"endif\", \"engine\", \"entity\", \"entity\", \"entry\", \"env\", \"environment\", \"environment\", \"equivalent\", \"error\", \"error\", \"evaluate\", \"even\", \"event\", \"ever\", \"exact\", \"examine\", \"example\", \"exception\", \"exclude\", \"exe\", \"exec\", \"executable\", \"execute\", \"execute\", \"execution\", \"exit\", \"expect\", \"expect\", \"expect\", \"explain\", \"explicit\", \"export\", \"expose\", \"expression\", \"extend\", \"extern\", \"extract\", \"fact\", \"fail\", \"fail\", \"fail\", \"false\", \"far\", \"fast\", \"feature\", \"fetch\", \"field\", \"figure\", \"file\", \"filename\", \"fill\", \"filter\", \"final\", \"find\", \"find\", \"find\", \"fine\", \"fire\", \"firebase\", \"first\", \"first\", \"fit\", \"fix\", \"flatten\", \"float\", \"fname\", \"focus\", \"follow\", \"follow\", \"following\", \"foo\", \"for\", \"for\", \"force\", \"foreach\", \"foreground\", \"foreign\", \"form\", \"format\", \"frame\", \"framework\", \"free\", \"front\", \"fun\", \"func\", \"function\", \"functionality\", \"gather\", \"generate\", \"generic\", \"get\", \"get\", \"github\", \"give\", \"go\", \"go\", \"good\", \"graph\", \"great\", \"greatly\", \"groovy\", \"group\", \"grunt\", \"guide\", \"handle\", \"handle\", \"handle\", \"handler\", \"happen\", \"hard\", \"hash\", \"head\", \"head\", \"header\", \"header\", \"heavy\", \"height\", \"help\", \"help\", \"help\", \"here\", \"hide\", \"high\", \"highlight\", \"hint\", \"history\", \"hope\", \"host\", \"hour\", \"hour\", \"hover\", \"however\", \"however\", \"html\", \"http\", \"https\", \"icon\", \"id\", \"id\", \"id\", \"idea\", \"ids\", \"if\", \"iframe\", \"illegal\", \"image\", \"implement\", \"implement\", \"import\", \"include\", \"incoming\", \"incorporate\", \"incorrect\", \"incorrect\", \"indeed\", \"index\", \"individual\", \"info\", \"inherit\", \"ini\", \"initial\", \"inner\", \"input\", \"insert\", \"instal\", \"install\", \"instance\", \"instance\", \"instead\", \"instruction\", \"int\", \"int\", \"integer\", \"integrate\", \"intent\", \"interested\", \"interface\", \"interface\", \"internal\", \"internally\", \"introduce\", \"invoke\", \"ios\", \"is\", \"issue\", \"item\", \"iteration\", \"java\", \"javax\", \"join\", \"js\", \"json\", \"just\", \"just\", \"just\", \"keep\", \"key\", \"keyboard\", \"kind\", \"know\", \"label\", \"language\", \"large\", \"late\", \"late\", \"launch\", \"layer\", \"least\", \"leave\", \"leave\", \"leave\", \"legal\", \"less\", \"let\", \"let\", \"level\", \"lib\", \"library\", \"library\", \"license\", \"light\", \"like\", \"line\", \"linear\", \"link\", \"linq\", \"linux\", \"list\", \"load\", \"load\", \"local\", \"localhost\", \"locate\", \"location\", \"location\", \"log\", \"logic\", \"login\", \"long\", \"long\", \"look\", \"loop\", \"lot\", \"lowercase\", \"machine\", \"main\", \"main\", \"mainly\", \"maintenance\", \"make\", \"make\", \"manage\", \"manifest\", \"manifest\", \"manually\", \"many\", \"many\", \"map\", \"mask\", \"match\", \"matching\", \"matching\", \"material\", \"matrix\", \"maybe\", \"mean\", \"mean\", \"member\", \"memory\", \"menu\", \"merely\", \"message\", \"method\", \"method\", \"mid\", \"min\", \"minute\", \"minute\", \"miss\", \"miss\", \"mobile\", \"mock\", \"modal\", \"mode\", \"mode\", \"model\", \"modify\", \"module\", \"month\", \"more\", \"most\", \"most\", \"mouse\", \"move\", \"movie\", \"much\", \"multiple\", \"name\", \"namespace\", \"native\", \"natively\", \"navigate\", \"need\", \"nest\", \"nested\", \"net\", \"network\", \"never\", \"new\", \"new\", \"next\", \"nil\", \"no\", \"node\", \"node_modules\", \"non\", \"none\", \"normal\", \"normally\", \"note\", \"note\", \"note\", \"notification\", \"now\", \"now\", \"np\", \"ns\", \"nsurl\", \"null\", \"number\", \"numpy\", \"object\", \"object\", \"obtain\", \"obviously\", \"occur\", \"occur\", \"occur\", \"odd\", \"ok\", \"old\", \"on\", \"on\", \"one\", \"only\", \"only\", \"open\", \"open\", \"open\", \"open\", \"open\", \"operation\", \"opt\", \"optimization\", \"optimize\", \"option\", \"options\", \"order\", \"org\", \"organization\", \"other\", \"output\", \"overflow\", \"overlay\", \"override\", \"own\", \"package\", \"page\", \"panda\", \"param\", \"parameter\", \"parse\", \"parse\", \"parser\", \"partial\", \"pass\", \"pass\", \"password\", \"path\", \"pattern\", \"perfectly\", \"perform\", \"performance\", \"personal\", \"phone\", \"php\", \"phpmyadmin\", \"place\", \"plain\", \"platform\", \"plist\", \"plugin\", \"point\", \"pointer\", \"pool\", \"pop\", \"popular\", \"port\", \"position\", \"possible\", \"post\", \"post\", \"post\", \"postgresql\", \"prefer\", \"prefix\", \"present\", \"present\", \"press\", \"previous\", \"previously\", \"primary\", \"print\", \"prior\", \"private\", \"problem\", \"problem\", \"process\", \"product\", \"program\", \"project\", \"property\", \"protect\", \"protocol\", \"provide\", \"proxy\", \"public\", \"pull\", \"put\", \"px\", \"query\", \"question\", \"quit\", \"quote\", \"rail\", \"random\", \"rather\", \"react\", \"read\", \"read\", \"reader\", \"ready\", \"ready\", \"real\", \"really\", \"reason\", \"receive\", \"record\", \"rect\", \"reduce\", \"refer\", \"reference\", \"reflect\", \"refuse\", \"region\", \"regular\", \"relate\", \"relationship\", \"relative\", \"release\", \"relevant\", \"remote\", \"remove\", \"render\", \"repeat\", \"replace\", \"replacement\", \"report\", \"request\", \"require\", \"require\", \"reset\", \"resolve\", \"resort\", \"resource\", \"response\", \"rest\", \"result\", \"retrieve\", \"return\", \"right\", \"right\", \"root\", \"route\", \"row\", \"run\", \"run\", \"runat\", \"running\", \"runtime\", \"same\", \"same\", \"save\", \"scale\", \"scenario\", \"schema\", \"scheme\", \"scope\", \"score\", \"script\", \"scroll\", \"search\", \"section\", \"see\", \"see\", \"seed\", \"seem\", \"select\", \"selector\", \"self\", \"send\", \"separate\", \"sequence\", \"serialize\", \"serve\", \"server\", \"service\", \"servlet\", \"session\", \"set\", \"set\", \"set\", \"setting\", \"ship\", \"show\", \"shrink\", \"side\", \"similar\", \"simple\", \"simple\", \"simple\", \"simply\", \"simulator\", \"single\", \"site\", \"size\", \"slow\", \"snippet\", \"so\", \"so\", \"so\", \"solution\", \"solve\", \"somehow\", \"sometimes\", \"sort\", \"sound\", \"source\", \"sparse\", \"special\", \"specific\", \"specify\", \"specify\", \"specify\", \"speed\", \"sql\", \"src\", \"stack\", \"staging\", \"standard\", \"start\", \"startup\", \"state\", \"statement\", \"static\", \"status\", \"step\", \"stop\", \"store\", \"strange\", \"stre\", \"stream\", \"string\", \"strongly\", \"struct\", \"structure\", \"student\", \"style\", \"subclass\", \"submit\", \"subview\", \"success\", \"such\", \"sum\", \"sun\", \"swift\", \"swing\", \"symbol\", \"syntax\", \"system\", \"table\", \"tableview\", \"tag\", \"take\", \"tap\", \"target\", \"task\", \"template\", \"term\", \"terminal\", \"terminate\", \"test\", \"testing\", \"tests\", \"text\", \"thank\", \"thank\", \"that\", \"theme\", \"then\", \"think\", \"think\", \"think\", \"this\", \"thread\", \"throw\", \"throw\", \"throw\", \"tick\", \"time\", \"timer\", \"timestamp\", \"title\", \"to\", \"token\", \"ton\", \"too\", \"tool\", \"top\", \"tr\", \"track\", \"transaction\", \"transform\", \"transition\", \"transparent\", \"trigger\", \"true\", \"truncate\", \"try\", \"ts\", \"turn\", \"type\", \"typically\", \"ui\", \"uiapplication\", \"uiimage\", \"uiimageview\", \"uilabel\", \"uiscrollview\", \"understand\", \"understand\", \"unfortunately\", \"unit\", \"unnecessary\", \"up\", \"update\", \"upload\", \"url\", \"url\", \"urlwithstring\", \"use\", \"user\", \"user\", \"user_id\", \"username\", \"util\", \"val\", \"value\", \"var\", \"variable\", \"various\", \"verbose\", \"version\", \"very\", \"view\", \"visualization\", \"void\", \"want\", \"warn\", \"warning\", \"way\", \"web\", \"website\", \"week\", \"weight\", \"well\", \"well\", \"white\", \"width\", \"win\", \"window\", \"wonder\", \"word\", \"work\", \"work\", \"workaround\", \"worker\", \"workflow\", \"world\", \"write\", \"wrong\", \"wrong\", \"wrong\", \"www\", \"xml\", \"xml\", \"xxx\", \"year\", \"year\", \"zip\"]}, \"R\": 30, \"lambda.step\": 0.01, \"plot.opts\": {\"xlab\": \"PC1\", \"ylab\": \"PC2\"}, \"topic.order\": [6, 28, 24, 17, 21, 9, 25, 5, 22, 8, 15, 16, 4, 23, 10, 7, 2, 3, 14, 29, 30, 26, 19, 1, 27, 12, 11, 13, 20, 18]};\n",
       "\n",
       "function LDAvis_load_lib(url, callback){\n",
       "  var s = document.createElement('script');\n",
       "  s.src = url;\n",
       "  s.async = true;\n",
       "  s.onreadystatechange = s.onload = callback;\n",
       "  s.onerror = function(){console.warn(\"failed to load library \" + url);};\n",
       "  document.getElementsByTagName(\"head\")[0].appendChild(s);\n",
       "}\n",
       "\n",
       "if(typeof(LDAvis) !== \"undefined\"){\n",
       "   // already loaded: just create the visualization\n",
       "   !function(LDAvis){\n",
       "       new LDAvis(\"#\" + \"ldavis_el70991406601883472164427295100\", ldavis_el70991406601883472164427295100_data);\n",
       "   }(LDAvis);\n",
       "}else if(typeof define === \"function\" && define.amd){\n",
       "   // require.js is available: use it to load d3/LDAvis\n",
       "   require.config({paths: {d3: \"https://d3js.org/d3.v5\"}});\n",
       "   require([\"d3\"], function(d3){\n",
       "      window.d3 = d3;\n",
       "      LDAvis_load_lib(\"https://cdn.jsdelivr.net/gh/bmabey/pyLDAvis@3.4.0/pyLDAvis/js/ldavis.v3.0.0.js\", function(){\n",
       "        new LDAvis(\"#\" + \"ldavis_el70991406601883472164427295100\", ldavis_el70991406601883472164427295100_data);\n",
       "      });\n",
       "    });\n",
       "}else{\n",
       "    // require.js not available: dynamically load d3 & LDAvis\n",
       "    LDAvis_load_lib(\"https://d3js.org/d3.v5.js\", function(){\n",
       "         LDAvis_load_lib(\"https://cdn.jsdelivr.net/gh/bmabey/pyLDAvis@3.4.0/pyLDAvis/js/ldavis.v3.0.0.js\", function(){\n",
       "                 new LDAvis(\"#\" + \"ldavis_el70991406601883472164427295100\", ldavis_el70991406601883472164427295100_data);\n",
       "            })\n",
       "         });\n",
       "}\n",
       "</script>"
      ],
      "text/plain": [
       "PreparedData(topic_coordinates=              x         y  topics  cluster       Freq\n",
       "topic                                                \n",
       "5     -0.477325 -0.227900       1        1  18.665130\n",
       "27     0.117986 -0.400172       2        1  14.538685\n",
       "23    -0.504399 -0.021216       3        1   6.688505\n",
       "16     0.404412 -0.309461       4        1   6.601021\n",
       "20     0.469508 -0.161795       5        1   5.598151\n",
       "8      0.503649  0.005243       6        1   4.332766\n",
       "24     0.462766  0.231868       7        1   3.540845\n",
       "4      0.185542 -0.482700       8        1   3.209719\n",
       "21    -0.334387 -0.329475       9        1   3.142434\n",
       "7     -0.225598 -0.450835      10        1   3.088858\n",
       "14    -0.327834  0.014130      11        1   2.996218\n",
       "15    -0.468386  0.175458      12        1   2.659979\n",
       "3     -0.084196 -0.093744      13        1   2.445819\n",
       "22    -0.109459 -0.333900      14        1   2.311024\n",
       "9      0.051951  0.500614      15        1   1.890806\n",
       "6     -0.147717  0.270013      16        1   1.670483\n",
       "1     -0.351006  0.344562      17        1   1.601399\n",
       "2     -0.290786 -0.149806      18        1   1.599475\n",
       "13    -0.031184 -0.465030      19        1   1.531069\n",
       "28     0.259013 -0.284579      20        1   1.248547\n",
       "29     0.127419 -0.122037      21        1   1.222790\n",
       "25     0.188047  0.423258      22        1   1.220625\n",
       "18    -0.289559  0.182540      23        1   1.156585\n",
       "0      0.024125  0.193996      24        1   1.134138\n",
       "26    -0.194744  0.437507      25        1   1.132690\n",
       "11    -0.040207  0.410613      26        1   1.105762\n",
       "10     0.176028  0.046261      27        1   1.064480\n",
       "12     0.352849  0.037491      28        1   1.010211\n",
       "19     0.260475  0.214411      29        1   0.816707\n",
       "17     0.293018  0.344688      30        1   0.775079, topic_info=          Term          Freq         Total Category  logprob  loglift\n",
       "47         use  95011.000000  95011.000000  Default  30.0000  30.0000\n",
       "100       file  37734.000000  37734.000000  Default  29.0000  29.0000\n",
       "238     return  34220.000000  34220.000000  Default  28.0000  28.0000\n",
       "91       class  34686.000000  34686.000000  Default  27.0000  27.0000\n",
       "366       name  27948.000000  27948.000000  Default  26.0000  26.0000\n",
       "..         ...           ...           ...      ...      ...      ...\n",
       "9         none      0.035963   3944.416115  Topic30 -13.7378  -6.7454\n",
       "10          np      0.035963    859.320036  Topic30 -13.7378  -5.2215\n",
       "11       numpy      0.035963   1014.850517  Topic30 -13.7378  -5.3878\n",
       "12      object      0.035963  17142.243126  Topic30 -13.7378  -8.2146\n",
       "13   obviously      0.035963   1059.540735  Topic30 -13.7378  -5.4309\n",
       "\n",
       "[1098 rows x 6 columns], token_table=      Topic      Freq         Term\n",
       "term                              \n",
       "576       1  0.999810         able\n",
       "695       1  0.999682        above\n",
       "379       6  0.998795     abstract\n",
       "1244     20  0.992101  abstraction\n",
       "343       3  0.615400       access\n",
       "...     ...       ...          ...\n",
       "294      24  0.123829          xml\n",
       "378      17  0.996637          xxx\n",
       "1063      4  0.527129         year\n",
       "1063     30  0.472184         year\n",
       "729      15  0.996274          zip\n",
       "\n",
       "[978 rows x 3 columns], R=30, lambda_step=0.01, plot_opts={'xlab': 'PC1', 'ylab': 'PC2'}, topic_order=[6, 28, 24, 17, 21, 9, 25, 5, 22, 8, 15, 16, 4, 23, 10, 7, 2, 3, 14, 29, 30, 26, 19, 1, 27, 12, 11, 13, 20, 18])"
      ]
     },
     "execution_count": 60,
     "metadata": {},
     "output_type": "execute_result"
    }
   ],
   "source": [
    "pyLDAvis.enable_notebook()\n",
    "vis = pyLDAvis.gensim.prepare(lda_model, corpus, id2word, mds=\"mmds\", R=30)\n",
    "vis"
   ]
  },
  {
   "cell_type": "code",
   "execution_count": null,
   "metadata": {},
   "outputs": [],
   "source": []
  },
  {
   "cell_type": "code",
   "execution_count": null,
   "metadata": {},
   "outputs": [],
   "source": []
  },
  {
   "cell_type": "code",
   "execution_count": null,
   "metadata": {},
   "outputs": [],
   "source": []
  },
  {
   "cell_type": "code",
   "execution_count": null,
   "metadata": {},
   "outputs": [],
   "source": []
  },
  {
   "cell_type": "code",
   "execution_count": 61,
   "metadata": {},
   "outputs": [
    {
     "data": {
      "text/html": [
       "<div>\n",
       "<style scoped>\n",
       "    .dataframe tbody tr th:only-of-type {\n",
       "        vertical-align: middle;\n",
       "    }\n",
       "\n",
       "    .dataframe tbody tr th {\n",
       "        vertical-align: top;\n",
       "    }\n",
       "\n",
       "    .dataframe thead th {\n",
       "        text-align: right;\n",
       "    }\n",
       "</style>\n",
       "<table border=\"1\" class=\"dataframe\">\n",
       "  <thead>\n",
       "    <tr style=\"text-align: right;\">\n",
       "      <th></th>\n",
       "      <th>Body</th>\n",
       "      <th>Title</th>\n",
       "      <th>Tags</th>\n",
       "      <th>text</th>\n",
       "      <th>bags_of_words</th>\n",
       "    </tr>\n",
       "    <tr>\n",
       "      <th>Id</th>\n",
       "      <th></th>\n",
       "      <th></th>\n",
       "      <th></th>\n",
       "      <th></th>\n",
       "      <th></th>\n",
       "    </tr>\n",
       "  </thead>\n",
       "  <tbody>\n",
       "    <tr>\n",
       "      <th>40101130</th>\n",
       "      <td>consider pd.series import panda import numpy n...</td>\n",
       "      <td>calculate rolling idxmax</td>\n",
       "      <td>[python, pandas, numpy, dataframe, series]</td>\n",
       "      <td>calculate rolling idxmax    consider pd.series...</td>\n",
       "      <td>[0, 0, 0, 0, 0, 0, 0, 0, 0, 0, 0, 0, 0, 0, 0, ...</td>\n",
       "    </tr>\n",
       "    <tr>\n",
       "      <th>662383</th>\n",
       "      <td>'ve using time substring str_col patindex str_...</td>\n",
       "      <td>better technique trimming leading zero sql server</td>\n",
       "      <td>[sql, sql-server, sql-server-2005, tsql, string]</td>\n",
       "      <td>better technique trimming leading zero sql ser...</td>\n",
       "      <td>[0, 0, 0, 0, 0, 0, 0, 0, 0, 0, 0, 0, 0, 0, 0, ...</td>\n",
       "    </tr>\n",
       "    <tr>\n",
       "      <th>662421</th>\n",
       "      <td>trying install java application linux machine ...</td>\n",
       "      <td>x11 display variable mean</td>\n",
       "      <td>[java, linux, variables, x11, headless]</td>\n",
       "      <td>x11 display variable mean    trying install ja...</td>\n",
       "      <td>[0, 0, 0, 0, 0, 0, 0, 0, 0, 0, 0, 0, 0, 0, 0, ...</td>\n",
       "    </tr>\n",
       "    <tr>\n",
       "      <th>3520133</th>\n",
       "      <td>library allows easily conveniently create obje...</td>\n",
       "      <td>object oriented callback</td>\n",
       "      <td>[c++, oop, callback, pointer-to-member, eiffel]</td>\n",
       "      <td>object oriented callback    library allows eas...</td>\n",
       "      <td>[0, 0, 0, 0, 0, 0, 0, 0, 0, 0, 0, 0, 0, 0, 0, ...</td>\n",
       "    </tr>\n",
       "    <tr>\n",
       "      <th>1396164</th>\n",
       "      <td>edit whole question unclear want use openssl.n...</td>\n",
       "      <td>why n't .net find openssl.net dll</td>\n",
       "      <td>[c#, .net, dll, dllimport, dllnotfoundexception]</td>\n",
       "      <td>why n't .net find openssl.net dll    edit whol...</td>\n",
       "      <td>[0, 0, 0, 0, 0, 0, 0, 0, 0, 0, 0, 0, 0, 0, 0, ...</td>\n",
       "    </tr>\n",
       "  </tbody>\n",
       "</table>\n",
       "</div>"
      ],
      "text/plain": [
       "                                                       Body  \\\n",
       "Id                                                            \n",
       "40101130  consider pd.series import panda import numpy n...   \n",
       "662383    've using time substring str_col patindex str_...   \n",
       "662421    trying install java application linux machine ...   \n",
       "3520133   library allows easily conveniently create obje...   \n",
       "1396164   edit whole question unclear want use openssl.n...   \n",
       "\n",
       "                                                      Title  \\\n",
       "Id                                                            \n",
       "40101130                           calculate rolling idxmax   \n",
       "662383    better technique trimming leading zero sql server   \n",
       "662421                            x11 display variable mean   \n",
       "3520133                            object oriented callback   \n",
       "1396164                   why n't .net find openssl.net dll   \n",
       "\n",
       "                                                      Tags  \\\n",
       "Id                                                           \n",
       "40101130        [python, pandas, numpy, dataframe, series]   \n",
       "662383    [sql, sql-server, sql-server-2005, tsql, string]   \n",
       "662421             [java, linux, variables, x11, headless]   \n",
       "3520133    [c++, oop, callback, pointer-to-member, eiffel]   \n",
       "1396164   [c#, .net, dll, dllimport, dllnotfoundexception]   \n",
       "\n",
       "                                                       text  \\\n",
       "Id                                                            \n",
       "40101130  calculate rolling idxmax    consider pd.series...   \n",
       "662383    better technique trimming leading zero sql ser...   \n",
       "662421    x11 display variable mean    trying install ja...   \n",
       "3520133   object oriented callback    library allows eas...   \n",
       "1396164   why n't .net find openssl.net dll    edit whol...   \n",
       "\n",
       "                                              bags_of_words  \n",
       "Id                                                           \n",
       "40101130  [0, 0, 0, 0, 0, 0, 0, 0, 0, 0, 0, 0, 0, 0, 0, ...  \n",
       "662383    [0, 0, 0, 0, 0, 0, 0, 0, 0, 0, 0, 0, 0, 0, 0, ...  \n",
       "662421    [0, 0, 0, 0, 0, 0, 0, 0, 0, 0, 0, 0, 0, 0, 0, ...  \n",
       "3520133   [0, 0, 0, 0, 0, 0, 0, 0, 0, 0, 0, 0, 0, 0, 0, ...  \n",
       "1396164   [0, 0, 0, 0, 0, 0, 0, 0, 0, 0, 0, 0, 0, 0, 0, ...  "
      ]
     },
     "execution_count": 61,
     "metadata": {},
     "output_type": "execute_result"
    }
   ],
   "source": [
    "df.head()"
   ]
  },
  {
   "cell_type": "code",
   "execution_count": 68,
   "metadata": {},
   "outputs": [],
   "source": [
    "#bags of words fit on the titles\n",
    "cv_fit = CountVectorizer().fit(df.Title)\n",
    "\n",
    "#transform on text\n",
    "cv_transformed = cv_fit.fit_transform(df.text)"
   ]
  },
  {
   "cell_type": "code",
   "execution_count": null,
   "metadata": {},
   "outputs": [],
   "source": []
  },
  {
   "cell_type": "code",
   "execution_count": 69,
   "metadata": {},
   "outputs": [
    {
     "name": "stdout",
     "output_type": "stream",
     "text": [
      "calculate rolling idxmax consider pd.serie import panda import numpy pd.serie list abcdefg\n"
     ]
    }
   ],
   "source": [
    "lemmatized_texts = lemmatization(df.text)\n",
    "print (lemmatized_texts[0][0:90])"
   ]
  },
  {
   "cell_type": "code",
   "execution_count": 70,
   "metadata": {},
   "outputs": [
    {
     "name": "stdout",
     "output_type": "stream",
     "text": [
      "['calculate', 'rolling', 'idxmax', 'consider', 'pd', 'serie', 'import', 'panda', 'import', 'numpy', 'pd', 'serie', 'list', 'abcdefghij', 'dtype', 'want', 'get', 'index', 'max', 'value']\n"
     ]
    }
   ],
   "source": [
    "data_words = gen_words(lemmatized_texts)\n",
    "print (data_words[0][0:20])"
   ]
  },
  {
   "cell_type": "code",
   "execution_count": 65,
   "metadata": {},
   "outputs": [
    {
     "name": "stdout",
     "output_type": "stream",
     "text": [
      "[(0, 1), (1, 1), (2, 1), (3, 1), (4, 4), (5, 2), (6, 1), (7, 1), (8, 2), (9, 1), (10, 1), (11, 1), (12, 2), (13, 1), (14, 1), (15, 1), (16, 1), (17, 2), (18, 1), (19, 2)]\n",
      "abcdefghij\n"
     ]
    }
   ],
   "source": [
    "id2word = corpora.Dictionary(data_words)\n",
    "\n",
    "corpus = []\n",
    "for text in data_words:\n",
    "    new = id2word.doc2bow(text)\n",
    "    corpus.append(new)\n",
    "\n",
    "print (corpus[0][0:20])\n",
    "\n",
    "word = id2word[[0][:1][0]]\n",
    "print (word)"
   ]
  },
  {
   "cell_type": "code",
   "execution_count": 73,
   "metadata": {},
   "outputs": [],
   "source": [
    "lda_model = gensim.models.ldamodel.LdaModel(corpus=corpus,\n",
    "                                           id2word=id2word,\n",
    "                                           num_topics=30,\n",
    "                                           random_state=100,\n",
    "                                           update_every=1,\n",
    "                                           chunksize=100,\n",
    "                                           passes=10,\n",
    "                                           alpha=\"auto\")"
   ]
  },
  {
   "cell_type": "code",
   "execution_count": 76,
   "metadata": {},
   "outputs": [
    {
     "data": {
      "text/html": [
       "\n",
       "<link rel=\"stylesheet\" type=\"text/css\" href=\"https://cdn.jsdelivr.net/gh/bmabey/pyLDAvis@3.4.0/pyLDAvis/js/ldavis.v1.0.0.css\">\n",
       "\n",
       "\n",
       "<div id=\"ldavis_el70991406594879901447149691133\" style=\"background-color:white;\"></div>\n",
       "<script type=\"text/javascript\">\n",
       "\n",
       "var ldavis_el70991406594879901447149691133_data = {\"mdsDat\": {\"x\": [-0.46549037993264386, 0.09316578832609594, -0.5147942063001357, 0.4084297172800372, 0.4259929875416712, 0.5102111890214458, 0.4638794223016654, 0.1740576897640222, -0.32878856657610056, -0.21904823619624034, -0.32290270580738023, -0.4580195983966931, -0.07662223470876543, -0.09692862097607666, 0.05621116052477607, -0.16803896633894932, -0.3575193995969955, -0.2972929199634519, -0.03241912493413037, 0.26958714766213193, 0.13555386499200972, 0.18724977543828078, -0.25387950869183956, 0.0321468986797632, -0.20883284314262776, -0.050589104079914904, 0.17723706482565013, 0.3558215623539615, 0.27049157733875745, 0.29113056959167766], \"y\": [-0.2414825900059046, -0.37185071798218056, -0.025365939692380737, -0.29700316774447555, -0.15712513207476964, -0.0026470547638234106, 0.21584895493207465, -0.4806712429161923, -0.33087815913931956, -0.4340849686282453, 0.011420502135876726, 0.16822187418845527, -0.07510823004959184, -0.3235014720922538, 0.49000220458772, 0.30031826502697845, 0.3193324418491257, -0.14492415247496218, -0.47424808923506934, -0.32309445123377417, -0.1291910010778616, 0.4265101466331315, 0.15906493361127244, 0.20305376952145593, 0.4404991234994259, 0.41881888239658216, 0.04689802840926971, 0.04309589598049676, 0.22031585656353586, 0.34777548977540407], \"topics\": [1, 2, 3, 4, 5, 6, 7, 8, 9, 10, 11, 12, 13, 14, 15, 16, 17, 18, 19, 20, 21, 22, 23, 24, 25, 26, 27, 28, 29, 30], \"cluster\": [1, 1, 1, 1, 1, 1, 1, 1, 1, 1, 1, 1, 1, 1, 1, 1, 1, 1, 1, 1, 1, 1, 1, 1, 1, 1, 1, 1, 1, 1], \"Freq\": [23.209517459255235, 13.181371126606875, 6.434413766191007, 5.045684149191342, 4.564556017238325, 3.9866344466792736, 3.1484803311464074, 2.774443585835268, 2.770987855692122, 2.757102721419619, 2.513661397941385, 2.3968298670669026, 2.332579011223577, 2.0169374572296648, 1.8453473748257212, 1.8431773913458036, 1.797779678532693, 1.6689972241123916, 1.6400011696845846, 1.4825644248452086, 1.4593082410950273, 1.4305610782170357, 1.3976255778881896, 1.3547515843269833, 1.3347204910621797, 1.2885684795929528, 1.1522182667927847, 1.1300484940944726, 1.1163942256545152, 0.9247371052124351]}, \"tinfo\": {\"Term\": [\"file\", \"use\", \"error\", \"string\", \"function\", \"class\", \"return\", \"user\", \"type\", \"public\", \"int\", \"value\", \"import\", \"android\", \"name\", \"run\", \"java\", \"new\", \"object\", \"test\", \"datum\", \"server\", \"image\", \"line\", \"set\", \"application\", \"system\", \"app\", \"list\", \"get\", \"use\", \"way\", \"need\", \"make\", \"ve\", \"know\", \"also\", \"example\", \"question\", \"look\", \"seem\", \"write\", \"give\", \"solution\", \"good\", \"well\", \"able\", \"different\", \"even\", \"think\", \"memory\", \"say\", \"answer\", \"take\", \"simple\", \"thing\", \"really\", \"contain\", \"instead\", \"bit\", \"want\", \"however\", \"time\", \"access\", \"work\", \"see\", \"find\", \"problem\", \"code\", \"create\", \"get\", \"follow\", \"try\", \"case\", \"call\", \"log\", \"message\", \"exception\", \"response\", \"let\", \"task\", \"execute\", \"state\", \"override\", \"email\", \"frame\", \"title\", \"setup\", \"block\", \"catch\", \"appear\", \"address\", \"login\", \"io\", \"report\", \"complete\", \"occur\", \"break\", \"stop\", \"unable\", \"behavior\", \"play\", \"detail\", \"invoke\", \"process\", \"else\", \"update\", \"action\", \"true\", \"start\", \"default\", \"false\", \"cause\", \"get\", \"try\", \"fail\", \"issue\", \"fix\", \"new\", \"help\", \"here\", \"code\", \"follow\", \"create\", \"work\", \"method\", \"change\", \"view\", \"show\", \"point\", \"content\", \"possible\", \"right\", \"link\", \"specific\", \"much\", \"move\", \"like\", \"similar\", \"place\", \"push\", \"wonder\", \"position\", \"rest\", \"scroll\", \"clear\", \"course\", \"real\", \"small\", \"advance\", \"force\", \"yet\", \"draw\", \"functionality\", \"requirement\", \"fact\", \"sample\", \"first\", \"apply\", \"set\", \"add\", \"display\", \"idea\", \"render\", \"back\", \"put\", \"help\", \"name\", \"datum\", \"property\", \"load\", \"store\", \"context\", \"data\", \"entity\", \"map\", \"controller\", \"happen\", \"device\", \"group\", \"attribute\", \"correct\", \"route\", \"stream\", \"share\", \"fetch\", \"scope\", \"structure\", \"permission\", \"unknown\", \"primary\", \"driver\", \"profile\", \"retrieve\", \"annotation\", \"hash\", \"usage\", \"save\", \"consider\", \"xml\", \"define\", \"create\", \"pass\", \"public\", \"private\", \"static\", \"this\", \"final\", \"extend\", \"protect\", \"master\", \"tostre\", \"abstract\", \"val\", \"arraylist\", \"inherit\", \"derive\", \"opinion\", \"instanceof\", \"hashset\", \"class\", \"super\", \"void\", \"string\", \"new\", \"null\", \"throw\", \"method\", \"id\", \"return\", \"collection\", \"implement\", \"partial\", \"instance\", \"object\", \"get\", \"base\", \"false\", \"set\", \"add\", \"long\", \"error\", \"run\", \"test\", \"version\", \"target\", \"location\", \"container\", \"local\", \"step\", \"unit\", \"environment\", \"resolve\", \"late\", \"internet\", \"env\", \"compilation\", \"installation\", \"simulator\", \"concurrent\", \"vs\", \"clicking\", \"insertion\", \"uploaded\", \"bear\", \"sprite\", \"sadly\", \"grunt\", \"regularly\", \"bundle\", \"failure\", \"build\", \"development\", \"verify\", \"instal\", \"find\", \"miss\", \"successfully\", \"follow\", \"check\", \"function\", \"value\", \"result\", \"console\", \"difference\", \"double\", \"performance\", \"section\", \"dataframe\", \"filename\", \"panda\", \"efficient\", \"distance\", \"refuse\", \"negative\", \"bracket\", \"angle\", \"appsetting\", \"demonstrate\", \"var\", \"min\", \"output\", \"return\", \"expect\", \"perfectly\", \"pas\", \"original\", \"produce\", \"abcdefghij\", \"idxmax\", \"here\", \"sample\", \"application\", \"service\", \"window\", \"web\", \"api\", \"component\", \"react\", \"resource\", \"username\", \"domain\", \"password\", \"localhost\", \"expose\", \"management\", \"hear\", \"communicate\", \"wcf\", \"communication\", \"remember\", \"leaf\", \"interact\", \"school\", \"utilize\", \"aggregate\", \"gain\", \"cool\", \"principle\", \"dedicated\", \"dig\", \"study\", \"app\", \"develop\", \"purpose\", \"render\", \"nest\", \"request\", \"page\", \"element\", \"body\", \"document\", \"javascript\", \"browser\", \"tag\", \"html\", \"website\", \"px\", \"width\", \"height\", \"head\", \"ajax\", \"proxy\", \"submit\", \"cs\", \"protocol\", \"border\", \"selenium\", \"iframe\", \"dom\", \"delphi\", \"textarea\", \"aspx\", \"advise\", \"ton\", \"script\", \"ship\", \"url\", \"status\", \"post\", \"div\", \"leave\", \"json\", \"style\", \"library\", \"net\", \"support\", \"header\", \"reference\", \"framework\", \"foo\", \"asp\", \"bar\", \"machine\", \"pointer\", \"standard\", \"developer\", \"hide\", \"design\", \"dynamic\", \"generic\", \"normal\", \"manually\", \"lambda\", \"desktop\", \"attach\", \"phone\", \"architecture\", \"software\", \"license\", \"webview\", \"just\", \"agent\", \"especially\", \"comment\", \"require\", \"syntax\", \"collection\", \"file\", \"package\", \"err\", \"install\", \"folder\", \"copy\", \"download\", \"length\", \"byte\", \"exit\", \"buffer\", \"socket\", \"job\", \"safe\", \"exe\", \"encrypt\", \"executable\", \"maximum\", \"kernel\", \"win\", \"npm\", \"files\", \"argv\", \"encryption\", \"operate\", \"preferably\", \"recommend\", \"instal\", \"open\", \"read\", \"fail\", \"output\", \"status\", \"close\", \"info\", \"module\", \"configuration\", \"debug\", \"angular\", \"config\", \"release\", \"src\", \"security\", \"auto\", \"configure\", \"root\", \"lib\", \"node_module\", \"deploy\", \"dist\", \"dev\", \"asset\", \"js\", \"symbol\", \"jquery\", \"drop\", \"material\", \"serve\", \"production\", \"linux\", \"exclude\", \"exec\", \"manifest\", \"directive\", \"json\", \"option\", \"path\", \"main\", \"fail\", \"true\", \"user\", \"type\", \"parameter\", \"filter\", \"param\", \"internal\", \"interface\", \"common\", \"pattern\", \"authentication\", \"constructor\", \"active\", \"builder\", \"provider\", \"valid\", \"validation\", \"company\", \"authenticate\", \"contract\", \"benefit\", \"enterprise\", \"consideration\", \"strategy\", \"pas\", \"field\", \"require\", \"abcdefghij\", \"idxmax\", \"rolle\", \"ltrim\", \"allow\", \"default\", \"calculate\", \"import\", \"org\", \"self\", \"dependency\", \"def\", \"export\", \"django\", \"mock\", \"upload\", \"cluster\", \"aw\", \"util\", \"chart\", \"offset\", \"weight\", \"secret\", \"twitter\", \"models\", \"latitude\", \"utc\", \"uiwebview\", \"impl\", \"groovy\", \"series\", \"longitude\", \"timezone\", \"jenkin\", \"recommendation\", \"efficiently\", \"optimizer\", \"class\", \"table\", \"database\", \"select\", \"column\", \"query\", \"row\", \"record\", \"sql\", \"insert\", \"mysql\", \"spark\", \"rail\", \"db\", \"edge\", \"oracle\", \"relationship\", \"postgresql\", \"pyspark\", \"ruby\", \"entirely\", \"underlying\", \"dst\", \"flatten\", \"bullet\", \"feasible\", \"struggle\", \"lowercase\", \"field\", \"index\", \"engine\", \"order\", \"create\", \"id\", \"many\", \"server\", \"client\", \"send\", \"connection\", \"connect\", \"host\", \"port\", \"character\", \"match\", \"remote\", \"big\", \"space\", \"credential\", \"alternative\", \"lead\", \"interval\", \"technology\", \"alive\", \"substre\", \"trim\", \"scalar\", \"firewall\", \"polling\", \"dual\", \"never\", \"receive\", \"close\", \"keep\", \"abcdefghij\", \"idxmax\", \"calculate\", \"android\", \"java\", \"com\", \"sort\", \"product\", \"activity\", \"node\", \"intent\", \"lang\", \"blog\", \"author\", \"nodejs\", \"gui\", \"likely\", \"apparently\", \"automate\", \"vertex\", \"opengl\", \"reply\", \"bunch\", \"shader\", \"practical\", \"familiar\", \"workflow\", \"useless\", \"debugg\", \"mainly\", \"essential\", \"uniform\", \"hardcode\", \"xml\", \"main\", \"app\", \"project\", \"source\", \"feature\", \"plugin\", \"studio\", \"visual\", \"stack\", \"tool\", \"expression\", \"platform\", \"execution\", \"microsoft\", \"free\", \"world\", \"regular\", \"overflow\", \"integrate\", \"special\", \"community\", \"love\", \"friendly\", \"cost\", \"evaluation\", \"tools\", \"commercial\", \"seo\", \"subversion\", \"build\", \"generate\", \"development\", \"develop\", \"key\", \"date\", \"parse\", \"join\", \"day\", \"timestamp\", \"minute\", \"datetime\", \"cast\", \"track\", \"calendar\", \"hour\", \"month\", \"alter\", \"escape\", \"varchar\", \"foreign\", \"student\", \"history\", \"week\", \"maintain\", \"iterate\", \"clause\", \"scheme\", \"udf\", \"consecutive\", \"dbo\", \"blah\", \"capacity\", \"me\", \"realize\", \"object\", \"believe\", \"null\", \"year\", \"basically\", \"json\", \"thread\", \"bind\", \"python\", \"multiple\", \"single\", \"runtime\", \"suggest\", \"limit\", \"handler\", \"wait\", \"assembly\", \"loading\", \"duplicate\", \"dll\", \"least\", \"customer\", \"continue\", \"embed\", \"dynamically\", \"combination\", \"iteration\", \"reproduce\", \"reflection\", \"strong\", \"pure\", \"score\", \"upper\", \"wpf\", \"advanced\", \"checksum\", \"line\", \"command\", \"mode\", \"warn\", \"constraint\", \"turn\", \"trigger\", \"disable\", \"warning\", \"sum\", \"apple\", \"xcode\", \"relevant\", \"opt\", \"inner\", \"beta\", \"region\", \"strange\", \"tableview\", \"drag\", \"optimize\", \"uitableview\", \"breakpoint\", \"mouse\", \"selection\", \"recreate\", \"disappear\", \"indeed\", \"separator\", \"worry\", \"style\", \"last\", \"event\", \"number\", \"none\", \"float\", \"range\", \"article\", \"factory\", \"employee\", \"plot\", \"speed\", \"extract\", \"calculate\", \"hard\", \"book\", \"mvc\", \"face\", \"seed\", \"migrate\", \"numpy\", \"datatable\", \"integration\", \"identify\", \"stub\", \"bring\", \"pd\", \"suspect\", \"max\", \"trick\", \"winform\", \"scipy\", \"fit\", \"model\", \"print\", \"format\", \"site\", \"php\", \"convert\", \"worker\", \"pdf\", \"conversion\", \"reader\", \"interested\", \"distribute\", \"debugger\", \"comparison\", \"visibility\", \"wire\", \"minimize\", \"natively\", \"overlook\", \"equality\", \"string\", \"abcdefghij\", \"idxmax\", \"rolle\", \"ltrim\", \"patindex\", \"str_col\", \"udfs\", \"awt\", \"checkheadless\", \"output\", \"calculate\", \"consider\", \"do\", \"dtype\", \"float\", \"get\", \"int\", \"include\", \"struct\", \"integer\", \"slow\", \"implicit\", \"candidate\", \"most\", \"personal\", \"benchmark\", \"authority\", \"dllimport\", \"concatenate\", \"extern\", \"gracefully\", \"surprising\", \"main\", \"note\", \"define\", \"long\", \"void\", \"program\", \"fast\", \"std\", \"char\", \"abcdefghij\", \"idxmax\", \"rolle\", \"ltrim\", \"patindex\", \"first\", \"return\", \"calculate\", \"consider\", \"system\", \"variable\", \"template\", \"control\", \"argument\", \"namespace\", \"member\", \"declare\", \"definition\", \"fun\", \"declaration\", \"registry\", \"team\", \"previously\", \"dim\", \"windows\", \"introduce\", \"plain\", \"ui\", \"forms\", \"nsstre\", \"nunit\", \"decltype\", \"outside\", \"illegal\", \"googling\", \"tr\", \"edition\", \"enclose\", \"legal\", \"partial\", \"define\", \"non\", \"form\", \"input\", \"button\", \"search\", \"label\", \"network\", \"menu\", \"graph\", \"span\", \"pool\", \"modal\", \"cancel\", \"dataset\", \"btn\", \"linear\", \"dropdown\", \"customize\", \"footer\", \"interactive\", \"for\", \"friend\", \"fieldset\", \"rolling\", \"index\", \"enter\", \"div\", \"option\", \"close\", \"abcdefghij\", \"idxmax\", \"leave\", \"action\", \"list\", \"text\", \"item\", \"color\", \"background\", \"foreach\", \"swiftui\", \"abcdefghij\", \"idxmax\", \"rolle\", \"ltrim\", \"patindex\", \"str_col\", \"udfs\", \"awt\", \"checkheadless\", \"izforge\", \"izpack\", \"nce\", \"nstance\", \"slackware\", \"tor\", \"uiinstaller\", \"actionsequence\", \"capsule\", \"conveniently\", \"eiffel\", \"invokecallback\", \"memberfunction\", \"similarily\", \"calculate\", \"consider\", \"do\", \"dtype\", \"float\", \"get\", \"import\", \"index\", \"max\", \"none\", \"numpy\", \"object\", \"obviously\", \"panda\", \"pd\", \"roll\", \"rolling\", \"serie\", \"value\", \"ve\", \"end\", \"compile\", \"loop\", \"begin\", \"actual\", \"become\", \"verbose\", \"determine\", \"theme\", \"deprecate\", \"equivalent\", \"timer\", \"linq\", \"repeat\", \"subject\", \"accomplish\", \"business\", \"talk\", \"official\", \"evaluate\", \"temporary\", \"technique\", \"timespan\", \"organization\", \"datacontext\", \"truncate\", \"chance\", \"toolkit\", \"verification\", \"deprecation\", \"consider\", \"image\", \"size\", \"directory\", \"instruction\", \"scale\", \"transform\", \"matrix\", \"openssl\", \"resize\", \"reduce\", \"monitor\", \"png\", \"blob\", \"grow\", \"mid\", \"coefficient\", \"crazy\", \"sparse\", \"path\", \"large\", \"portion\", \"full\", \"abcdefghij\", \"idxmax\", \"rolle\", \"ltrim\", \"patindex\", \"str_col\", \"udfs\", \"awt\", \"save\", \"original\", \"calculate\", \"consider\", \"do\", \"dtype\", \"float\", \"session\", \"core\", \"native\", \"delete\", \"token\", \"transaction\", \"word\", \"layer\", \"high\", \"wrapper\", \"topic\", \"terminal\", \"jump\", \"alt\", \"ratio\", \"accurate\", \"internally\", \"popular\", \"dirty\", \"level\", \"recommend\", \"abcdefghij\", \"idxmax\", \"rolle\", \"ltrim\", \"patindex\", \"str_col\", \"udfs\", \"awt\", \"checkheadless\", \"calculate\", \"consider\", \"do\", \"dtype\", \"float\", \"get\", \"import\"], \"Freq\": [48043.0, 103910.0, 45046.0, 33820.0, 33005.0, 38120.0, 37108.0, 27844.0, 27208.0, 32305.0, 21555.0, 26773.0, 22613.0, 21127.0, 28169.0, 26041.0, 19920.0, 36515.0, 19879.0, 23636.0, 25302.0, 18173.0, 16139.0, 16604.0, 27529.0, 19312.0, 15485.0, 20016.0, 14459.0, 52973.0, 103909.75012913915, 26375.77860532443, 21327.380777259023, 19086.747521483554, 17809.857931708244, 17065.156821904955, 16816.24449606559, 16637.29255405296, 15534.798588687965, 15354.254892814724, 13377.818535477596, 11863.895627813565, 11088.479064276255, 10732.76254474785, 9119.832339423883, 9105.438069831695, 8601.711269548552, 8418.193152266285, 8278.23710454028, 8144.486198982762, 7715.257422443215, 7691.847537845855, 7664.38978375029, 7569.68509846521, 7353.126155609525, 7069.354523987663, 6709.098808068614, 6450.535307093943, 6193.916360705182, 6068.481694597391, 24922.3786620854, 11991.453842992898, 19470.60508710049, 9587.534035057257, 31830.61739602267, 14329.33661869696, 20904.914360504095, 15320.459696278682, 23214.73391380903, 14323.34419461284, 16594.322463360768, 11683.867643588776, 13858.33519863285, 9030.725252705344, 22130.029202908936, 14916.934716333353, 12044.955019548095, 9941.697015427775, 9424.983843566932, 9182.83156015959, 7495.038271418117, 6429.449065609574, 6262.139362135727, 5713.867372632375, 5342.268070146046, 5069.983103296505, 5036.144828180117, 4084.987864499102, 4080.4436823426677, 3796.9228995166536, 3735.528706160894, 3646.4722238123927, 3421.8546139848245, 3345.9321204471717, 3331.5968198316423, 3330.5116024226068, 3066.7318760052713, 3063.0545712904286, 2929.6232161253747, 2850.2449990544146, 2744.39932236721, 2650.1236013637404, 2613.2105926977224, 2607.6822600807454, 9275.41536740724, 9906.569326414581, 14102.319789377856, 5620.732558989152, 20048.86802853024, 12143.075409775865, 9010.809131396545, 10765.81400347656, 4803.732393118058, 33560.73997202144, 26757.356161844615, 8925.208077925523, 8483.43059723935, 4615.134984802182, 17254.74465147202, 7521.929740768709, 7065.639282003621, 13048.155568586406, 9728.01968178269, 7641.193454483518, 8082.70751286079, 6763.796799885226, 16714.07877967547, 16713.295168665998, 11764.430331270612, 9007.177625385482, 8875.369305680983, 8615.890500618632, 7418.993148925766, 6973.234127569339, 4711.002649695713, 4689.468593404886, 4655.061626297991, 4497.455416828938, 4271.096259024953, 3799.07763877394, 3385.5217504775705, 3150.2868459458623, 3027.4753817190817, 2938.7751606205834, 2805.7689862011603, 2708.5353447704138, 2579.0387350777105, 2359.46914667373, 2321.1152137608547, 2285.211359764166, 1964.3763016976889, 1776.992298530133, 1678.0145184979021, 1637.8107285378812, 1500.3635163929573, 1459.198335833207, 2847.01816617896, 11511.668027621334, 3885.8194076872323, 26150.878332736225, 22928.805641659215, 6283.914766209398, 5168.622273813016, 3979.8311536311535, 3099.085748613891, 2850.989152366472, 3431.782703952823, 28168.03115315743, 25300.917831019666, 11288.205125042912, 9832.839193242839, 8359.908542201834, 8108.630011184852, 6751.325941636257, 6108.958099759144, 5780.446597716313, 5695.370590645966, 5530.838727218934, 5320.608456006171, 4951.247657510227, 4701.600986903562, 4434.652625703799, 4336.878154959474, 4180.131578577072, 4149.564762248796, 4069.3816294250305, 3144.902478988426, 3008.2428545325747, 2917.416535916833, 2785.9953773786447, 2443.7948809648906, 1990.9182007231443, 1979.187258378977, 1942.1500726632084, 1834.185610426648, 1820.821228597949, 1744.0368274402103, 4761.244424665098, 2260.532941526163, 3281.6688037448143, 4205.747771658899, 3692.181855361143, 2193.951728409458, 32304.646602500692, 12603.171148492895, 9587.182678479126, 6486.147696502667, 5668.230395427852, 4623.938294101819, 3239.5238153247137, 1453.0568836592386, 1185.3725444208721, 1006.5487169372227, 925.7334295491763, 759.2063051323872, 601.7335401030858, 519.0005390498475, 437.65594044638254, 423.93142356455246, 242.27712029956137, 36894.926519348024, 1729.558654932379, 11227.66113837066, 17874.179878537492, 17718.024141848047, 4333.115580620213, 2438.8018076753947, 7898.696737217079, 889.8819947615787, 11348.452049465051, 534.3701551891983, 1575.1654863268182, 227.04275274161535, 935.397657492723, 2738.877544435847, 2812.0731991833936, 1157.3969544110112, 1156.186808673206, 1377.429101272036, 1313.7674766635303, 860.12863331919, 45045.150080815045, 26040.32491070804, 23635.497428070277, 16398.35072895022, 6150.23651244912, 5671.132849580782, 5492.3269505195185, 5099.930624290565, 3915.080430018052, 3251.508369969242, 3226.433680469622, 2890.3088971648913, 1798.1461508599255, 1703.8578039906872, 979.4132653409364, 958.9737324698393, 915.7041015396094, 789.0524480213049, 645.5991092196318, 412.1153922123464, 259.84338542382204, 243.24000788265954, 209.31026835562855, 168.5170557630347, 136.19169070311318, 129.0706024905861, 76.65286564438841, 39.17219829906486, 2088.563506003532, 1060.3596295076052, 11661.728978321444, 1417.9637635627987, 813.7996323180904, 1473.1905871692463, 4328.521215734931, 1150.7608683667129, 571.9832917800785, 1224.675005171297, 795.4547068721415, 33004.328505910315, 26772.089877093367, 12696.496949617738, 7579.8078602500045, 3706.124640552569, 3680.2779223086477, 2942.10116713261, 2783.189316058148, 1539.851248070369, 1345.7526978368408, 1340.6106620158494, 869.8653060380212, 689.4010334020606, 563.629061260193, 527.160900053348, 384.7601147391299, 293.5908730085087, 250.74598210703894, 199.18653344692962, 7688.01667626111, 1015.3575415632869, 6774.418376679856, 25747.934851358823, 2116.739104295978, 324.8417435106831, 164.14781033924064, 243.20495713349672, 203.78081154432647, 0.04214969598102491, 0.04214969598102491, 281.791392876522, 12.517591765679576, 19311.661033607685, 12737.918741573692, 11485.001738934097, 11484.185062240773, 10670.45753432612, 9597.315582111281, 7828.241047588728, 5224.262945497146, 3134.707061354801, 2757.9400166433657, 2348.7946683760433, 2347.359530262166, 1047.4282960970338, 617.5051372950069, 515.8399285000206, 475.9155211342485, 472.1355385169368, 451.25641864303554, 451.1732500946039, 305.67954970175987, 301.9187932216695, 300.0242124479995, 265.7885399969351, 245.34371375494513, 211.94766532227615, 158.3766542914378, 126.06294435463442, 118.94031947447382, 117.18305053244275, 110.80471748946353, 18591.52485321141, 1891.9960365898658, 1254.242861870299, 912.6344062163503, 263.9440091998381, 16387.053763098986, 11334.72616880761, 7104.669549557866, 5449.729675556996, 5257.218677654817, 5174.872749566111, 4309.433269346058, 3952.9122788374857, 3906.8228108542976, 2746.4230744974493, 2735.64829211635, 2532.7886765649573, 2423.8396628585137, 2288.2632820554218, 2027.7915218123023, 1976.2687012677713, 1868.9684743103567, 1643.9066673085183, 1193.2421709736175, 1109.328353103884, 1011.2179845457739, 972.4517362707044, 635.2344595528241, 443.7982268051422, 334.25499823344063, 311.02592321828695, 179.2210383498303, 143.36221843273464, 10981.255229374332, 74.65338367952901, 6370.706844528247, 3525.8159310267997, 7550.627155537173, 2547.029763945518, 1836.2994788286571, 1486.3208602651007, 1433.5791342563202, 10478.250263414242, 10314.270257962142, 8406.625708851136, 7175.629802831994, 7141.9949140783, 6196.7784613605645, 5228.927227898795, 3987.163443850833, 3302.1227192538868, 3203.831503127508, 2882.325365544349, 2782.346660862925, 2594.8105971313335, 2411.4327320057237, 2239.361163463238, 2220.902577916057, 2051.6471060520635, 2046.444981911189, 1947.4007440475734, 1852.9338034814775, 1615.5781223792467, 1449.8668695381323, 1365.4862785698217, 1333.0766371672712, 1239.0621999237153, 1103.5261761376491, 990.7830195873522, 894.7575865781803, 836.0344640344608, 780.9962667360883, 3102.887392283694, 9245.043981590201, 2095.876809727835, 1975.956649717112, 48041.94054825731, 13004.031835395774, 5343.878889382128, 5087.318551441568, 3732.6348800321557, 3686.894416166587, 3326.756506324197, 3076.260898031681, 2615.0323982225914, 2166.8800516012107, 2054.9544017025805, 1819.2131255962956, 1748.591716703349, 1104.0323036518225, 1087.3017592048925, 839.4944626322689, 778.089046850674, 739.808404984831, 582.3819427785469, 484.5222379064712, 442.44608288511085, 414.97875531159434, 395.3659021919698, 349.30240038819335, 349.0728068909737, 307.9819765809435, 815.403272035489, 3006.5179680265296, 2260.4696882808703, 2004.9169544989347, 1478.11371989364, 1214.991593059708, 480.2753201107399, 448.19979931555633, 9926.73163404069, 9516.092966174185, 7010.757661647533, 6118.689660265748, 4470.258484003985, 3961.2734436828505, 3663.779138903212, 3605.4358619683862, 3493.311850425373, 3346.9009408794022, 3334.579783431857, 3134.6232423324373, 3064.5093820135326, 2575.191130134613, 2166.9412121752284, 1922.6457780168907, 1896.4479681616456, 1843.0913620359806, 1756.17674167141, 1598.7836047913645, 1554.789222361883, 1511.162710847131, 1303.1081875464238, 1302.0148619003462, 1266.5341247301876, 752.0334317267304, 749.0599781650146, 730.2980793060885, 687.3384610735442, 666.379409509808, 2112.926660399567, 2573.2770869423916, 2073.741389179565, 1788.927754494986, 1497.7139374264727, 1307.8546117517913, 27843.45594152394, 27207.605958013624, 5908.817318778515, 5655.472535600811, 5162.188148152404, 3960.4098546054215, 3626.226453182624, 3196.2846228983944, 3120.856506054012, 3077.975451122414, 2730.6721938686806, 2053.586977351635, 2005.2167903178088, 1989.7657531848506, 1967.9310293639635, 1734.7832822927803, 999.671110889747, 970.428519850952, 410.7422778116826, 402.30266941941863, 367.2182291826285, 230.11207014037882, 193.94003121000154, 90.13733092584647, 655.0878606284972, 861.5718221018375, 0.042418515860919305, 0.042418515860919305, 0.042418515860919305, 0.042418515860919305, 90.26340467082781, 27.320147296692937, 0.042418515860919305, 22612.317855994643, 13391.73731768855, 11031.037273935377, 8633.32442975583, 5317.045538119415, 4661.766830563061, 2310.055419118937, 2255.681596858519, 2145.9579189905057, 1971.9334455505573, 1705.0047365974162, 1455.051108723894, 1427.7176663493055, 1039.6613614463656, 1027.0994407551536, 767.8849480637937, 659.2673782014285, 624.9067482117817, 562.6224479951873, 538.5631899180806, 507.65019213272404, 506.57699729889094, 493.86791415178556, 462.6045038029474, 425.0189240139302, 417.52125838807297, 388.4589276759571, 317.106733018738, 297.21480098850697, 283.20896141518256, 1224.1553795808647, 12755.249597765853, 8955.391124937025, 8282.186997292894, 7872.507622393143, 7203.352675152564, 5254.322093745159, 3782.2839738564453, 3400.5092930531478, 2630.2312628370814, 2435.0936030379153, 1992.086866365168, 1531.9108787669466, 1440.8173549458788, 1164.0115709834222, 888.7796707731775, 842.8541438416023, 719.2185913417, 574.1688723761091, 458.4489808054842, 337.7604899496397, 233.28715982414147, 129.4034895323695, 103.3785333863962, 102.31940829311704, 93.30301050678617, 464.5569895906701, 24.526674832480108, 5182.614969874933, 1384.323038152516, 529.6523496727747, 744.0639596898967, 1162.8497004124522, 327.1732815971206, 326.8344886197941, 18172.74683575964, 8772.65506356589, 7874.444675353859, 7328.990677829153, 5450.282293197682, 4715.2366838771095, 4043.642634090782, 3902.8187372882167, 3441.0627854942827, 2323.013509461033, 1942.85543918191, 1763.199517562878, 1717.032492464253, 1367.7383320026822, 1229.6124449542865, 765.7923397645432, 470.0123593656149, 322.8395984016003, 262.6246040336504, 196.37899215739583, 149.5967547463125, 140.0597484350251, 117.92454828456981, 68.89410675271635, 2341.433579598447, 2177.4567855541954, 1691.5134288842987, 278.5394912341805, 0.04255935719177588, 0.04255935719177588, 0.04255935719177588, 21126.463363638646, 19919.448414307037, 7983.732192859161, 2918.8024905526845, 2587.8340534640442, 2522.862130127, 2478.204984393298, 1955.0390593055733, 1575.6762004041007, 1550.395373942202, 1077.719407291144, 967.6072845571102, 798.308147697597, 776.586084471873, 741.7185316058648, 668.1810058689117, 662.8985206921581, 631.4772462700166, 614.9373200515595, 553.2385876269527, 506.8004527754522, 502.2683886514923, 489.4197640204184, 309.7530175844702, 289.1101693837689, 272.37282210700045, 231.41248364719368, 220.84323332570474, 216.9291925595549, 179.4976776537974, 1119.8871789717075, 1855.264927965791, 1423.7195741814744, 14756.9630704364, 9375.20349960091, 7845.333295825905, 6269.785907391172, 4177.091055703771, 3712.060556356628, 3643.035888765716, 3395.6123829951703, 2300.5980029002912, 2225.0761006731113, 2124.0092333726834, 1503.6005546079118, 1493.299026948519, 1181.3503568348926, 1094.8643991405308, 1062.6506540508915, 1012.3991249009397, 815.8511735147795, 626.8545020191766, 458.6192612531074, 421.5308739862916, 396.9718657987537, 299.57964380593756, 192.4883176536932, 169.4625289461078, 83.43844357005197, 52.19897308096621, 3280.077800669644, 801.5870893475997, 163.86480694897622, 153.38564326498403, 10668.036088093719, 6905.378198761071, 3009.6813407566915, 2745.556382555117, 2579.794235064317, 1496.5784160014566, 1314.849146280254, 1237.0113867447817, 1185.0058750067506, 1131.512899390829, 1109.3215543283611, 1072.979102480238, 1060.484244599678, 1032.1239607670527, 1008.7715037624412, 998.4440157359963, 888.4949414353318, 873.014084322402, 812.4204795189943, 683.0032767915757, 627.2544328298637, 619.268598762515, 618.2009711425633, 411.5748467536177, 164.0979615834484, 162.25446908008038, 137.5098655456958, 118.41746160798706, 52.91903686844006, 51.05043190989497, 522.6120052435607, 17139.721526057274, 1158.895520515918, 6038.935292417881, 895.6150740186637, 1091.7731906137283, 1245.4459455586523, 8552.046475112047, 6243.087459206943, 6073.658591131, 5479.564954310897, 4809.732841728977, 3185.7705488184724, 2644.931878271643, 2495.5587291087063, 2495.431997221068, 2415.119507807495, 2157.319937709316, 2058.891151470763, 1971.882419546432, 1872.492671536444, 1807.8168555605312, 1264.9719502987214, 1231.408017349651, 1097.0683720754662, 947.6567791390825, 773.1587681223351, 756.9097118866147, 731.4043892404168, 661.0998082905752, 659.1780835948096, 600.0875513594094, 582.8880059664, 496.6259780589058, 482.37066231179574, 257.2429473422083, 128.32810791028402, 16603.753074973363, 8283.484378423693, 3580.2064197133805, 3370.225616823504, 3079.0182584532195, 2276.3877356118746, 2206.3333285151234, 1800.9892040543461, 1651.9729437353828, 1553.7599469511208, 1273.0396893235888, 1249.773514159517, 1113.069712954469, 1072.3836896790644, 987.3750840371747, 896.1396563099979, 874.2148696694485, 870.934535351638, 849.6328810937812, 763.7342354597761, 748.3119210266868, 591.8817489246987, 544.0264084953883, 513.9899727388952, 470.040088910378, 445.6987477845655, 431.32768788841764, 385.6780377562367, 360.1516946969253, 318.3258500110052, 3643.6992447776565, 1020.3984906145902, 10664.773742416883, 9231.935448896693, 4891.243472756296, 2875.4262541147386, 2571.5945470424986, 2216.325223562362, 2130.019180265634, 1857.161917333897, 1601.784085733099, 1547.691725288713, 1524.3439460652207, 1315.824636383629, 1205.1579843712175, 1196.1137674925426, 1131.1434034051415, 1090.3330776060736, 1060.775609810575, 1029.1150945686113, 971.9625001293816, 948.3940038954353, 833.2418910377144, 764.4197560903929, 715.5186264740347, 694.6466384631406, 608.8832098046888, 604.5905805405206, 523.3261397188913, 514.3850221797852, 442.20400412712604, 406.89088138964496, 1155.1161744067147, 9030.654865789453, 6726.640578793071, 6098.380111061576, 5510.019019864419, 4673.482786869638, 4247.7539698438595, 1949.572276064578, 1473.0119692578537, 1333.5237378964616, 1043.2761187020528, 956.4884888042332, 610.6623372841368, 473.8328084112933, 454.23994033145584, 351.86541364002625, 227.31087724520333, 189.57847805026717, 123.53047870326338, 94.58227331889273, 71.10947386533458, 15944.660253430158, 0.040902877111383365, 0.040902877111383365, 0.040902877111383365, 0.040902877111383365, 0.040902877111383365, 0.040902877111383365, 0.040902877111383365, 0.040902877111383365, 0.040902877111383365, 267.66225413504554, 0.040902877111383365, 0.040902877111383365, 0.040902877111383365, 0.040902877111383365, 0.040902877111383365, 0.040902877111383365, 21553.971556259305, 12814.285174233233, 3553.2395418687574, 2361.266652035174, 2339.463823993448, 681.623652158933, 669.2495242496717, 516.9627920609141, 306.657795162687, 281.29740761835313, 226.0700159801603, 215.46799018674355, 141.87499629288862, 135.00476934727635, 103.27727910542615, 90.88315614486282, 5061.432782547291, 2510.2128705868004, 2093.1245496806214, 1135.074711405757, 1688.0620294136158, 605.4391300256002, 206.55855570690963, 0.04377735141964923, 0.04377734402607964, 0.043777340329294846, 0.043777340329294846, 0.043777340329294846, 0.043777340329294846, 0.043777340329294846, 124.5113876228423, 10.504759067616174, 0.043777340329294846, 0.043777340329294846, 15483.986434998176, 6979.902845339493, 6088.728284554036, 5008.918693577289, 3986.8141521188913, 2984.3700528347736, 2187.1136782823255, 2051.5206440167676, 1887.8482028557987, 1752.636118300203, 882.6546300697687, 784.9867386559021, 727.4794440465143, 725.4224110888373, 717.5895503857587, 667.8513264982546, 538.8059250452424, 480.4800420709958, 280.5227377618812, 269.11492300977864, 255.63181549247264, 216.93295805128147, 206.5309991181869, 194.59099451829357, 182.11486168075086, 148.1474276833975, 135.90019883824422, 134.802477092155, 105.42765321426613, 103.49196443503638, 959.9752479870397, 722.6071784108004, 466.16754545300654, 9155.035879025028, 8124.5628285110215, 6110.23917249115, 5609.214609716883, 5266.751341244043, 2874.382892689378, 1886.1902807775573, 1681.8951059738315, 1669.0097684548255, 1446.9360447733416, 1119.7071871007768, 1018.3035650793905, 943.9132488267645, 852.7180946194728, 497.6333964337254, 437.66200376259394, 343.6694901807868, 333.8048341516298, 305.00480743716787, 249.64566599155438, 239.14969939851687, 171.04930107634522, 24.365647535564545, 3151.63875350863, 593.5406386331732, 854.0695491541329, 1006.5564703966442, 452.57460949741017, 0.04133186439601995, 0.04133186439601995, 78.93237065174547, 63.785569062586504, 14457.97080536363, 13263.80480214164, 9174.566955760978, 6846.135002508693, 4977.172652527224, 969.7519051714072, 364.2733208252319, 0.04103428220879148, 0.04103428220879148, 0.04103428220879148, 0.04103428220879148, 0.04103428220879148, 0.04103428220879148, 0.04103428220879148, 0.04103428220879148, 0.04103428220879148, 0.04103428220879148, 0.04103428220879148, 0.04103428220879148, 0.04103428220879148, 0.04103428220879148, 0.04103428220879148, 0.04103428220879148, 0.04103428220879148, 0.04103428220879148, 0.04103428220879148, 0.04103428220879148, 0.04103428220879148, 0.04103428220879148, 0.04103428220879148, 0.04103428220879148, 0.04103428220879148, 0.04103428220879148, 0.04103428220879148, 0.04103428220879148, 0.04103428220879148, 0.04103428220879148, 0.04103428220879148, 0.04103428220879148, 0.04103428220879148, 0.04103428220879148, 0.04103428220879148, 0.04103428220879148, 0.04103428220879148, 0.04103428220879148, 0.04103428220879148, 0.04103428220879148, 0.04103428220879148, 0.04103428220879148, 0.04103428220879148, 11699.40532936261, 9583.372638210065, 2848.8933535359233, 2289.9213227792184, 2076.9233199523424, 1421.8520630373032, 1361.5114803775448, 1300.852103173031, 1216.4103497970807, 1214.9113586492376, 1115.0010472786887, 1095.7749575136254, 1013.5958875737151, 881.9123192130658, 857.9994949410653, 797.4554597247729, 791.3929575081319, 767.2082232139646, 744.6186741743306, 740.5028395652914, 635.8701755968306, 523.5305650952087, 416.71600255236615, 396.629849565014, 310.9046576442632, 299.95547965113377, 294.7846927617402, 289.69959137914617, 288.65812850345895, 171.0561092571482, 228.5989792845182, 16138.243193982917, 7852.247044999815, 4831.7466528606665, 1858.8474110638847, 1797.72259636349, 1639.704374082014, 1446.8199617498478, 945.1162312049393, 885.9004377126028, 863.6617980592232, 837.9637811853216, 766.3758851764223, 363.8818875298449, 361.01281552339185, 275.8758501210415, 171.60495002311472, 161.73488163628565, 134.59666378563963, 6060.679155371529, 186.9752709688416, 20.386893636002114, 173.2270415702803, 0.044092751511563465, 0.044092751511563465, 0.044092751511563465, 0.044092751511563465, 0.044092751511563465, 0.044092751511563465, 0.044092751511563465, 0.044092751511563465, 128.31800144046343, 40.13069423752194, 0.044092751511563465, 0.044092751511563465, 0.044092751511563465, 0.044092751511563465, 0.044092751511563465, 5788.184619235236, 5553.2230210726075, 5260.230305082013, 3615.5348383562787, 3213.2065696068053, 2583.304213226149, 2553.792702841809, 2403.9961756092816, 2041.006665035409, 1092.2598535418206, 1005.8457257742364, 939.3503584940188, 559.5759334985153, 388.995211289709, 340.8243330230397, 252.06694204999917, 184.297484703281, 132.59782035683332, 110.45418254558503, 1275.2965399756768, 98.00885382534915, 0.03902078777468386, 0.03902078777468386, 0.03902078777468386, 0.03902078777468386, 0.03902078777468386, 0.03902078777468386, 0.03902078777468386, 0.03902078777468386, 0.03902078777468386, 0.03902078777468386, 0.03902078777468386, 0.03902078777468386, 0.03902078777468386, 0.03902078777468386, 0.03902078777468386, 0.03902078777468386], \"Total\": [48043.0, 103910.0, 45046.0, 33820.0, 33005.0, 38120.0, 37108.0, 27844.0, 27208.0, 32305.0, 21555.0, 26773.0, 22613.0, 21127.0, 28169.0, 26041.0, 19920.0, 36515.0, 19879.0, 23636.0, 25302.0, 18173.0, 16139.0, 16604.0, 27529.0, 19312.0, 15485.0, 20016.0, 14459.0, 52973.0, 103910.9763429418, 26377.004819127076, 21328.606991061668, 19087.9737352862, 17811.08414551089, 17066.3830357076, 16817.4713205543, 16638.518767855607, 15536.024802490609, 15355.481106617368, 13379.04474928024, 11865.121841616208, 11089.705278078898, 10733.988758550493, 9121.058553226527, 9106.664283634338, 8602.937483351196, 8419.419366068929, 8279.463318342923, 8145.712412785403, 7716.483636245855, 7693.073751648496, 7665.615997552931, 7570.911312267851, 7354.352369412166, 7070.580737790304, 6710.325021871255, 6451.7615208965835, 6195.142574507823, 6069.707908400032, 25143.451348810537, 12010.45854834221, 19749.862485284535, 9705.130752006287, 39914.50696867953, 16373.781515121882, 26513.82604773107, 18677.44543602168, 36264.07154219151, 27137.420258724065, 52973.19523032697, 22637.70340882389, 41175.031504415936, 11410.78315780825, 22131.256700647646, 14918.162214072061, 12046.182517286803, 9942.924513166483, 9426.21134130564, 9184.059057898297, 7496.265769156823, 6430.67656334828, 6263.366859874433, 5715.094870371081, 5343.495567884752, 5071.210601035211, 5037.372325918823, 4086.2153622378078, 4081.671180081373, 3798.150397255359, 3736.7562038995998, 3647.6997215510983, 3423.08211172353, 3347.159618185877, 3332.824317570348, 3331.7391001613123, 3067.959373743977, 3064.282069029134, 2930.8507138640803, 2851.47249679312, 2745.6268201059156, 2651.351099102446, 2614.438090436428, 2608.909757819451, 9299.29595869305, 9994.641635254065, 14482.941039678044, 5685.704293926048, 21606.52205220429, 12830.42217399992, 9448.173821393488, 12343.007647846774, 5099.381760789562, 52973.19523032697, 41175.031504415936, 11902.185923735162, 11770.328521013605, 5098.018726022573, 36515.76801751506, 10954.893684525714, 9973.05634941463, 36264.07154219151, 22637.70340882389, 27137.420258724065, 39914.50696867953, 20208.036186321457, 16715.304173486198, 16714.520562476726, 11765.655725081344, 9008.403019196214, 8876.594699491714, 8617.115894429364, 7420.218542736493, 6974.459521380066, 4712.22804350644, 4690.693987215613, 4656.287020108718, 4498.680810639665, 4272.32165283568, 3800.3030325846667, 3386.747144288297, 3151.5122397565888, 3028.700775529808, 2940.00055443131, 2806.9943800118867, 2709.7607385811402, 2580.264128888437, 2360.6945404844564, 2322.340607571581, 2286.4367535748925, 1965.6016955084156, 1778.2176923408597, 1679.2399123086288, 1639.036122348608, 1501.588910203684, 1460.4237296439337, 2860.7190020593853, 11810.469624637553, 3933.346205351482, 27529.487861849157, 24243.75354554768, 6771.1028940896, 6989.477383908799, 4893.65152883811, 4285.802699155399, 4172.796444040241, 10954.893684525714, 28169.259078953528, 25302.145756815764, 11289.433050839014, 9834.06711903894, 8361.136467997936, 8109.85793698095, 6752.553867432355, 6110.186025555242, 5781.674523512411, 5696.5985164420645, 5532.066653015032, 5321.836381802269, 4952.4755833063255, 4702.828912699661, 4435.880551499897, 4338.106080755572, 4181.35950437317, 4150.792688044894, 4070.6095552211277, 3146.1304047845233, 3009.470780328672, 2918.64446171293, 2787.223303174742, 2445.022806760988, 1992.146126519242, 1980.4151841750747, 1943.3779984593061, 1835.4135362227457, 1822.0491543940466, 1745.264753236308, 4890.746259150148, 2490.317216614265, 4402.735931043266, 7022.670084147103, 27137.420258724065, 3230.619942953503, 32305.873287660153, 12604.397833652356, 9588.409363638588, 6487.3743816621245, 5669.45708058731, 4625.164979261277, 3240.750500484171, 1454.2835688186965, 1186.59922958033, 1007.775402096681, 926.9601147086346, 760.4329902918455, 602.9602252625441, 520.2272242093057, 438.8826256058407, 425.1581087240106, 243.50380545901947, 38120.26457917718, 1972.4912873496585, 12916.906075603407, 33820.02591425001, 36515.76801751506, 10373.237444917844, 6202.589852854664, 20208.036186321457, 2842.2511404642655, 37108.03241801463, 2511.5090148331665, 8053.029243803603, 1188.2010515242, 5356.907374102328, 19879.785642372866, 52973.19523032697, 9784.025696444669, 12343.007647846774, 27529.487861849157, 24243.75354554768, 6595.152745452991, 45046.380751045326, 26041.555580938333, 23636.72809830057, 16399.58139918051, 6151.46718267941, 5672.363519811072, 5493.557620749809, 5101.161294520855, 3916.3111002483424, 3252.739040199532, 3227.664350699912, 2891.5395673951816, 1799.376821090216, 1705.0884742209778, 980.6439355712273, 960.2044027001302, 916.9347717699003, 790.2831182515959, 646.8297794499227, 413.3460624426372, 261.07405565411284, 244.4706781129503, 210.54093858591932, 169.74772599332547, 137.42236093340395, 130.30127272087688, 77.8835358746792, 40.40286852935566, 2499.6352134348454, 1310.4255505698309, 14942.99857331059, 2092.4420893617216, 1163.266789805783, 4480.900725733021, 26513.82604773107, 4722.073350233292, 2150.216999007403, 22637.70340882389, 9023.481557315185, 33005.558007959575, 26773.319379142642, 12697.726451667017, 7581.037362299278, 3707.354142601843, 3681.5074243579215, 2943.330669181884, 2784.418818107422, 1541.0807501196432, 1346.982199886115, 1341.8401640651236, 871.0948080872959, 690.6305354513353, 564.8585633094676, 528.3904021026226, 385.98961678840436, 294.82037505778317, 251.97548415631337, 200.41603549620405, 7938.675178925643, 1202.3659811519071, 8339.449927934395, 37108.03241801463, 6440.607464950952, 1167.6789441610802, 858.498769317128, 1951.914058933383, 1900.8792592234722, 1.271651745255485, 1.271651745255485, 9973.05634941463, 2860.7190020593853, 19312.89326053282, 12739.15096849883, 11486.233965859235, 11485.417289165911, 10671.689761251258, 9598.54780903642, 7829.473274513863, 5225.49517242228, 3135.9392882799348, 2759.172243568499, 2350.026895301177, 2348.5917571872997, 1048.6605230221685, 618.7373642201417, 517.0721554251554, 477.14774805938316, 473.36776544207146, 452.4886455681702, 452.40547701973856, 306.91177662689455, 303.15102014680417, 301.2564393731342, 267.0207669220698, 246.57594068007975, 213.17989224741078, 159.60888121657243, 127.29517127976908, 120.17254639960848, 118.4152774575774, 112.03694441459818, 20016.42868634891, 2097.9802998244586, 1416.7277487503995, 4893.65152883811, 1706.7216450850588, 16388.284066072334, 11335.956471780963, 7105.8998525312145, 5450.959978530344, 5258.448980628165, 5176.10305253946, 4310.663572319407, 3954.142581810833, 3908.0531138276447, 2747.6533774707964, 2736.8785950896972, 2534.0189795383044, 2425.069965831861, 2289.493585028769, 2029.0218247856506, 1977.4990042411196, 1870.1987772837049, 1645.1369702818665, 1194.4724739469657, 1110.5586560772322, 1012.4482875191222, 973.6820392440527, 636.4647625261724, 445.02852977849045, 335.4853012067889, 312.2562261916352, 180.45134132317853, 144.59252140608285, 11155.067347442468, 75.88368665287727, 6522.989297369034, 4007.2830544178414, 9593.065362247557, 3402.288284208602, 4186.424512291102, 4845.84484636082, 5078.4693454426215, 10479.4774399269, 10315.4974344748, 8407.852885363794, 7176.856979344649, 7143.222090590954, 6198.005637873219, 5230.154404411449, 3988.390620363487, 3303.3498957665406, 3205.0586796401617, 2883.552542057003, 2783.573837375579, 2596.0377736439873, 2412.6599085183775, 2240.588339975892, 2222.129754428711, 2052.8742825647173, 2047.6721584238435, 1948.627920560228, 1854.160979994132, 1616.8052988919012, 1451.0940460507868, 1366.7134550824762, 1334.3038136799257, 1240.2893764363698, 1104.7533526503037, 992.0101961000069, 895.9847630908349, 837.2616405471155, 782.2234432487429, 3196.6958344587456, 10107.800561688837, 2206.076485763526, 2511.5090148331665, 48043.17370030952, 13005.264987447987, 5345.112041434339, 5088.551703493778, 3733.868032084365, 3688.127568218796, 3327.989658376406, 3077.49405008389, 2616.2655502748007, 2168.11320365342, 2056.18755375479, 1820.4462776485059, 1749.8248687555592, 1105.2654557040328, 1088.5349112571027, 840.7276146844791, 779.3221989028842, 741.0415570370412, 583.6150948307571, 485.7553899586814, 443.67923493732104, 416.2119073638045, 396.59905424417997, 350.53555244040354, 350.3059589431839, 309.2151286331537, 1014.3174435506623, 4480.900725733021, 7387.302935140174, 9957.559063691673, 11902.185923735162, 8339.449927934395, 4007.2830544178414, 4647.96183472881, 9927.964476229814, 9517.325808363308, 7011.990503836651, 6119.922502454867, 4471.491326193104, 3962.5062858719684, 3665.0119810923297, 3606.668704157504, 3494.544692614491, 3348.13378306852, 3335.812625620975, 3135.856084521555, 3065.7422242026505, 2576.423972323731, 2168.1740543643464, 1923.8786202060096, 1897.6808103507644, 1844.3242042250995, 1757.4095838605288, 1600.0164469804834, 1556.022064551002, 1512.3955530362498, 1304.3410297355426, 1303.247704089465, 1267.7669669193065, 753.2662739158494, 750.2928203541336, 731.5309214952075, 688.5713032626632, 667.612251698927, 4845.84484636082, 9504.43947323692, 8135.609293988701, 13154.128691854648, 11902.185923735162, 21606.52205220429, 27844.685174753333, 27208.83519124302, 5910.04655200791, 5656.701768830206, 5163.417381381799, 3961.639087834815, 3627.4556864120177, 3197.513856127788, 3122.0857392834055, 3079.204684351808, 2731.9014270980742, 2054.816210581029, 2006.4460235472034, 1990.9949864142452, 1969.160262593358, 1736.012515522175, 1000.9003441191416, 971.6577530803465, 411.9715110410772, 403.53190264881323, 368.44746241202307, 231.34130336977336, 513.3526748392162, 858.498769317128, 6414.622272346911, 10107.800561688837, 1.271651745255485, 1.271651745255485, 1.271651745255485, 1.271651745255485, 6259.666646948778, 9448.173821393488, 1317.0514844860213, 22613.545502828743, 13392.964964522653, 11032.26492076948, 8634.552076589933, 5318.273184953515, 4662.994477397161, 2311.2830659530355, 2256.909243692617, 2147.185565824604, 1973.1610923846567, 1706.2323834315157, 1456.2787555579935, 1428.945313183405, 1040.889008280465, 1028.327087589253, 769.1125948978929, 660.4950250355278, 626.134395045881, 563.8500948292865, 539.7908367521799, 508.8778389668234, 507.8046441329903, 495.0955609858849, 463.83215063704677, 426.24657084802953, 418.7489052221723, 389.68657451005646, 318.33437985283734, 298.4424478226063, 284.4366082492819, 38120.26457917718, 12756.481684096641, 8956.623211267814, 8283.419083623683, 7873.739708723928, 7204.584761483349, 5255.554180075944, 3783.5160601872294, 3401.741379383932, 2631.4633491678655, 2436.3256893686994, 1993.318952695953, 1533.1429650977316, 1442.0494412766639, 1165.2436573142072, 890.0117571039625, 844.0862301723873, 720.450677672485, 575.4009587068941, 459.68106713626935, 338.9925762804248, 234.51924615492655, 130.63557586315457, 104.61061971718131, 103.55149462390214, 94.53509683757127, 482.6597968135033, 25.75876116326521, 6414.622272346911, 4537.152546127536, 2132.9684746911757, 5392.765641407895, 27137.420258724065, 2842.2511404642655, 5184.806665268483, 18173.975928147705, 8773.884155953956, 7875.673767741922, 7330.219770217217, 5451.511385585745, 4716.465776265173, 4044.8717264788447, 3904.0478296762794, 3442.2918778823455, 2324.242601849096, 1944.0845315699737, 1764.4286099509418, 1718.2615848523167, 1368.967424390746, 1230.8415373423502, 767.0214321526068, 471.24145175367863, 324.06869078966406, 263.8536964217142, 197.60808454545952, 150.8258471343762, 141.2888408230888, 119.15364067263353, 70.12319914078007, 2706.7787198137994, 4393.686697501064, 4647.96183472881, 4474.103780971047, 1.271651745255485, 1.271651745255485, 1317.0514844860213, 21127.687037914548, 19920.672088582938, 7984.955867135062, 2920.026164828585, 2589.0577277399448, 2524.0858044029005, 2479.4286586691987, 1956.2627335814748, 1576.899874680002, 1551.6190482181034, 1078.9430815670455, 968.8309588330117, 799.5318219734984, 777.8097587477745, 742.9422058817662, 669.4046801448131, 664.1221949680595, 632.700920545918, 616.1609943274609, 554.4622619028542, 508.02412705135373, 503.4920629273938, 490.64343829631997, 310.9766918603717, 290.33384365967044, 273.596496382902, 232.63615792309517, 222.06690760160623, 218.1528668354564, 180.7213519296989, 4402.735931043266, 13154.128691854648, 20016.42868634891, 14758.195846270868, 9376.436275435377, 7846.566071660369, 6271.018683225636, 4178.323831538235, 3713.2933321910905, 3644.268664600179, 3396.845158829633, 2301.830778734754, 2226.308876507574, 2125.242009207146, 1504.8333304423754, 1494.5318027829826, 1182.5831326693562, 1096.0971749749945, 1063.883429885355, 1013.6319007354034, 817.0839493492432, 628.0872778536403, 459.85203708757115, 422.76364982075535, 398.2046416332174, 300.8124196404013, 193.72109348815692, 170.69530478057152, 84.67121940451571, 53.43174891542995, 14942.99857331059, 8300.233099230736, 2092.4420893617216, 2097.9802998244586, 10669.267626559267, 6906.609737226615, 3010.9128792222346, 2746.78792102066, 2581.02577352986, 1497.8099544670008, 1316.0806847457982, 1238.242925210326, 1186.2374134722947, 1132.7444378563732, 1110.5530927939053, 1074.2106409457822, 1061.7157830652222, 1033.355499232597, 1010.0030422279854, 999.6755542015405, 889.726479900876, 874.2456227879462, 813.6520179845385, 684.2348152571199, 628.4859712954079, 620.5001372280592, 619.4325096081075, 412.8063852191619, 165.32950004899257, 163.48600754562455, 138.74140401123995, 119.64900007353125, 54.15057533398426, 52.281970375439165, 546.3684645583415, 19879.785642372866, 1298.0879470293357, 10373.237444917844, 1341.31549647623, 1828.2929096064292, 4845.84484636082, 8553.272786141315, 6244.313770236208, 6074.8849021602655, 5480.791265340162, 4810.959152758242, 3186.9968598477367, 2646.1581893009075, 2496.7850401379706, 2496.658308250332, 2416.3458188367595, 2158.5462487385803, 2060.117462500027, 1973.1087305756969, 1873.718982565709, 1809.043166589796, 1266.1982613279863, 1232.6343283789158, 1098.2946831047311, 948.8830901683475, 774.3850791516002, 758.1360229158797, 732.6307002696818, 662.3261193198402, 660.4043946240746, 601.3138623886745, 584.114316995665, 497.8522890881709, 483.59697334106085, 258.4692583714734, 129.5544189395491, 16604.985390153914, 8284.716693604247, 3581.4387348939317, 3371.4579320040552, 3080.2505736337707, 2277.620050792426, 2207.5656436956747, 1802.2215192348983, 1653.205258915935, 1554.992262131673, 1274.272004504141, 1251.005829340069, 1114.302029188019, 1073.6160048596166, 988.6073992177269, 897.3719714905501, 875.4471848500007, 872.1668505321902, 850.8651962743334, 764.9665506403283, 749.544236207239, 593.1140641052509, 545.2587236759405, 515.2222879194474, 471.27240409093014, 446.93106296511763, 432.56000306896976, 386.9103529367888, 361.3840098774774, 319.5581651915573, 5078.4693454426215, 4184.635796488923, 10666.00059051928, 9233.16229699909, 4892.470320858688, 2876.6531022171303, 2572.82139514489, 2217.552071664754, 2131.2460283680257, 1858.3887654362893, 1603.0109338354912, 1548.9185733911054, 1525.570794167613, 1317.0514844860213, 1206.3848324736098, 1197.340615594935, 1132.3702515075338, 1091.559925708466, 1062.0024579129672, 1030.3419426710036, 973.189348231774, 949.6208519978277, 834.4687391401068, 765.6466041927853, 716.7454745764271, 695.873486565533, 610.1100579070812, 605.817428642913, 524.5529878212838, 515.6118702821776, 443.43085222951845, 408.11772949203737, 1536.085138525685, 9031.8856146576, 6727.871327661215, 6099.61085992972, 5511.249768732563, 4674.713535737783, 4248.984718712004, 1950.803024932722, 1474.2427181259977, 1334.7544867646056, 1044.5068675701968, 957.7192376723773, 611.893086152281, 475.0635572794374, 455.4706891996, 353.0961625081704, 228.5416261133474, 190.80922691841124, 124.7612275714075, 95.81302218703685, 72.3402227334787, 33820.02591425001, 1.271651745255485, 1.271651745255485, 1.271651745255485, 1.271651745255485, 1.271651745255485, 1.271651745255485, 1.271651745255485, 1.271651745255485, 1.271651745255485, 8339.449927934395, 1317.0514844860213, 2490.317216614265, 5811.431967309859, 362.50407453645835, 2876.6531022171303, 52973.19523032697, 21555.19943066423, 12815.513048638162, 3554.467416273683, 2362.4945264400994, 2340.6916983983733, 682.8515265638594, 670.477398654598, 518.1906664658404, 307.8856695676132, 282.5252820232793, 227.29789038508648, 216.69586459166973, 143.1028706978148, 136.23264375220253, 104.50515351035234, 92.11103054978902, 13154.128691854648, 7032.328420668071, 7022.670084147103, 6595.152745452991, 12916.906075603407, 6076.925480744538, 2744.794044980807, 1.2716517599879642, 1.2716517489522698, 1.271651745255485, 1.271651745255485, 1.271651745255485, 1.271651745255485, 1.271651745255485, 11810.469624637553, 37108.03241801463, 1317.0514844860213, 2490.317216614265, 15485.21445237952, 6981.1308627208355, 6089.956301935378, 5010.146710958631, 3988.0421695002333, 2985.5980702161155, 2188.3416956636675, 2052.7486613981096, 1889.076220237141, 1753.8641356815451, 883.8826474511112, 786.2147560372446, 728.7074614278569, 726.6504284701798, 718.8175677671012, 669.0793438795971, 540.0339424265849, 481.7080594523382, 281.7507551432236, 270.34294039112103, 256.85983287381504, 218.16097543262387, 207.7590164995293, 195.81901189963597, 183.34287906209326, 149.3754450647399, 137.12821621958662, 136.03049447349738, 106.65567059560854, 104.71998181637879, 1188.2010515242, 7022.670084147103, 2858.1207196325545, 9156.266198905889, 8125.793148391881, 6111.46949237201, 5610.444929597743, 5267.9816611249025, 2875.613212570237, 1887.4206006584168, 1683.125425854691, 1670.240088335685, 1448.166364654201, 1120.9375069816363, 1019.53388496025, 945.143568707624, 853.9484145003323, 498.86371631458485, 438.8923236434534, 344.89981006164624, 335.03515403248923, 306.2351273180273, 250.87598587241385, 240.38001927937634, 172.27962095720468, 25.59596741642401, 4537.152546127536, 1670.3912506558318, 3402.288284208602, 9504.43947323692, 4647.96183472881, 1.271651745255485, 1.271651745255485, 4186.424512291102, 5685.704293926048, 14459.201422826676, 13265.035419604686, 9175.797573224025, 6847.36561997174, 4978.403269990271, 970.982522634454, 365.5039382882786, 1.271651745255485, 1.271651745255485, 1.271651745255485, 1.271651745255485, 1.271651745255485, 1.271651745255485, 1.271651745255485, 1.271651745255485, 1.271651745255485, 1.271651745255485, 1.271651745255485, 1.271651745255485, 1.271651745255485, 1.271651745255485, 1.271651745255485, 1.271651745255485, 1.271651745255485, 1.271651745255485, 1.271651745255485, 1.271651745255485, 1.271651745255485, 1.271651745255485, 1.271651745255485, 1317.0514844860213, 2490.317216614265, 5811.431967309859, 362.50407453645835, 2876.6531022171303, 52973.19523032697, 22613.545502828743, 4537.152546127536, 524.5529878212838, 4892.470320858688, 973.189348231774, 19879.785642372866, 1067.106590525023, 1341.8401640651236, 610.1100579070812, 318.4512718247613, 25.59596741642401, 178.44844093141512, 26773.319379142642, 17811.08414551089, 11700.634351115352, 9584.601659962807, 2850.122375288665, 2291.15034453196, 2078.152341705084, 1423.081084790045, 1362.7405021302866, 1302.0811249257729, 1217.6393715498225, 1216.1403804019794, 1116.2300690314305, 1097.0039792663672, 1014.824909326457, 883.1413409658077, 859.2285166938073, 798.6844814775149, 792.6219792608738, 768.4372449667065, 745.8476959270726, 741.7318613180333, 637.0991973495725, 524.7595868479506, 417.94502430510806, 397.8588713177559, 312.1336793970051, 301.1845014038757, 296.0137145144821, 290.9286131318881, 289.88715025620087, 172.28513100989008, 2490.317216614265, 16139.470752976662, 7853.474603993559, 4832.97421185441, 1860.0749700576287, 1798.950155357234, 1640.931933075758, 1448.0475207435918, 946.3437901986832, 887.1279967063467, 864.8893570529672, 839.1913401790656, 767.6034441701663, 365.1094465235888, 362.24037451713576, 277.1034091147854, 172.83250901685867, 162.9624406300296, 135.82422277938358, 8135.609293988701, 2916.970869058615, 367.4033200023135, 4277.4706298954, 1.271651745255485, 1.271651745255485, 1.271651745255485, 1.271651745255485, 1.271651745255485, 1.271651745255485, 1.271651745255485, 1.271651745255485, 4890.746259150148, 1951.914058933383, 1317.0514844860213, 2490.317216614265, 5811.431967309859, 362.50407453645835, 2876.6531022171303, 5789.417250192717, 5554.4556520300885, 5261.462936039494, 3616.7674693137596, 3214.4392005642862, 2584.53684418363, 2555.02533379929, 2405.2288065667626, 2042.2392959928898, 1093.4924844993013, 1007.0783567317171, 940.5829894514995, 560.808564455996, 390.2278422471898, 342.0569639805205, 253.29957300747998, 185.5301156607618, 133.83045131431413, 111.68681350306584, 3659.7553596534785, 1014.3174435506623, 1.271651745255485, 1.271651745255485, 1.271651745255485, 1.271651745255485, 1.271651745255485, 1.271651745255485, 1.271651745255485, 1.271651745255485, 1.271651745255485, 1317.0514844860213, 2490.317216614265, 5811.431967309859, 362.50407453645835, 2876.6531022171303, 52973.19523032697, 22613.545502828743], \"Category\": [\"Default\", \"Default\", \"Default\", \"Default\", \"Default\", \"Default\", \"Default\", \"Default\", \"Default\", \"Default\", \"Default\", \"Default\", \"Default\", \"Default\", \"Default\", \"Default\", \"Default\", \"Default\", \"Default\", \"Default\", \"Default\", \"Default\", \"Default\", \"Default\", \"Default\", \"Default\", \"Default\", \"Default\", \"Default\", \"Default\", \"Topic1\", \"Topic1\", \"Topic1\", \"Topic1\", \"Topic1\", \"Topic1\", \"Topic1\", \"Topic1\", \"Topic1\", \"Topic1\", \"Topic1\", \"Topic1\", \"Topic1\", \"Topic1\", \"Topic1\", \"Topic1\", \"Topic1\", \"Topic1\", \"Topic1\", \"Topic1\", \"Topic1\", \"Topic1\", \"Topic1\", \"Topic1\", \"Topic1\", \"Topic1\", \"Topic1\", \"Topic1\", \"Topic1\", \"Topic1\", \"Topic1\", \"Topic1\", \"Topic1\", \"Topic1\", \"Topic1\", \"Topic1\", \"Topic1\", \"Topic1\", \"Topic1\", \"Topic1\", \"Topic1\", \"Topic1\", \"Topic1\", \"Topic1\", \"Topic2\", \"Topic2\", \"Topic2\", \"Topic2\", \"Topic2\", \"Topic2\", \"Topic2\", \"Topic2\", \"Topic2\", \"Topic2\", \"Topic2\", \"Topic2\", \"Topic2\", \"Topic2\", \"Topic2\", \"Topic2\", \"Topic2\", \"Topic2\", \"Topic2\", \"Topic2\", \"Topic2\", \"Topic2\", \"Topic2\", \"Topic2\", \"Topic2\", \"Topic2\", \"Topic2\", \"Topic2\", \"Topic2\", \"Topic2\", \"Topic2\", \"Topic2\", \"Topic2\", \"Topic2\", \"Topic2\", \"Topic2\", \"Topic2\", \"Topic2\", \"Topic2\", \"Topic2\", \"Topic2\", \"Topic2\", \"Topic2\", \"Topic2\", \"Topic2\", \"Topic2\", \"Topic2\", \"Topic2\", \"Topic2\", \"Topic2\", \"Topic2\", \"Topic2\", \"Topic3\", \"Topic3\", \"Topic3\", \"Topic3\", \"Topic3\", \"Topic3\", \"Topic3\", \"Topic3\", \"Topic3\", \"Topic3\", \"Topic3\", \"Topic3\", \"Topic3\", \"Topic3\", \"Topic3\", \"Topic3\", \"Topic3\", \"Topic3\", \"Topic3\", \"Topic3\", \"Topic3\", \"Topic3\", \"Topic3\", \"Topic3\", \"Topic3\", \"Topic3\", \"Topic3\", \"Topic3\", \"Topic3\", \"Topic3\", \"Topic3\", \"Topic3\", \"Topic3\", \"Topic3\", \"Topic3\", \"Topic3\", \"Topic3\", \"Topic3\", \"Topic3\", \"Topic3\", \"Topic3\", \"Topic4\", \"Topic4\", \"Topic4\", \"Topic4\", \"Topic4\", \"Topic4\", \"Topic4\", \"Topic4\", \"Topic4\", \"Topic4\", \"Topic4\", \"Topic4\", \"Topic4\", \"Topic4\", \"Topic4\", \"Topic4\", \"Topic4\", \"Topic4\", \"Topic4\", \"Topic4\", \"Topic4\", \"Topic4\", \"Topic4\", \"Topic4\", \"Topic4\", \"Topic4\", \"Topic4\", \"Topic4\", \"Topic4\", \"Topic4\", \"Topic4\", \"Topic4\", \"Topic4\", \"Topic4\", \"Topic4\", \"Topic4\", \"Topic5\", \"Topic5\", \"Topic5\", \"Topic5\", \"Topic5\", \"Topic5\", \"Topic5\", \"Topic5\", \"Topic5\", \"Topic5\", \"Topic5\", \"Topic5\", \"Topic5\", \"Topic5\", \"Topic5\", \"Topic5\", \"Topic5\", \"Topic5\", \"Topic5\", \"Topic5\", \"Topic5\", \"Topic5\", \"Topic5\", \"Topic5\", \"Topic5\", \"Topic5\", \"Topic5\", \"Topic5\", \"Topic5\", \"Topic5\", \"Topic5\", \"Topic5\", \"Topic5\", \"Topic5\", \"Topic5\", \"Topic5\", \"Topic5\", \"Topic5\", \"Topic6\", \"Topic6\", \"Topic6\", \"Topic6\", \"Topic6\", \"Topic6\", \"Topic6\", \"Topic6\", \"Topic6\", \"Topic6\", \"Topic6\", \"Topic6\", \"Topic6\", \"Topic6\", \"Topic6\", \"Topic6\", \"Topic6\", \"Topic6\", \"Topic6\", \"Topic6\", \"Topic6\", \"Topic6\", \"Topic6\", \"Topic6\", \"Topic6\", \"Topic6\", \"Topic6\", \"Topic6\", \"Topic6\", \"Topic6\", \"Topic6\", \"Topic6\", \"Topic6\", \"Topic6\", \"Topic6\", \"Topic6\", \"Topic6\", \"Topic6\", \"Topic6\", \"Topic7\", \"Topic7\", \"Topic7\", \"Topic7\", \"Topic7\", \"Topic7\", \"Topic7\", \"Topic7\", \"Topic7\", \"Topic7\", \"Topic7\", \"Topic7\", \"Topic7\", \"Topic7\", \"Topic7\", \"Topic7\", \"Topic7\", \"Topic7\", \"Topic7\", \"Topic7\", \"Topic7\", \"Topic7\", \"Topic7\", \"Topic7\", \"Topic7\", \"Topic7\", \"Topic7\", \"Topic7\", \"Topic7\", \"Topic7\", \"Topic7\", \"Topic7\", \"Topic8\", \"Topic8\", \"Topic8\", \"Topic8\", \"Topic8\", \"Topic8\", \"Topic8\", \"Topic8\", \"Topic8\", \"Topic8\", \"Topic8\", \"Topic8\", \"Topic8\", \"Topic8\", \"Topic8\", \"Topic8\", \"Topic8\", \"Topic8\", \"Topic8\", \"Topic8\", \"Topic8\", \"Topic8\", \"Topic8\", \"Topic8\", \"Topic8\", \"Topic8\", \"Topic8\", \"Topic8\", \"Topic8\", \"Topic8\", \"Topic8\", \"Topic8\", \"Topic8\", \"Topic8\", \"Topic8\", \"Topic9\", \"Topic9\", \"Topic9\", \"Topic9\", \"Topic9\", \"Topic9\", \"Topic9\", \"Topic9\", \"Topic9\", \"Topic9\", \"Topic9\", \"Topic9\", \"Topic9\", \"Topic9\", \"Topic9\", \"Topic9\", \"Topic9\", \"Topic9\", \"Topic9\", \"Topic9\", \"Topic9\", \"Topic9\", \"Topic9\", \"Topic9\", \"Topic9\", \"Topic9\", \"Topic9\", \"Topic9\", \"Topic9\", \"Topic9\", \"Topic9\", \"Topic9\", \"Topic9\", \"Topic9\", \"Topic9\", \"Topic9\", \"Topic9\", \"Topic10\", \"Topic10\", \"Topic10\", \"Topic10\", \"Topic10\", \"Topic10\", \"Topic10\", \"Topic10\", \"Topic10\", \"Topic10\", \"Topic10\", \"Topic10\", \"Topic10\", \"Topic10\", \"Topic10\", \"Topic10\", \"Topic10\", \"Topic10\", \"Topic10\", \"Topic10\", \"Topic10\", \"Topic10\", \"Topic10\", \"Topic10\", \"Topic10\", \"Topic10\", \"Topic10\", \"Topic10\", \"Topic10\", \"Topic10\", \"Topic10\", \"Topic10\", \"Topic10\", \"Topic10\", \"Topic11\", \"Topic11\", \"Topic11\", \"Topic11\", \"Topic11\", \"Topic11\", \"Topic11\", \"Topic11\", \"Topic11\", \"Topic11\", \"Topic11\", \"Topic11\", \"Topic11\", \"Topic11\", \"Topic11\", \"Topic11\", \"Topic11\", \"Topic11\", \"Topic11\", \"Topic11\", \"Topic11\", \"Topic11\", \"Topic11\", \"Topic11\", \"Topic11\", \"Topic11\", \"Topic11\", \"Topic11\", \"Topic11\", \"Topic11\", \"Topic11\", \"Topic11\", \"Topic11\", \"Topic11\", \"Topic12\", \"Topic12\", \"Topic12\", \"Topic12\", \"Topic12\", \"Topic12\", \"Topic12\", \"Topic12\", \"Topic12\", \"Topic12\", \"Topic12\", \"Topic12\", \"Topic12\", \"Topic12\", \"Topic12\", \"Topic12\", \"Topic12\", \"Topic12\", \"Topic12\", \"Topic12\", \"Topic12\", \"Topic12\", \"Topic12\", \"Topic12\", \"Topic12\", \"Topic12\", \"Topic12\", \"Topic12\", \"Topic12\", \"Topic12\", \"Topic12\", \"Topic12\", \"Topic12\", \"Topic12\", \"Topic12\", \"Topic12\", \"Topic13\", \"Topic13\", \"Topic13\", \"Topic13\", \"Topic13\", \"Topic13\", \"Topic13\", \"Topic13\", \"Topic13\", \"Topic13\", \"Topic13\", \"Topic13\", \"Topic13\", \"Topic13\", \"Topic13\", \"Topic13\", \"Topic13\", \"Topic13\", \"Topic13\", \"Topic13\", \"Topic13\", \"Topic13\", \"Topic13\", \"Topic13\", \"Topic13\", \"Topic13\", \"Topic13\", \"Topic13\", \"Topic13\", \"Topic13\", \"Topic13\", \"Topic13\", \"Topic13\", \"Topic14\", \"Topic14\", \"Topic14\", \"Topic14\", \"Topic14\", \"Topic14\", \"Topic14\", \"Topic14\", \"Topic14\", \"Topic14\", \"Topic14\", \"Topic14\", \"Topic14\", \"Topic14\", \"Topic14\", \"Topic14\", \"Topic14\", \"Topic14\", \"Topic14\", \"Topic14\", \"Topic14\", \"Topic14\", \"Topic14\", \"Topic14\", \"Topic14\", \"Topic14\", \"Topic14\", \"Topic14\", \"Topic14\", \"Topic14\", \"Topic14\", \"Topic15\", \"Topic15\", \"Topic15\", \"Topic15\", \"Topic15\", \"Topic15\", \"Topic15\", \"Topic15\", \"Topic15\", \"Topic15\", \"Topic15\", \"Topic15\", \"Topic15\", \"Topic15\", \"Topic15\", \"Topic15\", \"Topic15\", \"Topic15\", \"Topic15\", \"Topic15\", \"Topic15\", \"Topic15\", \"Topic15\", \"Topic15\", \"Topic15\", \"Topic15\", \"Topic15\", \"Topic15\", \"Topic15\", \"Topic15\", \"Topic15\", \"Topic15\", \"Topic15\", \"Topic15\", \"Topic16\", \"Topic16\", \"Topic16\", \"Topic16\", \"Topic16\", \"Topic16\", \"Topic16\", \"Topic16\", \"Topic16\", \"Topic16\", \"Topic16\", \"Topic16\", \"Topic16\", \"Topic16\", \"Topic16\", \"Topic16\", \"Topic16\", \"Topic16\", \"Topic16\", \"Topic16\", \"Topic16\", \"Topic16\", \"Topic16\", \"Topic16\", \"Topic16\", \"Topic16\", \"Topic16\", \"Topic16\", \"Topic16\", \"Topic16\", \"Topic16\", \"Topic17\", \"Topic17\", \"Topic17\", \"Topic17\", \"Topic17\", \"Topic17\", \"Topic17\", \"Topic17\", \"Topic17\", \"Topic17\", \"Topic17\", \"Topic17\", \"Topic17\", \"Topic17\", \"Topic17\", \"Topic17\", \"Topic17\", \"Topic17\", \"Topic17\", \"Topic17\", \"Topic17\", \"Topic17\", \"Topic17\", \"Topic17\", \"Topic17\", \"Topic17\", \"Topic17\", \"Topic17\", \"Topic17\", \"Topic17\", \"Topic17\", \"Topic17\", \"Topic17\", \"Topic18\", \"Topic18\", \"Topic18\", \"Topic18\", \"Topic18\", \"Topic18\", \"Topic18\", \"Topic18\", \"Topic18\", \"Topic18\", \"Topic18\", \"Topic18\", \"Topic18\", \"Topic18\", \"Topic18\", \"Topic18\", \"Topic18\", \"Topic18\", \"Topic18\", \"Topic18\", \"Topic18\", \"Topic18\", \"Topic18\", \"Topic18\", \"Topic18\", \"Topic18\", \"Topic18\", \"Topic18\", \"Topic18\", \"Topic18\", \"Topic18\", \"Topic19\", \"Topic19\", \"Topic19\", \"Topic19\", \"Topic19\", \"Topic19\", \"Topic19\", \"Topic19\", \"Topic19\", \"Topic19\", \"Topic19\", \"Topic19\", \"Topic19\", \"Topic19\", \"Topic19\", \"Topic19\", \"Topic19\", \"Topic19\", \"Topic19\", \"Topic19\", \"Topic19\", \"Topic19\", \"Topic19\", \"Topic19\", \"Topic19\", \"Topic19\", \"Topic19\", \"Topic19\", \"Topic19\", \"Topic19\", \"Topic19\", \"Topic19\", \"Topic19\", \"Topic19\", \"Topic19\", \"Topic19\", \"Topic19\", \"Topic20\", \"Topic20\", \"Topic20\", \"Topic20\", \"Topic20\", \"Topic20\", \"Topic20\", \"Topic20\", \"Topic20\", \"Topic20\", \"Topic20\", \"Topic20\", \"Topic20\", \"Topic20\", \"Topic20\", \"Topic20\", \"Topic20\", \"Topic20\", \"Topic20\", \"Topic20\", \"Topic20\", \"Topic20\", \"Topic20\", \"Topic20\", \"Topic20\", \"Topic20\", \"Topic20\", \"Topic20\", \"Topic20\", \"Topic20\", \"Topic21\", \"Topic21\", \"Topic21\", \"Topic21\", \"Topic21\", \"Topic21\", \"Topic21\", \"Topic21\", \"Topic21\", \"Topic21\", \"Topic21\", \"Topic21\", \"Topic21\", \"Topic21\", \"Topic21\", \"Topic21\", \"Topic21\", \"Topic21\", \"Topic21\", \"Topic21\", \"Topic21\", \"Topic21\", \"Topic21\", \"Topic21\", \"Topic21\", \"Topic21\", \"Topic21\", \"Topic21\", \"Topic21\", \"Topic21\", \"Topic21\", \"Topic21\", \"Topic22\", \"Topic22\", \"Topic22\", \"Topic22\", \"Topic22\", \"Topic22\", \"Topic22\", \"Topic22\", \"Topic22\", \"Topic22\", \"Topic22\", \"Topic22\", \"Topic22\", \"Topic22\", \"Topic22\", \"Topic22\", \"Topic22\", \"Topic22\", \"Topic22\", \"Topic22\", \"Topic22\", \"Topic22\", \"Topic22\", \"Topic22\", \"Topic22\", \"Topic22\", \"Topic22\", \"Topic22\", \"Topic22\", \"Topic22\", \"Topic22\", \"Topic23\", \"Topic23\", \"Topic23\", \"Topic23\", \"Topic23\", \"Topic23\", \"Topic23\", \"Topic23\", \"Topic23\", \"Topic23\", \"Topic23\", \"Topic23\", \"Topic23\", \"Topic23\", \"Topic23\", \"Topic23\", \"Topic23\", \"Topic23\", \"Topic23\", \"Topic23\", \"Topic23\", \"Topic23\", \"Topic23\", \"Topic23\", \"Topic23\", \"Topic23\", \"Topic23\", \"Topic23\", \"Topic23\", \"Topic23\", \"Topic23\", \"Topic23\", \"Topic23\", \"Topic23\", \"Topic23\", \"Topic23\", \"Topic23\", \"Topic24\", \"Topic24\", \"Topic24\", \"Topic24\", \"Topic24\", \"Topic24\", \"Topic24\", \"Topic24\", \"Topic24\", \"Topic24\", \"Topic24\", \"Topic24\", \"Topic24\", \"Topic24\", \"Topic24\", \"Topic24\", \"Topic24\", \"Topic24\", \"Topic24\", \"Topic24\", \"Topic24\", \"Topic24\", \"Topic24\", \"Topic24\", \"Topic24\", \"Topic24\", \"Topic24\", \"Topic24\", \"Topic24\", \"Topic24\", \"Topic24\", \"Topic24\", \"Topic24\", \"Topic24\", \"Topic25\", \"Topic25\", \"Topic25\", \"Topic25\", \"Topic25\", \"Topic25\", \"Topic25\", \"Topic25\", \"Topic25\", \"Topic25\", \"Topic25\", \"Topic25\", \"Topic25\", \"Topic25\", \"Topic25\", \"Topic25\", \"Topic25\", \"Topic25\", \"Topic25\", \"Topic25\", \"Topic25\", \"Topic25\", \"Topic25\", \"Topic25\", \"Topic25\", \"Topic25\", \"Topic25\", \"Topic25\", \"Topic25\", \"Topic25\", \"Topic25\", \"Topic25\", \"Topic25\", \"Topic26\", \"Topic26\", \"Topic26\", \"Topic26\", \"Topic26\", \"Topic26\", \"Topic26\", \"Topic26\", \"Topic26\", \"Topic26\", \"Topic26\", \"Topic26\", \"Topic26\", \"Topic26\", \"Topic26\", \"Topic26\", \"Topic26\", \"Topic26\", \"Topic26\", \"Topic26\", \"Topic26\", \"Topic26\", \"Topic26\", \"Topic26\", \"Topic26\", \"Topic26\", \"Topic26\", \"Topic26\", \"Topic26\", \"Topic26\", \"Topic26\", \"Topic26\", \"Topic27\", \"Topic27\", \"Topic27\", \"Topic27\", \"Topic27\", \"Topic27\", \"Topic27\", \"Topic27\", \"Topic27\", \"Topic27\", \"Topic27\", \"Topic27\", \"Topic27\", \"Topic27\", \"Topic27\", \"Topic27\", \"Topic27\", \"Topic27\", \"Topic27\", \"Topic27\", \"Topic27\", \"Topic27\", \"Topic27\", \"Topic27\", \"Topic27\", \"Topic27\", \"Topic27\", \"Topic27\", \"Topic27\", \"Topic27\", \"Topic27\", \"Topic27\", \"Topic27\", \"Topic27\", \"Topic27\", \"Topic27\", \"Topic27\", \"Topic27\", \"Topic27\", \"Topic27\", \"Topic27\", \"Topic27\", \"Topic27\", \"Topic27\", \"Topic27\", \"Topic27\", \"Topic27\", \"Topic27\", \"Topic27\", \"Topic27\", \"Topic28\", \"Topic28\", \"Topic28\", \"Topic28\", \"Topic28\", \"Topic28\", \"Topic28\", \"Topic28\", \"Topic28\", \"Topic28\", \"Topic28\", \"Topic28\", \"Topic28\", \"Topic28\", \"Topic28\", \"Topic28\", \"Topic28\", \"Topic28\", \"Topic28\", \"Topic28\", \"Topic28\", \"Topic28\", \"Topic28\", \"Topic28\", \"Topic28\", \"Topic28\", \"Topic28\", \"Topic28\", \"Topic28\", \"Topic28\", \"Topic28\", \"Topic29\", \"Topic29\", \"Topic29\", \"Topic29\", \"Topic29\", \"Topic29\", \"Topic29\", \"Topic29\", \"Topic29\", \"Topic29\", \"Topic29\", \"Topic29\", \"Topic29\", \"Topic29\", \"Topic29\", \"Topic29\", \"Topic29\", \"Topic29\", \"Topic29\", \"Topic29\", \"Topic29\", \"Topic29\", \"Topic29\", \"Topic29\", \"Topic29\", \"Topic29\", \"Topic29\", \"Topic29\", \"Topic29\", \"Topic29\", \"Topic29\", \"Topic29\", \"Topic29\", \"Topic29\", \"Topic29\", \"Topic29\", \"Topic29\", \"Topic30\", \"Topic30\", \"Topic30\", \"Topic30\", \"Topic30\", \"Topic30\", \"Topic30\", \"Topic30\", \"Topic30\", \"Topic30\", \"Topic30\", \"Topic30\", \"Topic30\", \"Topic30\", \"Topic30\", \"Topic30\", \"Topic30\", \"Topic30\", \"Topic30\", \"Topic30\", \"Topic30\", \"Topic30\", \"Topic30\", \"Topic30\", \"Topic30\", \"Topic30\", \"Topic30\", \"Topic30\", \"Topic30\", \"Topic30\", \"Topic30\", \"Topic30\", \"Topic30\", \"Topic30\", \"Topic30\", \"Topic30\", \"Topic30\"], \"logprob\": [30.0, 29.0, 28.0, 27.0, 26.0, 25.0, 24.0, 23.0, 22.0, 21.0, 20.0, 19.0, 18.0, 17.0, 16.0, 15.0, 14.0, 13.0, 12.0, 11.0, 10.0, 9.0, 8.0, 7.0, 6.0, 5.0, 4.0, 3.0, 2.0, 1.0, -2.3723, -3.7434, -3.9559, -4.0669, -4.1361, -4.1788, -4.1935, -4.2042, -4.2728, -4.2845, -4.4223, -4.5424, -4.61, -4.6426, -4.8054, -4.807, -4.8639, -4.8855, -4.9022, -4.9185, -4.9727, -4.9757, -4.9793, -4.9917, -5.0207, -5.0601, -5.1124, -5.1517, -5.1923, -5.2128, -3.8001, -4.5317, -4.047, -4.7554, -3.5554, -4.3536, -3.9759, -4.2867, -3.8711, -4.354, -4.2068, -4.5577, -4.387, -4.8152, -3.3532, -3.7476, -3.9615, -4.1534, -4.2067, -4.2328, -4.4359, -4.5892, -4.6156, -4.7072, -4.7745, -4.8268, -4.8335, -5.0428, -5.0439, -5.1159, -5.1322, -5.1563, -5.2199, -5.2424, -5.2467, -5.247, -5.3295, -5.3307, -5.3752, -5.4027, -5.4405, -5.4755, -5.4895, -5.4916, -4.2227, -4.1569, -3.8038, -4.7236, -3.4519, -3.9533, -4.2517, -4.0737, -4.8807, -2.9367, -3.1633, -4.2612, -4.312, -4.9208, -3.602, -4.4323, -4.4949, -3.8815, -4.1751, -4.4166, -4.3604, -4.5385, -2.9167, -2.9168, -3.2679, -3.5349, -3.5497, -3.5794, -3.7289, -3.7909, -4.1831, -4.1876, -4.195, -4.2294, -4.2811, -4.3982, -4.5135, -4.5855, -4.6252, -4.655, -4.7013, -4.7366, -4.7855, -4.8745, -4.8909, -4.9065, -5.0578, -5.158, -5.2153, -5.2396, -5.3273, -5.3551, -4.6867, -3.2896, -4.3756, -2.4691, -2.6006, -3.895, -4.0904, -4.3517, -4.6019, -4.6853, -4.4999, -2.1516, -2.259, -3.0661, -3.2041, -3.3664, -3.3969, -3.5801, -3.6801, -3.7354, -3.7502, -3.7795, -3.8182, -3.8902, -3.9419, -4.0004, -4.0227, -4.0595, -4.0668, -4.0863, -4.3441, -4.3885, -4.4191, -4.4652, -4.5963, -4.8012, -4.8071, -4.826, -4.8832, -4.8905, -4.9336, -3.9293, -4.6742, -4.3015, -4.0534, -4.1836, -4.7041, -1.9144, -2.8557, -3.1292, -3.52, -3.6547, -3.8584, -4.2142, -5.016, -5.2196, -5.3831, -5.4668, -5.6651, -5.8976, -6.0455, -6.2159, -6.2478, -6.8073, -1.7815, -4.8418, -2.9712, -2.5063, -2.515, -3.9233, -4.4981, -3.3229, -5.5063, -2.9605, -6.0163, -4.9353, -6.8722, -5.4564, -4.3821, -4.3557, -5.2434, -5.2445, -5.0694, -5.1167, -5.5403, -1.4466, -1.9946, -2.0915, -2.4571, -3.4378, -3.5189, -3.5509, -3.625, -3.8894, -4.0751, -4.0829, -4.1929, -4.6675, -4.7214, -5.275, -5.2961, -5.3423, -5.4912, -5.6918, -6.1407, -6.6019, -6.668, -6.8182, -7.035, -7.2479, -7.3016, -7.8227, -8.494, -4.5178, -5.1956, -2.7979, -4.905, -5.4603, -4.8668, -3.789, -5.1138, -5.8129, -5.0516, -5.4831, -1.5216, -1.7309, -2.4769, -2.9927, -3.7082, -3.7152, -3.9391, -3.9946, -4.5865, -4.7213, -4.7251, -5.1576, -5.3902, -5.5916, -5.6585, -5.9734, -6.2438, -6.4015, -6.6317, -2.9786, -5.003, -3.1051, -1.7699, -4.2683, -6.1426, -6.8252, -6.4321, -6.6089, -15.0925, -15.0925, -6.2848, -9.3988, -1.931, -2.3472, -2.4507, -2.4508, -2.5243, -2.6303, -2.834, -3.2384, -3.7492, -3.8773, -4.0378, -4.0385, -4.8454, -5.3738, -5.5537, -5.6343, -5.6422, -5.6875, -5.6877, -6.077, -6.0893, -6.0956, -6.2168, -6.2968, -6.4432, -6.7345, -6.9627, -7.0209, -7.0358, -7.0917, -1.969, -4.2541, -4.6652, -4.9832, -6.2238, -2.094, -2.4626, -2.9298, -3.1949, -3.2309, -3.2467, -3.4297, -3.5161, -3.5278, -3.8802, -3.8841, -3.9612, -4.0052, -4.0627, -4.1836, -4.2093, -4.2651, -4.3934, -4.7138, -4.7867, -4.8793, -4.9184, -5.3443, -5.7029, -5.9864, -6.0584, -6.6096, -6.8329, -2.4943, -7.4854, -3.0388, -3.6304, -2.8689, -3.9556, -4.2828, -4.4942, -4.5303, -2.5362, -2.552, -2.7565, -2.9148, -2.9195, -3.0615, -3.2313, -3.5024, -3.6909, -3.7211, -3.8269, -3.8622, -3.932, -4.0053, -4.0793, -4.0876, -4.1668, -4.1694, -4.219, -4.2687, -4.4058, -4.514, -4.574, -4.598, -4.6711, -4.787, -4.8947, -4.9967, -5.0646, -5.1327, -3.7531, -2.6614, -4.1455, -4.2044, -0.921, -2.2278, -3.1171, -3.1663, -3.4759, -3.4883, -3.591, -3.6693, -3.8318, -4.0198, -4.0728, -4.1946, -4.2342, -4.6941, -4.7093, -4.968, -5.044, -5.0944, -5.3337, -5.5176, -5.6085, -5.6726, -5.721, -5.8449, -5.8455, -5.9708, -4.9971, -3.6923, -3.9775, -4.0974, -4.4023, -4.5983, -5.5264, -5.5956, -2.4502, -2.4925, -2.798, -2.9341, -3.248, -3.3689, -3.447, -3.463, -3.4946, -3.5374, -3.5411, -3.6029, -3.6256, -3.7995, -3.9721, -4.0917, -4.1055, -4.134, -4.1823, -4.2762, -4.3041, -4.3326, -4.4807, -4.4815, -4.5092, -5.0304, -5.0344, -5.0597, -5.1204, -5.1513, -3.9974, -3.8003, -4.0161, -4.1638, -4.3415, -4.4771, -1.3917, -1.4148, -2.9418, -2.9857, -3.0769, -3.3419, -3.4301, -3.5563, -3.5802, -3.594, -3.7137, -3.9987, -4.0225, -4.0303, -4.0413, -4.1674, -4.7186, -4.7483, -5.6081, -5.6288, -5.7201, -6.1875, -6.3585, -7.1247, -5.1413, -4.8673, -14.7862, -14.7862, -14.7862, -14.7862, -7.1233, -8.3184, -14.7862, -1.4544, -1.9782, -2.1722, -2.4173, -2.902, -3.0335, -3.7356, -3.7594, -3.8093, -3.8939, -4.0393, -4.1978, -4.2168, -4.534, -4.5461, -4.837, -4.9895, -5.043, -5.148, -5.1917, -5.2508, -5.253, -5.2784, -5.3438, -5.4285, -5.4463, -5.5184, -5.7214, -5.7862, -5.8345, -4.3706, -1.938, -2.2917, -2.3699, -2.4206, -2.5094, -2.8249, -3.1536, -3.26, -3.5169, -3.594, -3.7948, -4.0575, -4.1188, -4.3321, -4.6019, -4.6549, -4.8136, -5.0388, -5.2639, -5.5694, -5.9395, -6.5288, -6.7533, -6.7636, -6.8559, -5.2506, -8.192, -2.8387, -4.1588, -5.1195, -4.7796, -4.3331, -5.6012, -5.6023, -1.5829, -2.3112, -2.4192, -2.491, -2.7871, -2.932, -3.0856, -3.1211, -3.247, -3.6399, -3.8186, -3.9157, -3.9422, -4.1696, -4.2761, -4.7496, -5.2378, -5.6134, -5.8198, -6.1105, -6.3826, -6.4485, -6.6205, -7.158, -3.632, -3.7046, -3.9572, -5.761, -14.5474, -14.5474, -14.5474, -1.4073, -1.4662, -2.3804, -3.3867, -3.507, -3.5325, -3.5503, -3.7874, -4.0032, -4.0193, -4.383, -4.4908, -4.6831, -4.7107, -4.7566, -4.861, -4.869, -4.9175, -4.9441, -5.0498, -5.1375, -5.1465, -5.1724, -5.6298, -5.6988, -5.7584, -5.9214, -5.9682, -5.986, -6.1754, -4.3446, -3.8398, -4.1046, -1.6918, -2.1455, -2.3236, -2.5478, -2.9539, -3.0719, -3.0907, -3.161, -3.5504, -3.5837, -3.6302, -3.9757, -3.9825, -4.2169, -4.2929, -4.3228, -4.3712, -4.587, -4.8506, -5.1631, -5.2474, -5.3074, -5.5889, -6.0312, -6.1586, -6.8672, -7.3362, -3.1957, -4.6047, -6.1922, -6.2583, -1.9987, -2.4337, -3.2642, -3.356, -3.4183, -3.9628, -4.0923, -4.1533, -4.1962, -4.2424, -4.2622, -4.2956, -4.3073, -4.3344, -4.3573, -4.3676, -4.4842, -4.5018, -4.5737, -4.7473, -4.8324, -4.8452, -4.8469, -5.2538, -6.1733, -6.1846, -6.3501, -6.4995, -7.305, -7.3409, -5.0149, -1.5246, -4.2185, -2.5678, -4.4762, -4.2782, -4.1465, -2.1189, -2.4336, -2.4611, -2.564, -2.6944, -3.1064, -3.2924, -3.3506, -3.3506, -3.3833, -3.4962, -3.5429, -3.5861, -3.6378, -3.673, -4.03, -4.0569, -4.1724, -4.3188, -4.5223, -4.5436, -4.5779, -4.6789, -4.6818, -4.7758, -4.8048, -4.965, -4.9941, -5.6228, -6.3182, -1.4396, -2.135, -2.9738, -3.0343, -3.1247, -3.4267, -3.4579, -3.6609, -3.7473, -3.8086, -4.0079, -4.0263, -4.1421, -4.1794, -4.262, -4.3589, -4.3837, -4.3875, -4.4122, -4.5188, -4.5392, -4.7737, -4.858, -4.9148, -5.0042, -5.0574, -5.0901, -5.202, -5.2705, -5.3939, -2.9563, -4.2291, -1.8624, -2.0067, -2.6419, -3.1732, -3.2848, -3.4335, -3.4732, -3.6103, -3.7582, -3.7926, -3.8078, -3.9549, -4.0428, -4.0503, -4.1061, -4.1429, -4.1704, -4.2007, -4.2578, -4.2824, -4.4118, -4.498, -4.5641, -4.5937, -4.7255, -4.7326, -4.8769, -4.8942, -5.0454, -5.1286, -4.0852, -2.0055, -2.3, -2.3981, -2.4995, -2.6642, -2.7597, -3.5385, -3.8188, -3.9183, -4.1637, -4.2506, -4.6993, -4.953, -4.9952, -5.2506, -5.6875, -5.869, -6.2973, -6.5644, -6.8496, -1.437, -14.3104, -14.3104, -14.3104, -14.3104, -14.3104, -14.3104, -14.3104, -14.3104, -14.3104, -5.5241, -14.3104, -14.3104, -14.3104, -14.3104, -14.3104, -14.3104, -1.1044, -1.6244, -2.9071, -3.3157, -3.325, -4.5582, -4.5765, -4.8347, -5.3569, -5.4433, -5.6618, -5.7099, -6.1277, -6.1774, -6.4453, -6.5731, -2.5533, -3.2546, -3.4363, -4.0482, -3.6513, -4.6767, -5.7521, -14.2113, -14.2113, -14.2113, -14.2113, -14.2113, -14.2113, -14.2113, -6.2583, -8.7308, -14.2113, -14.2113, -1.4202, -2.217, -2.3536, -2.5488, -2.777, -3.0666, -3.3774, -3.4414, -3.5246, -3.5989, -4.2848, -4.4021, -4.4782, -4.481, -4.4919, -4.5637, -4.7784, -4.893, -5.4311, -5.4726, -5.524, -5.6882, -5.7373, -5.7969, -5.8631, -6.0696, -6.1559, -6.164, -6.4098, -6.4283, -4.2009, -4.4849, -4.9232, -1.9105, -2.0299, -2.3149, -2.4004, -2.4634, -3.069, -3.4903, -3.6049, -3.6126, -3.7554, -4.0118, -4.1067, -4.1826, -4.2842, -4.8227, -4.9511, -5.1929, -5.222, -5.3123, -5.5125, -5.5555, -5.8906, -7.8394, -2.9769, -4.6465, -4.2826, -4.1183, -4.9176, -14.2187, -14.2187, -6.664, -6.8771, -1.3417, -1.428, -1.7966, -2.0893, -2.4081, -4.0437, -5.0228, -14.1141, -14.1141, -14.1141, -14.1141, -14.1141, -14.1141, -14.1141, -14.1141, -14.1141, -14.1141, -14.1141, -14.1141, -14.1141, -14.1141, -14.1141, -14.1141, -14.1141, -14.1141, -14.1141, -14.1141, -14.1141, -14.1141, -14.1141, -14.1141, -14.1141, -14.1141, -14.1141, -14.1141, -14.1141, -14.1141, -14.1141, -14.1141, -14.1141, -14.1141, -14.1141, -14.1141, -14.1141, -14.1141, -14.1141, -14.1141, -14.1141, -14.1141, -14.1141, -1.534, -1.7335, -2.9466, -3.165, -3.2627, -3.6416, -3.685, -3.7305, -3.7977, -3.7989, -3.8847, -3.9021, -3.9801, -4.1192, -4.1467, -4.2199, -4.2275, -4.2586, -4.2884, -4.294, -4.4463, -4.6407, -4.8689, -4.9183, -5.1618, -5.1977, -5.2151, -5.2325, -5.2361, -5.7593, -5.4693, -1.2002, -1.9206, -2.4062, -3.3614, -3.3949, -3.4869, -3.612, -4.0379, -4.1026, -4.128, -4.1582, -4.2475, -4.9923, -5.0002, -5.2692, -5.744, -5.8032, -5.9869, -2.1796, -5.6582, -7.8743, -5.7346, -14.0106, -14.0106, -14.0106, -14.0106, -14.0106, -14.0106, -14.0106, -14.0106, -6.0346, -7.197, -14.0106, -14.0106, -14.0106, -14.0106, -14.0106, -2.0372, -2.0787, -2.1329, -2.5078, -2.6258, -2.844, -2.8555, -2.9159, -3.0796, -3.7048, -3.7872, -3.8556, -4.3736, -4.7372, -4.8694, -5.1711, -5.4843, -5.8135, -5.9962, -3.5499, -6.1158, -13.9445, -13.9445, -13.9445, -13.9445, -13.9445, -13.9445, -13.9445, -13.9445, -13.9445, -13.9445, -13.9445, -13.9445, -13.9445, -13.9445, -13.9445, -13.9445], \"loglift\": [30.0, 29.0, 28.0, 27.0, 26.0, 25.0, 24.0, 23.0, 22.0, 21.0, 20.0, 19.0, 18.0, 17.0, 16.0, 15.0, 14.0, 13.0, 12.0, 11.0, 10.0, 9.0, 8.0, 7.0, 6.0, 5.0, 4.0, 3.0, 2.0, 1.0, 1.4606, 1.4606, 1.4606, 1.4605, 1.4605, 1.4605, 1.4605, 1.4605, 1.4605, 1.4605, 1.4605, 1.4605, 1.4605, 1.4605, 1.4605, 1.4605, 1.4605, 1.4605, 1.4605, 1.4605, 1.4604, 1.4604, 1.4604, 1.4604, 1.4604, 1.4604, 1.4604, 1.4604, 1.4604, 1.4604, 1.4518, 1.459, 1.4464, 1.4484, 1.2343, 1.3272, 1.2229, 1.2625, 1.0146, 0.8216, 0.2999, 0.7992, 0.3717, 1.2267, 2.0263, 2.0263, 2.0263, 2.0262, 2.0262, 2.0262, 2.0262, 2.0262, 2.0262, 2.0262, 2.0261, 2.0261, 2.0261, 2.0261, 2.0261, 2.026, 2.026, 2.026, 2.026, 2.026, 2.026, 2.026, 2.026, 2.026, 2.0259, 2.0259, 2.0259, 2.0259, 2.0259, 2.0259, 2.0238, 2.0175, 1.9997, 2.0149, 1.9515, 1.9713, 1.979, 1.8897, 1.9666, 1.5699, 1.5953, 1.7385, 1.6989, 1.9269, 1.2767, 1.6504, 1.6817, 1.0042, 1.1818, 0.759, 0.4294, 0.9319, 2.7434, 2.7434, 2.7434, 2.7434, 2.7434, 2.7434, 2.7433, 2.7433, 2.7432, 2.7432, 2.7432, 2.7432, 2.7432, 2.7432, 2.7431, 2.7431, 2.7431, 2.7431, 2.7431, 2.7431, 2.743, 2.743, 2.743, 2.743, 2.7429, 2.7428, 2.7428, 2.7428, 2.7427, 2.7427, 2.7387, 2.7179, 2.7314, 2.6921, 2.6877, 2.6688, 2.4417, 2.5368, 2.4193, 2.3626, 1.5828, 2.9866, 2.9866, 2.9865, 2.9865, 2.9865, 2.9865, 2.9865, 2.9864, 2.9864, 2.9864, 2.9864, 2.9864, 2.9864, 2.9864, 2.9864, 2.9864, 2.9863, 2.9863, 2.9863, 2.9862, 2.9862, 2.9862, 2.9862, 2.9861, 2.986, 2.986, 2.986, 2.986, 2.986, 2.9859, 2.9598, 2.8898, 2.6928, 2.4739, 0.9919, 2.5997, 3.0868, 3.0868, 3.0867, 3.0867, 3.0866, 3.0866, 3.0865, 3.086, 3.0858, 3.0856, 3.0855, 3.0852, 3.0848, 3.0845, 3.084, 3.084, 3.0818, 3.0542, 2.9554, 2.9467, 2.4492, 2.3637, 2.2139, 2.1534, 2.1475, 1.9256, 1.9021, 1.5393, 1.4552, 1.4318, 1.3417, 1.1047, 0.151, 0.9523, 0.7189, 0.0918, 0.1716, 1.0498, 3.2222, 3.2222, 3.2222, 3.2221, 3.222, 3.222, 3.222, 3.222, 3.2219, 3.2218, 3.2218, 3.2218, 3.2215, 3.2215, 3.221, 3.2209, 3.2209, 3.2207, 3.2203, 3.2192, 3.2175, 3.2172, 3.2164, 3.2149, 3.2132, 3.2127, 3.2063, 3.1913, 3.0426, 3.0105, 2.9743, 2.8331, 2.8649, 2.1098, 1.4098, 1.8104, 1.898, 0.3053, 0.7936, 3.4582, 3.4582, 3.4582, 3.4581, 3.4579, 3.4579, 3.4578, 3.4578, 3.4575, 3.4573, 3.4573, 3.4568, 3.4565, 3.4561, 3.4559, 3.4551, 3.4541, 3.4534, 3.4521, 3.4262, 3.2892, 3.2504, 3.0928, 2.3455, 2.1788, 1.8038, 1.3756, 1.2252, 0.0514, 0.0514, -0.1082, -1.9734, 3.5847, 3.5846, 3.5846, 3.5846, 3.5846, 3.5846, 3.5846, 3.5845, 3.5843, 3.5843, 3.5842, 3.5842, 3.5835, 3.5827, 3.5823, 3.5821, 3.5821, 3.582, 3.582, 3.5807, 3.5806, 3.5806, 3.5801, 3.5797, 3.5789, 3.577, 3.575, 3.5744, 3.5743, 3.5737, 3.5109, 3.4814, 3.4629, 1.9054, 1.7181, 3.5859, 3.5859, 3.5858, 3.5857, 3.5857, 3.5857, 3.5857, 3.5857, 3.5857, 3.5855, 3.5855, 3.5855, 3.5855, 3.5854, 3.5854, 3.5853, 3.5853, 3.5852, 3.5849, 3.5849, 3.5848, 3.5847, 3.584, 3.5832, 3.5823, 3.582, 3.5791, 3.5774, 3.5703, 3.5696, 3.5623, 3.458, 3.3466, 3.2964, 2.7619, 2.4041, 2.3211, 3.5909, 3.5909, 3.5908, 3.5908, 3.5908, 3.5908, 3.5908, 3.5907, 3.5906, 3.5906, 3.5906, 3.5905, 3.5905, 3.5905, 3.5904, 3.5904, 3.5904, 3.5904, 3.5904, 3.5903, 3.5902, 3.5901, 3.5901, 3.5901, 3.59, 3.5899, 3.5898, 3.5896, 3.5895, 3.5894, 3.5612, 3.5018, 3.5397, 3.3512, 3.6834, 3.6833, 3.6832, 3.6832, 3.6831, 3.6831, 3.6831, 3.683, 3.683, 3.6829, 3.6828, 3.6828, 3.6827, 3.6823, 3.6823, 3.682, 3.6818, 3.6818, 3.6813, 3.6809, 3.6806, 3.6805, 3.6803, 3.6799, 3.6799, 3.6794, 3.4651, 3.2844, 2.4992, 2.0807, 1.5975, 1.7572, 1.5619, 1.3445, 3.7309, 3.7309, 3.7308, 3.7308, 3.7307, 3.7307, 3.7307, 3.7307, 3.7307, 3.7307, 3.7307, 3.7306, 3.7306, 3.7305, 3.7305, 3.7304, 3.7304, 3.7304, 3.7303, 3.7303, 3.7302, 3.7302, 3.7301, 3.7301, 3.7301, 3.7294, 3.7294, 3.7293, 3.7292, 3.7292, 2.901, 2.4244, 2.3641, 1.7359, 1.6582, 0.9264, 3.7582, 3.7582, 3.758, 3.758, 3.758, 3.7579, 3.7579, 3.7578, 3.7578, 3.7578, 3.7577, 3.7576, 3.7576, 3.7576, 3.7576, 3.7575, 3.757, 3.7569, 3.7552, 3.7551, 3.7549, 3.7529, 2.7848, 1.5043, 1.4766, 1.2959, 0.3577, 0.3577, 0.3577, 0.3577, -0.481, -2.0878, -6.5851, 3.9035, 3.9035, 3.9035, 3.9034, 3.9034, 3.9033, 3.9031, 3.903, 3.903, 3.903, 3.9029, 3.9027, 3.9027, 3.9024, 3.9024, 3.902, 3.9017, 3.9016, 3.9014, 3.9013, 3.9012, 3.9012, 3.9011, 3.9009, 3.9007, 3.9007, 3.9004, 3.8997, 3.8995, 3.8993, 0.4651, 3.9924, 3.9924, 3.9924, 3.9923, 3.9923, 3.9923, 3.9922, 3.9921, 3.992, 3.992, 3.9919, 3.9917, 3.9916, 3.9914, 3.9911, 3.991, 3.9908, 3.9904, 3.9898, 3.9889, 3.9872, 3.983, 3.9807, 3.9805, 3.9794, 3.9543, 3.9435, 3.7792, 2.8054, 2.5995, 2.0118, 0.8425, 1.8306, 1.2285, 3.9936, 3.9935, 3.9935, 3.9935, 3.9935, 3.9934, 3.9934, 3.9934, 3.9933, 3.9932, 3.993, 3.993, 3.993, 3.9928, 3.9927, 3.9921, 3.9911, 3.9899, 3.989, 3.9874, 3.9855, 3.9849, 3.9833, 3.976, 3.8487, 3.2917, 2.9829, 1.2172, 0.5965, 0.5965, -6.3463, 4.0186, 4.0186, 4.0185, 4.0182, 4.0181, 4.0181, 4.0181, 4.018, 4.0178, 4.0178, 4.0175, 4.0174, 4.0171, 4.017, 4.017, 4.0168, 4.0168, 4.0167, 4.0166, 4.0164, 4.0162, 4.0162, 4.0161, 4.0147, 4.0144, 4.0141, 4.0133, 4.0131, 4.013, 4.0118, 2.6496, 2.0599, 1.3753, 4.0929, 4.0928, 4.0928, 4.0928, 4.0927, 4.0926, 4.0926, 4.0926, 4.0924, 4.0924, 4.0924, 4.0921, 4.0921, 4.0919, 4.0918, 4.0918, 4.0917, 4.0914, 4.091, 4.0903, 4.09, 4.0898, 4.0888, 4.0866, 4.0857, 4.0783, 4.0696, 2.5766, 1.7555, 1.5459, 1.4772, 4.1104, 4.1103, 4.1101, 4.11, 4.11, 4.1097, 4.1095, 4.1095, 4.1094, 4.1094, 4.1094, 4.1093, 4.1093, 4.1093, 4.1093, 4.1092, 4.1091, 4.1091, 4.109, 4.1087, 4.1085, 4.1085, 4.1085, 4.1075, 4.103, 4.1029, 4.1016, 4.1001, 4.0875, 4.0866, 4.066, 3.9622, 3.997, 3.5695, 3.7066, 3.5949, 2.7518, 4.2113, 4.2112, 4.2112, 4.2112, 4.2111, 4.211, 4.2109, 4.2109, 4.2109, 4.2109, 4.2108, 4.2108, 4.2108, 4.2107, 4.2107, 4.2104, 4.2104, 4.2103, 4.2101, 4.2098, 4.2098, 4.2097, 4.2095, 4.2095, 4.2094, 4.2093, 4.2089, 4.2089, 4.2066, 4.2019, 4.2271, 4.2271, 4.2269, 4.2268, 4.2268, 4.2267, 4.2266, 4.2265, 4.2265, 4.2264, 4.2262, 4.2262, 4.2261, 4.2261, 4.226, 4.2258, 4.2258, 4.2258, 4.2258, 4.2256, 4.2256, 4.2251, 4.2249, 4.2248, 4.2246, 4.2244, 4.2244, 4.224, 4.2238, 4.2233, 3.8952, 2.816, 4.247, 4.247, 4.2469, 4.2467, 4.2466, 4.2466, 4.2465, 4.2464, 4.2463, 4.2463, 4.2463, 4.2462, 4.2461, 4.2461, 4.246, 4.246, 4.2459, 4.2459, 4.2458, 4.2458, 4.2456, 4.2455, 4.2454, 4.2453, 4.2451, 4.2451, 4.2448, 4.2447, 4.2443, 4.2441, 3.9621, 4.2703, 4.2702, 4.2702, 4.2702, 4.2701, 4.2701, 4.2698, 4.2696, 4.2695, 4.2692, 4.2691, 4.2684, 4.2678, 4.2677, 4.2669, 4.265, 4.2639, 4.2605, 4.2575, 4.2532, 3.5185, 0.8335, 0.8335, 0.8335, 0.8335, 0.8335, 0.8335, 0.8335, 0.8335, 0.8335, 0.8314, -6.1093, -6.7463, -7.5937, -4.8192, -6.8905, -9.8037, 4.3015, 4.3015, 4.3012, 4.301, 4.301, 4.2998, 4.2997, 4.2992, 4.2976, 4.2972, 4.2961, 4.2959, 4.2929, 4.2925, 4.2897, 4.2881, 3.3465, 3.2714, 3.0911, 2.5419, 2.2666, 1.9953, 1.7147, 0.9326, 0.9326, 0.9326, 0.9326, 0.9326, 0.9326, 0.9326, -0.2508, -3.8682, -6.0102, -6.6473, 4.3164, 4.3163, 4.3162, 4.3162, 4.3161, 4.316, 4.3159, 4.3158, 4.3158, 4.3157, 4.3151, 4.3149, 4.3148, 4.3148, 4.3147, 4.3146, 4.3142, 4.3139, 4.3121, 4.3119, 4.3117, 4.3108, 4.3105, 4.3102, 4.3097, 4.3082, 4.3075, 4.3074, 4.3049, 4.3047, 4.1032, 2.0424, 2.5031, 4.3515, 4.3515, 4.3514, 4.3514, 4.3514, 4.3512, 4.351, 4.3509, 4.3509, 4.3508, 4.3505, 4.3504, 4.3503, 4.3502, 4.3492, 4.3488, 4.3481, 4.348, 4.3476, 4.3467, 4.3465, 4.3445, 4.3024, 3.9873, 3.3169, 2.9694, 2.1064, 2.0224, 0.9252, 0.9252, 0.3806, -0.1385, 4.4634, 4.4634, 4.4633, 4.4633, 4.4632, 4.4622, 4.4601, 1.0298, 1.0298, 1.0298, 1.0298, 1.0298, 1.0298, 1.0298, 1.0298, 1.0298, 1.0298, 1.0298, 1.0298, 1.0298, 1.0298, 1.0298, 1.0298, 1.0298, 1.0298, 1.0298, 1.0298, 1.0298, 1.0298, 1.0298, -5.913, -6.55, -7.3974, -4.6229, -6.6942, -9.6074, -8.7562, -7.1499, -4.9924, -7.2253, -5.6104, -8.6273, -5.7026, -5.9317, -5.1435, -4.4933, -1.9723, -3.9142, -8.925, -8.5174, 4.4828, 4.4828, 4.4825, 4.4824, 4.4823, 4.482, 4.482, 4.482, 4.4819, 4.4819, 4.4818, 4.4818, 4.4817, 4.4815, 4.4815, 4.4814, 4.4814, 4.4813, 4.4813, 4.4813, 4.481, 4.4806, 4.48, 4.4798, 4.479, 4.4788, 4.4787, 4.4787, 4.4787, 4.4758, 2.0947, 4.495, 4.4949, 4.4948, 4.4944, 4.4944, 4.4943, 4.4942, 4.4938, 4.4937, 4.4936, 4.4936, 4.4935, 4.4917, 4.4917, 4.4906, 4.4879, 4.4875, 4.486, 4.2006, 1.7477, 1.6035, 1.2886, 1.1333, 1.1333, 1.1333, 1.1333, 1.1333, 1.1333, 1.1333, 1.1333, 0.8545, 0.6106, -5.8095, -6.4466, -7.294, -4.5194, -6.5908, 4.6832, 4.6832, 4.6832, 4.6831, 4.683, 4.6829, 4.6829, 4.6829, 4.6828, 4.6823, 4.6822, 4.6821, 4.6812, 4.6803, 4.6798, 4.6785, 4.6767, 4.6742, 4.6723, 3.6292, 2.3465, 1.1994, 1.1994, 1.1994, 1.1994, 1.1994, 1.1994, 1.1994, 1.1994, 1.1994, -5.7434, -6.3804, -7.2278, -4.4533, -6.5246, -9.4378, -8.5865]}, \"token.table\": {\"Topic\": [1, 5, 1, 9, 28, 30, 2, 26, 13, 17, 28, 3, 5, 2, 3, 20, 9, 10, 8, 9, 16, 1, 13, 1, 30, 19, 16, 17, 7, 12, 4, 1, 8, 8, 17, 17, 2, 21, 8, 3, 28, 7, 10, 25, 11, 5, 22, 10, 9, 20, 12, 10, 4, 13, 13, 17, 24, 12, 17, 14, 2, 3, 27, 10, 1, 5, 9, 19, 6, 28, 28, 2, 9, 19, 24, 13, 21, 16, 20, 1, 19, 29, 2, 17, 9, 22, 9, 7, 2, 21, 22, 9, 26, 11, 6, 18, 13, 15, 17, 5, 6, 28, 26, 11, 22, 19, 2, 26, 24, 19, 1, 2, 5, 19, 2, 2, 14, 28, 3, 16, 14, 1, 2, 6, 20, 5, 14, 19, 3, 6, 16, 1, 11, 16, 26, 14, 1, 2, 29, 5, 10, 27, 15, 17, 20, 21, 1, 10, 18, 13, 8, 8, 18, 13, 23, 6, 28, 2, 8, 24, 6, 12, 12, 12, 16, 16, 19, 4, 28, 13, 7, 21, 13, 1, 6, 3, 4, 20, 13, 25, 4, 23, 23, 8, 11, 30, 4, 18, 3, 29, 1, 2, 4, 5, 15, 16, 9, 20, 26, 4, 15, 28, 7, 26, 22, 19, 19, 4, 19, 15, 19, 12, 17, 23, 25, 25, 25, 8, 14, 2, 12, 13, 4, 24, 25, 25, 30, 9, 7, 14, 12, 28, 28, 5, 10, 10, 2, 28, 12, 3, 8, 18, 10, 6, 10, 18, 4, 7, 1, 8, 25, 12, 29, 30, 21, 21, 3, 9, 12, 7, 23, 9, 26, 14, 20, 24, 1, 2, 9, 9, 8, 7, 11, 21, 3, 4, 12, 26, 15, 22, 16, 20, 10, 20, 15, 25, 7, 14, 9, 2, 5, 2, 20, 22, 25, 11, 11, 28, 1, 12, 15, 2, 26, 13, 15, 4, 6, 6, 23, 28, 11, 6, 19, 10, 17, 28, 18, 1, 22, 1, 2, 12, 11, 12, 11, 2, 18, 11, 1, 2, 7, 14, 8, 18, 5, 24, 22, 22, 3, 22, 2, 11, 12, 2, 6, 2, 5, 12, 17, 1, 24, 15, 18, 4, 5, 13, 15, 26, 11, 7, 11, 13, 5, 1, 6, 12, 16, 2, 3, 24, 3, 22, 2, 6, 9, 15, 22, 11, 1, 2, 6, 10, 26, 26, 3, 27, 19, 26, 23, 25, 2, 10, 18, 26, 18, 1, 2, 12, 29, 25, 7, 3, 8, 1, 5, 18, 10, 1, 2, 4, 5, 1, 1, 25, 24, 26, 14, 4, 29, 6, 17, 20, 4, 22, 17, 4, 5, 9, 10, 8, 9, 2, 3, 1, 2, 3, 5, 7, 10, 30, 19, 16, 19, 1, 2, 9, 2, 5, 15, 2, 3, 22, 9, 25, 29, 14, 1, 5, 24, 14, 24, 21, 15, 26, 12, 5, 21, 26, 15, 6, 6, 11, 11, 6, 2, 4, 5, 5, 1, 29, 24, 24, 18, 22, 17, 8, 26, 23, 13, 13, 30, 6, 16, 25, 2, 2, 1, 2, 6, 27, 19, 20, 17, 9, 14, 11, 19, 12, 12, 9, 12, 19, 30, 10, 1, 16, 11, 19, 1, 26, 10, 17, 1, 29, 2, 3, 21, 6, 14, 30, 16, 8, 20, 1, 9, 19, 26, 25, 11, 2, 1, 30, 12, 10, 10, 3, 17, 20, 21, 26, 3, 28, 12, 27, 4, 20, 6, 8, 6, 2, 2, 1, 5, 24, 14, 1, 28, 18, 15, 10, 2, 5, 12, 17, 20, 24, 17, 19, 1, 8, 12, 10, 1, 15, 4, 5, 16, 12, 29, 22, 11, 19, 25, 1, 26, 2, 1, 2, 5, 18, 29, 22, 3, 7, 23, 19, 1, 6, 14, 26, 21, 23, 14, 12, 29, 19, 24, 21, 3, 3, 20, 22, 15, 4, 25, 30, 23, 1, 7, 1, 8, 10, 26, 5, 16, 1, 2, 5, 17, 12, 17, 2, 25, 22, 10, 1, 2, 24, 11, 25, 5, 19, 22, 22, 25, 5, 19, 4, 22, 2, 28, 14, 1, 2, 11, 17, 29, 11, 5, 21, 21, 14, 1, 12, 26, 15, 1, 15, 14, 28, 1, 7, 29, 7, 11, 12, 23, 25, 18, 23, 2, 11, 9, 7, 13, 13, 19, 5, 25, 1, 7, 13, 4, 10, 8, 12, 29, 13, 22, 23, 7, 10, 7, 4, 24, 10, 23, 3, 25, 18, 2, 22, 18, 29, 3, 10, 16, 26, 30, 16, 1, 29, 3, 3, 1, 2, 9, 15, 17, 11, 25, 4, 8, 23, 5, 1, 2, 1, 2, 1, 7, 17, 12, 4, 1, 24, 18, 4, 5, 9, 13, 9, 5, 20, 8, 11, 3, 2, 3, 9, 15, 20, 15, 1, 15, 22, 30, 8, 1, 11, 23, 3, 19, 25, 1, 2, 16, 9, 11, 30, 14, 15, 21, 29, 10, 20, 7, 21, 25, 18, 6, 15, 12, 21, 8, 16, 3, 8, 28, 17, 2, 20, 9, 10, 13, 3, 29, 6, 8, 2, 3, 7, 4, 5, 7, 24, 3, 2, 26, 12, 4, 15, 15, 6, 20, 6, 11, 3, 7, 4, 29, 1, 16, 29, 19, 8, 22, 4, 20, 9, 11, 3, 26, 14, 7, 12, 1, 2, 22, 1, 15, 21, 9, 14, 16, 18, 21, 22, 14, 12, 16, 8, 30, 3, 5, 2, 17, 4, 9, 3, 3, 1, 6, 20, 23, 29, 24, 3, 11, 10, 1, 17, 18, 16, 26, 15, 29, 18, 3, 22, 6, 15, 12, 18, 10, 1, 2, 6, 2, 5, 9, 11, 6, 2, 4, 21, 1, 13, 4, 5, 23, 20, 24, 4, 15, 17, 22, 19, 18, 8, 9, 21, 28, 9, 16, 18, 2, 6, 20, 21, 5, 14, 10, 24, 22, 27, 12, 10, 15, 25, 15, 21, 9, 1, 28, 6, 2, 25, 28, 16, 25, 28, 30, 6, 27, 9, 28, 1, 1, 5, 20, 2, 5, 1, 19, 28, 28, 19, 14, 2, 30, 9, 18, 28, 18, 30, 5, 25, 19, 30, 29, 22, 21, 16, 2, 5, 12, 28, 1, 2, 6, 21, 14, 13, 19, 25, 21, 14, 2, 15, 17, 6, 4, 1, 2, 14, 6, 20, 9, 14, 4, 1, 17, 13, 8, 14, 14, 8, 5, 13, 13, 7, 5, 7, 19, 25, 1, 28, 28, 1, 6, 6, 17, 3, 23, 18, 5, 24, 6, 20, 1, 3, 21, 21, 1, 8, 8, 9, 10, 19, 14, 1, 9, 11, 8, 25, 22, 23, 3, 30, 1, 2, 23, 17, 18, 21, 20, 30, 1, 21, 4, 17, 1, 19, 3], \"Freq\": [0.999891027529491, 0.9992305804497036, 0.987931048535119, 0.01195244072070023, 0.9978909300022974, 0.9948694228259058, 0.9886198278030093, 0.01125630118829258, 0.9996027817101959, 0.9995698227053111, 0.9994454970013708, 0.9457693899140823, 0.054199528036421314, 0.9995340292017306, 0.9993716189294779, 0.994315539183535, 0.9919571596834005, 0.9984931346594464, 0.9936087005255535, 0.9994963953698436, 0.9967022707838269, 0.9853559858505468, 0.014377762439453504, 0.9999125123791647, 0.9968535247507736, 0.9986882546871783, 0.9992933181801776, 0.9999201503737006, 0.9972173732645772, 0.9996664812510385, 0.9992298540929067, 0.9997891888201227, 0.9998416594476544, 0.928837021395312, 0.07114156187967537, 0.9987317911483465, 0.9997976309241661, 0.9990017794476808, 0.9999537479692572, 0.9879628685400067, 0.011694876982202857, 0.9961286545015299, 0.9990228509680041, 0.9997386764091404, 0.9959680835668472, 0.9981155600688819, 0.9993000968569867, 0.9996513329571114, 0.9959769378918188, 0.9992836619833909, 0.9992820111442089, 0.9992460543451582, 0.9998237416850478, 0.9982938919850214, 0.9996087676931872, 0.9991259209283999, 0.9942899145131193, 0.9996613686483337, 0.9979015979623727, 0.9992777165388005, 0.2767276244969757, 0.7230850828972408, 0.9997181285014154, 0.9995913554999818, 0.8815389766539721, 0.1182539821436111, 0.4020143578406269, 0.5972784745060743, 0.9955950750506379, 0.9992403210178256, 0.9994979183558577, 0.9994074868099326, 0.1063102082688711, 0.8928516766929102, 0.9946012547537121, 0.9962037632247718, 0.9984711228630517, 0.9994421376476372, 0.9997896053458315, 0.9997186176953148, 0.9862180204388015, 0.9969613316386292, 0.999590564744772, 0.998956542702951, 0.9998238881712349, 0.9988803389967117, 0.9985965117027337, 0.9974361569706501, 0.9995816086769256, 0.9976915111647282, 0.998744762399493, 0.9996140797602278, 0.998889377292319, 0.999422448719417, 0.780432383954669, 0.21950079054804614, 0.9992793110154805, 0.9850171682259425, 0.9973627386328587, 0.1640239334909205, 0.8357219440549585, 0.9979536534397062, 0.9997595517127519, 0.9995162760620122, 0.9992016375225972, 0.998601514142833, 0.999943216028595, 0.9984955036974472, 0.9977964974545561, 0.9787522971475767, 0.7914443623284704, 0.1980582724905706, 0.010428732047069868, 0.9989568585021504, 0.9996971164553698, 0.9420749858226292, 0.0576540478417679, 0.9965754474715984, 0.9999219772806608, 0.999731604293289, 0.9993384539109484, 0.6669266138324745, 0.2448057311325916, 0.08810346593499788, 0.9880018068679356, 0.9678579203816317, 0.03210890620808015, 0.9976873838781666, 0.999719259870324, 0.9958860115325445, 0.9998992286724738, 0.44212927581405176, 0.09638633360812418, 0.36403052782354045, 0.097462073938572, 0.9994115572270618, 0.6401652934362447, 0.35980515824924064, 0.9951831456848349, 0.21262117589312032, 0.7867779842037561, 0.9998005627203903, 0.9999060536985864, 0.999880291494284, 0.9982113819223923, 0.9997927878927264, 0.029092539552092376, 0.9706897874208886, 0.9900682401150352, 0.9995265521289651, 0.9975945646520367, 0.9967100929874141, 0.9982689064211651, 0.9991004657712113, 0.9967710563281593, 0.9987456809229958, 0.9998328923809637, 0.9997781638540435, 0.9998387454990887, 0.9922931616085906, 0.9987171594810795, 0.9996198653671947, 0.9998587414178457, 0.9997563935052187, 0.9997227584281047, 0.9998335970468207, 0.9909104909470015, 0.9079164633788962, 0.09195615661820754, 0.994202058386308, 0.9998631635421773, 0.999594002629372, 0.9996700367410285, 0.9998819669800074, 0.9997164641099011, 0.9998203478309305, 0.9998942106029949, 0.9986741174237251, 0.9976418004278449, 0.9997711222794887, 0.9997193910651329, 0.999434737420187, 0.9997682461159092, 0.9899198515501819, 0.9996942708195583, 0.9997379307494234, 0.999801493414966, 0.9969748177010779, 0.9995100777186785, 0.9940940953859755, 0.5277951943643383, 0.28156692593296856, 0.13604830395818873, 0.01168128720334394, 0.042855952736558366, 0.9992657783521215, 0.9993088902003876, 0.9990536542620667, 0.9973910972537636, 0.9997698844818033, 0.9998187697272146, 0.9963679683679275, 0.9992987063659323, 0.9987900582033398, 0.9982931587965684, 0.9997669280170938, 0.9989962186053962, 0.999954717009902, 0.9996025713728317, 0.9992722570761965, 0.9946562166029408, 0.9998492623959704, 0.9941647776780458, 0.9977612316012449, 0.9990013974664436, 0.9996352883272132, 0.9963466495350346, 0.9902428097370142, 0.9997606018139277, 0.9537292783073491, 0.043288788683576274, 0.0028576950964708052, 0.5989174985586433, 0.2980347894634428, 0.10295229468804068, 0.9994302928459892, 0.9997878024174153, 0.9976888452994185, 0.9929345199714278, 0.9998202481638694, 0.9994585054820746, 0.9990622954221761, 0.9925406736939109, 0.9976409842618847, 0.9992911058459275, 0.999501919685411, 0.9994499428226323, 0.9991696946487613, 0.999114281842554, 0.024309093848148743, 0.90181971687642, 0.07292728154444622, 0.9996002470940434, 0.6776770584043005, 0.24325643351748164, 0.07837731846142827, 0.9998428396248467, 0.9996347415030352, 0.9998314175827078, 0.9880481852682866, 0.9988626213329193, 0.9975850477656392, 0.9997984239493726, 0.9848969323220996, 0.9993222147100891, 0.9963935568293377, 0.9280615135069377, 0.07177560400451491, 0.999543307879831, 0.9976390626136018, 0.9985404539248893, 0.7486138114226413, 0.25100753629954287, 0.9994448685356043, 0.999082582510129, 0.9921739872845966, 0.7712384873834702, 0.22851510737288006, 0.9997244471452508, 0.9976985960379665, 0.9995751466508727, 0.9995905415406885, 0.9997026257657036, 0.9987364798637023, 0.9992616228928694, 0.9994246774852583, 0.9990772565857866, 0.9979668734325409, 0.987479858741788, 0.9958508755015192, 0.9839824886122904, 0.9994380793321139, 0.9994915893518552, 0.9990693372265799, 0.9989327062143606, 0.9924245333556576, 0.9987431814802114, 0.9951667471127844, 0.9998733654357802, 0.9912311377983851, 0.008704664276618503, 0.9997201143210934, 0.9988211878609198, 0.9992527045674626, 0.9844764878757726, 0.9979450958261583, 0.9956194102717595, 0.9998603194436894, 0.6835544065934206, 0.06751154633021438, 0.24847999690981679, 0.6441604621537255, 0.3556053108915547, 0.9960714550656766, 0.9970719822501253, 0.9998058937076086, 0.9983236162366418, 0.9994843482719784, 0.9814733396879846, 0.9988980147860577, 0.9997919517073321, 0.9999693482357005, 0.9990068918745306, 0.9984359414700463, 0.9951955578923074, 0.9990133074279257, 0.9972992483442922, 0.9998232592757937, 0.9999061887808098, 0.9999087197678593, 0.9999070179839685, 0.998276912268035, 0.9985899292331101, 0.9979072361123459, 0.9983033988961875, 0.9997392866315442, 0.9994155916353218, 0.9994865564899729, 0.17280978635273436, 0.49824492758843175, 0.32869570324235275, 0.9997867298788404, 0.9984165294814541, 0.9996390791441191, 0.9997481215769598, 0.9909519207860003, 0.9989703564242195, 0.9985709206872417, 0.9990251256433085, 0.9994153521689001, 0.7498622569995229, 0.12417887012272212, 0.1258592337238415, 0.19001461005680467, 0.8088975367880039, 0.8722347346092845, 0.09365626539181988, 0.03402736285861968, 0.9966504427287838, 0.924295214294572, 0.0754154944260845, 0.9837616198753268, 0.999800413117526, 0.9996045911062477, 0.08979484302343176, 0.10211045517421494, 0.8079976933861924, 0.9925724183156721, 0.9999755698839373, 0.9992708145020788, 0.9970882443717661, 0.9996991588208551, 0.9997429946877455, 0.7884565570569153, 0.16327330473567983, 0.048238982849834716, 0.9908779715681679, 0.014648020400400388, 0.9747283864127704, 0.010583829769075424, 0.24738212125710635, 0.7519114475051523, 0.9052536383287435, 0.041584782519110214, 0.05296175132150829, 0.9846036690965442, 0.9994253383503711, 0.9997675247017553, 0.5161300945150524, 0.4297255699625497, 0.05411326307608176, 0.999779279095379, 0.9969103121865569, 0.9965082912604504, 0.9991851372981232, 0.9989881150159241, 0.9980595385886813, 0.9998617123095395, 0.9997359077543286, 0.9950324562232765, 0.999761279676501, 0.9998377481512644, 0.9989750617684212, 0.9942590100312271, 0.9981936719936089, 0.7787312382040729, 0.16294676464372224, 0.017533726468119324, 0.040444462386461905, 0.999507296110363, 0.9999527955879673, 0.9993678465443927, 0.9944652742105647, 0.8597348911395468, 0.043492754442457454, 0.09662379241786948, 0.9995741178248748, 0.31325276732599266, 0.6335468316396071, 9.438735908340143e-05, 0.053083450748504964, 0.9998462287287049, 0.9998839440378164, 0.9907920270018692, 0.9855973274064112, 0.9993313476004799, 0.9977871726749008, 0.9997020513717828, 0.9965758247716335, 0.9886556784465862, 0.9980841013060401, 0.9993357888643183, 0.9998071872444901, 0.99885208066586, 0.9904751048433474, 0.9994241898515656, 0.9938243040753112, 0.9993476351982222, 0.9998805912745489, 0.9979264877949696, 0.9995587897063029, 0.6866337745135005, 0.31328464691974656, 0.015441605321826849, 0.708508981844341, 0.23062137818312828, 0.01714619811709345, 0.028276186368540075, 0.9993120006211746, 0.9993931680800965, 0.9979696258990046, 0.9996892214775416, 0.9988729948302166, 0.9983798663253456, 0.001498693819852908, 0.9997305272479746, 0.5713780801701882, 0.31313207595533715, 0.11504965037909579, 0.2603914284335494, 0.7395402711939653, 0.9978493939844202, 0.9982724963835642, 0.992675586480572, 0.9999088722920861, 0.9984154455019526, 0.804293614726871, 0.19557857699472314, 0.9987529843154276, 0.9999316558817126, 0.9998819361634279, 0.9976471217948062, 0.3050371319741597, 0.6947088439180285, 0.9999028525704213, 0.9984074815845009, 0.9983740772939806, 0.9999023912647791, 0.9994439028883574, 0.9939842351471254, 0.3287285503873856, 0.6710704351764212, 0.9996950598944071, 0.9989805471461225, 0.7696604985056146, 0.05544243707401589, 0.17454100560338337, 0.9972760516611424, 0.9998155692957698, 0.9994220824026274, 0.9999443553900724, 0.999367394750179, 0.998390045997744, 0.99823991113002, 0.9993545173867505, 0.9962031460549043, 0.9959667353355429, 0.9982048625476547, 0.9995987031854116, 0.9995862601820927, 0.9917527369865948, 0.9993616318229616, 0.998668313413694, 0.9980854121466163, 0.9996512881226634, 0.9996535515726299, 0.23482777010560257, 0.7207105549225132, 0.04434880462920569, 0.999913078594241, 0.997582374059157, 0.998501557924249, 0.9999160626420884, 0.9997868951741757, 0.9956719717322133, 0.9995285992499662, 0.9997131482140902, 0.9993431554897027, 0.999197919555308, 0.30665447349515756, 0.4360436759725895, 0.2569211436752834, 0.9985582166406813, 0.9989009153599467, 0.9373944381526497, 0.06235885747367412, 0.9972326027118515, 0.9998811889809464, 0.9999189614047272, 0.999813655174211, 0.9993738515659327, 0.9994293393674188, 0.9355595659001976, 0.06410759942225612, 0.18352851654243907, 0.5725707365047968, 0.2437488110329269, 0.999234834485985, 0.9984923389441942, 0.9994891103235551, 0.999316291076618, 0.9970291898313078, 0.9994233600341541, 0.43641059205439703, 0.4385603979265862, 0.10581822237553251, 0.018870518211438078, 0.9835754190695459, 0.9995145238107448, 0.9998846852038276, 0.6511364191910447, 0.3483839422864381, 0.9997578973872001, 0.9998590158779033, 0.9993180806842574, 0.999626376995743, 0.998958924417356, 0.9996855796052322, 0.9999406569695329, 0.9982686327220475, 0.9997907334072853, 0.9991871412310873, 0.9983189557800501, 0.9999169094619029, 0.9998914875172171, 0.9994575734052217, 0.999772347029665, 0.9993222503730466, 0.9997596205168604, 0.9999220940183259, 0.9996838779531978, 0.6973303238762388, 0.13039879942021426, 0.17209608993249206, 0.9970754700840186, 0.9999035454111086, 0.9996062010184559, 0.998147149476672, 0.9705435692945015, 0.9996696847870877, 0.32643743273235176, 0.006233784230100802, 0.13600292667866262, 0.14102036276630472, 0.00539754488216045, 0.38474612181146534, 0.9929668803951102, 0.9976356333104062, 0.9999489869747463, 0.9988082759135275, 0.9977180238920532, 0.9991645811172818, 0.9367755277232679, 0.06306888976024472, 0.9997103739573023, 0.9991173875259148, 0.9996247041424214, 0.9989718718456518, 0.9992765978128577, 0.9970394071574465, 0.9985944687890301, 0.9754796851336459, 0.999386889320655, 0.999807731563262, 0.999247332227951, 0.9999018346862082, 0.2743463020792024, 0.33471832382101824, 0.3908840981463961, 0.9994462307383034, 0.9960180601230773, 0.9986975754209085, 0.15469499546369878, 0.8441689268583562, 0.995758973863684, 0.9991788613279383, 0.7560238342811056, 0.2437488608564573, 0.999597128818911, 0.9991636402780734, 0.9995982801883739, 0.9999019457624483, 0.9981882562995156, 0.9998606952845784, 0.9985803712192605, 0.9983839525675424, 0.9977022618451216, 0.9976276493697833, 0.999723595194377, 0.9996388621342109, 0.9998556293604601, 0.9987899262580331, 0.9994558652915395, 0.9999553030858923, 0.9994647403372686, 0.999721952609516, 0.9938985245157851, 0.9999246556016368, 0.9973686083299588, 0.8448946576336027, 0.15468251707022962, 0.9998548364260365, 0.999439002240223, 0.1344771914067064, 0.8648656733052189, 0.042228332682483036, 0.4725355904255803, 0.48521504440222724, 0.9994237952101572, 0.9994473066781603, 0.9991423077210367, 0.836563684513435, 0.16304419781817678, 0.9996994727075974, 0.9991833856718887, 0.6199937971022406, 0.022894266360885488, 0.3569230345703266, 0.9962152050285646, 0.9966525210882722, 0.4177095167259345, 0.5821711912088433, 0.9998741171267543, 0.9987778860979777, 0.9946783542275534, 0.13777814556319687, 0.8621823347766318, 0.9324279400340447, 0.0665350590376052, 0.9996872925527674, 0.9988634463420593, 0.9991459144314208, 0.11912331303133462, 0.5747699853761896, 0.3059303266486548, 0.9973116515391657, 0.9985800190030294, 0.9962719476793265, 0.997988925616223, 0.9984948018171284, 0.9979397664171857, 0.9949492849808459, 0.62318246296147, 0.2707155963531761, 0.1059504879625528, 0.9988632092824765, 0.861895418616141, 0.13796260573373686, 0.9999279498956946, 0.9978412663894832, 0.8540335023310025, 0.12449318600265963, 0.020492705514841093, 0.8122837907221367, 0.14569306255202186, 0.009712870836801458, 0.03213641215139248, 0.995817505707486, 0.9991696177790359, 0.9915144917832803, 0.9998084248125508, 0.999902732666408, 0.9999156249599808, 0.999373871726586, 0.99972549548543, 0.9998229198368067, 0.9996968098185324, 0.19104510950298273, 0.8079440754311163, 0.7023888927408035, 0.1910311416409482, 0.10483416309564231, 0.6791266192686836, 0.3203719466468038, 0.9995630282771528, 0.25492866299915024, 0.7449964447627047, 0.9996522391202316, 0.9981805612074497, 0.9991570464546181, 0.2783299310355352, 0.7210886213289865, 0.999547903606001, 0.9994365666203944, 0.9971233816472945, 0.9987462952997906, 0.9996334458304914, 0.9996571240310328, 0.9964541605256094, 0.9994120867407997, 0.9994904110953455, 0.9993693531253263, 0.9998375569780455, 0.997911103471012, 0.9998442543930124, 0.9994615870408605, 0.9903180409249678, 0.9991945920837074, 0.9937947507001696, 0.9997844860015861, 0.941744347867682, 0.05443608947212035, 0.9994384471574249, 0.9998705025622221, 0.07411603832056243, 0.13864181570513084, 0.7871310905183782, 0.9979864302755997, 0.9970365711055728, 0.9960702807830748, 0.9977287174058997, 0.9995816780284587, 0.9898254484695059, 0.9998704898445913, 0.9998890995293227, 0.8202406508147818, 0.17968195979989607, 0.0024733055171235227, 0.9973873335356814, 0.8922186886782238, 0.10731875736459769, 0.9995914622804227, 0.999395025316703, 0.99928541035921, 0.9001262262195491, 0.09955692264402691, 0.9999189707005297, 0.9998730626389686, 0.999768417690884, 0.9987672600423347, 0.9995002566952531, 0.9992419696607155, 0.9999729681456874, 0.9978150139704824, 0.8851383062879012, 0.11364215894126962, 0.9997793917713765, 0.31657427284446293, 0.683234861377414, 0.9996789791511858, 0.9975652478750774, 0.9998543343331574, 0.9997800343065125, 0.9999340370201749, 0.9992544954229635, 0.9996807414823119, 0.9969099767236995, 0.9998118296771433, 0.7984888614913462, 0.20135456763805173, 0.9985573406772306, 0.9992821856214787, 0.9572294777715045, 0.042096133821691396, 0.9998025398372007, 0.5041324410454197, 0.4954836677904644, 0.09858846521454433, 0.8034959914985362, 0.09661669591025343, 0.9958082446091615, 0.9995992985986811, 0.9979167638092985, 0.9989717100277455, 0.999828916058404, 0.997997784956447, 0.9984800384286691, 0.9983469192944534, 0.9984549310122754, 0.998999016693005, 0.9652779968249935, 0.9987131289037076, 0.9997238805500362, 0.9988315293754173, 0.9968933244818403, 0.999465373430421, 0.8132986128141747, 0.18656824962295013, 0.9987076349924243, 0.9981157614030273, 0.9997526669599708, 0.9977741851807718, 0.9999216473141936, 0.9146401280453561, 0.08528066959168167, 0.9989418474038487, 0.9987284848290949, 0.9994675613598577, 0.9997138697151284, 0.9998714922399065, 0.9996596754276792, 0.9998640345833888, 0.9992909261809084, 0.3058098007506038, 0.6938659455169675, 0.00029643177725208333, 0.9998357807483061, 0.9954427193320807, 0.9376477008874478, 0.9997270013360049, 0.999745031418093, 0.9997042785550883, 0.9963429706889124, 0.9999402654371587, 0.9996872102824148, 0.9900133537170862, 0.9988550662671107, 0.9952043517557967, 0.004544312108473957, 0.9734710712281578, 0.026171875050872546, 0.9998604261855327, 0.9945244986183275, 0.9994718278578177, 0.9980465776498739, 0.9958293360442398, 0.9972612572028455, 0.9996406999586527, 0.9980922963823308, 0.9843956704140943, 0.015508646842877543, 0.999645749197445, 0.9997424572175871, 0.9985534043971278, 0.9994904437155089, 0.9995579702792883, 0.8751185538152296, 0.12477264327200181, 0.9990560681799765, 0.9999219115191094, 0.9998286838309933, 0.9973000666283769, 0.9985695195132671, 0.9998853435102797, 0.9997874762475844, 0.980262249483718, 0.9961702514786234, 0.9918831404530353, 0.9982059229057239, 0.9990426193842123, 0.9999463007901208, 0.9999096510825818, 0.9997551998532029, 0.949926861379812, 0.05001909250583156, 0.9997025701951396, 0.9979840976110762, 0.9998090273100901, 0.9883547216555303, 0.9998592747297701, 0.9996906476283679, 0.9998161130519404, 0.9983763815499, 0.9998006316977993, 0.9997732331530947, 0.9998122354667309, 0.9992772656050641, 0.9994227343021044, 0.9992055367597147, 0.998960422897377, 0.9999078852630896, 0.9996485768377883, 0.9998468207543691, 0.9991903271445017, 0.9992575388745933, 0.999338313271858, 0.9939316952269821, 0.998673392923571, 0.9997393921739138, 0.9994069582437156, 0.9896497125813954, 0.9997820588630209, 0.9995373281289793, 0.9996518740200188, 0.9994345983014904, 0.016912927498187666, 0.9464224820760038, 0.036553746528341084, 0.9997817691498817, 0.9998530138227167, 0.8798979139027253, 0.1197819054660545, 0.999665220608174, 0.9997097382476507, 0.9998640773294054, 0.9986621246479637, 0.6194571794129614, 0.37790783901293873, 0.9996748654661843, 0.5285034389186799, 0.4714662265613937, 0.9978734323461399, 0.9995871628286802, 0.9995112827350624, 0.9634115024079228, 0.03522149578695632, 0.9989599172888148, 0.9985752027170878, 0.9996831668411522, 0.9907446207140306, 0.28236854501974307, 0.7175390362984266, 0.9985702095892552, 0.9993590107649166, 0.9967645083874447, 0.9732041540003477, 0.73341434875084, 0.26601966232433766, 0.9995623129011749, 0.9993618861290584, 0.8770634431164042, 0.12268748741859527, 0.999898560860255, 0.9879381378847079, 0.9986507013429043, 0.9958853020973677, 0.9993647271673979, 0.9501030510619725, 0.04940898500274571, 0.9999215734219726, 0.9998838485302347, 0.9989831570522313, 0.9997110418283628, 0.9998796297789971, 0.9981296521269362, 0.999761490610965, 0.9998311467074672, 0.9976568629824221, 0.9985525050575766, 0.9973655718335925, 0.9998429706408445, 0.9982746841400125, 0.9983170124600885, 0.999926889276156, 0.9999219436984573, 0.9955726787389908, 0.9986536477153035, 0.999776434518051, 0.9997897774069809, 0.9997881451599264, 0.9998511930844323, 0.6066820617307344, 0.39322284043615763, 0.9858802821795689, 0.014076047375374668, 0.9990847988837391, 0.9977388789191131, 0.9994592408305304, 0.9982115649430177, 0.9997275710767374, 0.9995522700930123, 0.9889861426400449, 0.9997511930070065, 0.9968081065595734, 0.9911156113298414, 0.9989292226126111, 0.9986522580324819, 0.9917725450626443, 0.9993428015786314, 0.9994053695976173, 0.9994320708513417, 0.9968738689408072, 0.9992907827225225, 0.9918622532617607, 0.9279142636449723, 0.011524298052152132, 0.060537276514919636, 0.9960671900501038, 0.33656319117846356, 0.6498355683621121, 0.013551902199277144, 0.9992887089346345, 0.9977365082568982, 0.9999693044102348, 0.991958482614424, 0.9973353926137944, 0.9981216697214362, 0.9982749514724287, 0.9994836012639868, 0.9935218700390888, 0.9947153257613344, 0.9997727945001432, 0.9995611032767455, 0.026168718008426357, 0.9736972595114208, 0.9994478512507378, 0.992681050078579, 0.9982880683551102, 0.976699440940316, 0.023148895869092405, 0.9992753229938537, 0.9999906040441909, 0.9954058278468081, 0.9999394794826102, 0.999700476254931, 0.9985349200128365, 0.9991219019345623, 0.9961772002461228, 0.9989642329875904, 0.9994107830553974, 0.9994167579362927, 0.9999507203748643, 0.03136543496086178, 0.968423550116889, 0.9983239019955041, 0.9998380115280643, 0.9999391308523371, 0.99945660811495, 0.9969396702978494, 0.29915751317726647, 0.6997534934663647, 0.9999035707593982, 0.9983102582980027, 0.9999090274548383, 0.9968955694664481, 0.999651702121166, 0.8692484047094451, 0.1306814488020612, 0.9967434976042042, 0.9994430355016786, 0.9911924840492905, 0.00874979321446288, 0.9995675663070817, 0.9992709562775494, 0.9999619054879821, 0.9971105648886038, 0.9998766009862569, 0.9993982583522532, 0.998981667624004, 0.998195334073061, 0.998709469384528, 0.999817245526737, 0.999597880068566, 0.9984449169802405, 0.9998925700222628, 0.9983868222962338, 0.9967732235537418, 0.9932545062378141, 0.9995201542492802, 0.9995986991652387, 0.7974794734400059, 0.20250782519605315, 0.999588361857933, 0.9968592763189781, 0.9986612927027102, 0.9951240013203129, 0.9966977184947463, 0.9986351213927321, 0.9999054504765157, 0.9991959834906607, 0.7454455709821103, 0.25438727589883103, 0.33176385508782946, 0.668000930693697, 0.9993152175090235], \"Term\": [\"able\", \"abstract\", \"access\", \"access\", \"accomplish\", \"accurate\", \"action\", \"action\", \"active\", \"activity\", \"actual\", \"add\", \"add\", \"address\", \"advance\", \"advanced\", \"advise\", \"agent\", \"aggregate\", \"ajax\", \"alive\", \"allow\", \"allow\", \"also\", \"alt\", \"alter\", \"alternative\", \"android\", \"angle\", \"angular\", \"annotation\", \"answer\", \"api\", \"app\", \"app\", \"apparently\", \"appear\", \"apple\", \"application\", \"apply\", \"apply\", \"appsetting\", \"architecture\", \"argument\", \"argv\", \"arraylist\", \"article\", \"asp\", \"aspx\", \"assembly\", \"asset\", \"attach\", \"attribute\", \"authenticate\", \"authentication\", \"author\", \"authority\", \"auto\", \"automate\", \"aw\", \"back\", \"back\", \"background\", \"bar\", \"base\", \"base\", \"basically\", \"basically\", \"bear\", \"become\", \"begin\", \"behavior\", \"believe\", \"believe\", \"benchmark\", \"benefit\", \"beta\", \"big\", \"bind\", \"bit\", \"blah\", \"blob\", \"block\", \"blog\", \"body\", \"book\", \"border\", \"bracket\", \"break\", \"breakpoint\", \"bring\", \"browser\", \"btn\", \"buffer\", \"build\", \"build\", \"builder\", \"bullet\", \"bunch\", \"bundle\", \"bundle\", \"business\", \"button\", \"byte\", \"calculate\", \"calendar\", \"call\", \"cancel\", \"candidate\", \"capacity\", \"case\", \"case\", \"case\", \"cast\", \"catch\", \"cause\", \"cause\", \"chance\", \"change\", \"character\", \"chart\", \"check\", \"check\", \"check\", \"checksum\", \"class\", \"class\", \"clause\", \"clear\", \"clicking\", \"client\", \"close\", \"close\", \"close\", \"close\", \"cluster\", \"code\", \"code\", \"coefficient\", \"collection\", \"collection\", \"color\", \"column\", \"com\", \"combination\", \"command\", \"comment\", \"comment\", \"commercial\", \"common\", \"communicate\", \"communication\", \"community\", \"company\", \"comparison\", \"compilation\", \"compile\", \"complete\", \"component\", \"concatenate\", \"concurrent\", \"config\", \"configuration\", \"configure\", \"connect\", \"connection\", \"consecutive\", \"consider\", \"consider\", \"consideration\", \"console\", \"constraint\", \"constructor\", \"contain\", \"container\", \"content\", \"context\", \"continue\", \"contract\", \"control\", \"controller\", \"conversion\", \"convert\", \"cool\", \"copy\", \"core\", \"correct\", \"cost\", \"course\", \"crazy\", \"create\", \"create\", \"create\", \"create\", \"create\", \"credential\", \"cs\", \"customer\", \"customize\", \"data\", \"database\", \"datacontext\", \"dataframe\", \"dataset\", \"datatable\", \"date\", \"datetime\", \"datum\", \"day\", \"db\", \"dbo\", \"debug\", \"debugg\", \"debugger\", \"declaration\", \"declare\", \"decltype\", \"dedicated\", \"def\", \"default\", \"default\", \"default\", \"define\", \"define\", \"define\", \"definition\", \"delete\", \"delphi\", \"demonstrate\", \"dependency\", \"deploy\", \"deprecate\", \"deprecation\", \"derive\", \"design\", \"desktop\", \"detail\", \"determine\", \"dev\", \"develop\", \"develop\", \"develop\", \"developer\", \"development\", \"development\", \"development\", \"device\", \"difference\", \"different\", \"dig\", \"dim\", \"directive\", \"directory\", \"dirty\", \"disable\", \"disappear\", \"display\", \"display\", \"dist\", \"distance\", \"distribute\", \"div\", \"div\", \"django\", \"dll\", \"dllimport\", \"do\", \"do\", \"document\", \"dom\", \"domain\", \"double\", \"download\", \"drag\", \"draw\", \"driver\", \"drop\", \"dropdown\", \"dst\", \"dtype\", \"dual\", \"duplicate\", \"dynamic\", \"dynamically\", \"edge\", \"edition\", \"efficient\", \"efficiently\", \"element\", \"else\", \"else\", \"email\", \"embed\", \"employee\", \"enclose\", \"encrypt\", \"encryption\", \"end\", \"engine\", \"engine\", \"engine\", \"enter\", \"enter\", \"enterprise\", \"entirely\", \"entity\", \"env\", \"environment\", \"equality\", \"equivalent\", \"err\", \"error\", \"escape\", \"especially\", \"essential\", \"evaluate\", \"evaluation\", \"even\", \"event\", \"example\", \"exception\", \"exclude\", \"exe\", \"exec\", \"executable\", \"execute\", \"execution\", \"exit\", \"expect\", \"expect\", \"expect\", \"export\", \"expose\", \"expression\", \"extend\", \"extern\", \"extract\", \"face\", \"fact\", \"factory\", \"fail\", \"fail\", \"fail\", \"failure\", \"failure\", \"false\", \"false\", \"false\", \"familiar\", \"fast\", \"fast\", \"feasible\", \"feature\", \"fetch\", \"field\", \"field\", \"field\", \"fieldset\", \"file\", \"filename\", \"files\", \"filter\", \"final\", \"find\", \"find\", \"find\", \"firewall\", \"first\", \"first\", \"first\", \"fit\", \"fit\", \"fix\", \"fix\", \"fix\", \"flatten\", \"float\", \"folder\", \"follow\", \"follow\", \"follow\", \"foo\", \"footer\", \"for\", \"force\", \"foreach\", \"foreign\", \"form\", \"format\", \"forms\", \"frame\", \"framework\", \"free\", \"friend\", \"friendly\", \"full\", \"full\", \"full\", \"full\", \"fun\", \"function\", \"functionality\", \"gain\", \"generate\", \"generate\", \"generate\", \"generic\", \"get\", \"get\", \"get\", \"get\", \"give\", \"good\", \"googling\", \"gracefully\", \"graph\", \"groovy\", \"group\", \"grow\", \"grunt\", \"gui\", \"handler\", \"happen\", \"hard\", \"hardcode\", \"hash\", \"hashset\", \"head\", \"header\", \"hear\", \"height\", \"help\", \"help\", \"here\", \"here\", \"here\", \"here\", \"here\", \"hide\", \"high\", \"history\", \"host\", \"hour\", \"however\", \"however\", \"html\", \"id\", \"id\", \"id\", \"idea\", \"idea\", \"identify\", \"iframe\", \"illegal\", \"image\", \"impl\", \"implement\", \"implement\", \"implicit\", \"import\", \"include\", \"indeed\", \"index\", \"index\", \"info\", \"inherit\", \"inner\", \"input\", \"insert\", \"insertion\", \"instal\", \"instal\", \"install\", \"installation\", \"instance\", \"instance\", \"instance\", \"instanceof\", \"instead\", \"instruction\", \"int\", \"integer\", \"integrate\", \"integration\", \"intent\", \"interact\", \"interactive\", \"interested\", \"interface\", \"internal\", \"internally\", \"internet\", \"interval\", \"introduce\", \"invoke\", \"io\", \"issue\", \"issue\", \"issue\", \"item\", \"iterate\", \"iteration\", \"java\", \"javascript\", \"jenkin\", \"job\", \"join\", \"jquery\", \"js\", \"json\", \"json\", \"json\", \"jump\", \"just\", \"keep\", \"keep\", \"kernel\", \"key\", \"know\", \"label\", \"lambda\", \"lang\", \"large\", \"large\", \"last\", \"last\", \"last\", \"late\", \"latitude\", \"layer\", \"lead\", \"leaf\", \"least\", \"leave\", \"leave\", \"leave\", \"leave\", \"legal\", \"length\", \"let\", \"level\", \"level\", \"lib\", \"library\", \"license\", \"like\", \"likely\", \"limit\", \"line\", \"linear\", \"link\", \"linq\", \"linux\", \"list\", \"load\", \"loading\", \"local\", \"localhost\", \"location\", \"log\", \"login\", \"long\", \"long\", \"long\", \"longitude\", \"look\", \"loop\", \"love\", \"lowercase\", \"machine\", \"main\", \"main\", \"main\", \"main\", \"main\", \"main\", \"mainly\", \"maintain\", \"make\", \"management\", \"manifest\", \"manually\", \"many\", \"many\", \"map\", \"master\", \"match\", \"material\", \"matrix\", \"max\", \"maximum\", \"me\", \"member\", \"memory\", \"menu\", \"message\", \"method\", \"method\", \"method\", \"microsoft\", \"mid\", \"migrate\", \"min\", \"min\", \"minimize\", \"minute\", \"miss\", \"miss\", \"mock\", \"modal\", \"mode\", \"model\", \"models\", \"module\", \"monitor\", \"month\", \"most\", \"mouse\", \"move\", \"much\", \"multiple\", \"mvc\", \"mysql\", \"name\", \"namespace\", \"native\", \"natively\", \"need\", \"negative\", \"nest\", \"nest\", \"net\", \"network\", \"never\", \"never\", \"new\", \"new\", \"new\", \"node\", \"node_module\", \"nodejs\", \"non\", \"non\", \"none\", \"normal\", \"note\", \"note\", \"note\", \"npm\", \"nsstre\", \"null\", \"null\", \"number\", \"numpy\", \"nunit\", \"object\", \"object\", \"obviously\", \"obviously\", \"occur\", \"official\", \"offset\", \"open\", \"open\", \"open\", \"opengl\", \"openssl\", \"operate\", \"opinion\", \"opt\", \"optimize\", \"optimizer\", \"option\", \"option\", \"option\", \"oracle\", \"order\", \"order\", \"org\", \"organization\", \"original\", \"original\", \"original\", \"output\", \"output\", \"output\", \"output\", \"outside\", \"overflow\", \"overlook\", \"override\", \"package\", \"page\", \"panda\", \"param\", \"parameter\", \"parse\", \"partial\", \"partial\", \"pas\", \"pas\", \"pas\", \"pass\", \"pass\", \"password\", \"path\", \"path\", \"pattern\", \"pd\", \"pdf\", \"perfectly\", \"perfectly\", \"performance\", \"permission\", \"personal\", \"phone\", \"php\", \"place\", \"plain\", \"platform\", \"play\", \"plot\", \"plugin\", \"png\", \"point\", \"pointer\", \"polling\", \"pool\", \"popular\", \"port\", \"portion\", \"portion\", \"position\", \"possible\", \"post\", \"post\", \"post\", \"postgresql\", \"practical\", \"preferably\", \"previously\", \"primary\", \"principle\", \"print\", \"private\", \"problem\", \"problem\", \"process\", \"process\", \"produce\", \"produce\", \"product\", \"production\", \"profile\", \"program\", \"program\", \"project\", \"property\", \"protect\", \"protocol\", \"provider\", \"proxy\", \"public\", \"pure\", \"purpose\", \"purpose\", \"push\", \"put\", \"put\", \"px\", \"pyspark\", \"python\", \"query\", \"question\", \"rail\", \"range\", \"ratio\", \"react\", \"read\", \"read\", \"reader\", \"real\", \"realize\", \"realize\", \"really\", \"receive\", \"receive\", \"recommend\", \"recommend\", \"recommend\", \"recommendation\", \"record\", \"recreate\", \"reduce\", \"reference\", \"reflection\", \"refuse\", \"region\", \"registry\", \"regular\", \"regularly\", \"relationship\", \"release\", \"relevant\", \"remember\", \"remote\", \"render\", \"render\", \"repeat\", \"reply\", \"report\", \"reproduce\", \"request\", \"require\", \"require\", \"requirement\", \"resize\", \"resolve\", \"resource\", \"response\", \"rest\", \"result\", \"retrieve\", \"return\", \"return\", \"return\", \"right\", \"roll\", \"rolling\", \"root\", \"route\", \"row\", \"ruby\", \"run\", \"runtime\", \"sadly\", \"safe\", \"sample\", \"sample\", \"save\", \"save\", \"say\", \"scalar\", \"scale\", \"scheme\", \"school\", \"scipy\", \"scope\", \"score\", \"script\", \"script\", \"scroll\", \"search\", \"secret\", \"section\", \"security\", \"see\", \"see\", \"seed\", \"seem\", \"select\", \"selection\", \"selenium\", \"self\", \"send\", \"seo\", \"separator\", \"serie\", \"series\", \"serve\", \"server\", \"service\", \"session\", \"set\", \"set\", \"setup\", \"shader\", \"share\", \"ship\", \"show\", \"similar\", \"simple\", \"simulator\", \"single\", \"site\", \"size\", \"slow\", \"small\", \"socket\", \"software\", \"solution\", \"sort\", \"source\", \"space\", \"span\", \"spark\", \"sparse\", \"special\", \"specific\", \"speed\", \"sprite\", \"sql\", \"src\", \"stack\", \"standard\", \"start\", \"start\", \"start\", \"state\", \"static\", \"status\", \"status\", \"step\", \"stop\", \"store\", \"strange\", \"strategy\", \"strategy\", \"stream\", \"string\", \"string\", \"strong\", \"struct\", \"structure\", \"struggle\", \"struggle\", \"stub\", \"student\", \"studio\", \"study\", \"style\", \"style\", \"subject\", \"submit\", \"substre\", \"subversion\", \"successfully\", \"successfully\", \"suggest\", \"sum\", \"super\", \"super\", \"support\", \"surprising\", \"suspect\", \"swiftui\", \"symbol\", \"syntax\", \"syntax\", \"system\", \"table\", \"tableview\", \"tag\", \"take\", \"talk\", \"target\", \"task\", \"team\", \"technique\", \"technology\", \"template\", \"temporary\", \"terminal\", \"test\", \"text\", \"textarea\", \"theme\", \"thing\", \"think\", \"this\", \"thread\", \"throw\", \"throw\", \"time\", \"time\", \"timer\", \"timespan\", \"timestamp\", \"timezone\", \"title\", \"token\", \"ton\", \"tool\", \"toolkit\", \"tools\", \"topic\", \"tostre\", \"tr\", \"track\", \"transaction\", \"transform\", \"trick\", \"trigger\", \"trim\", \"true\", \"true\", \"true\", \"truncate\", \"try\", \"try\", \"try\", \"turn\", \"twitter\", \"type\", \"udf\", \"ui\", \"uitableview\", \"uiwebview\", \"unable\", \"underlying\", \"uniform\", \"unit\", \"unknown\", \"update\", \"update\", \"upload\", \"uploaded\", \"upper\", \"url\", \"url\", \"usage\", \"use\", \"useless\", \"user\", \"username\", \"utc\", \"util\", \"utilize\", \"val\", \"valid\", \"validation\", \"value\", \"var\", \"var\", \"varchar\", \"variable\", \"ve\", \"verbose\", \"verification\", \"verify\", \"verify\", \"version\", \"vertex\", \"view\", \"visibility\", \"visual\", \"void\", \"void\", \"vs\", \"wait\", \"want\", \"want\", \"warn\", \"warning\", \"way\", \"wcf\", \"web\", \"website\", \"webview\", \"week\", \"weight\", \"well\", \"width\", \"win\", \"window\", \"windows\", \"winform\", \"wire\", \"wonder\", \"word\", \"work\", \"work\", \"worker\", \"workflow\", \"world\", \"worry\", \"wpf\", \"wrapper\", \"write\", \"xcode\", \"xml\", \"xml\", \"year\", \"year\", \"yet\"]}, \"R\": 30, \"lambda.step\": 0.01, \"plot.opts\": {\"xlab\": \"PC1\", \"ylab\": \"PC2\"}, \"topic.order\": [15, 6, 12, 10, 29, 26, 8, 21, 4, 2, 20, 24, 28, 3, 18, 23, 25, 14, 5, 7, 27, 17, 9, 11, 13, 22, 30, 19, 1, 16]};\n",
       "\n",
       "function LDAvis_load_lib(url, callback){\n",
       "  var s = document.createElement('script');\n",
       "  s.src = url;\n",
       "  s.async = true;\n",
       "  s.onreadystatechange = s.onload = callback;\n",
       "  s.onerror = function(){console.warn(\"failed to load library \" + url);};\n",
       "  document.getElementsByTagName(\"head\")[0].appendChild(s);\n",
       "}\n",
       "\n",
       "if(typeof(LDAvis) !== \"undefined\"){\n",
       "   // already loaded: just create the visualization\n",
       "   !function(LDAvis){\n",
       "       new LDAvis(\"#\" + \"ldavis_el70991406594879901447149691133\", ldavis_el70991406594879901447149691133_data);\n",
       "   }(LDAvis);\n",
       "}else if(typeof define === \"function\" && define.amd){\n",
       "   // require.js is available: use it to load d3/LDAvis\n",
       "   require.config({paths: {d3: \"https://d3js.org/d3.v5\"}});\n",
       "   require([\"d3\"], function(d3){\n",
       "      window.d3 = d3;\n",
       "      LDAvis_load_lib(\"https://cdn.jsdelivr.net/gh/bmabey/pyLDAvis@3.4.0/pyLDAvis/js/ldavis.v3.0.0.js\", function(){\n",
       "        new LDAvis(\"#\" + \"ldavis_el70991406594879901447149691133\", ldavis_el70991406594879901447149691133_data);\n",
       "      });\n",
       "    });\n",
       "}else{\n",
       "    // require.js not available: dynamically load d3 & LDAvis\n",
       "    LDAvis_load_lib(\"https://d3js.org/d3.v5.js\", function(){\n",
       "         LDAvis_load_lib(\"https://cdn.jsdelivr.net/gh/bmabey/pyLDAvis@3.4.0/pyLDAvis/js/ldavis.v3.0.0.js\", function(){\n",
       "                 new LDAvis(\"#\" + \"ldavis_el70991406594879901447149691133\", ldavis_el70991406594879901447149691133_data);\n",
       "            })\n",
       "         });\n",
       "}\n",
       "</script>"
      ],
      "text/plain": [
       "PreparedData(topic_coordinates=              x         y  topics  cluster       Freq\n",
       "topic                                                \n",
       "14    -0.465490 -0.241483       1        1  23.209517\n",
       "5      0.093166 -0.371851       2        1  13.181371\n",
       "11    -0.514794 -0.025366       3        1   6.434414\n",
       "9      0.408430 -0.297003       4        1   5.045684\n",
       "28     0.425993 -0.157125       5        1   4.564556\n",
       "25     0.510211 -0.002647       6        1   3.986634\n",
       "7      0.463879  0.215849       7        1   3.148480\n",
       "20     0.174058 -0.480671       8        1   2.774444\n",
       "3     -0.328789 -0.330878       9        1   2.770988\n",
       "1     -0.219048 -0.434085      10        1   2.757103\n",
       "19    -0.322903  0.011421      11        1   2.513661\n",
       "23    -0.458020  0.168222      12        1   2.396830\n",
       "27    -0.076622 -0.075108      13        1   2.332579\n",
       "2     -0.096929 -0.323501      14        1   2.016937\n",
       "17     0.056211  0.490002      15        1   1.845347\n",
       "22    -0.168039  0.300318      16        1   1.843177\n",
       "24    -0.357519  0.319332      17        1   1.797780\n",
       "13    -0.297293 -0.144924      18        1   1.668997\n",
       "4     -0.032419 -0.474248      19        1   1.640001\n",
       "6      0.269587 -0.323094      20        1   1.482564\n",
       "26     0.135554 -0.129191      21        1   1.459308\n",
       "16     0.187250  0.426510      22        1   1.430561\n",
       "8     -0.253880  0.159065      23        1   1.397626\n",
       "10     0.032147  0.203054      24        1   1.354752\n",
       "12    -0.208833  0.440499      25        1   1.334720\n",
       "21    -0.050589  0.418819      26        1   1.288568\n",
       "29     0.177237  0.046898      27        1   1.152218\n",
       "18     0.355822  0.043096      28        1   1.130048\n",
       "0      0.270492  0.220316      29        1   1.116394\n",
       "15     0.291131  0.347775      30        1   0.924737, topic_info=         Term           Freq          Total Category  logprob  loglift\n",
       "117      file   48043.000000   48043.000000  Default  30.0000  30.0000\n",
       "58        use  103910.000000  103910.000000  Default  29.0000  29.0000\n",
       "69      error   45046.000000   45046.000000  Default  28.0000  28.0000\n",
       "148    string   33820.000000   33820.000000  Default  27.0000  27.0000\n",
       "119  function   33005.000000   33005.000000  Default  26.0000  26.0000\n",
       "..        ...            ...            ...      ...      ...      ...\n",
       "3          do       0.039021    5811.431967  Topic30 -13.9445  -7.2278\n",
       "4       dtype       0.039021     362.504075  Topic30 -13.9445  -4.4533\n",
       "5       float       0.039021    2876.653102  Topic30 -13.9445  -6.5246\n",
       "6         get       0.039021   52973.195230  Topic30 -13.9445  -9.4378\n",
       "8      import       0.039021   22613.545503  Topic30 -13.9445  -8.5865\n",
       "\n",
       "[1102 rows x 6 columns], token_table=      Topic      Freq        Term\n",
       "term                             \n",
       "598       1  0.999891        able\n",
       "394       5  0.999231    abstract\n",
       "354       1  0.987931      access\n",
       "354       9  0.011952      access\n",
       "574      28  0.997891  accomplish\n",
       "...     ...       ...         ...\n",
       "300       4  0.745446         xml\n",
       "300      17  0.254387         xml\n",
       "1125      1  0.331764        year\n",
       "1125     19  0.668001        year\n",
       "491       3  0.999315         yet\n",
       "\n",
       "[1085 rows x 3 columns], R=30, lambda_step=0.01, plot_opts={'xlab': 'PC1', 'ylab': 'PC2'}, topic_order=[15, 6, 12, 10, 29, 26, 8, 21, 4, 2, 20, 24, 28, 3, 18, 23, 25, 14, 5, 7, 27, 17, 9, 11, 13, 22, 30, 19, 1, 16])"
      ]
     },
     "execution_count": 76,
     "metadata": {},
     "output_type": "execute_result"
    }
   ],
   "source": [
    "pyLDAvis.enable_notebook()\n",
    "vis = pyLDAvis.gensim.prepare(lda_model, corpus, id2word, mds=\"mmds\", R=30)\n",
    "vis"
   ]
  },
  {
   "cell_type": "code",
   "execution_count": 77,
   "metadata": {},
   "outputs": [
    {
     "ename": "KeyboardInterrupt",
     "evalue": "",
     "output_type": "error",
     "traceback": [
      "\u001b[0;31m---------------------------------------------------------------------------\u001b[0m",
      "\u001b[0;31mKeyboardInterrupt\u001b[0m                         Traceback (most recent call last)",
      "Cell \u001b[0;32mIn[77], line 16\u001b[0m\n\u001b[1;32m      7\u001b[0m \u001b[39mfor\u001b[39;00m i \u001b[39min\u001b[39;00m \u001b[39mrange\u001b[39m(\u001b[39m1\u001b[39m, \u001b[39m30\u001b[39m):\n\u001b[1;32m      8\u001b[0m       lda_model \u001b[39m=\u001b[39m gensim\u001b[39m.\u001b[39mmodels\u001b[39m.\u001b[39mldamodel\u001b[39m.\u001b[39mLdaModel(corpus\u001b[39m=\u001b[39mcorpus,\n\u001b[1;32m      9\u001b[0m                                              id2word\u001b[39m=\u001b[39mid2word,\n\u001b[1;32m     10\u001b[0m                                              num_topics\u001b[39m=\u001b[39mi,\n\u001b[0;32m   (...)\u001b[0m\n\u001b[1;32m     14\u001b[0m                                              passes\u001b[39m=\u001b[39m\u001b[39m10\u001b[39m,\n\u001b[1;32m     15\u001b[0m                                              alpha\u001b[39m=\u001b[39m\u001b[39m\"\u001b[39m\u001b[39mauto\u001b[39m\u001b[39m\"\u001b[39m)\n\u001b[0;32m---> 16\u001b[0m       coherence_values\u001b[39m.\u001b[39mappend(compute_coherence_values(lda_model))\n\u001b[1;32m     18\u001b[0m \u001b[39m# Show graph\u001b[39;00m\n\u001b[1;32m     19\u001b[0m limit\u001b[39m=\u001b[39m\u001b[39m30\u001b[39m; start\u001b[39m=\u001b[39m\u001b[39m2\u001b[39m; step\u001b[39m=\u001b[39m\u001b[39m6\u001b[39m;\n",
      "Cell \u001b[0;32mIn[77], line 4\u001b[0m, in \u001b[0;36mcompute_coherence_values\u001b[0;34m(model)\u001b[0m\n\u001b[1;32m      2\u001b[0m \u001b[39mdef\u001b[39;00m \u001b[39mcompute_coherence_values\u001b[39m(model):\n\u001b[1;32m      3\u001b[0m       coherence_model_lda \u001b[39m=\u001b[39m CoherenceModel(model\u001b[39m=\u001b[39mmodel, texts\u001b[39m=\u001b[39mdata_words, dictionary\u001b[39m=\u001b[39mid2word, coherence\u001b[39m=\u001b[39m\u001b[39m'\u001b[39m\u001b[39mc_v\u001b[39m\u001b[39m'\u001b[39m)\n\u001b[0;32m----> 4\u001b[0m       \u001b[39mreturn\u001b[39;00m coherence_model_lda\u001b[39m.\u001b[39;49mget_coherence()\n",
      "File \u001b[0;32m~/.local/lib/python3.10/site-packages/gensim/models/coherencemodel.py:614\u001b[0m, in \u001b[0;36mCoherenceModel.get_coherence\u001b[0;34m(self)\u001b[0m\n\u001b[1;32m    605\u001b[0m \u001b[39mdef\u001b[39;00m \u001b[39mget_coherence\u001b[39m(\u001b[39mself\u001b[39m):\n\u001b[1;32m    606\u001b[0m     \u001b[39m\"\"\"Get coherence value based on pipeline parameters.\u001b[39;00m\n\u001b[1;32m    607\u001b[0m \n\u001b[1;32m    608\u001b[0m \u001b[39m    Returns\u001b[39;00m\n\u001b[0;32m   (...)\u001b[0m\n\u001b[1;32m    612\u001b[0m \n\u001b[1;32m    613\u001b[0m \u001b[39m    \"\"\"\u001b[39;00m\n\u001b[0;32m--> 614\u001b[0m     confirmed_measures \u001b[39m=\u001b[39m \u001b[39mself\u001b[39;49m\u001b[39m.\u001b[39;49mget_coherence_per_topic()\n\u001b[1;32m    615\u001b[0m     \u001b[39mreturn\u001b[39;00m \u001b[39mself\u001b[39m\u001b[39m.\u001b[39maggregate_measures(confirmed_measures)\n",
      "File \u001b[0;32m~/.local/lib/python3.10/site-packages/gensim/models/coherencemodel.py:574\u001b[0m, in \u001b[0;36mCoherenceModel.get_coherence_per_topic\u001b[0;34m(self, segmented_topics, with_std, with_support)\u001b[0m\n\u001b[1;32m    572\u001b[0m     segmented_topics \u001b[39m=\u001b[39m measure\u001b[39m.\u001b[39mseg(\u001b[39mself\u001b[39m\u001b[39m.\u001b[39mtopics)\n\u001b[1;32m    573\u001b[0m \u001b[39mif\u001b[39;00m \u001b[39mself\u001b[39m\u001b[39m.\u001b[39m_accumulator \u001b[39mis\u001b[39;00m \u001b[39mNone\u001b[39;00m:\n\u001b[0;32m--> 574\u001b[0m     \u001b[39mself\u001b[39;49m\u001b[39m.\u001b[39;49mestimate_probabilities(segmented_topics)\n\u001b[1;32m    576\u001b[0m kwargs \u001b[39m=\u001b[39m \u001b[39mdict\u001b[39m(with_std\u001b[39m=\u001b[39mwith_std, with_support\u001b[39m=\u001b[39mwith_support)\n\u001b[1;32m    577\u001b[0m \u001b[39mif\u001b[39;00m \u001b[39mself\u001b[39m\u001b[39m.\u001b[39mcoherence \u001b[39min\u001b[39;00m BOOLEAN_DOCUMENT_BASED \u001b[39mor\u001b[39;00m \u001b[39mself\u001b[39m\u001b[39m.\u001b[39mcoherence \u001b[39m==\u001b[39m \u001b[39m'\u001b[39m\u001b[39mc_w2v\u001b[39m\u001b[39m'\u001b[39m:\n",
      "File \u001b[0;32m~/.local/lib/python3.10/site-packages/gensim/models/coherencemodel.py:546\u001b[0m, in \u001b[0;36mCoherenceModel.estimate_probabilities\u001b[0;34m(self, segmented_topics)\u001b[0m\n\u001b[1;32m    543\u001b[0m     \u001b[39mif\u001b[39;00m \u001b[39mself\u001b[39m\u001b[39m.\u001b[39mcoherence \u001b[39m==\u001b[39m \u001b[39m'\u001b[39m\u001b[39mc_w2v\u001b[39m\u001b[39m'\u001b[39m:\n\u001b[1;32m    544\u001b[0m         kwargs[\u001b[39m'\u001b[39m\u001b[39mmodel\u001b[39m\u001b[39m'\u001b[39m] \u001b[39m=\u001b[39m \u001b[39mself\u001b[39m\u001b[39m.\u001b[39mkeyed_vectors\n\u001b[0;32m--> 546\u001b[0m     \u001b[39mself\u001b[39m\u001b[39m.\u001b[39m_accumulator \u001b[39m=\u001b[39m \u001b[39mself\u001b[39;49m\u001b[39m.\u001b[39;49mmeasure\u001b[39m.\u001b[39;49mprob(\u001b[39m*\u001b[39;49m\u001b[39m*\u001b[39;49mkwargs)\n\u001b[1;32m    548\u001b[0m \u001b[39mreturn\u001b[39;00m \u001b[39mself\u001b[39m\u001b[39m.\u001b[39m_accumulator\n",
      "File \u001b[0;32m~/.local/lib/python3.10/site-packages/gensim/topic_coherence/probability_estimation.py:156\u001b[0m, in \u001b[0;36mp_boolean_sliding_window\u001b[0;34m(texts, segmented_topics, dictionary, window_size, processes)\u001b[0m\n\u001b[1;32m    154\u001b[0m     accumulator \u001b[39m=\u001b[39m ParallelWordOccurrenceAccumulator(processes, top_ids, dictionary)\n\u001b[1;32m    155\u001b[0m logger\u001b[39m.\u001b[39minfo(\u001b[39m\"\u001b[39m\u001b[39musing \u001b[39m\u001b[39m%s\u001b[39;00m\u001b[39m to estimate probabilities from sliding windows\u001b[39m\u001b[39m\"\u001b[39m, accumulator)\n\u001b[0;32m--> 156\u001b[0m \u001b[39mreturn\u001b[39;00m accumulator\u001b[39m.\u001b[39;49maccumulate(texts, window_size)\n",
      "File \u001b[0;32m~/.local/lib/python3.10/site-packages/gensim/topic_coherence/text_analysis.py:445\u001b[0m, in \u001b[0;36mParallelWordOccurrenceAccumulator.accumulate\u001b[0;34m(self, texts, window_size)\u001b[0m\n\u001b[1;32m    442\u001b[0m     logger\u001b[39m.\u001b[39mwarn(\u001b[39m\"\u001b[39m\u001b[39mstats accumulation interrupted; <= \u001b[39m\u001b[39m%d\u001b[39;00m\u001b[39m documents processed\u001b[39m\u001b[39m\"\u001b[39m, \u001b[39mself\u001b[39m\u001b[39m.\u001b[39m_num_docs)\n\u001b[1;32m    443\u001b[0m     interrupted \u001b[39m=\u001b[39m \u001b[39mTrue\u001b[39;00m\n\u001b[0;32m--> 445\u001b[0m accumulators \u001b[39m=\u001b[39m \u001b[39mself\u001b[39;49m\u001b[39m.\u001b[39;49mterminate_workers(input_q, output_q, workers, interrupted)\n\u001b[1;32m    446\u001b[0m \u001b[39mreturn\u001b[39;00m \u001b[39mself\u001b[39m\u001b[39m.\u001b[39mmerge_accumulators(accumulators)\n",
      "File \u001b[0;32m~/.local/lib/python3.10/site-packages/gensim/topic_coherence/text_analysis.py:522\u001b[0m, in \u001b[0;36mParallelWordOccurrenceAccumulator.terminate_workers\u001b[0;34m(self, input_q, output_q, workers, interrupted)\u001b[0m\n\u001b[1;32m    520\u001b[0m accumulators \u001b[39m=\u001b[39m []\n\u001b[1;32m    521\u001b[0m \u001b[39mwhile\u001b[39;00m \u001b[39mlen\u001b[39m(accumulators) \u001b[39m!=\u001b[39m \u001b[39mlen\u001b[39m(workers):\n\u001b[0;32m--> 522\u001b[0m     accumulators\u001b[39m.\u001b[39mappend(output_q\u001b[39m.\u001b[39;49mget())\n\u001b[1;32m    523\u001b[0m logger\u001b[39m.\u001b[39minfo(\u001b[39m\"\u001b[39m\u001b[39m%d\u001b[39;00m\u001b[39m accumulators retrieved from output queue\u001b[39m\u001b[39m\"\u001b[39m, \u001b[39mlen\u001b[39m(accumulators))\n\u001b[1;32m    525\u001b[0m \u001b[39mfor\u001b[39;00m worker \u001b[39min\u001b[39;00m workers:\n",
      "File \u001b[0;32m/usr/lib/python3.10/multiprocessing/queues.py:103\u001b[0m, in \u001b[0;36mQueue.get\u001b[0;34m(self, block, timeout)\u001b[0m\n\u001b[1;32m    101\u001b[0m \u001b[39mif\u001b[39;00m block \u001b[39mand\u001b[39;00m timeout \u001b[39mis\u001b[39;00m \u001b[39mNone\u001b[39;00m:\n\u001b[1;32m    102\u001b[0m     \u001b[39mwith\u001b[39;00m \u001b[39mself\u001b[39m\u001b[39m.\u001b[39m_rlock:\n\u001b[0;32m--> 103\u001b[0m         res \u001b[39m=\u001b[39m \u001b[39mself\u001b[39;49m\u001b[39m.\u001b[39;49m_recv_bytes()\n\u001b[1;32m    104\u001b[0m     \u001b[39mself\u001b[39m\u001b[39m.\u001b[39m_sem\u001b[39m.\u001b[39mrelease()\n\u001b[1;32m    105\u001b[0m \u001b[39melse\u001b[39;00m:\n",
      "File \u001b[0;32m/usr/lib/python3.10/multiprocessing/connection.py:216\u001b[0m, in \u001b[0;36m_ConnectionBase.recv_bytes\u001b[0;34m(self, maxlength)\u001b[0m\n\u001b[1;32m    214\u001b[0m \u001b[39mif\u001b[39;00m maxlength \u001b[39mis\u001b[39;00m \u001b[39mnot\u001b[39;00m \u001b[39mNone\u001b[39;00m \u001b[39mand\u001b[39;00m maxlength \u001b[39m<\u001b[39m \u001b[39m0\u001b[39m:\n\u001b[1;32m    215\u001b[0m     \u001b[39mraise\u001b[39;00m \u001b[39mValueError\u001b[39;00m(\u001b[39m\"\u001b[39m\u001b[39mnegative maxlength\u001b[39m\u001b[39m\"\u001b[39m)\n\u001b[0;32m--> 216\u001b[0m buf \u001b[39m=\u001b[39m \u001b[39mself\u001b[39;49m\u001b[39m.\u001b[39;49m_recv_bytes(maxlength)\n\u001b[1;32m    217\u001b[0m \u001b[39mif\u001b[39;00m buf \u001b[39mis\u001b[39;00m \u001b[39mNone\u001b[39;00m:\n\u001b[1;32m    218\u001b[0m     \u001b[39mself\u001b[39m\u001b[39m.\u001b[39m_bad_message_length()\n",
      "File \u001b[0;32m/usr/lib/python3.10/multiprocessing/connection.py:414\u001b[0m, in \u001b[0;36mConnection._recv_bytes\u001b[0;34m(self, maxsize)\u001b[0m\n\u001b[1;32m    413\u001b[0m \u001b[39mdef\u001b[39;00m \u001b[39m_recv_bytes\u001b[39m(\u001b[39mself\u001b[39m, maxsize\u001b[39m=\u001b[39m\u001b[39mNone\u001b[39;00m):\n\u001b[0;32m--> 414\u001b[0m     buf \u001b[39m=\u001b[39m \u001b[39mself\u001b[39;49m\u001b[39m.\u001b[39;49m_recv(\u001b[39m4\u001b[39;49m)\n\u001b[1;32m    415\u001b[0m     size, \u001b[39m=\u001b[39m struct\u001b[39m.\u001b[39munpack(\u001b[39m\"\u001b[39m\u001b[39m!i\u001b[39m\u001b[39m\"\u001b[39m, buf\u001b[39m.\u001b[39mgetvalue())\n\u001b[1;32m    416\u001b[0m     \u001b[39mif\u001b[39;00m size \u001b[39m==\u001b[39m \u001b[39m-\u001b[39m\u001b[39m1\u001b[39m:\n",
      "File \u001b[0;32m/usr/lib/python3.10/multiprocessing/connection.py:379\u001b[0m, in \u001b[0;36mConnection._recv\u001b[0;34m(self, size, read)\u001b[0m\n\u001b[1;32m    377\u001b[0m remaining \u001b[39m=\u001b[39m size\n\u001b[1;32m    378\u001b[0m \u001b[39mwhile\u001b[39;00m remaining \u001b[39m>\u001b[39m \u001b[39m0\u001b[39m:\n\u001b[0;32m--> 379\u001b[0m     chunk \u001b[39m=\u001b[39m read(handle, remaining)\n\u001b[1;32m    380\u001b[0m     n \u001b[39m=\u001b[39m \u001b[39mlen\u001b[39m(chunk)\n\u001b[1;32m    381\u001b[0m     \u001b[39mif\u001b[39;00m n \u001b[39m==\u001b[39m \u001b[39m0\u001b[39m:\n",
      "\u001b[0;31mKeyboardInterrupt\u001b[0m: "
     ]
    }
   ],
   "source": [
    "#Coherence score for LDA model\n",
    "def compute_coherence_values(model):\n",
    "      coherence_model_lda = CoherenceModel(model=model, texts=data_words, dictionary=id2word, coherence='c_v')\n",
    "      return coherence_model_lda.get_coherence()\n",
    "\n",
    "coherence_values = []\n",
    "for i in range(1, 30):\n",
    "      lda_model = gensim.models.ldamodel.LdaModel(corpus=corpus,\n",
    "                                             id2word=id2word,\n",
    "                                             num_topics=i,\n",
    "                                             random_state=100,\n",
    "                                             update_every=1,\n",
    "                                             chunksize=100,\n",
    "                                             passes=10,\n",
    "                                             alpha=\"auto\")\n",
    "      coherence_values.append(compute_coherence_values(lda_model))\n",
    "\n",
    "# Show graph\n",
    "limit=30; start=2; step=6;\n",
    "x = range(start, limit, step)\n",
    "plt.plot(x, coherence_values)\n",
    "plt.xlabel(\"Num Topics\")\n",
    "plt.ylabel(\"Coherence score\")\n",
    "plt.legend((\"coherence_values\"), loc='best')\n",
    "plt.show()"
   ]
  },
  {
   "cell_type": "code",
   "execution_count": null,
   "metadata": {},
   "outputs": [],
   "source": [
    "# lda get topics\n",
    "lda_model.get_topics()\n",
    "\n",
    "# lda get topic words\n",
    "lda_model.show_topics()\n",
    "\n",
    "# lda get topic words\n",
    "lda_model.show_topics(num_topics=30, num_words=10, log=False, formatted=True)"
   ]
  }
 ],
 "metadata": {
  "kernelspec": {
   "display_name": "Python 3 (ipykernel)",
   "language": "python",
   "name": "python3"
  },
  "language_info": {
   "codemirror_mode": {
    "name": "ipython",
    "version": 3
   },
   "file_extension": ".py",
   "mimetype": "text/x-python",
   "name": "python",
   "nbconvert_exporter": "python",
   "pygments_lexer": "ipython3",
   "version": "3.10.7"
  },
  "vscode": {
   "interpreter": {
    "hash": "916dbcbb3f70747c44a77c7bcd40155683ae19c65e1c03b4aa3499c5328201f1"
   }
  }
 },
 "nbformat": 4,
 "nbformat_minor": 2
}
