{
 "cells": [
  {
   "cell_type": "code",
   "execution_count": 31,
   "metadata": {},
   "outputs": [],
   "source": [
    "import pandas as pd\n",
    "pd.options.display.max_columns=200\n",
    "import numpy as np\n",
    "import matplotlib.pyplot as plt\n",
    "import seaborn as sns\n",
    "import warnings\n",
    "warnings.filterwarnings('ignore')\n",
    "%matplotlib inline\n",
    "from sklearn.pipeline import make_pipeline\n",
    "import bs4 as bs\n",
    "import nltk\n",
    "from nltk.corpus import stopwords, words\n",
    "from nltk.stem import WordNetLemmatizer, PorterStemmer\n",
    "from nltk.tokenize import word_tokenize, wordpunct_tokenize, RegexpTokenizer\n",
    "from wordcloud import WordCloud\n",
    "from PIL import Image\n",
    "from pandarallel import pandarallel"
   ]
  },
  {
   "cell_type": "code",
   "execution_count": 32,
   "metadata": {},
   "outputs": [
    {
     "data": {
      "text/plain": [
       "\"nltk.download('stopwords')\\nnltk.download('words')\\nnltk.download('wordnet')\\nnltk.download('omw')\\nnltk.download('punkt')\""
      ]
     },
     "execution_count": 32,
     "metadata": {},
     "output_type": "execute_result"
    }
   ],
   "source": [
    "'''nltk.download('stopwords')\n",
    "nltk.download('words')\n",
    "nltk.download('wordnet')\n",
    "nltk.download('omw')\n",
    "nltk.download('punkt')'''"
   ]
  },
  {
   "cell_type": "code",
   "execution_count": 33,
   "metadata": {},
   "outputs": [],
   "source": [
    "data = pd.read_csv('data/QueryResults.csv')"
   ]
  },
  {
   "cell_type": "code",
   "execution_count": 34,
   "metadata": {},
   "outputs": [
    {
     "data": {
      "text/html": [
       "<div>\n",
       "<style scoped>\n",
       "    .dataframe tbody tr th:only-of-type {\n",
       "        vertical-align: middle;\n",
       "    }\n",
       "\n",
       "    .dataframe tbody tr th {\n",
       "        vertical-align: top;\n",
       "    }\n",
       "\n",
       "    .dataframe thead th {\n",
       "        text-align: right;\n",
       "    }\n",
       "</style>\n",
       "<table border=\"1\" class=\"dataframe\">\n",
       "  <thead>\n",
       "    <tr style=\"text-align: right;\">\n",
       "      <th></th>\n",
       "      <th>Title</th>\n",
       "      <th>Body</th>\n",
       "      <th>Tags</th>\n",
       "      <th>Id</th>\n",
       "      <th>Score</th>\n",
       "      <th>ViewCount</th>\n",
       "      <th>FavoriteCount</th>\n",
       "      <th>AnswerCount</th>\n",
       "    </tr>\n",
       "  </thead>\n",
       "  <tbody>\n",
       "    <tr>\n",
       "      <th>0</th>\n",
       "      <td>how do I calculate a rolling idxmax</td>\n",
       "      <td>&lt;p&gt;consider the &lt;code&gt;pd.Series&lt;/code&gt; &lt;code&gt;s...</td>\n",
       "      <td>&lt;python&gt;&lt;pandas&gt;&lt;numpy&gt;&lt;dataframe&gt;&lt;series&gt;</td>\n",
       "      <td>40101130</td>\n",
       "      <td>9</td>\n",
       "      <td>7584</td>\n",
       "      <td>0.0</td>\n",
       "      <td>6</td>\n",
       "    </tr>\n",
       "    <tr>\n",
       "      <th>1</th>\n",
       "      <td>Better techniques for trimming leading zeros i...</td>\n",
       "      <td>&lt;p&gt;I've been using &lt;a href=\"https://stackoverf...</td>\n",
       "      <td>&lt;sql&gt;&lt;sql-server&gt;&lt;sql-server-2005&gt;&lt;tsql&gt;&lt;string&gt;</td>\n",
       "      <td>662383</td>\n",
       "      <td>197</td>\n",
       "      <td>388401</td>\n",
       "      <td>0.0</td>\n",
       "      <td>19</td>\n",
       "    </tr>\n",
       "    <tr>\n",
       "      <th>2</th>\n",
       "      <td>\"No X11 DISPLAY variable\" - what does it mean?</td>\n",
       "      <td>&lt;p&gt;I am trying to install a Java application o...</td>\n",
       "      <td>&lt;java&gt;&lt;linux&gt;&lt;variables&gt;&lt;x11&gt;&lt;headless&gt;</td>\n",
       "      <td>662421</td>\n",
       "      <td>122</td>\n",
       "      <td>622820</td>\n",
       "      <td>0.0</td>\n",
       "      <td>12</td>\n",
       "    </tr>\n",
       "    <tr>\n",
       "      <th>3</th>\n",
       "      <td>Object-Oriented Callbacks for C++?</td>\n",
       "      <td>&lt;p&gt;Is there some library that allows me to eas...</td>\n",
       "      <td>&lt;c++&gt;&lt;oop&gt;&lt;callback&gt;&lt;pointer-to-member&gt;&lt;eiffel&gt;</td>\n",
       "      <td>3520133</td>\n",
       "      <td>9</td>\n",
       "      <td>10228</td>\n",
       "      <td>0.0</td>\n",
       "      <td>6</td>\n",
       "    </tr>\n",
       "    <tr>\n",
       "      <th>4</th>\n",
       "      <td>Why doesn't .NET find the OpenSSL.NET dll?</td>\n",
       "      <td>&lt;p&gt;&lt;strong&gt;EDIT&lt;/strong&gt; (the whole question, ...</td>\n",
       "      <td>&lt;c#&gt;&lt;.net&gt;&lt;dll&gt;&lt;dllimport&gt;&lt;dllnotfoundexception&gt;</td>\n",
       "      <td>1396164</td>\n",
       "      <td>9</td>\n",
       "      <td>18554</td>\n",
       "      <td>0.0</td>\n",
       "      <td>12</td>\n",
       "    </tr>\n",
       "  </tbody>\n",
       "</table>\n",
       "</div>"
      ],
      "text/plain": [
       "                                               Title  \\\n",
       "0                how do I calculate a rolling idxmax   \n",
       "1  Better techniques for trimming leading zeros i...   \n",
       "2     \"No X11 DISPLAY variable\" - what does it mean?   \n",
       "3                 Object-Oriented Callbacks for C++?   \n",
       "4         Why doesn't .NET find the OpenSSL.NET dll?   \n",
       "\n",
       "                                                Body  \\\n",
       "0  <p>consider the <code>pd.Series</code> <code>s...   \n",
       "1  <p>I've been using <a href=\"https://stackoverf...   \n",
       "2  <p>I am trying to install a Java application o...   \n",
       "3  <p>Is there some library that allows me to eas...   \n",
       "4  <p><strong>EDIT</strong> (the whole question, ...   \n",
       "\n",
       "                                               Tags        Id  Score  \\\n",
       "0        <python><pandas><numpy><dataframe><series>  40101130      9   \n",
       "1  <sql><sql-server><sql-server-2005><tsql><string>    662383    197   \n",
       "2           <java><linux><variables><x11><headless>    662421    122   \n",
       "3   <c++><oop><callback><pointer-to-member><eiffel>   3520133      9   \n",
       "4  <c#><.net><dll><dllimport><dllnotfoundexception>   1396164      9   \n",
       "\n",
       "   ViewCount  FavoriteCount  AnswerCount  \n",
       "0       7584            0.0            6  \n",
       "1     388401            0.0           19  \n",
       "2     622820            0.0           12  \n",
       "3      10228            0.0            6  \n",
       "4      18554            0.0           12  "
      ]
     },
     "execution_count": 34,
     "metadata": {},
     "output_type": "execute_result"
    }
   ],
   "source": [
    "data.head()"
   ]
  },
  {
   "cell_type": "code",
   "execution_count": 35,
   "metadata": {},
   "outputs": [],
   "source": [
    "#delete balises html with beautiful soup\n",
    "def clean_html(text):\n",
    "    soup = bs.BeautifulSoup(text, \"html.parser\")\n",
    "    return soup.get_text()\n",
    "\n",
    "data['Body'] = data['Body'].apply(clean_html)"
   ]
  },
  {
   "cell_type": "code",
   "execution_count": null,
   "metadata": {},
   "outputs": [],
   "source": []
  },
  {
   "cell_type": "code",
   "execution_count": 36,
   "metadata": {},
   "outputs": [
    {
     "data": {
      "text/html": [
       "<div>\n",
       "<style scoped>\n",
       "    .dataframe tbody tr th:only-of-type {\n",
       "        vertical-align: middle;\n",
       "    }\n",
       "\n",
       "    .dataframe tbody tr th {\n",
       "        vertical-align: top;\n",
       "    }\n",
       "\n",
       "    .dataframe thead th {\n",
       "        text-align: right;\n",
       "    }\n",
       "</style>\n",
       "<table border=\"1\" class=\"dataframe\">\n",
       "  <thead>\n",
       "    <tr style=\"text-align: right;\">\n",
       "      <th></th>\n",
       "      <th>Title</th>\n",
       "      <th>Body</th>\n",
       "      <th>Tags</th>\n",
       "      <th>Id</th>\n",
       "      <th>Score</th>\n",
       "      <th>ViewCount</th>\n",
       "      <th>FavoriteCount</th>\n",
       "      <th>AnswerCount</th>\n",
       "    </tr>\n",
       "  </thead>\n",
       "  <tbody>\n",
       "    <tr>\n",
       "      <th>0</th>\n",
       "      <td>how do I calculate a rolling idxmax</td>\n",
       "      <td>consider the pd.Series s\\nimport pandas as pd\\...</td>\n",
       "      <td>&lt;python&gt;&lt;pandas&gt;&lt;numpy&gt;&lt;dataframe&gt;&lt;series&gt;</td>\n",
       "      <td>40101130</td>\n",
       "      <td>9</td>\n",
       "      <td>7584</td>\n",
       "      <td>0.0</td>\n",
       "      <td>6</td>\n",
       "    </tr>\n",
       "    <tr>\n",
       "      <th>1</th>\n",
       "      <td>Better techniques for trimming leading zeros i...</td>\n",
       "      <td>I've been using this for some time:\\nSUBSTRING...</td>\n",
       "      <td>&lt;sql&gt;&lt;sql-server&gt;&lt;sql-server-2005&gt;&lt;tsql&gt;&lt;string&gt;</td>\n",
       "      <td>662383</td>\n",
       "      <td>197</td>\n",
       "      <td>388401</td>\n",
       "      <td>0.0</td>\n",
       "      <td>19</td>\n",
       "    </tr>\n",
       "    <tr>\n",
       "      <th>2</th>\n",
       "      <td>\"No X11 DISPLAY variable\" - what does it mean?</td>\n",
       "      <td>I am trying to install a Java application on m...</td>\n",
       "      <td>&lt;java&gt;&lt;linux&gt;&lt;variables&gt;&lt;x11&gt;&lt;headless&gt;</td>\n",
       "      <td>662421</td>\n",
       "      <td>122</td>\n",
       "      <td>622820</td>\n",
       "      <td>0.0</td>\n",
       "      <td>12</td>\n",
       "    </tr>\n",
       "    <tr>\n",
       "      <th>3</th>\n",
       "      <td>Object-Oriented Callbacks for C++?</td>\n",
       "      <td>Is there some library that allows me to easily...</td>\n",
       "      <td>&lt;c++&gt;&lt;oop&gt;&lt;callback&gt;&lt;pointer-to-member&gt;&lt;eiffel&gt;</td>\n",
       "      <td>3520133</td>\n",
       "      <td>9</td>\n",
       "      <td>10228</td>\n",
       "      <td>0.0</td>\n",
       "      <td>6</td>\n",
       "    </tr>\n",
       "    <tr>\n",
       "      <th>4</th>\n",
       "      <td>Why doesn't .NET find the OpenSSL.NET dll?</td>\n",
       "      <td>EDIT (the whole question, it was too unclear)\\...</td>\n",
       "      <td>&lt;c#&gt;&lt;.net&gt;&lt;dll&gt;&lt;dllimport&gt;&lt;dllnotfoundexception&gt;</td>\n",
       "      <td>1396164</td>\n",
       "      <td>9</td>\n",
       "      <td>18554</td>\n",
       "      <td>0.0</td>\n",
       "      <td>12</td>\n",
       "    </tr>\n",
       "  </tbody>\n",
       "</table>\n",
       "</div>"
      ],
      "text/plain": [
       "                                               Title  \\\n",
       "0                how do I calculate a rolling idxmax   \n",
       "1  Better techniques for trimming leading zeros i...   \n",
       "2     \"No X11 DISPLAY variable\" - what does it mean?   \n",
       "3                 Object-Oriented Callbacks for C++?   \n",
       "4         Why doesn't .NET find the OpenSSL.NET dll?   \n",
       "\n",
       "                                                Body  \\\n",
       "0  consider the pd.Series s\\nimport pandas as pd\\...   \n",
       "1  I've been using this for some time:\\nSUBSTRING...   \n",
       "2  I am trying to install a Java application on m...   \n",
       "3  Is there some library that allows me to easily...   \n",
       "4  EDIT (the whole question, it was too unclear)\\...   \n",
       "\n",
       "                                               Tags        Id  Score  \\\n",
       "0        <python><pandas><numpy><dataframe><series>  40101130      9   \n",
       "1  <sql><sql-server><sql-server-2005><tsql><string>    662383    197   \n",
       "2           <java><linux><variables><x11><headless>    662421    122   \n",
       "3   <c++><oop><callback><pointer-to-member><eiffel>   3520133      9   \n",
       "4  <c#><.net><dll><dllimport><dllnotfoundexception>   1396164      9   \n",
       "\n",
       "   ViewCount  FavoriteCount  AnswerCount  \n",
       "0       7584            0.0            6  \n",
       "1     388401            0.0           19  \n",
       "2     622820            0.0           12  \n",
       "3      10228            0.0            6  \n",
       "4      18554            0.0           12  "
      ]
     },
     "execution_count": 36,
     "metadata": {},
     "output_type": "execute_result"
    }
   ],
   "source": [
    "data.head()"
   ]
  },
  {
   "cell_type": "code",
   "execution_count": 37,
   "metadata": {},
   "outputs": [
    {
     "data": {
      "text/html": [
       "<div>\n",
       "<style scoped>\n",
       "    .dataframe tbody tr th:only-of-type {\n",
       "        vertical-align: middle;\n",
       "    }\n",
       "\n",
       "    .dataframe tbody tr th {\n",
       "        vertical-align: top;\n",
       "    }\n",
       "\n",
       "    .dataframe thead th {\n",
       "        text-align: right;\n",
       "    }\n",
       "</style>\n",
       "<table border=\"1\" class=\"dataframe\">\n",
       "  <thead>\n",
       "    <tr style=\"text-align: right;\">\n",
       "      <th></th>\n",
       "      <th>Title</th>\n",
       "      <th>Body</th>\n",
       "      <th>Tags</th>\n",
       "      <th>Id</th>\n",
       "      <th>Score</th>\n",
       "      <th>ViewCount</th>\n",
       "      <th>FavoriteCount</th>\n",
       "      <th>AnswerCount</th>\n",
       "    </tr>\n",
       "  </thead>\n",
       "  <tbody>\n",
       "    <tr>\n",
       "      <th>17676</th>\n",
       "      <td>Convert UTC to local time in Rails 3</td>\n",
       "      <td>I'm having trouble converting a UTC Time or Ti...</td>\n",
       "      <td>&lt;ruby-on-rails&gt;&lt;ruby&gt;&lt;ruby-on-rails-3&gt;&lt;timezon...</td>\n",
       "      <td>5300493</td>\n",
       "      <td>100</td>\n",
       "      <td>114767</td>\n",
       "      <td>0.0</td>\n",
       "      <td>6</td>\n",
       "    </tr>\n",
       "    <tr>\n",
       "      <th>5562</th>\n",
       "      <td>Adding wsdl web reference in asp .Net Core pro...</td>\n",
       "      <td>I've got web service http://www.mcommunicator....</td>\n",
       "      <td>&lt;c#&gt;&lt;web-services&gt;&lt;asp.net-web-api&gt;&lt;visual-stu...</td>\n",
       "      <td>39106617</td>\n",
       "      <td>36</td>\n",
       "      <td>53425</td>\n",
       "      <td>0.0</td>\n",
       "      <td>1</td>\n",
       "    </tr>\n",
       "    <tr>\n",
       "      <th>25766</th>\n",
       "      <td>submitting PySpark app to spark on YARN in clu...</td>\n",
       "      <td>I'm trying to test a big data platform that ha...</td>\n",
       "      <td>&lt;python&gt;&lt;hadoop&gt;&lt;apache-spark&gt;&lt;pyspark&gt;&lt;hadoop...</td>\n",
       "      <td>42956220</td>\n",
       "      <td>6</td>\n",
       "      <td>14258</td>\n",
       "      <td>0.0</td>\n",
       "      <td>3</td>\n",
       "    </tr>\n",
       "    <tr>\n",
       "      <th>12461</th>\n",
       "      <td>How to pass environment variables to the gradl...</td>\n",
       "      <td>I am trying to pass env variables locally with...</td>\n",
       "      <td>&lt;java&gt;&lt;spring&gt;&lt;gradle&gt;&lt;command-line&gt;&lt;environme...</td>\n",
       "      <td>59741629</td>\n",
       "      <td>17</td>\n",
       "      <td>47420</td>\n",
       "      <td>0.0</td>\n",
       "      <td>6</td>\n",
       "    </tr>\n",
       "    <tr>\n",
       "      <th>18765</th>\n",
       "      <td>Access files from network share in c# web app</td>\n",
       "      <td>I have a web application that needs to read (a...</td>\n",
       "      <td>&lt;c#&gt;&lt;asp.net&gt;&lt;security&gt;&lt;web-applications&gt;&lt;file...</td>\n",
       "      <td>29346</td>\n",
       "      <td>10</td>\n",
       "      <td>31585</td>\n",
       "      <td>0.0</td>\n",
       "      <td>5</td>\n",
       "    </tr>\n",
       "  </tbody>\n",
       "</table>\n",
       "</div>"
      ],
      "text/plain": [
       "                                                   Title  \\\n",
       "17676               Convert UTC to local time in Rails 3   \n",
       "5562   Adding wsdl web reference in asp .Net Core pro...   \n",
       "25766  submitting PySpark app to spark on YARN in clu...   \n",
       "12461  How to pass environment variables to the gradl...   \n",
       "18765      Access files from network share in c# web app   \n",
       "\n",
       "                                                    Body  \\\n",
       "17676  I'm having trouble converting a UTC Time or Ti...   \n",
       "5562   I've got web service http://www.mcommunicator....   \n",
       "25766  I'm trying to test a big data platform that ha...   \n",
       "12461  I am trying to pass env variables locally with...   \n",
       "18765  I have a web application that needs to read (a...   \n",
       "\n",
       "                                                    Tags        Id  Score  \\\n",
       "17676  <ruby-on-rails><ruby><ruby-on-rails-3><timezon...   5300493    100   \n",
       "5562   <c#><web-services><asp.net-web-api><visual-stu...  39106617     36   \n",
       "25766  <python><hadoop><apache-spark><pyspark><hadoop...  42956220      6   \n",
       "12461  <java><spring><gradle><command-line><environme...  59741629     17   \n",
       "18765  <c#><asp.net><security><web-applications><file...     29346     10   \n",
       "\n",
       "       ViewCount  FavoriteCount  AnswerCount  \n",
       "17676     114767            0.0            6  \n",
       "5562       53425            0.0            1  \n",
       "25766      14258            0.0            3  \n",
       "12461      47420            0.0            6  \n",
       "18765      31585            0.0            5  "
      ]
     },
     "execution_count": 37,
     "metadata": {},
     "output_type": "execute_result"
    }
   ],
   "source": [
    "data.sample(5)"
   ]
  },
  {
   "cell_type": "code",
   "execution_count": 38,
   "metadata": {},
   "outputs": [],
   "source": [
    "data = data[['Title', 'Body', 'Tags', 'Id']]"
   ]
  },
  {
   "cell_type": "code",
   "execution_count": 39,
   "metadata": {},
   "outputs": [],
   "source": [
    "data.set_index('Id', inplace=True)"
   ]
  },
  {
   "cell_type": "code",
   "execution_count": null,
   "metadata": {},
   "outputs": [],
   "source": []
  },
  {
   "cell_type": "code",
   "execution_count": 40,
   "metadata": {},
   "outputs": [
    {
     "name": "stdout",
     "output_type": "stream",
     "text": [
      "<class 'pandas.core.frame.DataFrame'>\n",
      "Int64Index: 50000 entries, 40101130 to 53180854\n",
      "Data columns (total 3 columns):\n",
      " #   Column  Non-Null Count  Dtype \n",
      "---  ------  --------------  ----- \n",
      " 0   Title   50000 non-null  object\n",
      " 1   Body    50000 non-null  object\n",
      " 2   Tags    50000 non-null  object\n",
      "dtypes: object(3)\n",
      "memory usage: 1.5+ MB\n"
     ]
    }
   ],
   "source": [
    "data.info()"
   ]
  },
  {
   "cell_type": "code",
   "execution_count": 41,
   "metadata": {},
   "outputs": [
    {
     "data": {
      "text/plain": [
       "Title    49999\n",
       "Body     50000\n",
       "Tags     49190\n",
       "dtype: int64"
      ]
     },
     "execution_count": 41,
     "metadata": {},
     "output_type": "execute_result"
    }
   ],
   "source": [
    "data.nunique()"
   ]
  },
  {
   "cell_type": "code",
   "execution_count": 42,
   "metadata": {},
   "outputs": [
    {
     "data": {
      "text/plain": [
       "Title    0\n",
       "Body     0\n",
       "Tags     0\n",
       "dtype: int64"
      ]
     },
     "execution_count": 42,
     "metadata": {},
     "output_type": "execute_result"
    }
   ],
   "source": [
    "data.isna().sum()"
   ]
  },
  {
   "cell_type": "code",
   "execution_count": 43,
   "metadata": {},
   "outputs": [
    {
     "data": {
      "text/html": [
       "<div>\n",
       "<style scoped>\n",
       "    .dataframe tbody tr th:only-of-type {\n",
       "        vertical-align: middle;\n",
       "    }\n",
       "\n",
       "    .dataframe tbody tr th {\n",
       "        vertical-align: top;\n",
       "    }\n",
       "\n",
       "    .dataframe thead th {\n",
       "        text-align: right;\n",
       "    }\n",
       "</style>\n",
       "<table border=\"1\" class=\"dataframe\">\n",
       "  <thead>\n",
       "    <tr style=\"text-align: right;\">\n",
       "      <th></th>\n",
       "      <th>Title</th>\n",
       "      <th>Body</th>\n",
       "      <th>Tags</th>\n",
       "    </tr>\n",
       "  </thead>\n",
       "  <tbody>\n",
       "    <tr>\n",
       "      <th>count</th>\n",
       "      <td>50000</td>\n",
       "      <td>50000</td>\n",
       "      <td>50000</td>\n",
       "    </tr>\n",
       "    <tr>\n",
       "      <th>unique</th>\n",
       "      <td>49999</td>\n",
       "      <td>50000</td>\n",
       "      <td>49190</td>\n",
       "    </tr>\n",
       "    <tr>\n",
       "      <th>top</th>\n",
       "      <td>A potentially dangerous Request.Form value was...</td>\n",
       "      <td>consider the pd.Series s\\nimport pandas as pd\\...</td>\n",
       "      <td>&lt;angular&gt;&lt;typescript&gt;&lt;ionic-framework&gt;&lt;ionic2&gt;...</td>\n",
       "    </tr>\n",
       "    <tr>\n",
       "      <th>freq</th>\n",
       "      <td>2</td>\n",
       "      <td>1</td>\n",
       "      <td>24</td>\n",
       "    </tr>\n",
       "  </tbody>\n",
       "</table>\n",
       "</div>"
      ],
      "text/plain": [
       "                                                    Title  \\\n",
       "count                                               50000   \n",
       "unique                                              49999   \n",
       "top     A potentially dangerous Request.Form value was...   \n",
       "freq                                                    2   \n",
       "\n",
       "                                                     Body  \\\n",
       "count                                               50000   \n",
       "unique                                              50000   \n",
       "top     consider the pd.Series s\\nimport pandas as pd\\...   \n",
       "freq                                                    1   \n",
       "\n",
       "                                                     Tags  \n",
       "count                                               50000  \n",
       "unique                                              49190  \n",
       "top     <angular><typescript><ionic-framework><ionic2>...  \n",
       "freq                                                   24  "
      ]
     },
     "execution_count": 43,
     "metadata": {},
     "output_type": "execute_result"
    }
   ],
   "source": [
    "data.describe(include=object)"
   ]
  },
  {
   "cell_type": "code",
   "execution_count": 44,
   "metadata": {},
   "outputs": [
    {
     "data": {
      "text/plain": [
       "Id\n",
       "40101130     754\n",
       "662383       585\n",
       "662421      2111\n",
       "3520133     1307\n",
       "1396164     1165\n",
       "            ... \n",
       "3915827      195\n",
       "71419635    2821\n",
       "22050813     450\n",
       "53180817    1179\n",
       "53180854    1449\n",
       "Name: Body, Length: 50000, dtype: int64"
      ]
     },
     "execution_count": 44,
     "metadata": {},
     "output_type": "execute_result"
    }
   ],
   "source": [
    "data.Body.apply(lambda i : len(i))"
   ]
  },
  {
   "cell_type": "code",
   "execution_count": 45,
   "metadata": {},
   "outputs": [
    {
     "data": {
      "text/plain": [
       "(0.0, 10000.0)"
      ]
     },
     "execution_count": 45,
     "metadata": {},
     "output_type": "execute_result"
    },
    {
     "data": {
      "image/png": "[encoded data removed]",
      "text/plain": [
       "<Figure size 640x480 with 1 Axes>"
      ]
     },
     "metadata": {},
     "output_type": "display_data"
    }
   ],
   "source": [
    "tmp = data.Body.str.len()\n",
    "sns.distplot(tmp)\n",
    "plt.xlim(0, 10000)"
   ]
  },
  {
   "cell_type": "code",
   "execution_count": 46,
   "metadata": {},
   "outputs": [
    {
     "data": {
      "text/plain": [
       "<AxesSubplot: xlabel='Title', ylabel='Density'>"
      ]
     },
     "execution_count": 46,
     "metadata": {},
     "output_type": "execute_result"
    },
    {
     "data": {
      "image/png": "[encoded data removed]",
      "text/plain": [
       "<Figure size 640x480 with 1 Axes>"
      ]
     },
     "metadata": {},
     "output_type": "display_data"
    }
   ],
   "source": [
    "tmp = data.Title.str.len()\n",
    "sns.distplot(tmp)"
   ]
  },
  {
   "cell_type": "code",
   "execution_count": null,
   "metadata": {},
   "outputs": [],
   "source": []
  },
  {
   "cell_type": "code",
   "execution_count": 47,
   "metadata": {},
   "outputs": [
    {
     "data": {
      "text/plain": [
       "(50000, 3)"
      ]
     },
     "execution_count": 47,
     "metadata": {},
     "output_type": "execute_result"
    }
   ],
   "source": [
    "data.shape"
   ]
  },
  {
   "cell_type": "code",
   "execution_count": null,
   "metadata": {},
   "outputs": [],
   "source": []
  },
  {
   "cell_type": "code",
   "execution_count": 48,
   "metadata": {},
   "outputs": [
    {
     "name": "stdout",
     "output_type": "stream",
     "text": [
      "Unit testing jersey Restful Services\n",
      "I'm new to unit testing and I want to test some jersey services in a project. We are using Junit. Please guide me to write test cases in better way.\n",
      "CODE:\n",
      "    @GET\n",
      "    @Path(\"/getProducts/{companyID}/{companyName}/{date}\")\n",
      "    @Produces(MediaType.APPLICATION_JSON)\n",
      "    public Object getProducts(@PathParam(\"companyID\") final int companyID,\n",
      "            @PathParam(\"date\") final String date, @PathParam(\"companyName\") final String companyName)\n",
      "            throws IOException {\n",
      "        return productService.getProducts(companyID, companyName, date);\n",
      "    }\n",
      "\n",
      "Above mentioned service is working fine and I want to write junit test case to test above mentioned method. Above method will retrieve list of products (List<Product>) in JSON format. I would like to write test case to check response status and json format.\n",
      "NOTE: We are using Jersey 1.17.1 version.\n",
      "Help would be appreciated :)\n",
      "\n",
      "<java><json><unit-testing><rest><junit>\n",
      "\n",
      "------------------------------------------------------------------------------------------------------------------------\n",
      "\n",
      "Get device image scale (e.g. @1x, @2x and @3x)\n",
      "I have an app that uses a service to get some icons. \n",
      "With this service I can get any image of any size, so I've planned to get the 3 images (@1x, @2x and @3x) and store them on the BBDD, and then get the scale to use one of these three; or maybe get only the one according with the device scale.\n",
      "But the thing is, how can I get the device scale (@1x, @2x and @3x) programmatically? \n",
      "Both Obj-c and Swift are welcomed ;)\n",
      "\n",
      "<ios><image><swift><scale><retina-display>\n",
      "\n",
      "------------------------------------------------------------------------------------------------------------------------\n",
      "\n",
      "EJBCLIENT000025: No EJB receiver available for handling?\n",
      "I am trying to connect to a remote EJB on my local JBoss 7.2 from an executable Java application (local not on JBoss).\n",
      "But I get the following error/Exception :\n",
      "java.lang.IllegalStateException: EJBCLIENT000025: No EJB receiver available for handling [appName:xx-xx, moduleName:xx-xx-business-impl, distinctName:] combination for invocation context org.jboss.ejb.client.EJBClientInvocationContext@14bc02d\n",
      "    at org.jboss.ejb.client.EJBClientContext.requireEJBReceiver(EJBClientContext.java:693)\n",
      "    at org.jboss.ejb.client.ReceiverInterceptor.handleInvocation(ReceiverInterceptor.java:116)\n",
      "    at org.jboss.ejb.client.EJBClientInvocationContext.sendRequest(EJBClientInvocationContext.java:183)\n",
      "    at org.jboss.ejb.client.EJBInvocationHandler.doInvoke(EJBInvocationHandler.java:177)\n",
      "    at org.jboss.ejb.client.EJBInvocationHandler.doInvoke(EJBInvocationHandler.java:161)\n",
      "    at org.jboss.ejb.client.EJBInvocationHandler.invoke(EJBInvocationHandler.java:124)\n",
      "    at com.sun.proxy.$Proxy0.getX(Unknown Source)\n",
      "    at com...ris.client.PACSServiceTest.main(PACSServiceTest.java:71)\n",
      "\n",
      "The test remote bean TestService and its implementation is in an EAR.\n",
      "Server Classes:\n",
      "@Remote\n",
      "public interface TestService {\n",
      "\n",
      "    public int getX();\n",
      "\n",
      "}\n",
      "\n",
      "@Stateless\n",
      "@Remote(TestService.class)\n",
      "public class TestServiceBean implements TestService{\n",
      "\n",
      "    @Override\n",
      "    public int getX() {\n",
      "        // TODO Auto-generated method stub\n",
      "        return 1111;\n",
      "    }\n",
      "}\n",
      "\n",
      "Client code:\n",
      "final Hashtable jndiProperties = new Hashtable();\n",
      "jndiProperties.put(Context.URL_PKG_PREFIXES, \"org.jboss.ejb.client.naming\");\n",
      "jndiProperties.put(Context.INITIAL_CONTEXT_FACTORY, \"org.jboss.naming.remote.client.InitialContextFactory\");\n",
      "jndiProperties.put(Context.PROVIDER_URL,\"remote://localhost:4447\");\n",
      "\n",
      "String jndiName = \"ejb:orbis-dicom/orbis-dicom-business-impl//TestServiceBean!\"\n",
      "                  + TestService.class.getName();\n",
      "logger.info(jndiName);\n",
      "\n",
      "final Context context = new InitialContext(jndiProperties);\n",
      "TestService service = (TestService) context.lookup(jndiName);\n",
      "\n",
      "logger.info(service.getX());\n",
      "\n",
      "jboss-ejb-client.properties:\n",
      "remote.connectionprovider.create.options.org.xnio.Options.SSL_ENABLED=false\n",
      "remote.connections=default\n",
      "remote.connection.default.host=localhost\n",
      "remote.connection.default.port =4447\n",
      "remote.connection.default.connect.options.org.xnio.Options.SASL_POLICY_NOANONYMOUS=false\n",
      "remote.connection.default.username=xx\n",
      "remote.connection.default.password=x\n",
      "\n",
      "client dependencies: \n",
      "+- org.jboss.spec.javax.transaction:jboss-transaction-api_1.1_spec:jar:1.\n",
      "nal:runtime\n",
      " +- org.jboss.spec.javax.ejb:jboss-ejb-api_3.1_spec:jar:1.0.2.Final:runtim\n",
      "\n",
      " +- org.jboss:jboss-ejb-client:jar:1.0.16.Final:runtime\n",
      " |  +- org.jboss.marshalling:jboss-marshalling:jar:1.3.16.GA:runtime (vers\n",
      "naged from 1.3.15.GA)\n",
      " |  \\- org.jboss.logging:jboss-logging:jar:3.1.2.GA:runtime\n",
      " +- org.jboss.xnio:xnio-api:jar:3.0.7.GA:runtime\n",
      " +- org.jboss.xnio:xnio-nio:jar:3.0.7.GA:runtime\n",
      " +- org.jboss.remoting3:jboss-remoting:jar:3.2.14.GA:runtime\n",
      " +- org.jboss.sasl:jboss-sasl:jar:1.0.3.Final:runtime\n",
      " +- org.jboss.marshalling:jboss-marshalling-river:jar:1.3.16.GA:runtime\n",
      " +- org.jboss.as:jboss-as-naming:jar:7.2.0.Final:provided\n",
      " |  +- org.jboss:jboss-remote-naming:jar:1.0.5.Final:provided\n",
      " |  +- org.jboss.msc:jboss-msc:jar:1.0.4.GA:provided\n",
      " |  +- org.jboss.as:jboss-as-server:jar:7.2.0.Final:provided\n",
      " |  |  +- org.jboss.as:jboss-as-controller:jar:7.2.0.Final:provided\n",
      " |  |  |  +- org.jboss.as:jboss-as-controller-client:jar:7.2.0.Final:provi\n",
      "\n",
      " |  |  |  \\- org.jboss:staxmapper:jar:1.1.0.Final:provided\n",
      " |  |  +- org.jboss.as:jboss-as-domain-http-interface:jar:7.2.0.Final:prov\n",
      "\n",
      " |  |  |  +- org.jboss.as:jboss-as-domain-management:jar:7.2.0.Final:provi\n",
      "\n",
      " |  |  |  |  \\- org.jboss:jboss-common-core:jar:2.2.17.GA:provided\n",
      " |  |  |  \\- org.jboss.com.sun.httpserver:httpserver:jar:1.0.1.Final:provi\n",
      "\n",
      " |  |  +- org.jboss.as:jboss-as-deployment-repository:jar:7.2.0.Final:prov\n",
      "\n",
      " |  |  |  \\- org.jboss.as:jboss-as-protocol:jar:7.2.0.Final:provided\n",
      " |  |  +- org.jboss.as:jboss-as-platform-mbean:jar:7.2.0.Final:provided\n",
      " |  |  +- org.jboss.as:jboss-as-process-controller:jar:7.2.0.Final:provide\n",
      "\n",
      " |  |  |  \\- system:jdk-tools:jar:jdk:system\n",
      " |  |  +- org.jboss.as:jboss-as-remoting:jar:7.2.0.Final:provided\n",
      " |  |  |  \\- org.jboss.as:jboss-as-network:jar:7.2.0.Final:provided\n",
      " |  |  +- org.jboss.as:jboss-as-version:jar:7.2.0.Final:provided\n",
      " |  |  +- org.jboss:jandex:jar:1.0.3.Final:provided\n",
      " |  |  +- org.jboss:jboss-dmr:jar:1.1.6.Final:provided\n",
      " |  |  +- org.jboss.invocation:jboss-invocation:jar:1.1.1.Final:provided\n",
      " |  |  +- org.jboss.logmanager:jboss-logmanager:jar:1.4.0.Final:provided\n",
      " |  |  +- org.jboss.logmanager:log4j-jboss-logmanager:jar:1.0.1.Final:prov\n",
      "\n",
      " |  |  +- org.jboss.modules:jboss-modules:jar:1.2.0.CR1:provided\n",
      " |  |  +- org.jboss.stdio:jboss-stdio:jar:1.0.1.GA:provided\n",
      " |  |  +- org.jboss.threads:jboss-threads:jar:2.1.0.Final:provided\n",
      " |  |  \\- org.jboss:jboss-vfs:jar:3.1.0.Final:provided\n",
      " |  \\- org.jboss.as:jboss-as-build-config:jar:7.2.0.Final:provided\n",
      " \\- log4j:log4j:jar:1.2.16:compile\n",
      "\n",
      "Any ideas? Thanks in advance!\n",
      "\n",
      "<jakarta-ee><ejb><jboss7.x><rmi><remoteobject>\n",
      "\n",
      "------------------------------------------------------------------------------------------------------------------------\n",
      "\n"
     ]
    }
   ],
   "source": [
    "for idx, ser in data.sample(3).iterrows():\n",
    "      print(ser['Title'])\n",
    "      print(ser['Body'])\n",
    "      print(ser['Tags'])\n",
    "      print('')\n",
    "      print('----'*30)\n",
    "      print('')"
   ]
  },
  {
   "cell_type": "code",
   "execution_count": 49,
   "metadata": {},
   "outputs": [
    {
     "data": {
      "text/html": [
       "<div>\n",
       "<style scoped>\n",
       "    .dataframe tbody tr th:only-of-type {\n",
       "        vertical-align: middle;\n",
       "    }\n",
       "\n",
       "    .dataframe tbody tr th {\n",
       "        vertical-align: top;\n",
       "    }\n",
       "\n",
       "    .dataframe thead th {\n",
       "        text-align: right;\n",
       "    }\n",
       "</style>\n",
       "<table border=\"1\" class=\"dataframe\">\n",
       "  <thead>\n",
       "    <tr style=\"text-align: right;\">\n",
       "      <th></th>\n",
       "      <th>Title</th>\n",
       "      <th>Body</th>\n",
       "      <th>Tags</th>\n",
       "    </tr>\n",
       "    <tr>\n",
       "      <th>Id</th>\n",
       "      <th></th>\n",
       "      <th></th>\n",
       "      <th></th>\n",
       "    </tr>\n",
       "  </thead>\n",
       "  <tbody>\n",
       "    <tr>\n",
       "      <th>40101130</th>\n",
       "      <td>how do I calculate a rolling idxmax</td>\n",
       "      <td>consider the pd.Series s\\nimport pandas as pd\\...</td>\n",
       "      <td>&lt;python&gt;&lt;pandas&gt;&lt;numpy&gt;&lt;dataframe&gt;&lt;series&gt;</td>\n",
       "    </tr>\n",
       "    <tr>\n",
       "      <th>662383</th>\n",
       "      <td>Better techniques for trimming leading zeros i...</td>\n",
       "      <td>I've been using this for some time:\\nSUBSTRING...</td>\n",
       "      <td>&lt;sql&gt;&lt;sql-server&gt;&lt;sql-server-2005&gt;&lt;tsql&gt;&lt;string&gt;</td>\n",
       "    </tr>\n",
       "    <tr>\n",
       "      <th>662421</th>\n",
       "      <td>\"No X11 DISPLAY variable\" - what does it mean?</td>\n",
       "      <td>I am trying to install a Java application on m...</td>\n",
       "      <td>&lt;java&gt;&lt;linux&gt;&lt;variables&gt;&lt;x11&gt;&lt;headless&gt;</td>\n",
       "    </tr>\n",
       "    <tr>\n",
       "      <th>3520133</th>\n",
       "      <td>Object-Oriented Callbacks for C++?</td>\n",
       "      <td>Is there some library that allows me to easily...</td>\n",
       "      <td>&lt;c++&gt;&lt;oop&gt;&lt;callback&gt;&lt;pointer-to-member&gt;&lt;eiffel&gt;</td>\n",
       "    </tr>\n",
       "    <tr>\n",
       "      <th>1396164</th>\n",
       "      <td>Why doesn't .NET find the OpenSSL.NET dll?</td>\n",
       "      <td>EDIT (the whole question, it was too unclear)\\...</td>\n",
       "      <td>&lt;c#&gt;&lt;.net&gt;&lt;dll&gt;&lt;dllimport&gt;&lt;dllnotfoundexception&gt;</td>\n",
       "    </tr>\n",
       "  </tbody>\n",
       "</table>\n",
       "</div>"
      ],
      "text/plain": [
       "                                                      Title  \\\n",
       "Id                                                            \n",
       "40101130                how do I calculate a rolling idxmax   \n",
       "662383    Better techniques for trimming leading zeros i...   \n",
       "662421       \"No X11 DISPLAY variable\" - what does it mean?   \n",
       "3520133                  Object-Oriented Callbacks for C++?   \n",
       "1396164          Why doesn't .NET find the OpenSSL.NET dll?   \n",
       "\n",
       "                                                       Body  \\\n",
       "Id                                                            \n",
       "40101130  consider the pd.Series s\\nimport pandas as pd\\...   \n",
       "662383    I've been using this for some time:\\nSUBSTRING...   \n",
       "662421    I am trying to install a Java application on m...   \n",
       "3520133   Is there some library that allows me to easily...   \n",
       "1396164   EDIT (the whole question, it was too unclear)\\...   \n",
       "\n",
       "                                                      Tags  \n",
       "Id                                                          \n",
       "40101130        <python><pandas><numpy><dataframe><series>  \n",
       "662383    <sql><sql-server><sql-server-2005><tsql><string>  \n",
       "662421             <java><linux><variables><x11><headless>  \n",
       "3520133    <c++><oop><callback><pointer-to-member><eiffel>  \n",
       "1396164   <c#><.net><dll><dllimport><dllnotfoundexception>  "
      ]
     },
     "execution_count": 49,
     "metadata": {},
     "output_type": "execute_result"
    }
   ],
   "source": [
    "data.head()"
   ]
  },
  {
   "cell_type": "code",
   "execution_count": null,
   "metadata": {},
   "outputs": [],
   "source": []
  },
  {
   "cell_type": "code",
   "execution_count": null,
   "metadata": {},
   "outputs": [],
   "source": []
  },
  {
   "cell_type": "code",
   "execution_count": null,
   "metadata": {},
   "outputs": [],
   "source": []
  },
  {
   "cell_type": "code",
   "execution_count": 50,
   "metadata": {},
   "outputs": [],
   "source": [
    "def tokenizer_fct(sentence) :\n",
    "    # print(sentence)\n",
    "    sentence_clean = sentence.replace('-', ' ').replace('+', ' ').replace('/', ' ').replace('#', ' ')\n",
    "    word_tokens = word_tokenize(sentence_clean)\n",
    "    return word_tokens\n",
    "\n",
    "# Stop words\n",
    "stop_w = list(set(stopwords.words('english'))) + ['[', ']', ',', '.', ':', '?', '(', ')', \"'\", '\"', '!', ';', '``', \"''\", '...', '’', '“', '”']\n",
    "\n",
    "def stop_word_filter_fct(list_words) :\n",
    "    filtered_w = [w for w in list_words if not w in stop_w]\n",
    "    filtered_w2 = [w for w in filtered_w if len(w) > 2]\n",
    "    return filtered_w2\n",
    "\n",
    "# lower case et alpha\n",
    "def lower_start_fct(list_words) :\n",
    "    lw = [w.lower() for w in list_words if (not w.startswith(\"@\")) \n",
    "                                       and (not w.startswith(\"#\"))\n",
    "                                       and (not w.startswith(\"http\"))]\n",
    "    return lw\n",
    "\n",
    "# Lemmatizer (base d'un mot)\n",
    "def lemma_fct(list_words) :\n",
    "    lemmatizer = WordNetLemmatizer()\n",
    "    lem_w = [lemmatizer.lemmatize(w) for w in list_words]\n",
    "    return lem_w\n",
    "\n",
    "# Fonction de préparation du texte pour le bag of words avec lemmatization\n",
    "def transform_bow_lem_fct(desc_text) :\n",
    "    word_tokens = tokenizer_fct(desc_text)\n",
    "    sw = stop_word_filter_fct(word_tokens)\n",
    "    lw = lower_start_fct(sw)\n",
    "    lem_w = lemma_fct(lw)    \n",
    "    transf_desc_text = ' '.join(lem_w)\n",
    "    return transf_desc_text\n",
    "\n",
    "# Fonction de préparation du texte pour le Deep learning (USE et BERT)\n",
    "def transform_dl_fct(desc_text) :\n",
    "    word_tokens = tokenizer_fct(desc_text)\n",
    "#    sw = stop_word_filter_fct(word_tokens)\n",
    "    lw = lower_start_fct(word_tokens)\n",
    "    # lem_w = lemma_fct(lw)    \n",
    "    transf_desc_text = ' '.join(lw)\n",
    "    return transf_desc_text"
   ]
  },
  {
   "cell_type": "code",
   "execution_count": 51,
   "metadata": {},
   "outputs": [],
   "source": [
    "X = data['Body'].transform(lambda i : transform_bow_lem_fct(i))"
   ]
  },
  {
   "cell_type": "code",
   "execution_count": null,
   "metadata": {},
   "outputs": [],
   "source": []
  },
  {
   "cell_type": "code",
   "execution_count": null,
   "metadata": {},
   "outputs": [],
   "source": []
  },
  {
   "cell_type": "code",
   "execution_count": null,
   "metadata": {},
   "outputs": [],
   "source": [
    "df = pd.DataFrame(X)\n",
    "df['Title'] = data['Title'].apply(lambda i : transform_bow_lem_fct(i))\n",
    "df ['Tags'] = data['Tags']"
   ]
  },
  {
   "cell_type": "code",
   "execution_count": null,
   "metadata": {},
   "outputs": [
    {
     "data": {
      "text/html": [
       "<div>\n",
       "<style scoped>\n",
       "    .dataframe tbody tr th:only-of-type {\n",
       "        vertical-align: middle;\n",
       "    }\n",
       "\n",
       "    .dataframe tbody tr th {\n",
       "        vertical-align: top;\n",
       "    }\n",
       "\n",
       "    .dataframe thead th {\n",
       "        text-align: right;\n",
       "    }\n",
       "</style>\n",
       "<table border=\"1\" class=\"dataframe\">\n",
       "  <thead>\n",
       "    <tr style=\"text-align: right;\">\n",
       "      <th></th>\n",
       "      <th>Body</th>\n",
       "      <th>Title</th>\n",
       "      <th>Tags</th>\n",
       "    </tr>\n",
       "    <tr>\n",
       "      <th>Id</th>\n",
       "      <th></th>\n",
       "      <th></th>\n",
       "      <th></th>\n",
       "    </tr>\n",
       "  </thead>\n",
       "  <tbody>\n",
       "    <tr>\n",
       "      <th>40101130</th>\n",
       "      <td>consider pd.series import panda import numpy n...</td>\n",
       "      <td>calculate rolling idxmax</td>\n",
       "      <td>&lt;python&gt;&lt;pandas&gt;&lt;numpy&gt;&lt;dataframe&gt;&lt;series&gt;</td>\n",
       "    </tr>\n",
       "    <tr>\n",
       "      <th>662383</th>\n",
       "      <td>'ve using time substring str_col patindex str_...</td>\n",
       "      <td>better technique trimming leading zero sql server</td>\n",
       "      <td>&lt;sql&gt;&lt;sql-server&gt;&lt;sql-server-2005&gt;&lt;tsql&gt;&lt;string&gt;</td>\n",
       "    </tr>\n",
       "    <tr>\n",
       "      <th>662421</th>\n",
       "      <td>trying install java application linux machine ...</td>\n",
       "      <td>x11 display variable mean</td>\n",
       "      <td>&lt;java&gt;&lt;linux&gt;&lt;variables&gt;&lt;x11&gt;&lt;headless&gt;</td>\n",
       "    </tr>\n",
       "    <tr>\n",
       "      <th>3520133</th>\n",
       "      <td>library allows easily conveniently create obje...</td>\n",
       "      <td>object oriented callback</td>\n",
       "      <td>&lt;c++&gt;&lt;oop&gt;&lt;callback&gt;&lt;pointer-to-member&gt;&lt;eiffel&gt;</td>\n",
       "    </tr>\n",
       "    <tr>\n",
       "      <th>1396164</th>\n",
       "      <td>edit whole question unclear want use openssl.n...</td>\n",
       "      <td>why n't .net find openssl.net dll</td>\n",
       "      <td>&lt;c#&gt;&lt;.net&gt;&lt;dll&gt;&lt;dllimport&gt;&lt;dllnotfoundexception&gt;</td>\n",
       "    </tr>\n",
       "  </tbody>\n",
       "</table>\n",
       "</div>"
      ],
      "text/plain": [
       "                                                       Body  \\\n",
       "Id                                                            \n",
       "40101130  consider pd.series import panda import numpy n...   \n",
       "662383    've using time substring str_col patindex str_...   \n",
       "662421    trying install java application linux machine ...   \n",
       "3520133   library allows easily conveniently create obje...   \n",
       "1396164   edit whole question unclear want use openssl.n...   \n",
       "\n",
       "                                                      Title  \\\n",
       "Id                                                            \n",
       "40101130                           calculate rolling idxmax   \n",
       "662383    better technique trimming leading zero sql server   \n",
       "662421                            x11 display variable mean   \n",
       "3520133                            object oriented callback   \n",
       "1396164                   why n't .net find openssl.net dll   \n",
       "\n",
       "                                                      Tags  \n",
       "Id                                                          \n",
       "40101130        <python><pandas><numpy><dataframe><series>  \n",
       "662383    <sql><sql-server><sql-server-2005><tsql><string>  \n",
       "662421             <java><linux><variables><x11><headless>  \n",
       "3520133    <c++><oop><callback><pointer-to-member><eiffel>  \n",
       "1396164   <c#><.net><dll><dllimport><dllnotfoundexception>  "
      ]
     },
     "execution_count": 23,
     "metadata": {},
     "output_type": "execute_result"
    }
   ],
   "source": [
    "df.head()"
   ]
  },
  {
   "cell_type": "code",
   "execution_count": null,
   "metadata": {},
   "outputs": [],
   "source": []
  },
  {
   "cell_type": "code",
   "execution_count": null,
   "metadata": {},
   "outputs": [
    {
     "name": "stdout",
     "output_type": "stream",
     "text": [
      "<class 'pandas.core.frame.DataFrame'>\n",
      "Int64Index: 50000 entries, 40101130 to 53180854\n",
      "Data columns (total 3 columns):\n",
      " #   Column  Non-Null Count  Dtype \n",
      "---  ------  --------------  ----- \n",
      " 0   Body    50000 non-null  object\n",
      " 1   Title   50000 non-null  object\n",
      " 2   Tags    50000 non-null  object\n",
      "dtypes: object(3)\n",
      "memory usage: 1.5+ MB\n"
     ]
    }
   ],
   "source": [
    "df.info()"
   ]
  },
  {
   "cell_type": "code",
   "execution_count": null,
   "metadata": {},
   "outputs": [
    {
     "name": "stdout",
     "output_type": "stream",
     "text": [
      "how use avx pclmulqdq mac\n",
      "trying compile program us pclmulqdq instruction present new intel processor 've installed gcc 4.6 using macports compile program us intrinsic _mm_clmulepi64_si128 get var folder sfjmtgx5771_qbqnh4c9xclr0000gn cceawwhd.s:16 instruction pclmulqdq xmm0 xmm1' seems gcc able generate correct assembly code instrinsic assembler recognize instruction 've installed binutils using macports problem persists how know assembler gcc using the xcode assembler probably support binutils assembler\n",
      "<gcc><assembly><osx-lion><macports><avx>\n",
      "\n",
      "------------------------------------------------------------------------------------------------------------------------\n",
      "\n",
      "msbuild support template visual studio 2017 rtm\n",
      "visual studio 2015 using nuget package unofficial.microsoft.visualstudio.texttemplating.14.0.0 allows transform template directly msbuild whenever project built visual studio 2017 rtm however break build following message exception thrown running transformation code the process continue the following exception thrown system.io.filenotfoundexception could load file assembly 'microsoft.codeanalysis version=1.3.1.0 culture=neutral publickeytoken=31bf3856ad364e35 one dependency the system find file specified file name 'microsoft.codeanalysis version=1.3.1.0 culture=neutral publickeytoken=31bf3856ad364e35' this raised file unofficial.microsoft.visualstudio.texttemplating.targets 396,5 package guess error come trying use target 2017 build due mismatched environment n't know trace exact issue there updated package yet v15 see how transforms msbuild work 2017 will new package nuget use point going supported anymore\n",
      "<c#><visual-studio><msbuild><t4><visual-studio-2017>\n",
      "\n",
      "------------------------------------------------------------------------------------------------------------------------\n",
      "\n",
      "obj afnetworking 2.0 post request work\n",
      "want send data string file server using afnetworking 2.0 somehow data post request forumlar ist correct look like encoding serialization request missing server n't work uploaded data how set encoding serialization request assume url form parameter encoding set the doc state afhttprequestserializer serializer requestwithmethod post urlstring urlstring parameter parameter tried figure right with following xcode throughs warning manager.requestserializer afhttprequestserializer serializer requestwithmethod post urlstring urlstring parameter parameter cameraviewcontroller.m:105:31 incompatible pointer type assigning 'afhttprequestserializer 'nsmutableurlrequest below sourcecode cameraviewcontroller.h import uikit uikit.h interface cameraviewcontroller uiviewcontroller uiimagepickercontrollerdelegate uinavigationcontrollerdelegate property weak nonatomic iboutlet uiimageview imageview end cameraviewcontrollerview.m import cameraviewcontroller.h import afhttprequestoperationmanager.h interface cameraviewcontroller property nonatomic int photoistaken end implementation cameraviewcontroller removed unecessary code question void upload nslog uploader __function__ afhttprequestoperationmanager manager afhttprequestoperationmanager manager nsdictionary parameter latitude 8.444444 longitude 50.44444 location new york type claim nyc flag file uiimagejpegrepresentation self.imageview.image,0.2 nsstring urlstring 192.168.1.157 tapp laravel public foobar upload manager.requestserializer afhttprequestserializer serializer requestwithmethod post urlstring urlstring parameter parameter manager post urlstring parameter parameter success afhttprequestoperation operation responseobject nslog json responseobject failure afhttprequestoperation operation nserror error nslog error error operation.responsestring self dismissviewcontrolleranimated completion nil end\n",
      "<ios><objective-c><post><request><afnetworking-2>\n",
      "\n",
      "------------------------------------------------------------------------------------------------------------------------\n",
      "\n"
     ]
    }
   ],
   "source": [
    "for idx, ser in df.sample(3).iterrows():\n",
    "      print(ser['Title'])\n",
    "      print(ser['Body'])\n",
    "      print(ser['Tags'])\n",
    "      print('')\n",
    "      print('----'*30)\n",
    "      print('')"
   ]
  },
  {
   "cell_type": "code",
   "execution_count": null,
   "metadata": {},
   "outputs": [
    {
     "data": {
      "text/plain": [
       "(50000, 3)"
      ]
     },
     "execution_count": 26,
     "metadata": {},
     "output_type": "execute_result"
    }
   ],
   "source": [
    "df.shape"
   ]
  },
  {
   "cell_type": "code",
   "execution_count": null,
   "metadata": {},
   "outputs": [],
   "source": [
    "df['text'] = df['Title'] + '    ' + df['Body']"
   ]
  },
  {
   "cell_type": "code",
   "execution_count": null,
   "metadata": {},
   "outputs": [
    {
     "data": {
      "text/html": [
       "<div>\n",
       "<style scoped>\n",
       "    .dataframe tbody tr th:only-of-type {\n",
       "        vertical-align: middle;\n",
       "    }\n",
       "\n",
       "    .dataframe tbody tr th {\n",
       "        vertical-align: top;\n",
       "    }\n",
       "\n",
       "    .dataframe thead th {\n",
       "        text-align: right;\n",
       "    }\n",
       "</style>\n",
       "<table border=\"1\" class=\"dataframe\">\n",
       "  <thead>\n",
       "    <tr style=\"text-align: right;\">\n",
       "      <th></th>\n",
       "      <th>Body</th>\n",
       "      <th>Title</th>\n",
       "      <th>Tags</th>\n",
       "      <th>text</th>\n",
       "    </tr>\n",
       "    <tr>\n",
       "      <th>Id</th>\n",
       "      <th></th>\n",
       "      <th></th>\n",
       "      <th></th>\n",
       "      <th></th>\n",
       "    </tr>\n",
       "  </thead>\n",
       "  <tbody>\n",
       "    <tr>\n",
       "      <th>40101130</th>\n",
       "      <td>consider pd.series import panda import numpy n...</td>\n",
       "      <td>calculate rolling idxmax</td>\n",
       "      <td>&lt;python&gt;&lt;pandas&gt;&lt;numpy&gt;&lt;dataframe&gt;&lt;series&gt;</td>\n",
       "      <td>calculate rolling idxmax    consider pd.series...</td>\n",
       "    </tr>\n",
       "    <tr>\n",
       "      <th>662383</th>\n",
       "      <td>'ve using time substring str_col patindex str_...</td>\n",
       "      <td>better technique trimming leading zero sql server</td>\n",
       "      <td>&lt;sql&gt;&lt;sql-server&gt;&lt;sql-server-2005&gt;&lt;tsql&gt;&lt;string&gt;</td>\n",
       "      <td>better technique trimming leading zero sql ser...</td>\n",
       "    </tr>\n",
       "    <tr>\n",
       "      <th>662421</th>\n",
       "      <td>trying install java application linux machine ...</td>\n",
       "      <td>x11 display variable mean</td>\n",
       "      <td>&lt;java&gt;&lt;linux&gt;&lt;variables&gt;&lt;x11&gt;&lt;headless&gt;</td>\n",
       "      <td>x11 display variable mean    trying install ja...</td>\n",
       "    </tr>\n",
       "    <tr>\n",
       "      <th>3520133</th>\n",
       "      <td>library allows easily conveniently create obje...</td>\n",
       "      <td>object oriented callback</td>\n",
       "      <td>&lt;c++&gt;&lt;oop&gt;&lt;callback&gt;&lt;pointer-to-member&gt;&lt;eiffel&gt;</td>\n",
       "      <td>object oriented callback    library allows eas...</td>\n",
       "    </tr>\n",
       "    <tr>\n",
       "      <th>1396164</th>\n",
       "      <td>edit whole question unclear want use openssl.n...</td>\n",
       "      <td>why n't .net find openssl.net dll</td>\n",
       "      <td>&lt;c#&gt;&lt;.net&gt;&lt;dll&gt;&lt;dllimport&gt;&lt;dllnotfoundexception&gt;</td>\n",
       "      <td>why n't .net find openssl.net dll    edit whol...</td>\n",
       "    </tr>\n",
       "  </tbody>\n",
       "</table>\n",
       "</div>"
      ],
      "text/plain": [
       "                                                       Body  \\\n",
       "Id                                                            \n",
       "40101130  consider pd.series import panda import numpy n...   \n",
       "662383    've using time substring str_col patindex str_...   \n",
       "662421    trying install java application linux machine ...   \n",
       "3520133   library allows easily conveniently create obje...   \n",
       "1396164   edit whole question unclear want use openssl.n...   \n",
       "\n",
       "                                                      Title  \\\n",
       "Id                                                            \n",
       "40101130                           calculate rolling idxmax   \n",
       "662383    better technique trimming leading zero sql server   \n",
       "662421                            x11 display variable mean   \n",
       "3520133                            object oriented callback   \n",
       "1396164                   why n't .net find openssl.net dll   \n",
       "\n",
       "                                                      Tags  \\\n",
       "Id                                                           \n",
       "40101130        <python><pandas><numpy><dataframe><series>   \n",
       "662383    <sql><sql-server><sql-server-2005><tsql><string>   \n",
       "662421             <java><linux><variables><x11><headless>   \n",
       "3520133    <c++><oop><callback><pointer-to-member><eiffel>   \n",
       "1396164   <c#><.net><dll><dllimport><dllnotfoundexception>   \n",
       "\n",
       "                                                       text  \n",
       "Id                                                           \n",
       "40101130  calculate rolling idxmax    consider pd.series...  \n",
       "662383    better technique trimming leading zero sql ser...  \n",
       "662421    x11 display variable mean    trying install ja...  \n",
       "3520133   object oriented callback    library allows eas...  \n",
       "1396164   why n't .net find openssl.net dll    edit whol...  "
      ]
     },
     "execution_count": 28,
     "metadata": {},
     "output_type": "execute_result"
    }
   ],
   "source": [
    "df.head()"
   ]
  },
  {
   "cell_type": "code",
   "execution_count": null,
   "metadata": {},
   "outputs": [],
   "source": []
  },
  {
   "cell_type": "code",
   "execution_count": null,
   "metadata": {},
   "outputs": [
    {
     "data": {
      "text/html": [
       "<div>\n",
       "<style scoped>\n",
       "    .dataframe tbody tr th:only-of-type {\n",
       "        vertical-align: middle;\n",
       "    }\n",
       "\n",
       "    .dataframe tbody tr th {\n",
       "        vertical-align: top;\n",
       "    }\n",
       "\n",
       "    .dataframe thead th {\n",
       "        text-align: right;\n",
       "    }\n",
       "</style>\n",
       "<table border=\"1\" class=\"dataframe\">\n",
       "  <thead>\n",
       "    <tr style=\"text-align: right;\">\n",
       "      <th></th>\n",
       "      <th>Body</th>\n",
       "      <th>Title</th>\n",
       "      <th>Tags</th>\n",
       "      <th>text</th>\n",
       "    </tr>\n",
       "    <tr>\n",
       "      <th>Id</th>\n",
       "      <th></th>\n",
       "      <th></th>\n",
       "      <th></th>\n",
       "      <th></th>\n",
       "    </tr>\n",
       "  </thead>\n",
       "  <tbody>\n",
       "    <tr>\n",
       "      <th>40101130</th>\n",
       "      <td>consider pd.series import panda import numpy n...</td>\n",
       "      <td>calculate rolling idxmax</td>\n",
       "      <td>[python, pandas, numpy, dataframe, series]</td>\n",
       "      <td>calculate rolling idxmax    consider pd.series...</td>\n",
       "    </tr>\n",
       "    <tr>\n",
       "      <th>662383</th>\n",
       "      <td>'ve using time substring str_col patindex str_...</td>\n",
       "      <td>better technique trimming leading zero sql server</td>\n",
       "      <td>[sql, sql-server, sql-server-2005, tsql, string]</td>\n",
       "      <td>better technique trimming leading zero sql ser...</td>\n",
       "    </tr>\n",
       "    <tr>\n",
       "      <th>662421</th>\n",
       "      <td>trying install java application linux machine ...</td>\n",
       "      <td>x11 display variable mean</td>\n",
       "      <td>[java, linux, variables, x11, headless]</td>\n",
       "      <td>x11 display variable mean    trying install ja...</td>\n",
       "    </tr>\n",
       "    <tr>\n",
       "      <th>3520133</th>\n",
       "      <td>library allows easily conveniently create obje...</td>\n",
       "      <td>object oriented callback</td>\n",
       "      <td>[c++, oop, callback, pointer-to-member, eiffel]</td>\n",
       "      <td>object oriented callback    library allows eas...</td>\n",
       "    </tr>\n",
       "    <tr>\n",
       "      <th>1396164</th>\n",
       "      <td>edit whole question unclear want use openssl.n...</td>\n",
       "      <td>why n't .net find openssl.net dll</td>\n",
       "      <td>[c#, .net, dll, dllimport, dllnotfoundexception]</td>\n",
       "      <td>why n't .net find openssl.net dll    edit whol...</td>\n",
       "    </tr>\n",
       "  </tbody>\n",
       "</table>\n",
       "</div>"
      ],
      "text/plain": [
       "                                                       Body  \\\n",
       "Id                                                            \n",
       "40101130  consider pd.series import panda import numpy n...   \n",
       "662383    've using time substring str_col patindex str_...   \n",
       "662421    trying install java application linux machine ...   \n",
       "3520133   library allows easily conveniently create obje...   \n",
       "1396164   edit whole question unclear want use openssl.n...   \n",
       "\n",
       "                                                      Title  \\\n",
       "Id                                                            \n",
       "40101130                           calculate rolling idxmax   \n",
       "662383    better technique trimming leading zero sql server   \n",
       "662421                            x11 display variable mean   \n",
       "3520133                            object oriented callback   \n",
       "1396164                   why n't .net find openssl.net dll   \n",
       "\n",
       "                                                      Tags  \\\n",
       "Id                                                           \n",
       "40101130        [python, pandas, numpy, dataframe, series]   \n",
       "662383    [sql, sql-server, sql-server-2005, tsql, string]   \n",
       "662421             [java, linux, variables, x11, headless]   \n",
       "3520133    [c++, oop, callback, pointer-to-member, eiffel]   \n",
       "1396164   [c#, .net, dll, dllimport, dllnotfoundexception]   \n",
       "\n",
       "                                                       text  \n",
       "Id                                                           \n",
       "40101130  calculate rolling idxmax    consider pd.series...  \n",
       "662383    better technique trimming leading zero sql ser...  \n",
       "662421    x11 display variable mean    trying install ja...  \n",
       "3520133   object oriented callback    library allows eas...  \n",
       "1396164   why n't .net find openssl.net dll    edit whol...  "
      ]
     },
     "execution_count": 29,
     "metadata": {},
     "output_type": "execute_result"
    }
   ],
   "source": [
    "import re\n",
    "\n",
    "# Suppression des chevrons et extraction des tags\n",
    "df['Tags'] = df['Tags'].apply(lambda x: re.findall(r'<([^>]+)>', x))\n",
    "\n",
    "df.head()"
   ]
  },
  {
   "cell_type": "code",
   "execution_count": null,
   "metadata": {},
   "outputs": [
    {
     "ename": "ValueError",
     "evalue": "malformed node or string: ['python', 'pandas', 'numpy', 'dataframe', 'series']",
     "output_type": "error",
     "traceback": [
      "\u001b[0;31m---------------------------------------------------------------------------\u001b[0m",
      "\u001b[0;31mValueError\u001b[0m                                Traceback (most recent call last)",
      "Cell \u001b[0;32mIn[30], line 4\u001b[0m\n\u001b[1;32m      1\u001b[0m \u001b[39mimport\u001b[39;00m \u001b[39mast\u001b[39;00m\n\u001b[1;32m      3\u001b[0m \u001b[39m# Transformer les chaînes de caractères en listes de tags\u001b[39;00m\n\u001b[0;32m----> 4\u001b[0m df[\u001b[39m'\u001b[39m\u001b[39mTags\u001b[39m\u001b[39m'\u001b[39m] \u001b[39m=\u001b[39m df[\u001b[39m'\u001b[39;49m\u001b[39mTags\u001b[39;49m\u001b[39m'\u001b[39;49m]\u001b[39m.\u001b[39;49mapply(\u001b[39mlambda\u001b[39;49;00m x: ast\u001b[39m.\u001b[39;49mliteral_eval(x))\n\u001b[1;32m      5\u001b[0m df[\u001b[39m'\u001b[39m\u001b[39mTags\u001b[39m\u001b[39m'\u001b[39m]\u001b[39m.\u001b[39mhead()\n",
      "File \u001b[0;32m~/.local/lib/python3.10/site-packages/pandas/core/series.py:4771\u001b[0m, in \u001b[0;36mSeries.apply\u001b[0;34m(self, func, convert_dtype, args, **kwargs)\u001b[0m\n\u001b[1;32m   4661\u001b[0m \u001b[39mdef\u001b[39;00m \u001b[39mapply\u001b[39m(\n\u001b[1;32m   4662\u001b[0m     \u001b[39mself\u001b[39m,\n\u001b[1;32m   4663\u001b[0m     func: AggFuncType,\n\u001b[0;32m   (...)\u001b[0m\n\u001b[1;32m   4666\u001b[0m     \u001b[39m*\u001b[39m\u001b[39m*\u001b[39mkwargs,\n\u001b[1;32m   4667\u001b[0m ) \u001b[39m-\u001b[39m\u001b[39m>\u001b[39m DataFrame \u001b[39m|\u001b[39m Series:\n\u001b[1;32m   4668\u001b[0m     \u001b[39m\"\"\"\u001b[39;00m\n\u001b[1;32m   4669\u001b[0m \u001b[39m    Invoke function on values of Series.\u001b[39;00m\n\u001b[1;32m   4670\u001b[0m \n\u001b[0;32m   (...)\u001b[0m\n\u001b[1;32m   4769\u001b[0m \u001b[39m    dtype: float64\u001b[39;00m\n\u001b[1;32m   4770\u001b[0m \u001b[39m    \"\"\"\u001b[39;00m\n\u001b[0;32m-> 4771\u001b[0m     \u001b[39mreturn\u001b[39;00m SeriesApply(\u001b[39mself\u001b[39;49m, func, convert_dtype, args, kwargs)\u001b[39m.\u001b[39;49mapply()\n",
      "File \u001b[0;32m~/.local/lib/python3.10/site-packages/pandas/core/apply.py:1105\u001b[0m, in \u001b[0;36mSeriesApply.apply\u001b[0;34m(self)\u001b[0m\n\u001b[1;32m   1102\u001b[0m     \u001b[39mreturn\u001b[39;00m \u001b[39mself\u001b[39m\u001b[39m.\u001b[39mapply_str()\n\u001b[1;32m   1104\u001b[0m \u001b[39m# self.f is Callable\u001b[39;00m\n\u001b[0;32m-> 1105\u001b[0m \u001b[39mreturn\u001b[39;00m \u001b[39mself\u001b[39;49m\u001b[39m.\u001b[39;49mapply_standard()\n",
      "File \u001b[0;32m~/.local/lib/python3.10/site-packages/pandas/core/apply.py:1156\u001b[0m, in \u001b[0;36mSeriesApply.apply_standard\u001b[0;34m(self)\u001b[0m\n\u001b[1;32m   1154\u001b[0m     \u001b[39melse\u001b[39;00m:\n\u001b[1;32m   1155\u001b[0m         values \u001b[39m=\u001b[39m obj\u001b[39m.\u001b[39mastype(\u001b[39mobject\u001b[39m)\u001b[39m.\u001b[39m_values\n\u001b[0;32m-> 1156\u001b[0m         mapped \u001b[39m=\u001b[39m lib\u001b[39m.\u001b[39;49mmap_infer(\n\u001b[1;32m   1157\u001b[0m             values,\n\u001b[1;32m   1158\u001b[0m             f,\n\u001b[1;32m   1159\u001b[0m             convert\u001b[39m=\u001b[39;49m\u001b[39mself\u001b[39;49m\u001b[39m.\u001b[39;49mconvert_dtype,\n\u001b[1;32m   1160\u001b[0m         )\n\u001b[1;32m   1162\u001b[0m \u001b[39mif\u001b[39;00m \u001b[39mlen\u001b[39m(mapped) \u001b[39mand\u001b[39;00m \u001b[39misinstance\u001b[39m(mapped[\u001b[39m0\u001b[39m], ABCSeries):\n\u001b[1;32m   1163\u001b[0m     \u001b[39m# GH#43986 Need to do list(mapped) in order to get treated as nested\u001b[39;00m\n\u001b[1;32m   1164\u001b[0m     \u001b[39m#  See also GH#25959 regarding EA support\u001b[39;00m\n\u001b[1;32m   1165\u001b[0m     \u001b[39mreturn\u001b[39;00m obj\u001b[39m.\u001b[39m_constructor_expanddim(\u001b[39mlist\u001b[39m(mapped), index\u001b[39m=\u001b[39mobj\u001b[39m.\u001b[39mindex)\n",
      "File \u001b[0;32m~/.local/lib/python3.10/site-packages/pandas/_libs/lib.pyx:2918\u001b[0m, in \u001b[0;36mpandas._libs.lib.map_infer\u001b[0;34m()\u001b[0m\n",
      "Cell \u001b[0;32mIn[30], line 4\u001b[0m, in \u001b[0;36m<lambda>\u001b[0;34m(x)\u001b[0m\n\u001b[1;32m      1\u001b[0m \u001b[39mimport\u001b[39;00m \u001b[39mast\u001b[39;00m\n\u001b[1;32m      3\u001b[0m \u001b[39m# Transformer les chaînes de caractères en listes de tags\u001b[39;00m\n\u001b[0;32m----> 4\u001b[0m df[\u001b[39m'\u001b[39m\u001b[39mTags\u001b[39m\u001b[39m'\u001b[39m] \u001b[39m=\u001b[39m df[\u001b[39m'\u001b[39m\u001b[39mTags\u001b[39m\u001b[39m'\u001b[39m]\u001b[39m.\u001b[39mapply(\u001b[39mlambda\u001b[39;00m x: ast\u001b[39m.\u001b[39;49mliteral_eval(x))\n\u001b[1;32m      5\u001b[0m df[\u001b[39m'\u001b[39m\u001b[39mTags\u001b[39m\u001b[39m'\u001b[39m]\u001b[39m.\u001b[39mhead()\n",
      "File \u001b[0;32m/usr/lib/python3.10/ast.py:108\u001b[0m, in \u001b[0;36mliteral_eval\u001b[0;34m(node_or_string)\u001b[0m\n\u001b[1;32m    106\u001b[0m                 \u001b[39mreturn\u001b[39;00m left \u001b[39m-\u001b[39m right\n\u001b[1;32m    107\u001b[0m     \u001b[39mreturn\u001b[39;00m _convert_signed_num(node)\n\u001b[0;32m--> 108\u001b[0m \u001b[39mreturn\u001b[39;00m _convert(node_or_string)\n",
      "File \u001b[0;32m/usr/lib/python3.10/ast.py:107\u001b[0m, in \u001b[0;36mliteral_eval.<locals>._convert\u001b[0;34m(node)\u001b[0m\n\u001b[1;32m    105\u001b[0m         \u001b[39melse\u001b[39;00m:\n\u001b[1;32m    106\u001b[0m             \u001b[39mreturn\u001b[39;00m left \u001b[39m-\u001b[39m right\n\u001b[0;32m--> 107\u001b[0m \u001b[39mreturn\u001b[39;00m _convert_signed_num(node)\n",
      "File \u001b[0;32m/usr/lib/python3.10/ast.py:81\u001b[0m, in \u001b[0;36mliteral_eval.<locals>._convert_signed_num\u001b[0;34m(node)\u001b[0m\n\u001b[1;32m     79\u001b[0m     \u001b[39melse\u001b[39;00m:\n\u001b[1;32m     80\u001b[0m         \u001b[39mreturn\u001b[39;00m \u001b[39m-\u001b[39m operand\n\u001b[0;32m---> 81\u001b[0m \u001b[39mreturn\u001b[39;00m _convert_num(node)\n",
      "File \u001b[0;32m/usr/lib/python3.10/ast.py:72\u001b[0m, in \u001b[0;36mliteral_eval.<locals>._convert_num\u001b[0;34m(node)\u001b[0m\n\u001b[1;32m     70\u001b[0m \u001b[39mdef\u001b[39;00m \u001b[39m_convert_num\u001b[39m(node):\n\u001b[1;32m     71\u001b[0m     \u001b[39mif\u001b[39;00m \u001b[39mnot\u001b[39;00m \u001b[39misinstance\u001b[39m(node, Constant) \u001b[39mor\u001b[39;00m \u001b[39mtype\u001b[39m(node\u001b[39m.\u001b[39mvalue) \u001b[39mnot\u001b[39;00m \u001b[39min\u001b[39;00m (\u001b[39mint\u001b[39m, \u001b[39mfloat\u001b[39m, \u001b[39mcomplex\u001b[39m):\n\u001b[0;32m---> 72\u001b[0m         _raise_malformed_node(node)\n\u001b[1;32m     73\u001b[0m     \u001b[39mreturn\u001b[39;00m node\u001b[39m.\u001b[39mvalue\n",
      "File \u001b[0;32m/usr/lib/python3.10/ast.py:69\u001b[0m, in \u001b[0;36mliteral_eval.<locals>._raise_malformed_node\u001b[0;34m(node)\u001b[0m\n\u001b[1;32m     67\u001b[0m \u001b[39mif\u001b[39;00m lno \u001b[39m:=\u001b[39m \u001b[39mgetattr\u001b[39m(node, \u001b[39m'\u001b[39m\u001b[39mlineno\u001b[39m\u001b[39m'\u001b[39m, \u001b[39mNone\u001b[39;00m):\n\u001b[1;32m     68\u001b[0m     msg \u001b[39m+\u001b[39m\u001b[39m=\u001b[39m \u001b[39mf\u001b[39m\u001b[39m'\u001b[39m\u001b[39m on line \u001b[39m\u001b[39m{\u001b[39;00mlno\u001b[39m}\u001b[39;00m\u001b[39m'\u001b[39m\n\u001b[0;32m---> 69\u001b[0m \u001b[39mraise\u001b[39;00m \u001b[39mValueError\u001b[39;00m(msg \u001b[39m+\u001b[39m \u001b[39mf\u001b[39m\u001b[39m'\u001b[39m\u001b[39m: \u001b[39m\u001b[39m{\u001b[39;00mnode\u001b[39m!r}\u001b[39;00m\u001b[39m'\u001b[39m)\n",
      "\u001b[0;31mValueError\u001b[0m: malformed node or string: ['python', 'pandas', 'numpy', 'dataframe', 'series']"
     ]
    }
   ],
   "source": [
    "import ast\n",
    "\n",
    "# Transformer les chaînes de caractères en listes de tags\n",
    "df['Tags'] = df['Tags'].apply(lambda x: ast.literal_eval(x))\n",
    "df['Tags'].head()"
   ]
  },
  {
   "cell_type": "code",
   "execution_count": null,
   "metadata": {},
   "outputs": [
    {
     "data": {
      "text/plain": [
       "0          [python, pandas, numpy, dataframe, series]\n",
       "1    [sql, sql-server, sql-server-2005, tsql, string]\n",
       "2             [java, linux, variables, x11, headless]\n",
       "3     [c++, oop, callback, pointer-to-member, eiffel]\n",
       "4    [c#, .net, dll, dllimport, dllnotfoundexception]\n",
       "Name: Tags, dtype: object"
      ]
     },
     "metadata": {},
     "output_type": "display_data"
    }
   ],
   "source": [
    "import ast\n",
    "\n",
    "# Transformer les chaînes de caractères en listes de tags\n",
    "data_bow['Tags'] = data_bow['Tags'].apply(lambda x: ast.literal_eval(x))\n",
    "data_bow['Tags'].head()"
   ]
  },
  {
   "cell_type": "code",
   "execution_count": null,
   "metadata": {},
   "outputs": [],
   "source": []
  },
  {
   "cell_type": "code",
   "execution_count": null,
   "metadata": {},
   "outputs": [],
   "source": [
    "df.to_csv(\"data/data_bow.csv\")"
   ]
  }
 ],
 "metadata": {
  "kernelspec": {
   "display_name": "Python 3 (ipykernel)",
   "language": "python",
   "name": "python3"
  },
  "language_info": {
   "codemirror_mode": {
    "name": "ipython",
    "version": 3
   },
   "file_extension": ".py",
   "mimetype": "text/x-python",
   "name": "python",
   "nbconvert_exporter": "python",
   "pygments_lexer": "ipython3",
   "version": "3.10.7"
  },
  "vscode": {
   "interpreter": {
    "hash": "916dbcbb3f70747c44a77c7bcd40155683ae19c65e1c03b4aa3499c5328201f1"
   }
  }
 },
 "nbformat": 4,
 "nbformat_minor": 2
}
